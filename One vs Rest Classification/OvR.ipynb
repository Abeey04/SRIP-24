{
 "cells": [
  {
   "cell_type": "markdown",
   "execution_count": null,
   "id": "d57438ad-c0eb-4e3a-bb35-aef5bdfb94b3",
   "metadata": {},
   "outputs": [],
   "source": [
    "### Importing Libraries"
   ]
  },
  {
   "cell_type": "markdown",
   "execution_count": 1,
   "id": "07bb261f-bf21-42ef-874b-0da19933fe25",
   "metadata": {},
   "outputs": [],
   "source": [
    "import numpy as np\n",
    "import matplotlib.pyplot as plt\n",
    "import matplotlib.style as ms\n",
    "import librosa\n",
    "import librosa.display\n",
    "import IPython.display\n",
    "import os\n",
    "import cv2\n",
    "from os import listdir\n",
    "\n",
    "from sklearn.preprocessing import LabelEncoder\n",
    "from keras.models import Sequential\n",
    "from keras.layers import Conv2D, MaxPooling2D, Activation, Flatten, Dropout, Dense, BatchNormalization\n",
    "from keras import backend as K\n",
    "from keras.models import load_model\n",
    "from keras.models import Model\n",
    "from keras.utils import img_to_array, load_img\n",
    "from keras.utils import to_categorical\n",
    "import numpy as np\n",
    "import tensorflow as tf\n",
    "\n",
    "\n",
    "from sklearn.preprocessing import LabelBinarizer\n",
    "from sklearn.preprocessing import LabelEncoder\n",
    "from sklearn.preprocessing import OneHotEncoder\n",
    "from sklearn.model_selection import cross_val_score\n",
    "from sklearn.model_selection import KFold\n",
    "from sklearn.metrics import confusion_matrix, accuracy_score, precision_score, recall_score, f1_score, roc_curve, auc \n",
    "\n",
    "import matplotlib\n",
    "import gc\n",
    "matplotlib.use('Agg') # No pictures displayed \n",
    "import pandas as pd"
   ]
  },
  {
   "cell_type": "code",
   "execution_count": null,
   "id": "52b40a58-b9c8-4e08-955a-bd27cf26f652",
   "metadata": {},
   "outputs": [],
   "source": [
    "#### Initializing the LabelEncoder from sklearn.preprocessing to convert the labels into categorical encoding"
   ]
  },
  {
   "cell_type": "code",
   "execution_count": 2,
   "id": "76ff8d19-8e77-4f6d-a3d5-1f7ec199f683",
   "metadata": {},
   "outputs": [],
   "source": [
    "labelencoder = LabelEncoder()"
   ]
  },
  {
   "cell_type": "markdown",
   "id": "04ae8c9a-1235-4fd6-a130-4012368483d4",
   "metadata": {},
   "source": [
    "#### Defining the Convolutional Neural Network Model\n",
    "Here, the input shape is set to be (128,128) and 3 color channels. Further, the samples are loaded with a Batch size of 32, the Learning rate is set to 1e-3. Also, the model is compiled with the 'adam' optimizer and binary_crossentropy as the classification loss.\n",
    "\n",
    "The model consists of 3 Convolution layers followed by 3 Fully Connected dense layers as classifier. The Convolution layers have activation function as 'Relu' (Rectified Linear Unit). Morevoer the last dense layer possesses 'sigmoid' as activation function. Each Convolution layer consists of a Maxpooling2D and BatchNormalization followed by a Dropout layer(p = 0.25)"
   ]
  },
  {
   "cell_type": "code",
   "execution_count": 3,
   "id": "f462fcce-30ff-4950-902d-4af3dd1a0b5d",
   "metadata": {},
   "outputs": [],
   "source": [
    "def create_model():\n",
    "    num_rows = 128\n",
    "    num_columns = 128\n",
    "    num_channels = 3\n",
    "    inputShape = (num_rows, num_columns, num_channels)\n",
    "    chanDim = -1\n",
    "    LR = 1e-3\n",
    "    BATCH_SIZE = 32\n",
    "    if K.image_data_format() == \"channels_first\":\n",
    "        inputShape = (num_rows, num_columns, num_channels)\n",
    "        chanDim = 1\n",
    "\n",
    "    model = Sequential()\n",
    "    model.add(Conv2D(32, kernel_size=(3, 3), activation='relu', input_shape=inputShape))\n",
    "    model.add(BatchNormalization(axis=chanDim))\n",
    "    model.add(MaxPooling2D(pool_size=(2, 2)))\n",
    "    model.add(Dropout(0.25))\n",
    "    model.add(Conv2D(64, kernel_size=(3, 3), activation='relu'))\n",
    "    model.add(BatchNormalization(axis=chanDim))\n",
    "    model.add(MaxPooling2D(pool_size=(2, 2)))\n",
    "    model.add(Dropout(0.25))\n",
    "    model.add(Conv2D(128, kernel_size=(3, 3), activation='relu'))\n",
    "    model.add(BatchNormalization(axis=chanDim))\n",
    "    model.add(MaxPooling2D(pool_size=(2, 2)))\n",
    "    model.add(Dropout(0.25))\n",
    "    model.add(Flatten())\n",
    "    model.add(Dense(128, activation='relu'))\n",
    "    model.add(Dense(64, activation='relu'))\n",
    "    model.add(BatchNormalization())\n",
    "    model.add(Dense(1, activation='sigmoid'))\n",
    "    model.compile(loss = 'binary_crossentropy', optimizer = 'adam',metrics=[\"accuracy\"])\n",
    "    \n",
    "    return model\n"
   ]
  },
  {
   "cell_type": "code",
   "execution_count": 4,
   "id": "15a3ff27-ae51-4434-aa98-c6d5f2693b3d",
   "metadata": {},
   "outputs": [],
   "source": [
    "from sklearn.metrics import classification_report, precision_recall_fscore_support, confusion_matrix\n",
    "\n",
    "def compute_confusion_matrix(y_true, y_pred,normalize=False):\n",
    "    # Compute confusion matrix\n",
    "    cm = confusion_matrix(y_true, y_pred)\n",
    "    if normalize:\n",
    "        cm = cm.astype('float') / cm.sum(axis=1)[:, np.newaxis]\n",
    "    return cm"
   ]
  },
  {
   "cell_type": "code",
   "execution_count": 7,
   "id": "13a08695-9443-41db-ae53-df1485f6d1e9",
   "metadata": {},
   "outputs": [
    {
     "name": "stdout",
     "output_type": "stream",
     "text": [
      "['antelope', 'badger', 'bat', 'bear', 'bee', 'beetle', 'bison', 'boar', 'butterfly', 'cat', 'caterpillar', 'chimpanzee', 'cockroach', 'cow', 'coyote', 'crab', 'crow', 'deer', 'dog', 'dolphin', 'donkey', 'dragonfly', 'duck', 'eagle', 'elephant', 'flamingo', 'fly', 'fox', 'goat', 'goldfish', 'goose', 'gorilla', 'grasshopper', 'hamster', 'hare', 'hedgehog', 'hippopotamus', 'hornbill', 'horse', 'hummingbird', 'hyena', 'jellyfish', 'kangaroo', 'koala', 'ladybugs', 'leopard', 'lion', 'lizard', 'lobster', 'mosquito', 'moth', 'mouse', 'octopus', 'okapi', 'orangutan', 'otter', 'owl', 'ox', 'oyster', 'panda', 'parrot', 'pelecaniformes', 'penguin', 'pig', 'pigeon', 'porcupine', 'possum', 'raccoon', 'rat', 'reindeer', 'rhinoceros', 'sandpiper', 'seahorse', 'seal', 'shark', 'sheep', 'snake', 'sparrow', 'squid', 'squirrel', 'starfish', 'swan', 'tiger', 'turkey', 'turtle', 'whale', 'wolf', 'wombat', 'woodpecker', 'zebra']\n",
      "number of classes: 90\n"
     ]
    }
   ],
   "source": [
    "path = r\"C:\\Users\\rudra\\OneDrive\\Desktop\\animals\\OvR3\"\n",
    "animals = listdir(path)\n",
    "print(animals)\n",
    "print(\"number of classes:\",len(animals))"
   ]
  },
  {
   "cell_type": "code",
   "execution_count": 8,
   "id": "5ed564a5-aba9-49bd-af79-fc9023102bec",
   "metadata": {},
   "outputs": [
    {
     "name": "stdout",
     "output_type": "stream",
     "text": [
      "[INFO] Loading images ...\n",
      "[INFO] Processing antelope ...\n",
      "[INFO] Processing rest ...\n",
      "[INFO] image extract completed\n",
      "total train samples: \n",
      "3434\n",
      "[INFO] Training network for antelope fold 1...\n",
      "Epoch 1/20\n",
      "71/71 [==============================] - 12s 48ms/step - loss: 0.4788 - accuracy: 0.7940\n",
      "Epoch 2/20\n",
      "71/71 [==============================] - 4s 48ms/step - loss: 0.3833 - accuracy: 0.8290\n",
      "Epoch 3/20\n",
      "71/71 [==============================] - 3s 48ms/step - loss: 0.2968 - accuracy: 0.8733\n",
      "Epoch 4/20\n",
      "71/71 [==============================] - 3s 48ms/step - loss: 0.2073 - accuracy: 0.9189\n",
      "Epoch 5/20\n",
      "71/71 [==============================] - 3s 48ms/step - loss: 0.1480 - accuracy: 0.9477\n",
      "Epoch 6/20\n",
      "71/71 [==============================] - 3s 48ms/step - loss: 0.1326 - accuracy: 0.9508\n",
      "Epoch 7/20\n",
      "71/71 [==============================] - 3s 48ms/step - loss: 0.0981 - accuracy: 0.9672\n",
      "Epoch 8/20\n",
      "71/71 [==============================] - 3s 48ms/step - loss: 0.1060 - accuracy: 0.9606\n",
      "Epoch 9/20\n",
      "71/71 [==============================] - 3s 47ms/step - loss: 0.1226 - accuracy: 0.9561\n",
      "Epoch 10/20\n",
      "71/71 [==============================] - 3s 47ms/step - loss: 0.0546 - accuracy: 0.9818\n",
      "Epoch 11/20\n",
      "71/71 [==============================] - 3s 47ms/step - loss: 0.0435 - accuracy: 0.9858\n",
      "Epoch 12/20\n",
      "71/71 [==============================] - 3s 47ms/step - loss: 0.0480 - accuracy: 0.9814\n",
      "Epoch 13/20\n",
      "71/71 [==============================] - 3s 47ms/step - loss: 0.0357 - accuracy: 0.9885\n",
      "Epoch 14/20\n",
      "71/71 [==============================] - 3s 47ms/step - loss: 0.0271 - accuracy: 0.9929\n",
      "Epoch 15/20\n",
      "71/71 [==============================] - 3s 47ms/step - loss: 0.0228 - accuracy: 0.9942\n",
      "Epoch 16/20\n",
      "71/71 [==============================] - 3s 47ms/step - loss: 0.0216 - accuracy: 0.9956\n",
      "Epoch 17/20\n",
      "71/71 [==============================] - 3s 47ms/step - loss: 0.0164 - accuracy: 0.9969\n",
      "Epoch 18/20\n",
      "71/71 [==============================] - 3s 48ms/step - loss: 0.0093 - accuracy: 0.9987\n",
      "Epoch 19/20\n",
      "71/71 [==============================] - 3s 47ms/step - loss: 0.0115 - accuracy: 0.9973\n",
      "Epoch 20/20\n",
      "71/71 [==============================] - 3s 47ms/step - loss: 0.0123 - accuracy: 0.9965\n",
      "[INFO] Saving Model for antelope fold 1 ...\n",
      "36/36 [==============================] - 1s 11ms/step\n"
     ]
    },
    {
     "name": "stderr",
     "output_type": "stream",
     "text": [
      "C:\\Users\\rudra\\AppData\\Local\\Temp\\ipykernel_6820\\3249705492.py:34: UserWarning: FigureCanvasAgg is non-interactive, and thus cannot be shown\n",
      "  plt.show()\n"
     ]
    },
    {
     "name": "stdout",
     "output_type": "stream",
     "text": [
      "1/1 [==============================] - 0s 124ms/step\n"
     ]
    },
    {
     "name": "stderr",
     "output_type": "stream",
     "text": [
      "C:\\Users\\rudra\\AppData\\Local\\Temp\\ipykernel_6820\\1767733992.py:15: RuntimeWarning: invalid value encountered in divide\n",
      "  channel_image /= channel_image.std()\n",
      "C:\\Users\\rudra\\AppData\\Local\\Temp\\ipykernel_6820\\1767733992.py:18: RuntimeWarning: invalid value encountered in cast\n",
      "  channel_image = np.clip(channel_image, 0, 255).astype('uint8')\n"
     ]
    },
    {
     "name": "stdout",
     "output_type": "stream",
     "text": [
      "[INFO] Training network for antelope fold 2...\n",
      "Epoch 1/20\n",
      "71/71 [==============================] - 5s 49ms/step - loss: 0.4315 - accuracy: 0.8046\n",
      "Epoch 2/20\n",
      "71/71 [==============================] - 3s 48ms/step - loss: 0.3175 - accuracy: 0.8675\n",
      "Epoch 3/20\n",
      "71/71 [==============================] - 3s 47ms/step - loss: 0.2156 - accuracy: 0.9101\n",
      "Epoch 4/20\n",
      "71/71 [==============================] - 3s 47ms/step - loss: 0.1656 - accuracy: 0.9362\n",
      "Epoch 5/20\n",
      "71/71 [==============================] - 3s 47ms/step - loss: 0.1390 - accuracy: 0.9446\n",
      "Epoch 6/20\n",
      "71/71 [==============================] - 3s 47ms/step - loss: 0.1677 - accuracy: 0.9322\n",
      "Epoch 7/20\n",
      "71/71 [==============================] - 3s 47ms/step - loss: 0.1302 - accuracy: 0.9521\n",
      "Epoch 8/20\n",
      "71/71 [==============================] - 3s 47ms/step - loss: 0.0719 - accuracy: 0.9756\n",
      "Epoch 9/20\n",
      "71/71 [==============================] - 3s 47ms/step - loss: 0.0524 - accuracy: 0.9840\n",
      "Epoch 10/20\n",
      "71/71 [==============================] - 3s 47ms/step - loss: 0.0436 - accuracy: 0.9876\n",
      "Epoch 11/20\n",
      "71/71 [==============================] - 3s 47ms/step - loss: 0.0392 - accuracy: 0.9894\n",
      "Epoch 12/20\n",
      "71/71 [==============================] - 3s 47ms/step - loss: 0.0339 - accuracy: 0.9898\n",
      "Epoch 13/20\n",
      "71/71 [==============================] - 3s 47ms/step - loss: 0.0439 - accuracy: 0.9863\n",
      "Epoch 14/20\n",
      "71/71 [==============================] - 3s 47ms/step - loss: 0.0301 - accuracy: 0.9903\n",
      "Epoch 15/20\n",
      "71/71 [==============================] - 3s 47ms/step - loss: 0.0835 - accuracy: 0.9677\n",
      "Epoch 16/20\n",
      "71/71 [==============================] - 3s 48ms/step - loss: 0.0471 - accuracy: 0.9849\n",
      "Epoch 17/20\n",
      "71/71 [==============================] - 3s 48ms/step - loss: 0.0700 - accuracy: 0.9761\n",
      "Epoch 18/20\n",
      "71/71 [==============================] - 3s 47ms/step - loss: 0.0218 - accuracy: 0.9929\n",
      "Epoch 19/20\n",
      "71/71 [==============================] - 3s 47ms/step - loss: 0.0134 - accuracy: 0.9973\n",
      "Epoch 20/20\n",
      "71/71 [==============================] - 3s 47ms/step - loss: 0.0221 - accuracy: 0.9938\n",
      "[INFO] Saving Model for antelope fold 2 ...\n",
      "36/36 [==============================] - 0s 10ms/step\n"
     ]
    },
    {
     "name": "stderr",
     "output_type": "stream",
     "text": [
      "C:\\Users\\rudra\\AppData\\Local\\Temp\\ipykernel_6820\\3249705492.py:34: UserWarning: FigureCanvasAgg is non-interactive, and thus cannot be shown\n",
      "  plt.show()\n"
     ]
    },
    {
     "name": "stdout",
     "output_type": "stream",
     "text": [
      "1/1 [==============================] - 0s 78ms/step\n"
     ]
    },
    {
     "name": "stderr",
     "output_type": "stream",
     "text": [
      "C:\\Users\\rudra\\AppData\\Local\\Temp\\ipykernel_6820\\1767733992.py:15: RuntimeWarning: invalid value encountered in divide\n",
      "  channel_image /= channel_image.std()\n",
      "C:\\Users\\rudra\\AppData\\Local\\Temp\\ipykernel_6820\\1767733992.py:18: RuntimeWarning: invalid value encountered in cast\n",
      "  channel_image = np.clip(channel_image, 0, 255).astype('uint8')\n"
     ]
    },
    {
     "name": "stdout",
     "output_type": "stream",
     "text": [
      "[INFO] Training network for antelope fold 3...\n",
      "Epoch 1/20\n",
      "71/71 [==============================] - 4s 48ms/step - loss: 0.4359 - accuracy: 0.7975\n",
      "Epoch 2/20\n",
      "71/71 [==============================] - 4s 48ms/step - loss: 0.3057 - accuracy: 0.8702\n",
      "Epoch 3/20\n",
      "71/71 [==============================] - 3s 47ms/step - loss: 0.2477 - accuracy: 0.9048\n",
      "Epoch 4/20\n",
      "71/71 [==============================] - 3s 48ms/step - loss: 0.1730 - accuracy: 0.9336\n",
      "Epoch 5/20\n",
      "71/71 [==============================] - 3s 48ms/step - loss: 0.1328 - accuracy: 0.9526\n",
      "Epoch 6/20\n",
      "71/71 [==============================] - 3s 48ms/step - loss: 0.0910 - accuracy: 0.9699\n",
      "Epoch 7/20\n",
      "71/71 [==============================] - 3s 48ms/step - loss: 0.0853 - accuracy: 0.9703\n",
      "Epoch 8/20\n",
      "71/71 [==============================] - 3s 48ms/step - loss: 0.0712 - accuracy: 0.9721\n",
      "Epoch 9/20\n",
      "71/71 [==============================] - 3s 47ms/step - loss: 0.0550 - accuracy: 0.9827\n",
      "Epoch 10/20\n",
      "71/71 [==============================] - 3s 49ms/step - loss: 0.0525 - accuracy: 0.9823\n",
      "Epoch 11/20\n",
      "71/71 [==============================] - 4s 56ms/step - loss: 0.0574 - accuracy: 0.9810\n",
      "Epoch 12/20\n",
      "71/71 [==============================] - 3s 48ms/step - loss: 0.0205 - accuracy: 0.9938\n",
      "Epoch 13/20\n",
      "71/71 [==============================] - 3s 48ms/step - loss: 0.0231 - accuracy: 0.9942\n",
      "Epoch 14/20\n",
      "71/71 [==============================] - 3s 47ms/step - loss: 0.0415 - accuracy: 0.9858\n",
      "Epoch 15/20\n",
      "71/71 [==============================] - 3s 48ms/step - loss: 0.0171 - accuracy: 0.9956\n",
      "Epoch 16/20\n",
      "71/71 [==============================] - 3s 48ms/step - loss: 0.0103 - accuracy: 0.9969\n",
      "Epoch 17/20\n",
      "71/71 [==============================] - 3s 48ms/step - loss: 0.0132 - accuracy: 0.9965\n",
      "Epoch 18/20\n",
      "71/71 [==============================] - 3s 48ms/step - loss: 0.0347 - accuracy: 0.9867\n",
      "Epoch 19/20\n",
      "71/71 [==============================] - 3s 47ms/step - loss: 0.0834 - accuracy: 0.9672\n",
      "Epoch 20/20\n",
      "71/71 [==============================] - 3s 47ms/step - loss: 0.0409 - accuracy: 0.9889\n",
      "[INFO] Saving Model for antelope fold 3 ...\n",
      "36/36 [==============================] - 0s 10ms/step\n"
     ]
    },
    {
     "name": "stderr",
     "output_type": "stream",
     "text": [
      "C:\\Users\\rudra\\AppData\\Local\\Temp\\ipykernel_6820\\3249705492.py:34: UserWarning: FigureCanvasAgg is non-interactive, and thus cannot be shown\n",
      "  plt.show()\n"
     ]
    },
    {
     "name": "stdout",
     "output_type": "stream",
     "text": [
      "1/1 [==============================] - 0s 78ms/step\n"
     ]
    },
    {
     "name": "stderr",
     "output_type": "stream",
     "text": [
      "C:\\Users\\rudra\\AppData\\Local\\Temp\\ipykernel_6820\\1767733992.py:15: RuntimeWarning: invalid value encountered in divide\n",
      "  channel_image /= channel_image.std()\n",
      "C:\\Users\\rudra\\AppData\\Local\\Temp\\ipykernel_6820\\1767733992.py:18: RuntimeWarning: invalid value encountered in cast\n",
      "  channel_image = np.clip(channel_image, 0, 255).astype('uint8')\n"
     ]
    },
    {
     "name": "stdout",
     "output_type": "stream",
     "text": [
      "[INFO] Loading images ...\n",
      "[INFO] Processing badger ...\n",
      "[INFO] Processing rest ...\n",
      "[INFO] image extract completed\n",
      "total train samples: \n",
      "3413\n",
      "[INFO] Training network for badger fold 1...\n",
      "Epoch 1/20\n",
      "71/71 [==============================] - 5s 48ms/step - loss: 0.5351 - accuracy: 0.7368\n",
      "Epoch 2/20\n",
      "71/71 [==============================] - 3s 47ms/step - loss: 0.4112 - accuracy: 0.8145\n",
      "Epoch 3/20\n",
      "71/71 [==============================] - 3s 47ms/step - loss: 0.3064 - accuracy: 0.8658\n",
      "Epoch 4/20\n",
      "71/71 [==============================] - 3s 47ms/step - loss: 0.2402 - accuracy: 0.9086\n",
      "Epoch 5/20\n",
      "71/71 [==============================] - 3s 47ms/step - loss: 0.2146 - accuracy: 0.9135\n",
      "Epoch 6/20\n",
      "71/71 [==============================] - 3s 47ms/step - loss: 0.1254 - accuracy: 0.9541\n",
      "Epoch 7/20\n",
      "71/71 [==============================] - 3s 47ms/step - loss: 0.1248 - accuracy: 0.9603\n",
      "Epoch 8/20\n",
      "71/71 [==============================] - 3s 47ms/step - loss: 0.1465 - accuracy: 0.9456\n",
      "Epoch 9/20\n",
      "71/71 [==============================] - 3s 46ms/step - loss: 0.1287 - accuracy: 0.9536\n",
      "Epoch 10/20\n",
      "71/71 [==============================] - 3s 47ms/step - loss: 0.0504 - accuracy: 0.9897\n",
      "Epoch 11/20\n",
      "71/71 [==============================] - 3s 47ms/step - loss: 0.0333 - accuracy: 0.9929\n",
      "Epoch 12/20\n",
      "71/71 [==============================] - 3s 47ms/step - loss: 0.1202 - accuracy: 0.9563\n",
      "Epoch 13/20\n",
      "71/71 [==============================] - 3s 47ms/step - loss: 0.0425 - accuracy: 0.9911\n",
      "Epoch 14/20\n",
      "71/71 [==============================] - 3s 48ms/step - loss: 0.0205 - accuracy: 0.9969\n",
      "Epoch 15/20\n",
      "71/71 [==============================] - 3s 47ms/step - loss: 0.0306 - accuracy: 0.9902\n",
      "Epoch 16/20\n",
      "71/71 [==============================] - 3s 47ms/step - loss: 0.0206 - accuracy: 0.9960\n",
      "Epoch 17/20\n",
      "71/71 [==============================] - 4s 51ms/step - loss: 0.0692 - accuracy: 0.9741\n",
      "Epoch 18/20\n",
      "71/71 [==============================] - 3s 47ms/step - loss: 0.0345 - accuracy: 0.9897\n",
      "Epoch 19/20\n",
      "71/71 [==============================] - 3s 47ms/step - loss: 0.0179 - accuracy: 0.9964\n",
      "Epoch 20/20\n",
      "71/71 [==============================] - 3s 47ms/step - loss: 0.0192 - accuracy: 0.9942\n",
      "[INFO] Saving Model for badger fold 1 ...\n",
      "36/36 [==============================] - 0s 10ms/step\n"
     ]
    },
    {
     "name": "stderr",
     "output_type": "stream",
     "text": [
      "C:\\Users\\rudra\\AppData\\Local\\Temp\\ipykernel_6820\\3249705492.py:34: UserWarning: FigureCanvasAgg is non-interactive, and thus cannot be shown\n",
      "  plt.show()\n"
     ]
    },
    {
     "name": "stdout",
     "output_type": "stream",
     "text": [
      "1/1 [==============================] - 0s 94ms/step\n",
      "[INFO] Training network for badger fold 2...\n",
      "Epoch 1/20\n",
      "71/71 [==============================] - 4s 48ms/step - loss: 0.5224 - accuracy: 0.7355\n",
      "Epoch 2/20\n",
      "71/71 [==============================] - 3s 47ms/step - loss: 0.3415 - accuracy: 0.8462\n",
      "Epoch 3/20\n",
      "71/71 [==============================] - 3s 47ms/step - loss: 0.2506 - accuracy: 0.8934\n",
      "Epoch 4/20\n",
      "71/71 [==============================] - 3s 47ms/step - loss: 0.1587 - accuracy: 0.9452\n",
      "Epoch 5/20\n",
      "71/71 [==============================] - 3s 47ms/step - loss: 0.1180 - accuracy: 0.9568\n",
      "Epoch 6/20\n",
      "71/71 [==============================] - 3s 47ms/step - loss: 0.1187 - accuracy: 0.9585\n",
      "Epoch 7/20\n",
      "71/71 [==============================] - 3s 47ms/step - loss: 0.0801 - accuracy: 0.9741\n",
      "Epoch 8/20\n",
      "71/71 [==============================] - 3s 47ms/step - loss: 0.0404 - accuracy: 0.9893\n",
      "Epoch 9/20\n",
      "71/71 [==============================] - 3s 47ms/step - loss: 0.0394 - accuracy: 0.9915\n",
      "Epoch 10/20\n",
      "71/71 [==============================] - 3s 47ms/step - loss: 0.0925 - accuracy: 0.9639\n",
      "Epoch 11/20\n",
      "71/71 [==============================] - 3s 47ms/step - loss: 0.0464 - accuracy: 0.9848\n",
      "Epoch 12/20\n",
      "71/71 [==============================] - 3s 47ms/step - loss: 0.0760 - accuracy: 0.9697\n",
      "Epoch 13/20\n",
      "71/71 [==============================] - 3s 47ms/step - loss: 0.2297 - accuracy: 0.9086\n",
      "Epoch 14/20\n",
      "71/71 [==============================] - 3s 46ms/step - loss: 0.0860 - accuracy: 0.9675\n",
      "Epoch 15/20\n",
      "71/71 [==============================] - 3s 47ms/step - loss: 0.0386 - accuracy: 0.9902\n",
      "Epoch 16/20\n",
      "71/71 [==============================] - 3s 47ms/step - loss: 0.0539 - accuracy: 0.9844\n",
      "Epoch 17/20\n",
      "71/71 [==============================] - 3s 47ms/step - loss: 0.0398 - accuracy: 0.9866\n",
      "Epoch 18/20\n",
      "71/71 [==============================] - 3s 47ms/step - loss: 0.0378 - accuracy: 0.9889\n",
      "Epoch 19/20\n",
      "71/71 [==============================] - 3s 47ms/step - loss: 0.0190 - accuracy: 0.9973\n",
      "Epoch 20/20\n",
      "71/71 [==============================] - 3s 47ms/step - loss: 0.0189 - accuracy: 0.9951\n",
      "[INFO] Saving Model for badger fold 2 ...\n",
      "36/36 [==============================] - 0s 10ms/step\n"
     ]
    },
    {
     "name": "stderr",
     "output_type": "stream",
     "text": [
      "C:\\Users\\rudra\\AppData\\Local\\Temp\\ipykernel_6820\\3249705492.py:34: UserWarning: FigureCanvasAgg is non-interactive, and thus cannot be shown\n",
      "  plt.show()\n"
     ]
    },
    {
     "name": "stdout",
     "output_type": "stream",
     "text": [
      "1/1 [==============================] - 0s 78ms/step\n"
     ]
    },
    {
     "name": "stderr",
     "output_type": "stream",
     "text": [
      "C:\\Users\\rudra\\AppData\\Local\\Temp\\ipykernel_6820\\1767733992.py:15: RuntimeWarning: invalid value encountered in divide\n",
      "  channel_image /= channel_image.std()\n",
      "C:\\Users\\rudra\\AppData\\Local\\Temp\\ipykernel_6820\\1767733992.py:18: RuntimeWarning: invalid value encountered in cast\n",
      "  channel_image = np.clip(channel_image, 0, 255).astype('uint8')\n"
     ]
    },
    {
     "name": "stdout",
     "output_type": "stream",
     "text": [
      "[INFO] Training network for badger fold 3...\n",
      "Epoch 1/20\n",
      "71/71 [==============================] - 4s 48ms/step - loss: 0.4932 - accuracy: 0.7641\n",
      "Epoch 2/20\n",
      "71/71 [==============================] - 4s 48ms/step - loss: 0.3731 - accuracy: 0.8275\n",
      "Epoch 3/20\n",
      "71/71 [==============================] - 3s 47ms/step - loss: 0.3035 - accuracy: 0.8788\n",
      "Epoch 4/20\n",
      "71/71 [==============================] - 3s 47ms/step - loss: 0.2632 - accuracy: 0.8980\n",
      "Epoch 5/20\n",
      "71/71 [==============================] - 3s 47ms/step - loss: 0.1690 - accuracy: 0.9394\n",
      "Epoch 6/20\n",
      "71/71 [==============================] - 3s 48ms/step - loss: 0.1162 - accuracy: 0.9559\n",
      "Epoch 7/20\n",
      "71/71 [==============================] - 3s 48ms/step - loss: 0.0828 - accuracy: 0.9755\n",
      "Epoch 8/20\n",
      "71/71 [==============================] - 3s 48ms/step - loss: 0.1714 - accuracy: 0.9291\n",
      "Epoch 9/20\n",
      "71/71 [==============================] - 4s 50ms/step - loss: 0.0715 - accuracy: 0.9791\n",
      "Epoch 10/20\n",
      "71/71 [==============================] - 3s 47ms/step - loss: 0.0361 - accuracy: 0.9906\n",
      "Epoch 11/20\n",
      "71/71 [==============================] - 3s 47ms/step - loss: 0.0316 - accuracy: 0.9920\n",
      "Epoch 12/20\n",
      "71/71 [==============================] - 4s 52ms/step - loss: 0.0843 - accuracy: 0.9697\n",
      "Epoch 13/20\n",
      "71/71 [==============================] - 4s 56ms/step - loss: 0.0439 - accuracy: 0.9871\n",
      "Epoch 14/20\n",
      "71/71 [==============================] - 3s 47ms/step - loss: 0.0677 - accuracy: 0.9759\n",
      "Epoch 15/20\n",
      "71/71 [==============================] - 3s 47ms/step - loss: 0.0656 - accuracy: 0.9773\n",
      "Epoch 16/20\n",
      "71/71 [==============================] - 3s 47ms/step - loss: 0.0324 - accuracy: 0.9889\n",
      "Epoch 17/20\n",
      "71/71 [==============================] - 3s 47ms/step - loss: 0.0257 - accuracy: 0.9920\n",
      "Epoch 18/20\n",
      "71/71 [==============================] - 3s 47ms/step - loss: 0.0200 - accuracy: 0.9947\n",
      "Epoch 19/20\n",
      "71/71 [==============================] - 3s 47ms/step - loss: 0.0200 - accuracy: 0.9947\n",
      "Epoch 20/20\n",
      "71/71 [==============================] - 3s 47ms/step - loss: 0.0134 - accuracy: 0.9973\n",
      "[INFO] Saving Model for badger fold 3 ...\n",
      "36/36 [==============================] - 1s 11ms/step\n"
     ]
    },
    {
     "name": "stderr",
     "output_type": "stream",
     "text": [
      "C:\\Users\\rudra\\AppData\\Local\\Temp\\ipykernel_6820\\3249705492.py:34: UserWarning: FigureCanvasAgg is non-interactive, and thus cannot be shown\n",
      "  plt.show()\n"
     ]
    },
    {
     "name": "stdout",
     "output_type": "stream",
     "text": [
      "1/1 [==============================] - 0s 57ms/step\n"
     ]
    },
    {
     "name": "stderr",
     "output_type": "stream",
     "text": [
      "C:\\Users\\rudra\\AppData\\Local\\Temp\\ipykernel_6820\\1767733992.py:15: RuntimeWarning: invalid value encountered in divide\n",
      "  channel_image /= channel_image.std()\n",
      "C:\\Users\\rudra\\AppData\\Local\\Temp\\ipykernel_6820\\1767733992.py:18: RuntimeWarning: invalid value encountered in cast\n",
      "  channel_image = np.clip(channel_image, 0, 255).astype('uint8')\n"
     ]
    },
    {
     "name": "stdout",
     "output_type": "stream",
     "text": [
      "[INFO] Loading images ...\n",
      "[INFO] Processing bat ...\n",
      "[INFO] Processing rest ...\n",
      "[INFO] image extract completed\n",
      "total train samples: \n",
      "3415\n",
      "[INFO] Training network for bat fold 1...\n",
      "Epoch 1/20\n",
      "71/71 [==============================] - 5s 48ms/step - loss: 0.5239 - accuracy: 0.7487\n",
      "Epoch 2/20\n",
      "71/71 [==============================] - 3s 47ms/step - loss: 0.3698 - accuracy: 0.8316\n",
      "Epoch 3/20\n",
      "71/71 [==============================] - 3s 48ms/step - loss: 0.2737 - accuracy: 0.8881\n",
      "Epoch 4/20\n",
      "71/71 [==============================] - 3s 47ms/step - loss: 0.2835 - accuracy: 0.8815\n",
      "Epoch 5/20\n",
      "71/71 [==============================] - 3s 47ms/step - loss: 0.2114 - accuracy: 0.9198\n",
      "Epoch 6/20\n",
      "71/71 [==============================] - 3s 47ms/step - loss: 0.2827 - accuracy: 0.8913\n",
      "Epoch 7/20\n",
      "71/71 [==============================] - 3s 47ms/step - loss: 0.1542 - accuracy: 0.9474\n",
      "Epoch 8/20\n",
      "71/71 [==============================] - 3s 47ms/step - loss: 0.0822 - accuracy: 0.9755\n",
      "Epoch 9/20\n",
      "71/71 [==============================] - 3s 47ms/step - loss: 0.0634 - accuracy: 0.9804\n",
      "Epoch 10/20\n",
      "71/71 [==============================] - 3s 47ms/step - loss: 0.0555 - accuracy: 0.9822\n",
      "Epoch 11/20\n",
      "71/71 [==============================] - 3s 47ms/step - loss: 0.0332 - accuracy: 0.9902\n",
      "Epoch 12/20\n",
      "71/71 [==============================] - 3s 47ms/step - loss: 0.0504 - accuracy: 0.9848\n",
      "Epoch 13/20\n",
      "71/71 [==============================] - 3s 46ms/step - loss: 0.0388 - accuracy: 0.9871\n",
      "Epoch 14/20\n",
      "71/71 [==============================] - 3s 47ms/step - loss: 0.0350 - accuracy: 0.9880\n",
      "Epoch 15/20\n",
      "71/71 [==============================] - 3s 47ms/step - loss: 0.0667 - accuracy: 0.9759\n",
      "Epoch 16/20\n",
      "71/71 [==============================] - 3s 47ms/step - loss: 0.0778 - accuracy: 0.9715\n",
      "Epoch 17/20\n",
      "71/71 [==============================] - 3s 46ms/step - loss: 0.0749 - accuracy: 0.9706\n",
      "Epoch 18/20\n",
      "71/71 [==============================] - 3s 46ms/step - loss: 0.0328 - accuracy: 0.9880\n",
      "Epoch 19/20\n",
      "71/71 [==============================] - 3s 46ms/step - loss: 0.0462 - accuracy: 0.9835\n",
      "Epoch 20/20\n",
      "71/71 [==============================] - 3s 46ms/step - loss: 0.1088 - accuracy: 0.9648\n",
      "[INFO] Saving Model for bat fold 1 ...\n",
      "36/36 [==============================] - 0s 10ms/step\n"
     ]
    },
    {
     "name": "stderr",
     "output_type": "stream",
     "text": [
      "C:\\Users\\rudra\\AppData\\Local\\Temp\\ipykernel_6820\\3249705492.py:34: UserWarning: FigureCanvasAgg is non-interactive, and thus cannot be shown\n",
      "  plt.show()\n"
     ]
    },
    {
     "name": "stdout",
     "output_type": "stream",
     "text": [
      "1/1 [==============================] - 0s 80ms/step\n"
     ]
    },
    {
     "name": "stderr",
     "output_type": "stream",
     "text": [
      "C:\\Users\\rudra\\AppData\\Local\\Temp\\ipykernel_6820\\1767733992.py:15: RuntimeWarning: invalid value encountered in divide\n",
      "  channel_image /= channel_image.std()\n",
      "C:\\Users\\rudra\\AppData\\Local\\Temp\\ipykernel_6820\\1767733992.py:18: RuntimeWarning: invalid value encountered in cast\n",
      "  channel_image = np.clip(channel_image, 0, 255).astype('uint8')\n"
     ]
    },
    {
     "name": "stdout",
     "output_type": "stream",
     "text": [
      "[INFO] Training network for bat fold 2...\n",
      "Epoch 1/20\n",
      "71/71 [==============================] - 4s 48ms/step - loss: 0.5184 - accuracy: 0.7368\n",
      "Epoch 2/20\n",
      "71/71 [==============================] - 3s 48ms/step - loss: 0.3809 - accuracy: 0.8307\n",
      "Epoch 3/20\n",
      "71/71 [==============================] - 3s 47ms/step - loss: 0.2765 - accuracy: 0.8873\n",
      "Epoch 4/20\n",
      "71/71 [==============================] - 3s 47ms/step - loss: 0.1967 - accuracy: 0.9198\n",
      "Epoch 5/20\n",
      "71/71 [==============================] - 3s 47ms/step - loss: 0.1315 - accuracy: 0.9528\n",
      "Epoch 6/20\n",
      "71/71 [==============================] - 3s 47ms/step - loss: 0.1046 - accuracy: 0.9572\n",
      "Epoch 7/20\n",
      "71/71 [==============================] - 3s 47ms/step - loss: 0.0689 - accuracy: 0.9777\n",
      "Epoch 8/20\n",
      "71/71 [==============================] - 3s 47ms/step - loss: 0.0773 - accuracy: 0.9737\n",
      "Epoch 9/20\n",
      "71/71 [==============================] - 3s 47ms/step - loss: 0.0707 - accuracy: 0.9733\n",
      "Epoch 10/20\n",
      "71/71 [==============================] - 3s 46ms/step - loss: 0.0299 - accuracy: 0.9933\n",
      "Epoch 11/20\n",
      "71/71 [==============================] - 3s 47ms/step - loss: 0.0201 - accuracy: 0.9955\n",
      "Epoch 12/20\n",
      "71/71 [==============================] - 3s 47ms/step - loss: 0.0388 - accuracy: 0.9893\n",
      "Epoch 13/20\n",
      "71/71 [==============================] - 3s 47ms/step - loss: 0.0440 - accuracy: 0.9835\n",
      "Epoch 14/20\n",
      "71/71 [==============================] - 3s 46ms/step - loss: 0.0710 - accuracy: 0.9742\n",
      "Epoch 15/20\n",
      "71/71 [==============================] - 3s 46ms/step - loss: 0.1185 - accuracy: 0.9590\n",
      "Epoch 16/20\n",
      "71/71 [==============================] - 3s 46ms/step - loss: 0.0458 - accuracy: 0.9853\n",
      "Epoch 17/20\n",
      "71/71 [==============================] - 3s 46ms/step - loss: 0.0494 - accuracy: 0.9826\n",
      "Epoch 18/20\n",
      "71/71 [==============================] - 3s 46ms/step - loss: 0.0249 - accuracy: 0.9911\n",
      "Epoch 19/20\n",
      "71/71 [==============================] - 3s 46ms/step - loss: 0.0177 - accuracy: 0.9951\n",
      "Epoch 20/20\n",
      "71/71 [==============================] - 3s 46ms/step - loss: 0.0470 - accuracy: 0.9831\n",
      "[INFO] Saving Model for bat fold 2 ...\n",
      "36/36 [==============================] - 1s 10ms/step\n"
     ]
    },
    {
     "name": "stderr",
     "output_type": "stream",
     "text": [
      "C:\\Users\\rudra\\AppData\\Local\\Temp\\ipykernel_6820\\3249705492.py:34: UserWarning: FigureCanvasAgg is non-interactive, and thus cannot be shown\n",
      "  plt.show()\n"
     ]
    },
    {
     "name": "stdout",
     "output_type": "stream",
     "text": [
      "1/1 [==============================] - 0s 73ms/step\n"
     ]
    },
    {
     "name": "stderr",
     "output_type": "stream",
     "text": [
      "C:\\Users\\rudra\\AppData\\Local\\Temp\\ipykernel_6820\\1767733992.py:15: RuntimeWarning: invalid value encountered in divide\n",
      "  channel_image /= channel_image.std()\n",
      "C:\\Users\\rudra\\AppData\\Local\\Temp\\ipykernel_6820\\1767733992.py:18: RuntimeWarning: invalid value encountered in cast\n",
      "  channel_image = np.clip(channel_image, 0, 255).astype('uint8')\n"
     ]
    },
    {
     "name": "stdout",
     "output_type": "stream",
     "text": [
      "[INFO] Training network for bat fold 3...\n",
      "Epoch 1/20\n",
      "71/71 [==============================] - 4s 47ms/step - loss: 0.4971 - accuracy: 0.7509\n",
      "Epoch 2/20\n",
      "71/71 [==============================] - 3s 47ms/step - loss: 0.3828 - accuracy: 0.8169\n",
      "Epoch 3/20\n",
      "71/71 [==============================] - 3s 47ms/step - loss: 0.3434 - accuracy: 0.8419\n",
      "Epoch 4/20\n",
      "71/71 [==============================] - 3s 47ms/step - loss: 0.2635 - accuracy: 0.8913\n",
      "Epoch 5/20\n",
      "71/71 [==============================] - 3s 47ms/step - loss: 0.1933 - accuracy: 0.9207\n",
      "Epoch 6/20\n",
      "71/71 [==============================] - 3s 47ms/step - loss: 0.1299 - accuracy: 0.9532\n",
      "Epoch 7/20\n",
      "71/71 [==============================] - 3s 47ms/step - loss: 0.1491 - accuracy: 0.9434\n",
      "Epoch 8/20\n",
      "71/71 [==============================] - 3s 47ms/step - loss: 0.0846 - accuracy: 0.9746\n",
      "Epoch 9/20\n",
      "71/71 [==============================] - 3s 47ms/step - loss: 0.0621 - accuracy: 0.9795\n",
      "Epoch 10/20\n",
      "71/71 [==============================] - 3s 47ms/step - loss: 0.0621 - accuracy: 0.9751\n",
      "Epoch 11/20\n",
      "71/71 [==============================] - 3s 47ms/step - loss: 0.0831 - accuracy: 0.9724\n",
      "Epoch 12/20\n",
      "71/71 [==============================] - 3s 46ms/step - loss: 0.0389 - accuracy: 0.9893\n",
      "Epoch 13/20\n",
      "71/71 [==============================] - 3s 46ms/step - loss: 0.1400 - accuracy: 0.9479\n",
      "Epoch 14/20\n",
      "71/71 [==============================] - 3s 47ms/step - loss: 0.1007 - accuracy: 0.9590\n",
      "Epoch 15/20\n",
      "71/71 [==============================] - 3s 47ms/step - loss: 0.0616 - accuracy: 0.9782\n",
      "Epoch 16/20\n",
      "71/71 [==============================] - 3s 47ms/step - loss: 0.0496 - accuracy: 0.9822\n",
      "Epoch 17/20\n",
      "71/71 [==============================] - 3s 47ms/step - loss: 0.0143 - accuracy: 0.9987\n",
      "Epoch 18/20\n",
      "71/71 [==============================] - 3s 47ms/step - loss: 0.0202 - accuracy: 0.9933\n",
      "Epoch 19/20\n",
      "71/71 [==============================] - 3s 47ms/step - loss: 0.0297 - accuracy: 0.9875\n",
      "Epoch 20/20\n",
      "71/71 [==============================] - 3s 48ms/step - loss: 0.0293 - accuracy: 0.9906\n",
      "[INFO] Saving Model for bat fold 3 ...\n",
      "36/36 [==============================] - 0s 10ms/step\n"
     ]
    },
    {
     "name": "stderr",
     "output_type": "stream",
     "text": [
      "C:\\Users\\rudra\\AppData\\Local\\Temp\\ipykernel_6820\\3249705492.py:34: UserWarning: FigureCanvasAgg is non-interactive, and thus cannot be shown\n",
      "  plt.show()\n"
     ]
    },
    {
     "name": "stdout",
     "output_type": "stream",
     "text": [
      "1/1 [==============================] - 0s 94ms/step\n"
     ]
    },
    {
     "name": "stderr",
     "output_type": "stream",
     "text": [
      "C:\\Users\\rudra\\AppData\\Local\\Temp\\ipykernel_6820\\1767733992.py:15: RuntimeWarning: invalid value encountered in divide\n",
      "  channel_image /= channel_image.std()\n",
      "C:\\Users\\rudra\\AppData\\Local\\Temp\\ipykernel_6820\\1767733992.py:18: RuntimeWarning: invalid value encountered in cast\n",
      "  channel_image = np.clip(channel_image, 0, 255).astype('uint8')\n"
     ]
    },
    {
     "name": "stdout",
     "output_type": "stream",
     "text": [
      "[INFO] Loading images ...\n",
      "[INFO] Processing bear ...\n",
      "[INFO] Processing rest ...\n",
      "[INFO] image extract completed\n",
      "total train samples: \n",
      "3414\n",
      "[INFO] Training network for bear fold 1...\n",
      "Epoch 1/20\n",
      "71/71 [==============================] - 5s 48ms/step - loss: 0.4924 - accuracy: 0.7628\n",
      "Epoch 2/20\n",
      "71/71 [==============================] - 3s 47ms/step - loss: 0.3762 - accuracy: 0.8405\n",
      "Epoch 3/20\n",
      "71/71 [==============================] - 3s 46ms/step - loss: 0.2814 - accuracy: 0.8864\n",
      "Epoch 4/20\n",
      "71/71 [==============================] - 3s 47ms/step - loss: 0.1848 - accuracy: 0.9349\n",
      "Epoch 5/20\n",
      "71/71 [==============================] - 3s 46ms/step - loss: 0.1580 - accuracy: 0.9421\n",
      "Epoch 6/20\n",
      "71/71 [==============================] - 3s 46ms/step - loss: 0.1898 - accuracy: 0.9256\n",
      "Epoch 7/20\n",
      "71/71 [==============================] - 3s 47ms/step - loss: 0.1374 - accuracy: 0.9501\n",
      "Epoch 8/20\n",
      "71/71 [==============================] - 3s 48ms/step - loss: 0.1262 - accuracy: 0.9541\n",
      "Epoch 9/20\n",
      "71/71 [==============================] - 3s 47ms/step - loss: 0.0985 - accuracy: 0.9652\n",
      "Epoch 10/20\n",
      "71/71 [==============================] - 3s 47ms/step - loss: 0.1182 - accuracy: 0.9603\n",
      "Epoch 11/20\n",
      "71/71 [==============================] - 3s 46ms/step - loss: 0.0556 - accuracy: 0.9840\n",
      "Epoch 12/20\n",
      "71/71 [==============================] - 3s 46ms/step - loss: 0.0275 - accuracy: 0.9947\n",
      "Epoch 13/20\n",
      "71/71 [==============================] - 3s 46ms/step - loss: 0.0166 - accuracy: 0.9973\n",
      "Epoch 14/20\n",
      "71/71 [==============================] - 3s 47ms/step - loss: 0.0180 - accuracy: 0.9951\n",
      "Epoch 15/20\n",
      "71/71 [==============================] - 3s 46ms/step - loss: 0.0667 - accuracy: 0.9782\n",
      "Epoch 16/20\n",
      "71/71 [==============================] - 3s 46ms/step - loss: 0.0384 - accuracy: 0.9875\n",
      "Epoch 17/20\n",
      "71/71 [==============================] - 3s 46ms/step - loss: 0.0300 - accuracy: 0.9893\n",
      "Epoch 18/20\n",
      "71/71 [==============================] - 3s 47ms/step - loss: 0.0163 - accuracy: 0.9964\n",
      "Epoch 19/20\n",
      "71/71 [==============================] - 3s 46ms/step - loss: 0.0098 - accuracy: 0.9987\n",
      "Epoch 20/20\n",
      "71/71 [==============================] - 3s 47ms/step - loss: 0.0111 - accuracy: 0.9973\n",
      "[INFO] Saving Model for bear fold 1 ...\n",
      "36/36 [==============================] - 1s 12ms/step\n"
     ]
    },
    {
     "name": "stderr",
     "output_type": "stream",
     "text": [
      "C:\\Users\\rudra\\AppData\\Local\\Temp\\ipykernel_6820\\3249705492.py:34: UserWarning: FigureCanvasAgg is non-interactive, and thus cannot be shown\n",
      "  plt.show()\n"
     ]
    },
    {
     "name": "stdout",
     "output_type": "stream",
     "text": [
      "1/1 [==============================] - 0s 95ms/step\n"
     ]
    },
    {
     "name": "stderr",
     "output_type": "stream",
     "text": [
      "C:\\Users\\rudra\\AppData\\Local\\Temp\\ipykernel_6820\\1767733992.py:15: RuntimeWarning: invalid value encountered in divide\n",
      "  channel_image /= channel_image.std()\n",
      "C:\\Users\\rudra\\AppData\\Local\\Temp\\ipykernel_6820\\1767733992.py:18: RuntimeWarning: invalid value encountered in cast\n",
      "  channel_image = np.clip(channel_image, 0, 255).astype('uint8')\n",
      "C:\\Users\\rudra\\AppData\\Local\\Temp\\ipykernel_6820\\1767733992.py:21: RuntimeWarning: More than 20 figures have been opened. Figures created through the pyplot interface (`matplotlib.pyplot.figure`) are retained until explicitly closed and may consume too much memory. (To control this warning, see the rcParam `figure.max_open_warning`). Consider using `matplotlib.pyplot.close()`.\n",
      "  plt.figure(figsize=(scale * display_grid.shape[1], scale * display_grid.shape[0]))\n"
     ]
    },
    {
     "name": "stdout",
     "output_type": "stream",
     "text": [
      "[INFO] Training network for bear fold 2...\n",
      "Epoch 1/20\n",
      "71/71 [==============================] - 4s 47ms/step - loss: 0.5423 - accuracy: 0.7364\n",
      "Epoch 2/20\n",
      "71/71 [==============================] - 3s 47ms/step - loss: 0.4356 - accuracy: 0.7999\n",
      "Epoch 3/20\n",
      "71/71 [==============================] - 3s 46ms/step - loss: 0.3975 - accuracy: 0.8093\n",
      "Epoch 4/20\n",
      "71/71 [==============================] - 3s 47ms/step - loss: 0.2810 - accuracy: 0.8859\n",
      "Epoch 5/20\n",
      "71/71 [==============================] - 3s 46ms/step - loss: 0.2045 - accuracy: 0.9234\n",
      "Epoch 6/20\n",
      "71/71 [==============================] - 3s 47ms/step - loss: 0.1598 - accuracy: 0.9416\n",
      "Epoch 7/20\n",
      "71/71 [==============================] - 3s 46ms/step - loss: 0.1810 - accuracy: 0.9349\n",
      "Epoch 8/20\n",
      "71/71 [==============================] - 3s 47ms/step - loss: 0.1150 - accuracy: 0.9612\n",
      "Epoch 9/20\n",
      "71/71 [==============================] - 3s 46ms/step - loss: 0.0899 - accuracy: 0.9684\n",
      "Epoch 10/20\n",
      "71/71 [==============================] - 3s 47ms/step - loss: 0.0906 - accuracy: 0.9719\n",
      "Epoch 11/20\n",
      "71/71 [==============================] - 3s 47ms/step - loss: 0.0413 - accuracy: 0.9889\n",
      "Epoch 12/20\n",
      "71/71 [==============================] - 3s 47ms/step - loss: 0.0513 - accuracy: 0.9831\n",
      "Epoch 13/20\n",
      "71/71 [==============================] - 3s 47ms/step - loss: 0.0593 - accuracy: 0.9804\n",
      "Epoch 14/20\n",
      "71/71 [==============================] - 3s 47ms/step - loss: 0.0599 - accuracy: 0.9808\n",
      "Epoch 15/20\n",
      "71/71 [==============================] - 3s 46ms/step - loss: 0.0254 - accuracy: 0.9938\n",
      "Epoch 16/20\n",
      "71/71 [==============================] - 3s 46ms/step - loss: 0.0456 - accuracy: 0.9853\n",
      "Epoch 17/20\n",
      "71/71 [==============================] - 3s 46ms/step - loss: 0.0380 - accuracy: 0.9884\n",
      "Epoch 18/20\n",
      "71/71 [==============================] - 3s 47ms/step - loss: 0.0490 - accuracy: 0.9813\n",
      "Epoch 19/20\n",
      "71/71 [==============================] - 3s 46ms/step - loss: 0.0288 - accuracy: 0.9906\n",
      "Epoch 20/20\n",
      "71/71 [==============================] - 3s 47ms/step - loss: 0.0474 - accuracy: 0.9831\n",
      "[INFO] Saving Model for bear fold 2 ...\n",
      "36/36 [==============================] - 0s 10ms/step\n"
     ]
    },
    {
     "name": "stderr",
     "output_type": "stream",
     "text": [
      "C:\\Users\\rudra\\AppData\\Local\\Temp\\ipykernel_6820\\3249705492.py:34: UserWarning: FigureCanvasAgg is non-interactive, and thus cannot be shown\n",
      "  plt.show()\n"
     ]
    },
    {
     "name": "stdout",
     "output_type": "stream",
     "text": [
      "1/1 [==============================] - 0s 78ms/step\n"
     ]
    },
    {
     "name": "stderr",
     "output_type": "stream",
     "text": [
      "C:\\Users\\rudra\\AppData\\Local\\Temp\\ipykernel_6820\\1767733992.py:15: RuntimeWarning: invalid value encountered in divide\n",
      "  channel_image /= channel_image.std()\n",
      "C:\\Users\\rudra\\AppData\\Local\\Temp\\ipykernel_6820\\1767733992.py:18: RuntimeWarning: invalid value encountered in cast\n",
      "  channel_image = np.clip(channel_image, 0, 255).astype('uint8')\n"
     ]
    },
    {
     "name": "stdout",
     "output_type": "stream",
     "text": [
      "[INFO] Training network for bear fold 3...\n",
      "Epoch 1/20\n",
      "71/71 [==============================] - 4s 49ms/step - loss: 0.5426 - accuracy: 0.7368\n",
      "Epoch 2/20\n",
      "71/71 [==============================] - 3s 47ms/step - loss: 0.4256 - accuracy: 0.8106\n",
      "Epoch 3/20\n",
      "71/71 [==============================] - 3s 47ms/step - loss: 0.3149 - accuracy: 0.8703\n",
      "Epoch 4/20\n",
      "71/71 [==============================] - 3s 47ms/step - loss: 0.2262 - accuracy: 0.9042\n",
      "Epoch 5/20\n",
      "71/71 [==============================] - 3s 47ms/step - loss: 0.1584 - accuracy: 0.9403\n",
      "Epoch 6/20\n",
      "71/71 [==============================] - 3s 47ms/step - loss: 0.1443 - accuracy: 0.9483\n",
      "Epoch 7/20\n",
      "71/71 [==============================] - 3s 47ms/step - loss: 0.1226 - accuracy: 0.9577\n",
      "Epoch 8/20\n",
      "71/71 [==============================] - 3s 47ms/step - loss: 0.1114 - accuracy: 0.9643\n",
      "Epoch 9/20\n",
      "71/71 [==============================] - 3s 47ms/step - loss: 0.0652 - accuracy: 0.9791\n",
      "Epoch 10/20\n",
      "71/71 [==============================] - 3s 47ms/step - loss: 0.0349 - accuracy: 0.9933\n",
      "Epoch 11/20\n",
      "71/71 [==============================] - 3s 47ms/step - loss: 0.1277 - accuracy: 0.9554\n",
      "Epoch 12/20\n",
      "71/71 [==============================] - 3s 47ms/step - loss: 0.0578 - accuracy: 0.9795\n",
      "Epoch 13/20\n",
      "71/71 [==============================] - 3s 47ms/step - loss: 0.0386 - accuracy: 0.9906\n",
      "Epoch 14/20\n",
      "71/71 [==============================] - 3s 47ms/step - loss: 0.0675 - accuracy: 0.9759\n",
      "Epoch 15/20\n",
      "71/71 [==============================] - 3s 47ms/step - loss: 0.0422 - accuracy: 0.9875\n",
      "Epoch 16/20\n",
      "71/71 [==============================] - 3s 47ms/step - loss: 0.0211 - accuracy: 0.9951\n",
      "Epoch 17/20\n",
      "71/71 [==============================] - 3s 47ms/step - loss: 0.0569 - accuracy: 0.9844\n",
      "Epoch 18/20\n",
      "71/71 [==============================] - 3s 47ms/step - loss: 0.0427 - accuracy: 0.9857\n",
      "Epoch 19/20\n",
      "71/71 [==============================] - 3s 47ms/step - loss: 0.0210 - accuracy: 0.9951\n",
      "Epoch 20/20\n",
      "71/71 [==============================] - 3s 47ms/step - loss: 0.0380 - accuracy: 0.9857\n",
      "[INFO] Saving Model for bear fold 3 ...\n",
      "36/36 [==============================] - 1s 10ms/step\n"
     ]
    },
    {
     "name": "stderr",
     "output_type": "stream",
     "text": [
      "C:\\Users\\rudra\\AppData\\Local\\Temp\\ipykernel_6820\\3249705492.py:34: UserWarning: FigureCanvasAgg is non-interactive, and thus cannot be shown\n",
      "  plt.show()\n"
     ]
    },
    {
     "name": "stdout",
     "output_type": "stream",
     "text": [
      "1/1 [==============================] - 0s 81ms/step\n"
     ]
    },
    {
     "name": "stderr",
     "output_type": "stream",
     "text": [
      "C:\\Users\\rudra\\AppData\\Local\\Temp\\ipykernel_6820\\1767733992.py:15: RuntimeWarning: invalid value encountered in divide\n",
      "  channel_image /= channel_image.std()\n",
      "C:\\Users\\rudra\\AppData\\Local\\Temp\\ipykernel_6820\\1767733992.py:18: RuntimeWarning: invalid value encountered in cast\n",
      "  channel_image = np.clip(channel_image, 0, 255).astype('uint8')\n"
     ]
    },
    {
     "name": "stdout",
     "output_type": "stream",
     "text": [
      "[INFO] Loading images ...\n",
      "[INFO] Processing bee ...\n",
      "[INFO] Processing rest ...\n",
      "[INFO] image extract completed\n",
      "total train samples: \n",
      "3431\n",
      "[INFO] Training network for bee fold 1...\n",
      "Epoch 1/20\n",
      "71/71 [==============================] - 5s 50ms/step - loss: 0.5134 - accuracy: 0.7377\n",
      "Epoch 2/20\n",
      "71/71 [==============================] - 4s 50ms/step - loss: 0.3282 - accuracy: 0.8492\n",
      "Epoch 3/20\n",
      "71/71 [==============================] - 3s 48ms/step - loss: 0.2222 - accuracy: 0.9188\n",
      "Epoch 4/20\n",
      "71/71 [==============================] - 3s 48ms/step - loss: 0.1749 - accuracy: 0.9330\n",
      "Epoch 5/20\n",
      "71/71 [==============================] - 3s 49ms/step - loss: 0.1009 - accuracy: 0.9663\n",
      "Epoch 6/20\n",
      "71/71 [==============================] - 3s 49ms/step - loss: 0.0790 - accuracy: 0.9729\n",
      "Epoch 7/20\n",
      "71/71 [==============================] - 3s 49ms/step - loss: 0.0537 - accuracy: 0.9800\n",
      "Epoch 8/20\n",
      "71/71 [==============================] - 3s 47ms/step - loss: 0.0531 - accuracy: 0.9814\n",
      "Epoch 9/20\n",
      "71/71 [==============================] - 3s 47ms/step - loss: 0.0323 - accuracy: 0.9920\n",
      "Epoch 10/20\n",
      "71/71 [==============================] - 3s 48ms/step - loss: 0.0570 - accuracy: 0.9805\n",
      "Epoch 11/20\n",
      "71/71 [==============================] - 3s 47ms/step - loss: 0.0547 - accuracy: 0.9800\n",
      "Epoch 12/20\n",
      "71/71 [==============================] - 3s 47ms/step - loss: 0.0215 - accuracy: 0.9938\n",
      "Epoch 13/20\n",
      "71/71 [==============================] - 3s 47ms/step - loss: 0.0327 - accuracy: 0.9885\n",
      "Epoch 14/20\n",
      "71/71 [==============================] - 3s 49ms/step - loss: 0.0119 - accuracy: 0.9982\n",
      "Epoch 15/20\n",
      "71/71 [==============================] - 4s 50ms/step - loss: 0.0113 - accuracy: 0.9965\n",
      "Epoch 16/20\n",
      "71/71 [==============================] - 3s 47ms/step - loss: 0.0271 - accuracy: 0.9911\n",
      "Epoch 17/20\n",
      "71/71 [==============================] - 3s 48ms/step - loss: 0.0587 - accuracy: 0.9761\n",
      "Epoch 18/20\n",
      "71/71 [==============================] - 4s 50ms/step - loss: 0.0218 - accuracy: 0.9911\n",
      "Epoch 19/20\n",
      "71/71 [==============================] - 3s 49ms/step - loss: 0.0154 - accuracy: 0.9956\n",
      "Epoch 20/20\n",
      "71/71 [==============================] - 3s 49ms/step - loss: 0.0063 - accuracy: 0.9991\n",
      "[INFO] Saving Model for bee fold 1 ...\n",
      "36/36 [==============================] - 1s 11ms/step\n"
     ]
    },
    {
     "name": "stderr",
     "output_type": "stream",
     "text": [
      "C:\\Users\\rudra\\AppData\\Local\\Temp\\ipykernel_6820\\3249705492.py:34: UserWarning: FigureCanvasAgg is non-interactive, and thus cannot be shown\n",
      "  plt.show()\n"
     ]
    },
    {
     "name": "stdout",
     "output_type": "stream",
     "text": [
      "1/1 [==============================] - 0s 136ms/step\n"
     ]
    },
    {
     "name": "stderr",
     "output_type": "stream",
     "text": [
      "C:\\Users\\rudra\\AppData\\Local\\Temp\\ipykernel_6820\\1767733992.py:15: RuntimeWarning: invalid value encountered in divide\n",
      "  channel_image /= channel_image.std()\n",
      "C:\\Users\\rudra\\AppData\\Local\\Temp\\ipykernel_6820\\1767733992.py:18: RuntimeWarning: invalid value encountered in cast\n",
      "  channel_image = np.clip(channel_image, 0, 255).astype('uint8')\n"
     ]
    },
    {
     "name": "stdout",
     "output_type": "stream",
     "text": [
      "[INFO] Training network for bee fold 2...\n",
      "Epoch 1/20\n",
      "71/71 [==============================] - 5s 50ms/step - loss: 0.5112 - accuracy: 0.7447\n",
      "Epoch 2/20\n",
      "71/71 [==============================] - 3s 49ms/step - loss: 0.3255 - accuracy: 0.8559\n",
      "Epoch 3/20\n",
      "71/71 [==============================] - 3s 49ms/step - loss: 0.2284 - accuracy: 0.9135\n",
      "Epoch 4/20\n",
      "71/71 [==============================] - 3s 49ms/step - loss: 0.1509 - accuracy: 0.9463\n",
      "Epoch 5/20\n",
      "71/71 [==============================] - 3s 47ms/step - loss: 0.1138 - accuracy: 0.9596\n",
      "Epoch 6/20\n",
      "71/71 [==============================] - 3s 46ms/step - loss: 0.0834 - accuracy: 0.9712\n",
      "Epoch 7/20\n",
      "71/71 [==============================] - 3s 47ms/step - loss: 0.0983 - accuracy: 0.9650\n",
      "Epoch 8/20\n",
      "71/71 [==============================] - 3s 46ms/step - loss: 0.0416 - accuracy: 0.9889\n",
      "Epoch 9/20\n",
      "71/71 [==============================] - 3s 47ms/step - loss: 0.0411 - accuracy: 0.9863\n",
      "Epoch 10/20\n",
      "71/71 [==============================] - 3s 47ms/step - loss: 0.0399 - accuracy: 0.9867\n",
      "Epoch 11/20\n",
      "71/71 [==============================] - 3s 47ms/step - loss: 0.0347 - accuracy: 0.9885\n",
      "Epoch 12/20\n",
      "71/71 [==============================] - 3s 47ms/step - loss: 0.0296 - accuracy: 0.9894\n",
      "Epoch 13/20\n",
      "71/71 [==============================] - 3s 47ms/step - loss: 0.0270 - accuracy: 0.9911\n",
      "Epoch 14/20\n",
      "71/71 [==============================] - 3s 47ms/step - loss: 0.0149 - accuracy: 0.9956\n",
      "Epoch 15/20\n",
      "71/71 [==============================] - 3s 49ms/step - loss: 0.0426 - accuracy: 0.9863\n",
      "Epoch 16/20\n",
      "71/71 [==============================] - 3s 47ms/step - loss: 0.0342 - accuracy: 0.9876\n",
      "Epoch 17/20\n",
      "71/71 [==============================] - 3s 47ms/step - loss: 0.0195 - accuracy: 0.9938\n",
      "Epoch 18/20\n",
      "71/71 [==============================] - 3s 46ms/step - loss: 0.0153 - accuracy: 0.9960\n",
      "Epoch 19/20\n",
      "71/71 [==============================] - 3s 47ms/step - loss: 0.0096 - accuracy: 0.9973\n",
      "Epoch 20/20\n",
      "71/71 [==============================] - 3s 47ms/step - loss: 0.0033 - accuracy: 1.0000\n",
      "[INFO] Saving Model for bee fold 2 ...\n",
      "36/36 [==============================] - 1s 10ms/step\n"
     ]
    },
    {
     "name": "stderr",
     "output_type": "stream",
     "text": [
      "C:\\Users\\rudra\\AppData\\Local\\Temp\\ipykernel_6820\\3249705492.py:34: UserWarning: FigureCanvasAgg is non-interactive, and thus cannot be shown\n",
      "  plt.show()\n"
     ]
    },
    {
     "name": "stdout",
     "output_type": "stream",
     "text": [
      "1/1 [==============================] - 0s 94ms/step\n",
      "[INFO] Training network for bee fold 3...\n",
      "Epoch 1/20\n",
      "71/71 [==============================] - 4s 48ms/step - loss: 0.4878 - accuracy: 0.7672\n",
      "Epoch 2/20\n",
      "71/71 [==============================] - 4s 47ms/step - loss: 0.3176 - accuracy: 0.8688\n",
      "Epoch 3/20\n",
      "71/71 [==============================] - 3s 47ms/step - loss: 0.2968 - accuracy: 0.8794\n",
      "Epoch 4/20\n",
      "71/71 [==============================] - 3s 47ms/step - loss: 0.2347 - accuracy: 0.9087\n",
      "Epoch 5/20\n",
      "71/71 [==============================] - 3s 47ms/step - loss: 0.1658 - accuracy: 0.9331\n",
      "Epoch 6/20\n",
      "71/71 [==============================] - 3s 47ms/step - loss: 0.0981 - accuracy: 0.9637\n",
      "Epoch 7/20\n",
      "71/71 [==============================] - 3s 47ms/step - loss: 0.0519 - accuracy: 0.9867\n",
      "Epoch 8/20\n",
      "71/71 [==============================] - 3s 47ms/step - loss: 0.0393 - accuracy: 0.9894\n",
      "Epoch 9/20\n",
      "71/71 [==============================] - 3s 47ms/step - loss: 0.0556 - accuracy: 0.9823\n",
      "Epoch 10/20\n",
      "71/71 [==============================] - 3s 47ms/step - loss: 0.0281 - accuracy: 0.9920\n",
      "Epoch 11/20\n",
      "71/71 [==============================] - 3s 47ms/step - loss: 0.0510 - accuracy: 0.9814\n",
      "Epoch 12/20\n",
      "71/71 [==============================] - 3s 47ms/step - loss: 0.0620 - accuracy: 0.9778\n",
      "Epoch 13/20\n",
      "71/71 [==============================] - 3s 47ms/step - loss: 0.0380 - accuracy: 0.9867\n",
      "Epoch 14/20\n",
      "71/71 [==============================] - 3s 47ms/step - loss: 0.0185 - accuracy: 0.9969\n",
      "Epoch 15/20\n",
      "71/71 [==============================] - 3s 47ms/step - loss: 0.0166 - accuracy: 0.9960\n",
      "Epoch 16/20\n",
      "71/71 [==============================] - 3s 47ms/step - loss: 0.0159 - accuracy: 0.9951\n",
      "Epoch 17/20\n",
      "71/71 [==============================] - 3s 48ms/step - loss: 0.0049 - accuracy: 1.0000\n",
      "Epoch 18/20\n",
      "71/71 [==============================] - 3s 47ms/step - loss: 0.0306 - accuracy: 0.9894\n",
      "Epoch 19/20\n",
      "71/71 [==============================] - 3s 47ms/step - loss: 0.0334 - accuracy: 0.9867\n",
      "Epoch 20/20\n",
      "71/71 [==============================] - 3s 47ms/step - loss: 0.0271 - accuracy: 0.9925\n",
      "[INFO] Saving Model for bee fold 3 ...\n",
      "36/36 [==============================] - 0s 10ms/step\n"
     ]
    },
    {
     "name": "stderr",
     "output_type": "stream",
     "text": [
      "C:\\Users\\rudra\\AppData\\Local\\Temp\\ipykernel_6820\\3249705492.py:34: UserWarning: FigureCanvasAgg is non-interactive, and thus cannot be shown\n",
      "  plt.show()\n"
     ]
    },
    {
     "name": "stdout",
     "output_type": "stream",
     "text": [
      "1/1 [==============================] - 0s 78ms/step\n"
     ]
    },
    {
     "name": "stderr",
     "output_type": "stream",
     "text": [
      "C:\\Users\\rudra\\AppData\\Local\\Temp\\ipykernel_6820\\1767733992.py:15: RuntimeWarning: invalid value encountered in divide\n",
      "  channel_image /= channel_image.std()\n",
      "C:\\Users\\rudra\\AppData\\Local\\Temp\\ipykernel_6820\\1767733992.py:18: RuntimeWarning: invalid value encountered in cast\n",
      "  channel_image = np.clip(channel_image, 0, 255).astype('uint8')\n"
     ]
    },
    {
     "name": "stdout",
     "output_type": "stream",
     "text": [
      "[INFO] Loading images ...\n",
      "[INFO] Processing beetle ...\n",
      "[INFO] Processing rest ...\n",
      "[INFO] image extract completed\n",
      "total train samples: \n",
      "3409\n",
      "[INFO] Training network for beetle fold 1...\n",
      "Epoch 1/20\n",
      "71/71 [==============================] - 4s 45ms/step - loss: 0.5483 - accuracy: 0.7249\n",
      "Epoch 2/20\n",
      "71/71 [==============================] - 3s 45ms/step - loss: 0.3655 - accuracy: 0.8424\n",
      "Epoch 3/20\n",
      "71/71 [==============================] - 3s 45ms/step - loss: 0.2600 - accuracy: 0.9036\n",
      "Epoch 4/20\n",
      "71/71 [==============================] - 3s 45ms/step - loss: 0.1907 - accuracy: 0.9322\n",
      "Epoch 5/20\n",
      "71/71 [==============================] - 3s 45ms/step - loss: 0.1219 - accuracy: 0.9573\n",
      "Epoch 6/20\n",
      "71/71 [==============================] - 3s 45ms/step - loss: 0.0806 - accuracy: 0.9780\n",
      "Epoch 7/20\n",
      "71/71 [==============================] - 3s 45ms/step - loss: 0.0718 - accuracy: 0.9780\n",
      "Epoch 8/20\n",
      "71/71 [==============================] - 3s 45ms/step - loss: 0.0736 - accuracy: 0.9732\n",
      "Epoch 9/20\n",
      "71/71 [==============================] - 3s 45ms/step - loss: 0.0288 - accuracy: 0.9934\n",
      "Epoch 10/20\n",
      "71/71 [==============================] - 3s 45ms/step - loss: 0.0137 - accuracy: 0.9987\n",
      "Epoch 11/20\n",
      "71/71 [==============================] - 3s 45ms/step - loss: 0.0239 - accuracy: 0.9938\n",
      "Epoch 12/20\n",
      "71/71 [==============================] - 3s 45ms/step - loss: 0.0099 - accuracy: 0.9991\n",
      "Epoch 13/20\n",
      "71/71 [==============================] - 3s 45ms/step - loss: 0.0157 - accuracy: 0.9938\n",
      "Epoch 14/20\n",
      "71/71 [==============================] - 3s 45ms/step - loss: 0.0468 - accuracy: 0.9824\n",
      "Epoch 15/20\n",
      "71/71 [==============================] - 3s 45ms/step - loss: 0.0699 - accuracy: 0.9754\n",
      "Epoch 16/20\n",
      "71/71 [==============================] - 3s 45ms/step - loss: 0.0326 - accuracy: 0.9886\n",
      "Epoch 17/20\n",
      "71/71 [==============================] - 3s 45ms/step - loss: 0.0307 - accuracy: 0.9903\n",
      "Epoch 18/20\n",
      "71/71 [==============================] - 3s 45ms/step - loss: 0.0217 - accuracy: 0.9930\n",
      "Epoch 19/20\n",
      "71/71 [==============================] - 3s 45ms/step - loss: 0.0123 - accuracy: 0.9969\n",
      "Epoch 20/20\n",
      "71/71 [==============================] - 3s 45ms/step - loss: 0.0131 - accuracy: 0.9965\n",
      "[INFO] Saving Model for beetle fold 1 ...\n",
      "36/36 [==============================] - 0s 10ms/step\n"
     ]
    },
    {
     "name": "stderr",
     "output_type": "stream",
     "text": [
      "C:\\Users\\rudra\\AppData\\Local\\Temp\\ipykernel_6820\\3249705492.py:34: UserWarning: FigureCanvasAgg is non-interactive, and thus cannot be shown\n",
      "  plt.show()\n"
     ]
    },
    {
     "name": "stdout",
     "output_type": "stream",
     "text": [
      "1/1 [==============================] - 0s 78ms/step\n"
     ]
    },
    {
     "name": "stderr",
     "output_type": "stream",
     "text": [
      "C:\\Users\\rudra\\AppData\\Local\\Temp\\ipykernel_6820\\1767733992.py:15: RuntimeWarning: invalid value encountered in divide\n",
      "  channel_image /= channel_image.std()\n",
      "C:\\Users\\rudra\\AppData\\Local\\Temp\\ipykernel_6820\\1767733992.py:18: RuntimeWarning: invalid value encountered in cast\n",
      "  channel_image = np.clip(channel_image, 0, 255).astype('uint8')\n"
     ]
    },
    {
     "name": "stdout",
     "output_type": "stream",
     "text": [
      "[INFO] Training network for beetle fold 2...\n",
      "Epoch 1/20\n",
      "71/71 [==============================] - 4s 48ms/step - loss: 0.5638 - accuracy: 0.7170\n",
      "Epoch 2/20\n",
      "71/71 [==============================] - 4s 47ms/step - loss: 0.3790 - accuracy: 0.8353\n",
      "Epoch 3/20\n",
      "71/71 [==============================] - 3s 47ms/step - loss: 0.2886 - accuracy: 0.8800\n",
      "Epoch 4/20\n",
      "71/71 [==============================] - 3s 47ms/step - loss: 0.1878 - accuracy: 0.9353\n",
      "Epoch 5/20\n",
      "71/71 [==============================] - 3s 47ms/step - loss: 0.1491 - accuracy: 0.9482\n",
      "Epoch 6/20\n",
      "71/71 [==============================] - 3s 47ms/step - loss: 0.0986 - accuracy: 0.9652\n",
      "Epoch 7/20\n",
      "71/71 [==============================] - 3s 47ms/step - loss: 0.0711 - accuracy: 0.9750\n",
      "Epoch 8/20\n",
      "71/71 [==============================] - 3s 47ms/step - loss: 0.0608 - accuracy: 0.9826\n",
      "Epoch 9/20\n",
      "71/71 [==============================] - 3s 47ms/step - loss: 0.0698 - accuracy: 0.9777\n",
      "Epoch 10/20\n",
      "71/71 [==============================] - 3s 47ms/step - loss: 0.0325 - accuracy: 0.9906\n",
      "Epoch 11/20\n",
      "71/71 [==============================] - 3s 47ms/step - loss: 0.0315 - accuracy: 0.9906\n",
      "Epoch 12/20\n",
      "71/71 [==============================] - 3s 47ms/step - loss: 0.0425 - accuracy: 0.9862\n",
      "Epoch 13/20\n",
      "71/71 [==============================] - 3s 47ms/step - loss: 0.0225 - accuracy: 0.9960\n",
      "Epoch 14/20\n",
      "71/71 [==============================] - 3s 47ms/step - loss: 0.0099 - accuracy: 0.9978\n",
      "Epoch 15/20\n",
      "71/71 [==============================] - 3s 47ms/step - loss: 0.0238 - accuracy: 0.9924\n",
      "Epoch 16/20\n",
      "71/71 [==============================] - 3s 47ms/step - loss: 0.0187 - accuracy: 0.9951\n",
      "Epoch 17/20\n",
      "71/71 [==============================] - 3s 47ms/step - loss: 0.0148 - accuracy: 0.9951\n",
      "Epoch 18/20\n",
      "71/71 [==============================] - 3s 47ms/step - loss: 0.0273 - accuracy: 0.9897\n",
      "Epoch 19/20\n",
      "71/71 [==============================] - 3s 47ms/step - loss: 0.0530 - accuracy: 0.9857\n",
      "Epoch 20/20\n",
      "71/71 [==============================] - 3s 47ms/step - loss: 0.0275 - accuracy: 0.9906\n",
      "[INFO] Saving Model for beetle fold 2 ...\n",
      "36/36 [==============================] - 0s 10ms/step\n"
     ]
    },
    {
     "name": "stderr",
     "output_type": "stream",
     "text": [
      "C:\\Users\\rudra\\AppData\\Local\\Temp\\ipykernel_6820\\3249705492.py:34: UserWarning: FigureCanvasAgg is non-interactive, and thus cannot be shown\n",
      "  plt.show()\n"
     ]
    },
    {
     "name": "stdout",
     "output_type": "stream",
     "text": [
      "1/1 [==============================] - 0s 62ms/step\n"
     ]
    },
    {
     "name": "stderr",
     "output_type": "stream",
     "text": [
      "C:\\Users\\rudra\\AppData\\Local\\Temp\\ipykernel_6820\\1767733992.py:15: RuntimeWarning: invalid value encountered in divide\n",
      "  channel_image /= channel_image.std()\n",
      "C:\\Users\\rudra\\AppData\\Local\\Temp\\ipykernel_6820\\1767733992.py:18: RuntimeWarning: invalid value encountered in cast\n",
      "  channel_image = np.clip(channel_image, 0, 255).astype('uint8')\n"
     ]
    },
    {
     "name": "stdout",
     "output_type": "stream",
     "text": [
      "[INFO] Training network for beetle fold 3...\n",
      "Epoch 1/20\n",
      "71/71 [==============================] - 4s 48ms/step - loss: 0.4996 - accuracy: 0.7654\n",
      "Epoch 2/20\n",
      "71/71 [==============================] - 3s 48ms/step - loss: 0.3822 - accuracy: 0.8286\n",
      "Epoch 3/20\n",
      "71/71 [==============================] - 3s 47ms/step - loss: 0.2526 - accuracy: 0.9081\n",
      "Epoch 4/20\n",
      "71/71 [==============================] - 3s 47ms/step - loss: 0.1802 - accuracy: 0.9371\n",
      "Epoch 5/20\n",
      "71/71 [==============================] - 3s 47ms/step - loss: 0.1005 - accuracy: 0.9710\n",
      "Epoch 6/20\n",
      "71/71 [==============================] - 3s 47ms/step - loss: 0.0827 - accuracy: 0.9772\n",
      "Epoch 7/20\n",
      "71/71 [==============================] - 3s 47ms/step - loss: 0.0790 - accuracy: 0.9723\n",
      "Epoch 8/20\n",
      "71/71 [==============================] - 3s 47ms/step - loss: 0.0696 - accuracy: 0.9755\n",
      "Epoch 9/20\n",
      "71/71 [==============================] - 3s 47ms/step - loss: 0.0470 - accuracy: 0.9884\n",
      "Epoch 10/20\n",
      "71/71 [==============================] - 3s 47ms/step - loss: 0.0308 - accuracy: 0.9906\n",
      "Epoch 11/20\n",
      "71/71 [==============================] - 3s 47ms/step - loss: 0.0257 - accuracy: 0.9942\n",
      "Epoch 12/20\n",
      "71/71 [==============================] - 3s 47ms/step - loss: 0.0439 - accuracy: 0.9839\n",
      "Epoch 13/20\n",
      "71/71 [==============================] - 3s 47ms/step - loss: 0.0363 - accuracy: 0.9888\n",
      "Epoch 14/20\n",
      "71/71 [==============================] - 3s 46ms/step - loss: 0.0507 - accuracy: 0.9848\n",
      "Epoch 15/20\n",
      "71/71 [==============================] - 3s 47ms/step - loss: 0.0227 - accuracy: 0.9942\n",
      "Epoch 16/20\n",
      "71/71 [==============================] - 3s 46ms/step - loss: 0.0174 - accuracy: 0.9960\n",
      "Epoch 17/20\n",
      "71/71 [==============================] - 3s 46ms/step - loss: 0.0143 - accuracy: 0.9955\n",
      "Epoch 18/20\n",
      "71/71 [==============================] - 3s 47ms/step - loss: 0.0246 - accuracy: 0.9924\n",
      "Epoch 19/20\n",
      "71/71 [==============================] - 3s 46ms/step - loss: 0.0234 - accuracy: 0.9902\n",
      "Epoch 20/20\n",
      "71/71 [==============================] - 3s 46ms/step - loss: 0.0298 - accuracy: 0.9929\n",
      "[INFO] Saving Model for beetle fold 3 ...\n",
      "36/36 [==============================] - 1s 10ms/step\n"
     ]
    },
    {
     "name": "stderr",
     "output_type": "stream",
     "text": [
      "C:\\Users\\rudra\\AppData\\Local\\Temp\\ipykernel_6820\\3249705492.py:34: UserWarning: FigureCanvasAgg is non-interactive, and thus cannot be shown\n",
      "  plt.show()\n"
     ]
    },
    {
     "name": "stdout",
     "output_type": "stream",
     "text": [
      "1/1 [==============================] - 0s 94ms/step\n"
     ]
    },
    {
     "name": "stderr",
     "output_type": "stream",
     "text": [
      "C:\\Users\\rudra\\AppData\\Local\\Temp\\ipykernel_6820\\1767733992.py:15: RuntimeWarning: invalid value encountered in divide\n",
      "  channel_image /= channel_image.std()\n",
      "C:\\Users\\rudra\\AppData\\Local\\Temp\\ipykernel_6820\\1767733992.py:18: RuntimeWarning: invalid value encountered in cast\n",
      "  channel_image = np.clip(channel_image, 0, 255).astype('uint8')\n"
     ]
    },
    {
     "name": "stdout",
     "output_type": "stream",
     "text": [
      "[INFO] Loading images ...\n",
      "[INFO] Processing bison ...\n",
      "[INFO] Processing rest ...\n",
      "[INFO] image extract completed\n",
      "total train samples: \n",
      "3405\n",
      "[INFO] Training network for bison fold 1...\n",
      "Epoch 1/20\n",
      "70/70 [==============================] - 4s 48ms/step - loss: 0.4449 - accuracy: 0.7964\n",
      "Epoch 2/20\n",
      "70/70 [==============================] - 4s 48ms/step - loss: 0.2669 - accuracy: 0.8990\n",
      "Epoch 3/20\n",
      "70/70 [==============================] - 3s 47ms/step - loss: 0.1684 - accuracy: 0.9392\n",
      "Epoch 4/20\n",
      "70/70 [==============================] - 3s 47ms/step - loss: 0.1175 - accuracy: 0.9558\n",
      "Epoch 5/20\n",
      "70/70 [==============================] - 3s 48ms/step - loss: 0.0854 - accuracy: 0.9714\n",
      "Epoch 6/20\n",
      "70/70 [==============================] - 3s 47ms/step - loss: 0.0799 - accuracy: 0.9727\n",
      "Epoch 7/20\n",
      "70/70 [==============================] - 3s 48ms/step - loss: 0.0464 - accuracy: 0.9870\n",
      "Epoch 8/20\n",
      "70/70 [==============================] - 3s 47ms/step - loss: 0.0408 - accuracy: 0.9893\n",
      "Epoch 9/20\n",
      "70/70 [==============================] - 3s 47ms/step - loss: 0.0309 - accuracy: 0.9920\n",
      "Epoch 10/20\n",
      "70/70 [==============================] - 3s 47ms/step - loss: 0.0135 - accuracy: 0.9964\n",
      "Epoch 11/20\n",
      "70/70 [==============================] - 3s 47ms/step - loss: 0.0235 - accuracy: 0.9911\n",
      "Epoch 12/20\n",
      "70/70 [==============================] - 3s 47ms/step - loss: 0.0267 - accuracy: 0.9915\n",
      "Epoch 13/20\n",
      "70/70 [==============================] - 3s 47ms/step - loss: 0.0278 - accuracy: 0.9893\n",
      "Epoch 14/20\n",
      "70/70 [==============================] - 3s 47ms/step - loss: 0.0296 - accuracy: 0.9915\n",
      "Epoch 15/20\n",
      "70/70 [==============================] - 3s 47ms/step - loss: 0.0145 - accuracy: 0.9964\n",
      "Epoch 16/20\n",
      "70/70 [==============================] - 3s 47ms/step - loss: 0.0141 - accuracy: 0.9955\n",
      "Epoch 17/20\n",
      "70/70 [==============================] - 3s 47ms/step - loss: 0.0082 - accuracy: 0.9987\n",
      "Epoch 18/20\n",
      "70/70 [==============================] - 3s 47ms/step - loss: 0.0035 - accuracy: 1.0000\n",
      "Epoch 19/20\n",
      "70/70 [==============================] - 3s 47ms/step - loss: 0.0016 - accuracy: 1.0000\n",
      "Epoch 20/20\n",
      "70/70 [==============================] - 3s 47ms/step - loss: 0.0056 - accuracy: 0.9987\n",
      "[INFO] Saving Model for bison fold 1 ...\n",
      "36/36 [==============================] - 0s 10ms/step\n"
     ]
    },
    {
     "name": "stderr",
     "output_type": "stream",
     "text": [
      "C:\\Users\\rudra\\AppData\\Local\\Temp\\ipykernel_6820\\3249705492.py:34: UserWarning: FigureCanvasAgg is non-interactive, and thus cannot be shown\n",
      "  plt.show()\n"
     ]
    },
    {
     "name": "stdout",
     "output_type": "stream",
     "text": [
      "1/1 [==============================] - 0s 94ms/step\n"
     ]
    },
    {
     "name": "stderr",
     "output_type": "stream",
     "text": [
      "C:\\Users\\rudra\\AppData\\Local\\Temp\\ipykernel_6820\\1767733992.py:15: RuntimeWarning: invalid value encountered in divide\n",
      "  channel_image /= channel_image.std()\n",
      "C:\\Users\\rudra\\AppData\\Local\\Temp\\ipykernel_6820\\1767733992.py:18: RuntimeWarning: invalid value encountered in cast\n",
      "  channel_image = np.clip(channel_image, 0, 255).astype('uint8')\n"
     ]
    },
    {
     "name": "stdout",
     "output_type": "stream",
     "text": [
      "[INFO] Training network for bison fold 2...\n",
      "Epoch 1/20\n",
      "70/70 [==============================] - 4s 48ms/step - loss: 0.4356 - accuracy: 0.8045\n",
      "Epoch 2/20\n",
      "70/70 [==============================] - 3s 48ms/step - loss: 0.2617 - accuracy: 0.8901\n",
      "Epoch 3/20\n",
      "70/70 [==============================] - 3s 48ms/step - loss: 0.1590 - accuracy: 0.9406\n",
      "Epoch 4/20\n",
      "70/70 [==============================] - 3s 47ms/step - loss: 0.1561 - accuracy: 0.9415\n",
      "Epoch 5/20\n",
      "70/70 [==============================] - 3s 47ms/step - loss: 0.0761 - accuracy: 0.9768\n",
      "Epoch 6/20\n",
      "70/70 [==============================] - 3s 48ms/step - loss: 0.0662 - accuracy: 0.9768\n",
      "Epoch 7/20\n",
      "70/70 [==============================] - 3s 47ms/step - loss: 0.0428 - accuracy: 0.9875\n",
      "Epoch 8/20\n",
      "70/70 [==============================] - 3s 47ms/step - loss: 0.0566 - accuracy: 0.9812\n",
      "Epoch 9/20\n",
      "70/70 [==============================] - 3s 47ms/step - loss: 0.0390 - accuracy: 0.9857\n",
      "Epoch 10/20\n",
      "70/70 [==============================] - 3s 47ms/step - loss: 0.0235 - accuracy: 0.9929\n",
      "Epoch 11/20\n",
      "70/70 [==============================] - 3s 47ms/step - loss: 0.0245 - accuracy: 0.9929\n",
      "Epoch 12/20\n",
      "70/70 [==============================] - 3s 47ms/step - loss: 0.0152 - accuracy: 0.9964\n",
      "Epoch 13/20\n",
      "70/70 [==============================] - 3s 47ms/step - loss: 0.0060 - accuracy: 1.0000\n",
      "Epoch 14/20\n",
      "70/70 [==============================] - 3s 47ms/step - loss: 0.0062 - accuracy: 1.0000\n",
      "Epoch 15/20\n",
      "70/70 [==============================] - 3s 47ms/step - loss: 0.0071 - accuracy: 0.9982\n",
      "Epoch 16/20\n",
      "70/70 [==============================] - 3s 47ms/step - loss: 0.0109 - accuracy: 0.9964\n",
      "Epoch 17/20\n",
      "70/70 [==============================] - 3s 47ms/step - loss: 0.0092 - accuracy: 0.9982\n",
      "Epoch 18/20\n",
      "70/70 [==============================] - 3s 48ms/step - loss: 0.0452 - accuracy: 0.9861\n",
      "Epoch 19/20\n",
      "70/70 [==============================] - 3s 47ms/step - loss: 0.0565 - accuracy: 0.9826\n",
      "Epoch 20/20\n",
      "70/70 [==============================] - 3s 47ms/step - loss: 0.0176 - accuracy: 0.9951\n",
      "[INFO] Saving Model for bison fold 2 ...\n",
      "36/36 [==============================] - 1s 10ms/step\n"
     ]
    },
    {
     "name": "stderr",
     "output_type": "stream",
     "text": [
      "C:\\Users\\rudra\\AppData\\Local\\Temp\\ipykernel_6820\\3249705492.py:34: UserWarning: FigureCanvasAgg is non-interactive, and thus cannot be shown\n",
      "  plt.show()\n"
     ]
    },
    {
     "name": "stdout",
     "output_type": "stream",
     "text": [
      "1/1 [==============================] - 0s 78ms/step\n"
     ]
    },
    {
     "name": "stderr",
     "output_type": "stream",
     "text": [
      "C:\\Users\\rudra\\AppData\\Local\\Temp\\ipykernel_6820\\1767733992.py:15: RuntimeWarning: invalid value encountered in divide\n",
      "  channel_image /= channel_image.std()\n",
      "C:\\Users\\rudra\\AppData\\Local\\Temp\\ipykernel_6820\\1767733992.py:18: RuntimeWarning: invalid value encountered in cast\n",
      "  channel_image = np.clip(channel_image, 0, 255).astype('uint8')\n"
     ]
    },
    {
     "name": "stdout",
     "output_type": "stream",
     "text": [
      "[INFO] Training network for bison fold 3...\n",
      "Epoch 1/20\n",
      "70/70 [==============================] - 4s 47ms/step - loss: 0.4311 - accuracy: 0.8080\n",
      "Epoch 2/20\n",
      "70/70 [==============================] - 3s 47ms/step - loss: 0.2618 - accuracy: 0.8963\n",
      "Epoch 3/20\n",
      "70/70 [==============================] - 3s 47ms/step - loss: 0.1860 - accuracy: 0.9325\n",
      "Epoch 4/20\n",
      "70/70 [==============================] - 3s 47ms/step - loss: 0.1326 - accuracy: 0.9540\n",
      "Epoch 5/20\n",
      "70/70 [==============================] - 3s 47ms/step - loss: 0.0816 - accuracy: 0.9732\n",
      "Epoch 6/20\n",
      "70/70 [==============================] - 3s 47ms/step - loss: 0.0646 - accuracy: 0.9794\n",
      "Epoch 7/20\n",
      "70/70 [==============================] - 3s 47ms/step - loss: 0.0408 - accuracy: 0.9911\n",
      "Epoch 8/20\n",
      "70/70 [==============================] - 3s 48ms/step - loss: 0.0396 - accuracy: 0.9848\n",
      "Epoch 9/20\n",
      "70/70 [==============================] - 3s 47ms/step - loss: 0.0257 - accuracy: 0.9933\n",
      "Epoch 10/20\n",
      "70/70 [==============================] - 3s 47ms/step - loss: 0.0206 - accuracy: 0.9951\n",
      "Epoch 11/20\n",
      "70/70 [==============================] - 3s 47ms/step - loss: 0.0207 - accuracy: 0.9942\n",
      "Epoch 12/20\n",
      "70/70 [==============================] - 3s 47ms/step - loss: 0.0181 - accuracy: 0.9942\n",
      "Epoch 13/20\n",
      "70/70 [==============================] - 3s 47ms/step - loss: 0.0315 - accuracy: 0.9906\n",
      "Epoch 14/20\n",
      "70/70 [==============================] - 3s 47ms/step - loss: 0.0092 - accuracy: 0.9987\n",
      "Epoch 15/20\n",
      "70/70 [==============================] - 3s 47ms/step - loss: 0.0068 - accuracy: 0.9991\n",
      "Epoch 16/20\n",
      "70/70 [==============================] - 3s 48ms/step - loss: 0.0042 - accuracy: 1.0000\n",
      "Epoch 17/20\n",
      "70/70 [==============================] - 3s 48ms/step - loss: 0.0167 - accuracy: 0.9951\n",
      "Epoch 18/20\n",
      "70/70 [==============================] - 3s 47ms/step - loss: 0.0099 - accuracy: 0.9969\n",
      "Epoch 19/20\n",
      "70/70 [==============================] - 3s 47ms/step - loss: 0.0208 - accuracy: 0.9942\n",
      "Epoch 20/20\n",
      "70/70 [==============================] - 3s 47ms/step - loss: 0.0191 - accuracy: 0.9933\n",
      "[INFO] Saving Model for bison fold 3 ...\n",
      "36/36 [==============================] - 0s 10ms/step\n"
     ]
    },
    {
     "name": "stderr",
     "output_type": "stream",
     "text": [
      "C:\\Users\\rudra\\AppData\\Local\\Temp\\ipykernel_6820\\3249705492.py:34: UserWarning: FigureCanvasAgg is non-interactive, and thus cannot be shown\n",
      "  plt.show()\n"
     ]
    },
    {
     "name": "stdout",
     "output_type": "stream",
     "text": [
      "1/1 [==============================] - 0s 78ms/step\n"
     ]
    },
    {
     "name": "stderr",
     "output_type": "stream",
     "text": [
      "C:\\Users\\rudra\\AppData\\Local\\Temp\\ipykernel_6820\\1767733992.py:15: RuntimeWarning: invalid value encountered in divide\n",
      "  channel_image /= channel_image.std()\n",
      "C:\\Users\\rudra\\AppData\\Local\\Temp\\ipykernel_6820\\1767733992.py:18: RuntimeWarning: invalid value encountered in cast\n",
      "  channel_image = np.clip(channel_image, 0, 255).astype('uint8')\n"
     ]
    },
    {
     "name": "stdout",
     "output_type": "stream",
     "text": [
      "[INFO] Loading images ...\n",
      "[INFO] Processing boar ...\n",
      "[INFO] Processing rest ...\n",
      "[INFO] image extract completed\n",
      "total train samples: \n",
      "3431\n",
      "[INFO] Training network for boar fold 1...\n",
      "Epoch 1/20\n",
      "71/71 [==============================] - 4s 47ms/step - loss: 0.5279 - accuracy: 0.7386\n",
      "Epoch 2/20\n",
      "71/71 [==============================] - 3s 48ms/step - loss: 0.3738 - accuracy: 0.8395\n",
      "Epoch 3/20\n",
      "71/71 [==============================] - 3s 48ms/step - loss: 0.2659 - accuracy: 0.8896\n",
      "Epoch 4/20\n",
      "71/71 [==============================] - 3s 47ms/step - loss: 0.1934 - accuracy: 0.9251\n",
      "Epoch 5/20\n",
      "71/71 [==============================] - 3s 47ms/step - loss: 0.1308 - accuracy: 0.9521\n",
      "Epoch 6/20\n",
      "71/71 [==============================] - 3s 47ms/step - loss: 0.1230 - accuracy: 0.9530\n",
      "Epoch 7/20\n",
      "71/71 [==============================] - 3s 47ms/step - loss: 0.0852 - accuracy: 0.9712\n",
      "Epoch 8/20\n",
      "71/71 [==============================] - 3s 47ms/step - loss: 0.0413 - accuracy: 0.9907\n",
      "Epoch 9/20\n",
      "71/71 [==============================] - 3s 47ms/step - loss: 0.0395 - accuracy: 0.9867\n",
      "Epoch 10/20\n",
      "71/71 [==============================] - 3s 47ms/step - loss: 0.0413 - accuracy: 0.9871\n",
      "Epoch 11/20\n",
      "71/71 [==============================] - 3s 47ms/step - loss: 0.0182 - accuracy: 0.9965\n",
      "Epoch 12/20\n",
      "71/71 [==============================] - 3s 47ms/step - loss: 0.0380 - accuracy: 0.9858\n",
      "Epoch 13/20\n",
      "71/71 [==============================] - 3s 47ms/step - loss: 0.0385 - accuracy: 0.9854\n",
      "Epoch 14/20\n",
      "71/71 [==============================] - 3s 47ms/step - loss: 0.0450 - accuracy: 0.9836\n",
      "Epoch 15/20\n",
      "71/71 [==============================] - 3s 47ms/step - loss: 0.0299 - accuracy: 0.9907\n",
      "Epoch 16/20\n",
      "71/71 [==============================] - 3s 47ms/step - loss: 0.0320 - accuracy: 0.9894\n",
      "Epoch 17/20\n",
      "71/71 [==============================] - 3s 47ms/step - loss: 0.0136 - accuracy: 0.9965\n",
      "Epoch 18/20\n",
      "71/71 [==============================] - 3s 47ms/step - loss: 0.0064 - accuracy: 0.9987\n",
      "Epoch 19/20\n",
      "71/71 [==============================] - 3s 47ms/step - loss: 0.0295 - accuracy: 0.9902\n",
      "Epoch 20/20\n",
      "71/71 [==============================] - 3s 47ms/step - loss: 0.0356 - accuracy: 0.9867\n",
      "[INFO] Saving Model for boar fold 1 ...\n",
      "36/36 [==============================] - 1s 10ms/step\n"
     ]
    },
    {
     "name": "stderr",
     "output_type": "stream",
     "text": [
      "C:\\Users\\rudra\\AppData\\Local\\Temp\\ipykernel_6820\\3249705492.py:34: UserWarning: FigureCanvasAgg is non-interactive, and thus cannot be shown\n",
      "  plt.show()\n"
     ]
    },
    {
     "name": "stdout",
     "output_type": "stream",
     "text": [
      "1/1 [==============================] - 0s 80ms/step\n"
     ]
    },
    {
     "name": "stderr",
     "output_type": "stream",
     "text": [
      "C:\\Users\\rudra\\AppData\\Local\\Temp\\ipykernel_6820\\1767733992.py:15: RuntimeWarning: invalid value encountered in divide\n",
      "  channel_image /= channel_image.std()\n",
      "C:\\Users\\rudra\\AppData\\Local\\Temp\\ipykernel_6820\\1767733992.py:18: RuntimeWarning: invalid value encountered in cast\n",
      "  channel_image = np.clip(channel_image, 0, 255).astype('uint8')\n"
     ]
    },
    {
     "name": "stdout",
     "output_type": "stream",
     "text": [
      "[INFO] Training network for boar fold 2...\n",
      "Epoch 1/20\n",
      "71/71 [==============================] - 4s 47ms/step - loss: 0.4994 - accuracy: 0.7623\n",
      "Epoch 2/20\n",
      "71/71 [==============================] - 3s 47ms/step - loss: 0.3563 - accuracy: 0.8412\n",
      "Epoch 3/20\n",
      "71/71 [==============================] - 3s 47ms/step - loss: 0.2716 - accuracy: 0.8905\n",
      "Epoch 4/20\n",
      "71/71 [==============================] - 3s 46ms/step - loss: 0.2445 - accuracy: 0.8998\n",
      "Epoch 5/20\n",
      "71/71 [==============================] - 3s 47ms/step - loss: 0.1942 - accuracy: 0.9317\n",
      "Epoch 6/20\n",
      "71/71 [==============================] - 3s 46ms/step - loss: 0.0879 - accuracy: 0.9734\n",
      "Epoch 7/20\n",
      "71/71 [==============================] - 3s 46ms/step - loss: 0.0646 - accuracy: 0.9805\n",
      "Epoch 8/20\n",
      "71/71 [==============================] - 3s 47ms/step - loss: 0.0460 - accuracy: 0.9876\n",
      "Epoch 9/20\n",
      "71/71 [==============================] - 3s 46ms/step - loss: 0.0625 - accuracy: 0.9809\n",
      "Epoch 10/20\n",
      "71/71 [==============================] - 3s 47ms/step - loss: 0.0331 - accuracy: 0.9902\n",
      "Epoch 11/20\n",
      "71/71 [==============================] - 3s 46ms/step - loss: 0.0602 - accuracy: 0.9805\n",
      "Epoch 12/20\n",
      "71/71 [==============================] - 3s 46ms/step - loss: 0.0389 - accuracy: 0.9885\n",
      "Epoch 13/20\n",
      "71/71 [==============================] - 3s 46ms/step - loss: 0.0313 - accuracy: 0.9889\n",
      "Epoch 14/20\n",
      "71/71 [==============================] - 3s 46ms/step - loss: 0.0274 - accuracy: 0.9898\n",
      "Epoch 15/20\n",
      "71/71 [==============================] - 3s 46ms/step - loss: 0.0160 - accuracy: 0.9965\n",
      "Epoch 16/20\n",
      "71/71 [==============================] - 3s 46ms/step - loss: 0.0575 - accuracy: 0.9774\n",
      "Epoch 17/20\n",
      "71/71 [==============================] - 3s 46ms/step - loss: 0.0492 - accuracy: 0.9800\n",
      "Epoch 18/20\n",
      "71/71 [==============================] - 3s 46ms/step - loss: 0.0298 - accuracy: 0.9880\n",
      "Epoch 19/20\n",
      "71/71 [==============================] - 3s 46ms/step - loss: 0.0277 - accuracy: 0.9902\n",
      "Epoch 20/20\n",
      "71/71 [==============================] - 3s 46ms/step - loss: 0.0192 - accuracy: 0.9956\n",
      "[INFO] Saving Model for boar fold 2 ...\n",
      "36/36 [==============================] - 0s 10ms/step\n"
     ]
    },
    {
     "name": "stderr",
     "output_type": "stream",
     "text": [
      "C:\\Users\\rudra\\AppData\\Local\\Temp\\ipykernel_6820\\3249705492.py:34: UserWarning: FigureCanvasAgg is non-interactive, and thus cannot be shown\n",
      "  plt.show()\n"
     ]
    },
    {
     "name": "stdout",
     "output_type": "stream",
     "text": [
      "1/1 [==============================] - 0s 78ms/step\n"
     ]
    },
    {
     "name": "stderr",
     "output_type": "stream",
     "text": [
      "C:\\Users\\rudra\\AppData\\Local\\Temp\\ipykernel_6820\\1767733992.py:15: RuntimeWarning: invalid value encountered in divide\n",
      "  channel_image /= channel_image.std()\n",
      "C:\\Users\\rudra\\AppData\\Local\\Temp\\ipykernel_6820\\1767733992.py:18: RuntimeWarning: invalid value encountered in cast\n",
      "  channel_image = np.clip(channel_image, 0, 255).astype('uint8')\n"
     ]
    },
    {
     "name": "stdout",
     "output_type": "stream",
     "text": [
      "[INFO] Training network for boar fold 3...\n",
      "Epoch 1/20\n",
      "71/71 [==============================] - 4s 48ms/step - loss: 0.5071 - accuracy: 0.7650\n",
      "Epoch 2/20\n",
      "71/71 [==============================] - 3s 47ms/step - loss: 0.3857 - accuracy: 0.8249\n",
      "Epoch 3/20\n",
      "71/71 [==============================] - 3s 47ms/step - loss: 0.2633 - accuracy: 0.8945\n",
      "Epoch 4/20\n",
      "71/71 [==============================] - 3s 47ms/step - loss: 0.2201 - accuracy: 0.9069\n",
      "Epoch 5/20\n",
      "71/71 [==============================] - 3s 47ms/step - loss: 0.1525 - accuracy: 0.9393\n",
      "Epoch 6/20\n",
      "71/71 [==============================] - 3s 48ms/step - loss: 0.2144 - accuracy: 0.9140\n",
      "Epoch 7/20\n",
      "71/71 [==============================] - 3s 47ms/step - loss: 0.1296 - accuracy: 0.9539\n",
      "Epoch 8/20\n",
      "71/71 [==============================] - 3s 47ms/step - loss: 0.0703 - accuracy: 0.9796\n",
      "Epoch 9/20\n",
      "71/71 [==============================] - 3s 47ms/step - loss: 0.0468 - accuracy: 0.9863\n",
      "Epoch 10/20\n",
      "71/71 [==============================] - 3s 47ms/step - loss: 0.0429 - accuracy: 0.9880\n",
      "Epoch 11/20\n",
      "71/71 [==============================] - 3s 47ms/step - loss: 0.0291 - accuracy: 0.9925\n",
      "Epoch 12/20\n",
      "71/71 [==============================] - 3s 48ms/step - loss: 0.0207 - accuracy: 0.9942\n",
      "Epoch 13/20\n",
      "71/71 [==============================] - 3s 47ms/step - loss: 0.0224 - accuracy: 0.9929\n",
      "Epoch 14/20\n",
      "71/71 [==============================] - 3s 47ms/step - loss: 0.0494 - accuracy: 0.9827\n",
      "Epoch 15/20\n",
      "71/71 [==============================] - 3s 47ms/step - loss: 0.0507 - accuracy: 0.9805\n",
      "Epoch 16/20\n",
      "71/71 [==============================] - 3s 47ms/step - loss: 0.0227 - accuracy: 0.9951\n",
      "Epoch 17/20\n",
      "71/71 [==============================] - 3s 47ms/step - loss: 0.0112 - accuracy: 0.9973\n",
      "Epoch 18/20\n",
      "71/71 [==============================] - 3s 48ms/step - loss: 0.0092 - accuracy: 0.9978\n",
      "Epoch 19/20\n",
      "71/71 [==============================] - 3s 47ms/step - loss: 0.0048 - accuracy: 1.0000\n",
      "Epoch 20/20\n",
      "71/71 [==============================] - 3s 48ms/step - loss: 0.0150 - accuracy: 0.9956\n",
      "[INFO] Saving Model for boar fold 3 ...\n",
      "36/36 [==============================] - 1s 10ms/step\n"
     ]
    },
    {
     "name": "stderr",
     "output_type": "stream",
     "text": [
      "C:\\Users\\rudra\\AppData\\Local\\Temp\\ipykernel_6820\\3249705492.py:34: UserWarning: FigureCanvasAgg is non-interactive, and thus cannot be shown\n",
      "  plt.show()\n"
     ]
    },
    {
     "name": "stdout",
     "output_type": "stream",
     "text": [
      "1/1 [==============================] - 0s 94ms/step\n"
     ]
    },
    {
     "name": "stderr",
     "output_type": "stream",
     "text": [
      "C:\\Users\\rudra\\AppData\\Local\\Temp\\ipykernel_6820\\1767733992.py:15: RuntimeWarning: invalid value encountered in divide\n",
      "  channel_image /= channel_image.std()\n",
      "C:\\Users\\rudra\\AppData\\Local\\Temp\\ipykernel_6820\\1767733992.py:18: RuntimeWarning: invalid value encountered in cast\n",
      "  channel_image = np.clip(channel_image, 0, 255).astype('uint8')\n"
     ]
    },
    {
     "name": "stdout",
     "output_type": "stream",
     "text": [
      "[INFO] Loading images ...\n",
      "[INFO] Processing butterfly ...\n",
      "[INFO] Processing rest ...\n",
      "[INFO] image extract completed\n",
      "total train samples: \n",
      "3423\n",
      "[INFO] Training network for butterfly fold 1...\n",
      "Epoch 1/20\n",
      "71/71 [==============================] - 4s 47ms/step - loss: 0.4275 - accuracy: 0.8063\n",
      "Epoch 2/20\n",
      "71/71 [==============================] - 4s 48ms/step - loss: 0.2680 - accuracy: 0.8907\n",
      "Epoch 3/20\n",
      "71/71 [==============================] - 3s 47ms/step - loss: 0.1779 - accuracy: 0.9338\n",
      "Epoch 4/20\n",
      "71/71 [==============================] - 3s 47ms/step - loss: 0.1270 - accuracy: 0.9507\n",
      "Epoch 5/20\n",
      "71/71 [==============================] - 3s 47ms/step - loss: 0.0966 - accuracy: 0.9680\n",
      "Epoch 6/20\n",
      "71/71 [==============================] - 3s 47ms/step - loss: 0.0626 - accuracy: 0.9773\n",
      "Epoch 7/20\n",
      "71/71 [==============================] - 3s 47ms/step - loss: 0.0611 - accuracy: 0.9800\n",
      "Epoch 8/20\n",
      "71/71 [==============================] - 3s 47ms/step - loss: 0.0815 - accuracy: 0.9711\n",
      "Epoch 9/20\n",
      "71/71 [==============================] - 3s 47ms/step - loss: 0.0485 - accuracy: 0.9849\n",
      "Epoch 10/20\n",
      "71/71 [==============================] - 3s 47ms/step - loss: 0.0449 - accuracy: 0.9844\n",
      "Epoch 11/20\n",
      "71/71 [==============================] - 3s 47ms/step - loss: 0.0419 - accuracy: 0.9871\n",
      "Epoch 12/20\n",
      "71/71 [==============================] - 3s 47ms/step - loss: 0.0250 - accuracy: 0.9929\n",
      "Epoch 13/20\n",
      "71/71 [==============================] - 3s 47ms/step - loss: 0.0324 - accuracy: 0.9893\n",
      "Epoch 14/20\n",
      "71/71 [==============================] - 3s 47ms/step - loss: 0.0299 - accuracy: 0.9920\n",
      "Epoch 15/20\n",
      "71/71 [==============================] - 3s 47ms/step - loss: 0.0270 - accuracy: 0.9902\n",
      "Epoch 16/20\n",
      "71/71 [==============================] - 3s 47ms/step - loss: 0.0207 - accuracy: 0.9938\n",
      "Epoch 17/20\n",
      "71/71 [==============================] - 3s 47ms/step - loss: 0.0321 - accuracy: 0.9884\n",
      "Epoch 18/20\n",
      "71/71 [==============================] - 3s 47ms/step - loss: 0.0262 - accuracy: 0.9893\n",
      "Epoch 19/20\n",
      "71/71 [==============================] - 3s 47ms/step - loss: 0.0103 - accuracy: 0.9973\n",
      "Epoch 20/20\n",
      "71/71 [==============================] - 3s 47ms/step - loss: 0.0098 - accuracy: 0.9964\n",
      "[INFO] Saving Model for butterfly fold 1 ...\n",
      "36/36 [==============================] - 0s 10ms/step\n"
     ]
    },
    {
     "name": "stderr",
     "output_type": "stream",
     "text": [
      "C:\\Users\\rudra\\AppData\\Local\\Temp\\ipykernel_6820\\3249705492.py:34: UserWarning: FigureCanvasAgg is non-interactive, and thus cannot be shown\n",
      "  plt.show()\n"
     ]
    },
    {
     "name": "stdout",
     "output_type": "stream",
     "text": [
      "1/1 [==============================] - 0s 79ms/step\n"
     ]
    },
    {
     "name": "stderr",
     "output_type": "stream",
     "text": [
      "C:\\Users\\rudra\\AppData\\Local\\Temp\\ipykernel_6820\\1767733992.py:15: RuntimeWarning: invalid value encountered in divide\n",
      "  channel_image /= channel_image.std()\n",
      "C:\\Users\\rudra\\AppData\\Local\\Temp\\ipykernel_6820\\1767733992.py:18: RuntimeWarning: invalid value encountered in cast\n",
      "  channel_image = np.clip(channel_image, 0, 255).astype('uint8')\n"
     ]
    },
    {
     "name": "stdout",
     "output_type": "stream",
     "text": [
      "[INFO] Training network for butterfly fold 2...\n",
      "Epoch 1/20\n",
      "71/71 [==============================] - 5s 48ms/step - loss: 0.4456 - accuracy: 0.8046\n",
      "Epoch 2/20\n",
      "71/71 [==============================] - 3s 48ms/step - loss: 0.2553 - accuracy: 0.8996\n",
      "Epoch 3/20\n",
      "71/71 [==============================] - 3s 47ms/step - loss: 0.1601 - accuracy: 0.9360\n",
      "Epoch 4/20\n",
      "71/71 [==============================] - 3s 47ms/step - loss: 0.1470 - accuracy: 0.9480\n",
      "Epoch 5/20\n",
      "71/71 [==============================] - 3s 47ms/step - loss: 0.0887 - accuracy: 0.9693\n",
      "Epoch 6/20\n",
      "71/71 [==============================] - 3s 47ms/step - loss: 0.0809 - accuracy: 0.9702\n",
      "Epoch 7/20\n",
      "71/71 [==============================] - 3s 47ms/step - loss: 0.0586 - accuracy: 0.9800\n",
      "Epoch 8/20\n",
      "71/71 [==============================] - 3s 47ms/step - loss: 0.0353 - accuracy: 0.9907\n",
      "Epoch 9/20\n",
      "71/71 [==============================] - 3s 47ms/step - loss: 0.0514 - accuracy: 0.9800\n",
      "Epoch 10/20\n",
      "71/71 [==============================] - 3s 47ms/step - loss: 0.0347 - accuracy: 0.9884\n",
      "Epoch 11/20\n",
      "71/71 [==============================] - 3s 47ms/step - loss: 0.0250 - accuracy: 0.9924\n",
      "Epoch 12/20\n",
      "71/71 [==============================] - 3s 49ms/step - loss: 0.0359 - accuracy: 0.9889\n",
      "Epoch 13/20\n",
      "71/71 [==============================] - 3s 47ms/step - loss: 0.0373 - accuracy: 0.9844\n",
      "Epoch 14/20\n",
      "71/71 [==============================] - 3s 47ms/step - loss: 0.0438 - accuracy: 0.9822\n",
      "Epoch 15/20\n",
      "71/71 [==============================] - 3s 47ms/step - loss: 0.0295 - accuracy: 0.9902\n",
      "Epoch 16/20\n",
      "71/71 [==============================] - 3s 47ms/step - loss: 0.0150 - accuracy: 0.9942\n",
      "Epoch 17/20\n",
      "71/71 [==============================] - 3s 47ms/step - loss: 0.0123 - accuracy: 0.9964\n",
      "Epoch 18/20\n",
      "71/71 [==============================] - 3s 47ms/step - loss: 0.0054 - accuracy: 0.9996\n",
      "Epoch 19/20\n",
      "71/71 [==============================] - 3s 46ms/step - loss: 0.0076 - accuracy: 0.9982\n",
      "Epoch 20/20\n",
      "71/71 [==============================] - 3s 47ms/step - loss: 0.0157 - accuracy: 0.9942\n",
      "[INFO] Saving Model for butterfly fold 2 ...\n",
      "36/36 [==============================] - 1s 10ms/step\n"
     ]
    },
    {
     "name": "stderr",
     "output_type": "stream",
     "text": [
      "C:\\Users\\rudra\\AppData\\Local\\Temp\\ipykernel_6820\\3249705492.py:34: UserWarning: FigureCanvasAgg is non-interactive, and thus cannot be shown\n",
      "  plt.show()\n"
     ]
    },
    {
     "name": "stdout",
     "output_type": "stream",
     "text": [
      "1/1 [==============================] - 0s 78ms/step\n"
     ]
    },
    {
     "name": "stderr",
     "output_type": "stream",
     "text": [
      "C:\\Users\\rudra\\AppData\\Local\\Temp\\ipykernel_6820\\1767733992.py:15: RuntimeWarning: invalid value encountered in divide\n",
      "  channel_image /= channel_image.std()\n",
      "C:\\Users\\rudra\\AppData\\Local\\Temp\\ipykernel_6820\\1767733992.py:18: RuntimeWarning: invalid value encountered in cast\n",
      "  channel_image = np.clip(channel_image, 0, 255).astype('uint8')\n"
     ]
    },
    {
     "name": "stdout",
     "output_type": "stream",
     "text": [
      "[INFO] Training network for butterfly fold 3...\n",
      "Epoch 1/20\n",
      "71/71 [==============================] - 4s 48ms/step - loss: 0.4016 - accuracy: 0.8235\n",
      "Epoch 2/20\n",
      "71/71 [==============================] - 3s 47ms/step - loss: 0.2581 - accuracy: 0.8893\n",
      "Epoch 3/20\n",
      "71/71 [==============================] - 3s 47ms/step - loss: 0.1666 - accuracy: 0.9320\n",
      "Epoch 4/20\n",
      "71/71 [==============================] - 3s 47ms/step - loss: 0.1320 - accuracy: 0.9498\n",
      "Epoch 5/20\n",
      "71/71 [==============================] - 3s 47ms/step - loss: 0.0994 - accuracy: 0.9644\n",
      "Epoch 6/20\n",
      "71/71 [==============================] - 4s 49ms/step - loss: 0.0870 - accuracy: 0.9667\n",
      "Epoch 7/20\n",
      "71/71 [==============================] - 3s 47ms/step - loss: 0.0605 - accuracy: 0.9800\n",
      "Epoch 8/20\n",
      "71/71 [==============================] - 3s 47ms/step - loss: 0.0552 - accuracy: 0.9818\n",
      "Epoch 9/20\n",
      "71/71 [==============================] - 3s 47ms/step - loss: 0.0300 - accuracy: 0.9920\n",
      "Epoch 10/20\n",
      "71/71 [==============================] - 3s 47ms/step - loss: 0.0280 - accuracy: 0.9924\n",
      "Epoch 11/20\n",
      "71/71 [==============================] - 3s 47ms/step - loss: 0.0510 - accuracy: 0.9818\n",
      "Epoch 12/20\n",
      "71/71 [==============================] - 3s 47ms/step - loss: 0.0351 - accuracy: 0.9884\n",
      "Epoch 13/20\n",
      "71/71 [==============================] - 3s 47ms/step - loss: 0.0267 - accuracy: 0.9916\n",
      "Epoch 14/20\n",
      "71/71 [==============================] - 3s 47ms/step - loss: 0.0231 - accuracy: 0.9929\n",
      "Epoch 15/20\n",
      "71/71 [==============================] - 3s 47ms/step - loss: 0.0222 - accuracy: 0.9911\n",
      "Epoch 16/20\n",
      "71/71 [==============================] - 3s 47ms/step - loss: 0.0204 - accuracy: 0.9933\n",
      "Epoch 17/20\n",
      "71/71 [==============================] - 3s 47ms/step - loss: 0.0154 - accuracy: 0.9960\n",
      "Epoch 18/20\n",
      "71/71 [==============================] - 3s 47ms/step - loss: 0.0209 - accuracy: 0.9938\n",
      "Epoch 19/20\n",
      "71/71 [==============================] - 4s 49ms/step - loss: 0.0180 - accuracy: 0.9951\n",
      "Epoch 20/20\n",
      "71/71 [==============================] - 3s 47ms/step - loss: 0.0065 - accuracy: 0.9982\n",
      "[INFO] Saving Model for butterfly fold 3 ...\n",
      "36/36 [==============================] - 0s 10ms/step\n"
     ]
    },
    {
     "name": "stderr",
     "output_type": "stream",
     "text": [
      "C:\\Users\\rudra\\AppData\\Local\\Temp\\ipykernel_6820\\3249705492.py:34: UserWarning: FigureCanvasAgg is non-interactive, and thus cannot be shown\n",
      "  plt.show()\n"
     ]
    },
    {
     "name": "stdout",
     "output_type": "stream",
     "text": [
      "1/1 [==============================] - 0s 80ms/step\n"
     ]
    },
    {
     "name": "stderr",
     "output_type": "stream",
     "text": [
      "C:\\Users\\rudra\\AppData\\Local\\Temp\\ipykernel_6820\\1767733992.py:15: RuntimeWarning: invalid value encountered in divide\n",
      "  channel_image /= channel_image.std()\n",
      "C:\\Users\\rudra\\AppData\\Local\\Temp\\ipykernel_6820\\1767733992.py:18: RuntimeWarning: invalid value encountered in cast\n",
      "  channel_image = np.clip(channel_image, 0, 255).astype('uint8')\n"
     ]
    },
    {
     "name": "stdout",
     "output_type": "stream",
     "text": [
      "[INFO] Loading images ...\n",
      "[INFO] Processing cat ...\n",
      "[INFO] Processing rest ...\n",
      "[INFO] image extract completed\n",
      "total train samples: \n",
      "3440\n",
      "[INFO] Training network for cat fold 1...\n",
      "Epoch 1/20\n",
      "71/71 [==============================] - 4s 48ms/step - loss: 0.5169 - accuracy: 0.7500\n",
      "Epoch 2/20\n",
      "71/71 [==============================] - 3s 47ms/step - loss: 0.3700 - accuracy: 0.8341\n",
      "Epoch 3/20\n",
      "71/71 [==============================] - 3s 47ms/step - loss: 0.2811 - accuracy: 0.8881\n",
      "Epoch 4/20\n",
      "71/71 [==============================] - 3s 47ms/step - loss: 0.2026 - accuracy: 0.9248\n",
      "Epoch 5/20\n",
      "71/71 [==============================] - 3s 47ms/step - loss: 0.1801 - accuracy: 0.9261\n",
      "Epoch 6/20\n",
      "71/71 [==============================] - 3s 46ms/step - loss: 0.1324 - accuracy: 0.9527\n",
      "Epoch 7/20\n",
      "71/71 [==============================] - 3s 47ms/step - loss: 0.1043 - accuracy: 0.9633\n",
      "Epoch 8/20\n",
      "71/71 [==============================] - 3s 46ms/step - loss: 0.0606 - accuracy: 0.9828\n",
      "Epoch 9/20\n",
      "71/71 [==============================] - 3s 46ms/step - loss: 0.0789 - accuracy: 0.9743\n",
      "Epoch 10/20\n",
      "71/71 [==============================] - 4s 50ms/step - loss: 0.0579 - accuracy: 0.9832\n",
      "Epoch 11/20\n",
      "71/71 [==============================] - 3s 47ms/step - loss: 0.0471 - accuracy: 0.9863\n",
      "Epoch 12/20\n",
      "71/71 [==============================] - 3s 46ms/step - loss: 0.0547 - accuracy: 0.9810\n",
      "Epoch 13/20\n",
      "71/71 [==============================] - 3s 46ms/step - loss: 0.0306 - accuracy: 0.9916\n",
      "Epoch 14/20\n",
      "71/71 [==============================] - 3s 47ms/step - loss: 0.0294 - accuracy: 0.9907\n",
      "Epoch 15/20\n",
      "71/71 [==============================] - 3s 47ms/step - loss: 0.0393 - accuracy: 0.9898\n",
      "Epoch 16/20\n",
      "71/71 [==============================] - 3s 47ms/step - loss: 0.0324 - accuracy: 0.9912\n",
      "Epoch 17/20\n",
      "71/71 [==============================] - 3s 47ms/step - loss: 0.0477 - accuracy: 0.9850\n",
      "Epoch 18/20\n",
      "71/71 [==============================] - 3s 46ms/step - loss: 0.0504 - accuracy: 0.9819\n",
      "Epoch 19/20\n",
      "71/71 [==============================] - 3s 46ms/step - loss: 0.0281 - accuracy: 0.9925\n",
      "Epoch 20/20\n",
      "71/71 [==============================] - 3s 47ms/step - loss: 0.0163 - accuracy: 0.9956\n",
      "[INFO] Saving Model for cat fold 1 ...\n",
      "36/36 [==============================] - 0s 10ms/step\n"
     ]
    },
    {
     "name": "stderr",
     "output_type": "stream",
     "text": [
      "C:\\Users\\rudra\\AppData\\Local\\Temp\\ipykernel_6820\\3249705492.py:34: UserWarning: FigureCanvasAgg is non-interactive, and thus cannot be shown\n",
      "  plt.show()\n"
     ]
    },
    {
     "name": "stdout",
     "output_type": "stream",
     "text": [
      "1/1 [==============================] - 0s 78ms/step\n"
     ]
    },
    {
     "name": "stderr",
     "output_type": "stream",
     "text": [
      "C:\\Users\\rudra\\AppData\\Local\\Temp\\ipykernel_6820\\1767733992.py:15: RuntimeWarning: invalid value encountered in divide\n",
      "  channel_image /= channel_image.std()\n",
      "C:\\Users\\rudra\\AppData\\Local\\Temp\\ipykernel_6820\\1767733992.py:18: RuntimeWarning: invalid value encountered in cast\n",
      "  channel_image = np.clip(channel_image, 0, 255).astype('uint8')\n"
     ]
    },
    {
     "name": "stdout",
     "output_type": "stream",
     "text": [
      "[INFO] Training network for cat fold 2...\n",
      "Epoch 1/20\n",
      "71/71 [==============================] - 4s 48ms/step - loss: 0.5389 - accuracy: 0.7412\n",
      "Epoch 2/20\n",
      "71/71 [==============================] - 3s 48ms/step - loss: 0.3760 - accuracy: 0.8328\n",
      "Epoch 3/20\n",
      "71/71 [==============================] - 3s 47ms/step - loss: 0.3198 - accuracy: 0.8655\n",
      "Epoch 4/20\n",
      "71/71 [==============================] - 3s 47ms/step - loss: 0.2206 - accuracy: 0.9208\n",
      "Epoch 5/20\n",
      "71/71 [==============================] - 3s 47ms/step - loss: 0.1916 - accuracy: 0.9279\n",
      "Epoch 6/20\n",
      "71/71 [==============================] - 3s 47ms/step - loss: 0.1343 - accuracy: 0.9522\n",
      "Epoch 7/20\n",
      "71/71 [==============================] - 3s 47ms/step - loss: 0.0976 - accuracy: 0.9659\n",
      "Epoch 8/20\n",
      "71/71 [==============================] - 3s 47ms/step - loss: 0.0728 - accuracy: 0.9752\n",
      "Epoch 9/20\n",
      "71/71 [==============================] - 3s 47ms/step - loss: 0.0541 - accuracy: 0.9832\n",
      "Epoch 10/20\n",
      "71/71 [==============================] - 3s 47ms/step - loss: 0.0516 - accuracy: 0.9845\n",
      "Epoch 11/20\n",
      "71/71 [==============================] - 3s 47ms/step - loss: 0.0504 - accuracy: 0.9819\n",
      "Epoch 12/20\n",
      "71/71 [==============================] - 3s 47ms/step - loss: 0.0451 - accuracy: 0.9872\n",
      "Epoch 13/20\n",
      "71/71 [==============================] - 3s 47ms/step - loss: 0.0488 - accuracy: 0.9828\n",
      "Epoch 14/20\n",
      "71/71 [==============================] - 3s 48ms/step - loss: 0.0847 - accuracy: 0.9695\n",
      "Epoch 15/20\n",
      "71/71 [==============================] - 3s 47ms/step - loss: 0.0863 - accuracy: 0.9699\n",
      "Epoch 16/20\n",
      "71/71 [==============================] - 3s 48ms/step - loss: 0.0580 - accuracy: 0.9783\n",
      "Epoch 17/20\n",
      "71/71 [==============================] - 3s 48ms/step - loss: 0.0300 - accuracy: 0.9934\n",
      "Epoch 18/20\n",
      "71/71 [==============================] - 3s 47ms/step - loss: 0.0179 - accuracy: 0.9956\n",
      "Epoch 19/20\n",
      "71/71 [==============================] - 3s 47ms/step - loss: 0.0127 - accuracy: 0.9969\n",
      "Epoch 20/20\n",
      "71/71 [==============================] - 3s 47ms/step - loss: 0.0065 - accuracy: 0.9991\n",
      "[INFO] Saving Model for cat fold 2 ...\n",
      "36/36 [==============================] - 1s 10ms/step\n"
     ]
    },
    {
     "name": "stderr",
     "output_type": "stream",
     "text": [
      "C:\\Users\\rudra\\AppData\\Local\\Temp\\ipykernel_6820\\3249705492.py:34: UserWarning: FigureCanvasAgg is non-interactive, and thus cannot be shown\n",
      "  plt.show()\n"
     ]
    },
    {
     "name": "stdout",
     "output_type": "stream",
     "text": [
      "1/1 [==============================] - 0s 78ms/step\n"
     ]
    },
    {
     "name": "stderr",
     "output_type": "stream",
     "text": [
      "C:\\Users\\rudra\\AppData\\Local\\Temp\\ipykernel_6820\\1767733992.py:15: RuntimeWarning: invalid value encountered in divide\n",
      "  channel_image /= channel_image.std()\n",
      "C:\\Users\\rudra\\AppData\\Local\\Temp\\ipykernel_6820\\1767733992.py:18: RuntimeWarning: invalid value encountered in cast\n",
      "  channel_image = np.clip(channel_image, 0, 255).astype('uint8')\n"
     ]
    },
    {
     "name": "stdout",
     "output_type": "stream",
     "text": [
      "[INFO] Training network for cat fold 3...\n",
      "Epoch 1/20\n",
      "71/71 [==============================] - 4s 49ms/step - loss: 0.4821 - accuracy: 0.7751\n",
      "Epoch 2/20\n",
      "71/71 [==============================] - 4s 47ms/step - loss: 0.3532 - accuracy: 0.8448\n",
      "Epoch 3/20\n",
      "71/71 [==============================] - 3s 47ms/step - loss: 0.2609 - accuracy: 0.9010\n",
      "Epoch 4/20\n",
      "71/71 [==============================] - 3s 47ms/step - loss: 0.2100 - accuracy: 0.9195\n",
      "Epoch 5/20\n",
      "71/71 [==============================] - 3s 47ms/step - loss: 0.1669 - accuracy: 0.9363\n",
      "Epoch 6/20\n",
      "71/71 [==============================] - 3s 47ms/step - loss: 0.1096 - accuracy: 0.9642\n",
      "Epoch 7/20\n",
      "71/71 [==============================] - 3s 47ms/step - loss: 0.0831 - accuracy: 0.9721\n",
      "Epoch 8/20\n",
      "71/71 [==============================] - 3s 47ms/step - loss: 0.0519 - accuracy: 0.9889\n",
      "Epoch 9/20\n",
      "71/71 [==============================] - 3s 47ms/step - loss: 0.0521 - accuracy: 0.9814\n",
      "Epoch 10/20\n",
      "71/71 [==============================] - 3s 47ms/step - loss: 0.0566 - accuracy: 0.9783\n",
      "Epoch 11/20\n",
      "71/71 [==============================] - 3s 47ms/step - loss: 0.0365 - accuracy: 0.9903\n",
      "Epoch 12/20\n",
      "71/71 [==============================] - 3s 47ms/step - loss: 0.0302 - accuracy: 0.9920\n",
      "Epoch 13/20\n",
      "71/71 [==============================] - 3s 47ms/step - loss: 0.0209 - accuracy: 0.9956\n",
      "Epoch 14/20\n",
      "71/71 [==============================] - 3s 47ms/step - loss: 0.0157 - accuracy: 0.9965\n",
      "Epoch 15/20\n",
      "71/71 [==============================] - 3s 47ms/step - loss: 0.0137 - accuracy: 0.9973\n",
      "Epoch 16/20\n",
      "71/71 [==============================] - 3s 48ms/step - loss: 0.0273 - accuracy: 0.9920\n",
      "Epoch 17/20\n",
      "71/71 [==============================] - 3s 47ms/step - loss: 0.0215 - accuracy: 0.9943\n",
      "Epoch 18/20\n",
      "71/71 [==============================] - 3s 47ms/step - loss: 0.0329 - accuracy: 0.9889\n",
      "Epoch 19/20\n",
      "71/71 [==============================] - 3s 47ms/step - loss: 0.0206 - accuracy: 0.9925\n",
      "Epoch 20/20\n",
      "71/71 [==============================] - 3s 47ms/step - loss: 0.0386 - accuracy: 0.9850\n",
      "[INFO] Saving Model for cat fold 3 ...\n",
      "36/36 [==============================] - 1s 10ms/step\n"
     ]
    },
    {
     "name": "stderr",
     "output_type": "stream",
     "text": [
      "C:\\Users\\rudra\\AppData\\Local\\Temp\\ipykernel_6820\\3249705492.py:34: UserWarning: FigureCanvasAgg is non-interactive, and thus cannot be shown\n",
      "  plt.show()\n"
     ]
    },
    {
     "name": "stdout",
     "output_type": "stream",
     "text": [
      "1/1 [==============================] - 0s 78ms/step\n"
     ]
    },
    {
     "name": "stderr",
     "output_type": "stream",
     "text": [
      "C:\\Users\\rudra\\AppData\\Local\\Temp\\ipykernel_6820\\1767733992.py:15: RuntimeWarning: invalid value encountered in divide\n",
      "  channel_image /= channel_image.std()\n",
      "C:\\Users\\rudra\\AppData\\Local\\Temp\\ipykernel_6820\\1767733992.py:18: RuntimeWarning: invalid value encountered in cast\n",
      "  channel_image = np.clip(channel_image, 0, 255).astype('uint8')\n"
     ]
    },
    {
     "name": "stdout",
     "output_type": "stream",
     "text": [
      "[INFO] Loading images ...\n",
      "[INFO] Processing caterpillar ...\n",
      "[INFO] Processing rest ...\n",
      "[INFO] image extract completed\n",
      "total train samples: \n",
      "3419\n",
      "[INFO] Training network for caterpillar fold 1...\n",
      "Epoch 1/20\n",
      "71/71 [==============================] - 4s 47ms/step - loss: 0.3849 - accuracy: 0.8468\n",
      "Epoch 2/20\n",
      "71/71 [==============================] - 4s 47ms/step - loss: 0.2473 - accuracy: 0.9008\n",
      "Epoch 3/20\n",
      "71/71 [==============================] - 3s 47ms/step - loss: 0.1822 - accuracy: 0.9261\n",
      "Epoch 4/20\n",
      "71/71 [==============================] - 3s 46ms/step - loss: 0.1272 - accuracy: 0.9542\n",
      "Epoch 5/20\n",
      "71/71 [==============================] - 3s 47ms/step - loss: 0.1449 - accuracy: 0.9515\n",
      "Epoch 6/20\n",
      "71/71 [==============================] - 3s 47ms/step - loss: 0.1165 - accuracy: 0.9582\n",
      "Epoch 7/20\n",
      "71/71 [==============================] - 3s 46ms/step - loss: 0.1959 - accuracy: 0.9230\n",
      "Epoch 8/20\n",
      "71/71 [==============================] - 3s 47ms/step - loss: 0.0819 - accuracy: 0.9706\n",
      "Epoch 9/20\n",
      "71/71 [==============================] - 3s 47ms/step - loss: 0.0550 - accuracy: 0.9844\n",
      "Epoch 10/20\n",
      "71/71 [==============================] - 3s 47ms/step - loss: 0.0348 - accuracy: 0.9884\n",
      "Epoch 11/20\n",
      "71/71 [==============================] - 3s 47ms/step - loss: 0.0422 - accuracy: 0.9831\n",
      "Epoch 12/20\n",
      "71/71 [==============================] - 3s 47ms/step - loss: 0.0447 - accuracy: 0.9849\n",
      "Epoch 13/20\n",
      "71/71 [==============================] - 3s 47ms/step - loss: 0.0399 - accuracy: 0.9871\n",
      "Epoch 14/20\n",
      "71/71 [==============================] - 3s 47ms/step - loss: 0.0232 - accuracy: 0.9942\n",
      "Epoch 15/20\n",
      "71/71 [==============================] - 3s 47ms/step - loss: 0.0381 - accuracy: 0.9871\n",
      "Epoch 16/20\n",
      "71/71 [==============================] - 3s 47ms/step - loss: 0.0237 - accuracy: 0.9920\n",
      "Epoch 17/20\n",
      "71/71 [==============================] - 3s 47ms/step - loss: 0.0280 - accuracy: 0.9915\n",
      "Epoch 18/20\n",
      "71/71 [==============================] - 3s 47ms/step - loss: 0.0145 - accuracy: 0.9955\n",
      "Epoch 19/20\n",
      "71/71 [==============================] - 3s 47ms/step - loss: 0.0098 - accuracy: 0.9987\n",
      "Epoch 20/20\n",
      "71/71 [==============================] - 3s 47ms/step - loss: 0.0122 - accuracy: 0.9964\n",
      "[INFO] Saving Model for caterpillar fold 1 ...\n",
      "36/36 [==============================] - 0s 10ms/step\n"
     ]
    },
    {
     "name": "stderr",
     "output_type": "stream",
     "text": [
      "C:\\Users\\rudra\\AppData\\Local\\Temp\\ipykernel_6820\\3249705492.py:34: UserWarning: FigureCanvasAgg is non-interactive, and thus cannot be shown\n",
      "  plt.show()\n"
     ]
    },
    {
     "name": "stdout",
     "output_type": "stream",
     "text": [
      "1/1 [==============================] - 0s 78ms/step\n"
     ]
    },
    {
     "name": "stderr",
     "output_type": "stream",
     "text": [
      "C:\\Users\\rudra\\AppData\\Local\\Temp\\ipykernel_6820\\1767733992.py:15: RuntimeWarning: invalid value encountered in divide\n",
      "  channel_image /= channel_image.std()\n",
      "C:\\Users\\rudra\\AppData\\Local\\Temp\\ipykernel_6820\\1767733992.py:18: RuntimeWarning: invalid value encountered in cast\n",
      "  channel_image = np.clip(channel_image, 0, 255).astype('uint8')\n"
     ]
    },
    {
     "name": "stdout",
     "output_type": "stream",
     "text": [
      "[INFO] Training network for caterpillar fold 2...\n",
      "Epoch 1/20\n",
      "71/71 [==============================] - 4s 47ms/step - loss: 0.3792 - accuracy: 0.8530\n",
      "Epoch 2/20\n",
      "71/71 [==============================] - 3s 47ms/step - loss: 0.2689 - accuracy: 0.8990\n",
      "Epoch 3/20\n",
      "71/71 [==============================] - 3s 47ms/step - loss: 0.2209 - accuracy: 0.9208\n",
      "Epoch 4/20\n",
      "71/71 [==============================] - 3s 47ms/step - loss: 0.1656 - accuracy: 0.9404\n",
      "Epoch 5/20\n",
      "71/71 [==============================] - 3s 47ms/step - loss: 0.1502 - accuracy: 0.9435\n",
      "Epoch 6/20\n",
      "71/71 [==============================] - 3s 46ms/step - loss: 0.0942 - accuracy: 0.9671\n",
      "Epoch 7/20\n",
      "71/71 [==============================] - 3s 47ms/step - loss: 0.0839 - accuracy: 0.9715\n",
      "Epoch 8/20\n",
      "71/71 [==============================] - 3s 47ms/step - loss: 0.0541 - accuracy: 0.9831\n",
      "Epoch 9/20\n",
      "71/71 [==============================] - 3s 47ms/step - loss: 0.0541 - accuracy: 0.9835\n",
      "Epoch 10/20\n",
      "71/71 [==============================] - 3s 47ms/step - loss: 0.0459 - accuracy: 0.9849\n",
      "Epoch 11/20\n",
      "71/71 [==============================] - 3s 46ms/step - loss: 0.0611 - accuracy: 0.9795\n",
      "Epoch 12/20\n",
      "71/71 [==============================] - 3s 47ms/step - loss: 0.0356 - accuracy: 0.9889\n",
      "Epoch 13/20\n",
      "71/71 [==============================] - 3s 47ms/step - loss: 0.0256 - accuracy: 0.9933\n",
      "Epoch 14/20\n",
      "71/71 [==============================] - 3s 47ms/step - loss: 0.0648 - accuracy: 0.9764\n",
      "Epoch 15/20\n",
      "71/71 [==============================] - 3s 46ms/step - loss: 0.0350 - accuracy: 0.9884\n",
      "Epoch 16/20\n",
      "71/71 [==============================] - 3s 46ms/step - loss: 0.0359 - accuracy: 0.9898\n",
      "Epoch 17/20\n",
      "71/71 [==============================] - 3s 46ms/step - loss: 0.0208 - accuracy: 0.9938\n",
      "Epoch 18/20\n",
      "71/71 [==============================] - 3s 46ms/step - loss: 0.0078 - accuracy: 0.9991\n",
      "Epoch 19/20\n",
      "71/71 [==============================] - 3s 46ms/step - loss: 0.0048 - accuracy: 0.9996\n",
      "Epoch 20/20\n",
      "71/71 [==============================] - 3s 46ms/step - loss: 0.0096 - accuracy: 0.9982\n",
      "[INFO] Saving Model for caterpillar fold 2 ...\n",
      "36/36 [==============================] - 0s 10ms/step\n"
     ]
    },
    {
     "name": "stderr",
     "output_type": "stream",
     "text": [
      "C:\\Users\\rudra\\AppData\\Local\\Temp\\ipykernel_6820\\3249705492.py:34: UserWarning: FigureCanvasAgg is non-interactive, and thus cannot be shown\n",
      "  plt.show()\n"
     ]
    },
    {
     "name": "stdout",
     "output_type": "stream",
     "text": [
      "1/1 [==============================] - 0s 78ms/step\n"
     ]
    },
    {
     "name": "stderr",
     "output_type": "stream",
     "text": [
      "C:\\Users\\rudra\\AppData\\Local\\Temp\\ipykernel_6820\\1767733992.py:15: RuntimeWarning: invalid value encountered in divide\n",
      "  channel_image /= channel_image.std()\n",
      "C:\\Users\\rudra\\AppData\\Local\\Temp\\ipykernel_6820\\1767733992.py:18: RuntimeWarning: invalid value encountered in cast\n",
      "  channel_image = np.clip(channel_image, 0, 255).astype('uint8')\n"
     ]
    },
    {
     "name": "stdout",
     "output_type": "stream",
     "text": [
      "[INFO] Training network for caterpillar fold 3...\n",
      "Epoch 1/20\n",
      "71/71 [==============================] - 4s 48ms/step - loss: 0.3988 - accuracy: 0.8244\n",
      "Epoch 2/20\n",
      "71/71 [==============================] - 3s 47ms/step - loss: 0.2476 - accuracy: 0.9057\n",
      "Epoch 3/20\n",
      "71/71 [==============================] - 3s 47ms/step - loss: 0.2039 - accuracy: 0.9190\n",
      "Epoch 4/20\n",
      "71/71 [==============================] - 4s 50ms/step - loss: 0.1529 - accuracy: 0.9462\n",
      "Epoch 5/20\n",
      "71/71 [==============================] - 3s 47ms/step - loss: 0.1274 - accuracy: 0.9569\n",
      "Epoch 6/20\n",
      "71/71 [==============================] - 3s 47ms/step - loss: 0.1047 - accuracy: 0.9649\n",
      "Epoch 7/20\n",
      "71/71 [==============================] - 3s 47ms/step - loss: 0.0579 - accuracy: 0.9818\n",
      "Epoch 8/20\n",
      "71/71 [==============================] - 3s 47ms/step - loss: 0.0500 - accuracy: 0.9835\n",
      "Epoch 9/20\n",
      "71/71 [==============================] - 3s 47ms/step - loss: 0.0789 - accuracy: 0.9702\n",
      "Epoch 10/20\n",
      "71/71 [==============================] - 3s 47ms/step - loss: 0.0628 - accuracy: 0.9778\n",
      "Epoch 11/20\n",
      "71/71 [==============================] - 3s 47ms/step - loss: 0.0238 - accuracy: 0.9933\n",
      "Epoch 12/20\n",
      "71/71 [==============================] - 3s 47ms/step - loss: 0.0166 - accuracy: 0.9951\n",
      "Epoch 13/20\n",
      "71/71 [==============================] - 3s 47ms/step - loss: 0.0115 - accuracy: 0.9978\n",
      "Epoch 14/20\n",
      "71/71 [==============================] - 3s 47ms/step - loss: 0.0329 - accuracy: 0.9907\n",
      "Epoch 15/20\n",
      "71/71 [==============================] - 3s 47ms/step - loss: 0.0241 - accuracy: 0.9915\n",
      "Epoch 16/20\n",
      "71/71 [==============================] - 3s 47ms/step - loss: 0.0135 - accuracy: 0.9969\n",
      "Epoch 17/20\n",
      "71/71 [==============================] - 3s 47ms/step - loss: 0.0081 - accuracy: 0.9982\n",
      "Epoch 18/20\n",
      "71/71 [==============================] - 3s 47ms/step - loss: 0.0298 - accuracy: 0.9907\n",
      "Epoch 19/20\n",
      "71/71 [==============================] - 3s 47ms/step - loss: 0.0230 - accuracy: 0.9920\n",
      "Epoch 20/20\n",
      "71/71 [==============================] - 3s 47ms/step - loss: 0.0248 - accuracy: 0.9911\n",
      "[INFO] Saving Model for caterpillar fold 3 ...\n",
      "36/36 [==============================] - 0s 10ms/step\n"
     ]
    },
    {
     "name": "stderr",
     "output_type": "stream",
     "text": [
      "C:\\Users\\rudra\\AppData\\Local\\Temp\\ipykernel_6820\\3249705492.py:34: UserWarning: FigureCanvasAgg is non-interactive, and thus cannot be shown\n",
      "  plt.show()\n"
     ]
    },
    {
     "name": "stdout",
     "output_type": "stream",
     "text": [
      "1/1 [==============================] - 0s 78ms/step\n"
     ]
    },
    {
     "name": "stderr",
     "output_type": "stream",
     "text": [
      "C:\\Users\\rudra\\AppData\\Local\\Temp\\ipykernel_6820\\1767733992.py:15: RuntimeWarning: invalid value encountered in divide\n",
      "  channel_image /= channel_image.std()\n",
      "C:\\Users\\rudra\\AppData\\Local\\Temp\\ipykernel_6820\\1767733992.py:18: RuntimeWarning: invalid value encountered in cast\n",
      "  channel_image = np.clip(channel_image, 0, 255).astype('uint8')\n"
     ]
    },
    {
     "name": "stdout",
     "output_type": "stream",
     "text": [
      "[INFO] Loading images ...\n",
      "[INFO] Processing chimpanzee ...\n",
      "[INFO] Processing rest ...\n",
      "[INFO] image extract completed\n",
      "total train samples: \n",
      "3433\n",
      "[INFO] Training network for chimpanzee fold 1...\n",
      "Epoch 1/20\n",
      "71/71 [==============================] - 4s 48ms/step - loss: 0.3884 - accuracy: 0.8261\n",
      "Epoch 2/20\n",
      "71/71 [==============================] - 3s 48ms/step - loss: 0.2336 - accuracy: 0.9131\n",
      "Epoch 3/20\n",
      "71/71 [==============================] - 4s 50ms/step - loss: 0.1851 - accuracy: 0.9282\n",
      "Epoch 4/20\n",
      "71/71 [==============================] - 3s 47ms/step - loss: 0.1464 - accuracy: 0.9433\n",
      "Epoch 5/20\n",
      "71/71 [==============================] - 3s 47ms/step - loss: 0.1047 - accuracy: 0.9650\n",
      "Epoch 6/20\n",
      "71/71 [==============================] - 3s 48ms/step - loss: 0.0988 - accuracy: 0.9685\n",
      "Epoch 7/20\n",
      "71/71 [==============================] - 3s 47ms/step - loss: 0.0299 - accuracy: 0.9938\n",
      "Epoch 8/20\n",
      "71/71 [==============================] - 3s 47ms/step - loss: 0.0302 - accuracy: 0.9920\n",
      "Epoch 9/20\n",
      "71/71 [==============================] - 3s 47ms/step - loss: 0.0520 - accuracy: 0.9814\n",
      "Epoch 10/20\n",
      "71/71 [==============================] - 3s 47ms/step - loss: 0.0670 - accuracy: 0.9787\n",
      "Epoch 11/20\n",
      "71/71 [==============================] - 3s 47ms/step - loss: 0.0370 - accuracy: 0.9885\n",
      "Epoch 12/20\n",
      "71/71 [==============================] - 3s 47ms/step - loss: 0.0174 - accuracy: 0.9956\n",
      "Epoch 13/20\n",
      "71/71 [==============================] - 3s 47ms/step - loss: 0.0174 - accuracy: 0.9960\n",
      "Epoch 14/20\n",
      "71/71 [==============================] - 3s 47ms/step - loss: 0.0218 - accuracy: 0.9925\n",
      "Epoch 15/20\n",
      "71/71 [==============================] - 3s 47ms/step - loss: 0.0078 - accuracy: 0.9987\n",
      "Epoch 16/20\n",
      "71/71 [==============================] - 3s 47ms/step - loss: 0.0303 - accuracy: 0.9911\n",
      "Epoch 17/20\n",
      "71/71 [==============================] - 3s 47ms/step - loss: 0.0314 - accuracy: 0.9885\n",
      "Epoch 18/20\n",
      "71/71 [==============================] - 3s 47ms/step - loss: 0.0176 - accuracy: 0.9956\n",
      "Epoch 19/20\n",
      "71/71 [==============================] - 3s 47ms/step - loss: 0.0184 - accuracy: 0.9920\n",
      "Epoch 20/20\n",
      "71/71 [==============================] - 3s 46ms/step - loss: 0.0209 - accuracy: 0.9938\n",
      "[INFO] Saving Model for chimpanzee fold 1 ...\n",
      "36/36 [==============================] - 0s 10ms/step\n"
     ]
    },
    {
     "name": "stderr",
     "output_type": "stream",
     "text": [
      "C:\\Users\\rudra\\AppData\\Local\\Temp\\ipykernel_6820\\3249705492.py:34: UserWarning: FigureCanvasAgg is non-interactive, and thus cannot be shown\n",
      "  plt.show()\n"
     ]
    },
    {
     "name": "stdout",
     "output_type": "stream",
     "text": [
      "1/1 [==============================] - 0s 78ms/step\n"
     ]
    },
    {
     "name": "stderr",
     "output_type": "stream",
     "text": [
      "C:\\Users\\rudra\\AppData\\Local\\Temp\\ipykernel_6820\\1767733992.py:15: RuntimeWarning: invalid value encountered in divide\n",
      "  channel_image /= channel_image.std()\n",
      "C:\\Users\\rudra\\AppData\\Local\\Temp\\ipykernel_6820\\1767733992.py:18: RuntimeWarning: invalid value encountered in cast\n",
      "  channel_image = np.clip(channel_image, 0, 255).astype('uint8')\n"
     ]
    },
    {
     "name": "stdout",
     "output_type": "stream",
     "text": [
      "[INFO] Training network for chimpanzee fold 2...\n",
      "Epoch 1/20\n",
      "71/71 [==============================] - 4s 48ms/step - loss: 0.3935 - accuracy: 0.8231\n",
      "Epoch 2/20\n",
      "71/71 [==============================] - 3s 48ms/step - loss: 0.2512 - accuracy: 0.9008\n",
      "Epoch 3/20\n",
      "71/71 [==============================] - 3s 47ms/step - loss: 0.1845 - accuracy: 0.9278\n",
      "Epoch 4/20\n",
      "71/71 [==============================] - 3s 47ms/step - loss: 0.1325 - accuracy: 0.9530\n",
      "Epoch 5/20\n",
      "71/71 [==============================] - 3s 47ms/step - loss: 0.0982 - accuracy: 0.9637\n",
      "Epoch 6/20\n",
      "71/71 [==============================] - 3s 47ms/step - loss: 0.0645 - accuracy: 0.9792\n",
      "Epoch 7/20\n",
      "71/71 [==============================] - 3s 47ms/step - loss: 0.0605 - accuracy: 0.9792\n",
      "Epoch 8/20\n",
      "71/71 [==============================] - 3s 47ms/step - loss: 0.0455 - accuracy: 0.9840\n",
      "Epoch 9/20\n",
      "71/71 [==============================] - 3s 46ms/step - loss: 0.0541 - accuracy: 0.9801\n",
      "Epoch 10/20\n",
      "71/71 [==============================] - 3s 47ms/step - loss: 0.0587 - accuracy: 0.9770\n",
      "Epoch 11/20\n",
      "71/71 [==============================] - 3s 47ms/step - loss: 0.0627 - accuracy: 0.9787\n",
      "Epoch 12/20\n",
      "71/71 [==============================] - 3s 47ms/step - loss: 0.0291 - accuracy: 0.9929\n",
      "Epoch 13/20\n",
      "71/71 [==============================] - 3s 46ms/step - loss: 0.0149 - accuracy: 0.9951\n",
      "Epoch 14/20\n",
      "71/71 [==============================] - 3s 46ms/step - loss: 0.0098 - accuracy: 0.9991\n",
      "Epoch 15/20\n",
      "71/71 [==============================] - 3s 46ms/step - loss: 0.0151 - accuracy: 0.9973\n",
      "Epoch 16/20\n",
      "71/71 [==============================] - 3s 46ms/step - loss: 0.0154 - accuracy: 0.9969\n",
      "Epoch 17/20\n",
      "71/71 [==============================] - 3s 46ms/step - loss: 0.0136 - accuracy: 0.9982\n",
      "Epoch 18/20\n",
      "71/71 [==============================] - 3s 46ms/step - loss: 0.0126 - accuracy: 0.9965\n",
      "Epoch 19/20\n",
      "71/71 [==============================] - 3s 46ms/step - loss: 0.0112 - accuracy: 0.9947\n",
      "Epoch 20/20\n",
      "71/71 [==============================] - 3s 46ms/step - loss: 0.0263 - accuracy: 0.9925\n",
      "[INFO] Saving Model for chimpanzee fold 2 ...\n",
      "36/36 [==============================] - 1s 10ms/step\n"
     ]
    },
    {
     "name": "stderr",
     "output_type": "stream",
     "text": [
      "C:\\Users\\rudra\\AppData\\Local\\Temp\\ipykernel_6820\\3249705492.py:34: UserWarning: FigureCanvasAgg is non-interactive, and thus cannot be shown\n",
      "  plt.show()\n"
     ]
    },
    {
     "name": "stdout",
     "output_type": "stream",
     "text": [
      "1/1 [==============================] - 0s 78ms/step\n"
     ]
    },
    {
     "name": "stderr",
     "output_type": "stream",
     "text": [
      "C:\\Users\\rudra\\AppData\\Local\\Temp\\ipykernel_6820\\1767733992.py:15: RuntimeWarning: invalid value encountered in divide\n",
      "  channel_image /= channel_image.std()\n",
      "C:\\Users\\rudra\\AppData\\Local\\Temp\\ipykernel_6820\\1767733992.py:18: RuntimeWarning: invalid value encountered in cast\n",
      "  channel_image = np.clip(channel_image, 0, 255).astype('uint8')\n"
     ]
    },
    {
     "name": "stdout",
     "output_type": "stream",
     "text": [
      "[INFO] Training network for chimpanzee fold 3...\n",
      "Epoch 1/20\n",
      "71/71 [==============================] - 4s 48ms/step - loss: 0.4012 - accuracy: 0.8239\n",
      "Epoch 2/20\n",
      "71/71 [==============================] - 3s 47ms/step - loss: 0.2659 - accuracy: 0.8972\n",
      "Epoch 3/20\n",
      "71/71 [==============================] - 3s 47ms/step - loss: 0.1598 - accuracy: 0.9428\n",
      "Epoch 4/20\n",
      "71/71 [==============================] - 3s 47ms/step - loss: 0.1778 - accuracy: 0.9366\n",
      "Epoch 5/20\n",
      "71/71 [==============================] - 3s 48ms/step - loss: 0.1154 - accuracy: 0.9579\n",
      "Epoch 6/20\n",
      "71/71 [==============================] - 3s 47ms/step - loss: 0.0995 - accuracy: 0.9623\n",
      "Epoch 7/20\n",
      "71/71 [==============================] - 3s 47ms/step - loss: 0.0507 - accuracy: 0.9849\n",
      "Epoch 8/20\n",
      "71/71 [==============================] - 3s 47ms/step - loss: 0.0411 - accuracy: 0.9876\n",
      "Epoch 9/20\n",
      "71/71 [==============================] - 3s 47ms/step - loss: 0.0278 - accuracy: 0.9920\n",
      "Epoch 10/20\n",
      "71/71 [==============================] - 3s 47ms/step - loss: 0.0436 - accuracy: 0.9872\n",
      "Epoch 11/20\n",
      "71/71 [==============================] - 3s 48ms/step - loss: 0.0340 - accuracy: 0.9863\n",
      "Epoch 12/20\n",
      "71/71 [==============================] - 3s 47ms/step - loss: 0.0303 - accuracy: 0.9889\n",
      "Epoch 13/20\n",
      "71/71 [==============================] - 3s 47ms/step - loss: 0.0231 - accuracy: 0.9916\n",
      "Epoch 14/20\n",
      "71/71 [==============================] - 3s 47ms/step - loss: 0.0193 - accuracy: 0.9947\n",
      "Epoch 15/20\n",
      "71/71 [==============================] - 3s 47ms/step - loss: 0.0243 - accuracy: 0.9911\n",
      "Epoch 16/20\n",
      "71/71 [==============================] - 3s 47ms/step - loss: 0.0268 - accuracy: 0.9894\n",
      "Epoch 17/20\n",
      "71/71 [==============================] - 3s 47ms/step - loss: 0.0180 - accuracy: 0.9934\n",
      "Epoch 18/20\n",
      "71/71 [==============================] - 3s 47ms/step - loss: 0.0252 - accuracy: 0.9907\n",
      "Epoch 19/20\n",
      "71/71 [==============================] - 3s 47ms/step - loss: 0.0180 - accuracy: 0.9951\n",
      "Epoch 20/20\n",
      "71/71 [==============================] - 3s 48ms/step - loss: 0.0244 - accuracy: 0.9925\n",
      "[INFO] Saving Model for chimpanzee fold 3 ...\n",
      "36/36 [==============================] - 0s 11ms/step\n"
     ]
    },
    {
     "name": "stderr",
     "output_type": "stream",
     "text": [
      "C:\\Users\\rudra\\AppData\\Local\\Temp\\ipykernel_6820\\3249705492.py:34: UserWarning: FigureCanvasAgg is non-interactive, and thus cannot be shown\n",
      "  plt.show()\n"
     ]
    },
    {
     "name": "stdout",
     "output_type": "stream",
     "text": [
      "1/1 [==============================] - 0s 78ms/step\n"
     ]
    },
    {
     "name": "stderr",
     "output_type": "stream",
     "text": [
      "C:\\Users\\rudra\\AppData\\Local\\Temp\\ipykernel_6820\\1767733992.py:15: RuntimeWarning: invalid value encountered in divide\n",
      "  channel_image /= channel_image.std()\n",
      "C:\\Users\\rudra\\AppData\\Local\\Temp\\ipykernel_6820\\1767733992.py:18: RuntimeWarning: invalid value encountered in cast\n",
      "  channel_image = np.clip(channel_image, 0, 255).astype('uint8')\n"
     ]
    },
    {
     "name": "stdout",
     "output_type": "stream",
     "text": [
      "[INFO] Loading images ...\n",
      "[INFO] Processing cockroach ...\n",
      "[INFO] Processing rest ...\n",
      "[INFO] image extract completed\n",
      "total train samples: \n",
      "3433\n",
      "[INFO] Training network for cockroach fold 1...\n",
      "Epoch 1/20\n",
      "71/71 [==============================] - 4s 48ms/step - loss: 0.3739 - accuracy: 0.8420\n",
      "Epoch 2/20\n",
      "71/71 [==============================] - 3s 48ms/step - loss: 0.2379 - accuracy: 0.9051\n",
      "Epoch 3/20\n",
      "71/71 [==============================] - 3s 47ms/step - loss: 0.1832 - accuracy: 0.9313\n",
      "Epoch 4/20\n",
      "71/71 [==============================] - 3s 47ms/step - loss: 0.1118 - accuracy: 0.9623\n",
      "Epoch 5/20\n",
      "71/71 [==============================] - 3s 47ms/step - loss: 0.1051 - accuracy: 0.9610\n",
      "Epoch 6/20\n",
      "71/71 [==============================] - 3s 47ms/step - loss: 0.0527 - accuracy: 0.9840\n",
      "Epoch 7/20\n",
      "71/71 [==============================] - 3s 48ms/step - loss: 0.0383 - accuracy: 0.9876\n",
      "Epoch 8/20\n",
      "71/71 [==============================] - 3s 47ms/step - loss: 0.0264 - accuracy: 0.9934\n",
      "Epoch 9/20\n",
      "71/71 [==============================] - 3s 47ms/step - loss: 0.0349 - accuracy: 0.9858\n",
      "Epoch 10/20\n",
      "71/71 [==============================] - 3s 47ms/step - loss: 0.0175 - accuracy: 0.9965\n",
      "Epoch 11/20\n",
      "71/71 [==============================] - 3s 47ms/step - loss: 0.0274 - accuracy: 0.9911\n",
      "Epoch 12/20\n",
      "71/71 [==============================] - 3s 47ms/step - loss: 0.0353 - accuracy: 0.9889\n",
      "Epoch 13/20\n",
      "71/71 [==============================] - 3s 47ms/step - loss: 0.0270 - accuracy: 0.9889\n",
      "Epoch 14/20\n",
      "71/71 [==============================] - 3s 47ms/step - loss: 0.0336 - accuracy: 0.9898\n",
      "Epoch 15/20\n",
      "71/71 [==============================] - 3s 47ms/step - loss: 0.0290 - accuracy: 0.9894\n",
      "Epoch 16/20\n",
      "71/71 [==============================] - 3s 47ms/step - loss: 0.0220 - accuracy: 0.9925\n",
      "Epoch 17/20\n",
      "71/71 [==============================] - 3s 47ms/step - loss: 0.0220 - accuracy: 0.9925\n",
      "Epoch 18/20\n",
      "71/71 [==============================] - 3s 47ms/step - loss: 0.0110 - accuracy: 0.9965\n",
      "Epoch 19/20\n",
      "71/71 [==============================] - 3s 47ms/step - loss: 0.0178 - accuracy: 0.9956\n",
      "Epoch 20/20\n",
      "71/71 [==============================] - 3s 47ms/step - loss: 0.0178 - accuracy: 0.9947\n",
      "[INFO] Saving Model for cockroach fold 1 ...\n",
      "36/36 [==============================] - 0s 10ms/step\n"
     ]
    },
    {
     "name": "stderr",
     "output_type": "stream",
     "text": [
      "C:\\Users\\rudra\\AppData\\Local\\Temp\\ipykernel_6820\\3249705492.py:34: UserWarning: FigureCanvasAgg is non-interactive, and thus cannot be shown\n",
      "  plt.show()\n"
     ]
    },
    {
     "name": "stdout",
     "output_type": "stream",
     "text": [
      "1/1 [==============================] - 0s 78ms/step\n"
     ]
    },
    {
     "name": "stderr",
     "output_type": "stream",
     "text": [
      "C:\\Users\\rudra\\AppData\\Local\\Temp\\ipykernel_6820\\1767733992.py:15: RuntimeWarning: invalid value encountered in divide\n",
      "  channel_image /= channel_image.std()\n",
      "C:\\Users\\rudra\\AppData\\Local\\Temp\\ipykernel_6820\\1767733992.py:18: RuntimeWarning: invalid value encountered in cast\n",
      "  channel_image = np.clip(channel_image, 0, 255).astype('uint8')\n"
     ]
    },
    {
     "name": "stdout",
     "output_type": "stream",
     "text": [
      "[INFO] Training network for cockroach fold 2...\n",
      "Epoch 1/20\n",
      "71/71 [==============================] - 4s 48ms/step - loss: 0.4125 - accuracy: 0.8261\n",
      "Epoch 2/20\n",
      "71/71 [==============================] - 3s 47ms/step - loss: 0.2570 - accuracy: 0.9008\n",
      "Epoch 3/20\n",
      "71/71 [==============================] - 3s 47ms/step - loss: 0.1717 - accuracy: 0.9411\n",
      "Epoch 4/20\n",
      "71/71 [==============================] - 3s 47ms/step - loss: 0.1505 - accuracy: 0.9424\n",
      "Epoch 5/20\n",
      "71/71 [==============================] - 3s 47ms/step - loss: 0.1004 - accuracy: 0.9672\n",
      "Epoch 6/20\n",
      "71/71 [==============================] - 3s 47ms/step - loss: 0.0847 - accuracy: 0.9685\n",
      "Epoch 7/20\n",
      "71/71 [==============================] - 3s 48ms/step - loss: 0.0629 - accuracy: 0.9787\n",
      "Epoch 8/20\n",
      "71/71 [==============================] - 3s 47ms/step - loss: 0.0634 - accuracy: 0.9792\n",
      "Epoch 9/20\n",
      "71/71 [==============================] - 3s 47ms/step - loss: 0.0347 - accuracy: 0.9894\n",
      "Epoch 10/20\n",
      "71/71 [==============================] - 3s 47ms/step - loss: 0.0227 - accuracy: 0.9942\n",
      "Epoch 11/20\n",
      "71/71 [==============================] - 3s 48ms/step - loss: 0.0191 - accuracy: 0.9929\n",
      "Epoch 12/20\n",
      "71/71 [==============================] - 3s 49ms/step - loss: 0.0563 - accuracy: 0.9778\n",
      "Epoch 13/20\n",
      "71/71 [==============================] - 3s 47ms/step - loss: 0.0170 - accuracy: 0.9960\n",
      "Epoch 14/20\n",
      "71/71 [==============================] - 3s 47ms/step - loss: 0.0146 - accuracy: 0.9969\n",
      "Epoch 15/20\n",
      "71/71 [==============================] - 3s 47ms/step - loss: 0.0069 - accuracy: 0.9987\n",
      "Epoch 16/20\n",
      "71/71 [==============================] - 3s 47ms/step - loss: 0.0108 - accuracy: 0.9978\n",
      "Epoch 17/20\n",
      "71/71 [==============================] - 3s 47ms/step - loss: 0.0058 - accuracy: 0.9996\n",
      "Epoch 18/20\n",
      "71/71 [==============================] - 3s 47ms/step - loss: 0.0167 - accuracy: 0.9938\n",
      "Epoch 19/20\n",
      "71/71 [==============================] - 3s 47ms/step - loss: 0.0365 - accuracy: 0.9872\n",
      "Epoch 20/20\n",
      "71/71 [==============================] - 3s 46ms/step - loss: 0.0296 - accuracy: 0.9911\n",
      "[INFO] Saving Model for cockroach fold 2 ...\n",
      "36/36 [==============================] - 1s 10ms/step\n"
     ]
    },
    {
     "name": "stderr",
     "output_type": "stream",
     "text": [
      "C:\\Users\\rudra\\AppData\\Local\\Temp\\ipykernel_6820\\3249705492.py:34: UserWarning: FigureCanvasAgg is non-interactive, and thus cannot be shown\n",
      "  plt.show()\n"
     ]
    },
    {
     "name": "stdout",
     "output_type": "stream",
     "text": [
      "1/1 [==============================] - 0s 78ms/step\n"
     ]
    },
    {
     "name": "stderr",
     "output_type": "stream",
     "text": [
      "C:\\Users\\rudra\\AppData\\Local\\Temp\\ipykernel_6820\\1767733992.py:15: RuntimeWarning: invalid value encountered in divide\n",
      "  channel_image /= channel_image.std()\n",
      "C:\\Users\\rudra\\AppData\\Local\\Temp\\ipykernel_6820\\1767733992.py:18: RuntimeWarning: invalid value encountered in cast\n",
      "  channel_image = np.clip(channel_image, 0, 255).astype('uint8')\n"
     ]
    },
    {
     "name": "stdout",
     "output_type": "stream",
     "text": [
      "[INFO] Training network for cockroach fold 3...\n",
      "Epoch 1/20\n",
      "71/71 [==============================] - 4s 48ms/step - loss: 0.3590 - accuracy: 0.8521\n",
      "Epoch 2/20\n",
      "71/71 [==============================] - 3s 47ms/step - loss: 0.2324 - accuracy: 0.9185\n",
      "Epoch 3/20\n",
      "71/71 [==============================] - 3s 47ms/step - loss: 0.1927 - accuracy: 0.9269\n",
      "Epoch 4/20\n",
      "71/71 [==============================] - 3s 47ms/step - loss: 0.1376 - accuracy: 0.9482\n",
      "Epoch 5/20\n",
      "71/71 [==============================] - 3s 47ms/step - loss: 0.0873 - accuracy: 0.9708\n",
      "Epoch 6/20\n",
      "71/71 [==============================] - 3s 48ms/step - loss: 0.0759 - accuracy: 0.9756\n",
      "Epoch 7/20\n",
      "71/71 [==============================] - 3s 48ms/step - loss: 0.0451 - accuracy: 0.9880\n",
      "Epoch 8/20\n",
      "71/71 [==============================] - 3s 48ms/step - loss: 0.0392 - accuracy: 0.9885\n",
      "Epoch 9/20\n",
      "71/71 [==============================] - 3s 47ms/step - loss: 0.0192 - accuracy: 0.9951\n",
      "Epoch 10/20\n",
      "71/71 [==============================] - 3s 47ms/step - loss: 0.0422 - accuracy: 0.9858\n",
      "Epoch 11/20\n",
      "71/71 [==============================] - 3s 47ms/step - loss: 0.0465 - accuracy: 0.9832\n",
      "Epoch 12/20\n",
      "71/71 [==============================] - 3s 47ms/step - loss: 0.0470 - accuracy: 0.9832\n",
      "Epoch 13/20\n",
      "71/71 [==============================] - 3s 47ms/step - loss: 0.0295 - accuracy: 0.9889\n",
      "Epoch 14/20\n",
      "71/71 [==============================] - 4s 51ms/step - loss: 0.0131 - accuracy: 0.9956\n",
      "Epoch 15/20\n",
      "71/71 [==============================] - 3s 47ms/step - loss: 0.0218 - accuracy: 0.9942\n",
      "Epoch 16/20\n",
      "71/71 [==============================] - 3s 47ms/step - loss: 0.0148 - accuracy: 0.9960\n",
      "Epoch 17/20\n",
      "71/71 [==============================] - 3s 47ms/step - loss: 0.0127 - accuracy: 0.9956\n",
      "Epoch 18/20\n",
      "71/71 [==============================] - 3s 47ms/step - loss: 0.0145 - accuracy: 0.9960\n",
      "Epoch 19/20\n",
      "71/71 [==============================] - 3s 47ms/step - loss: 0.0267 - accuracy: 0.9903\n",
      "Epoch 20/20\n",
      "71/71 [==============================] - 3s 47ms/step - loss: 0.0211 - accuracy: 0.9934\n",
      "[INFO] Saving Model for cockroach fold 3 ...\n",
      "36/36 [==============================] - 0s 10ms/step\n"
     ]
    },
    {
     "name": "stderr",
     "output_type": "stream",
     "text": [
      "C:\\Users\\rudra\\AppData\\Local\\Temp\\ipykernel_6820\\3249705492.py:34: UserWarning: FigureCanvasAgg is non-interactive, and thus cannot be shown\n",
      "  plt.show()\n"
     ]
    },
    {
     "name": "stdout",
     "output_type": "stream",
     "text": [
      "1/1 [==============================] - 0s 94ms/step\n"
     ]
    },
    {
     "name": "stderr",
     "output_type": "stream",
     "text": [
      "C:\\Users\\rudra\\AppData\\Local\\Temp\\ipykernel_6820\\1767733992.py:15: RuntimeWarning: invalid value encountered in divide\n",
      "  channel_image /= channel_image.std()\n",
      "C:\\Users\\rudra\\AppData\\Local\\Temp\\ipykernel_6820\\1767733992.py:18: RuntimeWarning: invalid value encountered in cast\n",
      "  channel_image = np.clip(channel_image, 0, 255).astype('uint8')\n"
     ]
    },
    {
     "name": "stdout",
     "output_type": "stream",
     "text": [
      "[INFO] Loading images ...\n",
      "[INFO] Processing cow ...\n",
      "[INFO] Processing rest ...\n",
      "[INFO] image extract completed\n",
      "total train samples: \n",
      "3429\n",
      "[INFO] Training network for cow fold 1...\n",
      "Epoch 1/20\n",
      "71/71 [==============================] - 5s 48ms/step - loss: 0.5344 - accuracy: 0.7315\n",
      "Epoch 2/20\n",
      "71/71 [==============================] - 4s 47ms/step - loss: 0.3202 - accuracy: 0.8598\n",
      "Epoch 3/20\n",
      "71/71 [==============================] - 3s 47ms/step - loss: 0.2530 - accuracy: 0.8909\n",
      "Epoch 4/20\n",
      "71/71 [==============================] - 3s 47ms/step - loss: 0.1981 - accuracy: 0.9184\n",
      "Epoch 5/20\n",
      "71/71 [==============================] - 3s 47ms/step - loss: 0.1195 - accuracy: 0.9574\n",
      "Epoch 6/20\n",
      "71/71 [==============================] - 3s 49ms/step - loss: 0.0763 - accuracy: 0.9756\n",
      "Epoch 7/20\n",
      "71/71 [==============================] - 3s 47ms/step - loss: 0.0637 - accuracy: 0.9836\n",
      "Epoch 8/20\n",
      "71/71 [==============================] - 3s 47ms/step - loss: 0.0460 - accuracy: 0.9871\n",
      "Epoch 9/20\n",
      "71/71 [==============================] - 3s 47ms/step - loss: 0.0461 - accuracy: 0.9840\n",
      "Epoch 10/20\n",
      "71/71 [==============================] - 3s 47ms/step - loss: 0.0658 - accuracy: 0.9774\n",
      "Epoch 11/20\n",
      "71/71 [==============================] - 3s 47ms/step - loss: 0.0558 - accuracy: 0.9791\n",
      "Epoch 12/20\n",
      "71/71 [==============================] - 3s 47ms/step - loss: 0.0342 - accuracy: 0.9889\n",
      "Epoch 13/20\n",
      "71/71 [==============================] - 3s 47ms/step - loss: 0.0300 - accuracy: 0.9898\n",
      "Epoch 14/20\n",
      "71/71 [==============================] - 3s 47ms/step - loss: 0.0339 - accuracy: 0.9894\n",
      "Epoch 15/20\n",
      "71/71 [==============================] - 3s 47ms/step - loss: 0.0154 - accuracy: 0.9956\n",
      "Epoch 16/20\n",
      "71/71 [==============================] - 3s 47ms/step - loss: 0.0064 - accuracy: 0.9987\n",
      "Epoch 17/20\n",
      "71/71 [==============================] - 3s 47ms/step - loss: 0.0040 - accuracy: 1.0000\n",
      "Epoch 18/20\n",
      "71/71 [==============================] - 3s 47ms/step - loss: 0.0024 - accuracy: 1.0000\n",
      "Epoch 19/20\n",
      "71/71 [==============================] - 3s 47ms/step - loss: 0.0061 - accuracy: 0.9978\n",
      "Epoch 20/20\n",
      "71/71 [==============================] - 3s 47ms/step - loss: 0.0077 - accuracy: 0.9973\n",
      "[INFO] Saving Model for cow fold 1 ...\n",
      "36/36 [==============================] - 1s 10ms/step\n"
     ]
    },
    {
     "name": "stderr",
     "output_type": "stream",
     "text": [
      "C:\\Users\\rudra\\AppData\\Local\\Temp\\ipykernel_6820\\3249705492.py:34: UserWarning: FigureCanvasAgg is non-interactive, and thus cannot be shown\n",
      "  plt.show()\n"
     ]
    },
    {
     "name": "stdout",
     "output_type": "stream",
     "text": [
      "1/1 [==============================] - 0s 78ms/step\n",
      "[INFO] Training network for cow fold 2...\n",
      "Epoch 1/20\n",
      "71/71 [==============================] - 4s 49ms/step - loss: 0.5564 - accuracy: 0.7170\n",
      "Epoch 2/20\n",
      "71/71 [==============================] - 3s 47ms/step - loss: 0.3648 - accuracy: 0.8341\n",
      "Epoch 3/20\n",
      "71/71 [==============================] - 3s 48ms/step - loss: 0.2562 - accuracy: 0.8949\n",
      "Epoch 4/20\n",
      "71/71 [==============================] - 3s 47ms/step - loss: 0.2730 - accuracy: 0.8860\n",
      "Epoch 5/20\n",
      "71/71 [==============================] - 3s 47ms/step - loss: 0.2006 - accuracy: 0.9210\n",
      "Epoch 6/20\n",
      "71/71 [==============================] - 3s 47ms/step - loss: 0.1149 - accuracy: 0.9627\n",
      "Epoch 7/20\n",
      "71/71 [==============================] - 3s 47ms/step - loss: 0.0723 - accuracy: 0.9734\n",
      "Epoch 8/20\n",
      "71/71 [==============================] - 3s 47ms/step - loss: 0.0620 - accuracy: 0.9791\n",
      "Epoch 9/20\n",
      "71/71 [==============================] - 3s 47ms/step - loss: 0.0699 - accuracy: 0.9734\n",
      "Epoch 10/20\n",
      "71/71 [==============================] - 3s 47ms/step - loss: 0.0503 - accuracy: 0.9845\n",
      "Epoch 11/20\n",
      "71/71 [==============================] - 3s 47ms/step - loss: 0.0229 - accuracy: 0.9947\n",
      "Epoch 12/20\n",
      "71/71 [==============================] - 3s 47ms/step - loss: 0.0078 - accuracy: 0.9996\n",
      "Epoch 13/20\n",
      "71/71 [==============================] - 3s 47ms/step - loss: 0.0235 - accuracy: 0.9920\n",
      "Epoch 14/20\n",
      "71/71 [==============================] - 3s 47ms/step - loss: 0.0524 - accuracy: 0.9809\n",
      "Epoch 15/20\n",
      "71/71 [==============================] - 3s 47ms/step - loss: 0.0729 - accuracy: 0.9716\n",
      "Epoch 16/20\n",
      "71/71 [==============================] - 3s 47ms/step - loss: 0.0306 - accuracy: 0.9920\n",
      "Epoch 17/20\n",
      "71/71 [==============================] - 3s 47ms/step - loss: 0.0103 - accuracy: 0.9982\n",
      "Epoch 18/20\n",
      "71/71 [==============================] - 3s 47ms/step - loss: 0.0082 - accuracy: 0.9987\n",
      "Epoch 19/20\n",
      "71/71 [==============================] - 3s 48ms/step - loss: 0.0073 - accuracy: 0.9991\n",
      "Epoch 20/20\n",
      "71/71 [==============================] - 3s 47ms/step - loss: 0.0122 - accuracy: 0.9956\n",
      "[INFO] Saving Model for cow fold 2 ...\n",
      "36/36 [==============================] - 1s 10ms/step\n"
     ]
    },
    {
     "name": "stderr",
     "output_type": "stream",
     "text": [
      "C:\\Users\\rudra\\AppData\\Local\\Temp\\ipykernel_6820\\3249705492.py:34: UserWarning: FigureCanvasAgg is non-interactive, and thus cannot be shown\n",
      "  plt.show()\n"
     ]
    },
    {
     "name": "stdout",
     "output_type": "stream",
     "text": [
      "1/1 [==============================] - 0s 78ms/step\n"
     ]
    },
    {
     "name": "stderr",
     "output_type": "stream",
     "text": [
      "C:\\Users\\rudra\\AppData\\Local\\Temp\\ipykernel_6820\\1767733992.py:15: RuntimeWarning: invalid value encountered in divide\n",
      "  channel_image /= channel_image.std()\n",
      "C:\\Users\\rudra\\AppData\\Local\\Temp\\ipykernel_6820\\1767733992.py:18: RuntimeWarning: invalid value encountered in cast\n",
      "  channel_image = np.clip(channel_image, 0, 255).astype('uint8')\n"
     ]
    },
    {
     "name": "stdout",
     "output_type": "stream",
     "text": [
      "[INFO] Training network for cow fold 3...\n",
      "Epoch 1/20\n",
      "71/71 [==============================] - 4s 48ms/step - loss: 0.4961 - accuracy: 0.7562\n",
      "Epoch 2/20\n",
      "71/71 [==============================] - 3s 47ms/step - loss: 0.3187 - accuracy: 0.8625\n",
      "Epoch 3/20\n",
      "71/71 [==============================] - 3s 47ms/step - loss: 0.2020 - accuracy: 0.9219\n",
      "Epoch 4/20\n",
      "71/71 [==============================] - 3s 47ms/step - loss: 0.1550 - accuracy: 0.9392\n",
      "Epoch 5/20\n",
      "71/71 [==============================] - 3s 47ms/step - loss: 0.0872 - accuracy: 0.9734\n",
      "Epoch 6/20\n",
      "71/71 [==============================] - 3s 47ms/step - loss: 0.0730 - accuracy: 0.9738\n",
      "Epoch 7/20\n",
      "71/71 [==============================] - 3s 47ms/step - loss: 0.0414 - accuracy: 0.9876\n",
      "Epoch 8/20\n",
      "71/71 [==============================] - 3s 47ms/step - loss: 0.0198 - accuracy: 0.9965\n",
      "Epoch 9/20\n",
      "71/71 [==============================] - 3s 47ms/step - loss: 0.0271 - accuracy: 0.9933\n",
      "Epoch 10/20\n",
      "71/71 [==============================] - 3s 47ms/step - loss: 0.0628 - accuracy: 0.9778\n",
      "Epoch 11/20\n",
      "71/71 [==============================] - 3s 47ms/step - loss: 0.0494 - accuracy: 0.9827\n",
      "Epoch 12/20\n",
      "71/71 [==============================] - 3s 47ms/step - loss: 0.0309 - accuracy: 0.9894\n",
      "Epoch 13/20\n",
      "71/71 [==============================] - 3s 47ms/step - loss: 0.0255 - accuracy: 0.9894\n",
      "Epoch 14/20\n",
      "71/71 [==============================] - 3s 48ms/step - loss: 0.0183 - accuracy: 0.9942\n",
      "Epoch 15/20\n",
      "71/71 [==============================] - 3s 47ms/step - loss: 0.0193 - accuracy: 0.9947\n",
      "Epoch 16/20\n",
      "71/71 [==============================] - 3s 47ms/step - loss: 0.0336 - accuracy: 0.9880\n",
      "Epoch 17/20\n",
      "71/71 [==============================] - 3s 47ms/step - loss: 0.0345 - accuracy: 0.9885\n",
      "Epoch 18/20\n",
      "71/71 [==============================] - 3s 47ms/step - loss: 0.0291 - accuracy: 0.9902\n",
      "Epoch 19/20\n",
      "71/71 [==============================] - 3s 47ms/step - loss: 0.0177 - accuracy: 0.9942\n",
      "Epoch 20/20\n",
      "71/71 [==============================] - 3s 47ms/step - loss: 0.0135 - accuracy: 0.9973\n",
      "[INFO] Saving Model for cow fold 3 ...\n",
      "36/36 [==============================] - 1s 11ms/step\n"
     ]
    },
    {
     "name": "stderr",
     "output_type": "stream",
     "text": [
      "C:\\Users\\rudra\\AppData\\Local\\Temp\\ipykernel_6820\\3249705492.py:34: UserWarning: FigureCanvasAgg is non-interactive, and thus cannot be shown\n",
      "  plt.show()\n"
     ]
    },
    {
     "name": "stdout",
     "output_type": "stream",
     "text": [
      "1/1 [==============================] - 0s 94ms/step\n"
     ]
    },
    {
     "name": "stderr",
     "output_type": "stream",
     "text": [
      "C:\\Users\\rudra\\AppData\\Local\\Temp\\ipykernel_6820\\1767733992.py:15: RuntimeWarning: invalid value encountered in divide\n",
      "  channel_image /= channel_image.std()\n",
      "C:\\Users\\rudra\\AppData\\Local\\Temp\\ipykernel_6820\\1767733992.py:18: RuntimeWarning: invalid value encountered in cast\n",
      "  channel_image = np.clip(channel_image, 0, 255).astype('uint8')\n"
     ]
    },
    {
     "name": "stdout",
     "output_type": "stream",
     "text": [
      "[INFO] Loading images ...\n",
      "[INFO] Processing coyote ...\n",
      "[INFO] Processing rest ...\n",
      "[INFO] image extract completed\n",
      "total train samples: \n",
      "3427\n",
      "[INFO] Training network for coyote fold 1...\n",
      "Epoch 1/20\n",
      "71/71 [==============================] - 5s 49ms/step - loss: 0.4991 - accuracy: 0.7531\n",
      "Epoch 2/20\n",
      "71/71 [==============================] - 4s 49ms/step - loss: 0.3829 - accuracy: 0.8286\n",
      "Epoch 3/20\n",
      "71/71 [==============================] - 3s 48ms/step - loss: 0.3302 - accuracy: 0.8623\n",
      "Epoch 4/20\n",
      "71/71 [==============================] - 3s 48ms/step - loss: 0.2576 - accuracy: 0.8979\n",
      "Epoch 5/20\n",
      "71/71 [==============================] - 3s 48ms/step - loss: 0.1894 - accuracy: 0.9281\n",
      "Epoch 6/20\n",
      "71/71 [==============================] - 3s 47ms/step - loss: 0.1326 - accuracy: 0.9556\n",
      "Epoch 7/20\n",
      "71/71 [==============================] - 3s 48ms/step - loss: 0.1088 - accuracy: 0.9658\n",
      "Epoch 8/20\n",
      "71/71 [==============================] - 3s 49ms/step - loss: 0.0822 - accuracy: 0.9698\n",
      "Epoch 9/20\n",
      "71/71 [==============================] - 3s 48ms/step - loss: 0.0755 - accuracy: 0.9751\n",
      "Epoch 10/20\n",
      "71/71 [==============================] - 3s 48ms/step - loss: 0.0555 - accuracy: 0.9831\n",
      "Epoch 11/20\n",
      "71/71 [==============================] - 3s 48ms/step - loss: 0.0461 - accuracy: 0.9840\n",
      "Epoch 12/20\n",
      "71/71 [==============================] - 3s 48ms/step - loss: 0.0431 - accuracy: 0.9831\n",
      "Epoch 13/20\n",
      "71/71 [==============================] - 3s 47ms/step - loss: 0.0404 - accuracy: 0.9871\n",
      "Epoch 14/20\n",
      "71/71 [==============================] - 3s 47ms/step - loss: 0.0309 - accuracy: 0.9889\n",
      "Epoch 15/20\n",
      "71/71 [==============================] - 3s 47ms/step - loss: 0.0221 - accuracy: 0.9942\n",
      "Epoch 16/20\n",
      "71/71 [==============================] - 3s 47ms/step - loss: 0.0119 - accuracy: 0.9973\n",
      "Epoch 17/20\n",
      "71/71 [==============================] - 3s 48ms/step - loss: 0.0152 - accuracy: 0.9960\n",
      "Epoch 18/20\n",
      "71/71 [==============================] - 3s 47ms/step - loss: 0.0196 - accuracy: 0.9942\n",
      "Epoch 19/20\n",
      "71/71 [==============================] - 3s 48ms/step - loss: 0.0286 - accuracy: 0.9893\n",
      "Epoch 20/20\n",
      "71/71 [==============================] - 3s 48ms/step - loss: 0.0210 - accuracy: 0.9938\n",
      "[INFO] Saving Model for coyote fold 1 ...\n",
      "36/36 [==============================] - 1s 10ms/step\n"
     ]
    },
    {
     "name": "stderr",
     "output_type": "stream",
     "text": [
      "C:\\Users\\rudra\\AppData\\Local\\Temp\\ipykernel_6820\\3249705492.py:34: UserWarning: FigureCanvasAgg is non-interactive, and thus cannot be shown\n",
      "  plt.show()\n"
     ]
    },
    {
     "name": "stdout",
     "output_type": "stream",
     "text": [
      "1/1 [==============================] - 0s 78ms/step\n"
     ]
    },
    {
     "name": "stderr",
     "output_type": "stream",
     "text": [
      "C:\\Users\\rudra\\AppData\\Local\\Temp\\ipykernel_6820\\1767733992.py:15: RuntimeWarning: invalid value encountered in divide\n",
      "  channel_image /= channel_image.std()\n",
      "C:\\Users\\rudra\\AppData\\Local\\Temp\\ipykernel_6820\\1767733992.py:18: RuntimeWarning: invalid value encountered in cast\n",
      "  channel_image = np.clip(channel_image, 0, 255).astype('uint8')\n"
     ]
    },
    {
     "name": "stdout",
     "output_type": "stream",
     "text": [
      "[INFO] Training network for coyote fold 2...\n",
      "Epoch 1/20\n",
      "71/71 [==============================] - 4s 48ms/step - loss: 0.4852 - accuracy: 0.7663\n",
      "Epoch 2/20\n",
      "71/71 [==============================] - 4s 48ms/step - loss: 0.3806 - accuracy: 0.8300\n",
      "Epoch 3/20\n",
      "71/71 [==============================] - 3s 48ms/step - loss: 0.2631 - accuracy: 0.8877\n",
      "Epoch 4/20\n",
      "71/71 [==============================] - 3s 48ms/step - loss: 0.2187 - accuracy: 0.9170\n",
      "Epoch 5/20\n",
      "71/71 [==============================] - 3s 48ms/step - loss: 0.1814 - accuracy: 0.9330\n",
      "Epoch 6/20\n",
      "71/71 [==============================] - 3s 48ms/step - loss: 0.1177 - accuracy: 0.9592\n",
      "Epoch 7/20\n",
      "71/71 [==============================] - 3s 48ms/step - loss: 0.0868 - accuracy: 0.9707\n",
      "Epoch 8/20\n",
      "71/71 [==============================] - 3s 48ms/step - loss: 0.0560 - accuracy: 0.9827\n",
      "Epoch 9/20\n",
      "71/71 [==============================] - 3s 47ms/step - loss: 0.0363 - accuracy: 0.9916\n",
      "Epoch 10/20\n",
      "71/71 [==============================] - 3s 47ms/step - loss: 0.0242 - accuracy: 0.9947\n",
      "Epoch 11/20\n",
      "71/71 [==============================] - 3s 48ms/step - loss: 0.0330 - accuracy: 0.9889\n",
      "Epoch 12/20\n",
      "71/71 [==============================] - 3s 47ms/step - loss: 0.0185 - accuracy: 0.9942\n",
      "Epoch 13/20\n",
      "71/71 [==============================] - 3s 48ms/step - loss: 0.0237 - accuracy: 0.9956\n",
      "Epoch 14/20\n",
      "71/71 [==============================] - 3s 47ms/step - loss: 0.0378 - accuracy: 0.9871\n",
      "Epoch 15/20\n",
      "71/71 [==============================] - 3s 47ms/step - loss: 0.0430 - accuracy: 0.9849\n",
      "Epoch 16/20\n",
      "71/71 [==============================] - 3s 47ms/step - loss: 0.0468 - accuracy: 0.9871\n",
      "Epoch 17/20\n",
      "71/71 [==============================] - 3s 47ms/step - loss: 0.0431 - accuracy: 0.9876\n",
      "Epoch 18/20\n",
      "71/71 [==============================] - 3s 48ms/step - loss: 0.0257 - accuracy: 0.9925\n",
      "Epoch 19/20\n",
      "71/71 [==============================] - 3s 48ms/step - loss: 0.0258 - accuracy: 0.9920\n",
      "Epoch 20/20\n",
      "71/71 [==============================] - 3s 47ms/step - loss: 0.0353 - accuracy: 0.9898\n",
      "[INFO] Saving Model for coyote fold 2 ...\n",
      "36/36 [==============================] - 0s 10ms/step\n"
     ]
    },
    {
     "name": "stderr",
     "output_type": "stream",
     "text": [
      "C:\\Users\\rudra\\AppData\\Local\\Temp\\ipykernel_6820\\3249705492.py:34: UserWarning: FigureCanvasAgg is non-interactive, and thus cannot be shown\n",
      "  plt.show()\n"
     ]
    },
    {
     "name": "stdout",
     "output_type": "stream",
     "text": [
      "1/1 [==============================] - 0s 78ms/step\n"
     ]
    },
    {
     "name": "stderr",
     "output_type": "stream",
     "text": [
      "C:\\Users\\rudra\\AppData\\Local\\Temp\\ipykernel_6820\\1767733992.py:15: RuntimeWarning: invalid value encountered in divide\n",
      "  channel_image /= channel_image.std()\n",
      "C:\\Users\\rudra\\AppData\\Local\\Temp\\ipykernel_6820\\1767733992.py:18: RuntimeWarning: invalid value encountered in cast\n",
      "  channel_image = np.clip(channel_image, 0, 255).astype('uint8')\n"
     ]
    },
    {
     "name": "stdout",
     "output_type": "stream",
     "text": [
      "[INFO] Training network for coyote fold 3...\n",
      "Epoch 1/20\n",
      "71/71 [==============================] - 5s 49ms/step - loss: 0.5214 - accuracy: 0.7443\n",
      "Epoch 2/20\n",
      "71/71 [==============================] - 3s 48ms/step - loss: 0.3371 - accuracy: 0.8566\n",
      "Epoch 3/20\n",
      "71/71 [==============================] - 3s 48ms/step - loss: 0.2636 - accuracy: 0.8948\n",
      "Epoch 4/20\n",
      "71/71 [==============================] - 3s 48ms/step - loss: 0.1842 - accuracy: 0.9392\n",
      "Epoch 5/20\n",
      "71/71 [==============================] - 3s 47ms/step - loss: 0.1366 - accuracy: 0.9538\n",
      "Epoch 6/20\n",
      "71/71 [==============================] - 3s 48ms/step - loss: 0.0872 - accuracy: 0.9734\n",
      "Epoch 7/20\n",
      "71/71 [==============================] - 3s 47ms/step - loss: 0.0709 - accuracy: 0.9796\n",
      "Epoch 8/20\n",
      "71/71 [==============================] - 3s 47ms/step - loss: 0.0406 - accuracy: 0.9911\n",
      "Epoch 9/20\n",
      "71/71 [==============================] - 3s 47ms/step - loss: 0.0642 - accuracy: 0.9778\n",
      "Epoch 10/20\n",
      "71/71 [==============================] - 3s 47ms/step - loss: 0.0348 - accuracy: 0.9925\n",
      "Epoch 11/20\n",
      "71/71 [==============================] - 3s 47ms/step - loss: 0.0212 - accuracy: 0.9973\n",
      "Epoch 12/20\n",
      "71/71 [==============================] - 3s 47ms/step - loss: 0.0676 - accuracy: 0.9769\n",
      "Epoch 13/20\n",
      "71/71 [==============================] - 3s 48ms/step - loss: 0.0506 - accuracy: 0.9858\n",
      "Epoch 14/20\n",
      "71/71 [==============================] - 3s 47ms/step - loss: 0.0196 - accuracy: 0.9960\n",
      "Epoch 15/20\n",
      "71/71 [==============================] - 3s 48ms/step - loss: 0.0144 - accuracy: 0.9973\n",
      "Epoch 16/20\n",
      "71/71 [==============================] - 3s 47ms/step - loss: 0.0146 - accuracy: 0.9956\n",
      "Epoch 17/20\n",
      "71/71 [==============================] - 3s 47ms/step - loss: 0.0104 - accuracy: 0.9978\n",
      "Epoch 18/20\n",
      "71/71 [==============================] - 3s 48ms/step - loss: 0.0140 - accuracy: 0.9964\n",
      "Epoch 19/20\n",
      "71/71 [==============================] - 3s 47ms/step - loss: 0.0234 - accuracy: 0.9920\n",
      "Epoch 20/20\n",
      "71/71 [==============================] - 3s 47ms/step - loss: 0.0216 - accuracy: 0.9929\n",
      "[INFO] Saving Model for coyote fold 3 ...\n",
      "36/36 [==============================] - 0s 10ms/step\n"
     ]
    },
    {
     "name": "stderr",
     "output_type": "stream",
     "text": [
      "C:\\Users\\rudra\\AppData\\Local\\Temp\\ipykernel_6820\\3249705492.py:34: UserWarning: FigureCanvasAgg is non-interactive, and thus cannot be shown\n",
      "  plt.show()\n"
     ]
    },
    {
     "name": "stdout",
     "output_type": "stream",
     "text": [
      "1/1 [==============================] - 0s 78ms/step\n"
     ]
    },
    {
     "name": "stderr",
     "output_type": "stream",
     "text": [
      "C:\\Users\\rudra\\AppData\\Local\\Temp\\ipykernel_6820\\1767733992.py:15: RuntimeWarning: invalid value encountered in divide\n",
      "  channel_image /= channel_image.std()\n",
      "C:\\Users\\rudra\\AppData\\Local\\Temp\\ipykernel_6820\\1767733992.py:18: RuntimeWarning: invalid value encountered in cast\n",
      "  channel_image = np.clip(channel_image, 0, 255).astype('uint8')\n"
     ]
    },
    {
     "name": "stdout",
     "output_type": "stream",
     "text": [
      "[INFO] Loading images ...\n",
      "[INFO] Processing crab ...\n",
      "[INFO] Processing rest ...\n",
      "[INFO] image extract completed\n",
      "total train samples: \n",
      "3434\n",
      "[INFO] Training network for crab fold 1...\n",
      "Epoch 1/20\n",
      "71/71 [==============================] - 5s 48ms/step - loss: 0.4981 - accuracy: 0.7518\n",
      "Epoch 2/20\n",
      "71/71 [==============================] - 3s 48ms/step - loss: 0.3500 - accuracy: 0.8569\n",
      "Epoch 3/20\n",
      "71/71 [==============================] - 3s 48ms/step - loss: 0.2775 - accuracy: 0.8804\n",
      "Epoch 4/20\n",
      "71/71 [==============================] - 3s 48ms/step - loss: 0.2263 - accuracy: 0.9132\n",
      "Epoch 5/20\n",
      "71/71 [==============================] - 3s 47ms/step - loss: 0.2175 - accuracy: 0.9207\n",
      "Epoch 6/20\n",
      "71/71 [==============================] - 3s 48ms/step - loss: 0.1494 - accuracy: 0.9451\n",
      "Epoch 7/20\n",
      "71/71 [==============================] - 3s 47ms/step - loss: 0.1070 - accuracy: 0.9654\n",
      "Epoch 8/20\n",
      "71/71 [==============================] - 3s 47ms/step - loss: 0.0883 - accuracy: 0.9699\n",
      "Epoch 9/20\n",
      "71/71 [==============================] - 3s 48ms/step - loss: 0.0694 - accuracy: 0.9778\n",
      "Epoch 10/20\n",
      "71/71 [==============================] - 3s 47ms/step - loss: 0.0695 - accuracy: 0.9747\n",
      "Epoch 11/20\n",
      "71/71 [==============================] - 3s 48ms/step - loss: 0.0320 - accuracy: 0.9907\n",
      "Epoch 12/20\n",
      "71/71 [==============================] - 3s 48ms/step - loss: 0.0307 - accuracy: 0.9920\n",
      "Epoch 13/20\n",
      "71/71 [==============================] - 3s 47ms/step - loss: 0.0278 - accuracy: 0.9911\n",
      "Epoch 14/20\n",
      "71/71 [==============================] - 3s 48ms/step - loss: 0.0187 - accuracy: 0.9960\n",
      "Epoch 15/20\n",
      "71/71 [==============================] - 3s 48ms/step - loss: 0.0519 - accuracy: 0.9805\n",
      "Epoch 16/20\n",
      "71/71 [==============================] - 3s 47ms/step - loss: 0.0328 - accuracy: 0.9911\n",
      "Epoch 17/20\n",
      "71/71 [==============================] - 3s 48ms/step - loss: 0.0181 - accuracy: 0.9942\n",
      "Epoch 18/20\n",
      "71/71 [==============================] - 3s 48ms/step - loss: 0.0185 - accuracy: 0.9947\n",
      "Epoch 19/20\n",
      "71/71 [==============================] - 3s 48ms/step - loss: 0.0148 - accuracy: 0.9960\n",
      "Epoch 20/20\n",
      "71/71 [==============================] - 3s 47ms/step - loss: 0.0250 - accuracy: 0.9916\n",
      "[INFO] Saving Model for crab fold 1 ...\n",
      "36/36 [==============================] - 1s 11ms/step\n"
     ]
    },
    {
     "name": "stderr",
     "output_type": "stream",
     "text": [
      "C:\\Users\\rudra\\AppData\\Local\\Temp\\ipykernel_6820\\3249705492.py:34: UserWarning: FigureCanvasAgg is non-interactive, and thus cannot be shown\n",
      "  plt.show()\n"
     ]
    },
    {
     "name": "stdout",
     "output_type": "stream",
     "text": [
      "1/1 [==============================] - 0s 81ms/step\n"
     ]
    },
    {
     "name": "stderr",
     "output_type": "stream",
     "text": [
      "C:\\Users\\rudra\\AppData\\Local\\Temp\\ipykernel_6820\\1767733992.py:15: RuntimeWarning: invalid value encountered in divide\n",
      "  channel_image /= channel_image.std()\n",
      "C:\\Users\\rudra\\AppData\\Local\\Temp\\ipykernel_6820\\1767733992.py:18: RuntimeWarning: invalid value encountered in cast\n",
      "  channel_image = np.clip(channel_image, 0, 255).astype('uint8')\n"
     ]
    },
    {
     "name": "stdout",
     "output_type": "stream",
     "text": [
      "[INFO] Training network for crab fold 2...\n",
      "Epoch 1/20\n",
      "71/71 [==============================] - 4s 48ms/step - loss: 0.5205 - accuracy: 0.7443\n",
      "Epoch 2/20\n",
      "71/71 [==============================] - 3s 47ms/step - loss: 0.3564 - accuracy: 0.8449\n",
      "Epoch 3/20\n",
      "71/71 [==============================] - 3s 47ms/step - loss: 0.2636 - accuracy: 0.9021\n",
      "Epoch 4/20\n",
      "71/71 [==============================] - 3s 48ms/step - loss: 0.1820 - accuracy: 0.9322\n",
      "Epoch 5/20\n",
      "71/71 [==============================] - 3s 47ms/step - loss: 0.1689 - accuracy: 0.9340\n",
      "Epoch 6/20\n",
      "71/71 [==============================] - 3s 48ms/step - loss: 0.1321 - accuracy: 0.9495\n",
      "Epoch 7/20\n",
      "71/71 [==============================] - 3s 47ms/step - loss: 0.0620 - accuracy: 0.9809\n",
      "Epoch 8/20\n",
      "71/71 [==============================] - 3s 47ms/step - loss: 0.0556 - accuracy: 0.9823\n",
      "Epoch 9/20\n",
      "71/71 [==============================] - 3s 47ms/step - loss: 0.0345 - accuracy: 0.9907\n",
      "Epoch 10/20\n",
      "71/71 [==============================] - 3s 47ms/step - loss: 0.0227 - accuracy: 0.9942\n",
      "Epoch 11/20\n",
      "71/71 [==============================] - 3s 47ms/step - loss: 0.0379 - accuracy: 0.9872\n",
      "Epoch 12/20\n",
      "71/71 [==============================] - 3s 47ms/step - loss: 0.0236 - accuracy: 0.9934\n",
      "Epoch 13/20\n",
      "71/71 [==============================] - 3s 47ms/step - loss: 0.0170 - accuracy: 0.9956\n",
      "Epoch 14/20\n",
      "71/71 [==============================] - 3s 47ms/step - loss: 0.0218 - accuracy: 0.9925\n",
      "Epoch 15/20\n",
      "71/71 [==============================] - 3s 48ms/step - loss: 0.0089 - accuracy: 0.9991\n",
      "Epoch 16/20\n",
      "71/71 [==============================] - 3s 47ms/step - loss: 0.0129 - accuracy: 0.9965\n",
      "Epoch 17/20\n",
      "71/71 [==============================] - 3s 48ms/step - loss: 0.0313 - accuracy: 0.9894\n",
      "Epoch 18/20\n",
      "71/71 [==============================] - 3s 47ms/step - loss: 0.0504 - accuracy: 0.9809\n",
      "Epoch 19/20\n",
      "71/71 [==============================] - 3s 47ms/step - loss: 0.0582 - accuracy: 0.9818\n",
      "Epoch 20/20\n",
      "71/71 [==============================] - 3s 48ms/step - loss: 0.0275 - accuracy: 0.9938\n",
      "[INFO] Saving Model for crab fold 2 ...\n",
      "36/36 [==============================] - 1s 10ms/step\n"
     ]
    },
    {
     "name": "stderr",
     "output_type": "stream",
     "text": [
      "C:\\Users\\rudra\\AppData\\Local\\Temp\\ipykernel_6820\\3249705492.py:34: UserWarning: FigureCanvasAgg is non-interactive, and thus cannot be shown\n",
      "  plt.show()\n"
     ]
    },
    {
     "name": "stdout",
     "output_type": "stream",
     "text": [
      "1/1 [==============================] - 0s 80ms/step\n"
     ]
    },
    {
     "name": "stderr",
     "output_type": "stream",
     "text": [
      "C:\\Users\\rudra\\AppData\\Local\\Temp\\ipykernel_6820\\1767733992.py:15: RuntimeWarning: invalid value encountered in divide\n",
      "  channel_image /= channel_image.std()\n",
      "C:\\Users\\rudra\\AppData\\Local\\Temp\\ipykernel_6820\\1767733992.py:18: RuntimeWarning: invalid value encountered in cast\n",
      "  channel_image = np.clip(channel_image, 0, 255).astype('uint8')\n"
     ]
    },
    {
     "name": "stdout",
     "output_type": "stream",
     "text": [
      "[INFO] Training network for crab fold 3...\n",
      "Epoch 1/20\n",
      "71/71 [==============================] - 4s 47ms/step - loss: 0.5051 - accuracy: 0.7408\n",
      "Epoch 2/20\n",
      "71/71 [==============================] - 3s 47ms/step - loss: 0.3409 - accuracy: 0.8561\n",
      "Epoch 3/20\n",
      "71/71 [==============================] - 3s 47ms/step - loss: 0.2512 - accuracy: 0.9021\n",
      "Epoch 4/20\n",
      "71/71 [==============================] - 3s 47ms/step - loss: 0.1512 - accuracy: 0.9415\n",
      "Epoch 5/20\n",
      "71/71 [==============================] - 3s 47ms/step - loss: 0.1217 - accuracy: 0.9535\n",
      "Epoch 6/20\n",
      "71/71 [==============================] - 3s 47ms/step - loss: 0.0823 - accuracy: 0.9712\n",
      "Epoch 7/20\n",
      "71/71 [==============================] - 3s 47ms/step - loss: 0.0677 - accuracy: 0.9756\n",
      "Epoch 8/20\n",
      "71/71 [==============================] - 3s 47ms/step - loss: 0.0943 - accuracy: 0.9668\n",
      "Epoch 9/20\n",
      "71/71 [==============================] - 3s 47ms/step - loss: 0.0462 - accuracy: 0.9863\n",
      "Epoch 10/20\n",
      "71/71 [==============================] - 3s 47ms/step - loss: 0.0298 - accuracy: 0.9929\n",
      "Epoch 11/20\n",
      "71/71 [==============================] - 3s 47ms/step - loss: 0.0200 - accuracy: 0.9947\n",
      "Epoch 12/20\n",
      "71/71 [==============================] - 3s 47ms/step - loss: 0.0256 - accuracy: 0.9934\n",
      "Epoch 13/20\n",
      "71/71 [==============================] - 3s 48ms/step - loss: 0.0266 - accuracy: 0.9880\n",
      "Epoch 14/20\n",
      "71/71 [==============================] - 3s 47ms/step - loss: 0.0230 - accuracy: 0.9929\n",
      "Epoch 15/20\n",
      "71/71 [==============================] - 3s 48ms/step - loss: 0.0258 - accuracy: 0.9916\n",
      "Epoch 16/20\n",
      "71/71 [==============================] - 3s 48ms/step - loss: 0.0158 - accuracy: 0.9969\n",
      "Epoch 17/20\n",
      "71/71 [==============================] - 3s 48ms/step - loss: 0.0143 - accuracy: 0.9956\n",
      "Epoch 18/20\n",
      "71/71 [==============================] - 3s 48ms/step - loss: 0.0117 - accuracy: 0.9965\n",
      "Epoch 19/20\n",
      "71/71 [==============================] - 3s 48ms/step - loss: 0.0171 - accuracy: 0.9934\n",
      "Epoch 20/20\n",
      "71/71 [==============================] - 3s 48ms/step - loss: 0.0209 - accuracy: 0.9929\n",
      "[INFO] Saving Model for crab fold 3 ...\n",
      "36/36 [==============================] - 0s 10ms/step\n"
     ]
    },
    {
     "name": "stderr",
     "output_type": "stream",
     "text": [
      "C:\\Users\\rudra\\AppData\\Local\\Temp\\ipykernel_6820\\3249705492.py:34: UserWarning: FigureCanvasAgg is non-interactive, and thus cannot be shown\n",
      "  plt.show()\n"
     ]
    },
    {
     "name": "stdout",
     "output_type": "stream",
     "text": [
      "1/1 [==============================] - 0s 78ms/step\n",
      "[INFO] Loading images ...\n",
      "[INFO] Processing crow ...\n",
      "[INFO] Processing rest ...\n",
      "[INFO] image extract completed\n",
      "total train samples: \n",
      "3440\n",
      "[INFO] Training network for crow fold 1...\n",
      "Epoch 1/20\n",
      "71/71 [==============================] - 5s 48ms/step - loss: 0.3390 - accuracy: 0.8653\n",
      "Epoch 2/20\n",
      "71/71 [==============================] - 3s 48ms/step - loss: 0.1924 - accuracy: 0.9257\n",
      "Epoch 3/20\n",
      "71/71 [==============================] - 3s 48ms/step - loss: 0.1395 - accuracy: 0.9518\n",
      "Epoch 4/20\n",
      "71/71 [==============================] - 3s 48ms/step - loss: 0.0948 - accuracy: 0.9690\n",
      "Epoch 5/20\n",
      "71/71 [==============================] - 3s 48ms/step - loss: 0.0720 - accuracy: 0.9748\n",
      "Epoch 6/20\n",
      "71/71 [==============================] - 3s 48ms/step - loss: 0.0576 - accuracy: 0.9810\n",
      "Epoch 7/20\n",
      "71/71 [==============================] - 3s 48ms/step - loss: 0.0591 - accuracy: 0.9810\n",
      "Epoch 8/20\n",
      "71/71 [==============================] - 3s 48ms/step - loss: 0.0244 - accuracy: 0.9943\n",
      "Epoch 9/20\n",
      "71/71 [==============================] - 3s 49ms/step - loss: 0.0230 - accuracy: 0.9943\n",
      "Epoch 10/20\n",
      "71/71 [==============================] - 3s 48ms/step - loss: 0.0250 - accuracy: 0.9934\n",
      "Epoch 11/20\n",
      "71/71 [==============================] - 4s 50ms/step - loss: 0.0277 - accuracy: 0.9903\n",
      "Epoch 12/20\n",
      "71/71 [==============================] - 3s 48ms/step - loss: 0.0187 - accuracy: 0.9929\n",
      "Epoch 13/20\n",
      "71/71 [==============================] - 3s 48ms/step - loss: 0.0501 - accuracy: 0.9836\n",
      "Epoch 14/20\n",
      "71/71 [==============================] - 3s 48ms/step - loss: 0.0230 - accuracy: 0.9943\n",
      "Epoch 15/20\n",
      "71/71 [==============================] - 3s 48ms/step - loss: 0.0122 - accuracy: 0.9969\n",
      "Epoch 16/20\n",
      "71/71 [==============================] - 3s 48ms/step - loss: 0.0098 - accuracy: 0.9969\n",
      "Epoch 17/20\n",
      "71/71 [==============================] - 3s 48ms/step - loss: 0.0155 - accuracy: 0.9960\n",
      "Epoch 18/20\n",
      "71/71 [==============================] - 3s 48ms/step - loss: 0.0176 - accuracy: 0.9938\n",
      "Epoch 19/20\n",
      "71/71 [==============================] - 3s 47ms/step - loss: 0.0207 - accuracy: 0.9947\n",
      "Epoch 20/20\n",
      "71/71 [==============================] - 3s 48ms/step - loss: 0.0188 - accuracy: 0.9960\n",
      "[INFO] Saving Model for crow fold 1 ...\n",
      "36/36 [==============================] - 1s 10ms/step\n"
     ]
    },
    {
     "name": "stderr",
     "output_type": "stream",
     "text": [
      "C:\\Users\\rudra\\AppData\\Local\\Temp\\ipykernel_6820\\3249705492.py:34: UserWarning: FigureCanvasAgg is non-interactive, and thus cannot be shown\n",
      "  plt.show()\n"
     ]
    },
    {
     "name": "stdout",
     "output_type": "stream",
     "text": [
      "1/1 [==============================] - 0s 72ms/step\n"
     ]
    },
    {
     "name": "stderr",
     "output_type": "stream",
     "text": [
      "C:\\Users\\rudra\\AppData\\Local\\Temp\\ipykernel_6820\\1767733992.py:15: RuntimeWarning: invalid value encountered in divide\n",
      "  channel_image /= channel_image.std()\n",
      "C:\\Users\\rudra\\AppData\\Local\\Temp\\ipykernel_6820\\1767733992.py:18: RuntimeWarning: invalid value encountered in cast\n",
      "  channel_image = np.clip(channel_image, 0, 255).astype('uint8')\n"
     ]
    },
    {
     "name": "stdout",
     "output_type": "stream",
     "text": [
      "[INFO] Training network for crow fold 2...\n",
      "Epoch 1/20\n",
      "71/71 [==============================] - 4s 49ms/step - loss: 0.3684 - accuracy: 0.8446\n",
      "Epoch 2/20\n",
      "71/71 [==============================] - 3s 48ms/step - loss: 0.1977 - accuracy: 0.9261\n",
      "Epoch 3/20\n",
      "71/71 [==============================] - 3s 47ms/step - loss: 0.1432 - accuracy: 0.9491\n",
      "Epoch 4/20\n",
      "71/71 [==============================] - 3s 48ms/step - loss: 0.1020 - accuracy: 0.9668\n",
      "Epoch 5/20\n",
      "71/71 [==============================] - 3s 48ms/step - loss: 0.0685 - accuracy: 0.9792\n",
      "Epoch 6/20\n",
      "71/71 [==============================] - 3s 47ms/step - loss: 0.0373 - accuracy: 0.9920\n",
      "Epoch 7/20\n",
      "71/71 [==============================] - 3s 47ms/step - loss: 0.0224 - accuracy: 0.9951\n",
      "Epoch 8/20\n",
      "71/71 [==============================] - 3s 47ms/step - loss: 0.0572 - accuracy: 0.9774\n",
      "Epoch 9/20\n",
      "71/71 [==============================] - 3s 47ms/step - loss: 0.0408 - accuracy: 0.9894\n",
      "Epoch 10/20\n",
      "71/71 [==============================] - 3s 47ms/step - loss: 0.0276 - accuracy: 0.9912\n",
      "Epoch 11/20\n",
      "71/71 [==============================] - 3s 47ms/step - loss: 0.0199 - accuracy: 0.9929\n",
      "Epoch 12/20\n",
      "71/71 [==============================] - 3s 47ms/step - loss: 0.0102 - accuracy: 0.9978\n",
      "Epoch 13/20\n",
      "71/71 [==============================] - 3s 47ms/step - loss: 0.0121 - accuracy: 0.9973\n",
      "Epoch 14/20\n",
      "71/71 [==============================] - 3s 47ms/step - loss: 0.0188 - accuracy: 0.9947\n",
      "Epoch 15/20\n",
      "71/71 [==============================] - 3s 47ms/step - loss: 0.0283 - accuracy: 0.9907\n",
      "Epoch 16/20\n",
      "71/71 [==============================] - 3s 47ms/step - loss: 0.0189 - accuracy: 0.9951\n",
      "Epoch 17/20\n",
      "71/71 [==============================] - 3s 47ms/step - loss: 0.0162 - accuracy: 0.9938\n",
      "Epoch 18/20\n",
      "71/71 [==============================] - 3s 47ms/step - loss: 0.0072 - accuracy: 0.9987\n",
      "Epoch 19/20\n",
      "71/71 [==============================] - 4s 50ms/step - loss: 0.0114 - accuracy: 0.9951\n",
      "Epoch 20/20\n",
      "71/71 [==============================] - 3s 48ms/step - loss: 0.0191 - accuracy: 0.9929\n",
      "[INFO] Saving Model for crow fold 2 ...\n",
      "36/36 [==============================] - 1s 11ms/step\n"
     ]
    },
    {
     "name": "stderr",
     "output_type": "stream",
     "text": [
      "C:\\Users\\rudra\\AppData\\Local\\Temp\\ipykernel_6820\\3249705492.py:34: UserWarning: FigureCanvasAgg is non-interactive, and thus cannot be shown\n",
      "  plt.show()\n"
     ]
    },
    {
     "name": "stdout",
     "output_type": "stream",
     "text": [
      "1/1 [==============================] - 0s 70ms/step\n"
     ]
    },
    {
     "name": "stderr",
     "output_type": "stream",
     "text": [
      "C:\\Users\\rudra\\AppData\\Local\\Temp\\ipykernel_6820\\1767733992.py:15: RuntimeWarning: invalid value encountered in divide\n",
      "  channel_image /= channel_image.std()\n",
      "C:\\Users\\rudra\\AppData\\Local\\Temp\\ipykernel_6820\\1767733992.py:18: RuntimeWarning: invalid value encountered in cast\n",
      "  channel_image = np.clip(channel_image, 0, 255).astype('uint8')\n"
     ]
    },
    {
     "name": "stdout",
     "output_type": "stream",
     "text": [
      "[INFO] Training network for crow fold 3...\n",
      "Epoch 1/20\n",
      "71/71 [==============================] - 4s 49ms/step - loss: 0.3566 - accuracy: 0.8556\n",
      "Epoch 2/20\n",
      "71/71 [==============================] - 3s 48ms/step - loss: 0.2260 - accuracy: 0.9200\n",
      "Epoch 3/20\n",
      "71/71 [==============================] - 3s 48ms/step - loss: 0.1402 - accuracy: 0.9514\n",
      "Epoch 4/20\n",
      "71/71 [==============================] - 3s 48ms/step - loss: 0.1372 - accuracy: 0.9549\n",
      "Epoch 5/20\n",
      "71/71 [==============================] - 3s 47ms/step - loss: 0.0781 - accuracy: 0.9721\n",
      "Epoch 6/20\n",
      "71/71 [==============================] - 3s 48ms/step - loss: 0.0578 - accuracy: 0.9797\n",
      "Epoch 7/20\n",
      "71/71 [==============================] - 3s 49ms/step - loss: 0.0480 - accuracy: 0.9832\n",
      "Epoch 8/20\n",
      "71/71 [==============================] - 3s 48ms/step - loss: 0.0397 - accuracy: 0.9903\n",
      "Epoch 9/20\n",
      "71/71 [==============================] - 3s 47ms/step - loss: 0.0679 - accuracy: 0.9739\n",
      "Epoch 10/20\n",
      "71/71 [==============================] - 3s 47ms/step - loss: 0.0283 - accuracy: 0.9925\n",
      "Epoch 11/20\n",
      "71/71 [==============================] - 3s 49ms/step - loss: 0.0192 - accuracy: 0.9956\n",
      "Epoch 12/20\n",
      "71/71 [==============================] - 3s 48ms/step - loss: 0.0232 - accuracy: 0.9916\n",
      "Epoch 13/20\n",
      "71/71 [==============================] - 3s 48ms/step - loss: 0.0080 - accuracy: 0.9987\n",
      "Epoch 14/20\n",
      "71/71 [==============================] - 3s 47ms/step - loss: 0.0312 - accuracy: 0.9881\n",
      "Epoch 15/20\n",
      "71/71 [==============================] - 3s 47ms/step - loss: 0.0345 - accuracy: 0.9876\n",
      "Epoch 16/20\n",
      "71/71 [==============================] - 3s 47ms/step - loss: 0.0261 - accuracy: 0.9920\n",
      "Epoch 17/20\n",
      "71/71 [==============================] - 3s 48ms/step - loss: 0.0158 - accuracy: 0.9956\n",
      "Epoch 18/20\n",
      "71/71 [==============================] - 3s 48ms/step - loss: 0.0059 - accuracy: 0.9987\n",
      "Epoch 19/20\n",
      "71/71 [==============================] - 3s 48ms/step - loss: 0.0083 - accuracy: 0.9978\n",
      "Epoch 20/20\n",
      "71/71 [==============================] - 3s 47ms/step - loss: 0.0210 - accuracy: 0.9925\n",
      "[INFO] Saving Model for crow fold 3 ...\n",
      "36/36 [==============================] - 1s 11ms/step\n"
     ]
    },
    {
     "name": "stderr",
     "output_type": "stream",
     "text": [
      "C:\\Users\\rudra\\AppData\\Local\\Temp\\ipykernel_6820\\3249705492.py:34: UserWarning: FigureCanvasAgg is non-interactive, and thus cannot be shown\n",
      "  plt.show()\n"
     ]
    },
    {
     "name": "stdout",
     "output_type": "stream",
     "text": [
      "1/1 [==============================] - 0s 83ms/step\n"
     ]
    },
    {
     "name": "stderr",
     "output_type": "stream",
     "text": [
      "C:\\Users\\rudra\\AppData\\Local\\Temp\\ipykernel_6820\\1767733992.py:15: RuntimeWarning: invalid value encountered in divide\n",
      "  channel_image /= channel_image.std()\n",
      "C:\\Users\\rudra\\AppData\\Local\\Temp\\ipykernel_6820\\1767733992.py:18: RuntimeWarning: invalid value encountered in cast\n",
      "  channel_image = np.clip(channel_image, 0, 255).astype('uint8')\n"
     ]
    },
    {
     "name": "stdout",
     "output_type": "stream",
     "text": [
      "[INFO] Loading images ...\n",
      "[INFO] Processing deer ...\n",
      "[INFO] Processing rest ...\n",
      "[INFO] image extract completed\n",
      "total train samples: \n",
      "3413\n",
      "[INFO] Training network for deer fold 1...\n",
      "Epoch 1/20\n",
      "71/71 [==============================] - 5s 48ms/step - loss: 0.5186 - accuracy: 0.7474\n",
      "Epoch 2/20\n",
      "71/71 [==============================] - 3s 48ms/step - loss: 0.3735 - accuracy: 0.8270\n",
      "Epoch 3/20\n",
      "71/71 [==============================] - 3s 47ms/step - loss: 0.3088 - accuracy: 0.8685\n",
      "Epoch 4/20\n",
      "71/71 [==============================] - 3s 47ms/step - loss: 0.2455 - accuracy: 0.9050\n",
      "Epoch 5/20\n",
      "71/71 [==============================] - 3s 47ms/step - loss: 0.2083 - accuracy: 0.9215\n",
      "Epoch 6/20\n",
      "71/71 [==============================] - 3s 48ms/step - loss: 0.3051 - accuracy: 0.8729\n",
      "Epoch 7/20\n",
      "71/71 [==============================] - 3s 47ms/step - loss: 0.2537 - accuracy: 0.9055\n",
      "Epoch 8/20\n",
      "71/71 [==============================] - 3s 47ms/step - loss: 0.1544 - accuracy: 0.9487\n",
      "Epoch 9/20\n",
      "71/71 [==============================] - 3s 47ms/step - loss: 0.1332 - accuracy: 0.9483\n",
      "Epoch 10/20\n",
      "71/71 [==============================] - 3s 47ms/step - loss: 0.0860 - accuracy: 0.9737\n",
      "Epoch 11/20\n",
      "71/71 [==============================] - 3s 47ms/step - loss: 0.0582 - accuracy: 0.9822\n",
      "Epoch 12/20\n",
      "71/71 [==============================] - 3s 47ms/step - loss: 0.1394 - accuracy: 0.9461\n",
      "Epoch 13/20\n",
      "71/71 [==============================] - 3s 47ms/step - loss: 0.0646 - accuracy: 0.9804\n",
      "Epoch 14/20\n",
      "71/71 [==============================] - 3s 48ms/step - loss: 0.0647 - accuracy: 0.9795\n",
      "Epoch 15/20\n",
      "71/71 [==============================] - 3s 47ms/step - loss: 0.0328 - accuracy: 0.9929\n",
      "Epoch 16/20\n",
      "71/71 [==============================] - 3s 47ms/step - loss: 0.0304 - accuracy: 0.9938\n",
      "Epoch 17/20\n",
      "71/71 [==============================] - 3s 47ms/step - loss: 0.0453 - accuracy: 0.9871\n",
      "Epoch 18/20\n",
      "71/71 [==============================] - 3s 47ms/step - loss: 0.0249 - accuracy: 0.9929\n",
      "Epoch 19/20\n",
      "71/71 [==============================] - 3s 47ms/step - loss: 0.0145 - accuracy: 0.9964\n",
      "Epoch 20/20\n",
      "71/71 [==============================] - 3s 47ms/step - loss: 0.0715 - accuracy: 0.9737\n",
      "[INFO] Saving Model for deer fold 1 ...\n",
      "36/36 [==============================] - 1s 10ms/step\n"
     ]
    },
    {
     "name": "stderr",
     "output_type": "stream",
     "text": [
      "C:\\Users\\rudra\\AppData\\Local\\Temp\\ipykernel_6820\\3249705492.py:34: UserWarning: FigureCanvasAgg is non-interactive, and thus cannot be shown\n",
      "  plt.show()\n"
     ]
    },
    {
     "name": "stdout",
     "output_type": "stream",
     "text": [
      "1/1 [==============================] - 0s 78ms/step\n"
     ]
    },
    {
     "name": "stderr",
     "output_type": "stream",
     "text": [
      "C:\\Users\\rudra\\AppData\\Local\\Temp\\ipykernel_6820\\1767733992.py:15: RuntimeWarning: invalid value encountered in divide\n",
      "  channel_image /= channel_image.std()\n",
      "C:\\Users\\rudra\\AppData\\Local\\Temp\\ipykernel_6820\\1767733992.py:18: RuntimeWarning: invalid value encountered in cast\n",
      "  channel_image = np.clip(channel_image, 0, 255).astype('uint8')\n"
     ]
    },
    {
     "name": "stdout",
     "output_type": "stream",
     "text": [
      "[INFO] Training network for deer fold 2...\n",
      "Epoch 1/20\n",
      "71/71 [==============================] - 4s 48ms/step - loss: 0.5142 - accuracy: 0.7390\n",
      "Epoch 2/20\n",
      "71/71 [==============================] - 3s 48ms/step - loss: 0.4024 - accuracy: 0.8168\n",
      "Epoch 3/20\n",
      "71/71 [==============================] - 3s 47ms/step - loss: 0.3225 - accuracy: 0.8663\n",
      "Epoch 4/20\n",
      "71/71 [==============================] - 3s 48ms/step - loss: 0.2899 - accuracy: 0.8801\n",
      "Epoch 5/20\n",
      "71/71 [==============================] - 3s 49ms/step - loss: 0.1937 - accuracy: 0.9300\n",
      "Epoch 6/20\n",
      "71/71 [==============================] - 3s 47ms/step - loss: 0.1219 - accuracy: 0.9612\n",
      "Epoch 7/20\n",
      "71/71 [==============================] - 3s 47ms/step - loss: 0.1164 - accuracy: 0.9612\n",
      "Epoch 8/20\n",
      "71/71 [==============================] - 3s 47ms/step - loss: 0.0887 - accuracy: 0.9724\n",
      "Epoch 9/20\n",
      "71/71 [==============================] - 3s 47ms/step - loss: 0.0589 - accuracy: 0.9822\n",
      "Epoch 10/20\n",
      "71/71 [==============================] - 3s 47ms/step - loss: 0.0413 - accuracy: 0.9893\n",
      "Epoch 11/20\n",
      "71/71 [==============================] - 3s 47ms/step - loss: 0.1339 - accuracy: 0.9519\n",
      "Epoch 12/20\n",
      "71/71 [==============================] - 3s 47ms/step - loss: 0.0626 - accuracy: 0.9799\n",
      "Epoch 13/20\n",
      "71/71 [==============================] - 3s 47ms/step - loss: 0.0458 - accuracy: 0.9884\n",
      "Epoch 14/20\n",
      "71/71 [==============================] - 3s 47ms/step - loss: 0.0922 - accuracy: 0.9715\n",
      "Epoch 15/20\n",
      "71/71 [==============================] - 3s 47ms/step - loss: 0.0335 - accuracy: 0.9924\n",
      "Epoch 16/20\n",
      "71/71 [==============================] - 3s 47ms/step - loss: 0.0149 - accuracy: 0.9973\n",
      "Epoch 17/20\n",
      "71/71 [==============================] - 3s 47ms/step - loss: 0.0367 - accuracy: 0.9880\n",
      "Epoch 18/20\n",
      "71/71 [==============================] - 3s 47ms/step - loss: 0.0310 - accuracy: 0.9902\n",
      "Epoch 19/20\n",
      "71/71 [==============================] - 3s 47ms/step - loss: 0.0468 - accuracy: 0.9853\n",
      "Epoch 20/20\n",
      "71/71 [==============================] - 3s 47ms/step - loss: 0.0145 - accuracy: 0.9973\n",
      "[INFO] Saving Model for deer fold 2 ...\n",
      "36/36 [==============================] - 1s 11ms/step\n"
     ]
    },
    {
     "name": "stderr",
     "output_type": "stream",
     "text": [
      "C:\\Users\\rudra\\AppData\\Local\\Temp\\ipykernel_6820\\3249705492.py:34: UserWarning: FigureCanvasAgg is non-interactive, and thus cannot be shown\n",
      "  plt.show()\n"
     ]
    },
    {
     "name": "stdout",
     "output_type": "stream",
     "text": [
      "1/1 [==============================] - 0s 40ms/step\n"
     ]
    },
    {
     "name": "stderr",
     "output_type": "stream",
     "text": [
      "C:\\Users\\rudra\\AppData\\Local\\Temp\\ipykernel_6820\\1767733992.py:15: RuntimeWarning: invalid value encountered in divide\n",
      "  channel_image /= channel_image.std()\n",
      "C:\\Users\\rudra\\AppData\\Local\\Temp\\ipykernel_6820\\1767733992.py:18: RuntimeWarning: invalid value encountered in cast\n",
      "  channel_image = np.clip(channel_image, 0, 255).astype('uint8')\n"
     ]
    },
    {
     "name": "stdout",
     "output_type": "stream",
     "text": [
      "[INFO] Training network for deer fold 3...\n",
      "Epoch 1/20\n",
      "71/71 [==============================] - 4s 49ms/step - loss: 0.5423 - accuracy: 0.7276\n",
      "Epoch 2/20\n",
      "71/71 [==============================] - 3s 48ms/step - loss: 0.4116 - accuracy: 0.7932\n",
      "Epoch 3/20\n",
      "71/71 [==============================] - 3s 47ms/step - loss: 0.3508 - accuracy: 0.8427\n",
      "Epoch 4/20\n",
      "71/71 [==============================] - 3s 47ms/step - loss: 0.2725 - accuracy: 0.8846\n",
      "Epoch 5/20\n",
      "71/71 [==============================] - 3s 47ms/step - loss: 0.1608 - accuracy: 0.9456\n",
      "Epoch 6/20\n",
      "71/71 [==============================] - 3s 47ms/step - loss: 0.1371 - accuracy: 0.9483\n",
      "Epoch 7/20\n",
      "71/71 [==============================] - 3s 48ms/step - loss: 0.1329 - accuracy: 0.9514\n",
      "Epoch 8/20\n",
      "71/71 [==============================] - 3s 48ms/step - loss: 0.0852 - accuracy: 0.9693\n",
      "Epoch 9/20\n",
      "71/71 [==============================] - 3s 48ms/step - loss: 0.0414 - accuracy: 0.9880\n",
      "Epoch 10/20\n",
      "71/71 [==============================] - 3s 48ms/step - loss: 0.0277 - accuracy: 0.9942\n",
      "Epoch 11/20\n",
      "71/71 [==============================] - 3s 47ms/step - loss: 0.1284 - accuracy: 0.9514\n",
      "Epoch 12/20\n",
      "71/71 [==============================] - 3s 47ms/step - loss: 0.0864 - accuracy: 0.9688\n",
      "Epoch 13/20\n",
      "71/71 [==============================] - 3s 47ms/step - loss: 0.0793 - accuracy: 0.9710\n",
      "Epoch 14/20\n",
      "71/71 [==============================] - 3s 47ms/step - loss: 0.0594 - accuracy: 0.9808\n",
      "Epoch 15/20\n",
      "71/71 [==============================] - 3s 47ms/step - loss: 0.0252 - accuracy: 0.9938\n",
      "Epoch 16/20\n",
      "71/71 [==============================] - 3s 47ms/step - loss: 0.0372 - accuracy: 0.9889\n",
      "Epoch 17/20\n",
      "71/71 [==============================] - 3s 47ms/step - loss: 0.0180 - accuracy: 0.9947\n",
      "Epoch 18/20\n",
      "71/71 [==============================] - 3s 47ms/step - loss: 0.0074 - accuracy: 0.9996\n",
      "Epoch 19/20\n",
      "71/71 [==============================] - 3s 47ms/step - loss: 0.0219 - accuracy: 0.9938\n",
      "Epoch 20/20\n",
      "71/71 [==============================] - 3s 47ms/step - loss: 0.0221 - accuracy: 0.9924\n",
      "[INFO] Saving Model for deer fold 3 ...\n",
      "36/36 [==============================] - 0s 10ms/step\n"
     ]
    },
    {
     "name": "stderr",
     "output_type": "stream",
     "text": [
      "C:\\Users\\rudra\\AppData\\Local\\Temp\\ipykernel_6820\\3249705492.py:34: UserWarning: FigureCanvasAgg is non-interactive, and thus cannot be shown\n",
      "  plt.show()\n"
     ]
    },
    {
     "name": "stdout",
     "output_type": "stream",
     "text": [
      "1/1 [==============================] - 0s 78ms/step\n",
      "[INFO] Loading images ...\n",
      "[INFO] Processing dog ...\n",
      "[INFO] Processing rest ...\n",
      "[INFO] image extract completed\n",
      "total train samples: \n",
      "3423\n",
      "[INFO] Training network for dog fold 1...\n",
      "Epoch 1/20\n",
      "71/71 [==============================] - 4s 48ms/step - loss: 0.4842 - accuracy: 0.7676\n",
      "Epoch 2/20\n",
      "71/71 [==============================] - 3s 48ms/step - loss: 0.3168 - accuracy: 0.8596\n",
      "Epoch 3/20\n",
      "71/71 [==============================] - 3s 48ms/step - loss: 0.2892 - accuracy: 0.8827\n",
      "Epoch 4/20\n",
      "71/71 [==============================] - 3s 48ms/step - loss: 0.2584 - accuracy: 0.8924\n",
      "Epoch 5/20\n",
      "71/71 [==============================] - 3s 48ms/step - loss: 0.1582 - accuracy: 0.9440\n",
      "Epoch 6/20\n",
      "71/71 [==============================] - 3s 48ms/step - loss: 0.0939 - accuracy: 0.9684\n",
      "Epoch 7/20\n",
      "71/71 [==============================] - 3s 48ms/step - loss: 0.0435 - accuracy: 0.9920\n",
      "Epoch 8/20\n",
      "71/71 [==============================] - 3s 48ms/step - loss: 0.0351 - accuracy: 0.9920\n",
      "Epoch 9/20\n",
      "71/71 [==============================] - 3s 48ms/step - loss: 0.0473 - accuracy: 0.9849\n",
      "Epoch 10/20\n",
      "71/71 [==============================] - 3s 48ms/step - loss: 0.0480 - accuracy: 0.9844\n",
      "Epoch 11/20\n",
      "71/71 [==============================] - 3s 48ms/step - loss: 0.0358 - accuracy: 0.9867\n",
      "Epoch 12/20\n",
      "71/71 [==============================] - 3s 48ms/step - loss: 0.0229 - accuracy: 0.9942\n",
      "Epoch 13/20\n",
      "71/71 [==============================] - 3s 48ms/step - loss: 0.0170 - accuracy: 0.9942\n",
      "Epoch 14/20\n",
      "71/71 [==============================] - 3s 48ms/step - loss: 0.0234 - accuracy: 0.9924\n",
      "Epoch 15/20\n",
      "71/71 [==============================] - 3s 48ms/step - loss: 0.1668 - accuracy: 0.9360\n",
      "Epoch 16/20\n",
      "71/71 [==============================] - 3s 48ms/step - loss: 0.0934 - accuracy: 0.9618\n",
      "Epoch 17/20\n",
      "71/71 [==============================] - 3s 48ms/step - loss: 0.0424 - accuracy: 0.9853\n",
      "Epoch 18/20\n",
      "71/71 [==============================] - 3s 48ms/step - loss: 0.0337 - accuracy: 0.9911\n",
      "Epoch 19/20\n",
      "71/71 [==============================] - 3s 48ms/step - loss: 0.0260 - accuracy: 0.9902\n",
      "Epoch 20/20\n",
      "71/71 [==============================] - 3s 48ms/step - loss: 0.0083 - accuracy: 0.9982\n",
      "[INFO] Saving Model for dog fold 1 ...\n",
      "36/36 [==============================] - 1s 10ms/step\n"
     ]
    },
    {
     "name": "stderr",
     "output_type": "stream",
     "text": [
      "C:\\Users\\rudra\\AppData\\Local\\Temp\\ipykernel_6820\\3249705492.py:34: UserWarning: FigureCanvasAgg is non-interactive, and thus cannot be shown\n",
      "  plt.show()\n"
     ]
    },
    {
     "name": "stdout",
     "output_type": "stream",
     "text": [
      "1/1 [==============================] - 0s 78ms/step\n"
     ]
    },
    {
     "name": "stderr",
     "output_type": "stream",
     "text": [
      "C:\\Users\\rudra\\AppData\\Local\\Temp\\ipykernel_6820\\1767733992.py:15: RuntimeWarning: invalid value encountered in divide\n",
      "  channel_image /= channel_image.std()\n",
      "C:\\Users\\rudra\\AppData\\Local\\Temp\\ipykernel_6820\\1767733992.py:18: RuntimeWarning: invalid value encountered in cast\n",
      "  channel_image = np.clip(channel_image, 0, 255).astype('uint8')\n"
     ]
    },
    {
     "name": "stdout",
     "output_type": "stream",
     "text": [
      "[INFO] Training network for dog fold 2...\n",
      "Epoch 1/20\n",
      "71/71 [==============================] - 4s 49ms/step - loss: 0.5285 - accuracy: 0.7368\n",
      "Epoch 2/20\n",
      "71/71 [==============================] - 3s 48ms/step - loss: 0.3660 - accuracy: 0.8316\n",
      "Epoch 3/20\n",
      "71/71 [==============================] - 3s 48ms/step - loss: 0.2572 - accuracy: 0.8947\n",
      "Epoch 4/20\n",
      "71/71 [==============================] - 3s 48ms/step - loss: 0.2045 - accuracy: 0.9204\n",
      "Epoch 5/20\n",
      "71/71 [==============================] - 3s 47ms/step - loss: 0.1607 - accuracy: 0.9382\n",
      "Epoch 6/20\n",
      "71/71 [==============================] - 3s 47ms/step - loss: 0.0936 - accuracy: 0.9689\n",
      "Epoch 7/20\n",
      "71/71 [==============================] - 3s 47ms/step - loss: 0.0641 - accuracy: 0.9818\n",
      "Epoch 8/20\n",
      "71/71 [==============================] - 3s 47ms/step - loss: 0.0641 - accuracy: 0.9773\n",
      "Epoch 9/20\n",
      "71/71 [==============================] - 3s 47ms/step - loss: 0.0410 - accuracy: 0.9867\n",
      "Epoch 10/20\n",
      "71/71 [==============================] - 3s 47ms/step - loss: 0.0428 - accuracy: 0.9867\n",
      "Epoch 11/20\n",
      "71/71 [==============================] - 3s 47ms/step - loss: 0.0758 - accuracy: 0.9729\n",
      "Epoch 12/20\n",
      "71/71 [==============================] - 3s 48ms/step - loss: 0.0414 - accuracy: 0.9876\n",
      "Epoch 13/20\n",
      "71/71 [==============================] - 3s 49ms/step - loss: 0.0374 - accuracy: 0.9889\n",
      "Epoch 14/20\n",
      "71/71 [==============================] - 3s 48ms/step - loss: 0.0227 - accuracy: 0.9947\n",
      "Epoch 15/20\n",
      "71/71 [==============================] - 3s 47ms/step - loss: 0.0409 - accuracy: 0.9849\n",
      "Epoch 16/20\n",
      "71/71 [==============================] - 3s 48ms/step - loss: 0.0286 - accuracy: 0.9902\n",
      "Epoch 17/20\n",
      "71/71 [==============================] - 3s 47ms/step - loss: 0.0153 - accuracy: 0.9960\n",
      "Epoch 18/20\n",
      "71/71 [==============================] - 3s 48ms/step - loss: 0.0059 - accuracy: 0.9991\n",
      "Epoch 19/20\n",
      "71/71 [==============================] - 3s 48ms/step - loss: 0.0053 - accuracy: 0.9991\n",
      "Epoch 20/20\n",
      "71/71 [==============================] - 3s 48ms/step - loss: 0.0067 - accuracy: 0.9991\n",
      "[INFO] Saving Model for dog fold 2 ...\n",
      "36/36 [==============================] - 1s 10ms/step\n"
     ]
    },
    {
     "name": "stderr",
     "output_type": "stream",
     "text": [
      "C:\\Users\\rudra\\AppData\\Local\\Temp\\ipykernel_6820\\3249705492.py:34: UserWarning: FigureCanvasAgg is non-interactive, and thus cannot be shown\n",
      "  plt.show()\n"
     ]
    },
    {
     "name": "stdout",
     "output_type": "stream",
     "text": [
      "1/1 [==============================] - 0s 94ms/step\n"
     ]
    },
    {
     "name": "stderr",
     "output_type": "stream",
     "text": [
      "C:\\Users\\rudra\\AppData\\Local\\Temp\\ipykernel_6820\\1767733992.py:15: RuntimeWarning: invalid value encountered in divide\n",
      "  channel_image /= channel_image.std()\n",
      "C:\\Users\\rudra\\AppData\\Local\\Temp\\ipykernel_6820\\1767733992.py:18: RuntimeWarning: invalid value encountered in cast\n",
      "  channel_image = np.clip(channel_image, 0, 255).astype('uint8')\n"
     ]
    },
    {
     "name": "stdout",
     "output_type": "stream",
     "text": [
      "[INFO] Training network for dog fold 3...\n",
      "Epoch 1/20\n",
      "71/71 [==============================] - 4s 49ms/step - loss: 0.4951 - accuracy: 0.7614\n",
      "Epoch 2/20\n",
      "71/71 [==============================] - 3s 48ms/step - loss: 0.3135 - accuracy: 0.8644\n",
      "Epoch 3/20\n",
      "71/71 [==============================] - 3s 48ms/step - loss: 0.2229 - accuracy: 0.9196\n",
      "Epoch 4/20\n",
      "71/71 [==============================] - 3s 48ms/step - loss: 0.1659 - accuracy: 0.9427\n",
      "Epoch 5/20\n",
      "71/71 [==============================] - 3s 47ms/step - loss: 0.0955 - accuracy: 0.9680\n",
      "Epoch 6/20\n",
      "71/71 [==============================] - 3s 48ms/step - loss: 0.0823 - accuracy: 0.9729\n",
      "Epoch 7/20\n",
      "71/71 [==============================] - 3s 48ms/step - loss: 0.0671 - accuracy: 0.9760\n",
      "Epoch 8/20\n",
      "71/71 [==============================] - 3s 48ms/step - loss: 0.0542 - accuracy: 0.9822\n",
      "Epoch 9/20\n",
      "71/71 [==============================] - 3s 48ms/step - loss: 0.0182 - accuracy: 0.9960\n",
      "Epoch 10/20\n",
      "71/71 [==============================] - 3s 48ms/step - loss: 0.0240 - accuracy: 0.9929\n",
      "Epoch 11/20\n",
      "71/71 [==============================] - 4s 56ms/step - loss: 0.0211 - accuracy: 0.9938\n",
      "Epoch 12/20\n",
      "71/71 [==============================] - 4s 53ms/step - loss: 0.0157 - accuracy: 0.9960\n",
      "Epoch 13/20\n",
      "71/71 [==============================] - 3s 48ms/step - loss: 0.0377 - accuracy: 0.9871\n",
      "Epoch 14/20\n",
      "71/71 [==============================] - 3s 48ms/step - loss: 0.0570 - accuracy: 0.9782\n",
      "Epoch 15/20\n",
      "71/71 [==============================] - 3s 47ms/step - loss: 0.0393 - accuracy: 0.9876\n",
      "Epoch 16/20\n",
      "71/71 [==============================] - 3s 48ms/step - loss: 0.0426 - accuracy: 0.9827\n",
      "Epoch 17/20\n",
      "71/71 [==============================] - 3s 47ms/step - loss: 0.0341 - accuracy: 0.9889\n",
      "Epoch 18/20\n",
      "71/71 [==============================] - 3s 47ms/step - loss: 0.0153 - accuracy: 0.9956\n",
      "Epoch 19/20\n",
      "71/71 [==============================] - 3s 48ms/step - loss: 0.0081 - accuracy: 0.9978\n",
      "Epoch 20/20\n",
      "71/71 [==============================] - 3s 48ms/step - loss: 0.0035 - accuracy: 0.9996\n",
      "[INFO] Saving Model for dog fold 3 ...\n",
      "36/36 [==============================] - 0s 10ms/step\n"
     ]
    },
    {
     "name": "stderr",
     "output_type": "stream",
     "text": [
      "C:\\Users\\rudra\\AppData\\Local\\Temp\\ipykernel_6820\\3249705492.py:34: UserWarning: FigureCanvasAgg is non-interactive, and thus cannot be shown\n",
      "  plt.show()\n"
     ]
    },
    {
     "name": "stdout",
     "output_type": "stream",
     "text": [
      "1/1 [==============================] - 0s 78ms/step\n"
     ]
    },
    {
     "name": "stderr",
     "output_type": "stream",
     "text": [
      "C:\\Users\\rudra\\AppData\\Local\\Temp\\ipykernel_6820\\1767733992.py:15: RuntimeWarning: invalid value encountered in divide\n",
      "  channel_image /= channel_image.std()\n",
      "C:\\Users\\rudra\\AppData\\Local\\Temp\\ipykernel_6820\\1767733992.py:18: RuntimeWarning: invalid value encountered in cast\n",
      "  channel_image = np.clip(channel_image, 0, 255).astype('uint8')\n"
     ]
    },
    {
     "name": "stdout",
     "output_type": "stream",
     "text": [
      "[INFO] Loading images ...\n",
      "[INFO] Processing dolphin ...\n",
      "[INFO] Processing rest ...\n",
      "[INFO] image extract completed\n",
      "total train samples: \n",
      "3414\n",
      "[INFO] Training network for dolphin fold 1...\n",
      "Epoch 1/20\n",
      "71/71 [==============================] - 5s 48ms/step - loss: 0.2683 - accuracy: 0.8988\n",
      "Epoch 2/20\n",
      "71/71 [==============================] - 3s 48ms/step - loss: 0.1868 - accuracy: 0.9314\n",
      "Epoch 3/20\n",
      "71/71 [==============================] - 3s 47ms/step - loss: 0.1539 - accuracy: 0.9479\n",
      "Epoch 4/20\n",
      "71/71 [==============================] - 4s 49ms/step - loss: 0.1066 - accuracy: 0.9635\n",
      "Epoch 5/20\n",
      "71/71 [==============================] - 3s 49ms/step - loss: 0.0993 - accuracy: 0.9670\n",
      "Epoch 6/20\n",
      "71/71 [==============================] - 3s 47ms/step - loss: 0.1183 - accuracy: 0.9572\n",
      "Epoch 7/20\n",
      "71/71 [==============================] - 3s 47ms/step - loss: 0.1015 - accuracy: 0.9603\n",
      "Epoch 8/20\n",
      "71/71 [==============================] - 3s 48ms/step - loss: 0.0590 - accuracy: 0.9844\n",
      "Epoch 9/20\n",
      "71/71 [==============================] - 3s 47ms/step - loss: 0.0476 - accuracy: 0.9848\n",
      "Epoch 10/20\n",
      "71/71 [==============================] - 3s 48ms/step - loss: 0.0296 - accuracy: 0.9920\n",
      "Epoch 11/20\n",
      "71/71 [==============================] - 3s 48ms/step - loss: 0.0267 - accuracy: 0.9924\n",
      "Epoch 12/20\n",
      "71/71 [==============================] - 3s 47ms/step - loss: 0.0351 - accuracy: 0.9884\n",
      "Epoch 13/20\n",
      "71/71 [==============================] - 3s 47ms/step - loss: 0.0216 - accuracy: 0.9924\n",
      "Epoch 14/20\n",
      "71/71 [==============================] - 3s 47ms/step - loss: 0.0297 - accuracy: 0.9906\n",
      "Epoch 15/20\n",
      "71/71 [==============================] - 3s 47ms/step - loss: 0.0161 - accuracy: 0.9960\n",
      "Epoch 16/20\n",
      "71/71 [==============================] - 3s 47ms/step - loss: 0.0264 - accuracy: 0.9929\n",
      "Epoch 17/20\n",
      "71/71 [==============================] - 3s 47ms/step - loss: 0.0251 - accuracy: 0.9920\n",
      "Epoch 18/20\n",
      "71/71 [==============================] - 3s 47ms/step - loss: 0.0281 - accuracy: 0.9902\n",
      "Epoch 19/20\n",
      "71/71 [==============================] - 3s 47ms/step - loss: 0.0218 - accuracy: 0.9898\n",
      "Epoch 20/20\n",
      "71/71 [==============================] - 3s 47ms/step - loss: 0.0230 - accuracy: 0.9906\n",
      "[INFO] Saving Model for dolphin fold 1 ...\n",
      "36/36 [==============================] - 0s 10ms/step\n"
     ]
    },
    {
     "name": "stderr",
     "output_type": "stream",
     "text": [
      "C:\\Users\\rudra\\AppData\\Local\\Temp\\ipykernel_6820\\3249705492.py:34: UserWarning: FigureCanvasAgg is non-interactive, and thus cannot be shown\n",
      "  plt.show()\n"
     ]
    },
    {
     "name": "stdout",
     "output_type": "stream",
     "text": [
      "1/1 [==============================] - 0s 75ms/step\n"
     ]
    },
    {
     "name": "stderr",
     "output_type": "stream",
     "text": [
      "C:\\Users\\rudra\\AppData\\Local\\Temp\\ipykernel_6820\\1767733992.py:15: RuntimeWarning: invalid value encountered in divide\n",
      "  channel_image /= channel_image.std()\n",
      "C:\\Users\\rudra\\AppData\\Local\\Temp\\ipykernel_6820\\1767733992.py:18: RuntimeWarning: invalid value encountered in cast\n",
      "  channel_image = np.clip(channel_image, 0, 255).astype('uint8')\n"
     ]
    },
    {
     "name": "stdout",
     "output_type": "stream",
     "text": [
      "[INFO] Training network for dolphin fold 2...\n",
      "Epoch 1/20\n",
      "71/71 [==============================] - 4s 48ms/step - loss: 0.2883 - accuracy: 0.8930\n",
      "Epoch 2/20\n",
      "71/71 [==============================] - 3s 48ms/step - loss: 0.1826 - accuracy: 0.9318\n",
      "Epoch 3/20\n",
      "71/71 [==============================] - 3s 47ms/step - loss: 0.1469 - accuracy: 0.9479\n",
      "Epoch 4/20\n",
      "71/71 [==============================] - 3s 47ms/step - loss: 0.1187 - accuracy: 0.9554\n",
      "Epoch 5/20\n",
      "71/71 [==============================] - 3s 47ms/step - loss: 0.2215 - accuracy: 0.9162\n",
      "Epoch 6/20\n",
      "71/71 [==============================] - 3s 46ms/step - loss: 0.1605 - accuracy: 0.9447\n",
      "Epoch 7/20\n",
      "71/71 [==============================] - 3s 47ms/step - loss: 0.1305 - accuracy: 0.9537\n",
      "Epoch 8/20\n",
      "71/71 [==============================] - 3s 48ms/step - loss: 0.1143 - accuracy: 0.9603\n",
      "Epoch 9/20\n",
      "71/71 [==============================] - 3s 48ms/step - loss: 0.0761 - accuracy: 0.9755\n",
      "Epoch 10/20\n",
      "71/71 [==============================] - 3s 48ms/step - loss: 0.0596 - accuracy: 0.9826\n",
      "Epoch 11/20\n",
      "71/71 [==============================] - 3s 47ms/step - loss: 0.0623 - accuracy: 0.9777\n",
      "Epoch 12/20\n",
      "71/71 [==============================] - 3s 47ms/step - loss: 0.0480 - accuracy: 0.9866\n",
      "Epoch 13/20\n",
      "71/71 [==============================] - 3s 47ms/step - loss: 0.0291 - accuracy: 0.9929\n",
      "Epoch 14/20\n",
      "71/71 [==============================] - 3s 47ms/step - loss: 0.0297 - accuracy: 0.9920\n",
      "Epoch 15/20\n",
      "71/71 [==============================] - 3s 47ms/step - loss: 0.0340 - accuracy: 0.9880\n",
      "Epoch 16/20\n",
      "71/71 [==============================] - 3s 47ms/step - loss: 0.0202 - accuracy: 0.9942\n",
      "Epoch 17/20\n",
      "71/71 [==============================] - 3s 47ms/step - loss: 0.0255 - accuracy: 0.9933\n",
      "Epoch 18/20\n",
      "71/71 [==============================] - 3s 47ms/step - loss: 0.0137 - accuracy: 0.9969\n",
      "Epoch 19/20\n",
      "71/71 [==============================] - 3s 47ms/step - loss: 0.0400 - accuracy: 0.9884\n",
      "Epoch 20/20\n",
      "71/71 [==============================] - 3s 47ms/step - loss: 0.0282 - accuracy: 0.9893\n",
      "[INFO] Saving Model for dolphin fold 2 ...\n",
      "36/36 [==============================] - 1s 10ms/step\n"
     ]
    },
    {
     "name": "stderr",
     "output_type": "stream",
     "text": [
      "C:\\Users\\rudra\\AppData\\Local\\Temp\\ipykernel_6820\\3249705492.py:34: UserWarning: FigureCanvasAgg is non-interactive, and thus cannot be shown\n",
      "  plt.show()\n"
     ]
    },
    {
     "name": "stdout",
     "output_type": "stream",
     "text": [
      "1/1 [==============================] - 0s 79ms/step\n",
      "[INFO] Training network for dolphin fold 3...\n",
      "Epoch 1/20\n",
      "71/71 [==============================] - 4s 49ms/step - loss: 0.2568 - accuracy: 0.8974\n",
      "Epoch 2/20\n",
      "71/71 [==============================] - 3s 48ms/step - loss: 0.2073 - accuracy: 0.9189\n",
      "Epoch 3/20\n",
      "71/71 [==============================] - 3s 47ms/step - loss: 0.1915 - accuracy: 0.9327\n",
      "Epoch 4/20\n",
      "71/71 [==============================] - 3s 47ms/step - loss: 0.1416 - accuracy: 0.9541\n",
      "Epoch 5/20\n",
      "71/71 [==============================] - 3s 48ms/step - loss: 0.1337 - accuracy: 0.9488\n",
      "Epoch 6/20\n",
      "71/71 [==============================] - 3s 47ms/step - loss: 0.1200 - accuracy: 0.9581\n",
      "Epoch 7/20\n",
      "71/71 [==============================] - 3s 47ms/step - loss: 0.0848 - accuracy: 0.9728\n",
      "Epoch 8/20\n",
      "71/71 [==============================] - 3s 47ms/step - loss: 0.0696 - accuracy: 0.9773\n",
      "Epoch 9/20\n",
      "71/71 [==============================] - 3s 47ms/step - loss: 0.0483 - accuracy: 0.9862\n",
      "Epoch 10/20\n",
      "71/71 [==============================] - 3s 47ms/step - loss: 0.0491 - accuracy: 0.9840\n",
      "Epoch 11/20\n",
      "71/71 [==============================] - 3s 47ms/step - loss: 0.0219 - accuracy: 0.9951\n",
      "Epoch 12/20\n",
      "71/71 [==============================] - 3s 47ms/step - loss: 0.0401 - accuracy: 0.9893\n",
      "Epoch 13/20\n",
      "71/71 [==============================] - 3s 47ms/step - loss: 0.0266 - accuracy: 0.9924\n",
      "Epoch 14/20\n",
      "71/71 [==============================] - 3s 47ms/step - loss: 0.0746 - accuracy: 0.9786\n",
      "Epoch 15/20\n",
      "71/71 [==============================] - 3s 47ms/step - loss: 0.0533 - accuracy: 0.9848\n",
      "Epoch 16/20\n",
      "71/71 [==============================] - 3s 47ms/step - loss: 0.0488 - accuracy: 0.9831\n",
      "Epoch 17/20\n",
      "71/71 [==============================] - 3s 48ms/step - loss: 0.0151 - accuracy: 0.9964\n",
      "Epoch 18/20\n",
      "71/71 [==============================] - 3s 47ms/step - loss: 0.0179 - accuracy: 0.9955\n",
      "Epoch 19/20\n",
      "71/71 [==============================] - 4s 50ms/step - loss: 0.0253 - accuracy: 0.9906\n",
      "Epoch 20/20\n",
      "71/71 [==============================] - 3s 47ms/step - loss: 0.0268 - accuracy: 0.9915\n",
      "[INFO] Saving Model for dolphin fold 3 ...\n",
      "36/36 [==============================] - 0s 10ms/step\n"
     ]
    },
    {
     "name": "stderr",
     "output_type": "stream",
     "text": [
      "C:\\Users\\rudra\\AppData\\Local\\Temp\\ipykernel_6820\\3249705492.py:34: UserWarning: FigureCanvasAgg is non-interactive, and thus cannot be shown\n",
      "  plt.show()\n"
     ]
    },
    {
     "name": "stdout",
     "output_type": "stream",
     "text": [
      "1/1 [==============================] - 0s 84ms/step\n"
     ]
    },
    {
     "name": "stderr",
     "output_type": "stream",
     "text": [
      "C:\\Users\\rudra\\AppData\\Local\\Temp\\ipykernel_6820\\1767733992.py:15: RuntimeWarning: invalid value encountered in divide\n",
      "  channel_image /= channel_image.std()\n",
      "C:\\Users\\rudra\\AppData\\Local\\Temp\\ipykernel_6820\\1767733992.py:18: RuntimeWarning: invalid value encountered in cast\n",
      "  channel_image = np.clip(channel_image, 0, 255).astype('uint8')\n"
     ]
    },
    {
     "name": "stdout",
     "output_type": "stream",
     "text": [
      "[INFO] Loading images ...\n",
      "[INFO] Processing donkey ...\n",
      "[INFO] Processing rest ...\n",
      "[INFO] image extract completed\n",
      "total train samples: \n",
      "3423\n",
      "[INFO] Training network for donkey fold 1...\n",
      "Epoch 1/20\n",
      "71/71 [==============================] - 4s 48ms/step - loss: 0.5368 - accuracy: 0.7377\n",
      "Epoch 2/20\n",
      "71/71 [==============================] - 3s 47ms/step - loss: 0.3794 - accuracy: 0.8324\n",
      "Epoch 3/20\n",
      "71/71 [==============================] - 3s 47ms/step - loss: 0.3174 - accuracy: 0.8702\n",
      "Epoch 4/20\n",
      "71/71 [==============================] - 3s 47ms/step - loss: 0.2130 - accuracy: 0.9196\n",
      "Epoch 5/20\n",
      "71/71 [==============================] - 3s 47ms/step - loss: 0.1364 - accuracy: 0.9538\n",
      "Epoch 6/20\n",
      "71/71 [==============================] - 3s 47ms/step - loss: 0.1158 - accuracy: 0.9591\n",
      "Epoch 7/20\n",
      "71/71 [==============================] - 3s 47ms/step - loss: 0.0721 - accuracy: 0.9733\n",
      "Epoch 8/20\n",
      "71/71 [==============================] - 3s 47ms/step - loss: 0.0631 - accuracy: 0.9791\n",
      "Epoch 9/20\n",
      "71/71 [==============================] - 3s 47ms/step - loss: 0.0564 - accuracy: 0.9787\n",
      "Epoch 10/20\n",
      "71/71 [==============================] - 3s 47ms/step - loss: 0.0606 - accuracy: 0.9747\n",
      "Epoch 11/20\n",
      "71/71 [==============================] - 3s 47ms/step - loss: 0.0427 - accuracy: 0.9867\n",
      "Epoch 12/20\n",
      "71/71 [==============================] - 3s 47ms/step - loss: 0.0164 - accuracy: 0.9956\n",
      "Epoch 13/20\n",
      "71/71 [==============================] - 3s 47ms/step - loss: 0.0181 - accuracy: 0.9947\n",
      "Epoch 14/20\n",
      "71/71 [==============================] - 3s 47ms/step - loss: 0.0154 - accuracy: 0.9964\n",
      "Epoch 15/20\n",
      "71/71 [==============================] - 3s 47ms/step - loss: 0.0170 - accuracy: 0.9942\n",
      "Epoch 16/20\n",
      "71/71 [==============================] - 3s 47ms/step - loss: 0.0173 - accuracy: 0.9947\n",
      "Epoch 17/20\n",
      "71/71 [==============================] - 3s 47ms/step - loss: 0.0345 - accuracy: 0.9898\n",
      "Epoch 18/20\n",
      "71/71 [==============================] - 3s 47ms/step - loss: 0.0592 - accuracy: 0.9787\n",
      "Epoch 19/20\n",
      "71/71 [==============================] - 3s 47ms/step - loss: 0.0313 - accuracy: 0.9884\n",
      "Epoch 20/20\n",
      "71/71 [==============================] - 3s 47ms/step - loss: 0.0187 - accuracy: 0.9956\n",
      "[INFO] Saving Model for donkey fold 1 ...\n",
      "36/36 [==============================] - 1s 11ms/step\n"
     ]
    },
    {
     "name": "stderr",
     "output_type": "stream",
     "text": [
      "C:\\Users\\rudra\\AppData\\Local\\Temp\\ipykernel_6820\\3249705492.py:34: UserWarning: FigureCanvasAgg is non-interactive, and thus cannot be shown\n",
      "  plt.show()\n"
     ]
    },
    {
     "name": "stdout",
     "output_type": "stream",
     "text": [
      "1/1 [==============================] - 0s 78ms/step\n"
     ]
    },
    {
     "name": "stderr",
     "output_type": "stream",
     "text": [
      "C:\\Users\\rudra\\AppData\\Local\\Temp\\ipykernel_6820\\1767733992.py:15: RuntimeWarning: invalid value encountered in divide\n",
      "  channel_image /= channel_image.std()\n",
      "C:\\Users\\rudra\\AppData\\Local\\Temp\\ipykernel_6820\\1767733992.py:18: RuntimeWarning: invalid value encountered in cast\n",
      "  channel_image = np.clip(channel_image, 0, 255).astype('uint8')\n"
     ]
    },
    {
     "name": "stdout",
     "output_type": "stream",
     "text": [
      "[INFO] Training network for donkey fold 2...\n",
      "Epoch 1/20\n",
      "71/71 [==============================] - 4s 49ms/step - loss: 0.5644 - accuracy: 0.7082\n",
      "Epoch 2/20\n",
      "71/71 [==============================] - 3s 48ms/step - loss: 0.3873 - accuracy: 0.8373\n",
      "Epoch 3/20\n",
      "71/71 [==============================] - 3s 48ms/step - loss: 0.3266 - accuracy: 0.8564\n",
      "Epoch 4/20\n",
      "71/71 [==============================] - 3s 48ms/step - loss: 0.2122 - accuracy: 0.9169\n",
      "Epoch 5/20\n",
      "71/71 [==============================] - 3s 48ms/step - loss: 0.1252 - accuracy: 0.9547\n",
      "Epoch 6/20\n",
      "71/71 [==============================] - 3s 48ms/step - loss: 0.0896 - accuracy: 0.9733\n",
      "Epoch 7/20\n",
      "71/71 [==============================] - 3s 48ms/step - loss: 0.0863 - accuracy: 0.9698\n",
      "Epoch 8/20\n",
      "71/71 [==============================] - 3s 48ms/step - loss: 0.0307 - accuracy: 0.9960\n",
      "Epoch 9/20\n",
      "71/71 [==============================] - 3s 48ms/step - loss: 0.0314 - accuracy: 0.9907\n",
      "Epoch 10/20\n",
      "71/71 [==============================] - 4s 53ms/step - loss: 0.0389 - accuracy: 0.9871\n",
      "Epoch 11/20\n",
      "71/71 [==============================] - 4s 55ms/step - loss: 0.0335 - accuracy: 0.9902\n",
      "Epoch 12/20\n",
      "71/71 [==============================] - 3s 48ms/step - loss: 0.0395 - accuracy: 0.9867\n",
      "Epoch 13/20\n",
      "71/71 [==============================] - 3s 48ms/step - loss: 0.0271 - accuracy: 0.9902\n",
      "Epoch 14/20\n",
      "71/71 [==============================] - 3s 48ms/step - loss: 0.0141 - accuracy: 0.9969\n",
      "Epoch 15/20\n",
      "71/71 [==============================] - 3s 48ms/step - loss: 0.0254 - accuracy: 0.9920\n",
      "Epoch 16/20\n",
      "71/71 [==============================] - 3s 48ms/step - loss: 0.0162 - accuracy: 0.9947\n",
      "Epoch 17/20\n",
      "71/71 [==============================] - 3s 48ms/step - loss: 0.0542 - accuracy: 0.9791\n",
      "Epoch 18/20\n",
      "71/71 [==============================] - 3s 48ms/step - loss: 0.0396 - accuracy: 0.9884\n",
      "Epoch 19/20\n",
      "71/71 [==============================] - 3s 48ms/step - loss: 0.0281 - accuracy: 0.9898\n",
      "Epoch 20/20\n",
      "71/71 [==============================] - 3s 48ms/step - loss: 0.0148 - accuracy: 0.9942\n",
      "[INFO] Saving Model for donkey fold 2 ...\n",
      "36/36 [==============================] - 1s 10ms/step\n"
     ]
    },
    {
     "name": "stderr",
     "output_type": "stream",
     "text": [
      "C:\\Users\\rudra\\AppData\\Local\\Temp\\ipykernel_6820\\3249705492.py:34: UserWarning: FigureCanvasAgg is non-interactive, and thus cannot be shown\n",
      "  plt.show()\n"
     ]
    },
    {
     "name": "stdout",
     "output_type": "stream",
     "text": [
      "1/1 [==============================] - 0s 64ms/step\n"
     ]
    },
    {
     "name": "stderr",
     "output_type": "stream",
     "text": [
      "C:\\Users\\rudra\\AppData\\Local\\Temp\\ipykernel_6820\\1767733992.py:15: RuntimeWarning: invalid value encountered in divide\n",
      "  channel_image /= channel_image.std()\n",
      "C:\\Users\\rudra\\AppData\\Local\\Temp\\ipykernel_6820\\1767733992.py:18: RuntimeWarning: invalid value encountered in cast\n",
      "  channel_image = np.clip(channel_image, 0, 255).astype('uint8')\n"
     ]
    },
    {
     "name": "stdout",
     "output_type": "stream",
     "text": [
      "[INFO] Training network for donkey fold 3...\n",
      "Epoch 1/20\n",
      "71/71 [==============================] - 4s 49ms/step - loss: 0.5722 - accuracy: 0.7082\n",
      "Epoch 2/20\n",
      "71/71 [==============================] - 3s 48ms/step - loss: 0.3758 - accuracy: 0.8347\n",
      "Epoch 3/20\n",
      "71/71 [==============================] - 3s 48ms/step - loss: 0.2692 - accuracy: 0.8916\n",
      "Epoch 4/20\n",
      "71/71 [==============================] - 3s 48ms/step - loss: 0.1835 - accuracy: 0.9316\n",
      "Epoch 5/20\n",
      "71/71 [==============================] - 3s 48ms/step - loss: 0.1423 - accuracy: 0.9467\n",
      "Epoch 6/20\n",
      "71/71 [==============================] - 3s 48ms/step - loss: 0.1171 - accuracy: 0.9618\n",
      "Epoch 7/20\n",
      "71/71 [==============================] - 3s 48ms/step - loss: 0.0459 - accuracy: 0.9911\n",
      "Epoch 8/20\n",
      "71/71 [==============================] - 3s 48ms/step - loss: 0.0387 - accuracy: 0.9893\n",
      "Epoch 9/20\n",
      "71/71 [==============================] - 3s 47ms/step - loss: 0.0907 - accuracy: 0.9689\n",
      "Epoch 10/20\n",
      "71/71 [==============================] - 3s 47ms/step - loss: 0.0789 - accuracy: 0.9716\n",
      "Epoch 11/20\n",
      "71/71 [==============================] - 3s 47ms/step - loss: 0.0682 - accuracy: 0.9720\n",
      "Epoch 12/20\n",
      "71/71 [==============================] - 3s 47ms/step - loss: 0.0429 - accuracy: 0.9884\n",
      "Epoch 13/20\n",
      "71/71 [==============================] - 3s 47ms/step - loss: 0.0360 - accuracy: 0.9889\n",
      "Epoch 14/20\n",
      "71/71 [==============================] - 3s 47ms/step - loss: 0.0228 - accuracy: 0.9947\n",
      "Epoch 15/20\n",
      "71/71 [==============================] - 3s 48ms/step - loss: 0.0264 - accuracy: 0.9907\n",
      "Epoch 16/20\n",
      "71/71 [==============================] - 3s 48ms/step - loss: 0.0570 - accuracy: 0.9818\n",
      "Epoch 17/20\n",
      "71/71 [==============================] - 3s 47ms/step - loss: 0.0302 - accuracy: 0.9898\n",
      "Epoch 18/20\n",
      "71/71 [==============================] - 3s 48ms/step - loss: 0.0142 - accuracy: 0.9969\n",
      "Epoch 19/20\n",
      "71/71 [==============================] - 3s 47ms/step - loss: 0.0085 - accuracy: 0.9987\n",
      "Epoch 20/20\n",
      "71/71 [==============================] - 3s 47ms/step - loss: 0.0398 - accuracy: 0.9858\n",
      "[INFO] Saving Model for donkey fold 3 ...\n",
      "36/36 [==============================] - 1s 11ms/step\n"
     ]
    },
    {
     "name": "stderr",
     "output_type": "stream",
     "text": [
      "C:\\Users\\rudra\\AppData\\Local\\Temp\\ipykernel_6820\\3249705492.py:34: UserWarning: FigureCanvasAgg is non-interactive, and thus cannot be shown\n",
      "  plt.show()\n"
     ]
    },
    {
     "name": "stdout",
     "output_type": "stream",
     "text": [
      "1/1 [==============================] - 0s 79ms/step\n"
     ]
    },
    {
     "name": "stderr",
     "output_type": "stream",
     "text": [
      "C:\\Users\\rudra\\AppData\\Local\\Temp\\ipykernel_6820\\1767733992.py:15: RuntimeWarning: invalid value encountered in divide\n",
      "  channel_image /= channel_image.std()\n",
      "C:\\Users\\rudra\\AppData\\Local\\Temp\\ipykernel_6820\\1767733992.py:18: RuntimeWarning: invalid value encountered in cast\n",
      "  channel_image = np.clip(channel_image, 0, 255).astype('uint8')\n"
     ]
    },
    {
     "name": "stdout",
     "output_type": "stream",
     "text": [
      "[INFO] Loading images ...\n",
      "[INFO] Processing dragonfly ...\n",
      "[INFO] Processing rest ...\n",
      "[INFO] image extract completed\n",
      "total train samples: \n",
      "3426\n",
      "[INFO] Training network for dragonfly fold 1...\n",
      "Epoch 1/20\n",
      "71/71 [==============================] - 5s 48ms/step - loss: 0.4199 - accuracy: 0.8235\n",
      "Epoch 2/20\n",
      "71/71 [==============================] - 4s 50ms/step - loss: 0.2781 - accuracy: 0.8930\n",
      "Epoch 3/20\n",
      "71/71 [==============================] - 3s 49ms/step - loss: 0.2339 - accuracy: 0.9130\n",
      "Epoch 4/20\n",
      "71/71 [==============================] - 3s 48ms/step - loss: 0.1692 - accuracy: 0.9396\n",
      "Epoch 5/20\n",
      "71/71 [==============================] - 3s 48ms/step - loss: 0.1391 - accuracy: 0.9467\n",
      "Epoch 6/20\n",
      "71/71 [==============================] - 3s 48ms/step - loss: 0.0931 - accuracy: 0.9707\n",
      "Epoch 7/20\n",
      "71/71 [==============================] - 3s 48ms/step - loss: 0.0876 - accuracy: 0.9720\n",
      "Epoch 8/20\n",
      "71/71 [==============================] - 3s 48ms/step - loss: 0.0798 - accuracy: 0.9707\n",
      "Epoch 9/20\n",
      "71/71 [==============================] - 3s 48ms/step - loss: 0.0509 - accuracy: 0.9858\n",
      "Epoch 10/20\n",
      "71/71 [==============================] - 3s 48ms/step - loss: 0.0379 - accuracy: 0.9889\n",
      "Epoch 11/20\n",
      "71/71 [==============================] - 3s 47ms/step - loss: 0.0631 - accuracy: 0.9778\n",
      "Epoch 12/20\n",
      "71/71 [==============================] - 3s 48ms/step - loss: 0.0340 - accuracy: 0.9876\n",
      "Epoch 13/20\n",
      "71/71 [==============================] - 3s 48ms/step - loss: 0.0771 - accuracy: 0.9702\n",
      "Epoch 14/20\n",
      "71/71 [==============================] - 3s 48ms/step - loss: 0.0468 - accuracy: 0.9862\n",
      "Epoch 15/20\n",
      "71/71 [==============================] - 3s 48ms/step - loss: 0.0354 - accuracy: 0.9898\n",
      "Epoch 16/20\n",
      "71/71 [==============================] - 3s 48ms/step - loss: 0.0318 - accuracy: 0.9907\n",
      "Epoch 17/20\n",
      "71/71 [==============================] - 3s 48ms/step - loss: 0.0163 - accuracy: 0.9956\n",
      "Epoch 18/20\n",
      "71/71 [==============================] - 3s 48ms/step - loss: 0.0143 - accuracy: 0.9969\n",
      "Epoch 19/20\n",
      "71/71 [==============================] - 3s 47ms/step - loss: 0.0182 - accuracy: 0.9942\n",
      "Epoch 20/20\n",
      "71/71 [==============================] - 3s 48ms/step - loss: 0.0131 - accuracy: 0.9969\n",
      "[INFO] Saving Model for dragonfly fold 1 ...\n",
      "36/36 [==============================] - 1s 10ms/step\n"
     ]
    },
    {
     "name": "stderr",
     "output_type": "stream",
     "text": [
      "C:\\Users\\rudra\\AppData\\Local\\Temp\\ipykernel_6820\\3249705492.py:34: UserWarning: FigureCanvasAgg is non-interactive, and thus cannot be shown\n",
      "  plt.show()\n"
     ]
    },
    {
     "name": "stdout",
     "output_type": "stream",
     "text": [
      "1/1 [==============================] - 0s 74ms/step\n"
     ]
    },
    {
     "name": "stderr",
     "output_type": "stream",
     "text": [
      "C:\\Users\\rudra\\AppData\\Local\\Temp\\ipykernel_6820\\1767733992.py:15: RuntimeWarning: invalid value encountered in divide\n",
      "  channel_image /= channel_image.std()\n",
      "C:\\Users\\rudra\\AppData\\Local\\Temp\\ipykernel_6820\\1767733992.py:18: RuntimeWarning: invalid value encountered in cast\n",
      "  channel_image = np.clip(channel_image, 0, 255).astype('uint8')\n"
     ]
    },
    {
     "name": "stdout",
     "output_type": "stream",
     "text": [
      "[INFO] Training network for dragonfly fold 2...\n",
      "Epoch 1/20\n",
      "71/71 [==============================] - 4s 48ms/step - loss: 0.3862 - accuracy: 0.8354\n",
      "Epoch 2/20\n",
      "71/71 [==============================] - 3s 48ms/step - loss: 0.2521 - accuracy: 0.9019\n",
      "Epoch 3/20\n",
      "71/71 [==============================] - 3s 47ms/step - loss: 0.2053 - accuracy: 0.9179\n",
      "Epoch 4/20\n",
      "71/71 [==============================] - 3s 47ms/step - loss: 0.1413 - accuracy: 0.9498\n",
      "Epoch 5/20\n",
      "71/71 [==============================] - 3s 47ms/step - loss: 0.1142 - accuracy: 0.9587\n",
      "Epoch 6/20\n",
      "71/71 [==============================] - 3s 47ms/step - loss: 0.0678 - accuracy: 0.9760\n",
      "Epoch 7/20\n",
      "71/71 [==============================] - 3s 48ms/step - loss: 0.0767 - accuracy: 0.9734\n",
      "Epoch 8/20\n",
      "71/71 [==============================] - 3s 47ms/step - loss: 0.0571 - accuracy: 0.9800\n",
      "Epoch 9/20\n",
      "71/71 [==============================] - 3s 48ms/step - loss: 0.0390 - accuracy: 0.9889\n",
      "Epoch 10/20\n",
      "71/71 [==============================] - 3s 48ms/step - loss: 0.0669 - accuracy: 0.9774\n",
      "Epoch 11/20\n",
      "71/71 [==============================] - 3s 48ms/step - loss: 0.0401 - accuracy: 0.9876\n",
      "Epoch 12/20\n",
      "71/71 [==============================] - 3s 47ms/step - loss: 0.0195 - accuracy: 0.9933\n",
      "Epoch 13/20\n",
      "71/71 [==============================] - 3s 47ms/step - loss: 0.0211 - accuracy: 0.9947\n",
      "Epoch 14/20\n",
      "71/71 [==============================] - 3s 48ms/step - loss: 0.0291 - accuracy: 0.9889\n",
      "Epoch 15/20\n",
      "71/71 [==============================] - 3s 48ms/step - loss: 0.0261 - accuracy: 0.9907\n",
      "Epoch 16/20\n",
      "71/71 [==============================] - 3s 48ms/step - loss: 0.0143 - accuracy: 0.9956\n",
      "Epoch 17/20\n",
      "71/71 [==============================] - 3s 48ms/step - loss: 0.0250 - accuracy: 0.9933\n",
      "Epoch 18/20\n",
      "71/71 [==============================] - 3s 47ms/step - loss: 0.0100 - accuracy: 0.9964\n",
      "Epoch 19/20\n",
      "71/71 [==============================] - 3s 47ms/step - loss: 0.0057 - accuracy: 0.9987\n",
      "Epoch 20/20\n",
      "71/71 [==============================] - 3s 48ms/step - loss: 0.0281 - accuracy: 0.9907\n",
      "[INFO] Saving Model for dragonfly fold 2 ...\n",
      "36/36 [==============================] - 0s 10ms/step\n"
     ]
    },
    {
     "name": "stderr",
     "output_type": "stream",
     "text": [
      "C:\\Users\\rudra\\AppData\\Local\\Temp\\ipykernel_6820\\3249705492.py:34: UserWarning: FigureCanvasAgg is non-interactive, and thus cannot be shown\n",
      "  plt.show()\n"
     ]
    },
    {
     "name": "stdout",
     "output_type": "stream",
     "text": [
      "1/1 [==============================] - 0s 78ms/step\n",
      "[INFO] Training network for dragonfly fold 3...\n",
      "Epoch 1/20\n",
      "71/71 [==============================] - 4s 48ms/step - loss: 0.3991 - accuracy: 0.8244\n",
      "Epoch 2/20\n",
      "71/71 [==============================] - 3s 48ms/step - loss: 0.2807 - accuracy: 0.8890\n",
      "Epoch 3/20\n",
      "71/71 [==============================] - 3s 48ms/step - loss: 0.2041 - accuracy: 0.9196\n",
      "Epoch 4/20\n",
      "71/71 [==============================] - 3s 48ms/step - loss: 0.1549 - accuracy: 0.9432\n",
      "Epoch 5/20\n",
      "71/71 [==============================] - 3s 47ms/step - loss: 0.1141 - accuracy: 0.9618\n",
      "Epoch 6/20\n",
      "71/71 [==============================] - 3s 48ms/step - loss: 0.0722 - accuracy: 0.9742\n",
      "Epoch 7/20\n",
      "71/71 [==============================] - 3s 47ms/step - loss: 0.0960 - accuracy: 0.9663\n",
      "Epoch 8/20\n",
      "71/71 [==============================] - 3s 47ms/step - loss: 0.0750 - accuracy: 0.9729\n",
      "Epoch 9/20\n",
      "71/71 [==============================] - 3s 48ms/step - loss: 0.0326 - accuracy: 0.9911\n",
      "Epoch 10/20\n",
      "71/71 [==============================] - 3s 48ms/step - loss: 0.0498 - accuracy: 0.9836\n",
      "Epoch 11/20\n",
      "71/71 [==============================] - 3s 48ms/step - loss: 0.0304 - accuracy: 0.9911\n",
      "Epoch 12/20\n",
      "71/71 [==============================] - 3s 48ms/step - loss: 0.0158 - accuracy: 0.9964\n",
      "Epoch 13/20\n",
      "71/71 [==============================] - 3s 48ms/step - loss: 0.0257 - accuracy: 0.9920\n",
      "Epoch 14/20\n",
      "71/71 [==============================] - 3s 48ms/step - loss: 0.0154 - accuracy: 0.9964\n",
      "Epoch 15/20\n",
      "71/71 [==============================] - 3s 47ms/step - loss: 0.0286 - accuracy: 0.9898\n",
      "Epoch 16/20\n",
      "71/71 [==============================] - 4s 51ms/step - loss: 0.0605 - accuracy: 0.9805\n",
      "Epoch 17/20\n",
      "71/71 [==============================] - 4s 54ms/step - loss: 0.0291 - accuracy: 0.9893\n",
      "Epoch 18/20\n",
      "71/71 [==============================] - 3s 48ms/step - loss: 0.0609 - accuracy: 0.9796\n",
      "Epoch 19/20\n",
      "71/71 [==============================] - 3s 48ms/step - loss: 0.0505 - accuracy: 0.9813\n",
      "Epoch 20/20\n",
      "71/71 [==============================] - 3s 48ms/step - loss: 0.0200 - accuracy: 0.9942\n",
      "[INFO] Saving Model for dragonfly fold 3 ...\n",
      "36/36 [==============================] - 0s 10ms/step\n"
     ]
    },
    {
     "name": "stderr",
     "output_type": "stream",
     "text": [
      "C:\\Users\\rudra\\AppData\\Local\\Temp\\ipykernel_6820\\3249705492.py:34: UserWarning: FigureCanvasAgg is non-interactive, and thus cannot be shown\n",
      "  plt.show()\n"
     ]
    },
    {
     "name": "stdout",
     "output_type": "stream",
     "text": [
      "1/1 [==============================] - 0s 102ms/step\n",
      "[INFO] Loading images ...\n",
      "[INFO] Processing duck ...\n",
      "[INFO] Processing rest ...\n",
      "[INFO] image extract completed\n",
      "total train samples: \n",
      "3421\n",
      "[INFO] Training network for duck fold 1...\n",
      "Epoch 1/20\n",
      "71/71 [==============================] - 5s 48ms/step - loss: 0.5545 - accuracy: 0.7289\n",
      "Epoch 2/20\n",
      "71/71 [==============================] - 3s 48ms/step - loss: 0.4213 - accuracy: 0.8020\n",
      "Epoch 3/20\n",
      "71/71 [==============================] - 3s 48ms/step - loss: 0.3141 - accuracy: 0.8714\n",
      "Epoch 4/20\n",
      "71/71 [==============================] - 3s 47ms/step - loss: 0.2059 - accuracy: 0.9217\n",
      "Epoch 5/20\n",
      "71/71 [==============================] - 3s 47ms/step - loss: 0.1413 - accuracy: 0.9533\n",
      "Epoch 6/20\n",
      "71/71 [==============================] - 3s 47ms/step - loss: 0.1302 - accuracy: 0.9573\n",
      "Epoch 7/20\n",
      "71/71 [==============================] - 3s 47ms/step - loss: 0.1080 - accuracy: 0.9631\n",
      "Epoch 8/20\n",
      "71/71 [==============================] - 3s 48ms/step - loss: 0.0712 - accuracy: 0.9764\n",
      "Epoch 9/20\n",
      "71/71 [==============================] - 3s 48ms/step - loss: 0.0617 - accuracy: 0.9813\n",
      "Epoch 10/20\n",
      "71/71 [==============================] - 3s 47ms/step - loss: 0.0489 - accuracy: 0.9827\n",
      "Epoch 11/20\n",
      "71/71 [==============================] - 3s 47ms/step - loss: 0.0703 - accuracy: 0.9724\n",
      "Epoch 12/20\n",
      "71/71 [==============================] - 3s 47ms/step - loss: 0.0530 - accuracy: 0.9827\n",
      "Epoch 13/20\n",
      "71/71 [==============================] - 3s 48ms/step - loss: 0.0344 - accuracy: 0.9911\n",
      "Epoch 14/20\n",
      "71/71 [==============================] - 3s 48ms/step - loss: 0.0364 - accuracy: 0.9898\n",
      "Epoch 15/20\n",
      "71/71 [==============================] - 3s 47ms/step - loss: 0.0342 - accuracy: 0.9902\n",
      "Epoch 16/20\n",
      "71/71 [==============================] - 3s 47ms/step - loss: 0.0306 - accuracy: 0.9920\n",
      "Epoch 17/20\n",
      "71/71 [==============================] - 3s 47ms/step - loss: 0.0532 - accuracy: 0.9822\n",
      "Epoch 18/20\n",
      "71/71 [==============================] - 3s 48ms/step - loss: 0.0264 - accuracy: 0.9924\n",
      "Epoch 19/20\n",
      "71/71 [==============================] - 3s 48ms/step - loss: 0.0144 - accuracy: 0.9956\n",
      "Epoch 20/20\n",
      "71/71 [==============================] - 3s 47ms/step - loss: 0.0534 - accuracy: 0.9800\n",
      "[INFO] Saving Model for duck fold 1 ...\n",
      "36/36 [==============================] - 1s 10ms/step\n"
     ]
    },
    {
     "name": "stderr",
     "output_type": "stream",
     "text": [
      "C:\\Users\\rudra\\AppData\\Local\\Temp\\ipykernel_6820\\3249705492.py:34: UserWarning: FigureCanvasAgg is non-interactive, and thus cannot be shown\n",
      "  plt.show()\n"
     ]
    },
    {
     "name": "stdout",
     "output_type": "stream",
     "text": [
      "1/1 [==============================] - 0s 86ms/step\n"
     ]
    },
    {
     "name": "stderr",
     "output_type": "stream",
     "text": [
      "C:\\Users\\rudra\\AppData\\Local\\Temp\\ipykernel_6820\\1767733992.py:15: RuntimeWarning: invalid value encountered in divide\n",
      "  channel_image /= channel_image.std()\n",
      "C:\\Users\\rudra\\AppData\\Local\\Temp\\ipykernel_6820\\1767733992.py:18: RuntimeWarning: invalid value encountered in cast\n",
      "  channel_image = np.clip(channel_image, 0, 255).astype('uint8')\n"
     ]
    },
    {
     "name": "stdout",
     "output_type": "stream",
     "text": [
      "[INFO] Training network for duck fold 2...\n",
      "Epoch 1/20\n",
      "71/71 [==============================] - 4s 49ms/step - loss: 0.5621 - accuracy: 0.7161\n",
      "Epoch 2/20\n",
      "71/71 [==============================] - 4s 48ms/step - loss: 0.4389 - accuracy: 0.7941\n",
      "Epoch 3/20\n",
      "71/71 [==============================] - 3s 47ms/step - loss: 0.2962 - accuracy: 0.8733\n",
      "Epoch 4/20\n",
      "71/71 [==============================] - 3s 48ms/step - loss: 0.2913 - accuracy: 0.8697\n",
      "Epoch 5/20\n",
      "71/71 [==============================] - 3s 47ms/step - loss: 0.3243 - accuracy: 0.8582\n",
      "Epoch 6/20\n",
      "71/71 [==============================] - 3s 47ms/step - loss: 0.2063 - accuracy: 0.9204\n",
      "Epoch 7/20\n",
      "71/71 [==============================] - 3s 47ms/step - loss: 0.3078 - accuracy: 0.8724\n",
      "Epoch 8/20\n",
      "71/71 [==============================] - 3s 47ms/step - loss: 0.1923 - accuracy: 0.9235\n",
      "Epoch 9/20\n",
      "71/71 [==============================] - 3s 48ms/step - loss: 0.0993 - accuracy: 0.9675\n",
      "Epoch 10/20\n",
      "71/71 [==============================] - 3s 48ms/step - loss: 0.0869 - accuracy: 0.9724\n",
      "Epoch 11/20\n",
      "71/71 [==============================] - 3s 48ms/step - loss: 0.0792 - accuracy: 0.9742\n",
      "Epoch 12/20\n",
      "71/71 [==============================] - 3s 48ms/step - loss: 0.0973 - accuracy: 0.9671\n",
      "Epoch 13/20\n",
      "71/71 [==============================] - 3s 48ms/step - loss: 0.0626 - accuracy: 0.9800\n",
      "Epoch 14/20\n",
      "71/71 [==============================] - 3s 48ms/step - loss: 0.0436 - accuracy: 0.9880\n",
      "Epoch 15/20\n",
      "71/71 [==============================] - 3s 48ms/step - loss: 0.0390 - accuracy: 0.9849\n",
      "Epoch 16/20\n",
      "71/71 [==============================] - 3s 48ms/step - loss: 0.0382 - accuracy: 0.9884\n",
      "Epoch 17/20\n",
      "71/71 [==============================] - 3s 48ms/step - loss: 0.0285 - accuracy: 0.9911\n",
      "Epoch 18/20\n",
      "71/71 [==============================] - 3s 48ms/step - loss: 0.0524 - accuracy: 0.9831\n",
      "Epoch 19/20\n",
      "71/71 [==============================] - 3s 48ms/step - loss: 0.1245 - accuracy: 0.9560\n",
      "Epoch 20/20\n",
      "71/71 [==============================] - 3s 48ms/step - loss: 0.0608 - accuracy: 0.9800\n",
      "[INFO] Saving Model for duck fold 2 ...\n",
      "36/36 [==============================] - 1s 10ms/step\n"
     ]
    },
    {
     "name": "stderr",
     "output_type": "stream",
     "text": [
      "C:\\Users\\rudra\\AppData\\Local\\Temp\\ipykernel_6820\\3249705492.py:34: UserWarning: FigureCanvasAgg is non-interactive, and thus cannot be shown\n",
      "  plt.show()\n"
     ]
    },
    {
     "name": "stdout",
     "output_type": "stream",
     "text": [
      "1/1 [==============================] - 0s 80ms/step\n"
     ]
    },
    {
     "name": "stderr",
     "output_type": "stream",
     "text": [
      "C:\\Users\\rudra\\AppData\\Local\\Temp\\ipykernel_6820\\1767733992.py:15: RuntimeWarning: invalid value encountered in divide\n",
      "  channel_image /= channel_image.std()\n",
      "C:\\Users\\rudra\\AppData\\Local\\Temp\\ipykernel_6820\\1767733992.py:18: RuntimeWarning: invalid value encountered in cast\n",
      "  channel_image = np.clip(channel_image, 0, 255).astype('uint8')\n"
     ]
    },
    {
     "name": "stdout",
     "output_type": "stream",
     "text": [
      "[INFO] Training network for duck fold 3...\n",
      "Epoch 1/20\n",
      "71/71 [==============================] - 4s 48ms/step - loss: 0.5469 - accuracy: 0.7148\n",
      "Epoch 2/20\n",
      "71/71 [==============================] - 3s 48ms/step - loss: 0.3514 - accuracy: 0.8430\n",
      "Epoch 3/20\n",
      "71/71 [==============================] - 3s 47ms/step - loss: 0.2806 - accuracy: 0.8871\n",
      "Epoch 4/20\n",
      "71/71 [==============================] - 3s 47ms/step - loss: 0.2370 - accuracy: 0.9013\n",
      "Epoch 5/20\n",
      "71/71 [==============================] - 3s 47ms/step - loss: 0.1704 - accuracy: 0.9346\n",
      "Epoch 6/20\n",
      "71/71 [==============================] - 3s 47ms/step - loss: 0.1066 - accuracy: 0.9635\n",
      "Epoch 7/20\n",
      "71/71 [==============================] - 3s 47ms/step - loss: 0.0986 - accuracy: 0.9667\n",
      "Epoch 8/20\n",
      "71/71 [==============================] - 3s 47ms/step - loss: 0.0660 - accuracy: 0.9800\n",
      "Epoch 9/20\n",
      "71/71 [==============================] - 4s 55ms/step - loss: 0.0602 - accuracy: 0.9809\n",
      "Epoch 10/20\n",
      "71/71 [==============================] - 4s 52ms/step - loss: 0.0486 - accuracy: 0.9835\n",
      "Epoch 11/20\n",
      "71/71 [==============================] - 3s 48ms/step - loss: 0.0400 - accuracy: 0.9898\n",
      "Epoch 12/20\n",
      "71/71 [==============================] - 3s 47ms/step - loss: 0.0188 - accuracy: 0.9969\n",
      "Epoch 13/20\n",
      "71/71 [==============================] - 3s 47ms/step - loss: 0.0773 - accuracy: 0.9729\n",
      "Epoch 14/20\n",
      "71/71 [==============================] - 3s 48ms/step - loss: 0.0503 - accuracy: 0.9809\n",
      "Epoch 15/20\n",
      "71/71 [==============================] - 3s 47ms/step - loss: 0.0626 - accuracy: 0.9747\n",
      "Epoch 16/20\n",
      "71/71 [==============================] - 3s 47ms/step - loss: 0.0248 - accuracy: 0.9933\n",
      "Epoch 17/20\n",
      "71/71 [==============================] - 3s 48ms/step - loss: 0.0489 - accuracy: 0.9822\n",
      "Epoch 18/20\n",
      "71/71 [==============================] - 3s 47ms/step - loss: 0.0207 - accuracy: 0.9933\n",
      "Epoch 19/20\n",
      "71/71 [==============================] - 3s 48ms/step - loss: 0.0110 - accuracy: 0.9969\n",
      "Epoch 20/20\n",
      "71/71 [==============================] - 3s 47ms/step - loss: 0.0181 - accuracy: 0.9933\n",
      "[INFO] Saving Model for duck fold 3 ...\n",
      "36/36 [==============================] - 0s 11ms/step\n"
     ]
    },
    {
     "name": "stderr",
     "output_type": "stream",
     "text": [
      "C:\\Users\\rudra\\AppData\\Local\\Temp\\ipykernel_6820\\3249705492.py:34: UserWarning: FigureCanvasAgg is non-interactive, and thus cannot be shown\n",
      "  plt.show()\n"
     ]
    },
    {
     "name": "stdout",
     "output_type": "stream",
     "text": [
      "1/1 [==============================] - 0s 78ms/step\n"
     ]
    },
    {
     "name": "stderr",
     "output_type": "stream",
     "text": [
      "C:\\Users\\rudra\\AppData\\Local\\Temp\\ipykernel_6820\\1767733992.py:15: RuntimeWarning: invalid value encountered in divide\n",
      "  channel_image /= channel_image.std()\n",
      "C:\\Users\\rudra\\AppData\\Local\\Temp\\ipykernel_6820\\1767733992.py:18: RuntimeWarning: invalid value encountered in cast\n",
      "  channel_image = np.clip(channel_image, 0, 255).astype('uint8')\n"
     ]
    },
    {
     "name": "stdout",
     "output_type": "stream",
     "text": [
      "[INFO] Loading images ...\n",
      "[INFO] Processing eagle ...\n",
      "[INFO] Processing rest ...\n",
      "[INFO] image extract completed\n",
      "total train samples: \n",
      "3436\n",
      "[INFO] Training network for eagle fold 1...\n",
      "Epoch 1/20\n",
      "71/71 [==============================] - 5s 48ms/step - loss: 0.4819 - accuracy: 0.7716\n",
      "Epoch 2/20\n",
      "71/71 [==============================] - 3s 48ms/step - loss: 0.3384 - accuracy: 0.8627\n",
      "Epoch 3/20\n",
      "71/71 [==============================] - 3s 48ms/step - loss: 0.2497 - accuracy: 0.9043\n",
      "Epoch 4/20\n",
      "71/71 [==============================] - 3s 48ms/step - loss: 0.1570 - accuracy: 0.9411\n",
      "Epoch 5/20\n",
      "71/71 [==============================] - 3s 48ms/step - loss: 0.1136 - accuracy: 0.9597\n",
      "Epoch 6/20\n",
      "71/71 [==============================] - 3s 48ms/step - loss: 0.0738 - accuracy: 0.9779\n",
      "Epoch 7/20\n",
      "71/71 [==============================] - 3s 48ms/step - loss: 0.0603 - accuracy: 0.9827\n",
      "Epoch 8/20\n",
      "71/71 [==============================] - 3s 48ms/step - loss: 0.0390 - accuracy: 0.9898\n",
      "Epoch 9/20\n",
      "71/71 [==============================] - 3s 48ms/step - loss: 0.0508 - accuracy: 0.9867\n",
      "Epoch 10/20\n",
      "71/71 [==============================] - 3s 48ms/step - loss: 0.0481 - accuracy: 0.9854\n",
      "Epoch 11/20\n",
      "71/71 [==============================] - 3s 48ms/step - loss: 0.0193 - accuracy: 0.9965\n",
      "Epoch 12/20\n",
      "71/71 [==============================] - 3s 48ms/step - loss: 0.0113 - accuracy: 0.9987\n",
      "Epoch 13/20\n",
      "71/71 [==============================] - 3s 48ms/step - loss: 0.0162 - accuracy: 0.9956\n",
      "Epoch 14/20\n",
      "71/71 [==============================] - 3s 48ms/step - loss: 0.0262 - accuracy: 0.9916\n",
      "Epoch 15/20\n",
      "71/71 [==============================] - 3s 48ms/step - loss: 0.0425 - accuracy: 0.9854\n",
      "Epoch 16/20\n",
      "71/71 [==============================] - 3s 48ms/step - loss: 0.0474 - accuracy: 0.9832\n",
      "Epoch 17/20\n",
      "71/71 [==============================] - 3s 48ms/step - loss: 0.0369 - accuracy: 0.9885\n",
      "Epoch 18/20\n",
      "71/71 [==============================] - 3s 48ms/step - loss: 0.0153 - accuracy: 0.9973\n",
      "Epoch 19/20\n",
      "71/71 [==============================] - 3s 49ms/step - loss: 0.0067 - accuracy: 0.9996\n",
      "Epoch 20/20\n",
      "71/71 [==============================] - 3s 48ms/step - loss: 0.0070 - accuracy: 0.9982\n",
      "[INFO] Saving Model for eagle fold 1 ...\n",
      "36/36 [==============================] - 0s 10ms/step\n"
     ]
    },
    {
     "name": "stderr",
     "output_type": "stream",
     "text": [
      "C:\\Users\\rudra\\AppData\\Local\\Temp\\ipykernel_6820\\3249705492.py:34: UserWarning: FigureCanvasAgg is non-interactive, and thus cannot be shown\n",
      "  plt.show()\n"
     ]
    },
    {
     "name": "stdout",
     "output_type": "stream",
     "text": [
      "1/1 [==============================] - 0s 62ms/step\n"
     ]
    },
    {
     "name": "stderr",
     "output_type": "stream",
     "text": [
      "C:\\Users\\rudra\\AppData\\Local\\Temp\\ipykernel_6820\\1767733992.py:15: RuntimeWarning: invalid value encountered in divide\n",
      "  channel_image /= channel_image.std()\n",
      "C:\\Users\\rudra\\AppData\\Local\\Temp\\ipykernel_6820\\1767733992.py:18: RuntimeWarning: invalid value encountered in cast\n",
      "  channel_image = np.clip(channel_image, 0, 255).astype('uint8')\n"
     ]
    },
    {
     "name": "stdout",
     "output_type": "stream",
     "text": [
      "[INFO] Training network for eagle fold 2...\n",
      "Epoch 1/20\n",
      "71/71 [==============================] - 4s 48ms/step - loss: 0.5077 - accuracy: 0.7597\n",
      "Epoch 2/20\n",
      "71/71 [==============================] - 4s 47ms/step - loss: 0.3733 - accuracy: 0.8406\n",
      "Epoch 3/20\n",
      "71/71 [==============================] - 3s 47ms/step - loss: 0.2570 - accuracy: 0.8973\n",
      "Epoch 4/20\n",
      "71/71 [==============================] - 3s 48ms/step - loss: 0.1553 - accuracy: 0.9469\n",
      "Epoch 5/20\n",
      "71/71 [==============================] - 3s 48ms/step - loss: 0.1186 - accuracy: 0.9619\n",
      "Epoch 6/20\n",
      "71/71 [==============================] - 3s 47ms/step - loss: 0.0746 - accuracy: 0.9805\n",
      "Epoch 7/20\n",
      "71/71 [==============================] - 3s 47ms/step - loss: 0.0649 - accuracy: 0.9810\n",
      "Epoch 8/20\n",
      "71/71 [==============================] - 3s 47ms/step - loss: 0.0401 - accuracy: 0.9876\n",
      "Epoch 9/20\n",
      "71/71 [==============================] - 3s 47ms/step - loss: 0.0360 - accuracy: 0.9880\n",
      "Epoch 10/20\n",
      "71/71 [==============================] - 3s 47ms/step - loss: 0.0334 - accuracy: 0.9911\n",
      "Epoch 11/20\n",
      "71/71 [==============================] - 3s 47ms/step - loss: 0.0640 - accuracy: 0.9761\n",
      "Epoch 12/20\n",
      "71/71 [==============================] - 3s 47ms/step - loss: 0.0311 - accuracy: 0.9907\n",
      "Epoch 13/20\n",
      "71/71 [==============================] - 3s 47ms/step - loss: 0.0336 - accuracy: 0.9889\n",
      "Epoch 14/20\n",
      "71/71 [==============================] - 3s 47ms/step - loss: 0.0406 - accuracy: 0.9885\n",
      "Epoch 15/20\n",
      "71/71 [==============================] - 3s 47ms/step - loss: 0.0124 - accuracy: 0.9982\n",
      "Epoch 16/20\n",
      "71/71 [==============================] - 3s 48ms/step - loss: 0.0107 - accuracy: 0.9978\n",
      "Epoch 17/20\n",
      "71/71 [==============================] - 3s 49ms/step - loss: 0.0063 - accuracy: 0.9996\n",
      "Epoch 18/20\n",
      "71/71 [==============================] - 3s 47ms/step - loss: 0.0057 - accuracy: 0.9991\n",
      "Epoch 19/20\n",
      "71/71 [==============================] - 3s 47ms/step - loss: 0.0090 - accuracy: 0.9969\n",
      "Epoch 20/20\n",
      "71/71 [==============================] - 3s 47ms/step - loss: 0.0257 - accuracy: 0.9907\n",
      "[INFO] Saving Model for eagle fold 2 ...\n",
      "36/36 [==============================] - 0s 10ms/step\n"
     ]
    },
    {
     "name": "stderr",
     "output_type": "stream",
     "text": [
      "C:\\Users\\rudra\\AppData\\Local\\Temp\\ipykernel_6820\\3249705492.py:34: UserWarning: FigureCanvasAgg is non-interactive, and thus cannot be shown\n",
      "  plt.show()\n"
     ]
    },
    {
     "name": "stdout",
     "output_type": "stream",
     "text": [
      "1/1 [==============================] - 0s 78ms/step\n"
     ]
    },
    {
     "name": "stderr",
     "output_type": "stream",
     "text": [
      "C:\\Users\\rudra\\AppData\\Local\\Temp\\ipykernel_6820\\1767733992.py:15: RuntimeWarning: invalid value encountered in divide\n",
      "  channel_image /= channel_image.std()\n",
      "C:\\Users\\rudra\\AppData\\Local\\Temp\\ipykernel_6820\\1767733992.py:18: RuntimeWarning: invalid value encountered in cast\n",
      "  channel_image = np.clip(channel_image, 0, 255).astype('uint8')\n"
     ]
    },
    {
     "name": "stdout",
     "output_type": "stream",
     "text": [
      "[INFO] Training network for eagle fold 3...\n",
      "Epoch 1/20\n",
      "71/71 [==============================] - 4s 48ms/step - loss: 0.4792 - accuracy: 0.7768\n",
      "Epoch 2/20\n",
      "71/71 [==============================] - 3s 47ms/step - loss: 0.2900 - accuracy: 0.8765\n",
      "Epoch 3/20\n",
      "71/71 [==============================] - 3s 47ms/step - loss: 0.2370 - accuracy: 0.9110\n",
      "Epoch 4/20\n",
      "71/71 [==============================] - 3s 47ms/step - loss: 0.1419 - accuracy: 0.9460\n",
      "Epoch 5/20\n",
      "71/71 [==============================] - 3s 47ms/step - loss: 0.0956 - accuracy: 0.9672\n",
      "Epoch 6/20\n",
      "71/71 [==============================] - 4s 50ms/step - loss: 0.0717 - accuracy: 0.9770\n",
      "Epoch 7/20\n",
      "71/71 [==============================] - 3s 48ms/step - loss: 0.0585 - accuracy: 0.9832\n",
      "Epoch 8/20\n",
      "71/71 [==============================] - 3s 48ms/step - loss: 0.0510 - accuracy: 0.9836\n",
      "Epoch 9/20\n",
      "71/71 [==============================] - 3s 47ms/step - loss: 0.0316 - accuracy: 0.9911\n",
      "Epoch 10/20\n",
      "71/71 [==============================] - 3s 47ms/step - loss: 0.0385 - accuracy: 0.9889\n",
      "Epoch 11/20\n",
      "71/71 [==============================] - 3s 47ms/step - loss: 0.0335 - accuracy: 0.9898\n",
      "Epoch 12/20\n",
      "71/71 [==============================] - 3s 48ms/step - loss: 0.0182 - accuracy: 0.9942\n",
      "Epoch 13/20\n",
      "71/71 [==============================] - 3s 48ms/step - loss: 0.0170 - accuracy: 0.9929\n",
      "Epoch 14/20\n",
      "71/71 [==============================] - 3s 47ms/step - loss: 0.0437 - accuracy: 0.9849\n",
      "Epoch 15/20\n",
      "71/71 [==============================] - 3s 48ms/step - loss: 0.0326 - accuracy: 0.9894\n",
      "Epoch 16/20\n",
      "71/71 [==============================] - 3s 48ms/step - loss: 0.0184 - accuracy: 0.9951\n",
      "Epoch 17/20\n",
      "71/71 [==============================] - 3s 48ms/step - loss: 0.0148 - accuracy: 0.9951\n",
      "Epoch 18/20\n",
      "71/71 [==============================] - 3s 47ms/step - loss: 0.0221 - accuracy: 0.9947\n",
      "Epoch 19/20\n",
      "71/71 [==============================] - 3s 48ms/step - loss: 0.0299 - accuracy: 0.9903\n",
      "Epoch 20/20\n",
      "71/71 [==============================] - 3s 47ms/step - loss: 0.0443 - accuracy: 0.9849\n",
      "[INFO] Saving Model for eagle fold 3 ...\n",
      "36/36 [==============================] - 1s 10ms/step\n"
     ]
    },
    {
     "name": "stderr",
     "output_type": "stream",
     "text": [
      "C:\\Users\\rudra\\AppData\\Local\\Temp\\ipykernel_6820\\3249705492.py:34: UserWarning: FigureCanvasAgg is non-interactive, and thus cannot be shown\n",
      "  plt.show()\n"
     ]
    },
    {
     "name": "stdout",
     "output_type": "stream",
     "text": [
      "1/1 [==============================] - 0s 69ms/step\n"
     ]
    },
    {
     "name": "stderr",
     "output_type": "stream",
     "text": [
      "C:\\Users\\rudra\\AppData\\Local\\Temp\\ipykernel_6820\\1767733992.py:15: RuntimeWarning: invalid value encountered in divide\n",
      "  channel_image /= channel_image.std()\n",
      "C:\\Users\\rudra\\AppData\\Local\\Temp\\ipykernel_6820\\1767733992.py:18: RuntimeWarning: invalid value encountered in cast\n",
      "  channel_image = np.clip(channel_image, 0, 255).astype('uint8')\n"
     ]
    },
    {
     "name": "stdout",
     "output_type": "stream",
     "text": [
      "[INFO] Loading images ...\n",
      "[INFO] Processing elephant ...\n",
      "[INFO] Processing rest ...\n",
      "[INFO] image extract completed\n",
      "total train samples: \n",
      "3406\n",
      "[INFO] Training network for elephant fold 1...\n",
      "Epoch 1/20\n",
      "70/70 [==============================] - 5s 47ms/step - loss: 0.5400 - accuracy: 0.7366\n",
      "Epoch 2/20\n",
      "70/70 [==============================] - 3s 47ms/step - loss: 0.3737 - accuracy: 0.8324\n",
      "Epoch 3/20\n",
      "70/70 [==============================] - 3s 48ms/step - loss: 0.2797 - accuracy: 0.8847\n",
      "Epoch 4/20\n",
      "70/70 [==============================] - 3s 48ms/step - loss: 0.1954 - accuracy: 0.9223\n",
      "Epoch 5/20\n",
      "70/70 [==============================] - 3s 48ms/step - loss: 0.1231 - accuracy: 0.9580\n",
      "Epoch 6/20\n",
      "70/70 [==============================] - 3s 47ms/step - loss: 0.0951 - accuracy: 0.9651\n",
      "Epoch 7/20\n",
      "70/70 [==============================] - 3s 47ms/step - loss: 0.0805 - accuracy: 0.9736\n",
      "Epoch 8/20\n",
      "70/70 [==============================] - 3s 48ms/step - loss: 0.0555 - accuracy: 0.9821\n",
      "Epoch 9/20\n",
      "70/70 [==============================] - 3s 48ms/step - loss: 0.0459 - accuracy: 0.9848\n",
      "Epoch 10/20\n",
      "70/70 [==============================] - 3s 47ms/step - loss: 0.0388 - accuracy: 0.9897\n",
      "Epoch 11/20\n",
      "70/70 [==============================] - 3s 47ms/step - loss: 0.0434 - accuracy: 0.9853\n",
      "Epoch 12/20\n",
      "70/70 [==============================] - 3s 47ms/step - loss: 0.0383 - accuracy: 0.9861\n",
      "Epoch 13/20\n",
      "70/70 [==============================] - 3s 47ms/step - loss: 0.0752 - accuracy: 0.9727\n",
      "Epoch 14/20\n",
      "70/70 [==============================] - 3s 47ms/step - loss: 0.0433 - accuracy: 0.9861\n",
      "Epoch 15/20\n",
      "70/70 [==============================] - 3s 47ms/step - loss: 0.0278 - accuracy: 0.9906\n",
      "Epoch 16/20\n",
      "70/70 [==============================] - 3s 47ms/step - loss: 0.0200 - accuracy: 0.9960\n",
      "Epoch 17/20\n",
      "70/70 [==============================] - 3s 47ms/step - loss: 0.0137 - accuracy: 0.9978\n",
      "Epoch 18/20\n",
      "70/70 [==============================] - 3s 47ms/step - loss: 0.0155 - accuracy: 0.9951\n",
      "Epoch 19/20\n",
      "70/70 [==============================] - 3s 47ms/step - loss: 0.0109 - accuracy: 0.9978\n",
      "Epoch 20/20\n",
      "70/70 [==============================] - 3s 47ms/step - loss: 0.0161 - accuracy: 0.9951\n",
      "[INFO] Saving Model for elephant fold 1 ...\n",
      "36/36 [==============================] - 0s 10ms/step\n"
     ]
    },
    {
     "name": "stderr",
     "output_type": "stream",
     "text": [
      "C:\\Users\\rudra\\AppData\\Local\\Temp\\ipykernel_6820\\3249705492.py:34: UserWarning: FigureCanvasAgg is non-interactive, and thus cannot be shown\n",
      "  plt.show()\n"
     ]
    },
    {
     "name": "stdout",
     "output_type": "stream",
     "text": [
      "1/1 [==============================] - 0s 81ms/step\n"
     ]
    },
    {
     "name": "stderr",
     "output_type": "stream",
     "text": [
      "C:\\Users\\rudra\\AppData\\Local\\Temp\\ipykernel_6820\\1767733992.py:15: RuntimeWarning: invalid value encountered in divide\n",
      "  channel_image /= channel_image.std()\n",
      "C:\\Users\\rudra\\AppData\\Local\\Temp\\ipykernel_6820\\1767733992.py:18: RuntimeWarning: invalid value encountered in cast\n",
      "  channel_image = np.clip(channel_image, 0, 255).astype('uint8')\n"
     ]
    },
    {
     "name": "stdout",
     "output_type": "stream",
     "text": [
      "[INFO] Training network for elephant fold 2...\n",
      "Epoch 1/20\n",
      "70/70 [==============================] - 4s 48ms/step - loss: 0.5528 - accuracy: 0.7205\n",
      "Epoch 2/20\n",
      "70/70 [==============================] - 4s 48ms/step - loss: 0.4192 - accuracy: 0.8057\n",
      "Epoch 3/20\n",
      "70/70 [==============================] - 3s 48ms/step - loss: 0.3404 - accuracy: 0.8571\n",
      "Epoch 4/20\n",
      "70/70 [==============================] - 3s 48ms/step - loss: 0.2258 - accuracy: 0.9075\n",
      "Epoch 5/20\n",
      "70/70 [==============================] - 3s 48ms/step - loss: 0.1503 - accuracy: 0.9464\n",
      "Epoch 6/20\n",
      "70/70 [==============================] - 3s 48ms/step - loss: 0.1199 - accuracy: 0.9562\n",
      "Epoch 7/20\n",
      "70/70 [==============================] - 3s 48ms/step - loss: 0.0650 - accuracy: 0.9821\n",
      "Epoch 8/20\n",
      "70/70 [==============================] - 3s 48ms/step - loss: 0.0663 - accuracy: 0.9826\n",
      "Epoch 9/20\n",
      "70/70 [==============================] - 3s 48ms/step - loss: 0.0388 - accuracy: 0.9884\n",
      "Epoch 10/20\n",
      "70/70 [==============================] - 3s 48ms/step - loss: 0.0320 - accuracy: 0.9929\n",
      "Epoch 11/20\n",
      "70/70 [==============================] - 3s 48ms/step - loss: 0.0196 - accuracy: 0.9955\n",
      "Epoch 12/20\n",
      "70/70 [==============================] - 3s 48ms/step - loss: 0.0363 - accuracy: 0.9866\n",
      "Epoch 13/20\n",
      "70/70 [==============================] - 3s 48ms/step - loss: 0.0382 - accuracy: 0.9853\n",
      "Epoch 14/20\n",
      "70/70 [==============================] - 3s 48ms/step - loss: 0.0302 - accuracy: 0.9902\n",
      "Epoch 15/20\n",
      "70/70 [==============================] - 3s 48ms/step - loss: 0.0213 - accuracy: 0.9924\n",
      "Epoch 16/20\n",
      "70/70 [==============================] - 3s 48ms/step - loss: 0.0227 - accuracy: 0.9929\n",
      "Epoch 17/20\n",
      "70/70 [==============================] - 3s 48ms/step - loss: 0.0411 - accuracy: 0.9835\n",
      "Epoch 18/20\n",
      "70/70 [==============================] - 3s 48ms/step - loss: 0.0215 - accuracy: 0.9937\n",
      "Epoch 19/20\n",
      "70/70 [==============================] - 3s 48ms/step - loss: 0.0400 - accuracy: 0.9857\n",
      "Epoch 20/20\n",
      "70/70 [==============================] - 3s 48ms/step - loss: 0.0123 - accuracy: 0.9969\n",
      "[INFO] Saving Model for elephant fold 2 ...\n",
      "36/36 [==============================] - 0s 10ms/step\n"
     ]
    },
    {
     "name": "stderr",
     "output_type": "stream",
     "text": [
      "C:\\Users\\rudra\\AppData\\Local\\Temp\\ipykernel_6820\\3249705492.py:34: UserWarning: FigureCanvasAgg is non-interactive, and thus cannot be shown\n",
      "  plt.show()\n"
     ]
    },
    {
     "name": "stdout",
     "output_type": "stream",
     "text": [
      "1/1 [==============================] - 0s 84ms/step\n"
     ]
    },
    {
     "name": "stderr",
     "output_type": "stream",
     "text": [
      "C:\\Users\\rudra\\AppData\\Local\\Temp\\ipykernel_6820\\1767733992.py:15: RuntimeWarning: invalid value encountered in divide\n",
      "  channel_image /= channel_image.std()\n",
      "C:\\Users\\rudra\\AppData\\Local\\Temp\\ipykernel_6820\\1767733992.py:18: RuntimeWarning: invalid value encountered in cast\n",
      "  channel_image = np.clip(channel_image, 0, 255).astype('uint8')\n"
     ]
    },
    {
     "name": "stdout",
     "output_type": "stream",
     "text": [
      "[INFO] Training network for elephant fold 3...\n",
      "Epoch 1/20\n",
      "70/70 [==============================] - 4s 49ms/step - loss: 0.4822 - accuracy: 0.7723\n",
      "Epoch 2/20\n",
      "70/70 [==============================] - 3s 48ms/step - loss: 0.3409 - accuracy: 0.8620\n",
      "Epoch 3/20\n",
      "70/70 [==============================] - 3s 48ms/step - loss: 0.2628 - accuracy: 0.8888\n",
      "Epoch 4/20\n",
      "70/70 [==============================] - 3s 48ms/step - loss: 0.1869 - accuracy: 0.9285\n",
      "Epoch 5/20\n",
      "70/70 [==============================] - 3s 48ms/step - loss: 0.1089 - accuracy: 0.9616\n",
      "Epoch 6/20\n",
      "70/70 [==============================] - 3s 48ms/step - loss: 0.0972 - accuracy: 0.9652\n",
      "Epoch 7/20\n",
      "70/70 [==============================] - 3s 48ms/step - loss: 0.0497 - accuracy: 0.9844\n",
      "Epoch 8/20\n",
      "70/70 [==============================] - 3s 48ms/step - loss: 0.0571 - accuracy: 0.9790\n",
      "Epoch 9/20\n",
      "70/70 [==============================] - 3s 48ms/step - loss: 0.0431 - accuracy: 0.9857\n",
      "Epoch 10/20\n",
      "70/70 [==============================] - 3s 47ms/step - loss: 0.0388 - accuracy: 0.9879\n",
      "Epoch 11/20\n",
      "70/70 [==============================] - 3s 48ms/step - loss: 0.1034 - accuracy: 0.9589\n",
      "Epoch 12/20\n",
      "70/70 [==============================] - 3s 47ms/step - loss: 0.0757 - accuracy: 0.9741\n",
      "Epoch 13/20\n",
      "70/70 [==============================] - 3s 48ms/step - loss: 0.0531 - accuracy: 0.9817\n",
      "Epoch 14/20\n",
      "70/70 [==============================] - 3s 47ms/step - loss: 0.0324 - accuracy: 0.9884\n",
      "Epoch 15/20\n",
      "70/70 [==============================] - 3s 47ms/step - loss: 0.0241 - accuracy: 0.9933\n",
      "Epoch 16/20\n",
      "70/70 [==============================] - 3s 47ms/step - loss: 0.0181 - accuracy: 0.9946\n",
      "Epoch 17/20\n",
      "70/70 [==============================] - 3s 48ms/step - loss: 0.0147 - accuracy: 0.9964\n",
      "Epoch 18/20\n",
      "70/70 [==============================] - 3s 48ms/step - loss: 0.0079 - accuracy: 0.9982\n",
      "Epoch 19/20\n",
      "70/70 [==============================] - 3s 47ms/step - loss: 0.0064 - accuracy: 0.9982\n",
      "Epoch 20/20\n",
      "70/70 [==============================] - 3s 48ms/step - loss: 0.0053 - accuracy: 0.9982\n",
      "[INFO] Saving Model for elephant fold 3 ...\n",
      "36/36 [==============================] - 0s 10ms/step\n"
     ]
    },
    {
     "name": "stderr",
     "output_type": "stream",
     "text": [
      "C:\\Users\\rudra\\AppData\\Local\\Temp\\ipykernel_6820\\3249705492.py:34: UserWarning: FigureCanvasAgg is non-interactive, and thus cannot be shown\n",
      "  plt.show()\n"
     ]
    },
    {
     "name": "stdout",
     "output_type": "stream",
     "text": [
      "1/1 [==============================] - 0s 96ms/step\n"
     ]
    },
    {
     "name": "stderr",
     "output_type": "stream",
     "text": [
      "C:\\Users\\rudra\\AppData\\Local\\Temp\\ipykernel_6820\\1767733992.py:15: RuntimeWarning: invalid value encountered in divide\n",
      "  channel_image /= channel_image.std()\n",
      "C:\\Users\\rudra\\AppData\\Local\\Temp\\ipykernel_6820\\1767733992.py:18: RuntimeWarning: invalid value encountered in cast\n",
      "  channel_image = np.clip(channel_image, 0, 255).astype('uint8')\n"
     ]
    },
    {
     "name": "stdout",
     "output_type": "stream",
     "text": [
      "[INFO] Loading images ...\n",
      "[INFO] Processing flamingo ...\n",
      "[INFO] Processing rest ...\n",
      "[INFO] image extract completed\n",
      "total train samples: \n",
      "3432\n",
      "[INFO] Training network for flamingo fold 1...\n",
      "Epoch 1/20\n",
      "71/71 [==============================] - 5s 48ms/step - loss: 0.4070 - accuracy: 0.8173\n",
      "Epoch 2/20\n",
      "71/71 [==============================] - 3s 48ms/step - loss: 0.2287 - accuracy: 0.9167\n",
      "Epoch 3/20\n",
      "71/71 [==============================] - 3s 48ms/step - loss: 0.1571 - accuracy: 0.9437\n",
      "Epoch 4/20\n",
      "71/71 [==============================] - 3s 47ms/step - loss: 0.1080 - accuracy: 0.9588\n",
      "Epoch 5/20\n",
      "71/71 [==============================] - 3s 47ms/step - loss: 0.0533 - accuracy: 0.9840\n",
      "Epoch 6/20\n",
      "71/71 [==============================] - 3s 47ms/step - loss: 0.0434 - accuracy: 0.9854\n",
      "Epoch 7/20\n",
      "71/71 [==============================] - 3s 47ms/step - loss: 0.0397 - accuracy: 0.9871\n",
      "Epoch 8/20\n",
      "71/71 [==============================] - 3s 47ms/step - loss: 0.0466 - accuracy: 0.9867\n",
      "Epoch 9/20\n",
      "71/71 [==============================] - 3s 47ms/step - loss: 0.0365 - accuracy: 0.9889\n",
      "Epoch 10/20\n",
      "71/71 [==============================] - 3s 47ms/step - loss: 0.0513 - accuracy: 0.9792\n",
      "Epoch 11/20\n",
      "71/71 [==============================] - 3s 47ms/step - loss: 0.0252 - accuracy: 0.9934\n",
      "Epoch 12/20\n",
      "71/71 [==============================] - 3s 47ms/step - loss: 0.0143 - accuracy: 0.9960\n",
      "Epoch 13/20\n",
      "71/71 [==============================] - 3s 47ms/step - loss: 0.0218 - accuracy: 0.9934\n",
      "Epoch 14/20\n",
      "71/71 [==============================] - 3s 47ms/step - loss: 0.0223 - accuracy: 0.9925\n",
      "Epoch 15/20\n",
      "71/71 [==============================] - 3s 47ms/step - loss: 0.0246 - accuracy: 0.9947\n",
      "Epoch 16/20\n",
      "71/71 [==============================] - 3s 47ms/step - loss: 0.0271 - accuracy: 0.9916\n",
      "Epoch 17/20\n",
      "71/71 [==============================] - 3s 47ms/step - loss: 0.0208 - accuracy: 0.9916\n",
      "Epoch 18/20\n",
      "71/71 [==============================] - 3s 47ms/step - loss: 0.0378 - accuracy: 0.9876\n",
      "Epoch 19/20\n",
      "71/71 [==============================] - 3s 47ms/step - loss: 0.0161 - accuracy: 0.9942\n",
      "Epoch 20/20\n",
      "71/71 [==============================] - 3s 48ms/step - loss: 0.0081 - accuracy: 0.9978\n",
      "[INFO] Saving Model for flamingo fold 1 ...\n",
      "36/36 [==============================] - 0s 10ms/step\n"
     ]
    },
    {
     "name": "stderr",
     "output_type": "stream",
     "text": [
      "C:\\Users\\rudra\\AppData\\Local\\Temp\\ipykernel_6820\\3249705492.py:34: UserWarning: FigureCanvasAgg is non-interactive, and thus cannot be shown\n",
      "  plt.show()\n"
     ]
    },
    {
     "name": "stdout",
     "output_type": "stream",
     "text": [
      "1/1 [==============================] - 0s 78ms/step\n"
     ]
    },
    {
     "name": "stderr",
     "output_type": "stream",
     "text": [
      "C:\\Users\\rudra\\AppData\\Local\\Temp\\ipykernel_6820\\1767733992.py:15: RuntimeWarning: invalid value encountered in divide\n",
      "  channel_image /= channel_image.std()\n",
      "C:\\Users\\rudra\\AppData\\Local\\Temp\\ipykernel_6820\\1767733992.py:18: RuntimeWarning: invalid value encountered in cast\n",
      "  channel_image = np.clip(channel_image, 0, 255).astype('uint8')\n"
     ]
    },
    {
     "name": "stdout",
     "output_type": "stream",
     "text": [
      "[INFO] Training network for flamingo fold 2...\n",
      "Epoch 1/20\n",
      "71/71 [==============================] - 4s 48ms/step - loss: 0.4086 - accuracy: 0.8156\n",
      "Epoch 2/20\n",
      "71/71 [==============================] - 3s 47ms/step - loss: 0.1973 - accuracy: 0.9238\n",
      "Epoch 3/20\n",
      "71/71 [==============================] - 3s 47ms/step - loss: 0.1228 - accuracy: 0.9574\n",
      "Epoch 4/20\n",
      "71/71 [==============================] - 3s 47ms/step - loss: 0.0925 - accuracy: 0.9663\n",
      "Epoch 5/20\n",
      "71/71 [==============================] - 3s 47ms/step - loss: 0.0622 - accuracy: 0.9792\n",
      "Epoch 6/20\n",
      "71/71 [==============================] - 3s 47ms/step - loss: 0.0619 - accuracy: 0.9792\n",
      "Epoch 7/20\n",
      "71/71 [==============================] - 3s 47ms/step - loss: 0.0349 - accuracy: 0.9911\n",
      "Epoch 8/20\n",
      "71/71 [==============================] - 3s 47ms/step - loss: 0.0181 - accuracy: 0.9960\n",
      "Epoch 9/20\n",
      "71/71 [==============================] - 3s 47ms/step - loss: 0.0354 - accuracy: 0.9876\n",
      "Epoch 10/20\n",
      "71/71 [==============================] - 3s 47ms/step - loss: 0.0382 - accuracy: 0.9871\n",
      "Epoch 11/20\n",
      "71/71 [==============================] - 3s 47ms/step - loss: 0.0621 - accuracy: 0.9765\n",
      "Epoch 12/20\n",
      "71/71 [==============================] - 3s 49ms/step - loss: 0.0490 - accuracy: 0.9823\n",
      "Epoch 13/20\n",
      "71/71 [==============================] - 3s 49ms/step - loss: 0.1037 - accuracy: 0.9588\n",
      "Epoch 14/20\n",
      "71/71 [==============================] - 3s 48ms/step - loss: 0.0497 - accuracy: 0.9787\n",
      "Epoch 15/20\n",
      "71/71 [==============================] - 3s 48ms/step - loss: 0.0345 - accuracy: 0.9898\n",
      "Epoch 16/20\n",
      "71/71 [==============================] - 3s 47ms/step - loss: 0.0153 - accuracy: 0.9960\n",
      "Epoch 17/20\n",
      "71/71 [==============================] - 3s 47ms/step - loss: 0.0113 - accuracy: 0.9969\n",
      "Epoch 18/20\n",
      "71/71 [==============================] - 3s 47ms/step - loss: 0.0563 - accuracy: 0.9836\n",
      "Epoch 19/20\n",
      "71/71 [==============================] - 3s 47ms/step - loss: 0.0155 - accuracy: 0.9951\n",
      "Epoch 20/20\n",
      "71/71 [==============================] - 3s 47ms/step - loss: 0.0108 - accuracy: 0.9960\n",
      "[INFO] Saving Model for flamingo fold 2 ...\n",
      "36/36 [==============================] - 0s 11ms/step\n"
     ]
    },
    {
     "name": "stderr",
     "output_type": "stream",
     "text": [
      "C:\\Users\\rudra\\AppData\\Local\\Temp\\ipykernel_6820\\3249705492.py:34: UserWarning: FigureCanvasAgg is non-interactive, and thus cannot be shown\n",
      "  plt.show()\n"
     ]
    },
    {
     "name": "stdout",
     "output_type": "stream",
     "text": [
      "1/1 [==============================] - 0s 62ms/step\n"
     ]
    },
    {
     "name": "stderr",
     "output_type": "stream",
     "text": [
      "C:\\Users\\rudra\\AppData\\Local\\Temp\\ipykernel_6820\\1767733992.py:15: RuntimeWarning: invalid value encountered in divide\n",
      "  channel_image /= channel_image.std()\n",
      "C:\\Users\\rudra\\AppData\\Local\\Temp\\ipykernel_6820\\1767733992.py:18: RuntimeWarning: invalid value encountered in cast\n",
      "  channel_image = np.clip(channel_image, 0, 255).astype('uint8')\n"
     ]
    },
    {
     "name": "stdout",
     "output_type": "stream",
     "text": [
      "[INFO] Training network for flamingo fold 3...\n",
      "Epoch 1/20\n",
      "71/71 [==============================] - 4s 49ms/step - loss: 0.4277 - accuracy: 0.7989\n",
      "Epoch 2/20\n",
      "71/71 [==============================] - 3s 48ms/step - loss: 0.2008 - accuracy: 0.9224\n",
      "Epoch 3/20\n",
      "71/71 [==============================] - 3s 47ms/step - loss: 0.1537 - accuracy: 0.9402\n",
      "Epoch 4/20\n",
      "71/71 [==============================] - 3s 47ms/step - loss: 0.0932 - accuracy: 0.9650\n",
      "Epoch 5/20\n",
      "71/71 [==============================] - 3s 47ms/step - loss: 0.0624 - accuracy: 0.9809\n",
      "Epoch 6/20\n",
      "71/71 [==============================] - 3s 47ms/step - loss: 0.0492 - accuracy: 0.9849\n",
      "Epoch 7/20\n",
      "71/71 [==============================] - 3s 47ms/step - loss: 0.0591 - accuracy: 0.9809\n",
      "Epoch 8/20\n",
      "71/71 [==============================] - 3s 47ms/step - loss: 0.0504 - accuracy: 0.9845\n",
      "Epoch 9/20\n",
      "71/71 [==============================] - 3s 47ms/step - loss: 0.0323 - accuracy: 0.9898\n",
      "Epoch 10/20\n",
      "71/71 [==============================] - 3s 47ms/step - loss: 0.0338 - accuracy: 0.9876\n",
      "Epoch 11/20\n",
      "71/71 [==============================] - 3s 47ms/step - loss: 0.0461 - accuracy: 0.9814\n",
      "Epoch 12/20\n",
      "71/71 [==============================] - 3s 47ms/step - loss: 0.0179 - accuracy: 0.9951\n",
      "Epoch 13/20\n",
      "71/71 [==============================] - 3s 47ms/step - loss: 0.0188 - accuracy: 0.9938\n",
      "Epoch 14/20\n",
      "71/71 [==============================] - 3s 47ms/step - loss: 0.0196 - accuracy: 0.9938\n",
      "Epoch 15/20\n",
      "71/71 [==============================] - 3s 47ms/step - loss: 0.0182 - accuracy: 0.9907\n",
      "Epoch 16/20\n",
      "71/71 [==============================] - 3s 47ms/step - loss: 0.0374 - accuracy: 0.9863\n",
      "Epoch 17/20\n",
      "71/71 [==============================] - 3s 48ms/step - loss: 0.0308 - accuracy: 0.9894\n",
      "Epoch 18/20\n",
      "71/71 [==============================] - 3s 47ms/step - loss: 0.0258 - accuracy: 0.9889\n",
      "Epoch 19/20\n",
      "71/71 [==============================] - 3s 47ms/step - loss: 0.0190 - accuracy: 0.9938\n",
      "Epoch 20/20\n",
      "71/71 [==============================] - 3s 47ms/step - loss: 0.0059 - accuracy: 0.9991\n",
      "[INFO] Saving Model for flamingo fold 3 ...\n",
      "36/36 [==============================] - 1s 10ms/step\n"
     ]
    },
    {
     "name": "stderr",
     "output_type": "stream",
     "text": [
      "C:\\Users\\rudra\\AppData\\Local\\Temp\\ipykernel_6820\\3249705492.py:34: UserWarning: FigureCanvasAgg is non-interactive, and thus cannot be shown\n",
      "  plt.show()\n"
     ]
    },
    {
     "name": "stdout",
     "output_type": "stream",
     "text": [
      "1/1 [==============================] - 0s 72ms/step\n"
     ]
    },
    {
     "name": "stderr",
     "output_type": "stream",
     "text": [
      "C:\\Users\\rudra\\AppData\\Local\\Temp\\ipykernel_6820\\1767733992.py:15: RuntimeWarning: invalid value encountered in divide\n",
      "  channel_image /= channel_image.std()\n",
      "C:\\Users\\rudra\\AppData\\Local\\Temp\\ipykernel_6820\\1767733992.py:18: RuntimeWarning: invalid value encountered in cast\n",
      "  channel_image = np.clip(channel_image, 0, 255).astype('uint8')\n"
     ]
    },
    {
     "name": "stdout",
     "output_type": "stream",
     "text": [
      "[INFO] Loading images ...\n",
      "[INFO] Processing fly ...\n",
      "[INFO] Processing rest ...\n",
      "[INFO] image extract completed\n",
      "total train samples: \n",
      "3421\n",
      "[INFO] Training network for fly fold 1...\n",
      "Epoch 1/20\n",
      "71/71 [==============================] - 4s 48ms/step - loss: 0.4131 - accuracy: 0.8195\n",
      "Epoch 2/20\n",
      "71/71 [==============================] - 3s 47ms/step - loss: 0.3577 - accuracy: 0.8488\n",
      "Epoch 3/20\n",
      "71/71 [==============================] - 3s 47ms/step - loss: 0.2502 - accuracy: 0.8946\n",
      "Epoch 4/20\n",
      "71/71 [==============================] - 3s 47ms/step - loss: 0.1877 - accuracy: 0.9279\n",
      "Epoch 5/20\n",
      "71/71 [==============================] - 3s 47ms/step - loss: 0.2042 - accuracy: 0.9204\n",
      "Epoch 6/20\n",
      "71/71 [==============================] - 3s 47ms/step - loss: 0.1556 - accuracy: 0.9422\n",
      "Epoch 7/20\n",
      "71/71 [==============================] - 3s 46ms/step - loss: 0.0892 - accuracy: 0.9711\n",
      "Epoch 8/20\n",
      "71/71 [==============================] - 3s 46ms/step - loss: 0.0988 - accuracy: 0.9649\n",
      "Epoch 9/20\n",
      "71/71 [==============================] - 3s 47ms/step - loss: 0.0578 - accuracy: 0.9822\n",
      "Epoch 10/20\n",
      "71/71 [==============================] - 3s 47ms/step - loss: 0.0480 - accuracy: 0.9844\n",
      "Epoch 11/20\n",
      "71/71 [==============================] - 3s 47ms/step - loss: 0.0262 - accuracy: 0.9924\n",
      "Epoch 12/20\n",
      "71/71 [==============================] - 3s 48ms/step - loss: 0.0357 - accuracy: 0.9911\n",
      "Epoch 13/20\n",
      "71/71 [==============================] - 3s 47ms/step - loss: 0.0230 - accuracy: 0.9907\n",
      "Epoch 14/20\n",
      "71/71 [==============================] - 3s 47ms/step - loss: 0.0475 - accuracy: 0.9827\n",
      "Epoch 15/20\n",
      "71/71 [==============================] - 3s 47ms/step - loss: 0.0554 - accuracy: 0.9827\n",
      "Epoch 16/20\n",
      "71/71 [==============================] - 3s 47ms/step - loss: 0.0218 - accuracy: 0.9951\n",
      "Epoch 17/20\n",
      "71/71 [==============================] - 4s 52ms/step - loss: 0.0148 - accuracy: 0.9973\n",
      "Epoch 18/20\n",
      "71/71 [==============================] - 3s 47ms/step - loss: 0.0134 - accuracy: 0.9956\n",
      "Epoch 19/20\n",
      "71/71 [==============================] - 3s 47ms/step - loss: 0.0189 - accuracy: 0.9924\n",
      "Epoch 20/20\n",
      "71/71 [==============================] - 3s 47ms/step - loss: 0.0172 - accuracy: 0.9956\n",
      "[INFO] Saving Model for fly fold 1 ...\n",
      "36/36 [==============================] - 0s 10ms/step\n"
     ]
    },
    {
     "name": "stderr",
     "output_type": "stream",
     "text": [
      "C:\\Users\\rudra\\AppData\\Local\\Temp\\ipykernel_6820\\3249705492.py:34: UserWarning: FigureCanvasAgg is non-interactive, and thus cannot be shown\n",
      "  plt.show()\n"
     ]
    },
    {
     "name": "stdout",
     "output_type": "stream",
     "text": [
      "1/1 [==============================] - 0s 78ms/step\n"
     ]
    },
    {
     "name": "stderr",
     "output_type": "stream",
     "text": [
      "C:\\Users\\rudra\\AppData\\Local\\Temp\\ipykernel_6820\\1767733992.py:15: RuntimeWarning: invalid value encountered in divide\n",
      "  channel_image /= channel_image.std()\n",
      "C:\\Users\\rudra\\AppData\\Local\\Temp\\ipykernel_6820\\1767733992.py:18: RuntimeWarning: invalid value encountered in cast\n",
      "  channel_image = np.clip(channel_image, 0, 255).astype('uint8')\n"
     ]
    },
    {
     "name": "stdout",
     "output_type": "stream",
     "text": [
      "[INFO] Training network for fly fold 2...\n",
      "Epoch 1/20\n",
      "71/71 [==============================] - 4s 47ms/step - loss: 0.4398 - accuracy: 0.8055\n",
      "Epoch 2/20\n",
      "71/71 [==============================] - 3s 47ms/step - loss: 0.2889 - accuracy: 0.8884\n",
      "Epoch 3/20\n",
      "71/71 [==============================] - 3s 47ms/step - loss: 0.2078 - accuracy: 0.9222\n",
      "Epoch 4/20\n",
      "71/71 [==============================] - 3s 47ms/step - loss: 0.1529 - accuracy: 0.9466\n",
      "Epoch 5/20\n",
      "71/71 [==============================] - 3s 47ms/step - loss: 0.0957 - accuracy: 0.9684\n",
      "Epoch 6/20\n",
      "71/71 [==============================] - 3s 47ms/step - loss: 0.0994 - accuracy: 0.9631\n",
      "Epoch 7/20\n",
      "71/71 [==============================] - 3s 47ms/step - loss: 0.1048 - accuracy: 0.9582\n",
      "Epoch 8/20\n",
      "71/71 [==============================] - 3s 47ms/step - loss: 0.0682 - accuracy: 0.9778\n",
      "Epoch 9/20\n",
      "71/71 [==============================] - 3s 47ms/step - loss: 0.0436 - accuracy: 0.9871\n",
      "Epoch 10/20\n",
      "71/71 [==============================] - 3s 47ms/step - loss: 0.0739 - accuracy: 0.9751\n",
      "Epoch 11/20\n",
      "71/71 [==============================] - 3s 47ms/step - loss: 0.1355 - accuracy: 0.9529\n",
      "Epoch 12/20\n",
      "71/71 [==============================] - 3s 47ms/step - loss: 0.0399 - accuracy: 0.9898\n",
      "Epoch 13/20\n",
      "71/71 [==============================] - 3s 47ms/step - loss: 0.0203 - accuracy: 0.9964\n",
      "Epoch 14/20\n",
      "71/71 [==============================] - 3s 47ms/step - loss: 0.0210 - accuracy: 0.9924\n",
      "Epoch 15/20\n",
      "71/71 [==============================] - 3s 47ms/step - loss: 0.0237 - accuracy: 0.9947\n",
      "Epoch 16/20\n",
      "71/71 [==============================] - 3s 47ms/step - loss: 0.0105 - accuracy: 0.9982\n",
      "Epoch 17/20\n",
      "71/71 [==============================] - 3s 47ms/step - loss: 0.0071 - accuracy: 0.9982\n",
      "Epoch 18/20\n",
      "71/71 [==============================] - 3s 48ms/step - loss: 0.0091 - accuracy: 0.9982\n",
      "Epoch 19/20\n",
      "71/71 [==============================] - 4s 49ms/step - loss: 0.0023 - accuracy: 1.0000\n",
      "Epoch 20/20\n",
      "71/71 [==============================] - 3s 47ms/step - loss: 0.0077 - accuracy: 0.9973\n",
      "[INFO] Saving Model for fly fold 2 ...\n",
      "36/36 [==============================] - 0s 10ms/step\n"
     ]
    },
    {
     "name": "stderr",
     "output_type": "stream",
     "text": [
      "C:\\Users\\rudra\\AppData\\Local\\Temp\\ipykernel_6820\\3249705492.py:34: UserWarning: FigureCanvasAgg is non-interactive, and thus cannot be shown\n",
      "  plt.show()\n"
     ]
    },
    {
     "name": "stdout",
     "output_type": "stream",
     "text": [
      "1/1 [==============================] - 0s 78ms/step\n"
     ]
    },
    {
     "name": "stderr",
     "output_type": "stream",
     "text": [
      "C:\\Users\\rudra\\AppData\\Local\\Temp\\ipykernel_6820\\1767733992.py:15: RuntimeWarning: invalid value encountered in divide\n",
      "  channel_image /= channel_image.std()\n",
      "C:\\Users\\rudra\\AppData\\Local\\Temp\\ipykernel_6820\\1767733992.py:18: RuntimeWarning: invalid value encountered in cast\n",
      "  channel_image = np.clip(channel_image, 0, 255).astype('uint8')\n"
     ]
    },
    {
     "name": "stdout",
     "output_type": "stream",
     "text": [
      "[INFO] Training network for fly fold 3...\n",
      "Epoch 1/20\n",
      "71/71 [==============================] - 4s 48ms/step - loss: 0.4808 - accuracy: 0.7808\n",
      "Epoch 2/20\n",
      "71/71 [==============================] - 3s 47ms/step - loss: 0.3469 - accuracy: 0.8604\n",
      "Epoch 3/20\n",
      "71/71 [==============================] - 3s 47ms/step - loss: 0.2768 - accuracy: 0.8902\n",
      "Epoch 4/20\n",
      "71/71 [==============================] - 3s 47ms/step - loss: 0.2013 - accuracy: 0.9182\n",
      "Epoch 5/20\n",
      "71/71 [==============================] - 3s 47ms/step - loss: 0.1342 - accuracy: 0.9520\n",
      "Epoch 6/20\n",
      "71/71 [==============================] - 3s 46ms/step - loss: 0.0780 - accuracy: 0.9760\n",
      "Epoch 7/20\n",
      "71/71 [==============================] - 3s 47ms/step - loss: 0.0584 - accuracy: 0.9858\n",
      "Epoch 8/20\n",
      "71/71 [==============================] - 3s 47ms/step - loss: 0.0835 - accuracy: 0.9715\n",
      "Epoch 9/20\n",
      "71/71 [==============================] - 3s 46ms/step - loss: 0.0501 - accuracy: 0.9858\n",
      "Epoch 10/20\n",
      "71/71 [==============================] - 3s 47ms/step - loss: 0.0472 - accuracy: 0.9827\n",
      "Epoch 11/20\n",
      "71/71 [==============================] - 3s 47ms/step - loss: 0.0318 - accuracy: 0.9920\n",
      "Epoch 12/20\n",
      "71/71 [==============================] - 3s 47ms/step - loss: 0.0142 - accuracy: 0.9960\n",
      "Epoch 13/20\n",
      "71/71 [==============================] - 3s 47ms/step - loss: 0.0374 - accuracy: 0.9884\n",
      "Epoch 14/20\n",
      "71/71 [==============================] - 3s 47ms/step - loss: 0.0535 - accuracy: 0.9800\n",
      "Epoch 15/20\n",
      "71/71 [==============================] - 3s 47ms/step - loss: 0.0279 - accuracy: 0.9902\n",
      "Epoch 16/20\n",
      "71/71 [==============================] - 3s 47ms/step - loss: 0.0181 - accuracy: 0.9938\n",
      "Epoch 17/20\n",
      "71/71 [==============================] - 3s 47ms/step - loss: 0.0119 - accuracy: 0.9973\n",
      "Epoch 18/20\n",
      "71/71 [==============================] - 3s 47ms/step - loss: 0.0054 - accuracy: 0.9987\n",
      "Epoch 19/20\n",
      "71/71 [==============================] - 3s 47ms/step - loss: 0.0090 - accuracy: 0.9973\n",
      "Epoch 20/20\n",
      "71/71 [==============================] - 3s 47ms/step - loss: 0.0214 - accuracy: 0.9929\n",
      "[INFO] Saving Model for fly fold 3 ...\n",
      "36/36 [==============================] - 0s 10ms/step\n"
     ]
    },
    {
     "name": "stderr",
     "output_type": "stream",
     "text": [
      "C:\\Users\\rudra\\AppData\\Local\\Temp\\ipykernel_6820\\3249705492.py:34: UserWarning: FigureCanvasAgg is non-interactive, and thus cannot be shown\n",
      "  plt.show()\n"
     ]
    },
    {
     "name": "stdout",
     "output_type": "stream",
     "text": [
      "1/1 [==============================] - 0s 55ms/step\n"
     ]
    },
    {
     "name": "stderr",
     "output_type": "stream",
     "text": [
      "C:\\Users\\rudra\\AppData\\Local\\Temp\\ipykernel_6820\\1767733992.py:15: RuntimeWarning: invalid value encountered in divide\n",
      "  channel_image /= channel_image.std()\n",
      "C:\\Users\\rudra\\AppData\\Local\\Temp\\ipykernel_6820\\1767733992.py:18: RuntimeWarning: invalid value encountered in cast\n",
      "  channel_image = np.clip(channel_image, 0, 255).astype('uint8')\n"
     ]
    },
    {
     "name": "stdout",
     "output_type": "stream",
     "text": [
      "[INFO] Loading images ...\n",
      "[INFO] Processing fox ...\n",
      "[INFO] Processing rest ...\n",
      "[INFO] image extract completed\n",
      "total train samples: \n",
      "3432\n",
      "[INFO] Training network for fox fold 1...\n",
      "Epoch 1/20\n",
      "71/71 [==============================] - 5s 48ms/step - loss: 0.5409 - accuracy: 0.7364\n",
      "Epoch 2/20\n",
      "71/71 [==============================] - 3s 47ms/step - loss: 0.4021 - accuracy: 0.8262\n",
      "Epoch 3/20\n",
      "71/71 [==============================] - 3s 47ms/step - loss: 0.3360 - accuracy: 0.8608\n",
      "Epoch 4/20\n",
      "71/71 [==============================] - 3s 47ms/step - loss: 0.2097 - accuracy: 0.9171\n",
      "Epoch 5/20\n",
      "71/71 [==============================] - 3s 47ms/step - loss: 0.1603 - accuracy: 0.9428\n",
      "Epoch 6/20\n",
      "71/71 [==============================] - 3s 47ms/step - loss: 0.1260 - accuracy: 0.9539\n",
      "Epoch 7/20\n",
      "71/71 [==============================] - 3s 47ms/step - loss: 0.0742 - accuracy: 0.9778\n",
      "Epoch 8/20\n",
      "71/71 [==============================] - 3s 47ms/step - loss: 0.0434 - accuracy: 0.9876\n",
      "Epoch 9/20\n",
      "71/71 [==============================] - 3s 47ms/step - loss: 0.0498 - accuracy: 0.9858\n",
      "Epoch 10/20\n",
      "71/71 [==============================] - 3s 47ms/step - loss: 0.0468 - accuracy: 0.9871\n",
      "Epoch 11/20\n",
      "71/71 [==============================] - 3s 47ms/step - loss: 0.0914 - accuracy: 0.9654\n",
      "Epoch 12/20\n",
      "71/71 [==============================] - 3s 47ms/step - loss: 0.0586 - accuracy: 0.9787\n",
      "Epoch 13/20\n",
      "71/71 [==============================] - 3s 47ms/step - loss: 0.0435 - accuracy: 0.9849\n",
      "Epoch 14/20\n",
      "71/71 [==============================] - 3s 47ms/step - loss: 0.0154 - accuracy: 0.9978\n",
      "Epoch 15/20\n",
      "71/71 [==============================] - 3s 48ms/step - loss: 0.0118 - accuracy: 0.9982\n",
      "Epoch 16/20\n",
      "71/71 [==============================] - 3s 48ms/step - loss: 0.0176 - accuracy: 0.9956\n",
      "Epoch 17/20\n",
      "71/71 [==============================] - 3s 48ms/step - loss: 0.0136 - accuracy: 0.9956\n",
      "Epoch 18/20\n",
      "71/71 [==============================] - 3s 48ms/step - loss: 0.0443 - accuracy: 0.9849\n",
      "Epoch 19/20\n",
      "71/71 [==============================] - 4s 50ms/step - loss: 0.0303 - accuracy: 0.9902\n",
      "Epoch 20/20\n",
      "71/71 [==============================] - 3s 48ms/step - loss: 0.0286 - accuracy: 0.9898\n",
      "[INFO] Saving Model for fox fold 1 ...\n",
      "36/36 [==============================] - 0s 10ms/step\n"
     ]
    },
    {
     "name": "stderr",
     "output_type": "stream",
     "text": [
      "C:\\Users\\rudra\\AppData\\Local\\Temp\\ipykernel_6820\\3249705492.py:34: UserWarning: FigureCanvasAgg is non-interactive, and thus cannot be shown\n",
      "  plt.show()\n"
     ]
    },
    {
     "name": "stdout",
     "output_type": "stream",
     "text": [
      "1/1 [==============================] - 0s 78ms/step\n"
     ]
    },
    {
     "name": "stderr",
     "output_type": "stream",
     "text": [
      "C:\\Users\\rudra\\AppData\\Local\\Temp\\ipykernel_6820\\1767733992.py:15: RuntimeWarning: invalid value encountered in divide\n",
      "  channel_image /= channel_image.std()\n",
      "C:\\Users\\rudra\\AppData\\Local\\Temp\\ipykernel_6820\\1767733992.py:18: RuntimeWarning: invalid value encountered in cast\n",
      "  channel_image = np.clip(channel_image, 0, 255).astype('uint8')\n"
     ]
    },
    {
     "name": "stdout",
     "output_type": "stream",
     "text": [
      "[INFO] Training network for fox fold 2...\n",
      "Epoch 1/20\n",
      "71/71 [==============================] - 4s 48ms/step - loss: 0.5187 - accuracy: 0.7346\n",
      "Epoch 2/20\n",
      "71/71 [==============================] - 3s 48ms/step - loss: 0.3761 - accuracy: 0.8373\n",
      "Epoch 3/20\n",
      "71/71 [==============================] - 3s 48ms/step - loss: 0.2652 - accuracy: 0.8941\n",
      "Epoch 4/20\n",
      "71/71 [==============================] - 3s 47ms/step - loss: 0.2200 - accuracy: 0.9162\n",
      "Epoch 5/20\n",
      "71/71 [==============================] - 3s 47ms/step - loss: 0.1692 - accuracy: 0.9348\n",
      "Epoch 6/20\n",
      "71/71 [==============================] - 3s 47ms/step - loss: 0.1187 - accuracy: 0.9539\n",
      "Epoch 7/20\n",
      "71/71 [==============================] - 3s 47ms/step - loss: 0.0606 - accuracy: 0.9823\n",
      "Epoch 8/20\n",
      "71/71 [==============================] - 3s 47ms/step - loss: 0.0387 - accuracy: 0.9911\n",
      "Epoch 9/20\n",
      "71/71 [==============================] - 3s 47ms/step - loss: 0.0418 - accuracy: 0.9902\n",
      "Epoch 10/20\n",
      "71/71 [==============================] - 3s 47ms/step - loss: 0.0359 - accuracy: 0.9898\n",
      "Epoch 11/20\n",
      "71/71 [==============================] - 3s 48ms/step - loss: 0.0241 - accuracy: 0.9934\n",
      "Epoch 12/20\n",
      "71/71 [==============================] - 3s 48ms/step - loss: 0.0844 - accuracy: 0.9663\n",
      "Epoch 13/20\n",
      "71/71 [==============================] - 3s 47ms/step - loss: 0.0629 - accuracy: 0.9783\n",
      "Epoch 14/20\n",
      "71/71 [==============================] - 3s 47ms/step - loss: 0.0388 - accuracy: 0.9863\n",
      "Epoch 15/20\n",
      "71/71 [==============================] - 3s 47ms/step - loss: 0.0311 - accuracy: 0.9902\n",
      "Epoch 16/20\n",
      "71/71 [==============================] - 3s 47ms/step - loss: 0.0326 - accuracy: 0.9902\n",
      "Epoch 17/20\n",
      "71/71 [==============================] - 3s 47ms/step - loss: 0.0210 - accuracy: 0.9929\n",
      "Epoch 18/20\n",
      "71/71 [==============================] - 3s 48ms/step - loss: 0.0214 - accuracy: 0.9925\n",
      "Epoch 19/20\n",
      "71/71 [==============================] - 3s 47ms/step - loss: 0.0231 - accuracy: 0.9938\n",
      "Epoch 20/20\n",
      "71/71 [==============================] - 3s 47ms/step - loss: 0.0119 - accuracy: 0.9965\n",
      "[INFO] Saving Model for fox fold 2 ...\n",
      "36/36 [==============================] - 0s 10ms/step\n"
     ]
    },
    {
     "name": "stderr",
     "output_type": "stream",
     "text": [
      "C:\\Users\\rudra\\AppData\\Local\\Temp\\ipykernel_6820\\3249705492.py:34: UserWarning: FigureCanvasAgg is non-interactive, and thus cannot be shown\n",
      "  plt.show()\n"
     ]
    },
    {
     "name": "stdout",
     "output_type": "stream",
     "text": [
      "1/1 [==============================] - 0s 69ms/step\n"
     ]
    },
    {
     "name": "stderr",
     "output_type": "stream",
     "text": [
      "C:\\Users\\rudra\\AppData\\Local\\Temp\\ipykernel_6820\\1767733992.py:15: RuntimeWarning: invalid value encountered in divide\n",
      "  channel_image /= channel_image.std()\n",
      "C:\\Users\\rudra\\AppData\\Local\\Temp\\ipykernel_6820\\1767733992.py:18: RuntimeWarning: invalid value encountered in cast\n",
      "  channel_image = np.clip(channel_image, 0, 255).astype('uint8')\n"
     ]
    },
    {
     "name": "stdout",
     "output_type": "stream",
     "text": [
      "[INFO] Training network for fox fold 3...\n",
      "Epoch 1/20\n",
      "71/71 [==============================] - 4s 49ms/step - loss: 0.5381 - accuracy: 0.7333\n",
      "Epoch 2/20\n",
      "71/71 [==============================] - 3s 48ms/step - loss: 0.4081 - accuracy: 0.8169\n",
      "Epoch 3/20\n",
      "71/71 [==============================] - 3s 47ms/step - loss: 0.3056 - accuracy: 0.8701\n",
      "Epoch 4/20\n",
      "71/71 [==============================] - 3s 48ms/step - loss: 0.2088 - accuracy: 0.9202\n",
      "Epoch 5/20\n",
      "71/71 [==============================] - 3s 48ms/step - loss: 0.1489 - accuracy: 0.9446\n",
      "Epoch 6/20\n",
      "71/71 [==============================] - 3s 48ms/step - loss: 0.0946 - accuracy: 0.9685\n",
      "Epoch 7/20\n",
      "71/71 [==============================] - 3s 48ms/step - loss: 0.0774 - accuracy: 0.9761\n",
      "Epoch 8/20\n",
      "71/71 [==============================] - 3s 48ms/step - loss: 0.0466 - accuracy: 0.9849\n",
      "Epoch 9/20\n",
      "71/71 [==============================] - 3s 48ms/step - loss: 0.0468 - accuracy: 0.9849\n",
      "Epoch 10/20\n",
      "71/71 [==============================] - 3s 47ms/step - loss: 0.0583 - accuracy: 0.9787\n",
      "Epoch 11/20\n",
      "71/71 [==============================] - 3s 48ms/step - loss: 0.0549 - accuracy: 0.9818\n",
      "Epoch 12/20\n",
      "71/71 [==============================] - 3s 48ms/step - loss: 0.0432 - accuracy: 0.9880\n",
      "Epoch 13/20\n",
      "71/71 [==============================] - 3s 47ms/step - loss: 0.0358 - accuracy: 0.9889\n",
      "Epoch 14/20\n",
      "71/71 [==============================] - 3s 48ms/step - loss: 0.0223 - accuracy: 0.9947\n",
      "Epoch 15/20\n",
      "71/71 [==============================] - 3s 48ms/step - loss: 0.0213 - accuracy: 0.9938\n",
      "Epoch 16/20\n",
      "71/71 [==============================] - 3s 48ms/step - loss: 0.0284 - accuracy: 0.9911\n",
      "Epoch 17/20\n",
      "71/71 [==============================] - 3s 48ms/step - loss: 0.0348 - accuracy: 0.9849\n",
      "Epoch 18/20\n",
      "71/71 [==============================] - 3s 47ms/step - loss: 0.0108 - accuracy: 0.9973\n",
      "Epoch 19/20\n",
      "71/71 [==============================] - 3s 47ms/step - loss: 0.0121 - accuracy: 0.9969\n",
      "Epoch 20/20\n",
      "71/71 [==============================] - 3s 48ms/step - loss: 0.0160 - accuracy: 0.9947\n",
      "[INFO] Saving Model for fox fold 3 ...\n",
      "36/36 [==============================] - 0s 10ms/step\n"
     ]
    },
    {
     "name": "stderr",
     "output_type": "stream",
     "text": [
      "C:\\Users\\rudra\\AppData\\Local\\Temp\\ipykernel_6820\\3249705492.py:34: UserWarning: FigureCanvasAgg is non-interactive, and thus cannot be shown\n",
      "  plt.show()\n"
     ]
    },
    {
     "name": "stdout",
     "output_type": "stream",
     "text": [
      "1/1 [==============================] - 0s 93ms/step\n"
     ]
    },
    {
     "name": "stderr",
     "output_type": "stream",
     "text": [
      "C:\\Users\\rudra\\AppData\\Local\\Temp\\ipykernel_6820\\1767733992.py:15: RuntimeWarning: invalid value encountered in divide\n",
      "  channel_image /= channel_image.std()\n",
      "C:\\Users\\rudra\\AppData\\Local\\Temp\\ipykernel_6820\\1767733992.py:18: RuntimeWarning: invalid value encountered in cast\n",
      "  channel_image = np.clip(channel_image, 0, 255).astype('uint8')\n"
     ]
    },
    {
     "name": "stdout",
     "output_type": "stream",
     "text": [
      "[INFO] Loading images ...\n",
      "[INFO] Processing goat ...\n",
      "[INFO] Processing rest ...\n",
      "[INFO] image extract completed\n",
      "total train samples: \n",
      "3426\n",
      "[INFO] Training network for goat fold 1...\n",
      "Epoch 1/20\n",
      "71/71 [==============================] - 5s 48ms/step - loss: 0.4840 - accuracy: 0.7641\n",
      "Epoch 2/20\n",
      "71/71 [==============================] - 3s 47ms/step - loss: 0.3592 - accuracy: 0.8401\n",
      "Epoch 3/20\n",
      "71/71 [==============================] - 3s 47ms/step - loss: 0.3000 - accuracy: 0.8743\n",
      "Epoch 4/20\n",
      "71/71 [==============================] - 3s 47ms/step - loss: 0.2021 - accuracy: 0.9183\n",
      "Epoch 5/20\n",
      "71/71 [==============================] - 3s 47ms/step - loss: 0.1384 - accuracy: 0.9498\n",
      "Epoch 6/20\n",
      "71/71 [==============================] - 3s 47ms/step - loss: 0.0949 - accuracy: 0.9663\n",
      "Epoch 7/20\n",
      "71/71 [==============================] - 3s 47ms/step - loss: 0.0674 - accuracy: 0.9813\n",
      "Epoch 8/20\n",
      "71/71 [==============================] - 3s 47ms/step - loss: 0.0680 - accuracy: 0.9787\n",
      "Epoch 9/20\n",
      "71/71 [==============================] - 3s 47ms/step - loss: 0.0432 - accuracy: 0.9853\n",
      "Epoch 10/20\n",
      "71/71 [==============================] - 3s 47ms/step - loss: 0.0584 - accuracy: 0.9782\n",
      "Epoch 11/20\n",
      "71/71 [==============================] - 3s 47ms/step - loss: 0.0483 - accuracy: 0.9822\n",
      "Epoch 12/20\n",
      "71/71 [==============================] - 3s 47ms/step - loss: 0.0292 - accuracy: 0.9916\n",
      "Epoch 13/20\n",
      "71/71 [==============================] - 3s 47ms/step - loss: 0.0400 - accuracy: 0.9849\n",
      "Epoch 14/20\n",
      "71/71 [==============================] - 3s 47ms/step - loss: 0.0372 - accuracy: 0.9853\n",
      "Epoch 15/20\n",
      "71/71 [==============================] - 3s 47ms/step - loss: 0.0275 - accuracy: 0.9902\n",
      "Epoch 16/20\n",
      "71/71 [==============================] - 3s 47ms/step - loss: 0.0424 - accuracy: 0.9867\n",
      "Epoch 17/20\n",
      "71/71 [==============================] - 3s 48ms/step - loss: 0.0274 - accuracy: 0.9920\n",
      "Epoch 18/20\n",
      "71/71 [==============================] - 3s 47ms/step - loss: 0.0239 - accuracy: 0.9925\n",
      "Epoch 19/20\n",
      "71/71 [==============================] - 3s 47ms/step - loss: 0.0257 - accuracy: 0.9920\n",
      "Epoch 20/20\n",
      "71/71 [==============================] - 3s 47ms/step - loss: 0.0327 - accuracy: 0.9885\n",
      "[INFO] Saving Model for goat fold 1 ...\n",
      "36/36 [==============================] - 0s 10ms/step\n"
     ]
    },
    {
     "name": "stderr",
     "output_type": "stream",
     "text": [
      "C:\\Users\\rudra\\AppData\\Local\\Temp\\ipykernel_6820\\3249705492.py:34: UserWarning: FigureCanvasAgg is non-interactive, and thus cannot be shown\n",
      "  plt.show()\n"
     ]
    },
    {
     "name": "stdout",
     "output_type": "stream",
     "text": [
      "1/1 [==============================] - 0s 87ms/step\n",
      "[INFO] Training network for goat fold 2...\n",
      "Epoch 1/20\n",
      "71/71 [==============================] - 4s 48ms/step - loss: 0.4830 - accuracy: 0.7685\n",
      "Epoch 2/20\n",
      "71/71 [==============================] - 3s 47ms/step - loss: 0.3521 - accuracy: 0.8406\n",
      "Epoch 3/20\n",
      "71/71 [==============================] - 3s 47ms/step - loss: 0.2578 - accuracy: 0.8934\n",
      "Epoch 4/20\n",
      "71/71 [==============================] - 3s 47ms/step - loss: 0.1865 - accuracy: 0.9285\n",
      "Epoch 5/20\n",
      "71/71 [==============================] - 3s 47ms/step - loss: 0.1182 - accuracy: 0.9609\n",
      "Epoch 6/20\n",
      "71/71 [==============================] - 3s 47ms/step - loss: 0.0805 - accuracy: 0.9725\n",
      "Epoch 7/20\n",
      "71/71 [==============================] - 3s 47ms/step - loss: 0.0597 - accuracy: 0.9827\n",
      "Epoch 8/20\n",
      "71/71 [==============================] - 3s 47ms/step - loss: 0.0722 - accuracy: 0.9774\n",
      "Epoch 9/20\n",
      "71/71 [==============================] - 3s 47ms/step - loss: 0.0505 - accuracy: 0.9862\n",
      "Epoch 10/20\n",
      "71/71 [==============================] - 3s 47ms/step - loss: 0.0364 - accuracy: 0.9889\n",
      "Epoch 11/20\n",
      "71/71 [==============================] - 3s 47ms/step - loss: 0.0201 - accuracy: 0.9964\n",
      "Epoch 12/20\n",
      "71/71 [==============================] - 3s 48ms/step - loss: 0.0199 - accuracy: 0.9960\n",
      "Epoch 13/20\n",
      "71/71 [==============================] - 3s 47ms/step - loss: 0.0602 - accuracy: 0.9800\n",
      "Epoch 14/20\n",
      "71/71 [==============================] - 3s 47ms/step - loss: 0.0440 - accuracy: 0.9849\n",
      "Epoch 15/20\n",
      "71/71 [==============================] - 3s 47ms/step - loss: 0.0169 - accuracy: 0.9960\n",
      "Epoch 16/20\n",
      "71/71 [==============================] - 3s 47ms/step - loss: 0.0198 - accuracy: 0.9920\n",
      "Epoch 17/20\n",
      "71/71 [==============================] - 3s 47ms/step - loss: 0.0223 - accuracy: 0.9929\n",
      "Epoch 18/20\n",
      "71/71 [==============================] - 3s 47ms/step - loss: 0.0128 - accuracy: 0.9978\n",
      "Epoch 19/20\n",
      "71/71 [==============================] - 3s 47ms/step - loss: 0.0082 - accuracy: 0.9982\n",
      "Epoch 20/20\n",
      "71/71 [==============================] - 3s 47ms/step - loss: 0.0063 - accuracy: 0.9991\n",
      "[INFO] Saving Model for goat fold 2 ...\n",
      "36/36 [==============================] - 0s 10ms/step\n"
     ]
    },
    {
     "name": "stderr",
     "output_type": "stream",
     "text": [
      "C:\\Users\\rudra\\AppData\\Local\\Temp\\ipykernel_6820\\3249705492.py:34: UserWarning: FigureCanvasAgg is non-interactive, and thus cannot be shown\n",
      "  plt.show()\n"
     ]
    },
    {
     "name": "stdout",
     "output_type": "stream",
     "text": [
      "1/1 [==============================] - 0s 78ms/step\n"
     ]
    },
    {
     "name": "stderr",
     "output_type": "stream",
     "text": [
      "C:\\Users\\rudra\\AppData\\Local\\Temp\\ipykernel_6820\\1767733992.py:15: RuntimeWarning: invalid value encountered in divide\n",
      "  channel_image /= channel_image.std()\n",
      "C:\\Users\\rudra\\AppData\\Local\\Temp\\ipykernel_6820\\1767733992.py:18: RuntimeWarning: invalid value encountered in cast\n",
      "  channel_image = np.clip(channel_image, 0, 255).astype('uint8')\n"
     ]
    },
    {
     "name": "stdout",
     "output_type": "stream",
     "text": [
      "[INFO] Training network for goat fold 3...\n",
      "Epoch 1/20\n",
      "71/71 [==============================] - 4s 48ms/step - loss: 0.5057 - accuracy: 0.7535\n",
      "Epoch 2/20\n",
      "71/71 [==============================] - 3s 48ms/step - loss: 0.3378 - accuracy: 0.8504\n",
      "Epoch 3/20\n",
      "71/71 [==============================] - 3s 47ms/step - loss: 0.2457 - accuracy: 0.8992\n",
      "Epoch 4/20\n",
      "71/71 [==============================] - 3s 47ms/step - loss: 0.1697 - accuracy: 0.9409\n",
      "Epoch 5/20\n",
      "71/71 [==============================] - 3s 47ms/step - loss: 0.1552 - accuracy: 0.9458\n",
      "Epoch 6/20\n",
      "71/71 [==============================] - 3s 47ms/step - loss: 0.1397 - accuracy: 0.9467\n",
      "Epoch 7/20\n",
      "71/71 [==============================] - 3s 47ms/step - loss: 0.0768 - accuracy: 0.9729\n",
      "Epoch 8/20\n",
      "71/71 [==============================] - 3s 47ms/step - loss: 0.0700 - accuracy: 0.9747\n",
      "Epoch 9/20\n",
      "71/71 [==============================] - 3s 47ms/step - loss: 0.0600 - accuracy: 0.9818\n",
      "Epoch 10/20\n",
      "71/71 [==============================] - 3s 47ms/step - loss: 0.0725 - accuracy: 0.9769\n",
      "Epoch 11/20\n",
      "71/71 [==============================] - 3s 48ms/step - loss: 0.0517 - accuracy: 0.9813\n",
      "Epoch 12/20\n",
      "71/71 [==============================] - 3s 47ms/step - loss: 0.0375 - accuracy: 0.9898\n",
      "Epoch 13/20\n",
      "71/71 [==============================] - 3s 47ms/step - loss: 0.0391 - accuracy: 0.9840\n",
      "Epoch 14/20\n",
      "71/71 [==============================] - 3s 47ms/step - loss: 0.0248 - accuracy: 0.9929\n",
      "Epoch 15/20\n",
      "71/71 [==============================] - 3s 47ms/step - loss: 0.0240 - accuracy: 0.9947\n",
      "Epoch 16/20\n",
      "71/71 [==============================] - 3s 47ms/step - loss: 0.0298 - accuracy: 0.9916\n",
      "Epoch 17/20\n",
      "71/71 [==============================] - 3s 47ms/step - loss: 0.0234 - accuracy: 0.9933\n",
      "Epoch 18/20\n",
      "71/71 [==============================] - 3s 47ms/step - loss: 0.0146 - accuracy: 0.9960\n",
      "Epoch 19/20\n",
      "71/71 [==============================] - 3s 47ms/step - loss: 0.0072 - accuracy: 0.9978\n",
      "Epoch 20/20\n",
      "71/71 [==============================] - 3s 47ms/step - loss: 0.0063 - accuracy: 0.9987\n",
      "[INFO] Saving Model for goat fold 3 ...\n",
      "36/36 [==============================] - 1s 10ms/step\n"
     ]
    },
    {
     "name": "stderr",
     "output_type": "stream",
     "text": [
      "C:\\Users\\rudra\\AppData\\Local\\Temp\\ipykernel_6820\\3249705492.py:34: UserWarning: FigureCanvasAgg is non-interactive, and thus cannot be shown\n",
      "  plt.show()\n"
     ]
    },
    {
     "name": "stdout",
     "output_type": "stream",
     "text": [
      "1/1 [==============================] - 0s 63ms/step\n"
     ]
    },
    {
     "name": "stderr",
     "output_type": "stream",
     "text": [
      "C:\\Users\\rudra\\AppData\\Local\\Temp\\ipykernel_6820\\1767733992.py:15: RuntimeWarning: invalid value encountered in divide\n",
      "  channel_image /= channel_image.std()\n",
      "C:\\Users\\rudra\\AppData\\Local\\Temp\\ipykernel_6820\\1767733992.py:18: RuntimeWarning: invalid value encountered in cast\n",
      "  channel_image = np.clip(channel_image, 0, 255).astype('uint8')\n"
     ]
    },
    {
     "name": "stdout",
     "output_type": "stream",
     "text": [
      "[INFO] Loading images ...\n",
      "[INFO] Processing goldfish ...\n",
      "[INFO] Processing rest ...\n",
      "[INFO] image extract completed\n",
      "total train samples: \n",
      "3426\n",
      "[INFO] Training network for goldfish fold 1...\n",
      "Epoch 1/20\n",
      "71/71 [==============================] - 4s 47ms/step - loss: 0.2636 - accuracy: 0.8974\n",
      "Epoch 2/20\n",
      "71/71 [==============================] - 3s 47ms/step - loss: 0.1355 - accuracy: 0.9498\n",
      "Epoch 3/20\n",
      "71/71 [==============================] - 3s 47ms/step - loss: 0.0845 - accuracy: 0.9751\n",
      "Epoch 4/20\n",
      "71/71 [==============================] - 3s 47ms/step - loss: 0.0582 - accuracy: 0.9805\n",
      "Epoch 5/20\n",
      "71/71 [==============================] - 3s 47ms/step - loss: 0.0423 - accuracy: 0.9885\n",
      "Epoch 6/20\n",
      "71/71 [==============================] - 3s 47ms/step - loss: 0.0298 - accuracy: 0.9929\n",
      "Epoch 7/20\n",
      "71/71 [==============================] - 3s 47ms/step - loss: 0.0329 - accuracy: 0.9907\n",
      "Epoch 8/20\n",
      "71/71 [==============================] - 3s 47ms/step - loss: 0.0404 - accuracy: 0.9862\n",
      "Epoch 9/20\n",
      "71/71 [==============================] - 3s 47ms/step - loss: 0.0455 - accuracy: 0.9862\n",
      "Epoch 10/20\n",
      "71/71 [==============================] - 3s 47ms/step - loss: 0.0338 - accuracy: 0.9898\n",
      "Epoch 11/20\n",
      "71/71 [==============================] - 3s 47ms/step - loss: 0.0252 - accuracy: 0.9933\n",
      "Epoch 12/20\n",
      "71/71 [==============================] - 3s 47ms/step - loss: 0.0077 - accuracy: 0.9991\n",
      "Epoch 13/20\n",
      "71/71 [==============================] - 3s 47ms/step - loss: 0.0027 - accuracy: 1.0000\n",
      "Epoch 14/20\n",
      "71/71 [==============================] - 3s 46ms/step - loss: 0.0094 - accuracy: 0.9978\n",
      "Epoch 15/20\n",
      "71/71 [==============================] - 3s 47ms/step - loss: 0.0077 - accuracy: 0.9987\n",
      "Epoch 16/20\n",
      "71/71 [==============================] - 3s 47ms/step - loss: 0.0096 - accuracy: 0.9960\n",
      "Epoch 17/20\n",
      "71/71 [==============================] - 3s 47ms/step - loss: 0.0093 - accuracy: 0.9973\n",
      "Epoch 18/20\n",
      "71/71 [==============================] - 3s 47ms/step - loss: 0.0231 - accuracy: 0.9929\n",
      "Epoch 19/20\n",
      "71/71 [==============================] - 3s 47ms/step - loss: 0.0304 - accuracy: 0.9893\n",
      "Epoch 20/20\n",
      "71/71 [==============================] - 3s 47ms/step - loss: 0.0193 - accuracy: 0.9925\n",
      "[INFO] Saving Model for goldfish fold 1 ...\n",
      "36/36 [==============================] - 0s 10ms/step\n"
     ]
    },
    {
     "name": "stderr",
     "output_type": "stream",
     "text": [
      "C:\\Users\\rudra\\AppData\\Local\\Temp\\ipykernel_6820\\3249705492.py:34: UserWarning: FigureCanvasAgg is non-interactive, and thus cannot be shown\n",
      "  plt.show()\n"
     ]
    },
    {
     "name": "stdout",
     "output_type": "stream",
     "text": [
      "1/1 [==============================] - 0s 78ms/step\n"
     ]
    },
    {
     "name": "stderr",
     "output_type": "stream",
     "text": [
      "C:\\Users\\rudra\\AppData\\Local\\Temp\\ipykernel_6820\\1767733992.py:15: RuntimeWarning: invalid value encountered in divide\n",
      "  channel_image /= channel_image.std()\n",
      "C:\\Users\\rudra\\AppData\\Local\\Temp\\ipykernel_6820\\1767733992.py:18: RuntimeWarning: invalid value encountered in cast\n",
      "  channel_image = np.clip(channel_image, 0, 255).astype('uint8')\n"
     ]
    },
    {
     "name": "stdout",
     "output_type": "stream",
     "text": [
      "[INFO] Training network for goldfish fold 2...\n",
      "Epoch 1/20\n",
      "71/71 [==============================] - 4s 48ms/step - loss: 0.2602 - accuracy: 0.8851\n",
      "Epoch 2/20\n",
      "71/71 [==============================] - 3s 47ms/step - loss: 0.1196 - accuracy: 0.9614\n",
      "Epoch 3/20\n",
      "71/71 [==============================] - 3s 47ms/step - loss: 0.0861 - accuracy: 0.9707\n",
      "Epoch 4/20\n",
      "71/71 [==============================] - 3s 47ms/step - loss: 0.0692 - accuracy: 0.9787\n",
      "Epoch 5/20\n",
      "71/71 [==============================] - 3s 47ms/step - loss: 0.0366 - accuracy: 0.9889\n",
      "Epoch 6/20\n",
      "71/71 [==============================] - 3s 47ms/step - loss: 0.0330 - accuracy: 0.9911\n",
      "Epoch 7/20\n",
      "71/71 [==============================] - 3s 47ms/step - loss: 0.0281 - accuracy: 0.9938\n",
      "Epoch 8/20\n",
      "71/71 [==============================] - 3s 47ms/step - loss: 0.0201 - accuracy: 0.9947\n",
      "Epoch 9/20\n",
      "71/71 [==============================] - 3s 47ms/step - loss: 0.0191 - accuracy: 0.9942\n",
      "Epoch 10/20\n",
      "71/71 [==============================] - 3s 47ms/step - loss: 0.0172 - accuracy: 0.9951\n",
      "Epoch 11/20\n",
      "71/71 [==============================] - 3s 47ms/step - loss: 0.0259 - accuracy: 0.9916\n",
      "Epoch 12/20\n",
      "71/71 [==============================] - 3s 47ms/step - loss: 0.0190 - accuracy: 0.9942\n",
      "Epoch 13/20\n",
      "71/71 [==============================] - 3s 47ms/step - loss: 0.0135 - accuracy: 0.9956\n",
      "Epoch 14/20\n",
      "71/71 [==============================] - 3s 47ms/step - loss: 0.0109 - accuracy: 0.9978\n",
      "Epoch 15/20\n",
      "71/71 [==============================] - 3s 47ms/step - loss: 0.0176 - accuracy: 0.9929\n",
      "Epoch 16/20\n",
      "71/71 [==============================] - 3s 47ms/step - loss: 0.0157 - accuracy: 0.9956\n",
      "Epoch 17/20\n",
      "71/71 [==============================] - 3s 47ms/step - loss: 0.0339 - accuracy: 0.9902\n",
      "Epoch 18/20\n",
      "71/71 [==============================] - 3s 47ms/step - loss: 0.0092 - accuracy: 0.9969\n",
      "Epoch 19/20\n",
      "71/71 [==============================] - 3s 47ms/step - loss: 0.0113 - accuracy: 0.9960\n",
      "Epoch 20/20\n",
      "71/71 [==============================] - 3s 47ms/step - loss: 0.0527 - accuracy: 0.9853\n",
      "[INFO] Saving Model for goldfish fold 2 ...\n",
      "36/36 [==============================] - 1s 10ms/step\n"
     ]
    },
    {
     "name": "stderr",
     "output_type": "stream",
     "text": [
      "C:\\Users\\rudra\\AppData\\Local\\Temp\\ipykernel_6820\\3249705492.py:34: UserWarning: FigureCanvasAgg is non-interactive, and thus cannot be shown\n",
      "  plt.show()\n"
     ]
    },
    {
     "name": "stdout",
     "output_type": "stream",
     "text": [
      "1/1 [==============================] - 0s 78ms/step\n"
     ]
    },
    {
     "name": "stderr",
     "output_type": "stream",
     "text": [
      "C:\\Users\\rudra\\AppData\\Local\\Temp\\ipykernel_6820\\1767733992.py:15: RuntimeWarning: invalid value encountered in divide\n",
      "  channel_image /= channel_image.std()\n",
      "C:\\Users\\rudra\\AppData\\Local\\Temp\\ipykernel_6820\\1767733992.py:18: RuntimeWarning: invalid value encountered in cast\n",
      "  channel_image = np.clip(channel_image, 0, 255).astype('uint8')\n"
     ]
    },
    {
     "name": "stdout",
     "output_type": "stream",
     "text": [
      "[INFO] Training network for goldfish fold 3...\n",
      "Epoch 1/20\n",
      "71/71 [==============================] - 4s 48ms/step - loss: 0.2551 - accuracy: 0.8864\n",
      "Epoch 2/20\n",
      "71/71 [==============================] - 3s 48ms/step - loss: 0.1011 - accuracy: 0.9671\n",
      "Epoch 3/20\n",
      "71/71 [==============================] - 3s 47ms/step - loss: 0.0665 - accuracy: 0.9822\n",
      "Epoch 4/20\n",
      "71/71 [==============================] - 3s 47ms/step - loss: 0.0506 - accuracy: 0.9849\n",
      "Epoch 5/20\n",
      "71/71 [==============================] - 3s 47ms/step - loss: 0.0404 - accuracy: 0.9845\n",
      "Epoch 6/20\n",
      "71/71 [==============================] - 3s 47ms/step - loss: 0.0321 - accuracy: 0.9898\n",
      "Epoch 7/20\n",
      "71/71 [==============================] - 3s 48ms/step - loss: 0.0345 - accuracy: 0.9862\n",
      "Epoch 8/20\n",
      "71/71 [==============================] - 3s 48ms/step - loss: 0.0320 - accuracy: 0.9907\n",
      "Epoch 9/20\n",
      "71/71 [==============================] - 3s 47ms/step - loss: 0.0253 - accuracy: 0.9916\n",
      "Epoch 10/20\n",
      "71/71 [==============================] - 3s 48ms/step - loss: 0.0381 - accuracy: 0.9898\n",
      "Epoch 11/20\n",
      "71/71 [==============================] - 3s 48ms/step - loss: 0.0222 - accuracy: 0.9920\n",
      "Epoch 12/20\n",
      "71/71 [==============================] - 3s 48ms/step - loss: 0.0346 - accuracy: 0.9858\n",
      "Epoch 13/20\n",
      "71/71 [==============================] - 3s 48ms/step - loss: 0.0628 - accuracy: 0.9800\n",
      "Epoch 14/20\n",
      "71/71 [==============================] - 3s 47ms/step - loss: 0.0205 - accuracy: 0.9929\n",
      "Epoch 15/20\n",
      "71/71 [==============================] - 3s 48ms/step - loss: 0.0098 - accuracy: 0.9978\n",
      "Epoch 16/20\n",
      "71/71 [==============================] - 3s 48ms/step - loss: 0.0123 - accuracy: 0.9956\n",
      "Epoch 17/20\n",
      "71/71 [==============================] - 3s 48ms/step - loss: 0.0115 - accuracy: 0.9978\n",
      "Epoch 18/20\n",
      "71/71 [==============================] - 3s 49ms/step - loss: 0.0050 - accuracy: 0.9991\n",
      "Epoch 19/20\n",
      "71/71 [==============================] - 3s 48ms/step - loss: 0.0164 - accuracy: 0.9973\n",
      "Epoch 20/20\n",
      "71/71 [==============================] - 3s 48ms/step - loss: 0.0068 - accuracy: 0.9987\n",
      "[INFO] Saving Model for goldfish fold 3 ...\n",
      "36/36 [==============================] - 1s 10ms/step\n"
     ]
    },
    {
     "name": "stderr",
     "output_type": "stream",
     "text": [
      "C:\\Users\\rudra\\AppData\\Local\\Temp\\ipykernel_6820\\3249705492.py:34: UserWarning: FigureCanvasAgg is non-interactive, and thus cannot be shown\n",
      "  plt.show()\n"
     ]
    },
    {
     "name": "stdout",
     "output_type": "stream",
     "text": [
      "1/1 [==============================] - 0s 78ms/step\n"
     ]
    },
    {
     "name": "stderr",
     "output_type": "stream",
     "text": [
      "C:\\Users\\rudra\\AppData\\Local\\Temp\\ipykernel_6820\\1767733992.py:15: RuntimeWarning: invalid value encountered in divide\n",
      "  channel_image /= channel_image.std()\n",
      "C:\\Users\\rudra\\AppData\\Local\\Temp\\ipykernel_6820\\1767733992.py:18: RuntimeWarning: invalid value encountered in cast\n",
      "  channel_image = np.clip(channel_image, 0, 255).astype('uint8')\n"
     ]
    },
    {
     "name": "stdout",
     "output_type": "stream",
     "text": [
      "[INFO] Loading images ...\n",
      "[INFO] Processing goose ...\n",
      "[INFO] Processing rest ...\n",
      "[INFO] image extract completed\n",
      "total train samples: \n",
      "3422\n",
      "[INFO] Training network for goose fold 1...\n",
      "Epoch 1/20\n",
      "71/71 [==============================] - 5s 48ms/step - loss: 0.5612 - accuracy: 0.7165\n",
      "Epoch 2/20\n",
      "71/71 [==============================] - 3s 47ms/step - loss: 0.4827 - accuracy: 0.7661\n",
      "Epoch 3/20\n",
      "71/71 [==============================] - 3s 47ms/step - loss: 0.3310 - accuracy: 0.8617\n",
      "Epoch 4/20\n",
      "71/71 [==============================] - 3s 47ms/step - loss: 0.2487 - accuracy: 0.8964\n",
      "Epoch 5/20\n",
      "71/71 [==============================] - 3s 47ms/step - loss: 0.2162 - accuracy: 0.9146\n",
      "Epoch 6/20\n",
      "71/71 [==============================] - 3s 47ms/step - loss: 0.1336 - accuracy: 0.9538\n",
      "Epoch 7/20\n",
      "71/71 [==============================] - 3s 48ms/step - loss: 0.1446 - accuracy: 0.9453\n",
      "Epoch 8/20\n",
      "71/71 [==============================] - 3s 47ms/step - loss: 0.0798 - accuracy: 0.9755\n",
      "Epoch 9/20\n",
      "71/71 [==============================] - 3s 47ms/step - loss: 0.0884 - accuracy: 0.9698\n",
      "Epoch 10/20\n",
      "71/71 [==============================] - 3s 47ms/step - loss: 0.0739 - accuracy: 0.9764\n",
      "Epoch 11/20\n",
      "71/71 [==============================] - 3s 47ms/step - loss: 0.0512 - accuracy: 0.9871\n",
      "Epoch 12/20\n",
      "71/71 [==============================] - 3s 47ms/step - loss: 0.0353 - accuracy: 0.9916\n",
      "Epoch 13/20\n",
      "71/71 [==============================] - 3s 47ms/step - loss: 0.0710 - accuracy: 0.9751\n",
      "Epoch 14/20\n",
      "71/71 [==============================] - 3s 48ms/step - loss: 0.0339 - accuracy: 0.9911\n",
      "Epoch 15/20\n",
      "71/71 [==============================] - 3s 47ms/step - loss: 0.0246 - accuracy: 0.9938\n",
      "Epoch 16/20\n",
      "71/71 [==============================] - 3s 48ms/step - loss: 0.0399 - accuracy: 0.9858\n",
      "Epoch 17/20\n",
      "71/71 [==============================] - 3s 47ms/step - loss: 0.0761 - accuracy: 0.9724\n",
      "Epoch 18/20\n",
      "71/71 [==============================] - 3s 48ms/step - loss: 0.0521 - accuracy: 0.9835\n",
      "Epoch 19/20\n",
      "71/71 [==============================] - 3s 47ms/step - loss: 0.0408 - accuracy: 0.9862\n",
      "Epoch 20/20\n",
      "71/71 [==============================] - 3s 47ms/step - loss: 0.0314 - accuracy: 0.9916\n",
      "[INFO] Saving Model for goose fold 1 ...\n",
      "36/36 [==============================] - 0s 11ms/step\n"
     ]
    },
    {
     "name": "stderr",
     "output_type": "stream",
     "text": [
      "C:\\Users\\rudra\\AppData\\Local\\Temp\\ipykernel_6820\\3249705492.py:34: UserWarning: FigureCanvasAgg is non-interactive, and thus cannot be shown\n",
      "  plt.show()\n"
     ]
    },
    {
     "name": "stdout",
     "output_type": "stream",
     "text": [
      "1/1 [==============================] - 0s 78ms/step\n"
     ]
    },
    {
     "name": "stderr",
     "output_type": "stream",
     "text": [
      "C:\\Users\\rudra\\AppData\\Local\\Temp\\ipykernel_6820\\1767733992.py:15: RuntimeWarning: invalid value encountered in divide\n",
      "  channel_image /= channel_image.std()\n",
      "C:\\Users\\rudra\\AppData\\Local\\Temp\\ipykernel_6820\\1767733992.py:18: RuntimeWarning: invalid value encountered in cast\n",
      "  channel_image = np.clip(channel_image, 0, 255).astype('uint8')\n"
     ]
    },
    {
     "name": "stdout",
     "output_type": "stream",
     "text": [
      "[INFO] Training network for goose fold 2...\n",
      "Epoch 1/20\n",
      "71/71 [==============================] - 4s 48ms/step - loss: 0.5482 - accuracy: 0.7381\n",
      "Epoch 2/20\n",
      "71/71 [==============================] - 3s 48ms/step - loss: 0.3868 - accuracy: 0.8310\n",
      "Epoch 3/20\n",
      "71/71 [==============================] - 3s 48ms/step - loss: 0.3088 - accuracy: 0.8702\n",
      "Epoch 4/20\n",
      "71/71 [==============================] - 3s 47ms/step - loss: 0.2481 - accuracy: 0.8986\n",
      "Epoch 5/20\n",
      "71/71 [==============================] - 3s 47ms/step - loss: 0.2274 - accuracy: 0.9062\n",
      "Epoch 6/20\n",
      "71/71 [==============================] - 3s 47ms/step - loss: 0.1913 - accuracy: 0.9262\n",
      "Epoch 7/20\n",
      "71/71 [==============================] - 3s 47ms/step - loss: 0.1230 - accuracy: 0.9591\n",
      "Epoch 8/20\n",
      "71/71 [==============================] - 3s 47ms/step - loss: 0.0951 - accuracy: 0.9662\n",
      "Epoch 9/20\n",
      "71/71 [==============================] - 3s 47ms/step - loss: 0.0600 - accuracy: 0.9787\n",
      "Epoch 10/20\n",
      "71/71 [==============================] - 3s 47ms/step - loss: 0.1065 - accuracy: 0.9600\n",
      "Epoch 11/20\n",
      "71/71 [==============================] - 3s 47ms/step - loss: 0.0442 - accuracy: 0.9889\n",
      "Epoch 12/20\n",
      "71/71 [==============================] - 3s 47ms/step - loss: 0.0321 - accuracy: 0.9889\n",
      "Epoch 13/20\n",
      "71/71 [==============================] - 3s 47ms/step - loss: 0.0451 - accuracy: 0.9862\n",
      "Epoch 14/20\n",
      "71/71 [==============================] - 3s 48ms/step - loss: 0.0311 - accuracy: 0.9893\n",
      "Epoch 15/20\n",
      "71/71 [==============================] - 3s 48ms/step - loss: 0.0235 - accuracy: 0.9942\n",
      "Epoch 16/20\n",
      "71/71 [==============================] - 3s 49ms/step - loss: 0.0116 - accuracy: 0.9982\n",
      "Epoch 17/20\n",
      "71/71 [==============================] - 3s 48ms/step - loss: 0.0142 - accuracy: 0.9964\n",
      "Epoch 18/20\n",
      "71/71 [==============================] - 3s 47ms/step - loss: 0.0241 - accuracy: 0.9956\n",
      "Epoch 19/20\n",
      "71/71 [==============================] - 3s 47ms/step - loss: 0.0181 - accuracy: 0.9947\n",
      "Epoch 20/20\n",
      "71/71 [==============================] - 3s 47ms/step - loss: 0.0153 - accuracy: 0.9964\n",
      "[INFO] Saving Model for goose fold 2 ...\n",
      "36/36 [==============================] - 0s 10ms/step\n"
     ]
    },
    {
     "name": "stderr",
     "output_type": "stream",
     "text": [
      "C:\\Users\\rudra\\AppData\\Local\\Temp\\ipykernel_6820\\3249705492.py:34: UserWarning: FigureCanvasAgg is non-interactive, and thus cannot be shown\n",
      "  plt.show()\n"
     ]
    },
    {
     "name": "stdout",
     "output_type": "stream",
     "text": [
      "1/1 [==============================] - 0s 78ms/step\n"
     ]
    },
    {
     "name": "stderr",
     "output_type": "stream",
     "text": [
      "C:\\Users\\rudra\\AppData\\Local\\Temp\\ipykernel_6820\\1767733992.py:15: RuntimeWarning: invalid value encountered in divide\n",
      "  channel_image /= channel_image.std()\n",
      "C:\\Users\\rudra\\AppData\\Local\\Temp\\ipykernel_6820\\1767733992.py:18: RuntimeWarning: invalid value encountered in cast\n",
      "  channel_image = np.clip(channel_image, 0, 255).astype('uint8')\n"
     ]
    },
    {
     "name": "stdout",
     "output_type": "stream",
     "text": [
      "[INFO] Training network for goose fold 3...\n",
      "Epoch 1/20\n",
      "71/71 [==============================] - 5s 50ms/step - loss: 0.5107 - accuracy: 0.7588\n",
      "Epoch 2/20\n",
      "71/71 [==============================] - 3s 49ms/step - loss: 0.3849 - accuracy: 0.8258\n",
      "Epoch 3/20\n",
      "71/71 [==============================] - 3s 48ms/step - loss: 0.2950 - accuracy: 0.8769\n",
      "Epoch 4/20\n",
      "71/71 [==============================] - 3s 48ms/step - loss: 0.2387 - accuracy: 0.9036\n",
      "Epoch 5/20\n",
      "71/71 [==============================] - 3s 47ms/step - loss: 0.1471 - accuracy: 0.9453\n",
      "Epoch 6/20\n",
      "71/71 [==============================] - 3s 47ms/step - loss: 0.1288 - accuracy: 0.9516\n",
      "Epoch 7/20\n",
      "71/71 [==============================] - 3s 47ms/step - loss: 0.1303 - accuracy: 0.9484\n",
      "Epoch 8/20\n",
      "71/71 [==============================] - 3s 48ms/step - loss: 0.1564 - accuracy: 0.9391\n",
      "Epoch 9/20\n",
      "71/71 [==============================] - 3s 47ms/step - loss: 0.0933 - accuracy: 0.9671\n",
      "Epoch 10/20\n",
      "71/71 [==============================] - 3s 47ms/step - loss: 0.0552 - accuracy: 0.9813\n",
      "Epoch 11/20\n",
      "71/71 [==============================] - 3s 47ms/step - loss: 0.0328 - accuracy: 0.9924\n",
      "Epoch 12/20\n",
      "71/71 [==============================] - 3s 48ms/step - loss: 0.0377 - accuracy: 0.9880\n",
      "Epoch 13/20\n",
      "71/71 [==============================] - 3s 47ms/step - loss: 0.0400 - accuracy: 0.9858\n",
      "Epoch 14/20\n",
      "71/71 [==============================] - 3s 47ms/step - loss: 0.0240 - accuracy: 0.9947\n",
      "Epoch 15/20\n",
      "71/71 [==============================] - 3s 47ms/step - loss: 0.0250 - accuracy: 0.9920\n",
      "Epoch 16/20\n",
      "71/71 [==============================] - 3s 48ms/step - loss: 0.0349 - accuracy: 0.9880\n",
      "Epoch 17/20\n",
      "71/71 [==============================] - 3s 47ms/step - loss: 0.0273 - accuracy: 0.9916\n",
      "Epoch 18/20\n",
      "71/71 [==============================] - 3s 48ms/step - loss: 0.0470 - accuracy: 0.9853\n",
      "Epoch 19/20\n",
      "71/71 [==============================] - 3s 47ms/step - loss: 0.0377 - accuracy: 0.9876\n",
      "Epoch 20/20\n",
      "71/71 [==============================] - 3s 47ms/step - loss: 0.0210 - accuracy: 0.9929\n",
      "[INFO] Saving Model for goose fold 3 ...\n",
      "36/36 [==============================] - 1s 10ms/step\n"
     ]
    },
    {
     "name": "stderr",
     "output_type": "stream",
     "text": [
      "C:\\Users\\rudra\\AppData\\Local\\Temp\\ipykernel_6820\\3249705492.py:34: UserWarning: FigureCanvasAgg is non-interactive, and thus cannot be shown\n",
      "  plt.show()\n"
     ]
    },
    {
     "name": "stdout",
     "output_type": "stream",
     "text": [
      "1/1 [==============================] - 0s 97ms/step\n"
     ]
    },
    {
     "name": "stderr",
     "output_type": "stream",
     "text": [
      "C:\\Users\\rudra\\AppData\\Local\\Temp\\ipykernel_6820\\1767733992.py:15: RuntimeWarning: invalid value encountered in divide\n",
      "  channel_image /= channel_image.std()\n",
      "C:\\Users\\rudra\\AppData\\Local\\Temp\\ipykernel_6820\\1767733992.py:18: RuntimeWarning: invalid value encountered in cast\n",
      "  channel_image = np.clip(channel_image, 0, 255).astype('uint8')\n"
     ]
    },
    {
     "name": "stdout",
     "output_type": "stream",
     "text": [
      "[INFO] Loading images ...\n",
      "[INFO] Processing gorilla ...\n",
      "[INFO] Processing rest ...\n",
      "[INFO] image extract completed\n",
      "total train samples: \n",
      "3419\n",
      "[INFO] Training network for gorilla fold 1...\n",
      "Epoch 1/20\n",
      "71/71 [==============================] - 5s 48ms/step - loss: 0.3285 - accuracy: 0.8653\n",
      "Epoch 2/20\n",
      "71/71 [==============================] - 3s 48ms/step - loss: 0.1809 - accuracy: 0.9324\n",
      "Epoch 3/20\n",
      "71/71 [==============================] - 3s 47ms/step - loss: 0.1570 - accuracy: 0.9408\n",
      "Epoch 4/20\n",
      "71/71 [==============================] - 3s 48ms/step - loss: 0.1142 - accuracy: 0.9591\n",
      "Epoch 5/20\n",
      "71/71 [==============================] - 3s 47ms/step - loss: 0.0747 - accuracy: 0.9755\n",
      "Epoch 6/20\n",
      "71/71 [==============================] - 3s 47ms/step - loss: 0.0607 - accuracy: 0.9800\n",
      "Epoch 7/20\n",
      "71/71 [==============================] - 3s 47ms/step - loss: 0.0495 - accuracy: 0.9858\n",
      "Epoch 8/20\n",
      "71/71 [==============================] - 3s 47ms/step - loss: 0.0214 - accuracy: 0.9960\n",
      "Epoch 9/20\n",
      "71/71 [==============================] - 3s 47ms/step - loss: 0.0537 - accuracy: 0.9818\n",
      "Epoch 10/20\n",
      "71/71 [==============================] - 3s 48ms/step - loss: 0.0682 - accuracy: 0.9764\n",
      "Epoch 11/20\n",
      "71/71 [==============================] - 3s 47ms/step - loss: 0.0329 - accuracy: 0.9924\n",
      "Epoch 12/20\n",
      "71/71 [==============================] - 3s 47ms/step - loss: 0.0179 - accuracy: 0.9947\n",
      "Epoch 13/20\n",
      "71/71 [==============================] - 3s 48ms/step - loss: 0.0156 - accuracy: 0.9960\n",
      "Epoch 14/20\n",
      "71/71 [==============================] - 3s 47ms/step - loss: 0.0552 - accuracy: 0.9786\n",
      "Epoch 15/20\n",
      "71/71 [==============================] - 3s 48ms/step - loss: 0.0572 - accuracy: 0.9818\n",
      "Epoch 16/20\n",
      "71/71 [==============================] - 3s 48ms/step - loss: 0.0280 - accuracy: 0.9907\n",
      "Epoch 17/20\n",
      "71/71 [==============================] - 3s 48ms/step - loss: 0.0197 - accuracy: 0.9938\n",
      "Epoch 18/20\n",
      "71/71 [==============================] - 3s 47ms/step - loss: 0.0357 - accuracy: 0.9884\n",
      "Epoch 19/20\n",
      "71/71 [==============================] - 3s 47ms/step - loss: 0.0233 - accuracy: 0.9924\n",
      "Epoch 20/20\n",
      "71/71 [==============================] - 3s 47ms/step - loss: 0.0094 - accuracy: 0.9982\n",
      "[INFO] Saving Model for gorilla fold 1 ...\n",
      "36/36 [==============================] - 0s 10ms/step\n"
     ]
    },
    {
     "name": "stderr",
     "output_type": "stream",
     "text": [
      "C:\\Users\\rudra\\AppData\\Local\\Temp\\ipykernel_6820\\3249705492.py:34: UserWarning: FigureCanvasAgg is non-interactive, and thus cannot be shown\n",
      "  plt.show()\n"
     ]
    },
    {
     "name": "stdout",
     "output_type": "stream",
     "text": [
      "1/1 [==============================] - 0s 94ms/step\n"
     ]
    },
    {
     "name": "stderr",
     "output_type": "stream",
     "text": [
      "C:\\Users\\rudra\\AppData\\Local\\Temp\\ipykernel_6820\\1767733992.py:15: RuntimeWarning: invalid value encountered in divide\n",
      "  channel_image /= channel_image.std()\n",
      "C:\\Users\\rudra\\AppData\\Local\\Temp\\ipykernel_6820\\1767733992.py:18: RuntimeWarning: invalid value encountered in cast\n",
      "  channel_image = np.clip(channel_image, 0, 255).astype('uint8')\n"
     ]
    },
    {
     "name": "stdout",
     "output_type": "stream",
     "text": [
      "[INFO] Training network for gorilla fold 2...\n",
      "Epoch 1/20\n",
      "71/71 [==============================] - 4s 48ms/step - loss: 0.3459 - accuracy: 0.8486\n",
      "Epoch 2/20\n",
      "71/71 [==============================] - 3s 48ms/step - loss: 0.2512 - accuracy: 0.8919\n",
      "Epoch 3/20\n",
      "71/71 [==============================] - 3s 47ms/step - loss: 0.1786 - accuracy: 0.9319\n",
      "Epoch 4/20\n",
      "71/71 [==============================] - 3s 47ms/step - loss: 0.1323 - accuracy: 0.9506\n",
      "Epoch 5/20\n",
      "71/71 [==============================] - 3s 47ms/step - loss: 0.0834 - accuracy: 0.9702\n",
      "Epoch 6/20\n",
      "71/71 [==============================] - 3s 48ms/step - loss: 0.0548 - accuracy: 0.9822\n",
      "Epoch 7/20\n",
      "71/71 [==============================] - 3s 48ms/step - loss: 0.0485 - accuracy: 0.9849\n",
      "Epoch 8/20\n",
      "71/71 [==============================] - 3s 48ms/step - loss: 0.0450 - accuracy: 0.9853\n",
      "Epoch 9/20\n",
      "71/71 [==============================] - 4s 51ms/step - loss: 0.0354 - accuracy: 0.9871\n",
      "Epoch 10/20\n",
      "71/71 [==============================] - 3s 47ms/step - loss: 0.0616 - accuracy: 0.9782\n",
      "Epoch 11/20\n",
      "71/71 [==============================] - 3s 49ms/step - loss: 0.0287 - accuracy: 0.9924\n",
      "Epoch 12/20\n",
      "71/71 [==============================] - 3s 48ms/step - loss: 0.0165 - accuracy: 0.9964\n",
      "Epoch 13/20\n",
      "71/71 [==============================] - 3s 47ms/step - loss: 0.0275 - accuracy: 0.9911\n",
      "Epoch 14/20\n",
      "71/71 [==============================] - 3s 47ms/step - loss: 0.0266 - accuracy: 0.9915\n",
      "Epoch 15/20\n",
      "71/71 [==============================] - 3s 47ms/step - loss: 0.0287 - accuracy: 0.9898\n",
      "Epoch 16/20\n",
      "71/71 [==============================] - 3s 47ms/step - loss: 0.0610 - accuracy: 0.9764\n",
      "Epoch 17/20\n",
      "71/71 [==============================] - 3s 48ms/step - loss: 0.0213 - accuracy: 0.9942\n",
      "Epoch 18/20\n",
      "71/71 [==============================] - 3s 47ms/step - loss: 0.0244 - accuracy: 0.9929\n",
      "Epoch 19/20\n",
      "71/71 [==============================] - 4s 49ms/step - loss: 0.0711 - accuracy: 0.9746\n",
      "Epoch 20/20\n",
      "71/71 [==============================] - 3s 47ms/step - loss: 0.0229 - accuracy: 0.9924\n",
      "[INFO] Saving Model for gorilla fold 2 ...\n",
      "36/36 [==============================] - 0s 10ms/step\n"
     ]
    },
    {
     "name": "stderr",
     "output_type": "stream",
     "text": [
      "C:\\Users\\rudra\\AppData\\Local\\Temp\\ipykernel_6820\\3249705492.py:34: UserWarning: FigureCanvasAgg is non-interactive, and thus cannot be shown\n",
      "  plt.show()\n"
     ]
    },
    {
     "name": "stdout",
     "output_type": "stream",
     "text": [
      "1/1 [==============================] - 0s 73ms/step\n"
     ]
    },
    {
     "name": "stderr",
     "output_type": "stream",
     "text": [
      "C:\\Users\\rudra\\AppData\\Local\\Temp\\ipykernel_6820\\1767733992.py:15: RuntimeWarning: invalid value encountered in divide\n",
      "  channel_image /= channel_image.std()\n",
      "C:\\Users\\rudra\\AppData\\Local\\Temp\\ipykernel_6820\\1767733992.py:18: RuntimeWarning: invalid value encountered in cast\n",
      "  channel_image = np.clip(channel_image, 0, 255).astype('uint8')\n"
     ]
    },
    {
     "name": "stdout",
     "output_type": "stream",
     "text": [
      "[INFO] Training network for gorilla fold 3...\n",
      "Epoch 1/20\n",
      "71/71 [==============================] - 4s 48ms/step - loss: 0.3250 - accuracy: 0.8618\n",
      "Epoch 2/20\n",
      "71/71 [==============================] - 3s 48ms/step - loss: 0.2049 - accuracy: 0.9181\n",
      "Epoch 3/20\n",
      "71/71 [==============================] - 3s 47ms/step - loss: 0.1563 - accuracy: 0.9462\n",
      "Epoch 4/20\n",
      "71/71 [==============================] - 3s 47ms/step - loss: 0.1099 - accuracy: 0.9604\n",
      "Epoch 5/20\n",
      "71/71 [==============================] - 3s 47ms/step - loss: 0.0874 - accuracy: 0.9675\n",
      "Epoch 6/20\n",
      "71/71 [==============================] - 3s 47ms/step - loss: 0.0630 - accuracy: 0.9822\n",
      "Epoch 7/20\n",
      "71/71 [==============================] - 3s 47ms/step - loss: 0.0427 - accuracy: 0.9849\n",
      "Epoch 8/20\n",
      "71/71 [==============================] - 3s 47ms/step - loss: 0.0671 - accuracy: 0.9786\n",
      "Epoch 9/20\n",
      "71/71 [==============================] - 3s 47ms/step - loss: 0.0627 - accuracy: 0.9782\n",
      "Epoch 10/20\n",
      "71/71 [==============================] - 3s 47ms/step - loss: 0.0207 - accuracy: 0.9951\n",
      "Epoch 11/20\n",
      "71/71 [==============================] - 3s 47ms/step - loss: 0.0489 - accuracy: 0.9844\n",
      "Epoch 12/20\n",
      "71/71 [==============================] - 3s 47ms/step - loss: 0.0288 - accuracy: 0.9893\n",
      "Epoch 13/20\n",
      "71/71 [==============================] - 3s 47ms/step - loss: 0.0171 - accuracy: 0.9956\n",
      "Epoch 14/20\n",
      "71/71 [==============================] - 3s 47ms/step - loss: 0.0187 - accuracy: 0.9938\n",
      "Epoch 15/20\n",
      "71/71 [==============================] - 3s 47ms/step - loss: 0.0118 - accuracy: 0.9964\n",
      "Epoch 16/20\n",
      "71/71 [==============================] - 3s 47ms/step - loss: 0.0119 - accuracy: 0.9973\n",
      "Epoch 17/20\n",
      "71/71 [==============================] - 3s 47ms/step - loss: 0.0104 - accuracy: 0.9969\n",
      "Epoch 18/20\n",
      "71/71 [==============================] - 3s 47ms/step - loss: 0.0068 - accuracy: 0.9978\n",
      "Epoch 19/20\n",
      "71/71 [==============================] - 3s 47ms/step - loss: 0.0134 - accuracy: 0.9969\n",
      "Epoch 20/20\n",
      "71/71 [==============================] - 3s 47ms/step - loss: 0.0089 - accuracy: 0.9973\n",
      "[INFO] Saving Model for gorilla fold 3 ...\n",
      "36/36 [==============================] - 1s 10ms/step\n"
     ]
    },
    {
     "name": "stderr",
     "output_type": "stream",
     "text": [
      "C:\\Users\\rudra\\AppData\\Local\\Temp\\ipykernel_6820\\3249705492.py:34: UserWarning: FigureCanvasAgg is non-interactive, and thus cannot be shown\n",
      "  plt.show()\n"
     ]
    },
    {
     "name": "stdout",
     "output_type": "stream",
     "text": [
      "1/1 [==============================] - 0s 82ms/step\n"
     ]
    },
    {
     "name": "stderr",
     "output_type": "stream",
     "text": [
      "C:\\Users\\rudra\\AppData\\Local\\Temp\\ipykernel_6820\\1767733992.py:15: RuntimeWarning: invalid value encountered in divide\n",
      "  channel_image /= channel_image.std()\n",
      "C:\\Users\\rudra\\AppData\\Local\\Temp\\ipykernel_6820\\1767733992.py:18: RuntimeWarning: invalid value encountered in cast\n",
      "  channel_image = np.clip(channel_image, 0, 255).astype('uint8')\n"
     ]
    },
    {
     "name": "stdout",
     "output_type": "stream",
     "text": [
      "[INFO] Loading images ...\n",
      "[INFO] Processing grasshopper ...\n",
      "[INFO] Processing rest ...\n",
      "[INFO] image extract completed\n",
      "total train samples: \n",
      "3417\n",
      "[INFO] Training network for grasshopper fold 1...\n",
      "Epoch 1/20\n",
      "71/71 [==============================] - 5s 48ms/step - loss: 0.4556 - accuracy: 0.7909\n",
      "Epoch 2/20\n",
      "71/71 [==============================] - 4s 48ms/step - loss: 0.3019 - accuracy: 0.8691\n",
      "Epoch 3/20\n",
      "71/71 [==============================] - 3s 47ms/step - loss: 0.2406 - accuracy: 0.9065\n",
      "Epoch 4/20\n",
      "71/71 [==============================] - 3s 47ms/step - loss: 0.1816 - accuracy: 0.9319\n",
      "Epoch 5/20\n",
      "71/71 [==============================] - 3s 48ms/step - loss: 0.1232 - accuracy: 0.9573\n",
      "Epoch 6/20\n",
      "71/71 [==============================] - 3s 47ms/step - loss: 0.0685 - accuracy: 0.9795\n",
      "Epoch 7/20\n",
      "71/71 [==============================] - 3s 47ms/step - loss: 0.0457 - accuracy: 0.9858\n",
      "Epoch 8/20\n",
      "71/71 [==============================] - 3s 48ms/step - loss: 0.0511 - accuracy: 0.9849\n",
      "Epoch 9/20\n",
      "71/71 [==============================] - 3s 47ms/step - loss: 0.0468 - accuracy: 0.9853\n",
      "Epoch 10/20\n",
      "71/71 [==============================] - 3s 47ms/step - loss: 0.0711 - accuracy: 0.9751\n",
      "Epoch 11/20\n",
      "71/71 [==============================] - 3s 47ms/step - loss: 0.0430 - accuracy: 0.9866\n",
      "Epoch 12/20\n",
      "71/71 [==============================] - 3s 47ms/step - loss: 0.0213 - accuracy: 0.9938\n",
      "Epoch 13/20\n",
      "71/71 [==============================] - 3s 47ms/step - loss: 0.0332 - accuracy: 0.9889\n",
      "Epoch 14/20\n",
      "71/71 [==============================] - 3s 46ms/step - loss: 0.0328 - accuracy: 0.9866\n",
      "Epoch 15/20\n",
      "71/71 [==============================] - 3s 46ms/step - loss: 0.0238 - accuracy: 0.9924\n",
      "Epoch 16/20\n",
      "71/71 [==============================] - 3s 47ms/step - loss: 0.0215 - accuracy: 0.9920\n",
      "Epoch 17/20\n",
      "71/71 [==============================] - 3s 47ms/step - loss: 0.0695 - accuracy: 0.9760\n",
      "Epoch 18/20\n",
      "71/71 [==============================] - 3s 46ms/step - loss: 0.0436 - accuracy: 0.9813\n",
      "Epoch 19/20\n",
      "71/71 [==============================] - 3s 47ms/step - loss: 0.0331 - accuracy: 0.9907\n",
      "Epoch 20/20\n",
      "71/71 [==============================] - 3s 48ms/step - loss: 0.0127 - accuracy: 0.9964\n",
      "[INFO] Saving Model for grasshopper fold 1 ...\n",
      "36/36 [==============================] - 1s 11ms/step\n"
     ]
    },
    {
     "name": "stderr",
     "output_type": "stream",
     "text": [
      "C:\\Users\\rudra\\AppData\\Local\\Temp\\ipykernel_6820\\3249705492.py:34: UserWarning: FigureCanvasAgg is non-interactive, and thus cannot be shown\n",
      "  plt.show()\n"
     ]
    },
    {
     "name": "stdout",
     "output_type": "stream",
     "text": [
      "1/1 [==============================] - 0s 87ms/step\n"
     ]
    },
    {
     "name": "stderr",
     "output_type": "stream",
     "text": [
      "C:\\Users\\rudra\\AppData\\Local\\Temp\\ipykernel_6820\\1767733992.py:15: RuntimeWarning: invalid value encountered in divide\n",
      "  channel_image /= channel_image.std()\n",
      "C:\\Users\\rudra\\AppData\\Local\\Temp\\ipykernel_6820\\1767733992.py:18: RuntimeWarning: invalid value encountered in cast\n",
      "  channel_image = np.clip(channel_image, 0, 255).astype('uint8')\n"
     ]
    },
    {
     "name": "stdout",
     "output_type": "stream",
     "text": [
      "[INFO] Training network for grasshopper fold 2...\n",
      "Epoch 1/20\n",
      "71/71 [==============================] - 5s 49ms/step - loss: 0.4545 - accuracy: 0.7892\n",
      "Epoch 2/20\n",
      "71/71 [==============================] - 3s 47ms/step - loss: 0.3038 - accuracy: 0.8749\n",
      "Epoch 3/20\n",
      "71/71 [==============================] - 3s 47ms/step - loss: 0.2374 - accuracy: 0.9065\n",
      "Epoch 4/20\n",
      "71/71 [==============================] - 3s 47ms/step - loss: 0.1696 - accuracy: 0.9305\n",
      "Epoch 5/20\n",
      "71/71 [==============================] - 3s 47ms/step - loss: 0.1159 - accuracy: 0.9595\n",
      "Epoch 6/20\n",
      "71/71 [==============================] - 3s 47ms/step - loss: 0.1312 - accuracy: 0.9537\n",
      "Epoch 7/20\n",
      "71/71 [==============================] - 3s 47ms/step - loss: 0.0808 - accuracy: 0.9751\n",
      "Epoch 8/20\n",
      "71/71 [==============================] - 3s 47ms/step - loss: 0.0425 - accuracy: 0.9875\n",
      "Epoch 9/20\n",
      "71/71 [==============================] - 3s 47ms/step - loss: 0.0514 - accuracy: 0.9831\n",
      "Epoch 10/20\n",
      "71/71 [==============================] - 3s 48ms/step - loss: 0.1329 - accuracy: 0.9528\n",
      "Epoch 11/20\n",
      "71/71 [==============================] - 3s 47ms/step - loss: 0.0497 - accuracy: 0.9840\n",
      "Epoch 12/20\n",
      "71/71 [==============================] - 3s 48ms/step - loss: 0.0271 - accuracy: 0.9933\n",
      "Epoch 13/20\n",
      "71/71 [==============================] - 3s 47ms/step - loss: 0.0139 - accuracy: 0.9987\n",
      "Epoch 14/20\n",
      "71/71 [==============================] - 3s 49ms/step - loss: 0.0170 - accuracy: 0.9960\n",
      "Epoch 15/20\n",
      "71/71 [==============================] - 3s 49ms/step - loss: 0.0128 - accuracy: 0.9960\n",
      "Epoch 16/20\n",
      "71/71 [==============================] - 3s 49ms/step - loss: 0.0394 - accuracy: 0.9862\n",
      "Epoch 17/20\n",
      "71/71 [==============================] - 3s 48ms/step - loss: 0.0422 - accuracy: 0.9862\n",
      "Epoch 18/20\n",
      "71/71 [==============================] - 3s 48ms/step - loss: 0.0352 - accuracy: 0.9889\n",
      "Epoch 19/20\n",
      "71/71 [==============================] - 3s 47ms/step - loss: 0.0738 - accuracy: 0.9751\n",
      "Epoch 20/20\n",
      "71/71 [==============================] - 3s 47ms/step - loss: 0.0305 - accuracy: 0.9893\n",
      "[INFO] Saving Model for grasshopper fold 2 ...\n",
      "36/36 [==============================] - 1s 11ms/step\n"
     ]
    },
    {
     "name": "stderr",
     "output_type": "stream",
     "text": [
      "C:\\Users\\rudra\\AppData\\Local\\Temp\\ipykernel_6820\\3249705492.py:34: UserWarning: FigureCanvasAgg is non-interactive, and thus cannot be shown\n",
      "  plt.show()\n"
     ]
    },
    {
     "name": "stdout",
     "output_type": "stream",
     "text": [
      "1/1 [==============================] - 0s 101ms/step\n"
     ]
    },
    {
     "name": "stderr",
     "output_type": "stream",
     "text": [
      "C:\\Users\\rudra\\AppData\\Local\\Temp\\ipykernel_6820\\1767733992.py:15: RuntimeWarning: invalid value encountered in divide\n",
      "  channel_image /= channel_image.std()\n",
      "C:\\Users\\rudra\\AppData\\Local\\Temp\\ipykernel_6820\\1767733992.py:18: RuntimeWarning: invalid value encountered in cast\n",
      "  channel_image = np.clip(channel_image, 0, 255).astype('uint8')\n"
     ]
    },
    {
     "name": "stdout",
     "output_type": "stream",
     "text": [
      "[INFO] Training network for grasshopper fold 3...\n",
      "Epoch 1/20\n",
      "71/71 [==============================] - 5s 49ms/step - loss: 0.4683 - accuracy: 0.7768\n",
      "Epoch 2/20\n",
      "71/71 [==============================] - 3s 49ms/step - loss: 0.3221 - accuracy: 0.8642\n",
      "Epoch 3/20\n",
      "71/71 [==============================] - 3s 48ms/step - loss: 0.2573 - accuracy: 0.8989\n",
      "Epoch 4/20\n",
      "71/71 [==============================] - 3s 47ms/step - loss: 0.1918 - accuracy: 0.9274\n",
      "Epoch 5/20\n",
      "71/71 [==============================] - 3s 47ms/step - loss: 0.1127 - accuracy: 0.9590\n",
      "Epoch 6/20\n",
      "71/71 [==============================] - 3s 47ms/step - loss: 0.0736 - accuracy: 0.9751\n",
      "Epoch 7/20\n",
      "71/71 [==============================] - 3s 48ms/step - loss: 0.0822 - accuracy: 0.9751\n",
      "Epoch 8/20\n",
      "71/71 [==============================] - 3s 48ms/step - loss: 0.0587 - accuracy: 0.9817\n",
      "Epoch 9/20\n",
      "71/71 [==============================] - 3s 48ms/step - loss: 0.0834 - accuracy: 0.9684\n",
      "Epoch 10/20\n",
      "71/71 [==============================] - 3s 47ms/step - loss: 0.0717 - accuracy: 0.9724\n",
      "Epoch 11/20\n",
      "71/71 [==============================] - 3s 47ms/step - loss: 0.0356 - accuracy: 0.9893\n",
      "Epoch 12/20\n",
      "71/71 [==============================] - 3s 47ms/step - loss: 0.0245 - accuracy: 0.9938\n",
      "Epoch 13/20\n",
      "71/71 [==============================] - 3s 47ms/step - loss: 0.0128 - accuracy: 0.9978\n",
      "Epoch 14/20\n",
      "71/71 [==============================] - 3s 49ms/step - loss: 0.0121 - accuracy: 0.9969\n",
      "Epoch 15/20\n",
      "71/71 [==============================] - 3s 48ms/step - loss: 0.0193 - accuracy: 0.9955\n",
      "Epoch 16/20\n",
      "71/71 [==============================] - 3s 48ms/step - loss: 0.0165 - accuracy: 0.9951\n",
      "Epoch 17/20\n",
      "71/71 [==============================] - 3s 47ms/step - loss: 0.0358 - accuracy: 0.9880\n",
      "Epoch 18/20\n",
      "71/71 [==============================] - 3s 47ms/step - loss: 0.0574 - accuracy: 0.9826\n",
      "Epoch 19/20\n",
      "71/71 [==============================] - 3s 47ms/step - loss: 0.0503 - accuracy: 0.9817\n",
      "Epoch 20/20\n",
      "71/71 [==============================] - 3s 47ms/step - loss: 0.0311 - accuracy: 0.9907\n",
      "[INFO] Saving Model for grasshopper fold 3 ...\n",
      "36/36 [==============================] - 0s 10ms/step\n"
     ]
    },
    {
     "name": "stderr",
     "output_type": "stream",
     "text": [
      "C:\\Users\\rudra\\AppData\\Local\\Temp\\ipykernel_6820\\3249705492.py:34: UserWarning: FigureCanvasAgg is non-interactive, and thus cannot be shown\n",
      "  plt.show()\n"
     ]
    },
    {
     "name": "stdout",
     "output_type": "stream",
     "text": [
      "1/1 [==============================] - 0s 78ms/step\n"
     ]
    },
    {
     "name": "stderr",
     "output_type": "stream",
     "text": [
      "C:\\Users\\rudra\\AppData\\Local\\Temp\\ipykernel_6820\\1767733992.py:15: RuntimeWarning: invalid value encountered in divide\n",
      "  channel_image /= channel_image.std()\n",
      "C:\\Users\\rudra\\AppData\\Local\\Temp\\ipykernel_6820\\1767733992.py:18: RuntimeWarning: invalid value encountered in cast\n",
      "  channel_image = np.clip(channel_image, 0, 255).astype('uint8')\n"
     ]
    },
    {
     "name": "stdout",
     "output_type": "stream",
     "text": [
      "[INFO] Loading images ...\n",
      "[INFO] Processing hamster ...\n",
      "[INFO] Processing rest ...\n",
      "[INFO] image extract completed\n",
      "total train samples: \n",
      "3430\n",
      "[INFO] Training network for hamster fold 1...\n",
      "Epoch 1/20\n",
      "71/71 [==============================] - 5s 49ms/step - loss: 0.4213 - accuracy: 0.8244\n",
      "Epoch 2/20\n",
      "71/71 [==============================] - 3s 49ms/step - loss: 0.2583 - accuracy: 0.8926\n",
      "Epoch 3/20\n",
      "71/71 [==============================] - 3s 47ms/step - loss: 0.2669 - accuracy: 0.8926\n",
      "Epoch 4/20\n",
      "71/71 [==============================] - 3s 47ms/step - loss: 0.1900 - accuracy: 0.9326\n",
      "Epoch 5/20\n",
      "71/71 [==============================] - 3s 47ms/step - loss: 0.1409 - accuracy: 0.9472\n",
      "Epoch 6/20\n",
      "71/71 [==============================] - 3s 49ms/step - loss: 0.0913 - accuracy: 0.9685\n",
      "Epoch 7/20\n",
      "71/71 [==============================] - 3s 49ms/step - loss: 0.0719 - accuracy: 0.9756\n",
      "Epoch 8/20\n",
      "71/71 [==============================] - 3s 48ms/step - loss: 0.0394 - accuracy: 0.9867\n",
      "Epoch 9/20\n",
      "71/71 [==============================] - 3s 48ms/step - loss: 0.0404 - accuracy: 0.9858\n",
      "Epoch 10/20\n",
      "71/71 [==============================] - 3s 47ms/step - loss: 0.0448 - accuracy: 0.9836\n",
      "Epoch 11/20\n",
      "71/71 [==============================] - 3s 47ms/step - loss: 0.0447 - accuracy: 0.9845\n",
      "Epoch 12/20\n",
      "71/71 [==============================] - 3s 48ms/step - loss: 0.0381 - accuracy: 0.9854\n",
      "Epoch 13/20\n",
      "71/71 [==============================] - 3s 47ms/step - loss: 0.0275 - accuracy: 0.9925\n",
      "Epoch 14/20\n",
      "71/71 [==============================] - 3s 48ms/step - loss: 0.0342 - accuracy: 0.9871\n",
      "Epoch 15/20\n",
      "71/71 [==============================] - 3s 48ms/step - loss: 0.0339 - accuracy: 0.9885\n",
      "Epoch 16/20\n",
      "71/71 [==============================] - 3s 47ms/step - loss: 0.0239 - accuracy: 0.9907\n",
      "Epoch 17/20\n",
      "71/71 [==============================] - 3s 48ms/step - loss: 0.0498 - accuracy: 0.9831\n",
      "Epoch 18/20\n",
      "71/71 [==============================] - 3s 47ms/step - loss: 0.0208 - accuracy: 0.9947\n",
      "Epoch 19/20\n",
      "71/71 [==============================] - 3s 48ms/step - loss: 0.0182 - accuracy: 0.9929\n",
      "Epoch 20/20\n",
      "71/71 [==============================] - 3s 47ms/step - loss: 0.0211 - accuracy: 0.9929\n",
      "[INFO] Saving Model for hamster fold 1 ...\n",
      "36/36 [==============================] - 1s 11ms/step\n"
     ]
    },
    {
     "name": "stderr",
     "output_type": "stream",
     "text": [
      "C:\\Users\\rudra\\AppData\\Local\\Temp\\ipykernel_6820\\3249705492.py:34: UserWarning: FigureCanvasAgg is non-interactive, and thus cannot be shown\n",
      "  plt.show()\n"
     ]
    },
    {
     "name": "stdout",
     "output_type": "stream",
     "text": [
      "1/1 [==============================] - 0s 101ms/step\n"
     ]
    },
    {
     "name": "stderr",
     "output_type": "stream",
     "text": [
      "C:\\Users\\rudra\\AppData\\Local\\Temp\\ipykernel_6820\\1767733992.py:15: RuntimeWarning: invalid value encountered in divide\n",
      "  channel_image /= channel_image.std()\n",
      "C:\\Users\\rudra\\AppData\\Local\\Temp\\ipykernel_6820\\1767733992.py:18: RuntimeWarning: invalid value encountered in cast\n",
      "  channel_image = np.clip(channel_image, 0, 255).astype('uint8')\n"
     ]
    },
    {
     "name": "stdout",
     "output_type": "stream",
     "text": [
      "[INFO] Training network for hamster fold 2...\n",
      "Epoch 1/20\n",
      "71/71 [==============================] - 4s 49ms/step - loss: 0.4121 - accuracy: 0.8165\n",
      "Epoch 2/20\n",
      "71/71 [==============================] - 3s 48ms/step - loss: 0.2870 - accuracy: 0.8860\n",
      "Epoch 3/20\n",
      "71/71 [==============================] - 3s 47ms/step - loss: 0.2192 - accuracy: 0.9162\n",
      "Epoch 4/20\n",
      "71/71 [==============================] - 3s 49ms/step - loss: 0.2013 - accuracy: 0.9259\n",
      "Epoch 5/20\n",
      "71/71 [==============================] - 4s 51ms/step - loss: 0.1517 - accuracy: 0.9450\n",
      "Epoch 6/20\n",
      "71/71 [==============================] - 4s 50ms/step - loss: 0.1130 - accuracy: 0.9654\n",
      "Epoch 7/20\n",
      "71/71 [==============================] - 4s 50ms/step - loss: 0.0978 - accuracy: 0.9654\n",
      "Epoch 8/20\n",
      "71/71 [==============================] - 4s 53ms/step - loss: 0.0589 - accuracy: 0.9814\n",
      "Epoch 9/20\n",
      "71/71 [==============================] - 3s 49ms/step - loss: 0.0516 - accuracy: 0.9849\n",
      "Epoch 10/20\n",
      "71/71 [==============================] - 3s 48ms/step - loss: 0.0527 - accuracy: 0.9840\n",
      "Epoch 11/20\n",
      "71/71 [==============================] - 3s 47ms/step - loss: 0.0270 - accuracy: 0.9889\n",
      "Epoch 12/20\n",
      "71/71 [==============================] - 3s 48ms/step - loss: 0.0197 - accuracy: 0.9951\n",
      "Epoch 13/20\n",
      "71/71 [==============================] - 3s 48ms/step - loss: 0.0117 - accuracy: 0.9965\n",
      "Epoch 14/20\n",
      "71/71 [==============================] - 3s 48ms/step - loss: 0.0102 - accuracy: 0.9978\n",
      "Epoch 15/20\n",
      "71/71 [==============================] - 3s 48ms/step - loss: 0.0182 - accuracy: 0.9956\n",
      "Epoch 16/20\n",
      "71/71 [==============================] - 3s 47ms/step - loss: 0.0079 - accuracy: 0.9978\n",
      "Epoch 17/20\n",
      "71/71 [==============================] - 3s 48ms/step - loss: 0.0314 - accuracy: 0.9867\n",
      "Epoch 18/20\n",
      "71/71 [==============================] - 4s 51ms/step - loss: 0.0470 - accuracy: 0.9836\n",
      "Epoch 19/20\n",
      "71/71 [==============================] - 3s 47ms/step - loss: 0.0304 - accuracy: 0.9880\n",
      "Epoch 20/20\n",
      "71/71 [==============================] - 3s 49ms/step - loss: 0.0426 - accuracy: 0.9858\n",
      "[INFO] Saving Model for hamster fold 2 ...\n",
      "36/36 [==============================] - 0s 10ms/step\n"
     ]
    },
    {
     "name": "stderr",
     "output_type": "stream",
     "text": [
      "C:\\Users\\rudra\\AppData\\Local\\Temp\\ipykernel_6820\\3249705492.py:34: UserWarning: FigureCanvasAgg is non-interactive, and thus cannot be shown\n",
      "  plt.show()\n"
     ]
    },
    {
     "name": "stdout",
     "output_type": "stream",
     "text": [
      "1/1 [==============================] - 0s 88ms/step\n"
     ]
    },
    {
     "name": "stderr",
     "output_type": "stream",
     "text": [
      "C:\\Users\\rudra\\AppData\\Local\\Temp\\ipykernel_6820\\1767733992.py:15: RuntimeWarning: invalid value encountered in divide\n",
      "  channel_image /= channel_image.std()\n",
      "C:\\Users\\rudra\\AppData\\Local\\Temp\\ipykernel_6820\\1767733992.py:18: RuntimeWarning: invalid value encountered in cast\n",
      "  channel_image = np.clip(channel_image, 0, 255).astype('uint8')\n"
     ]
    },
    {
     "name": "stdout",
     "output_type": "stream",
     "text": [
      "[INFO] Training network for hamster fold 3...\n",
      "Epoch 1/20\n",
      "71/71 [==============================] - 4s 48ms/step - loss: 0.3809 - accuracy: 0.8433\n",
      "Epoch 2/20\n",
      "71/71 [==============================] - 3s 48ms/step - loss: 0.2597 - accuracy: 0.9007\n",
      "Epoch 3/20\n",
      "71/71 [==============================] - 3s 47ms/step - loss: 0.1997 - accuracy: 0.9259\n",
      "Epoch 4/20\n",
      "71/71 [==============================] - 3s 47ms/step - loss: 0.1409 - accuracy: 0.9503\n",
      "Epoch 5/20\n",
      "71/71 [==============================] - 3s 47ms/step - loss: 0.1068 - accuracy: 0.9632\n",
      "Epoch 6/20\n",
      "71/71 [==============================] - 3s 48ms/step - loss: 0.0744 - accuracy: 0.9752\n",
      "Epoch 7/20\n",
      "71/71 [==============================] - 3s 47ms/step - loss: 0.0791 - accuracy: 0.9712\n",
      "Epoch 8/20\n",
      "71/71 [==============================] - 3s 47ms/step - loss: 0.0566 - accuracy: 0.9805\n",
      "Epoch 9/20\n",
      "71/71 [==============================] - 3s 48ms/step - loss: 0.0484 - accuracy: 0.9849\n",
      "Epoch 10/20\n",
      "71/71 [==============================] - 4s 51ms/step - loss: 0.0212 - accuracy: 0.9947\n",
      "Epoch 11/20\n",
      "71/71 [==============================] - 3s 47ms/step - loss: 0.0259 - accuracy: 0.9938\n",
      "Epoch 12/20\n",
      "71/71 [==============================] - 3s 47ms/step - loss: 0.0213 - accuracy: 0.9942\n",
      "Epoch 13/20\n",
      "71/71 [==============================] - 3s 49ms/step - loss: 0.0279 - accuracy: 0.9898\n",
      "Epoch 14/20\n",
      "71/71 [==============================] - 3s 48ms/step - loss: 0.0265 - accuracy: 0.9920\n",
      "Epoch 15/20\n",
      "71/71 [==============================] - 3s 47ms/step - loss: 0.0604 - accuracy: 0.9796\n",
      "Epoch 16/20\n",
      "71/71 [==============================] - 3s 47ms/step - loss: 0.0378 - accuracy: 0.9894\n",
      "Epoch 17/20\n",
      "71/71 [==============================] - 3s 47ms/step - loss: 0.0349 - accuracy: 0.9876\n",
      "Epoch 18/20\n",
      "71/71 [==============================] - 3s 49ms/step - loss: 0.0164 - accuracy: 0.9947\n",
      "Epoch 19/20\n",
      "71/71 [==============================] - 4s 51ms/step - loss: 0.0097 - accuracy: 0.9973\n",
      "Epoch 20/20\n",
      "71/71 [==============================] - 3s 48ms/step - loss: 0.0125 - accuracy: 0.9960\n",
      "[INFO] Saving Model for hamster fold 3 ...\n",
      "36/36 [==============================] - 0s 10ms/step\n"
     ]
    },
    {
     "name": "stderr",
     "output_type": "stream",
     "text": [
      "C:\\Users\\rudra\\AppData\\Local\\Temp\\ipykernel_6820\\3249705492.py:34: UserWarning: FigureCanvasAgg is non-interactive, and thus cannot be shown\n",
      "  plt.show()\n"
     ]
    },
    {
     "name": "stdout",
     "output_type": "stream",
     "text": [
      "1/1 [==============================] - 0s 107ms/step\n"
     ]
    },
    {
     "name": "stderr",
     "output_type": "stream",
     "text": [
      "C:\\Users\\rudra\\AppData\\Local\\Temp\\ipykernel_6820\\1767733992.py:15: RuntimeWarning: invalid value encountered in divide\n",
      "  channel_image /= channel_image.std()\n",
      "C:\\Users\\rudra\\AppData\\Local\\Temp\\ipykernel_6820\\1767733992.py:18: RuntimeWarning: invalid value encountered in cast\n",
      "  channel_image = np.clip(channel_image, 0, 255).astype('uint8')\n"
     ]
    },
    {
     "name": "stdout",
     "output_type": "stream",
     "text": [
      "[INFO] Loading images ...\n",
      "[INFO] Processing hare ...\n",
      "[INFO] Processing rest ...\n",
      "[INFO] image extract completed\n",
      "total train samples: \n",
      "3427\n",
      "[INFO] Training network for hare fold 1...\n",
      "Epoch 1/20\n",
      "71/71 [==============================] - 5s 48ms/step - loss: 0.4356 - accuracy: 0.7997\n",
      "Epoch 2/20\n",
      "71/71 [==============================] - 3s 47ms/step - loss: 0.2748 - accuracy: 0.8868\n",
      "Epoch 3/20\n",
      "71/71 [==============================] - 3s 48ms/step - loss: 0.2170 - accuracy: 0.9161\n",
      "Epoch 4/20\n",
      "71/71 [==============================] - 3s 48ms/step - loss: 0.1828 - accuracy: 0.9325\n",
      "Epoch 5/20\n",
      "71/71 [==============================] - 3s 49ms/step - loss: 0.1364 - accuracy: 0.9516\n",
      "Epoch 6/20\n",
      "71/71 [==============================] - 3s 49ms/step - loss: 0.1090 - accuracy: 0.9663\n",
      "Epoch 7/20\n",
      "71/71 [==============================] - 3s 47ms/step - loss: 0.0860 - accuracy: 0.9716\n",
      "Epoch 8/20\n",
      "71/71 [==============================] - 3s 47ms/step - loss: 0.0696 - accuracy: 0.9796\n",
      "Epoch 9/20\n",
      "71/71 [==============================] - 3s 47ms/step - loss: 0.0693 - accuracy: 0.9778\n",
      "Epoch 10/20\n",
      "71/71 [==============================] - 3s 47ms/step - loss: 0.0366 - accuracy: 0.9911\n",
      "Epoch 11/20\n",
      "71/71 [==============================] - 3s 47ms/step - loss: 0.0251 - accuracy: 0.9929\n",
      "Epoch 12/20\n",
      "71/71 [==============================] - 3s 48ms/step - loss: 0.0478 - accuracy: 0.9809\n",
      "Epoch 13/20\n",
      "71/71 [==============================] - 3s 47ms/step - loss: 0.0249 - accuracy: 0.9925\n",
      "Epoch 14/20\n",
      "71/71 [==============================] - 3s 48ms/step - loss: 0.0344 - accuracy: 0.9876\n",
      "Epoch 15/20\n",
      "71/71 [==============================] - 3s 48ms/step - loss: 0.0393 - accuracy: 0.9876\n",
      "Epoch 16/20\n",
      "71/71 [==============================] - 3s 48ms/step - loss: 0.0775 - accuracy: 0.9747\n",
      "Epoch 17/20\n",
      "71/71 [==============================] - 3s 47ms/step - loss: 0.0301 - accuracy: 0.9898\n",
      "Epoch 18/20\n",
      "71/71 [==============================] - 3s 47ms/step - loss: 0.0258 - accuracy: 0.9925\n",
      "Epoch 19/20\n",
      "71/71 [==============================] - 3s 48ms/step - loss: 0.0147 - accuracy: 0.9973\n",
      "Epoch 20/20\n",
      "71/71 [==============================] - 3s 48ms/step - loss: 0.0112 - accuracy: 0.9978\n",
      "[INFO] Saving Model for hare fold 1 ...\n",
      "36/36 [==============================] - 1s 10ms/step\n"
     ]
    },
    {
     "name": "stderr",
     "output_type": "stream",
     "text": [
      "C:\\Users\\rudra\\AppData\\Local\\Temp\\ipykernel_6820\\3249705492.py:34: UserWarning: FigureCanvasAgg is non-interactive, and thus cannot be shown\n",
      "  plt.show()\n"
     ]
    },
    {
     "name": "stdout",
     "output_type": "stream",
     "text": [
      "1/1 [==============================] - 0s 83ms/step\n"
     ]
    },
    {
     "name": "stderr",
     "output_type": "stream",
     "text": [
      "C:\\Users\\rudra\\AppData\\Local\\Temp\\ipykernel_6820\\1767733992.py:15: RuntimeWarning: invalid value encountered in divide\n",
      "  channel_image /= channel_image.std()\n",
      "C:\\Users\\rudra\\AppData\\Local\\Temp\\ipykernel_6820\\1767733992.py:18: RuntimeWarning: invalid value encountered in cast\n",
      "  channel_image = np.clip(channel_image, 0, 255).astype('uint8')\n"
     ]
    },
    {
     "name": "stdout",
     "output_type": "stream",
     "text": [
      "[INFO] Training network for hare fold 2...\n",
      "Epoch 1/20\n",
      "71/71 [==============================] - 4s 49ms/step - loss: 0.4284 - accuracy: 0.7975\n",
      "Epoch 2/20\n",
      "71/71 [==============================] - 3s 48ms/step - loss: 0.3131 - accuracy: 0.8686\n",
      "Epoch 3/20\n",
      "71/71 [==============================] - 3s 48ms/step - loss: 0.2435 - accuracy: 0.9077\n",
      "Epoch 4/20\n",
      "71/71 [==============================] - 3s 48ms/step - loss: 0.1813 - accuracy: 0.9379\n",
      "Epoch 5/20\n",
      "71/71 [==============================] - 3s 48ms/step - loss: 0.1359 - accuracy: 0.9516\n",
      "Epoch 6/20\n",
      "71/71 [==============================] - 3s 47ms/step - loss: 0.1073 - accuracy: 0.9658\n",
      "Epoch 7/20\n",
      "71/71 [==============================] - 3s 47ms/step - loss: 0.0793 - accuracy: 0.9747\n",
      "Epoch 8/20\n",
      "71/71 [==============================] - 3s 47ms/step - loss: 0.0930 - accuracy: 0.9654\n",
      "Epoch 9/20\n",
      "71/71 [==============================] - 3s 48ms/step - loss: 0.0531 - accuracy: 0.9831\n",
      "Epoch 10/20\n",
      "71/71 [==============================] - 3s 47ms/step - loss: 0.0386 - accuracy: 0.9862\n",
      "Epoch 11/20\n",
      "71/71 [==============================] - 3s 47ms/step - loss: 0.0537 - accuracy: 0.9822\n",
      "Epoch 12/20\n",
      "71/71 [==============================] - 3s 48ms/step - loss: 0.0954 - accuracy: 0.9654\n",
      "Epoch 13/20\n",
      "71/71 [==============================] - 3s 47ms/step - loss: 0.0386 - accuracy: 0.9858\n",
      "Epoch 14/20\n",
      "71/71 [==============================] - 3s 47ms/step - loss: 0.0247 - accuracy: 0.9942\n",
      "Epoch 15/20\n",
      "71/71 [==============================] - 3s 47ms/step - loss: 0.0193 - accuracy: 0.9942\n",
      "Epoch 16/20\n",
      "71/71 [==============================] - 3s 47ms/step - loss: 0.0283 - accuracy: 0.9911\n",
      "Epoch 17/20\n",
      "71/71 [==============================] - 3s 48ms/step - loss: 0.0244 - accuracy: 0.9929\n",
      "Epoch 18/20\n",
      "71/71 [==============================] - 3s 47ms/step - loss: 0.0167 - accuracy: 0.9947\n",
      "Epoch 19/20\n",
      "71/71 [==============================] - 3s 49ms/step - loss: 0.0133 - accuracy: 0.9973\n",
      "Epoch 20/20\n",
      "71/71 [==============================] - 3s 49ms/step - loss: 0.0100 - accuracy: 0.9973\n",
      "[INFO] Saving Model for hare fold 2 ...\n",
      "36/36 [==============================] - 1s 11ms/step\n"
     ]
    },
    {
     "name": "stderr",
     "output_type": "stream",
     "text": [
      "C:\\Users\\rudra\\AppData\\Local\\Temp\\ipykernel_6820\\3249705492.py:34: UserWarning: FigureCanvasAgg is non-interactive, and thus cannot be shown\n",
      "  plt.show()\n"
     ]
    },
    {
     "name": "stdout",
     "output_type": "stream",
     "text": [
      "1/1 [==============================] - 0s 87ms/step\n"
     ]
    },
    {
     "name": "stderr",
     "output_type": "stream",
     "text": [
      "C:\\Users\\rudra\\AppData\\Local\\Temp\\ipykernel_6820\\1767733992.py:15: RuntimeWarning: invalid value encountered in divide\n",
      "  channel_image /= channel_image.std()\n",
      "C:\\Users\\rudra\\AppData\\Local\\Temp\\ipykernel_6820\\1767733992.py:18: RuntimeWarning: invalid value encountered in cast\n",
      "  channel_image = np.clip(channel_image, 0, 255).astype('uint8')\n"
     ]
    },
    {
     "name": "stdout",
     "output_type": "stream",
     "text": [
      "[INFO] Training network for hare fold 3...\n",
      "Epoch 1/20\n",
      "71/71 [==============================] - 4s 49ms/step - loss: 0.4582 - accuracy: 0.7861\n",
      "Epoch 2/20\n",
      "71/71 [==============================] - 3s 48ms/step - loss: 0.3503 - accuracy: 0.8464\n",
      "Epoch 3/20\n",
      "71/71 [==============================] - 3s 48ms/step - loss: 0.2461 - accuracy: 0.9055\n",
      "Epoch 4/20\n",
      "71/71 [==============================] - 4s 52ms/step - loss: 0.1870 - accuracy: 0.9259\n",
      "Epoch 5/20\n",
      "71/71 [==============================] - 3s 48ms/step - loss: 0.1827 - accuracy: 0.9299\n",
      "Epoch 6/20\n",
      "71/71 [==============================] - 3s 47ms/step - loss: 0.1215 - accuracy: 0.9543\n",
      "Epoch 7/20\n",
      "71/71 [==============================] - 3s 48ms/step - loss: 0.0953 - accuracy: 0.9658\n",
      "Epoch 8/20\n",
      "71/71 [==============================] - 3s 48ms/step - loss: 0.0846 - accuracy: 0.9725\n",
      "Epoch 9/20\n",
      "71/71 [==============================] - 3s 48ms/step - loss: 0.0610 - accuracy: 0.9827\n",
      "Epoch 10/20\n",
      "71/71 [==============================] - 3s 48ms/step - loss: 0.0459 - accuracy: 0.9867\n",
      "Epoch 11/20\n",
      "71/71 [==============================] - 3s 48ms/step - loss: 0.0462 - accuracy: 0.9845\n",
      "Epoch 12/20\n",
      "71/71 [==============================] - 3s 48ms/step - loss: 0.0323 - accuracy: 0.9916\n",
      "Epoch 13/20\n",
      "71/71 [==============================] - 3s 48ms/step - loss: 0.0416 - accuracy: 0.9880\n",
      "Epoch 14/20\n",
      "71/71 [==============================] - 3s 48ms/step - loss: 0.0213 - accuracy: 0.9942\n",
      "Epoch 15/20\n",
      "71/71 [==============================] - 3s 48ms/step - loss: 0.0199 - accuracy: 0.9925\n",
      "Epoch 16/20\n",
      "71/71 [==============================] - 3s 48ms/step - loss: 0.0356 - accuracy: 0.9858\n",
      "Epoch 17/20\n",
      "71/71 [==============================] - 3s 47ms/step - loss: 0.0550 - accuracy: 0.9814\n",
      "Epoch 18/20\n",
      "71/71 [==============================] - 3s 49ms/step - loss: 0.0302 - accuracy: 0.9893\n",
      "Epoch 19/20\n",
      "71/71 [==============================] - 4s 49ms/step - loss: 0.0199 - accuracy: 0.9947\n",
      "Epoch 20/20\n",
      "71/71 [==============================] - 3s 48ms/step - loss: 0.0171 - accuracy: 0.9920\n",
      "[INFO] Saving Model for hare fold 3 ...\n",
      "36/36 [==============================] - 1s 10ms/step\n"
     ]
    },
    {
     "name": "stderr",
     "output_type": "stream",
     "text": [
      "C:\\Users\\rudra\\AppData\\Local\\Temp\\ipykernel_6820\\3249705492.py:34: UserWarning: FigureCanvasAgg is non-interactive, and thus cannot be shown\n",
      "  plt.show()\n"
     ]
    },
    {
     "name": "stdout",
     "output_type": "stream",
     "text": [
      "1/1 [==============================] - 0s 83ms/step\n"
     ]
    },
    {
     "name": "stderr",
     "output_type": "stream",
     "text": [
      "C:\\Users\\rudra\\AppData\\Local\\Temp\\ipykernel_6820\\1767733992.py:15: RuntimeWarning: invalid value encountered in divide\n",
      "  channel_image /= channel_image.std()\n",
      "C:\\Users\\rudra\\AppData\\Local\\Temp\\ipykernel_6820\\1767733992.py:18: RuntimeWarning: invalid value encountered in cast\n",
      "  channel_image = np.clip(channel_image, 0, 255).astype('uint8')\n"
     ]
    },
    {
     "name": "stdout",
     "output_type": "stream",
     "text": [
      "[INFO] Loading images ...\n",
      "[INFO] Processing hedgehog ...\n",
      "[INFO] Processing rest ...\n",
      "[INFO] image extract completed\n",
      "total train samples: \n",
      "3416\n",
      "[INFO] Training network for hedgehog fold 1...\n",
      "Epoch 1/20\n",
      "71/71 [==============================] - 5s 50ms/step - loss: 0.5178 - accuracy: 0.7509\n",
      "Epoch 2/20\n",
      "71/71 [==============================] - 3s 49ms/step - loss: 0.2980 - accuracy: 0.8788\n",
      "Epoch 3/20\n",
      "71/71 [==============================] - 3s 49ms/step - loss: 0.2137 - accuracy: 0.9203\n",
      "Epoch 4/20\n",
      "71/71 [==============================] - 4s 50ms/step - loss: 0.1355 - accuracy: 0.9514\n",
      "Epoch 5/20\n",
      "71/71 [==============================] - 3s 47ms/step - loss: 0.1048 - accuracy: 0.9621\n",
      "Epoch 6/20\n",
      "71/71 [==============================] - 3s 47ms/step - loss: 0.0601 - accuracy: 0.9831\n",
      "Epoch 7/20\n",
      "71/71 [==============================] - 3s 48ms/step - loss: 0.0418 - accuracy: 0.9889\n",
      "Epoch 8/20\n",
      "71/71 [==============================] - 3s 47ms/step - loss: 0.0502 - accuracy: 0.9808\n",
      "Epoch 9/20\n",
      "71/71 [==============================] - 3s 47ms/step - loss: 0.0339 - accuracy: 0.9911\n",
      "Epoch 10/20\n",
      "71/71 [==============================] - 3s 49ms/step - loss: 0.0315 - accuracy: 0.9906\n",
      "Epoch 11/20\n",
      "71/71 [==============================] - 3s 48ms/step - loss: 0.0422 - accuracy: 0.9817\n",
      "Epoch 12/20\n",
      "71/71 [==============================] - 3s 47ms/step - loss: 0.0237 - accuracy: 0.9920\n",
      "Epoch 13/20\n",
      "71/71 [==============================] - 3s 48ms/step - loss: 0.0209 - accuracy: 0.9947\n",
      "Epoch 14/20\n",
      "71/71 [==============================] - 3s 47ms/step - loss: 0.0562 - accuracy: 0.9759\n",
      "Epoch 15/20\n",
      "71/71 [==============================] - 3s 47ms/step - loss: 0.0405 - accuracy: 0.9844\n",
      "Epoch 16/20\n",
      "71/71 [==============================] - 3s 47ms/step - loss: 0.0811 - accuracy: 0.9733\n",
      "Epoch 17/20\n",
      "71/71 [==============================] - 3s 48ms/step - loss: 0.0383 - accuracy: 0.9880\n",
      "Epoch 18/20\n",
      "71/71 [==============================] - 3s 48ms/step - loss: 0.0223 - accuracy: 0.9920\n",
      "Epoch 19/20\n",
      "71/71 [==============================] - 3s 47ms/step - loss: 0.0065 - accuracy: 0.9996\n",
      "Epoch 20/20\n",
      "71/71 [==============================] - 3s 48ms/step - loss: 0.0042 - accuracy: 0.9991\n",
      "[INFO] Saving Model for hedgehog fold 1 ...\n",
      "36/36 [==============================] - 1s 18ms/step\n"
     ]
    },
    {
     "name": "stderr",
     "output_type": "stream",
     "text": [
      "C:\\Users\\rudra\\AppData\\Local\\Temp\\ipykernel_6820\\3249705492.py:34: UserWarning: FigureCanvasAgg is non-interactive, and thus cannot be shown\n",
      "  plt.show()\n"
     ]
    },
    {
     "name": "stdout",
     "output_type": "stream",
     "text": [
      "1/1 [==============================] - 0s 125ms/step\n"
     ]
    },
    {
     "name": "stderr",
     "output_type": "stream",
     "text": [
      "C:\\Users\\rudra\\AppData\\Local\\Temp\\ipykernel_6820\\1767733992.py:15: RuntimeWarning: invalid value encountered in divide\n",
      "  channel_image /= channel_image.std()\n",
      "C:\\Users\\rudra\\AppData\\Local\\Temp\\ipykernel_6820\\1767733992.py:18: RuntimeWarning: invalid value encountered in cast\n",
      "  channel_image = np.clip(channel_image, 0, 255).astype('uint8')\n"
     ]
    },
    {
     "name": "stdout",
     "output_type": "stream",
     "text": [
      "[INFO] Training network for hedgehog fold 2...\n",
      "Epoch 1/20\n",
      "71/71 [==============================] - 4s 49ms/step - loss: 0.5451 - accuracy: 0.7267\n",
      "Epoch 2/20\n",
      "71/71 [==============================] - 3s 49ms/step - loss: 0.3719 - accuracy: 0.8405\n",
      "Epoch 3/20\n",
      "71/71 [==============================] - 3s 48ms/step - loss: 0.2469 - accuracy: 0.9016\n",
      "Epoch 4/20\n",
      "71/71 [==============================] - 3s 48ms/step - loss: 0.1647 - accuracy: 0.9367\n",
      "Epoch 5/20\n",
      "71/71 [==============================] - 3s 48ms/step - loss: 0.1320 - accuracy: 0.9528\n",
      "Epoch 6/20\n",
      "71/71 [==============================] - 3s 49ms/step - loss: 0.1089 - accuracy: 0.9621\n",
      "Epoch 7/20\n",
      "71/71 [==============================] - 3s 47ms/step - loss: 0.0579 - accuracy: 0.9800\n",
      "Epoch 8/20\n",
      "71/71 [==============================] - 3s 47ms/step - loss: 0.0280 - accuracy: 0.9938\n",
      "Epoch 9/20\n",
      "71/71 [==============================] - 3s 47ms/step - loss: 0.0324 - accuracy: 0.9938\n",
      "Epoch 10/20\n",
      "71/71 [==============================] - 3s 47ms/step - loss: 0.0221 - accuracy: 0.9951\n",
      "Epoch 11/20\n",
      "71/71 [==============================] - 3s 47ms/step - loss: 0.0159 - accuracy: 0.9969\n",
      "Epoch 12/20\n",
      "71/71 [==============================] - 3s 47ms/step - loss: 0.0430 - accuracy: 0.9871\n",
      "Epoch 13/20\n",
      "71/71 [==============================] - 3s 47ms/step - loss: 0.0477 - accuracy: 0.9817\n",
      "Epoch 14/20\n",
      "71/71 [==============================] - 3s 47ms/step - loss: 0.0424 - accuracy: 0.9849\n",
      "Epoch 15/20\n",
      "71/71 [==============================] - 3s 47ms/step - loss: 0.0644 - accuracy: 0.9764\n",
      "Epoch 16/20\n",
      "71/71 [==============================] - 3s 47ms/step - loss: 0.0485 - accuracy: 0.9813\n",
      "Epoch 17/20\n",
      "71/71 [==============================] - 3s 47ms/step - loss: 0.0479 - accuracy: 0.9835\n",
      "Epoch 18/20\n",
      "71/71 [==============================] - 3s 47ms/step - loss: 0.0311 - accuracy: 0.9902\n",
      "Epoch 19/20\n",
      "71/71 [==============================] - 3s 47ms/step - loss: 0.0101 - accuracy: 0.9987\n",
      "Epoch 20/20\n",
      "71/71 [==============================] - 3s 48ms/step - loss: 0.0376 - accuracy: 0.9871\n",
      "[INFO] Saving Model for hedgehog fold 2 ...\n",
      "36/36 [==============================] - 1s 10ms/step\n"
     ]
    },
    {
     "name": "stderr",
     "output_type": "stream",
     "text": [
      "C:\\Users\\rudra\\AppData\\Local\\Temp\\ipykernel_6820\\3249705492.py:34: UserWarning: FigureCanvasAgg is non-interactive, and thus cannot be shown\n",
      "  plt.show()\n"
     ]
    },
    {
     "name": "stdout",
     "output_type": "stream",
     "text": [
      "1/1 [==============================] - 0s 83ms/step\n"
     ]
    },
    {
     "name": "stderr",
     "output_type": "stream",
     "text": [
      "C:\\Users\\rudra\\AppData\\Local\\Temp\\ipykernel_6820\\1767733992.py:15: RuntimeWarning: invalid value encountered in divide\n",
      "  channel_image /= channel_image.std()\n",
      "C:\\Users\\rudra\\AppData\\Local\\Temp\\ipykernel_6820\\1767733992.py:18: RuntimeWarning: invalid value encountered in cast\n",
      "  channel_image = np.clip(channel_image, 0, 255).astype('uint8')\n"
     ]
    },
    {
     "name": "stdout",
     "output_type": "stream",
     "text": [
      "[INFO] Training network for hedgehog fold 3...\n",
      "Epoch 1/20\n",
      "71/71 [==============================] - 4s 48ms/step - loss: 0.5591 - accuracy: 0.7214\n",
      "Epoch 2/20\n",
      "71/71 [==============================] - 3s 48ms/step - loss: 0.3669 - accuracy: 0.8411\n",
      "Epoch 3/20\n",
      "71/71 [==============================] - 3s 47ms/step - loss: 0.2653 - accuracy: 0.9003\n",
      "Epoch 4/20\n",
      "71/71 [==============================] - 3s 47ms/step - loss: 0.1916 - accuracy: 0.9270\n",
      "Epoch 5/20\n",
      "71/71 [==============================] - 3s 47ms/step - loss: 0.1188 - accuracy: 0.9573\n",
      "Epoch 6/20\n",
      "71/71 [==============================] - 3s 47ms/step - loss: 0.0792 - accuracy: 0.9715\n",
      "Epoch 7/20\n",
      "71/71 [==============================] - 3s 47ms/step - loss: 0.0556 - accuracy: 0.9822\n",
      "Epoch 8/20\n",
      "71/71 [==============================] - 3s 47ms/step - loss: 0.1288 - accuracy: 0.9533\n",
      "Epoch 9/20\n",
      "71/71 [==============================] - 3s 48ms/step - loss: 0.0521 - accuracy: 0.9831\n",
      "Epoch 10/20\n",
      "71/71 [==============================] - 3s 47ms/step - loss: 0.0550 - accuracy: 0.9844\n",
      "Epoch 11/20\n",
      "71/71 [==============================] - 3s 47ms/step - loss: 0.0416 - accuracy: 0.9858\n",
      "Epoch 12/20\n",
      "71/71 [==============================] - 3s 47ms/step - loss: 0.0360 - accuracy: 0.9875\n",
      "Epoch 13/20\n",
      "71/71 [==============================] - 3s 47ms/step - loss: 0.0574 - accuracy: 0.9768\n",
      "Epoch 14/20\n",
      "71/71 [==============================] - 3s 48ms/step - loss: 0.0161 - accuracy: 0.9973\n",
      "Epoch 15/20\n",
      "71/71 [==============================] - 3s 47ms/step - loss: 0.0516 - accuracy: 0.9835\n",
      "Epoch 16/20\n",
      "71/71 [==============================] - 3s 47ms/step - loss: 0.0298 - accuracy: 0.9902\n",
      "Epoch 17/20\n",
      "71/71 [==============================] - 3s 47ms/step - loss: 0.0185 - accuracy: 0.9964\n",
      "Epoch 18/20\n",
      "71/71 [==============================] - 3s 47ms/step - loss: 0.0206 - accuracy: 0.9951\n",
      "Epoch 19/20\n",
      "71/71 [==============================] - 3s 47ms/step - loss: 0.0163 - accuracy: 0.9951\n",
      "Epoch 20/20\n",
      "71/71 [==============================] - 3s 47ms/step - loss: 0.0113 - accuracy: 0.9960\n",
      "[INFO] Saving Model for hedgehog fold 3 ...\n",
      "36/36 [==============================] - 1s 10ms/step\n"
     ]
    },
    {
     "name": "stderr",
     "output_type": "stream",
     "text": [
      "C:\\Users\\rudra\\AppData\\Local\\Temp\\ipykernel_6820\\3249705492.py:34: UserWarning: FigureCanvasAgg is non-interactive, and thus cannot be shown\n",
      "  plt.show()\n"
     ]
    },
    {
     "name": "stdout",
     "output_type": "stream",
     "text": [
      "1/1 [==============================] - 0s 49ms/step\n"
     ]
    },
    {
     "name": "stderr",
     "output_type": "stream",
     "text": [
      "C:\\Users\\rudra\\AppData\\Local\\Temp\\ipykernel_6820\\1767733992.py:15: RuntimeWarning: invalid value encountered in divide\n",
      "  channel_image /= channel_image.std()\n",
      "C:\\Users\\rudra\\AppData\\Local\\Temp\\ipykernel_6820\\1767733992.py:18: RuntimeWarning: invalid value encountered in cast\n",
      "  channel_image = np.clip(channel_image, 0, 255).astype('uint8')\n"
     ]
    },
    {
     "name": "stdout",
     "output_type": "stream",
     "text": [
      "[INFO] Loading images ...\n",
      "[INFO] Processing hippopotamus ...\n",
      "[INFO] Processing rest ...\n",
      "[INFO] image extract completed\n",
      "total train samples: \n",
      "3415\n",
      "[INFO] Training network for hippopotamus fold 1...\n",
      "Epoch 1/20\n",
      "71/71 [==============================] - 5s 49ms/step - loss: 0.5560 - accuracy: 0.7342\n",
      "Epoch 2/20\n",
      "71/71 [==============================] - 3s 49ms/step - loss: 0.4068 - accuracy: 0.8209\n",
      "Epoch 3/20\n",
      "71/71 [==============================] - 3s 49ms/step - loss: 0.3606 - accuracy: 0.8427\n",
      "Epoch 4/20\n",
      "71/71 [==============================] - 3s 48ms/step - loss: 0.2598 - accuracy: 0.9015\n",
      "Epoch 5/20\n",
      "71/71 [==============================] - 3s 47ms/step - loss: 0.1765 - accuracy: 0.9305\n",
      "Epoch 6/20\n",
      "71/71 [==============================] - 3s 47ms/step - loss: 0.1278 - accuracy: 0.9541\n",
      "Epoch 7/20\n",
      "71/71 [==============================] - 3s 47ms/step - loss: 0.0771 - accuracy: 0.9795\n",
      "Epoch 8/20\n",
      "71/71 [==============================] - 3s 47ms/step - loss: 0.0569 - accuracy: 0.9848\n",
      "Epoch 9/20\n",
      "71/71 [==============================] - 3s 47ms/step - loss: 0.0799 - accuracy: 0.9742\n",
      "Epoch 10/20\n",
      "71/71 [==============================] - 3s 47ms/step - loss: 0.0475 - accuracy: 0.9871\n",
      "Epoch 11/20\n",
      "71/71 [==============================] - 3s 47ms/step - loss: 0.0839 - accuracy: 0.9719\n",
      "Epoch 12/20\n",
      "71/71 [==============================] - 3s 47ms/step - loss: 0.0549 - accuracy: 0.9853\n",
      "Epoch 13/20\n",
      "71/71 [==============================] - 3s 47ms/step - loss: 0.0676 - accuracy: 0.9777\n",
      "Epoch 14/20\n",
      "71/71 [==============================] - 3s 49ms/step - loss: 0.0612 - accuracy: 0.9786\n",
      "Epoch 15/20\n",
      "71/71 [==============================] - 3s 49ms/step - loss: 0.0442 - accuracy: 0.9857\n",
      "Epoch 16/20\n",
      "71/71 [==============================] - 3s 48ms/step - loss: 0.0612 - accuracy: 0.9804\n",
      "Epoch 17/20\n",
      "71/71 [==============================] - 3s 49ms/step - loss: 0.0390 - accuracy: 0.9880\n",
      "Epoch 18/20\n",
      "71/71 [==============================] - 3s 49ms/step - loss: 0.0436 - accuracy: 0.9848\n",
      "Epoch 19/20\n",
      "71/71 [==============================] - 3s 48ms/step - loss: 0.0337 - accuracy: 0.9889\n",
      "Epoch 20/20\n",
      "71/71 [==============================] - 3s 48ms/step - loss: 0.0330 - accuracy: 0.9915\n",
      "[INFO] Saving Model for hippopotamus fold 1 ...\n",
      "36/36 [==============================] - 0s 10ms/step\n"
     ]
    },
    {
     "name": "stderr",
     "output_type": "stream",
     "text": [
      "C:\\Users\\rudra\\AppData\\Local\\Temp\\ipykernel_6820\\3249705492.py:34: UserWarning: FigureCanvasAgg is non-interactive, and thus cannot be shown\n",
      "  plt.show()\n"
     ]
    },
    {
     "name": "stdout",
     "output_type": "stream",
     "text": [
      "1/1 [==============================] - 0s 74ms/step\n"
     ]
    },
    {
     "name": "stderr",
     "output_type": "stream",
     "text": [
      "C:\\Users\\rudra\\AppData\\Local\\Temp\\ipykernel_6820\\1767733992.py:15: RuntimeWarning: invalid value encountered in divide\n",
      "  channel_image /= channel_image.std()\n",
      "C:\\Users\\rudra\\AppData\\Local\\Temp\\ipykernel_6820\\1767733992.py:18: RuntimeWarning: invalid value encountered in cast\n",
      "  channel_image = np.clip(channel_image, 0, 255).astype('uint8')\n"
     ]
    },
    {
     "name": "stdout",
     "output_type": "stream",
     "text": [
      "[INFO] Training network for hippopotamus fold 2...\n",
      "Epoch 1/20\n",
      "71/71 [==============================] - 4s 48ms/step - loss: 0.5691 - accuracy: 0.7210\n",
      "Epoch 2/20\n",
      "71/71 [==============================] - 3s 48ms/step - loss: 0.3984 - accuracy: 0.8143\n",
      "Epoch 3/20\n",
      "71/71 [==============================] - 3s 47ms/step - loss: 0.3356 - accuracy: 0.8517\n",
      "Epoch 4/20\n",
      "71/71 [==============================] - 3s 48ms/step - loss: 0.2544 - accuracy: 0.8953\n",
      "Epoch 5/20\n",
      "71/71 [==============================] - 3s 48ms/step - loss: 0.2278 - accuracy: 0.9122\n",
      "Epoch 6/20\n",
      "71/71 [==============================] - 3s 48ms/step - loss: 0.1791 - accuracy: 0.9323\n",
      "Epoch 7/20\n",
      "71/71 [==============================] - 3s 47ms/step - loss: 0.0987 - accuracy: 0.9661\n",
      "Epoch 8/20\n",
      "71/71 [==============================] - 3s 48ms/step - loss: 0.0781 - accuracy: 0.9728\n",
      "Epoch 9/20\n",
      "71/71 [==============================] - 3s 47ms/step - loss: 0.0901 - accuracy: 0.9702\n",
      "Epoch 10/20\n",
      "71/71 [==============================] - 3s 47ms/step - loss: 0.0404 - accuracy: 0.9884\n",
      "Epoch 11/20\n",
      "71/71 [==============================] - 3s 46ms/step - loss: 0.0295 - accuracy: 0.9906\n",
      "Epoch 12/20\n",
      "71/71 [==============================] - 3s 46ms/step - loss: 0.0223 - accuracy: 0.9942\n",
      "Epoch 13/20\n",
      "71/71 [==============================] - 3s 46ms/step - loss: 0.0220 - accuracy: 0.9924\n",
      "Epoch 14/20\n",
      "71/71 [==============================] - 3s 48ms/step - loss: 0.0299 - accuracy: 0.9906\n",
      "Epoch 15/20\n",
      "71/71 [==============================] - 3s 48ms/step - loss: 0.0301 - accuracy: 0.9866\n",
      "Epoch 16/20\n",
      "71/71 [==============================] - 3s 47ms/step - loss: 0.0440 - accuracy: 0.9884\n",
      "Epoch 17/20\n",
      "71/71 [==============================] - 3s 48ms/step - loss: 0.0273 - accuracy: 0.9924\n",
      "Epoch 18/20\n",
      "71/71 [==============================] - 3s 47ms/step - loss: 0.0256 - accuracy: 0.9906\n",
      "Epoch 19/20\n",
      "71/71 [==============================] - 3s 47ms/step - loss: 0.0413 - accuracy: 0.9840\n",
      "Epoch 20/20\n",
      "71/71 [==============================] - 3s 47ms/step - loss: 0.0153 - accuracy: 0.9969\n",
      "[INFO] Saving Model for hippopotamus fold 2 ...\n",
      "36/36 [==============================] - 0s 10ms/step\n"
     ]
    },
    {
     "name": "stderr",
     "output_type": "stream",
     "text": [
      "C:\\Users\\rudra\\AppData\\Local\\Temp\\ipykernel_6820\\3249705492.py:34: UserWarning: FigureCanvasAgg is non-interactive, and thus cannot be shown\n",
      "  plt.show()\n"
     ]
    },
    {
     "name": "stdout",
     "output_type": "stream",
     "text": [
      "1/1 [==============================] - 0s 71ms/step\n"
     ]
    },
    {
     "name": "stderr",
     "output_type": "stream",
     "text": [
      "C:\\Users\\rudra\\AppData\\Local\\Temp\\ipykernel_6820\\1767733992.py:15: RuntimeWarning: invalid value encountered in divide\n",
      "  channel_image /= channel_image.std()\n",
      "C:\\Users\\rudra\\AppData\\Local\\Temp\\ipykernel_6820\\1767733992.py:18: RuntimeWarning: invalid value encountered in cast\n",
      "  channel_image = np.clip(channel_image, 0, 255).astype('uint8')\n"
     ]
    },
    {
     "name": "stdout",
     "output_type": "stream",
     "text": [
      "[INFO] Training network for hippopotamus fold 3...\n",
      "Epoch 1/20\n",
      "71/71 [==============================] - 4s 49ms/step - loss: 0.5626 - accuracy: 0.7174\n",
      "Epoch 2/20\n",
      "71/71 [==============================] - 3s 47ms/step - loss: 0.3990 - accuracy: 0.8196\n",
      "Epoch 3/20\n",
      "71/71 [==============================] - 3s 48ms/step - loss: 0.2857 - accuracy: 0.8922\n",
      "Epoch 4/20\n",
      "71/71 [==============================] - 3s 47ms/step - loss: 0.1943 - accuracy: 0.9314\n",
      "Epoch 5/20\n",
      "71/71 [==============================] - 3s 47ms/step - loss: 0.1330 - accuracy: 0.9523\n",
      "Epoch 6/20\n",
      "71/71 [==============================] - 3s 47ms/step - loss: 0.1503 - accuracy: 0.9448\n",
      "Epoch 7/20\n",
      "71/71 [==============================] - 3s 47ms/step - loss: 0.0963 - accuracy: 0.9630\n",
      "Epoch 8/20\n",
      "71/71 [==============================] - 3s 47ms/step - loss: 0.0741 - accuracy: 0.9782\n",
      "Epoch 9/20\n",
      "71/71 [==============================] - 3s 47ms/step - loss: 0.0647 - accuracy: 0.9804\n",
      "Epoch 10/20\n",
      "71/71 [==============================] - 3s 47ms/step - loss: 0.0271 - accuracy: 0.9938\n",
      "Epoch 11/20\n",
      "71/71 [==============================] - 3s 47ms/step - loss: 0.0335 - accuracy: 0.9911\n",
      "Epoch 12/20\n",
      "71/71 [==============================] - 3s 47ms/step - loss: 0.0762 - accuracy: 0.9724\n",
      "Epoch 13/20\n",
      "71/71 [==============================] - 3s 47ms/step - loss: 0.0481 - accuracy: 0.9866\n",
      "Epoch 14/20\n",
      "71/71 [==============================] - 3s 47ms/step - loss: 0.0159 - accuracy: 0.9969\n",
      "Epoch 15/20\n",
      "71/71 [==============================] - 3s 47ms/step - loss: 0.0236 - accuracy: 0.9929\n",
      "Epoch 16/20\n",
      "71/71 [==============================] - 3s 47ms/step - loss: 0.0073 - accuracy: 0.9991\n",
      "Epoch 17/20\n",
      "71/71 [==============================] - 3s 47ms/step - loss: 0.0368 - accuracy: 0.9893\n",
      "Epoch 18/20\n",
      "71/71 [==============================] - 3s 47ms/step - loss: 0.0221 - accuracy: 0.9942\n",
      "Epoch 19/20\n",
      "71/71 [==============================] - 3s 47ms/step - loss: 0.0924 - accuracy: 0.9724\n",
      "Epoch 20/20\n",
      "71/71 [==============================] - 3s 47ms/step - loss: 0.0390 - accuracy: 0.9835\n",
      "[INFO] Saving Model for hippopotamus fold 3 ...\n",
      "36/36 [==============================] - 1s 11ms/step\n"
     ]
    },
    {
     "name": "stderr",
     "output_type": "stream",
     "text": [
      "C:\\Users\\rudra\\AppData\\Local\\Temp\\ipykernel_6820\\3249705492.py:34: UserWarning: FigureCanvasAgg is non-interactive, and thus cannot be shown\n",
      "  plt.show()\n"
     ]
    },
    {
     "name": "stdout",
     "output_type": "stream",
     "text": [
      "1/1 [==============================] - 0s 78ms/step\n"
     ]
    },
    {
     "name": "stderr",
     "output_type": "stream",
     "text": [
      "C:\\Users\\rudra\\AppData\\Local\\Temp\\ipykernel_6820\\1767733992.py:15: RuntimeWarning: invalid value encountered in divide\n",
      "  channel_image /= channel_image.std()\n",
      "C:\\Users\\rudra\\AppData\\Local\\Temp\\ipykernel_6820\\1767733992.py:18: RuntimeWarning: invalid value encountered in cast\n",
      "  channel_image = np.clip(channel_image, 0, 255).astype('uint8')\n"
     ]
    },
    {
     "name": "stdout",
     "output_type": "stream",
     "text": [
      "[INFO] Loading images ...\n",
      "[INFO] Processing hornbill ...\n",
      "[INFO] Processing rest ...\n",
      "[INFO] image extract completed\n",
      "total train samples: \n",
      "3430\n",
      "[INFO] Training network for hornbill fold 1...\n",
      "Epoch 1/20\n",
      "71/71 [==============================] - 5s 48ms/step - loss: 0.5631 - accuracy: 0.7095\n",
      "Epoch 2/20\n",
      "71/71 [==============================] - 3s 48ms/step - loss: 0.3573 - accuracy: 0.8483\n",
      "Epoch 3/20\n",
      "71/71 [==============================] - 3s 47ms/step - loss: 0.2353 - accuracy: 0.9099\n",
      "Epoch 4/20\n",
      "71/71 [==============================] - 3s 47ms/step - loss: 0.1485 - accuracy: 0.9476\n",
      "Epoch 5/20\n",
      "71/71 [==============================] - 3s 47ms/step - loss: 0.1749 - accuracy: 0.9326\n",
      "Epoch 6/20\n",
      "71/71 [==============================] - 3s 47ms/step - loss: 0.0886 - accuracy: 0.9703\n",
      "Epoch 7/20\n",
      "71/71 [==============================] - 3s 47ms/step - loss: 0.0501 - accuracy: 0.9867\n",
      "Epoch 8/20\n",
      "71/71 [==============================] - 3s 47ms/step - loss: 0.0362 - accuracy: 0.9885\n",
      "Epoch 9/20\n",
      "71/71 [==============================] - 3s 47ms/step - loss: 0.0417 - accuracy: 0.9871\n",
      "Epoch 10/20\n",
      "71/71 [==============================] - 3s 47ms/step - loss: 0.0437 - accuracy: 0.9858\n",
      "Epoch 11/20\n",
      "71/71 [==============================] - 3s 47ms/step - loss: 0.0257 - accuracy: 0.9942\n",
      "Epoch 12/20\n",
      "71/71 [==============================] - 3s 47ms/step - loss: 0.0254 - accuracy: 0.9938\n",
      "Epoch 13/20\n",
      "71/71 [==============================] - 3s 47ms/step - loss: 0.0632 - accuracy: 0.9760\n",
      "Epoch 14/20\n",
      "71/71 [==============================] - 3s 49ms/step - loss: 0.0261 - accuracy: 0.9929\n",
      "Epoch 15/20\n",
      "71/71 [==============================] - 4s 49ms/step - loss: 0.0152 - accuracy: 0.9965\n",
      "Epoch 16/20\n",
      "71/71 [==============================] - 3s 47ms/step - loss: 0.0184 - accuracy: 0.9942\n",
      "Epoch 17/20\n",
      "71/71 [==============================] - 3s 47ms/step - loss: 0.0174 - accuracy: 0.9942\n",
      "Epoch 18/20\n",
      "71/71 [==============================] - 3s 47ms/step - loss: 0.0106 - accuracy: 0.9982\n",
      "Epoch 19/20\n",
      "71/71 [==============================] - 3s 47ms/step - loss: 0.0127 - accuracy: 0.9960\n",
      "Epoch 20/20\n",
      "71/71 [==============================] - 3s 47ms/step - loss: 0.0179 - accuracy: 0.9956\n",
      "[INFO] Saving Model for hornbill fold 1 ...\n",
      "36/36 [==============================] - 0s 10ms/step\n"
     ]
    },
    {
     "name": "stderr",
     "output_type": "stream",
     "text": [
      "C:\\Users\\rudra\\AppData\\Local\\Temp\\ipykernel_6820\\3249705492.py:34: UserWarning: FigureCanvasAgg is non-interactive, and thus cannot be shown\n",
      "  plt.show()\n"
     ]
    },
    {
     "name": "stdout",
     "output_type": "stream",
     "text": [
      "1/1 [==============================] - 0s 93ms/step\n"
     ]
    },
    {
     "name": "stderr",
     "output_type": "stream",
     "text": [
      "C:\\Users\\rudra\\AppData\\Local\\Temp\\ipykernel_6820\\1767733992.py:15: RuntimeWarning: invalid value encountered in divide\n",
      "  channel_image /= channel_image.std()\n",
      "C:\\Users\\rudra\\AppData\\Local\\Temp\\ipykernel_6820\\1767733992.py:18: RuntimeWarning: invalid value encountered in cast\n",
      "  channel_image = np.clip(channel_image, 0, 255).astype('uint8')\n"
     ]
    },
    {
     "name": "stdout",
     "output_type": "stream",
     "text": [
      "[INFO] Training network for hornbill fold 2...\n",
      "Epoch 1/20\n",
      "71/71 [==============================] - 4s 49ms/step - loss: 0.5242 - accuracy: 0.7386\n",
      "Epoch 2/20\n",
      "71/71 [==============================] - 3s 48ms/step - loss: 0.2938 - accuracy: 0.8834\n",
      "Epoch 3/20\n",
      "71/71 [==============================] - 3s 47ms/step - loss: 0.1845 - accuracy: 0.9299\n",
      "Epoch 4/20\n",
      "71/71 [==============================] - 3s 47ms/step - loss: 0.1499 - accuracy: 0.9450\n",
      "Epoch 5/20\n",
      "71/71 [==============================] - 3s 47ms/step - loss: 0.1173 - accuracy: 0.9561\n",
      "Epoch 6/20\n",
      "71/71 [==============================] - 3s 47ms/step - loss: 0.0649 - accuracy: 0.9814\n",
      "Epoch 7/20\n",
      "71/71 [==============================] - 3s 47ms/step - loss: 0.0572 - accuracy: 0.9792\n",
      "Epoch 8/20\n",
      "71/71 [==============================] - 3s 47ms/step - loss: 0.0514 - accuracy: 0.9836\n",
      "Epoch 9/20\n",
      "71/71 [==============================] - 3s 47ms/step - loss: 0.0570 - accuracy: 0.9809\n",
      "Epoch 10/20\n",
      "71/71 [==============================] - 3s 47ms/step - loss: 0.0528 - accuracy: 0.9818\n",
      "Epoch 11/20\n",
      "71/71 [==============================] - 3s 47ms/step - loss: 0.0757 - accuracy: 0.9707\n",
      "Epoch 12/20\n",
      "71/71 [==============================] - 3s 47ms/step - loss: 0.0246 - accuracy: 0.9920\n",
      "Epoch 13/20\n",
      "71/71 [==============================] - 3s 47ms/step - loss: 0.0238 - accuracy: 0.9942\n",
      "Epoch 14/20\n",
      "71/71 [==============================] - 3s 47ms/step - loss: 0.0197 - accuracy: 0.9951\n",
      "Epoch 15/20\n",
      "71/71 [==============================] - 3s 47ms/step - loss: 0.0198 - accuracy: 0.9933\n",
      "Epoch 16/20\n",
      "71/71 [==============================] - 3s 47ms/step - loss: 0.0125 - accuracy: 0.9965\n",
      "Epoch 17/20\n",
      "71/71 [==============================] - 3s 47ms/step - loss: 0.0175 - accuracy: 0.9956\n",
      "Epoch 18/20\n",
      "71/71 [==============================] - 3s 47ms/step - loss: 0.0236 - accuracy: 0.9925\n",
      "Epoch 19/20\n",
      "71/71 [==============================] - 3s 46ms/step - loss: 0.0216 - accuracy: 0.9907\n",
      "Epoch 20/20\n",
      "71/71 [==============================] - 3s 47ms/step - loss: 0.0173 - accuracy: 0.9951\n",
      "[INFO] Saving Model for hornbill fold 2 ...\n",
      "36/36 [==============================] - 0s 11ms/step\n"
     ]
    },
    {
     "name": "stderr",
     "output_type": "stream",
     "text": [
      "C:\\Users\\rudra\\AppData\\Local\\Temp\\ipykernel_6820\\3249705492.py:34: UserWarning: FigureCanvasAgg is non-interactive, and thus cannot be shown\n",
      "  plt.show()\n"
     ]
    },
    {
     "name": "stdout",
     "output_type": "stream",
     "text": [
      "1/1 [==============================] - 0s 72ms/step\n",
      "[INFO] Training network for hornbill fold 3...\n",
      "Epoch 1/20\n",
      "71/71 [==============================] - 4s 48ms/step - loss: 0.4517 - accuracy: 0.7914\n",
      "Epoch 2/20\n",
      "71/71 [==============================] - 3s 48ms/step - loss: 0.2895 - accuracy: 0.8798\n",
      "Epoch 3/20\n",
      "71/71 [==============================] - 3s 47ms/step - loss: 0.2199 - accuracy: 0.9100\n",
      "Epoch 4/20\n",
      "71/71 [==============================] - 3s 48ms/step - loss: 0.2097 - accuracy: 0.9211\n",
      "Epoch 5/20\n",
      "71/71 [==============================] - 3s 48ms/step - loss: 0.1347 - accuracy: 0.9543\n",
      "Epoch 6/20\n",
      "71/71 [==============================] - 3s 48ms/step - loss: 0.0625 - accuracy: 0.9836\n",
      "Epoch 7/20\n",
      "71/71 [==============================] - 3s 47ms/step - loss: 0.0544 - accuracy: 0.9831\n",
      "Epoch 8/20\n",
      "71/71 [==============================] - 3s 47ms/step - loss: 0.0537 - accuracy: 0.9809\n",
      "Epoch 9/20\n",
      "71/71 [==============================] - 3s 49ms/step - loss: 0.0420 - accuracy: 0.9849\n",
      "Epoch 10/20\n",
      "71/71 [==============================] - 3s 48ms/step - loss: 0.0257 - accuracy: 0.9938\n",
      "Epoch 11/20\n",
      "71/71 [==============================] - 3s 47ms/step - loss: 0.0270 - accuracy: 0.9911\n",
      "Epoch 12/20\n",
      "71/71 [==============================] - 3s 47ms/step - loss: 0.0225 - accuracy: 0.9929\n",
      "Epoch 13/20\n",
      "71/71 [==============================] - 3s 47ms/step - loss: 0.0094 - accuracy: 0.9987\n",
      "Epoch 14/20\n",
      "71/71 [==============================] - 3s 48ms/step - loss: 0.0232 - accuracy: 0.9925\n",
      "Epoch 15/20\n",
      "71/71 [==============================] - 3s 47ms/step - loss: 0.0487 - accuracy: 0.9849\n",
      "Epoch 16/20\n",
      "71/71 [==============================] - 3s 47ms/step - loss: 0.0512 - accuracy: 0.9800\n",
      "Epoch 17/20\n",
      "71/71 [==============================] - 3s 47ms/step - loss: 0.0278 - accuracy: 0.9898\n",
      "Epoch 18/20\n",
      "71/71 [==============================] - 3s 47ms/step - loss: 0.0188 - accuracy: 0.9951\n",
      "Epoch 19/20\n",
      "71/71 [==============================] - 3s 47ms/step - loss: 0.0088 - accuracy: 0.9978\n",
      "Epoch 20/20\n",
      "71/71 [==============================] - 3s 47ms/step - loss: 0.0085 - accuracy: 0.9982\n",
      "[INFO] Saving Model for hornbill fold 3 ...\n",
      "36/36 [==============================] - 0s 10ms/step\n"
     ]
    },
    {
     "name": "stderr",
     "output_type": "stream",
     "text": [
      "C:\\Users\\rudra\\AppData\\Local\\Temp\\ipykernel_6820\\3249705492.py:34: UserWarning: FigureCanvasAgg is non-interactive, and thus cannot be shown\n",
      "  plt.show()\n"
     ]
    },
    {
     "name": "stdout",
     "output_type": "stream",
     "text": [
      "1/1 [==============================] - 0s 78ms/step\n"
     ]
    },
    {
     "name": "stderr",
     "output_type": "stream",
     "text": [
      "C:\\Users\\rudra\\AppData\\Local\\Temp\\ipykernel_6820\\1767733992.py:15: RuntimeWarning: invalid value encountered in divide\n",
      "  channel_image /= channel_image.std()\n",
      "C:\\Users\\rudra\\AppData\\Local\\Temp\\ipykernel_6820\\1767733992.py:18: RuntimeWarning: invalid value encountered in cast\n",
      "  channel_image = np.clip(channel_image, 0, 255).astype('uint8')\n"
     ]
    },
    {
     "name": "stdout",
     "output_type": "stream",
     "text": [
      "[INFO] Loading images ...\n",
      "[INFO] Processing horse ...\n",
      "[INFO] Processing rest ...\n",
      "[INFO] image extract completed\n",
      "total train samples: \n",
      "3424\n",
      "[INFO] Training network for horse fold 1...\n",
      "Epoch 1/20\n",
      "71/71 [==============================] - 5s 48ms/step - loss: 0.5486 - accuracy: 0.7121\n",
      "Epoch 2/20\n",
      "71/71 [==============================] - 3s 48ms/step - loss: 0.3732 - accuracy: 0.8356\n",
      "Epoch 3/20\n",
      "71/71 [==============================] - 3s 47ms/step - loss: 0.3258 - accuracy: 0.8667\n",
      "Epoch 4/20\n",
      "71/71 [==============================] - 3s 48ms/step - loss: 0.3333 - accuracy: 0.8542\n",
      "Epoch 5/20\n",
      "71/71 [==============================] - 3s 47ms/step - loss: 0.2515 - accuracy: 0.8942\n",
      "Epoch 6/20\n",
      "71/71 [==============================] - 3s 47ms/step - loss: 0.1670 - accuracy: 0.9404\n",
      "Epoch 7/20\n",
      "71/71 [==============================] - 3s 48ms/step - loss: 0.1217 - accuracy: 0.9591\n",
      "Epoch 8/20\n",
      "71/71 [==============================] - 3s 47ms/step - loss: 0.0948 - accuracy: 0.9662\n",
      "Epoch 9/20\n",
      "71/71 [==============================] - 3s 47ms/step - loss: 0.0764 - accuracy: 0.9702\n",
      "Epoch 10/20\n",
      "71/71 [==============================] - 3s 47ms/step - loss: 0.0709 - accuracy: 0.9773\n",
      "Epoch 11/20\n",
      "71/71 [==============================] - 3s 47ms/step - loss: 0.0462 - accuracy: 0.9844\n",
      "Epoch 12/20\n",
      "71/71 [==============================] - 3s 47ms/step - loss: 0.0606 - accuracy: 0.9831\n",
      "Epoch 13/20\n",
      "71/71 [==============================] - 3s 48ms/step - loss: 0.0417 - accuracy: 0.9836\n",
      "Epoch 14/20\n",
      "71/71 [==============================] - 3s 48ms/step - loss: 0.0261 - accuracy: 0.9933\n",
      "Epoch 15/20\n",
      "71/71 [==============================] - 3s 47ms/step - loss: 0.0329 - accuracy: 0.9876\n",
      "Epoch 16/20\n",
      "71/71 [==============================] - 3s 47ms/step - loss: 0.0405 - accuracy: 0.9880\n",
      "Epoch 17/20\n",
      "71/71 [==============================] - 3s 48ms/step - loss: 0.0457 - accuracy: 0.9849\n",
      "Epoch 18/20\n",
      "71/71 [==============================] - 3s 47ms/step - loss: 0.0485 - accuracy: 0.9800\n",
      "Epoch 19/20\n",
      "71/71 [==============================] - 3s 47ms/step - loss: 0.0320 - accuracy: 0.9898\n",
      "Epoch 20/20\n",
      "71/71 [==============================] - 4s 51ms/step - loss: 0.0256 - accuracy: 0.9911\n",
      "[INFO] Saving Model for horse fold 1 ...\n",
      "36/36 [==============================] - 0s 10ms/step\n"
     ]
    },
    {
     "name": "stderr",
     "output_type": "stream",
     "text": [
      "C:\\Users\\rudra\\AppData\\Local\\Temp\\ipykernel_6820\\3249705492.py:34: UserWarning: FigureCanvasAgg is non-interactive, and thus cannot be shown\n",
      "  plt.show()\n"
     ]
    },
    {
     "name": "stdout",
     "output_type": "stream",
     "text": [
      "1/1 [==============================] - 0s 172ms/step\n"
     ]
    },
    {
     "name": "stderr",
     "output_type": "stream",
     "text": [
      "C:\\Users\\rudra\\AppData\\Local\\Temp\\ipykernel_6820\\1767733992.py:15: RuntimeWarning: invalid value encountered in divide\n",
      "  channel_image /= channel_image.std()\n",
      "C:\\Users\\rudra\\AppData\\Local\\Temp\\ipykernel_6820\\1767733992.py:18: RuntimeWarning: invalid value encountered in cast\n",
      "  channel_image = np.clip(channel_image, 0, 255).astype('uint8')\n"
     ]
    },
    {
     "name": "stdout",
     "output_type": "stream",
     "text": [
      "[INFO] Training network for horse fold 2...\n",
      "Epoch 1/20\n",
      "71/71 [==============================] - 5s 50ms/step - loss: 0.5677 - accuracy: 0.7082\n",
      "Epoch 2/20\n",
      "71/71 [==============================] - 4s 47ms/step - loss: 0.4413 - accuracy: 0.7921\n",
      "Epoch 3/20\n",
      "71/71 [==============================] - 3s 47ms/step - loss: 0.3811 - accuracy: 0.8303\n",
      "Epoch 4/20\n",
      "71/71 [==============================] - 3s 47ms/step - loss: 0.2543 - accuracy: 0.8956\n",
      "Epoch 5/20\n",
      "71/71 [==============================] - 3s 47ms/step - loss: 0.2095 - accuracy: 0.9178\n",
      "Epoch 6/20\n",
      "71/71 [==============================] - 3s 47ms/step - loss: 0.1390 - accuracy: 0.9520\n",
      "Epoch 7/20\n",
      "71/71 [==============================] - 3s 47ms/step - loss: 0.0933 - accuracy: 0.9698\n",
      "Epoch 8/20\n",
      "71/71 [==============================] - 3s 47ms/step - loss: 0.0819 - accuracy: 0.9738\n",
      "Epoch 9/20\n",
      "71/71 [==============================] - 3s 47ms/step - loss: 0.0683 - accuracy: 0.9796\n",
      "Epoch 10/20\n",
      "71/71 [==============================] - 3s 47ms/step - loss: 0.0530 - accuracy: 0.9800\n",
      "Epoch 11/20\n",
      "71/71 [==============================] - 3s 47ms/step - loss: 0.0508 - accuracy: 0.9822\n",
      "Epoch 12/20\n",
      "71/71 [==============================] - 3s 47ms/step - loss: 0.0745 - accuracy: 0.9751\n",
      "Epoch 13/20\n",
      "71/71 [==============================] - 3s 47ms/step - loss: 0.0308 - accuracy: 0.9889\n",
      "Epoch 14/20\n",
      "71/71 [==============================] - 3s 47ms/step - loss: 0.0338 - accuracy: 0.9893\n",
      "Epoch 15/20\n",
      "71/71 [==============================] - 3s 47ms/step - loss: 0.0651 - accuracy: 0.9773\n",
      "Epoch 16/20\n",
      "71/71 [==============================] - 4s 54ms/step - loss: 0.0373 - accuracy: 0.9902\n",
      "Epoch 17/20\n",
      "71/71 [==============================] - 4s 53ms/step - loss: 0.0329 - accuracy: 0.9898\n",
      "Epoch 18/20\n",
      "71/71 [==============================] - 3s 47ms/step - loss: 0.0305 - accuracy: 0.9876\n",
      "Epoch 19/20\n",
      "71/71 [==============================] - 3s 47ms/step - loss: 0.0344 - accuracy: 0.9858\n",
      "Epoch 20/20\n",
      "71/71 [==============================] - 3s 47ms/step - loss: 0.0412 - accuracy: 0.9867\n",
      "[INFO] Saving Model for horse fold 2 ...\n",
      "36/36 [==============================] - 1s 10ms/step\n"
     ]
    },
    {
     "name": "stderr",
     "output_type": "stream",
     "text": [
      "C:\\Users\\rudra\\AppData\\Local\\Temp\\ipykernel_6820\\3249705492.py:34: UserWarning: FigureCanvasAgg is non-interactive, and thus cannot be shown\n",
      "  plt.show()\n"
     ]
    },
    {
     "name": "stdout",
     "output_type": "stream",
     "text": [
      "1/1 [==============================] - 0s 78ms/step\n"
     ]
    },
    {
     "name": "stderr",
     "output_type": "stream",
     "text": [
      "C:\\Users\\rudra\\AppData\\Local\\Temp\\ipykernel_6820\\1767733992.py:15: RuntimeWarning: invalid value encountered in divide\n",
      "  channel_image /= channel_image.std()\n",
      "C:\\Users\\rudra\\AppData\\Local\\Temp\\ipykernel_6820\\1767733992.py:18: RuntimeWarning: invalid value encountered in cast\n",
      "  channel_image = np.clip(channel_image, 0, 255).astype('uint8')\n"
     ]
    },
    {
     "name": "stdout",
     "output_type": "stream",
     "text": [
      "[INFO] Training network for horse fold 3...\n",
      "Epoch 1/20\n",
      "71/71 [==============================] - 4s 48ms/step - loss: 0.5931 - accuracy: 0.6915\n",
      "Epoch 2/20\n",
      "71/71 [==============================] - 3s 47ms/step - loss: 0.4670 - accuracy: 0.7805\n",
      "Epoch 3/20\n",
      "71/71 [==============================] - 3s 47ms/step - loss: 0.3559 - accuracy: 0.8445\n",
      "Epoch 4/20\n",
      "71/71 [==============================] - 3s 47ms/step - loss: 0.2718 - accuracy: 0.8907\n",
      "Epoch 5/20\n",
      "71/71 [==============================] - 3s 47ms/step - loss: 0.2024 - accuracy: 0.9240\n",
      "Epoch 6/20\n",
      "71/71 [==============================] - 3s 47ms/step - loss: 0.1508 - accuracy: 0.9516\n",
      "Epoch 7/20\n",
      "71/71 [==============================] - 3s 47ms/step - loss: 0.1185 - accuracy: 0.9609\n",
      "Epoch 8/20\n",
      "71/71 [==============================] - 3s 47ms/step - loss: 0.0723 - accuracy: 0.9760\n",
      "Epoch 9/20\n",
      "71/71 [==============================] - 3s 47ms/step - loss: 0.0479 - accuracy: 0.9876\n",
      "Epoch 10/20\n",
      "71/71 [==============================] - 3s 47ms/step - loss: 0.0413 - accuracy: 0.9907\n",
      "Epoch 11/20\n",
      "71/71 [==============================] - 3s 47ms/step - loss: 0.0486 - accuracy: 0.9836\n",
      "Epoch 12/20\n",
      "71/71 [==============================] - 3s 47ms/step - loss: 0.0691 - accuracy: 0.9796\n",
      "Epoch 13/20\n",
      "71/71 [==============================] - 3s 47ms/step - loss: 0.0499 - accuracy: 0.9849\n",
      "Epoch 14/20\n",
      "71/71 [==============================] - 3s 47ms/step - loss: 0.0219 - accuracy: 0.9942\n",
      "Epoch 15/20\n",
      "71/71 [==============================] - 3s 47ms/step - loss: 0.0504 - accuracy: 0.9845\n",
      "Epoch 16/20\n",
      "71/71 [==============================] - 3s 47ms/step - loss: 0.0301 - accuracy: 0.9902\n",
      "Epoch 17/20\n",
      "71/71 [==============================] - 3s 47ms/step - loss: 0.0257 - accuracy: 0.9938\n",
      "Epoch 18/20\n",
      "71/71 [==============================] - 3s 47ms/step - loss: 0.0126 - accuracy: 0.9964\n",
      "Epoch 19/20\n",
      "71/71 [==============================] - 3s 48ms/step - loss: 0.0184 - accuracy: 0.9920\n",
      "Epoch 20/20\n",
      "71/71 [==============================] - 3s 47ms/step - loss: 0.0479 - accuracy: 0.9845\n",
      "[INFO] Saving Model for horse fold 3 ...\n",
      "36/36 [==============================] - 0s 10ms/step\n"
     ]
    },
    {
     "name": "stderr",
     "output_type": "stream",
     "text": [
      "C:\\Users\\rudra\\AppData\\Local\\Temp\\ipykernel_6820\\3249705492.py:34: UserWarning: FigureCanvasAgg is non-interactive, and thus cannot be shown\n",
      "  plt.show()\n"
     ]
    },
    {
     "name": "stdout",
     "output_type": "stream",
     "text": [
      "1/1 [==============================] - 0s 78ms/step\n"
     ]
    },
    {
     "name": "stderr",
     "output_type": "stream",
     "text": [
      "C:\\Users\\rudra\\AppData\\Local\\Temp\\ipykernel_6820\\1767733992.py:15: RuntimeWarning: invalid value encountered in divide\n",
      "  channel_image /= channel_image.std()\n",
      "C:\\Users\\rudra\\AppData\\Local\\Temp\\ipykernel_6820\\1767733992.py:18: RuntimeWarning: invalid value encountered in cast\n",
      "  channel_image = np.clip(channel_image, 0, 255).astype('uint8')\n"
     ]
    },
    {
     "name": "stdout",
     "output_type": "stream",
     "text": [
      "[INFO] Loading images ...\n",
      "[INFO] Processing hummingbird ...\n",
      "[INFO] Processing rest ...\n",
      "[INFO] image extract completed\n",
      "total train samples: \n",
      "3403\n",
      "[INFO] Training network for hummingbird fold 1...\n",
      "Epoch 1/20\n",
      "70/70 [==============================] - 5s 48ms/step - loss: 0.3965 - accuracy: 0.8308\n",
      "Epoch 2/20\n",
      "70/70 [==============================] - 4s 48ms/step - loss: 0.2760 - accuracy: 0.8927\n",
      "Epoch 3/20\n",
      "70/70 [==============================] - 3s 48ms/step - loss: 0.2013 - accuracy: 0.9204\n",
      "Epoch 4/20\n",
      "70/70 [==============================] - 3s 48ms/step - loss: 0.1894 - accuracy: 0.9289\n",
      "Epoch 5/20\n",
      "70/70 [==============================] - 3s 48ms/step - loss: 0.1371 - accuracy: 0.9472\n",
      "Epoch 6/20\n",
      "70/70 [==============================] - 3s 49ms/step - loss: 0.0937 - accuracy: 0.9678\n",
      "Epoch 7/20\n",
      "70/70 [==============================] - 3s 49ms/step - loss: 0.0865 - accuracy: 0.9696\n",
      "Epoch 8/20\n",
      "70/70 [==============================] - 3s 48ms/step - loss: 0.0537 - accuracy: 0.9848\n",
      "Epoch 9/20\n",
      "70/70 [==============================] - 3s 48ms/step - loss: 0.0598 - accuracy: 0.9799\n",
      "Epoch 10/20\n",
      "70/70 [==============================] - 3s 48ms/step - loss: 0.0382 - accuracy: 0.9870\n",
      "Epoch 11/20\n",
      "70/70 [==============================] - 3s 47ms/step - loss: 0.0359 - accuracy: 0.9870\n",
      "Epoch 12/20\n",
      "70/70 [==============================] - 3s 47ms/step - loss: 0.0190 - accuracy: 0.9937\n",
      "Epoch 13/20\n",
      "70/70 [==============================] - 3s 47ms/step - loss: 0.0174 - accuracy: 0.9942\n",
      "Epoch 14/20\n",
      "70/70 [==============================] - 3s 48ms/step - loss: 0.0376 - accuracy: 0.9879\n",
      "Epoch 15/20\n",
      "70/70 [==============================] - 3s 50ms/step - loss: 0.0317 - accuracy: 0.9893\n",
      "Epoch 16/20\n",
      "70/70 [==============================] - 3s 49ms/step - loss: 0.0334 - accuracy: 0.9879\n",
      "Epoch 17/20\n",
      "70/70 [==============================] - 3s 49ms/step - loss: 0.0211 - accuracy: 0.9928\n",
      "Epoch 18/20\n",
      "70/70 [==============================] - 3s 47ms/step - loss: 0.0115 - accuracy: 0.9973\n",
      "Epoch 19/20\n",
      "70/70 [==============================] - 3s 48ms/step - loss: 0.0077 - accuracy: 0.9987\n",
      "Epoch 20/20\n",
      "70/70 [==============================] - 3s 48ms/step - loss: 0.0065 - accuracy: 0.9996\n",
      "[INFO] Saving Model for hummingbird fold 1 ...\n",
      "36/36 [==============================] - 1s 11ms/step\n"
     ]
    },
    {
     "name": "stderr",
     "output_type": "stream",
     "text": [
      "C:\\Users\\rudra\\AppData\\Local\\Temp\\ipykernel_6820\\3249705492.py:34: UserWarning: FigureCanvasAgg is non-interactive, and thus cannot be shown\n",
      "  plt.show()\n"
     ]
    },
    {
     "name": "stdout",
     "output_type": "stream",
     "text": [
      "1/1 [==============================] - 0s 90ms/step\n"
     ]
    },
    {
     "name": "stderr",
     "output_type": "stream",
     "text": [
      "C:\\Users\\rudra\\AppData\\Local\\Temp\\ipykernel_6820\\1767733992.py:15: RuntimeWarning: invalid value encountered in divide\n",
      "  channel_image /= channel_image.std()\n",
      "C:\\Users\\rudra\\AppData\\Local\\Temp\\ipykernel_6820\\1767733992.py:18: RuntimeWarning: invalid value encountered in cast\n",
      "  channel_image = np.clip(channel_image, 0, 255).astype('uint8')\n"
     ]
    },
    {
     "name": "stdout",
     "output_type": "stream",
     "text": [
      "[INFO] Training network for hummingbird fold 2...\n",
      "Epoch 1/20\n",
      "70/70 [==============================] - 5s 51ms/step - loss: 0.3842 - accuracy: 0.8295\n",
      "Epoch 2/20\n",
      "70/70 [==============================] - 4s 51ms/step - loss: 0.2507 - accuracy: 0.8985\n",
      "Epoch 3/20\n",
      "70/70 [==============================] - 3s 49ms/step - loss: 0.1887 - accuracy: 0.9307\n",
      "Epoch 4/20\n",
      "70/70 [==============================] - 3s 47ms/step - loss: 0.1309 - accuracy: 0.9490\n",
      "Epoch 5/20\n",
      "70/70 [==============================] - 3s 48ms/step - loss: 0.0917 - accuracy: 0.9718\n",
      "Epoch 6/20\n",
      "70/70 [==============================] - 3s 49ms/step - loss: 0.0676 - accuracy: 0.9799\n",
      "Epoch 7/20\n",
      "70/70 [==============================] - 3s 48ms/step - loss: 0.0462 - accuracy: 0.9857\n",
      "Epoch 8/20\n",
      "70/70 [==============================] - 3s 49ms/step - loss: 0.0444 - accuracy: 0.9870\n",
      "Epoch 9/20\n",
      "70/70 [==============================] - 3s 48ms/step - loss: 0.0384 - accuracy: 0.9884\n",
      "Epoch 10/20\n",
      "70/70 [==============================] - 3s 49ms/step - loss: 0.0669 - accuracy: 0.9768\n",
      "Epoch 11/20\n",
      "70/70 [==============================] - 3s 49ms/step - loss: 0.0380 - accuracy: 0.9893\n",
      "Epoch 12/20\n",
      "70/70 [==============================] - 3s 47ms/step - loss: 0.0198 - accuracy: 0.9933\n",
      "Epoch 13/20\n",
      "70/70 [==============================] - 3s 47ms/step - loss: 0.0109 - accuracy: 0.9982\n",
      "Epoch 14/20\n",
      "70/70 [==============================] - 3s 47ms/step - loss: 0.0152 - accuracy: 0.9960\n",
      "Epoch 15/20\n",
      "70/70 [==============================] - 3s 48ms/step - loss: 0.0503 - accuracy: 0.9848\n",
      "Epoch 16/20\n",
      "70/70 [==============================] - 3s 47ms/step - loss: 0.0488 - accuracy: 0.9848\n",
      "Epoch 17/20\n",
      "70/70 [==============================] - 3s 48ms/step - loss: 0.0385 - accuracy: 0.9875\n",
      "Epoch 18/20\n",
      "70/70 [==============================] - 3s 48ms/step - loss: 0.0356 - accuracy: 0.9893\n",
      "Epoch 19/20\n",
      "70/70 [==============================] - 3s 48ms/step - loss: 0.0165 - accuracy: 0.9951\n",
      "Epoch 20/20\n",
      "70/70 [==============================] - 3s 48ms/step - loss: 0.0106 - accuracy: 0.9978\n",
      "[INFO] Saving Model for hummingbird fold 2 ...\n",
      "36/36 [==============================] - 1s 10ms/step\n"
     ]
    },
    {
     "name": "stderr",
     "output_type": "stream",
     "text": [
      "C:\\Users\\rudra\\AppData\\Local\\Temp\\ipykernel_6820\\3249705492.py:34: UserWarning: FigureCanvasAgg is non-interactive, and thus cannot be shown\n",
      "  plt.show()\n"
     ]
    },
    {
     "name": "stdout",
     "output_type": "stream",
     "text": [
      "1/1 [==============================] - 0s 219ms/step\n"
     ]
    },
    {
     "name": "stderr",
     "output_type": "stream",
     "text": [
      "C:\\Users\\rudra\\AppData\\Local\\Temp\\ipykernel_6820\\1767733992.py:15: RuntimeWarning: invalid value encountered in divide\n",
      "  channel_image /= channel_image.std()\n",
      "C:\\Users\\rudra\\AppData\\Local\\Temp\\ipykernel_6820\\1767733992.py:18: RuntimeWarning: invalid value encountered in cast\n",
      "  channel_image = np.clip(channel_image, 0, 255).astype('uint8')\n"
     ]
    },
    {
     "name": "stdout",
     "output_type": "stream",
     "text": [
      "[INFO] Training network for hummingbird fold 3...\n",
      "Epoch 1/20\n",
      "70/70 [==============================] - 5s 51ms/step - loss: 0.3762 - accuracy: 0.8455\n",
      "Epoch 2/20\n",
      "70/70 [==============================] - 3s 48ms/step - loss: 0.2495 - accuracy: 0.8985\n",
      "Epoch 3/20\n",
      "70/70 [==============================] - 3s 49ms/step - loss: 0.1715 - accuracy: 0.9374\n",
      "Epoch 4/20\n",
      "70/70 [==============================] - 3s 49ms/step - loss: 0.1240 - accuracy: 0.9566\n",
      "Epoch 5/20\n",
      "70/70 [==============================] - 3s 50ms/step - loss: 0.0993 - accuracy: 0.9633\n",
      "Epoch 6/20\n",
      "70/70 [==============================] - 3s 49ms/step - loss: 0.0903 - accuracy: 0.9696\n",
      "Epoch 7/20\n",
      "70/70 [==============================] - 4s 51ms/step - loss: 0.1193 - accuracy: 0.9575\n",
      "Epoch 8/20\n",
      "70/70 [==============================] - 3s 49ms/step - loss: 0.0905 - accuracy: 0.9692\n",
      "Epoch 9/20\n",
      "70/70 [==============================] - 4s 54ms/step - loss: 0.0494 - accuracy: 0.9861\n",
      "Epoch 10/20\n",
      "70/70 [==============================] - 3s 48ms/step - loss: 0.0308 - accuracy: 0.9928\n",
      "Epoch 11/20\n",
      "70/70 [==============================] - 3s 48ms/step - loss: 0.0170 - accuracy: 0.9978\n",
      "Epoch 12/20\n",
      "70/70 [==============================] - 3s 48ms/step - loss: 0.0272 - accuracy: 0.9915\n",
      "Epoch 13/20\n",
      "70/70 [==============================] - 3s 48ms/step - loss: 0.0322 - accuracy: 0.9870\n",
      "Epoch 14/20\n",
      "70/70 [==============================] - 3s 48ms/step - loss: 0.0609 - accuracy: 0.9776\n",
      "Epoch 15/20\n",
      "70/70 [==============================] - 4s 52ms/step - loss: 0.0530 - accuracy: 0.9812\n",
      "Epoch 16/20\n",
      "70/70 [==============================] - 3s 47ms/step - loss: 0.0178 - accuracy: 0.9946\n",
      "Epoch 17/20\n",
      "70/70 [==============================] - 3s 48ms/step - loss: 0.0222 - accuracy: 0.9920\n",
      "Epoch 18/20\n",
      "70/70 [==============================] - 3s 48ms/step - loss: 0.0086 - accuracy: 0.9982\n",
      "Epoch 19/20\n",
      "70/70 [==============================] - 3s 49ms/step - loss: 0.0043 - accuracy: 0.9991\n",
      "Epoch 20/20\n",
      "70/70 [==============================] - 3s 48ms/step - loss: 0.0124 - accuracy: 0.9982\n",
      "[INFO] Saving Model for hummingbird fold 3 ...\n",
      "36/36 [==============================] - 1s 10ms/step\n"
     ]
    },
    {
     "name": "stderr",
     "output_type": "stream",
     "text": [
      "C:\\Users\\rudra\\AppData\\Local\\Temp\\ipykernel_6820\\3249705492.py:34: UserWarning: FigureCanvasAgg is non-interactive, and thus cannot be shown\n",
      "  plt.show()\n"
     ]
    },
    {
     "name": "stdout",
     "output_type": "stream",
     "text": [
      "1/1 [==============================] - 0s 84ms/step\n",
      "[INFO] Loading images ...\n",
      "[INFO] Processing hyena ...\n",
      "[INFO] Processing rest ...\n",
      "[INFO] image extract completed\n",
      "total train samples: \n",
      "3424\n",
      "[INFO] Training network for hyena fold 1...\n",
      "Epoch 1/20\n",
      "71/71 [==============================] - 5s 49ms/step - loss: 0.4811 - accuracy: 0.7768\n",
      "Epoch 2/20\n",
      "71/71 [==============================] - 3s 48ms/step - loss: 0.3808 - accuracy: 0.8333\n",
      "Epoch 3/20\n",
      "71/71 [==============================] - 3s 48ms/step - loss: 0.3227 - accuracy: 0.8640\n",
      "Epoch 4/20\n",
      "71/71 [==============================] - 3s 47ms/step - loss: 0.2197 - accuracy: 0.9151\n",
      "Epoch 5/20\n",
      "71/71 [==============================] - 3s 48ms/step - loss: 0.1923 - accuracy: 0.9280\n",
      "Epoch 6/20\n",
      "71/71 [==============================] - 3s 48ms/step - loss: 0.1216 - accuracy: 0.9560\n",
      "Epoch 7/20\n",
      "71/71 [==============================] - 3s 48ms/step - loss: 0.1057 - accuracy: 0.9653\n",
      "Epoch 8/20\n",
      "71/71 [==============================] - 3s 47ms/step - loss: 0.0712 - accuracy: 0.9809\n",
      "Epoch 9/20\n",
      "71/71 [==============================] - 3s 47ms/step - loss: 0.1091 - accuracy: 0.9538\n",
      "Epoch 10/20\n",
      "71/71 [==============================] - 3s 47ms/step - loss: 0.0814 - accuracy: 0.9738\n",
      "Epoch 11/20\n",
      "71/71 [==============================] - 3s 47ms/step - loss: 0.0634 - accuracy: 0.9773\n",
      "Epoch 12/20\n",
      "71/71 [==============================] - 3s 47ms/step - loss: 0.0645 - accuracy: 0.9769\n",
      "Epoch 13/20\n",
      "71/71 [==============================] - 3s 47ms/step - loss: 0.0454 - accuracy: 0.9849\n",
      "Epoch 14/20\n",
      "71/71 [==============================] - 3s 47ms/step - loss: 0.0496 - accuracy: 0.9822\n",
      "Epoch 15/20\n",
      "71/71 [==============================] - 4s 51ms/step - loss: 0.0377 - accuracy: 0.9884\n",
      "Epoch 16/20\n",
      "71/71 [==============================] - 3s 47ms/step - loss: 0.0357 - accuracy: 0.9884\n",
      "Epoch 17/20\n",
      "71/71 [==============================] - 3s 48ms/step - loss: 0.0324 - accuracy: 0.9884\n",
      "Epoch 18/20\n",
      "71/71 [==============================] - 3s 48ms/step - loss: 0.0367 - accuracy: 0.9893\n",
      "Epoch 19/20\n",
      "71/71 [==============================] - 3s 48ms/step - loss: 0.0130 - accuracy: 0.9978\n",
      "Epoch 20/20\n",
      "71/71 [==============================] - 3s 48ms/step - loss: 0.0666 - accuracy: 0.9756\n",
      "[INFO] Saving Model for hyena fold 1 ...\n",
      "36/36 [==============================] - 1s 10ms/step\n"
     ]
    },
    {
     "name": "stderr",
     "output_type": "stream",
     "text": [
      "C:\\Users\\rudra\\AppData\\Local\\Temp\\ipykernel_6820\\3249705492.py:34: UserWarning: FigureCanvasAgg is non-interactive, and thus cannot be shown\n",
      "  plt.show()\n"
     ]
    },
    {
     "name": "stdout",
     "output_type": "stream",
     "text": [
      "1/1 [==============================] - 0s 94ms/step\n"
     ]
    },
    {
     "name": "stderr",
     "output_type": "stream",
     "text": [
      "C:\\Users\\rudra\\AppData\\Local\\Temp\\ipykernel_6820\\1767733992.py:15: RuntimeWarning: invalid value encountered in divide\n",
      "  channel_image /= channel_image.std()\n",
      "C:\\Users\\rudra\\AppData\\Local\\Temp\\ipykernel_6820\\1767733992.py:18: RuntimeWarning: invalid value encountered in cast\n",
      "  channel_image = np.clip(channel_image, 0, 255).astype('uint8')\n"
     ]
    },
    {
     "name": "stdout",
     "output_type": "stream",
     "text": [
      "[INFO] Training network for hyena fold 2...\n",
      "Epoch 1/20\n",
      "71/71 [==============================] - 4s 49ms/step - loss: 0.4992 - accuracy: 0.7755\n",
      "Epoch 2/20\n",
      "71/71 [==============================] - 3s 48ms/step - loss: 0.3339 - accuracy: 0.8578\n",
      "Epoch 3/20\n",
      "71/71 [==============================] - 3s 48ms/step - loss: 0.2809 - accuracy: 0.8872\n",
      "Epoch 4/20\n",
      "71/71 [==============================] - 3s 47ms/step - loss: 0.1896 - accuracy: 0.9240\n",
      "Epoch 5/20\n",
      "71/71 [==============================] - 3s 47ms/step - loss: 0.1679 - accuracy: 0.9334\n",
      "Epoch 6/20\n",
      "71/71 [==============================] - 4s 51ms/step - loss: 0.1081 - accuracy: 0.9605\n",
      "Epoch 7/20\n",
      "71/71 [==============================] - 3s 47ms/step - loss: 0.0912 - accuracy: 0.9680\n",
      "Epoch 8/20\n",
      "71/71 [==============================] - 3s 47ms/step - loss: 0.0701 - accuracy: 0.9827\n",
      "Epoch 9/20\n",
      "71/71 [==============================] - 3s 48ms/step - loss: 0.0529 - accuracy: 0.9831\n",
      "Epoch 10/20\n",
      "71/71 [==============================] - 3s 47ms/step - loss: 0.0704 - accuracy: 0.9773\n",
      "Epoch 11/20\n",
      "71/71 [==============================] - 4s 52ms/step - loss: 0.0758 - accuracy: 0.9711\n",
      "Epoch 12/20\n",
      "71/71 [==============================] - 3s 48ms/step - loss: 0.0431 - accuracy: 0.9867\n",
      "Epoch 13/20\n",
      "71/71 [==============================] - 4s 49ms/step - loss: 0.0401 - accuracy: 0.9871\n",
      "Epoch 14/20\n",
      "71/71 [==============================] - 3s 48ms/step - loss: 0.0471 - accuracy: 0.9818\n",
      "Epoch 15/20\n",
      "71/71 [==============================] - 3s 48ms/step - loss: 0.0216 - accuracy: 0.9951\n",
      "Epoch 16/20\n",
      "71/71 [==============================] - 3s 48ms/step - loss: 0.0299 - accuracy: 0.9924\n",
      "Epoch 17/20\n",
      "71/71 [==============================] - 3s 49ms/step - loss: 0.0305 - accuracy: 0.9916\n",
      "Epoch 18/20\n",
      "71/71 [==============================] - 3s 49ms/step - loss: 0.0323 - accuracy: 0.9884\n",
      "Epoch 19/20\n",
      "71/71 [==============================] - 3s 48ms/step - loss: 0.0695 - accuracy: 0.9747\n",
      "Epoch 20/20\n",
      "71/71 [==============================] - 3s 48ms/step - loss: 0.0328 - accuracy: 0.9884\n",
      "[INFO] Saving Model for hyena fold 2 ...\n",
      "36/36 [==============================] - 1s 11ms/step\n"
     ]
    },
    {
     "name": "stderr",
     "output_type": "stream",
     "text": [
      "C:\\Users\\rudra\\AppData\\Local\\Temp\\ipykernel_6820\\3249705492.py:34: UserWarning: FigureCanvasAgg is non-interactive, and thus cannot be shown\n",
      "  plt.show()\n"
     ]
    },
    {
     "name": "stdout",
     "output_type": "stream",
     "text": [
      "1/1 [==============================] - 0s 97ms/step\n"
     ]
    },
    {
     "name": "stderr",
     "output_type": "stream",
     "text": [
      "C:\\Users\\rudra\\AppData\\Local\\Temp\\ipykernel_6820\\1767733992.py:15: RuntimeWarning: invalid value encountered in divide\n",
      "  channel_image /= channel_image.std()\n",
      "C:\\Users\\rudra\\AppData\\Local\\Temp\\ipykernel_6820\\1767733992.py:18: RuntimeWarning: invalid value encountered in cast\n",
      "  channel_image = np.clip(channel_image, 0, 255).astype('uint8')\n"
     ]
    },
    {
     "name": "stdout",
     "output_type": "stream",
     "text": [
      "[INFO] Training network for hyena fold 3...\n",
      "Epoch 1/20\n",
      "71/71 [==============================] - 4s 49ms/step - loss: 0.4825 - accuracy: 0.7742\n",
      "Epoch 2/20\n",
      "71/71 [==============================] - 3s 48ms/step - loss: 0.3714 - accuracy: 0.8352\n",
      "Epoch 3/20\n",
      "71/71 [==============================] - 4s 51ms/step - loss: 0.2518 - accuracy: 0.9040\n",
      "Epoch 4/20\n",
      "71/71 [==============================] - 3s 47ms/step - loss: 0.2122 - accuracy: 0.9169\n",
      "Epoch 5/20\n",
      "71/71 [==============================] - 3s 47ms/step - loss: 0.1462 - accuracy: 0.9498\n",
      "Epoch 6/20\n",
      "71/71 [==============================] - 3s 47ms/step - loss: 0.1144 - accuracy: 0.9605\n",
      "Epoch 7/20\n",
      "71/71 [==============================] - 3s 47ms/step - loss: 0.0821 - accuracy: 0.9720\n",
      "Epoch 8/20\n",
      "71/71 [==============================] - 3s 47ms/step - loss: 0.0654 - accuracy: 0.9769\n",
      "Epoch 9/20\n",
      "71/71 [==============================] - 3s 47ms/step - loss: 0.0510 - accuracy: 0.9818\n",
      "Epoch 10/20\n",
      "71/71 [==============================] - 3s 47ms/step - loss: 0.0666 - accuracy: 0.9756\n",
      "Epoch 11/20\n",
      "71/71 [==============================] - 3s 47ms/step - loss: 0.0691 - accuracy: 0.9738\n",
      "Epoch 12/20\n",
      "71/71 [==============================] - 3s 48ms/step - loss: 0.0301 - accuracy: 0.9929\n",
      "Epoch 13/20\n",
      "71/71 [==============================] - 3s 48ms/step - loss: 0.0272 - accuracy: 0.9907\n",
      "Epoch 14/20\n",
      "71/71 [==============================] - 3s 48ms/step - loss: 0.0183 - accuracy: 0.9956\n",
      "Epoch 15/20\n",
      "71/71 [==============================] - 4s 50ms/step - loss: 0.0272 - accuracy: 0.9902\n",
      "Epoch 16/20\n",
      "71/71 [==============================] - 3s 48ms/step - loss: 0.0367 - accuracy: 0.9889\n",
      "Epoch 17/20\n",
      "71/71 [==============================] - 3s 47ms/step - loss: 0.0278 - accuracy: 0.9898\n",
      "Epoch 18/20\n",
      "71/71 [==============================] - 3s 47ms/step - loss: 0.0133 - accuracy: 0.9964\n",
      "Epoch 19/20\n",
      "71/71 [==============================] - 3s 47ms/step - loss: 0.0076 - accuracy: 0.9991\n",
      "Epoch 20/20\n",
      "71/71 [==============================] - 3s 48ms/step - loss: 0.0905 - accuracy: 0.9685\n",
      "[INFO] Saving Model for hyena fold 3 ...\n",
      "36/36 [==============================] - 1s 10ms/step\n"
     ]
    },
    {
     "name": "stderr",
     "output_type": "stream",
     "text": [
      "C:\\Users\\rudra\\AppData\\Local\\Temp\\ipykernel_6820\\3249705492.py:34: UserWarning: FigureCanvasAgg is non-interactive, and thus cannot be shown\n",
      "  plt.show()\n"
     ]
    },
    {
     "name": "stdout",
     "output_type": "stream",
     "text": [
      "1/1 [==============================] - 0s 279ms/step\n"
     ]
    },
    {
     "name": "stderr",
     "output_type": "stream",
     "text": [
      "C:\\Users\\rudra\\AppData\\Local\\Temp\\ipykernel_6820\\1767733992.py:15: RuntimeWarning: invalid value encountered in divide\n",
      "  channel_image /= channel_image.std()\n",
      "C:\\Users\\rudra\\AppData\\Local\\Temp\\ipykernel_6820\\1767733992.py:18: RuntimeWarning: invalid value encountered in cast\n",
      "  channel_image = np.clip(channel_image, 0, 255).astype('uint8')\n"
     ]
    },
    {
     "name": "stdout",
     "output_type": "stream",
     "text": [
      "[INFO] Loading images ...\n",
      "[INFO] Processing jellyfish ...\n",
      "[INFO] Processing rest ...\n",
      "[INFO] image extract completed\n",
      "total train samples: \n",
      "3440\n",
      "[INFO] Training network for jellyfish fold 1...\n",
      "Epoch 1/20\n",
      "71/71 [==============================] - 5s 52ms/step - loss: 0.2370 - accuracy: 0.9054\n",
      "Epoch 2/20\n",
      "71/71 [==============================] - 3s 47ms/step - loss: 0.1460 - accuracy: 0.9460\n",
      "Epoch 3/20\n",
      "71/71 [==============================] - 3s 47ms/step - loss: 0.1654 - accuracy: 0.9398\n",
      "Epoch 4/20\n",
      "71/71 [==============================] - 3s 47ms/step - loss: 0.1232 - accuracy: 0.9584\n",
      "Epoch 5/20\n",
      "71/71 [==============================] - 3s 47ms/step - loss: 0.0986 - accuracy: 0.9659\n",
      "Epoch 6/20\n",
      "71/71 [==============================] - 3s 47ms/step - loss: 0.0815 - accuracy: 0.9766\n",
      "Epoch 7/20\n",
      "71/71 [==============================] - 3s 47ms/step - loss: 0.0527 - accuracy: 0.9841\n",
      "Epoch 8/20\n",
      "71/71 [==============================] - 3s 47ms/step - loss: 0.0626 - accuracy: 0.9761\n",
      "Epoch 9/20\n",
      "71/71 [==============================] - 3s 47ms/step - loss: 0.0527 - accuracy: 0.9832\n",
      "Epoch 10/20\n",
      "71/71 [==============================] - 3s 47ms/step - loss: 0.0338 - accuracy: 0.9916\n",
      "Epoch 11/20\n",
      "71/71 [==============================] - 3s 47ms/step - loss: 0.0320 - accuracy: 0.9881\n",
      "Epoch 12/20\n",
      "71/71 [==============================] - 3s 47ms/step - loss: 0.0182 - accuracy: 0.9951\n",
      "Epoch 13/20\n",
      "71/71 [==============================] - 3s 47ms/step - loss: 0.0162 - accuracy: 0.9969\n",
      "Epoch 14/20\n",
      "71/71 [==============================] - 3s 47ms/step - loss: 0.0190 - accuracy: 0.9934\n",
      "Epoch 15/20\n",
      "71/71 [==============================] - 3s 47ms/step - loss: 0.0157 - accuracy: 0.9943\n",
      "Epoch 16/20\n",
      "71/71 [==============================] - 3s 47ms/step - loss: 0.0186 - accuracy: 0.9951\n",
      "Epoch 17/20\n",
      "71/71 [==============================] - 3s 47ms/step - loss: 0.0265 - accuracy: 0.9916\n",
      "Epoch 18/20\n",
      "71/71 [==============================] - 3s 48ms/step - loss: 0.0275 - accuracy: 0.9916\n",
      "Epoch 19/20\n",
      "71/71 [==============================] - 3s 48ms/step - loss: 0.0142 - accuracy: 0.9947\n",
      "Epoch 20/20\n",
      "71/71 [==============================] - 3s 47ms/step - loss: 0.0175 - accuracy: 0.9951\n",
      "[INFO] Saving Model for jellyfish fold 1 ...\n",
      "36/36 [==============================] - 0s 10ms/step\n"
     ]
    },
    {
     "name": "stderr",
     "output_type": "stream",
     "text": [
      "C:\\Users\\rudra\\AppData\\Local\\Temp\\ipykernel_6820\\3249705492.py:34: UserWarning: FigureCanvasAgg is non-interactive, and thus cannot be shown\n",
      "  plt.show()\n"
     ]
    },
    {
     "name": "stdout",
     "output_type": "stream",
     "text": [
      "1/1 [==============================] - 0s 94ms/step\n",
      "[INFO] Training network for jellyfish fold 2...\n",
      "Epoch 1/20\n",
      "71/71 [==============================] - 4s 48ms/step - loss: 0.2373 - accuracy: 0.9058\n",
      "Epoch 2/20\n",
      "71/71 [==============================] - 3s 47ms/step - loss: 0.1852 - accuracy: 0.9306\n",
      "Epoch 3/20\n",
      "71/71 [==============================] - 3s 47ms/step - loss: 0.1365 - accuracy: 0.9522\n",
      "Epoch 4/20\n",
      "71/71 [==============================] - 3s 47ms/step - loss: 0.1042 - accuracy: 0.9628\n",
      "Epoch 5/20\n",
      "71/71 [==============================] - 3s 47ms/step - loss: 0.0916 - accuracy: 0.9690\n",
      "Epoch 6/20\n",
      "71/71 [==============================] - 3s 47ms/step - loss: 0.0675 - accuracy: 0.9757\n",
      "Epoch 7/20\n",
      "71/71 [==============================] - 3s 47ms/step - loss: 0.0654 - accuracy: 0.9792\n",
      "Epoch 8/20\n",
      "71/71 [==============================] - 3s 48ms/step - loss: 0.0572 - accuracy: 0.9797\n",
      "Epoch 9/20\n",
      "71/71 [==============================] - 4s 49ms/step - loss: 0.0468 - accuracy: 0.9881\n",
      "Epoch 10/20\n",
      "71/71 [==============================] - 3s 49ms/step - loss: 0.0246 - accuracy: 0.9938\n",
      "Epoch 11/20\n",
      "71/71 [==============================] - 4s 50ms/step - loss: 0.0178 - accuracy: 0.9947\n",
      "Epoch 12/20\n",
      "71/71 [==============================] - 4s 50ms/step - loss: 0.0296 - accuracy: 0.9907\n",
      "Epoch 13/20\n",
      "71/71 [==============================] - 3s 48ms/step - loss: 0.0315 - accuracy: 0.9889\n",
      "Epoch 14/20\n",
      "71/71 [==============================] - 3s 47ms/step - loss: 0.0176 - accuracy: 0.9960\n",
      "Epoch 15/20\n",
      "71/71 [==============================] - 3s 48ms/step - loss: 0.0430 - accuracy: 0.9876\n",
      "Epoch 16/20\n",
      "71/71 [==============================] - 3s 47ms/step - loss: 0.0171 - accuracy: 0.9943\n",
      "Epoch 17/20\n",
      "71/71 [==============================] - 3s 48ms/step - loss: 0.0121 - accuracy: 0.9969\n",
      "Epoch 18/20\n",
      "71/71 [==============================] - 3s 47ms/step - loss: 0.0102 - accuracy: 0.9960\n",
      "Epoch 19/20\n",
      "71/71 [==============================] - 3s 47ms/step - loss: 0.0100 - accuracy: 0.9969\n",
      "Epoch 20/20\n",
      "71/71 [==============================] - 3s 47ms/step - loss: 0.0440 - accuracy: 0.9876\n",
      "[INFO] Saving Model for jellyfish fold 2 ...\n",
      "36/36 [==============================] - 1s 10ms/step\n"
     ]
    },
    {
     "name": "stderr",
     "output_type": "stream",
     "text": [
      "C:\\Users\\rudra\\AppData\\Local\\Temp\\ipykernel_6820\\3249705492.py:34: UserWarning: FigureCanvasAgg is non-interactive, and thus cannot be shown\n",
      "  plt.show()\n"
     ]
    },
    {
     "name": "stdout",
     "output_type": "stream",
     "text": [
      "1/1 [==============================] - 0s 94ms/step\n"
     ]
    },
    {
     "name": "stderr",
     "output_type": "stream",
     "text": [
      "C:\\Users\\rudra\\AppData\\Local\\Temp\\ipykernel_6820\\1767733992.py:15: RuntimeWarning: invalid value encountered in divide\n",
      "  channel_image /= channel_image.std()\n",
      "C:\\Users\\rudra\\AppData\\Local\\Temp\\ipykernel_6820\\1767733992.py:18: RuntimeWarning: invalid value encountered in cast\n",
      "  channel_image = np.clip(channel_image, 0, 255).astype('uint8')\n"
     ]
    },
    {
     "name": "stdout",
     "output_type": "stream",
     "text": [
      "[INFO] Training network for jellyfish fold 3...\n",
      "Epoch 1/20\n",
      "71/71 [==============================] - 4s 48ms/step - loss: 0.2506 - accuracy: 0.9058\n",
      "Epoch 2/20\n",
      "71/71 [==============================] - 3s 48ms/step - loss: 0.1646 - accuracy: 0.9434\n",
      "Epoch 3/20\n",
      "71/71 [==============================] - 3s 47ms/step - loss: 0.1282 - accuracy: 0.9553\n",
      "Epoch 4/20\n",
      "71/71 [==============================] - 3s 48ms/step - loss: 0.0942 - accuracy: 0.9677\n",
      "Epoch 5/20\n",
      "71/71 [==============================] - 3s 47ms/step - loss: 0.0581 - accuracy: 0.9819\n",
      "Epoch 6/20\n",
      "71/71 [==============================] - 3s 47ms/step - loss: 0.0572 - accuracy: 0.9788\n",
      "Epoch 7/20\n",
      "71/71 [==============================] - 3s 47ms/step - loss: 0.0533 - accuracy: 0.9823\n",
      "Epoch 8/20\n",
      "71/71 [==============================] - 3s 47ms/step - loss: 0.0435 - accuracy: 0.9876\n",
      "Epoch 9/20\n",
      "71/71 [==============================] - 3s 47ms/step - loss: 0.0284 - accuracy: 0.9920\n",
      "Epoch 10/20\n",
      "71/71 [==============================] - 3s 47ms/step - loss: 0.0361 - accuracy: 0.9876\n",
      "Epoch 11/20\n",
      "71/71 [==============================] - 3s 47ms/step - loss: 0.0246 - accuracy: 0.9912\n",
      "Epoch 12/20\n",
      "71/71 [==============================] - 3s 47ms/step - loss: 0.0101 - accuracy: 0.9982\n",
      "Epoch 13/20\n",
      "71/71 [==============================] - 3s 47ms/step - loss: 0.0097 - accuracy: 0.9973\n",
      "Epoch 14/20\n",
      "71/71 [==============================] - 3s 47ms/step - loss: 0.0151 - accuracy: 0.9951\n",
      "Epoch 15/20\n",
      "71/71 [==============================] - 3s 47ms/step - loss: 0.0204 - accuracy: 0.9938\n",
      "Epoch 16/20\n",
      "71/71 [==============================] - 3s 47ms/step - loss: 0.0476 - accuracy: 0.9832\n",
      "Epoch 17/20\n",
      "71/71 [==============================] - 3s 47ms/step - loss: 0.0334 - accuracy: 0.9889\n",
      "Epoch 18/20\n",
      "71/71 [==============================] - 4s 52ms/step - loss: 0.0540 - accuracy: 0.9832\n",
      "Epoch 19/20\n",
      "71/71 [==============================] - 3s 48ms/step - loss: 0.0220 - accuracy: 0.9929\n",
      "Epoch 20/20\n",
      "71/71 [==============================] - 3s 48ms/step - loss: 0.0193 - accuracy: 0.9947\n",
      "[INFO] Saving Model for jellyfish fold 3 ...\n",
      "36/36 [==============================] - 0s 10ms/step\n"
     ]
    },
    {
     "name": "stderr",
     "output_type": "stream",
     "text": [
      "C:\\Users\\rudra\\AppData\\Local\\Temp\\ipykernel_6820\\3249705492.py:34: UserWarning: FigureCanvasAgg is non-interactive, and thus cannot be shown\n",
      "  plt.show()\n"
     ]
    },
    {
     "name": "stdout",
     "output_type": "stream",
     "text": [
      "1/1 [==============================] - 0s 69ms/step\n"
     ]
    },
    {
     "name": "stderr",
     "output_type": "stream",
     "text": [
      "C:\\Users\\rudra\\AppData\\Local\\Temp\\ipykernel_6820\\1767733992.py:15: RuntimeWarning: invalid value encountered in divide\n",
      "  channel_image /= channel_image.std()\n",
      "C:\\Users\\rudra\\AppData\\Local\\Temp\\ipykernel_6820\\1767733992.py:18: RuntimeWarning: invalid value encountered in cast\n",
      "  channel_image = np.clip(channel_image, 0, 255).astype('uint8')\n"
     ]
    },
    {
     "name": "stdout",
     "output_type": "stream",
     "text": [
      "[INFO] Loading images ...\n",
      "[INFO] Processing kangaroo ...\n",
      "[INFO] Processing rest ...\n",
      "[INFO] image extract completed\n",
      "total train samples: \n",
      "3418\n",
      "[INFO] Training network for kangaroo fold 1...\n",
      "Epoch 1/20\n",
      "71/71 [==============================] - 5s 48ms/step - loss: 0.4478 - accuracy: 0.7927\n",
      "Epoch 2/20\n",
      "71/71 [==============================] - 3s 48ms/step - loss: 0.3270 - accuracy: 0.8646\n",
      "Epoch 3/20\n",
      "71/71 [==============================] - 3s 48ms/step - loss: 0.2894 - accuracy: 0.8816\n",
      "Epoch 4/20\n",
      "71/71 [==============================] - 3s 47ms/step - loss: 0.2236 - accuracy: 0.9141\n",
      "Epoch 5/20\n",
      "71/71 [==============================] - 3s 47ms/step - loss: 0.1544 - accuracy: 0.9457\n",
      "Epoch 6/20\n",
      "71/71 [==============================] - 3s 48ms/step - loss: 0.1363 - accuracy: 0.9528\n",
      "Epoch 7/20\n",
      "71/71 [==============================] - 3s 48ms/step - loss: 0.0854 - accuracy: 0.9751\n",
      "Epoch 8/20\n",
      "71/71 [==============================] - 3s 47ms/step - loss: 0.0820 - accuracy: 0.9728\n",
      "Epoch 9/20\n",
      "71/71 [==============================] - 4s 50ms/step - loss: 0.0579 - accuracy: 0.9804\n",
      "Epoch 10/20\n",
      "71/71 [==============================] - 3s 49ms/step - loss: 0.0359 - accuracy: 0.9915\n",
      "Epoch 11/20\n",
      "71/71 [==============================] - 3s 48ms/step - loss: 0.0261 - accuracy: 0.9942\n",
      "Epoch 12/20\n",
      "71/71 [==============================] - 3s 47ms/step - loss: 0.0315 - accuracy: 0.9898\n",
      "Epoch 13/20\n",
      "71/71 [==============================] - 3s 48ms/step - loss: 0.0424 - accuracy: 0.9858\n",
      "Epoch 14/20\n",
      "71/71 [==============================] - 3s 48ms/step - loss: 0.0762 - accuracy: 0.9728\n",
      "Epoch 15/20\n",
      "71/71 [==============================] - 3s 48ms/step - loss: 0.0639 - accuracy: 0.9764\n",
      "Epoch 16/20\n",
      "71/71 [==============================] - 3s 49ms/step - loss: 0.0897 - accuracy: 0.9671\n",
      "Epoch 17/20\n",
      "71/71 [==============================] - 3s 47ms/step - loss: 0.0399 - accuracy: 0.9880\n",
      "Epoch 18/20\n",
      "71/71 [==============================] - 3s 48ms/step - loss: 0.0463 - accuracy: 0.9889\n",
      "Epoch 19/20\n",
      "71/71 [==============================] - 3s 48ms/step - loss: 0.0194 - accuracy: 0.9947\n",
      "Epoch 20/20\n",
      "71/71 [==============================] - 3s 47ms/step - loss: 0.0108 - accuracy: 0.9991\n",
      "[INFO] Saving Model for kangaroo fold 1 ...\n",
      "36/36 [==============================] - 0s 10ms/step\n"
     ]
    },
    {
     "name": "stderr",
     "output_type": "stream",
     "text": [
      "C:\\Users\\rudra\\AppData\\Local\\Temp\\ipykernel_6820\\3249705492.py:34: UserWarning: FigureCanvasAgg is non-interactive, and thus cannot be shown\n",
      "  plt.show()\n"
     ]
    },
    {
     "name": "stdout",
     "output_type": "stream",
     "text": [
      "1/1 [==============================] - 0s 95ms/step\n"
     ]
    },
    {
     "name": "stderr",
     "output_type": "stream",
     "text": [
      "C:\\Users\\rudra\\AppData\\Local\\Temp\\ipykernel_6820\\1767733992.py:15: RuntimeWarning: invalid value encountered in divide\n",
      "  channel_image /= channel_image.std()\n",
      "C:\\Users\\rudra\\AppData\\Local\\Temp\\ipykernel_6820\\1767733992.py:18: RuntimeWarning: invalid value encountered in cast\n",
      "  channel_image = np.clip(channel_image, 0, 255).astype('uint8')\n"
     ]
    },
    {
     "name": "stdout",
     "output_type": "stream",
     "text": [
      "[INFO] Training network for kangaroo fold 2...\n",
      "Epoch 1/20\n",
      "71/71 [==============================] - 5s 52ms/step - loss: 0.4608 - accuracy: 0.7711\n",
      "Epoch 2/20\n",
      "71/71 [==============================] - 3s 48ms/step - loss: 0.3747 - accuracy: 0.8358\n",
      "Epoch 3/20\n",
      "71/71 [==============================] - 3s 48ms/step - loss: 0.2872 - accuracy: 0.8865\n",
      "Epoch 4/20\n",
      "71/71 [==============================] - 3s 48ms/step - loss: 0.2355 - accuracy: 0.9003\n",
      "Epoch 5/20\n",
      "71/71 [==============================] - 3s 47ms/step - loss: 0.1663 - accuracy: 0.9399\n",
      "Epoch 6/20\n",
      "71/71 [==============================] - 3s 47ms/step - loss: 0.1414 - accuracy: 0.9479\n",
      "Epoch 7/20\n",
      "71/71 [==============================] - 3s 47ms/step - loss: 0.1755 - accuracy: 0.9315\n",
      "Epoch 8/20\n",
      "71/71 [==============================] - 3s 47ms/step - loss: 0.1180 - accuracy: 0.9564\n",
      "Epoch 9/20\n",
      "71/71 [==============================] - 3s 47ms/step - loss: 0.0826 - accuracy: 0.9742\n",
      "Epoch 10/20\n",
      "71/71 [==============================] - 3s 47ms/step - loss: 0.0527 - accuracy: 0.9849\n",
      "Epoch 11/20\n",
      "71/71 [==============================] - 3s 47ms/step - loss: 0.0649 - accuracy: 0.9786\n",
      "Epoch 12/20\n",
      "71/71 [==============================] - 3s 47ms/step - loss: 0.0422 - accuracy: 0.9866\n",
      "Epoch 13/20\n",
      "71/71 [==============================] - 3s 48ms/step - loss: 0.0311 - accuracy: 0.9920\n",
      "Epoch 14/20\n",
      "71/71 [==============================] - 3s 48ms/step - loss: 0.0342 - accuracy: 0.9902\n",
      "Epoch 15/20\n",
      "71/71 [==============================] - 3s 47ms/step - loss: 0.0205 - accuracy: 0.9933\n",
      "Epoch 16/20\n",
      "71/71 [==============================] - 3s 47ms/step - loss: 0.0555 - accuracy: 0.9795\n",
      "Epoch 17/20\n",
      "71/71 [==============================] - 3s 47ms/step - loss: 0.0526 - accuracy: 0.9804\n",
      "Epoch 18/20\n",
      "71/71 [==============================] - 3s 47ms/step - loss: 0.0207 - accuracy: 0.9947\n",
      "Epoch 19/20\n",
      "71/71 [==============================] - 3s 47ms/step - loss: 0.0536 - accuracy: 0.9822\n",
      "Epoch 20/20\n",
      "71/71 [==============================] - 3s 47ms/step - loss: 0.0339 - accuracy: 0.9893\n",
      "[INFO] Saving Model for kangaroo fold 2 ...\n",
      "36/36 [==============================] - 0s 10ms/step\n"
     ]
    },
    {
     "name": "stderr",
     "output_type": "stream",
     "text": [
      "C:\\Users\\rudra\\AppData\\Local\\Temp\\ipykernel_6820\\3249705492.py:34: UserWarning: FigureCanvasAgg is non-interactive, and thus cannot be shown\n",
      "  plt.show()\n"
     ]
    },
    {
     "name": "stdout",
     "output_type": "stream",
     "text": [
      "1/1 [==============================] - 0s 78ms/step\n"
     ]
    },
    {
     "name": "stderr",
     "output_type": "stream",
     "text": [
      "C:\\Users\\rudra\\AppData\\Local\\Temp\\ipykernel_6820\\1767733992.py:15: RuntimeWarning: invalid value encountered in divide\n",
      "  channel_image /= channel_image.std()\n",
      "C:\\Users\\rudra\\AppData\\Local\\Temp\\ipykernel_6820\\1767733992.py:18: RuntimeWarning: invalid value encountered in cast\n",
      "  channel_image = np.clip(channel_image, 0, 255).astype('uint8')\n"
     ]
    },
    {
     "name": "stdout",
     "output_type": "stream",
     "text": [
      "[INFO] Training network for kangaroo fold 3...\n",
      "Epoch 1/20\n",
      "71/71 [==============================] - 4s 48ms/step - loss: 0.4772 - accuracy: 0.7751\n",
      "Epoch 2/20\n",
      "71/71 [==============================] - 4s 50ms/step - loss: 0.3697 - accuracy: 0.8242\n",
      "Epoch 3/20\n",
      "71/71 [==============================] - 4s 53ms/step - loss: 0.3141 - accuracy: 0.8616\n",
      "Epoch 4/20\n",
      "71/71 [==============================] - 3s 47ms/step - loss: 0.2563 - accuracy: 0.8954\n",
      "Epoch 5/20\n",
      "71/71 [==============================] - 3s 47ms/step - loss: 0.1949 - accuracy: 0.9146\n",
      "Epoch 6/20\n",
      "71/71 [==============================] - 3s 48ms/step - loss: 0.1659 - accuracy: 0.9453\n",
      "Epoch 7/20\n",
      "71/71 [==============================] - 3s 48ms/step - loss: 0.1144 - accuracy: 0.9644\n",
      "Epoch 8/20\n",
      "71/71 [==============================] - 3s 47ms/step - loss: 0.2461 - accuracy: 0.9043\n",
      "Epoch 9/20\n",
      "71/71 [==============================] - 3s 47ms/step - loss: 0.1365 - accuracy: 0.9488\n",
      "Epoch 10/20\n",
      "71/71 [==============================] - 3s 48ms/step - loss: 0.1120 - accuracy: 0.9591\n",
      "Epoch 11/20\n",
      "71/71 [==============================] - 3s 48ms/step - loss: 0.0514 - accuracy: 0.9853\n",
      "Epoch 12/20\n",
      "71/71 [==============================] - 3s 48ms/step - loss: 0.0565 - accuracy: 0.9826\n",
      "Epoch 13/20\n",
      "71/71 [==============================] - 3s 47ms/step - loss: 0.0454 - accuracy: 0.9831\n",
      "Epoch 14/20\n",
      "71/71 [==============================] - 3s 48ms/step - loss: 0.0796 - accuracy: 0.9693\n",
      "Epoch 15/20\n",
      "71/71 [==============================] - 3s 47ms/step - loss: 0.0424 - accuracy: 0.9871\n",
      "Epoch 16/20\n",
      "71/71 [==============================] - 3s 47ms/step - loss: 0.0375 - accuracy: 0.9911\n",
      "Epoch 17/20\n",
      "71/71 [==============================] - 3s 47ms/step - loss: 0.0206 - accuracy: 0.9933\n",
      "Epoch 18/20\n",
      "71/71 [==============================] - 3s 47ms/step - loss: 0.0222 - accuracy: 0.9951\n",
      "Epoch 19/20\n",
      "71/71 [==============================] - 3s 47ms/step - loss: 0.0655 - accuracy: 0.9769\n",
      "Epoch 20/20\n",
      "71/71 [==============================] - 3s 48ms/step - loss: 0.0307 - accuracy: 0.9902\n",
      "[INFO] Saving Model for kangaroo fold 3 ...\n",
      "36/36 [==============================] - 0s 10ms/step\n"
     ]
    },
    {
     "name": "stderr",
     "output_type": "stream",
     "text": [
      "C:\\Users\\rudra\\AppData\\Local\\Temp\\ipykernel_6820\\3249705492.py:34: UserWarning: FigureCanvasAgg is non-interactive, and thus cannot be shown\n",
      "  plt.show()\n"
     ]
    },
    {
     "name": "stdout",
     "output_type": "stream",
     "text": [
      "1/1 [==============================] - 0s 90ms/step\n",
      "[INFO] Loading images ...\n",
      "[INFO] Processing koala ...\n",
      "[INFO] Processing rest ...\n",
      "[INFO] image extract completed\n",
      "total train samples: \n",
      "3435\n",
      "[INFO] Training network for koala fold 1...\n",
      "Epoch 1/20\n",
      "71/71 [==============================] - 5s 48ms/step - loss: 0.3741 - accuracy: 0.8266\n",
      "Epoch 2/20\n",
      "71/71 [==============================] - 3s 48ms/step - loss: 0.2079 - accuracy: 0.9212\n",
      "Epoch 3/20\n",
      "71/71 [==============================] - 3s 47ms/step - loss: 0.1481 - accuracy: 0.9438\n",
      "Epoch 4/20\n",
      "71/71 [==============================] - 3s 47ms/step - loss: 0.1032 - accuracy: 0.9615\n",
      "Epoch 5/20\n",
      "71/71 [==============================] - 3s 49ms/step - loss: 0.0832 - accuracy: 0.9721\n",
      "Epoch 6/20\n",
      "71/71 [==============================] - 3s 49ms/step - loss: 0.0480 - accuracy: 0.9872\n",
      "Epoch 7/20\n",
      "71/71 [==============================] - 3s 47ms/step - loss: 0.0375 - accuracy: 0.9889\n",
      "Epoch 8/20\n",
      "71/71 [==============================] - 3s 47ms/step - loss: 0.0281 - accuracy: 0.9934\n",
      "Epoch 9/20\n",
      "71/71 [==============================] - 3s 48ms/step - loss: 0.0421 - accuracy: 0.9841\n",
      "Epoch 10/20\n",
      "71/71 [==============================] - 3s 47ms/step - loss: 0.0526 - accuracy: 0.9810\n",
      "Epoch 11/20\n",
      "71/71 [==============================] - 3s 47ms/step - loss: 0.0427 - accuracy: 0.9841\n",
      "Epoch 12/20\n",
      "71/71 [==============================] - 3s 47ms/step - loss: 0.0420 - accuracy: 0.9854\n",
      "Epoch 13/20\n",
      "71/71 [==============================] - 3s 48ms/step - loss: 0.0251 - accuracy: 0.9925\n",
      "Epoch 14/20\n",
      "71/71 [==============================] - 3s 47ms/step - loss: 0.0199 - accuracy: 0.9942\n",
      "Epoch 15/20\n",
      "71/71 [==============================] - 3s 47ms/step - loss: 0.0059 - accuracy: 0.9987\n",
      "Epoch 16/20\n",
      "71/71 [==============================] - 3s 48ms/step - loss: 0.0061 - accuracy: 0.9987\n",
      "Epoch 17/20\n",
      "71/71 [==============================] - 3s 48ms/step - loss: 0.0047 - accuracy: 0.9987\n",
      "Epoch 18/20\n",
      "71/71 [==============================] - 3s 48ms/step - loss: 0.0206 - accuracy: 0.9938\n",
      "Epoch 19/20\n",
      "71/71 [==============================] - 3s 47ms/step - loss: 0.0488 - accuracy: 0.9836\n",
      "Epoch 20/20\n",
      "71/71 [==============================] - 3s 47ms/step - loss: 0.0200 - accuracy: 0.9929\n",
      "[INFO] Saving Model for koala fold 1 ...\n",
      "36/36 [==============================] - 0s 10ms/step\n"
     ]
    },
    {
     "name": "stderr",
     "output_type": "stream",
     "text": [
      "C:\\Users\\rudra\\AppData\\Local\\Temp\\ipykernel_6820\\3249705492.py:34: UserWarning: FigureCanvasAgg is non-interactive, and thus cannot be shown\n",
      "  plt.show()\n"
     ]
    },
    {
     "name": "stdout",
     "output_type": "stream",
     "text": [
      "1/1 [==============================] - 0s 78ms/step\n"
     ]
    },
    {
     "name": "stderr",
     "output_type": "stream",
     "text": [
      "C:\\Users\\rudra\\AppData\\Local\\Temp\\ipykernel_6820\\1767733992.py:15: RuntimeWarning: invalid value encountered in divide\n",
      "  channel_image /= channel_image.std()\n",
      "C:\\Users\\rudra\\AppData\\Local\\Temp\\ipykernel_6820\\1767733992.py:18: RuntimeWarning: invalid value encountered in cast\n",
      "  channel_image = np.clip(channel_image, 0, 255).astype('uint8')\n"
     ]
    },
    {
     "name": "stdout",
     "output_type": "stream",
     "text": [
      "[INFO] Training network for koala fold 2...\n",
      "Epoch 1/20\n",
      "71/71 [==============================] - 4s 48ms/step - loss: 0.3727 - accuracy: 0.8310\n",
      "Epoch 2/20\n",
      "71/71 [==============================] - 3s 47ms/step - loss: 0.1900 - accuracy: 0.9225\n",
      "Epoch 3/20\n",
      "71/71 [==============================] - 3s 47ms/step - loss: 0.1461 - accuracy: 0.9460\n",
      "Epoch 4/20\n",
      "71/71 [==============================] - 3s 47ms/step - loss: 0.1026 - accuracy: 0.9615\n",
      "Epoch 5/20\n",
      "71/71 [==============================] - 3s 47ms/step - loss: 0.0537 - accuracy: 0.9863\n",
      "Epoch 6/20\n",
      "71/71 [==============================] - 3s 47ms/step - loss: 0.0609 - accuracy: 0.9765\n",
      "Epoch 7/20\n",
      "71/71 [==============================] - 3s 47ms/step - loss: 0.0430 - accuracy: 0.9872\n",
      "Epoch 8/20\n",
      "71/71 [==============================] - 3s 47ms/step - loss: 0.0282 - accuracy: 0.9916\n",
      "Epoch 9/20\n",
      "71/71 [==============================] - 3s 47ms/step - loss: 0.0392 - accuracy: 0.9858\n",
      "Epoch 10/20\n",
      "71/71 [==============================] - 3s 47ms/step - loss: 0.0130 - accuracy: 0.9987\n",
      "Epoch 11/20\n",
      "71/71 [==============================] - 3s 47ms/step - loss: 0.0299 - accuracy: 0.9916\n",
      "Epoch 12/20\n",
      "71/71 [==============================] - 3s 47ms/step - loss: 0.0592 - accuracy: 0.9810\n",
      "Epoch 13/20\n",
      "71/71 [==============================] - 3s 47ms/step - loss: 0.0378 - accuracy: 0.9894\n",
      "Epoch 14/20\n",
      "71/71 [==============================] - 3s 47ms/step - loss: 0.0215 - accuracy: 0.9925\n",
      "Epoch 15/20\n",
      "71/71 [==============================] - 3s 47ms/step - loss: 0.0321 - accuracy: 0.9898\n",
      "Epoch 16/20\n",
      "71/71 [==============================] - 3s 47ms/step - loss: 0.0206 - accuracy: 0.9938\n",
      "Epoch 17/20\n",
      "71/71 [==============================] - 3s 47ms/step - loss: 0.0143 - accuracy: 0.9956\n",
      "Epoch 18/20\n",
      "71/71 [==============================] - 3s 47ms/step - loss: 0.0156 - accuracy: 0.9956\n",
      "Epoch 19/20\n",
      "71/71 [==============================] - 3s 47ms/step - loss: 0.0069 - accuracy: 0.9991\n",
      "Epoch 20/20\n",
      "71/71 [==============================] - 3s 47ms/step - loss: 0.0059 - accuracy: 0.9987\n",
      "[INFO] Saving Model for koala fold 2 ...\n",
      "36/36 [==============================] - 0s 10ms/step\n"
     ]
    },
    {
     "name": "stderr",
     "output_type": "stream",
     "text": [
      "C:\\Users\\rudra\\AppData\\Local\\Temp\\ipykernel_6820\\3249705492.py:34: UserWarning: FigureCanvasAgg is non-interactive, and thus cannot be shown\n",
      "  plt.show()\n"
     ]
    },
    {
     "name": "stdout",
     "output_type": "stream",
     "text": [
      "1/1 [==============================] - 0s 94ms/step\n"
     ]
    },
    {
     "name": "stderr",
     "output_type": "stream",
     "text": [
      "C:\\Users\\rudra\\AppData\\Local\\Temp\\ipykernel_6820\\1767733992.py:15: RuntimeWarning: invalid value encountered in divide\n",
      "  channel_image /= channel_image.std()\n",
      "C:\\Users\\rudra\\AppData\\Local\\Temp\\ipykernel_6820\\1767733992.py:18: RuntimeWarning: invalid value encountered in cast\n",
      "  channel_image = np.clip(channel_image, 0, 255).astype('uint8')\n"
     ]
    },
    {
     "name": "stdout",
     "output_type": "stream",
     "text": [
      "[INFO] Training network for koala fold 3...\n",
      "Epoch 1/20\n",
      "71/71 [==============================] - 4s 48ms/step - loss: 0.4149 - accuracy: 0.8134\n",
      "Epoch 2/20\n",
      "71/71 [==============================] - 3s 48ms/step - loss: 0.2271 - accuracy: 0.9057\n",
      "Epoch 3/20\n",
      "71/71 [==============================] - 3s 47ms/step - loss: 0.1696 - accuracy: 0.9349\n",
      "Epoch 4/20\n",
      "71/71 [==============================] - 3s 48ms/step - loss: 0.1214 - accuracy: 0.9495\n",
      "Epoch 5/20\n",
      "71/71 [==============================] - 3s 47ms/step - loss: 0.0818 - accuracy: 0.9748\n",
      "Epoch 6/20\n",
      "71/71 [==============================] - 3s 47ms/step - loss: 0.0653 - accuracy: 0.9805\n",
      "Epoch 7/20\n",
      "71/71 [==============================] - 3s 47ms/step - loss: 0.0382 - accuracy: 0.9876\n",
      "Epoch 8/20\n",
      "71/71 [==============================] - 3s 47ms/step - loss: 0.0272 - accuracy: 0.9916\n",
      "Epoch 9/20\n",
      "71/71 [==============================] - 3s 48ms/step - loss: 0.0396 - accuracy: 0.9854\n",
      "Epoch 10/20\n",
      "71/71 [==============================] - 3s 47ms/step - loss: 0.0498 - accuracy: 0.9810\n",
      "Epoch 11/20\n",
      "71/71 [==============================] - 3s 47ms/step - loss: 0.0255 - accuracy: 0.9929\n",
      "Epoch 12/20\n",
      "71/71 [==============================] - 3s 47ms/step - loss: 0.0314 - accuracy: 0.9894\n",
      "Epoch 13/20\n",
      "71/71 [==============================] - 3s 47ms/step - loss: 0.0216 - accuracy: 0.9925\n",
      "Epoch 14/20\n",
      "71/71 [==============================] - 4s 50ms/step - loss: 0.0076 - accuracy: 0.9991\n",
      "Epoch 15/20\n",
      "71/71 [==============================] - 3s 48ms/step - loss: 0.0103 - accuracy: 0.9982\n",
      "Epoch 16/20\n",
      "71/71 [==============================] - 3s 47ms/step - loss: 0.0085 - accuracy: 0.9969\n",
      "Epoch 17/20\n",
      "71/71 [==============================] - 3s 47ms/step - loss: 0.0094 - accuracy: 0.9978\n",
      "Epoch 18/20\n",
      "71/71 [==============================] - 3s 47ms/step - loss: 0.0086 - accuracy: 0.9978\n",
      "Epoch 19/20\n",
      "71/71 [==============================] - 3s 47ms/step - loss: 0.0250 - accuracy: 0.9929\n",
      "Epoch 20/20\n",
      "71/71 [==============================] - 3s 48ms/step - loss: 0.0522 - accuracy: 0.9801\n",
      "[INFO] Saving Model for koala fold 3 ...\n",
      "36/36 [==============================] - 1s 10ms/step\n"
     ]
    },
    {
     "name": "stderr",
     "output_type": "stream",
     "text": [
      "C:\\Users\\rudra\\AppData\\Local\\Temp\\ipykernel_6820\\3249705492.py:34: UserWarning: FigureCanvasAgg is non-interactive, and thus cannot be shown\n",
      "  plt.show()\n"
     ]
    },
    {
     "name": "stdout",
     "output_type": "stream",
     "text": [
      "1/1 [==============================] - 0s 94ms/step\n"
     ]
    },
    {
     "name": "stderr",
     "output_type": "stream",
     "text": [
      "C:\\Users\\rudra\\AppData\\Local\\Temp\\ipykernel_6820\\1767733992.py:15: RuntimeWarning: invalid value encountered in divide\n",
      "  channel_image /= channel_image.std()\n",
      "C:\\Users\\rudra\\AppData\\Local\\Temp\\ipykernel_6820\\1767733992.py:18: RuntimeWarning: invalid value encountered in cast\n",
      "  channel_image = np.clip(channel_image, 0, 255).astype('uint8')\n"
     ]
    },
    {
     "name": "stdout",
     "output_type": "stream",
     "text": [
      "[INFO] Loading images ...\n",
      "[INFO] Processing ladybugs ...\n",
      "[INFO] Processing rest ...\n",
      "[INFO] image extract completed\n",
      "total train samples: \n",
      "3443\n",
      "[INFO] Training network for ladybugs fold 1...\n",
      "Epoch 1/20\n",
      "71/71 [==============================] - 5s 48ms/step - loss: 0.3528 - accuracy: 0.8486\n",
      "Epoch 2/20\n",
      "71/71 [==============================] - 4s 49ms/step - loss: 0.2040 - accuracy: 0.9302\n",
      "Epoch 3/20\n",
      "71/71 [==============================] - 3s 48ms/step - loss: 0.1234 - accuracy: 0.9616\n",
      "Epoch 4/20\n",
      "71/71 [==============================] - 3s 49ms/step - loss: 0.0813 - accuracy: 0.9783\n",
      "Epoch 5/20\n",
      "71/71 [==============================] - 3s 49ms/step - loss: 0.0525 - accuracy: 0.9832\n",
      "Epoch 6/20\n",
      "71/71 [==============================] - 3s 48ms/step - loss: 0.0517 - accuracy: 0.9819\n",
      "Epoch 7/20\n",
      "71/71 [==============================] - 3s 47ms/step - loss: 0.0477 - accuracy: 0.9841\n",
      "Epoch 8/20\n",
      "71/71 [==============================] - 3s 47ms/step - loss: 0.0492 - accuracy: 0.9837\n",
      "Epoch 9/20\n",
      "71/71 [==============================] - 3s 47ms/step - loss: 0.0262 - accuracy: 0.9938\n",
      "Epoch 10/20\n",
      "71/71 [==============================] - 3s 47ms/step - loss: 0.0190 - accuracy: 0.9929\n",
      "Epoch 11/20\n",
      "71/71 [==============================] - 3s 47ms/step - loss: 0.0369 - accuracy: 0.9894\n",
      "Epoch 12/20\n",
      "71/71 [==============================] - 3s 47ms/step - loss: 0.0303 - accuracy: 0.9925\n",
      "Epoch 13/20\n",
      "71/71 [==============================] - 3s 48ms/step - loss: 0.0202 - accuracy: 0.9951\n",
      "Epoch 14/20\n",
      "71/71 [==============================] - 3s 48ms/step - loss: 0.0253 - accuracy: 0.9925\n",
      "Epoch 15/20\n",
      "71/71 [==============================] - 3s 48ms/step - loss: 0.0211 - accuracy: 0.9929\n",
      "Epoch 16/20\n",
      "71/71 [==============================] - 3s 48ms/step - loss: 0.0144 - accuracy: 0.9956\n",
      "Epoch 17/20\n",
      "71/71 [==============================] - 3s 47ms/step - loss: 0.0067 - accuracy: 0.9991\n",
      "Epoch 18/20\n",
      "71/71 [==============================] - 3s 48ms/step - loss: 0.0098 - accuracy: 0.9965\n",
      "Epoch 19/20\n",
      "71/71 [==============================] - 3s 47ms/step - loss: 0.0367 - accuracy: 0.9867\n",
      "Epoch 20/20\n",
      "71/71 [==============================] - 3s 47ms/step - loss: 0.0229 - accuracy: 0.9920\n",
      "[INFO] Saving Model for ladybugs fold 1 ...\n",
      "36/36 [==============================] - 0s 10ms/step\n"
     ]
    },
    {
     "name": "stderr",
     "output_type": "stream",
     "text": [
      "C:\\Users\\rudra\\AppData\\Local\\Temp\\ipykernel_6820\\3249705492.py:34: UserWarning: FigureCanvasAgg is non-interactive, and thus cannot be shown\n",
      "  plt.show()\n"
     ]
    },
    {
     "name": "stdout",
     "output_type": "stream",
     "text": [
      "1/1 [==============================] - 0s 70ms/step\n"
     ]
    },
    {
     "name": "stderr",
     "output_type": "stream",
     "text": [
      "C:\\Users\\rudra\\AppData\\Local\\Temp\\ipykernel_6820\\1767733992.py:15: RuntimeWarning: invalid value encountered in divide\n",
      "  channel_image /= channel_image.std()\n",
      "C:\\Users\\rudra\\AppData\\Local\\Temp\\ipykernel_6820\\1767733992.py:18: RuntimeWarning: invalid value encountered in cast\n",
      "  channel_image = np.clip(channel_image, 0, 255).astype('uint8')\n"
     ]
    },
    {
     "name": "stdout",
     "output_type": "stream",
     "text": [
      "[INFO] Training network for ladybugs fold 2...\n",
      "Epoch 1/20\n",
      "71/71 [==============================] - 4s 49ms/step - loss: 0.3682 - accuracy: 0.8438\n",
      "Epoch 2/20\n",
      "71/71 [==============================] - 3s 48ms/step - loss: 0.1957 - accuracy: 0.9337\n",
      "Epoch 3/20\n",
      "71/71 [==============================] - 3s 48ms/step - loss: 0.1511 - accuracy: 0.9403\n",
      "Epoch 4/20\n",
      "71/71 [==============================] - 3s 48ms/step - loss: 0.1117 - accuracy: 0.9589\n",
      "Epoch 5/20\n",
      "71/71 [==============================] - 3s 48ms/step - loss: 0.0676 - accuracy: 0.9761\n",
      "Epoch 6/20\n",
      "71/71 [==============================] - 3s 48ms/step - loss: 0.0415 - accuracy: 0.9885\n",
      "Epoch 7/20\n",
      "71/71 [==============================] - 3s 49ms/step - loss: 0.0372 - accuracy: 0.9890\n",
      "Epoch 8/20\n",
      "71/71 [==============================] - 4s 50ms/step - loss: 0.0331 - accuracy: 0.9890\n",
      "Epoch 9/20\n",
      "71/71 [==============================] - 3s 48ms/step - loss: 0.0286 - accuracy: 0.9907\n",
      "Epoch 10/20\n",
      "71/71 [==============================] - 4s 51ms/step - loss: 0.0118 - accuracy: 0.9969\n",
      "Epoch 11/20\n",
      "71/71 [==============================] - 4s 49ms/step - loss: 0.0421 - accuracy: 0.9872\n",
      "Epoch 12/20\n",
      "71/71 [==============================] - 3s 48ms/step - loss: 0.0257 - accuracy: 0.9912\n",
      "Epoch 13/20\n",
      "71/71 [==============================] - 3s 48ms/step - loss: 0.0374 - accuracy: 0.9850\n",
      "Epoch 14/20\n",
      "71/71 [==============================] - 3s 48ms/step - loss: 0.0213 - accuracy: 0.9929\n",
      "Epoch 15/20\n",
      "71/71 [==============================] - 3s 49ms/step - loss: 0.0129 - accuracy: 0.9973\n",
      "Epoch 16/20\n",
      "71/71 [==============================] - 3s 48ms/step - loss: 0.0125 - accuracy: 0.9960\n",
      "Epoch 17/20\n",
      "71/71 [==============================] - 3s 49ms/step - loss: 0.0108 - accuracy: 0.9973\n",
      "Epoch 18/20\n",
      "71/71 [==============================] - 3s 48ms/step - loss: 0.0116 - accuracy: 0.9965\n",
      "Epoch 19/20\n",
      "71/71 [==============================] - 3s 47ms/step - loss: 0.0240 - accuracy: 0.9920\n",
      "Epoch 20/20\n",
      "71/71 [==============================] - 3s 48ms/step - loss: 0.0159 - accuracy: 0.9947\n",
      "[INFO] Saving Model for ladybugs fold 2 ...\n",
      "36/36 [==============================] - 1s 10ms/step\n"
     ]
    },
    {
     "name": "stderr",
     "output_type": "stream",
     "text": [
      "C:\\Users\\rudra\\AppData\\Local\\Temp\\ipykernel_6820\\3249705492.py:34: UserWarning: FigureCanvasAgg is non-interactive, and thus cannot be shown\n",
      "  plt.show()\n"
     ]
    },
    {
     "name": "stdout",
     "output_type": "stream",
     "text": [
      "1/1 [==============================] - 0s 76ms/step\n"
     ]
    },
    {
     "name": "stderr",
     "output_type": "stream",
     "text": [
      "C:\\Users\\rudra\\AppData\\Local\\Temp\\ipykernel_6820\\1767733992.py:15: RuntimeWarning: invalid value encountered in divide\n",
      "  channel_image /= channel_image.std()\n",
      "C:\\Users\\rudra\\AppData\\Local\\Temp\\ipykernel_6820\\1767733992.py:18: RuntimeWarning: invalid value encountered in cast\n",
      "  channel_image = np.clip(channel_image, 0, 255).astype('uint8')\n"
     ]
    },
    {
     "name": "stdout",
     "output_type": "stream",
     "text": [
      "[INFO] Training network for ladybugs fold 3...\n",
      "Epoch 1/20\n",
      "71/71 [==============================] - 4s 49ms/step - loss: 0.3313 - accuracy: 0.8592\n",
      "Epoch 2/20\n",
      "71/71 [==============================] - 4s 47ms/step - loss: 0.1809 - accuracy: 0.9337\n",
      "Epoch 3/20\n",
      "71/71 [==============================] - 3s 49ms/step - loss: 0.1092 - accuracy: 0.9616\n",
      "Epoch 4/20\n",
      "71/71 [==============================] - 4s 52ms/step - loss: 0.0951 - accuracy: 0.9673\n",
      "Epoch 5/20\n",
      "71/71 [==============================] - 3s 49ms/step - loss: 0.0651 - accuracy: 0.9761\n",
      "Epoch 6/20\n",
      "71/71 [==============================] - 3s 48ms/step - loss: 0.0431 - accuracy: 0.9867\n",
      "Epoch 7/20\n",
      "71/71 [==============================] - 3s 48ms/step - loss: 0.0355 - accuracy: 0.9898\n",
      "Epoch 8/20\n",
      "71/71 [==============================] - 3s 49ms/step - loss: 0.0194 - accuracy: 0.9956\n",
      "Epoch 9/20\n",
      "71/71 [==============================] - 3s 48ms/step - loss: 0.0589 - accuracy: 0.9797\n",
      "Epoch 10/20\n",
      "71/71 [==============================] - 3s 48ms/step - loss: 0.0587 - accuracy: 0.9814\n",
      "Epoch 11/20\n",
      "71/71 [==============================] - 3s 48ms/step - loss: 0.0167 - accuracy: 0.9956\n",
      "Epoch 12/20\n",
      "71/71 [==============================] - 3s 48ms/step - loss: 0.0143 - accuracy: 0.9960\n",
      "Epoch 13/20\n",
      "71/71 [==============================] - 3s 47ms/step - loss: 0.0097 - accuracy: 0.9978\n",
      "Epoch 14/20\n",
      "71/71 [==============================] - 3s 49ms/step - loss: 0.0108 - accuracy: 0.9965\n",
      "Epoch 15/20\n",
      "71/71 [==============================] - 3s 48ms/step - loss: 0.0205 - accuracy: 0.9947\n",
      "Epoch 16/20\n",
      "71/71 [==============================] - 4s 49ms/step - loss: 0.0154 - accuracy: 0.9956\n",
      "Epoch 17/20\n",
      "71/71 [==============================] - 4s 50ms/step - loss: 0.0107 - accuracy: 0.9973\n",
      "Epoch 18/20\n",
      "71/71 [==============================] - 4s 50ms/step - loss: 0.0074 - accuracy: 0.9982\n",
      "Epoch 19/20\n",
      "71/71 [==============================] - 4s 49ms/step - loss: 0.0174 - accuracy: 0.9956\n",
      "Epoch 20/20\n",
      "71/71 [==============================] - 3s 48ms/step - loss: 0.0208 - accuracy: 0.9925\n",
      "[INFO] Saving Model for ladybugs fold 3 ...\n",
      "36/36 [==============================] - 1s 10ms/step\n"
     ]
    },
    {
     "name": "stderr",
     "output_type": "stream",
     "text": [
      "C:\\Users\\rudra\\AppData\\Local\\Temp\\ipykernel_6820\\3249705492.py:34: UserWarning: FigureCanvasAgg is non-interactive, and thus cannot be shown\n",
      "  plt.show()\n"
     ]
    },
    {
     "name": "stdout",
     "output_type": "stream",
     "text": [
      "1/1 [==============================] - 0s 90ms/step\n"
     ]
    },
    {
     "name": "stderr",
     "output_type": "stream",
     "text": [
      "C:\\Users\\rudra\\AppData\\Local\\Temp\\ipykernel_6820\\1767733992.py:15: RuntimeWarning: invalid value encountered in divide\n",
      "  channel_image /= channel_image.std()\n",
      "C:\\Users\\rudra\\AppData\\Local\\Temp\\ipykernel_6820\\1767733992.py:18: RuntimeWarning: invalid value encountered in cast\n",
      "  channel_image = np.clip(channel_image, 0, 255).astype('uint8')\n"
     ]
    },
    {
     "name": "stdout",
     "output_type": "stream",
     "text": [
      "[INFO] Loading images ...\n",
      "[INFO] Processing leopard ...\n",
      "[INFO] Processing rest ...\n",
      "[INFO] image extract completed\n",
      "total train samples: \n",
      "3408\n",
      "[INFO] Training network for leopard fold 1...\n",
      "Epoch 1/20\n",
      "71/71 [==============================] - 4s 46ms/step - loss: 0.3766 - accuracy: 0.8345\n",
      "Epoch 2/20\n",
      "71/71 [==============================] - 3s 46ms/step - loss: 0.2248 - accuracy: 0.9120\n",
      "Epoch 3/20\n",
      "71/71 [==============================] - 3s 45ms/step - loss: 0.1544 - accuracy: 0.9428\n",
      "Epoch 4/20\n",
      "71/71 [==============================] - 3s 47ms/step - loss: 0.1030 - accuracy: 0.9652\n",
      "Epoch 5/20\n",
      "71/71 [==============================] - 3s 46ms/step - loss: 0.0450 - accuracy: 0.9864\n",
      "Epoch 6/20\n",
      "71/71 [==============================] - 3s 45ms/step - loss: 0.0574 - accuracy: 0.9784\n",
      "Epoch 7/20\n",
      "71/71 [==============================] - 3s 46ms/step - loss: 0.0456 - accuracy: 0.9842\n",
      "Epoch 8/20\n",
      "71/71 [==============================] - 3s 46ms/step - loss: 0.0555 - accuracy: 0.9798\n",
      "Epoch 9/20\n",
      "71/71 [==============================] - 3s 46ms/step - loss: 0.0318 - accuracy: 0.9916\n",
      "Epoch 10/20\n",
      "71/71 [==============================] - 3s 47ms/step - loss: 0.0171 - accuracy: 0.9974\n",
      "Epoch 11/20\n",
      "71/71 [==============================] - 3s 46ms/step - loss: 0.0141 - accuracy: 0.9952\n",
      "Epoch 12/20\n",
      "71/71 [==============================] - 3s 46ms/step - loss: 0.0104 - accuracy: 0.9987\n",
      "Epoch 13/20\n",
      "71/71 [==============================] - 3s 47ms/step - loss: 0.0342 - accuracy: 0.9868\n",
      "Epoch 14/20\n",
      "71/71 [==============================] - 3s 46ms/step - loss: 0.0717 - accuracy: 0.9723\n",
      "Epoch 15/20\n",
      "71/71 [==============================] - 3s 45ms/step - loss: 0.0266 - accuracy: 0.9908\n",
      "Epoch 16/20\n",
      "71/71 [==============================] - 3s 45ms/step - loss: 0.0179 - accuracy: 0.9943\n",
      "Epoch 17/20\n",
      "71/71 [==============================] - 3s 46ms/step - loss: 0.0092 - accuracy: 0.9987\n",
      "Epoch 18/20\n",
      "71/71 [==============================] - 3s 48ms/step - loss: 0.0448 - accuracy: 0.9824\n",
      "Epoch 19/20\n",
      "71/71 [==============================] - 3s 45ms/step - loss: 0.0300 - accuracy: 0.9877\n",
      "Epoch 20/20\n",
      "71/71 [==============================] - 3s 45ms/step - loss: 0.0200 - accuracy: 0.9943\n",
      "[INFO] Saving Model for leopard fold 1 ...\n",
      "36/36 [==============================] - 0s 10ms/step\n"
     ]
    },
    {
     "name": "stderr",
     "output_type": "stream",
     "text": [
      "C:\\Users\\rudra\\AppData\\Local\\Temp\\ipykernel_6820\\3249705492.py:34: UserWarning: FigureCanvasAgg is non-interactive, and thus cannot be shown\n",
      "  plt.show()\n"
     ]
    },
    {
     "name": "stdout",
     "output_type": "stream",
     "text": [
      "1/1 [==============================] - 0s 90ms/step\n"
     ]
    },
    {
     "name": "stderr",
     "output_type": "stream",
     "text": [
      "C:\\Users\\rudra\\AppData\\Local\\Temp\\ipykernel_6820\\1767733992.py:15: RuntimeWarning: invalid value encountered in divide\n",
      "  channel_image /= channel_image.std()\n",
      "C:\\Users\\rudra\\AppData\\Local\\Temp\\ipykernel_6820\\1767733992.py:18: RuntimeWarning: invalid value encountered in cast\n",
      "  channel_image = np.clip(channel_image, 0, 255).astype('uint8')\n"
     ]
    },
    {
     "name": "stdout",
     "output_type": "stream",
     "text": [
      "[INFO] Training network for leopard fold 2...\n",
      "Epoch 1/20\n",
      "71/71 [==============================] - 4s 46ms/step - loss: 0.4343 - accuracy: 0.7971\n",
      "Epoch 2/20\n",
      "71/71 [==============================] - 3s 46ms/step - loss: 0.2335 - accuracy: 0.9085\n",
      "Epoch 3/20\n",
      "71/71 [==============================] - 3s 46ms/step - loss: 0.1532 - accuracy: 0.9415\n",
      "Epoch 4/20\n",
      "71/71 [==============================] - 3s 45ms/step - loss: 0.1108 - accuracy: 0.9586\n",
      "Epoch 5/20\n",
      "71/71 [==============================] - 3s 45ms/step - loss: 0.0732 - accuracy: 0.9767\n",
      "Epoch 6/20\n",
      "71/71 [==============================] - 3s 46ms/step - loss: 0.0531 - accuracy: 0.9806\n",
      "Epoch 7/20\n",
      "71/71 [==============================] - 3s 46ms/step - loss: 0.0428 - accuracy: 0.9881\n",
      "Epoch 8/20\n",
      "71/71 [==============================] - 3s 45ms/step - loss: 0.0374 - accuracy: 0.9864\n",
      "Epoch 9/20\n",
      "71/71 [==============================] - 3s 46ms/step - loss: 0.0315 - accuracy: 0.9908\n",
      "Epoch 10/20\n",
      "71/71 [==============================] - 3s 46ms/step - loss: 0.0317 - accuracy: 0.9886\n",
      "Epoch 11/20\n",
      "71/71 [==============================] - 3s 46ms/step - loss: 0.0267 - accuracy: 0.9899\n",
      "Epoch 12/20\n",
      "71/71 [==============================] - 3s 47ms/step - loss: 0.0482 - accuracy: 0.9850\n",
      "Epoch 13/20\n",
      "71/71 [==============================] - 3s 47ms/step - loss: 0.0240 - accuracy: 0.9921\n",
      "Epoch 14/20\n",
      "71/71 [==============================] - 3s 46ms/step - loss: 0.0182 - accuracy: 0.9943\n",
      "Epoch 15/20\n",
      "71/71 [==============================] - 3s 45ms/step - loss: 0.0141 - accuracy: 0.9952\n",
      "Epoch 16/20\n",
      "71/71 [==============================] - 3s 46ms/step - loss: 0.0126 - accuracy: 0.9978\n",
      "Epoch 17/20\n",
      "71/71 [==============================] - 3s 48ms/step - loss: 0.0113 - accuracy: 0.9969\n",
      "Epoch 18/20\n",
      "71/71 [==============================] - 3s 45ms/step - loss: 0.0213 - accuracy: 0.9916\n",
      "Epoch 19/20\n",
      "71/71 [==============================] - 3s 45ms/step - loss: 0.0139 - accuracy: 0.9938\n",
      "Epoch 20/20\n",
      "71/71 [==============================] - 3s 46ms/step - loss: 0.0092 - accuracy: 0.9969\n",
      "[INFO] Saving Model for leopard fold 2 ...\n",
      "36/36 [==============================] - 0s 10ms/step\n"
     ]
    },
    {
     "name": "stderr",
     "output_type": "stream",
     "text": [
      "C:\\Users\\rudra\\AppData\\Local\\Temp\\ipykernel_6820\\3249705492.py:34: UserWarning: FigureCanvasAgg is non-interactive, and thus cannot be shown\n",
      "  plt.show()\n"
     ]
    },
    {
     "name": "stdout",
     "output_type": "stream",
     "text": [
      "1/1 [==============================] - 0s 83ms/step\n"
     ]
    },
    {
     "name": "stderr",
     "output_type": "stream",
     "text": [
      "C:\\Users\\rudra\\AppData\\Local\\Temp\\ipykernel_6820\\1767733992.py:15: RuntimeWarning: invalid value encountered in divide\n",
      "  channel_image /= channel_image.std()\n",
      "C:\\Users\\rudra\\AppData\\Local\\Temp\\ipykernel_6820\\1767733992.py:18: RuntimeWarning: invalid value encountered in cast\n",
      "  channel_image = np.clip(channel_image, 0, 255).astype('uint8')\n"
     ]
    },
    {
     "name": "stdout",
     "output_type": "stream",
     "text": [
      "[INFO] Training network for leopard fold 3...\n",
      "Epoch 1/20\n",
      "71/71 [==============================] - 4s 46ms/step - loss: 0.4364 - accuracy: 0.7975\n",
      "Epoch 2/20\n",
      "71/71 [==============================] - 3s 47ms/step - loss: 0.2360 - accuracy: 0.9027\n",
      "Epoch 3/20\n",
      "71/71 [==============================] - 3s 46ms/step - loss: 0.1412 - accuracy: 0.9463\n",
      "Epoch 4/20\n",
      "71/71 [==============================] - 3s 47ms/step - loss: 0.0996 - accuracy: 0.9643\n",
      "Epoch 5/20\n",
      "71/71 [==============================] - 3s 45ms/step - loss: 0.0689 - accuracy: 0.9780\n",
      "Epoch 6/20\n",
      "71/71 [==============================] - 3s 46ms/step - loss: 0.0528 - accuracy: 0.9793\n",
      "Epoch 7/20\n",
      "71/71 [==============================] - 3s 45ms/step - loss: 0.0470 - accuracy: 0.9850\n",
      "Epoch 8/20\n",
      "71/71 [==============================] - 3s 45ms/step - loss: 0.0271 - accuracy: 0.9938\n",
      "Epoch 9/20\n",
      "71/71 [==============================] - 3s 45ms/step - loss: 0.0136 - accuracy: 0.9965\n",
      "Epoch 10/20\n",
      "71/71 [==============================] - 3s 45ms/step - loss: 0.0223 - accuracy: 0.9930\n",
      "Epoch 11/20\n",
      "71/71 [==============================] - 3s 46ms/step - loss: 0.0200 - accuracy: 0.9925\n",
      "Epoch 12/20\n",
      "71/71 [==============================] - 3s 45ms/step - loss: 0.0102 - accuracy: 0.9978\n",
      "Epoch 13/20\n",
      "71/71 [==============================] - 3s 45ms/step - loss: 0.0245 - accuracy: 0.9943\n",
      "Epoch 14/20\n",
      "71/71 [==============================] - 3s 45ms/step - loss: 0.0384 - accuracy: 0.9859\n",
      "Epoch 15/20\n",
      "71/71 [==============================] - 3s 45ms/step - loss: 0.0256 - accuracy: 0.9916\n",
      "Epoch 16/20\n",
      "71/71 [==============================] - 3s 45ms/step - loss: 0.0240 - accuracy: 0.9925\n",
      "Epoch 17/20\n",
      "71/71 [==============================] - 3s 46ms/step - loss: 0.0211 - accuracy: 0.9925\n",
      "Epoch 18/20\n",
      "71/71 [==============================] - 3s 45ms/step - loss: 0.0091 - accuracy: 0.9969\n",
      "Epoch 19/20\n",
      "71/71 [==============================] - 3s 46ms/step - loss: 0.0027 - accuracy: 0.9996\n",
      "Epoch 20/20\n",
      "71/71 [==============================] - 3s 46ms/step - loss: 0.0020 - accuracy: 1.0000\n",
      "[INFO] Saving Model for leopard fold 3 ...\n",
      "36/36 [==============================] - 1s 10ms/step\n"
     ]
    },
    {
     "name": "stderr",
     "output_type": "stream",
     "text": [
      "C:\\Users\\rudra\\AppData\\Local\\Temp\\ipykernel_6820\\3249705492.py:34: UserWarning: FigureCanvasAgg is non-interactive, and thus cannot be shown\n",
      "  plt.show()\n"
     ]
    },
    {
     "name": "stdout",
     "output_type": "stream",
     "text": [
      "1/1 [==============================] - 0s 90ms/step\n"
     ]
    },
    {
     "name": "stderr",
     "output_type": "stream",
     "text": [
      "C:\\Users\\rudra\\AppData\\Local\\Temp\\ipykernel_6820\\1767733992.py:15: RuntimeWarning: invalid value encountered in divide\n",
      "  channel_image /= channel_image.std()\n",
      "C:\\Users\\rudra\\AppData\\Local\\Temp\\ipykernel_6820\\1767733992.py:18: RuntimeWarning: invalid value encountered in cast\n",
      "  channel_image = np.clip(channel_image, 0, 255).astype('uint8')\n"
     ]
    },
    {
     "name": "stdout",
     "output_type": "stream",
     "text": [
      "[INFO] Loading images ...\n",
      "[INFO] Processing lion ...\n",
      "[INFO] Processing rest ...\n",
      "[INFO] image extract completed\n",
      "total train samples: \n",
      "3427\n",
      "[INFO] Training network for lion fold 1...\n",
      "Epoch 1/20\n",
      "71/71 [==============================] - 5s 48ms/step - loss: 0.3809 - accuracy: 0.8341\n",
      "Epoch 2/20\n",
      "71/71 [==============================] - 3s 49ms/step - loss: 0.2329 - accuracy: 0.9112\n",
      "Epoch 3/20\n",
      "71/71 [==============================] - 3s 48ms/step - loss: 0.1887 - accuracy: 0.9236\n",
      "Epoch 4/20\n",
      "71/71 [==============================] - 3s 48ms/step - loss: 0.1425 - accuracy: 0.9485\n",
      "Epoch 5/20\n",
      "71/71 [==============================] - 4s 51ms/step - loss: 0.1265 - accuracy: 0.9489\n",
      "Epoch 6/20\n",
      "71/71 [==============================] - 3s 47ms/step - loss: 0.0816 - accuracy: 0.9707\n",
      "Epoch 7/20\n",
      "71/71 [==============================] - 3s 47ms/step - loss: 0.0755 - accuracy: 0.9729\n",
      "Epoch 8/20\n",
      "71/71 [==============================] - 3s 47ms/step - loss: 0.0434 - accuracy: 0.9885\n",
      "Epoch 9/20\n",
      "71/71 [==============================] - 3s 47ms/step - loss: 0.0494 - accuracy: 0.9840\n",
      "Epoch 10/20\n",
      "71/71 [==============================] - 3s 47ms/step - loss: 0.0802 - accuracy: 0.9711\n",
      "Epoch 11/20\n",
      "71/71 [==============================] - 3s 47ms/step - loss: 0.0290 - accuracy: 0.9920\n",
      "Epoch 12/20\n",
      "71/71 [==============================] - 3s 47ms/step - loss: 0.0442 - accuracy: 0.9836\n",
      "Epoch 13/20\n",
      "71/71 [==============================] - 3s 47ms/step - loss: 0.0233 - accuracy: 0.9933\n",
      "Epoch 14/20\n",
      "71/71 [==============================] - 3s 48ms/step - loss: 0.0177 - accuracy: 0.9947\n",
      "Epoch 15/20\n",
      "71/71 [==============================] - 3s 47ms/step - loss: 0.0250 - accuracy: 0.9920\n",
      "Epoch 16/20\n",
      "71/71 [==============================] - 3s 49ms/step - loss: 0.0238 - accuracy: 0.9911\n",
      "Epoch 17/20\n",
      "71/71 [==============================] - 3s 48ms/step - loss: 0.0253 - accuracy: 0.9916\n",
      "Epoch 18/20\n",
      "71/71 [==============================] - 3s 47ms/step - loss: 0.0535 - accuracy: 0.9800\n",
      "Epoch 19/20\n",
      "71/71 [==============================] - 3s 47ms/step - loss: 0.1721 - accuracy: 0.9378\n",
      "Epoch 20/20\n",
      "71/71 [==============================] - 3s 47ms/step - loss: 0.0994 - accuracy: 0.9636\n",
      "[INFO] Saving Model for lion fold 1 ...\n",
      "36/36 [==============================] - 1s 10ms/step\n"
     ]
    },
    {
     "name": "stderr",
     "output_type": "stream",
     "text": [
      "C:\\Users\\rudra\\AppData\\Local\\Temp\\ipykernel_6820\\3249705492.py:34: UserWarning: FigureCanvasAgg is non-interactive, and thus cannot be shown\n",
      "  plt.show()\n"
     ]
    },
    {
     "name": "stdout",
     "output_type": "stream",
     "text": [
      "1/1 [==============================] - 0s 80ms/step\n"
     ]
    },
    {
     "name": "stderr",
     "output_type": "stream",
     "text": [
      "C:\\Users\\rudra\\AppData\\Local\\Temp\\ipykernel_6820\\1767733992.py:15: RuntimeWarning: invalid value encountered in divide\n",
      "  channel_image /= channel_image.std()\n",
      "C:\\Users\\rudra\\AppData\\Local\\Temp\\ipykernel_6820\\1767733992.py:18: RuntimeWarning: invalid value encountered in cast\n",
      "  channel_image = np.clip(channel_image, 0, 255).astype('uint8')\n"
     ]
    },
    {
     "name": "stdout",
     "output_type": "stream",
     "text": [
      "[INFO] Training network for lion fold 2...\n",
      "Epoch 1/20\n",
      "71/71 [==============================] - 4s 48ms/step - loss: 0.3967 - accuracy: 0.8305\n",
      "Epoch 2/20\n",
      "71/71 [==============================] - 3s 49ms/step - loss: 0.2614 - accuracy: 0.8975\n",
      "Epoch 3/20\n",
      "71/71 [==============================] - 3s 48ms/step - loss: 0.2121 - accuracy: 0.9183\n",
      "Epoch 4/20\n",
      "71/71 [==============================] - 3s 48ms/step - loss: 0.1525 - accuracy: 0.9423\n",
      "Epoch 5/20\n",
      "71/71 [==============================] - 3s 48ms/step - loss: 0.1971 - accuracy: 0.9237\n",
      "Epoch 6/20\n",
      "71/71 [==============================] - 3s 48ms/step - loss: 0.1334 - accuracy: 0.9525\n",
      "Epoch 7/20\n",
      "71/71 [==============================] - 3s 48ms/step - loss: 0.0904 - accuracy: 0.9663\n",
      "Epoch 8/20\n",
      "71/71 [==============================] - 3s 48ms/step - loss: 0.0570 - accuracy: 0.9805\n",
      "Epoch 9/20\n",
      "71/71 [==============================] - 3s 47ms/step - loss: 0.0305 - accuracy: 0.9933\n",
      "Epoch 10/20\n",
      "71/71 [==============================] - 3s 47ms/step - loss: 0.0427 - accuracy: 0.9858\n",
      "Epoch 11/20\n",
      "71/71 [==============================] - 3s 47ms/step - loss: 0.0224 - accuracy: 0.9938\n",
      "Epoch 12/20\n",
      "71/71 [==============================] - 3s 47ms/step - loss: 0.0307 - accuracy: 0.9907\n",
      "Epoch 13/20\n",
      "71/71 [==============================] - 3s 48ms/step - loss: 0.0224 - accuracy: 0.9938\n",
      "Epoch 14/20\n",
      "71/71 [==============================] - 3s 47ms/step - loss: 0.0241 - accuracy: 0.9911\n",
      "Epoch 15/20\n",
      "71/71 [==============================] - 3s 47ms/step - loss: 0.0348 - accuracy: 0.9889\n",
      "Epoch 16/20\n",
      "71/71 [==============================] - 3s 49ms/step - loss: 0.0733 - accuracy: 0.9738\n",
      "Epoch 17/20\n",
      "71/71 [==============================] - 3s 47ms/step - loss: 0.0329 - accuracy: 0.9898\n",
      "Epoch 18/20\n",
      "71/71 [==============================] - 3s 47ms/step - loss: 0.0247 - accuracy: 0.9916\n",
      "Epoch 19/20\n",
      "71/71 [==============================] - 3s 47ms/step - loss: 0.0409 - accuracy: 0.9822\n",
      "Epoch 20/20\n",
      "71/71 [==============================] - 3s 47ms/step - loss: 0.0179 - accuracy: 0.9942\n",
      "[INFO] Saving Model for lion fold 2 ...\n",
      "36/36 [==============================] - 0s 10ms/step\n"
     ]
    },
    {
     "name": "stderr",
     "output_type": "stream",
     "text": [
      "C:\\Users\\rudra\\AppData\\Local\\Temp\\ipykernel_6820\\3249705492.py:34: UserWarning: FigureCanvasAgg is non-interactive, and thus cannot be shown\n",
      "  plt.show()\n"
     ]
    },
    {
     "name": "stdout",
     "output_type": "stream",
     "text": [
      "1/1 [==============================] - 0s 63ms/step\n"
     ]
    },
    {
     "name": "stderr",
     "output_type": "stream",
     "text": [
      "C:\\Users\\rudra\\AppData\\Local\\Temp\\ipykernel_6820\\1767733992.py:15: RuntimeWarning: invalid value encountered in divide\n",
      "  channel_image /= channel_image.std()\n",
      "C:\\Users\\rudra\\AppData\\Local\\Temp\\ipykernel_6820\\1767733992.py:18: RuntimeWarning: invalid value encountered in cast\n",
      "  channel_image = np.clip(channel_image, 0, 255).astype('uint8')\n"
     ]
    },
    {
     "name": "stdout",
     "output_type": "stream",
     "text": [
      "[INFO] Training network for lion fold 3...\n",
      "Epoch 1/20\n",
      "71/71 [==============================] - 4s 48ms/step - loss: 0.3698 - accuracy: 0.8367\n",
      "Epoch 2/20\n",
      "71/71 [==============================] - 3s 48ms/step - loss: 0.2504 - accuracy: 0.8921\n",
      "Epoch 3/20\n",
      "71/71 [==============================] - 3s 47ms/step - loss: 0.1819 - accuracy: 0.9334\n",
      "Epoch 4/20\n",
      "71/71 [==============================] - 3s 47ms/step - loss: 0.1842 - accuracy: 0.9308\n",
      "Epoch 5/20\n",
      "71/71 [==============================] - 3s 47ms/step - loss: 0.1215 - accuracy: 0.9565\n",
      "Epoch 6/20\n",
      "71/71 [==============================] - 3s 48ms/step - loss: 0.1055 - accuracy: 0.9578\n",
      "Epoch 7/20\n",
      "71/71 [==============================] - 3s 48ms/step - loss: 0.0756 - accuracy: 0.9751\n",
      "Epoch 8/20\n",
      "71/71 [==============================] - 3s 47ms/step - loss: 0.0464 - accuracy: 0.9858\n",
      "Epoch 9/20\n",
      "71/71 [==============================] - 3s 48ms/step - loss: 0.0552 - accuracy: 0.9849\n",
      "Epoch 10/20\n",
      "71/71 [==============================] - 3s 47ms/step - loss: 0.0355 - accuracy: 0.9929\n",
      "Epoch 11/20\n",
      "71/71 [==============================] - 3s 48ms/step - loss: 0.0215 - accuracy: 0.9956\n",
      "Epoch 12/20\n",
      "71/71 [==============================] - 3s 47ms/step - loss: 0.0193 - accuracy: 0.9942\n",
      "Epoch 13/20\n",
      "71/71 [==============================] - 3s 48ms/step - loss: 0.0390 - accuracy: 0.9858\n",
      "Epoch 14/20\n",
      "71/71 [==============================] - 3s 47ms/step - loss: 0.0476 - accuracy: 0.9800\n",
      "Epoch 15/20\n",
      "71/71 [==============================] - 3s 48ms/step - loss: 0.0497 - accuracy: 0.9845\n",
      "Epoch 16/20\n",
      "71/71 [==============================] - 3s 48ms/step - loss: 0.0225 - accuracy: 0.9929\n",
      "Epoch 17/20\n",
      "71/71 [==============================] - 3s 48ms/step - loss: 0.0122 - accuracy: 0.9964\n",
      "Epoch 18/20\n",
      "71/71 [==============================] - 3s 47ms/step - loss: 0.0201 - accuracy: 0.9925\n",
      "Epoch 19/20\n",
      "71/71 [==============================] - 3s 47ms/step - loss: 0.0281 - accuracy: 0.9902\n",
      "Epoch 20/20\n",
      "71/71 [==============================] - 3s 47ms/step - loss: 0.0200 - accuracy: 0.9920\n",
      "[INFO] Saving Model for lion fold 3 ...\n",
      "36/36 [==============================] - 0s 10ms/step\n"
     ]
    },
    {
     "name": "stderr",
     "output_type": "stream",
     "text": [
      "C:\\Users\\rudra\\AppData\\Local\\Temp\\ipykernel_6820\\3249705492.py:34: UserWarning: FigureCanvasAgg is non-interactive, and thus cannot be shown\n",
      "  plt.show()\n"
     ]
    },
    {
     "name": "stdout",
     "output_type": "stream",
     "text": [
      "1/1 [==============================] - 0s 78ms/step\n"
     ]
    },
    {
     "name": "stderr",
     "output_type": "stream",
     "text": [
      "C:\\Users\\rudra\\AppData\\Local\\Temp\\ipykernel_6820\\1767733992.py:15: RuntimeWarning: invalid value encountered in divide\n",
      "  channel_image /= channel_image.std()\n",
      "C:\\Users\\rudra\\AppData\\Local\\Temp\\ipykernel_6820\\1767733992.py:18: RuntimeWarning: invalid value encountered in cast\n",
      "  channel_image = np.clip(channel_image, 0, 255).astype('uint8')\n"
     ]
    },
    {
     "name": "stdout",
     "output_type": "stream",
     "text": [
      "[INFO] Loading images ...\n",
      "[INFO] Processing lizard ...\n",
      "[INFO] Processing rest ...\n",
      "[INFO] image extract completed\n",
      "total train samples: \n",
      "3429\n",
      "[INFO] Training network for lizard fold 1...\n",
      "Epoch 1/20\n",
      "71/71 [==============================] - 5s 48ms/step - loss: 0.6302 - accuracy: 0.6620\n",
      "Epoch 2/20\n",
      "71/71 [==============================] - 3s 48ms/step - loss: 0.4263 - accuracy: 0.8123\n",
      "Epoch 3/20\n",
      "71/71 [==============================] - 3s 47ms/step - loss: 0.3114 - accuracy: 0.8696\n",
      "Epoch 4/20\n",
      "71/71 [==============================] - 3s 48ms/step - loss: 0.2177 - accuracy: 0.9130\n",
      "Epoch 5/20\n",
      "71/71 [==============================] - 3s 48ms/step - loss: 0.1666 - accuracy: 0.9383\n",
      "Epoch 6/20\n",
      "71/71 [==============================] - 3s 47ms/step - loss: 0.1363 - accuracy: 0.9556\n",
      "Epoch 7/20\n",
      "71/71 [==============================] - 3s 47ms/step - loss: 0.0779 - accuracy: 0.9752\n",
      "Epoch 8/20\n",
      "71/71 [==============================] - 3s 47ms/step - loss: 0.0718 - accuracy: 0.9769\n",
      "Epoch 9/20\n",
      "71/71 [==============================] - 3s 48ms/step - loss: 0.0482 - accuracy: 0.9836\n",
      "Epoch 10/20\n",
      "71/71 [==============================] - 3s 47ms/step - loss: 0.0438 - accuracy: 0.9845\n",
      "Epoch 11/20\n",
      "71/71 [==============================] - 3s 47ms/step - loss: 0.0476 - accuracy: 0.9831\n",
      "Epoch 12/20\n",
      "71/71 [==============================] - 3s 47ms/step - loss: 0.0507 - accuracy: 0.9814\n",
      "Epoch 13/20\n",
      "71/71 [==============================] - 3s 47ms/step - loss: 0.0397 - accuracy: 0.9880\n",
      "Epoch 14/20\n",
      "71/71 [==============================] - 3s 47ms/step - loss: 0.0359 - accuracy: 0.9862\n",
      "Epoch 15/20\n",
      "71/71 [==============================] - 3s 47ms/step - loss: 0.0273 - accuracy: 0.9911\n",
      "Epoch 16/20\n",
      "71/71 [==============================] - 3s 47ms/step - loss: 0.0186 - accuracy: 0.9933\n",
      "Epoch 17/20\n",
      "71/71 [==============================] - 3s 48ms/step - loss: 0.0277 - accuracy: 0.9916\n",
      "Epoch 18/20\n",
      "71/71 [==============================] - 3s 47ms/step - loss: 0.0165 - accuracy: 0.9960\n",
      "Epoch 19/20\n",
      "71/71 [==============================] - 3s 47ms/step - loss: 0.0086 - accuracy: 0.9996\n",
      "Epoch 20/20\n",
      "71/71 [==============================] - 3s 47ms/step - loss: 0.0109 - accuracy: 0.9969\n",
      "[INFO] Saving Model for lizard fold 1 ...\n",
      "36/36 [==============================] - 0s 10ms/step\n"
     ]
    },
    {
     "name": "stderr",
     "output_type": "stream",
     "text": [
      "C:\\Users\\rudra\\AppData\\Local\\Temp\\ipykernel_6820\\3249705492.py:34: UserWarning: FigureCanvasAgg is non-interactive, and thus cannot be shown\n",
      "  plt.show()\n"
     ]
    },
    {
     "name": "stdout",
     "output_type": "stream",
     "text": [
      "1/1 [==============================] - 0s 62ms/step\n"
     ]
    },
    {
     "name": "stderr",
     "output_type": "stream",
     "text": [
      "C:\\Users\\rudra\\AppData\\Local\\Temp\\ipykernel_6820\\1767733992.py:15: RuntimeWarning: invalid value encountered in divide\n",
      "  channel_image /= channel_image.std()\n",
      "C:\\Users\\rudra\\AppData\\Local\\Temp\\ipykernel_6820\\1767733992.py:18: RuntimeWarning: invalid value encountered in cast\n",
      "  channel_image = np.clip(channel_image, 0, 255).astype('uint8')\n"
     ]
    },
    {
     "name": "stdout",
     "output_type": "stream",
     "text": [
      "[INFO] Training network for lizard fold 2...\n",
      "Epoch 1/20\n",
      "71/71 [==============================] - 5s 50ms/step - loss: 0.6134 - accuracy: 0.6589\n",
      "Epoch 2/20\n",
      "71/71 [==============================] - 3s 48ms/step - loss: 0.5051 - accuracy: 0.7542\n",
      "Epoch 3/20\n",
      "71/71 [==============================] - 3s 49ms/step - loss: 0.4806 - accuracy: 0.7715\n",
      "Epoch 4/20\n",
      "71/71 [==============================] - 4s 49ms/step - loss: 0.3439 - accuracy: 0.8540\n",
      "Epoch 5/20\n",
      "71/71 [==============================] - 4s 49ms/step - loss: 0.2589 - accuracy: 0.9024\n",
      "Epoch 6/20\n",
      "71/71 [==============================] - 3s 48ms/step - loss: 0.1767 - accuracy: 0.9321\n",
      "Epoch 7/20\n",
      "71/71 [==============================] - 4s 49ms/step - loss: 0.1339 - accuracy: 0.9570\n",
      "Epoch 8/20\n",
      "71/71 [==============================] - 3s 49ms/step - loss: 0.0903 - accuracy: 0.9760\n",
      "Epoch 9/20\n",
      "71/71 [==============================] - 3s 48ms/step - loss: 0.0677 - accuracy: 0.9791\n",
      "Epoch 10/20\n",
      "71/71 [==============================] - 3s 48ms/step - loss: 0.0533 - accuracy: 0.9849\n",
      "Epoch 11/20\n",
      "71/71 [==============================] - 3s 47ms/step - loss: 0.0569 - accuracy: 0.9791\n",
      "Epoch 12/20\n",
      "71/71 [==============================] - 3s 48ms/step - loss: 0.0638 - accuracy: 0.9791\n",
      "Epoch 13/20\n",
      "71/71 [==============================] - 3s 49ms/step - loss: 0.0597 - accuracy: 0.9778\n",
      "Epoch 14/20\n",
      "71/71 [==============================] - 4s 56ms/step - loss: 0.0533 - accuracy: 0.9827\n",
      "Epoch 15/20\n",
      "71/71 [==============================] - 3s 47ms/step - loss: 0.0285 - accuracy: 0.9911\n",
      "Epoch 16/20\n",
      "71/71 [==============================] - 3s 48ms/step - loss: 0.0288 - accuracy: 0.9933\n",
      "Epoch 17/20\n",
      "71/71 [==============================] - 3s 49ms/step - loss: 0.0279 - accuracy: 0.9916\n",
      "Epoch 18/20\n",
      "71/71 [==============================] - 3s 49ms/step - loss: 0.0190 - accuracy: 0.9951\n",
      "Epoch 19/20\n",
      "71/71 [==============================] - 3s 48ms/step - loss: 0.0192 - accuracy: 0.9942\n",
      "Epoch 20/20\n",
      "71/71 [==============================] - 3s 48ms/step - loss: 0.0181 - accuracy: 0.9956\n",
      "[INFO] Saving Model for lizard fold 2 ...\n",
      "36/36 [==============================] - 0s 11ms/step\n"
     ]
    },
    {
     "name": "stderr",
     "output_type": "stream",
     "text": [
      "C:\\Users\\rudra\\AppData\\Local\\Temp\\ipykernel_6820\\3249705492.py:34: UserWarning: FigureCanvasAgg is non-interactive, and thus cannot be shown\n",
      "  plt.show()\n"
     ]
    },
    {
     "name": "stdout",
     "output_type": "stream",
     "text": [
      "1/1 [==============================] - 0s 78ms/step\n",
      "[INFO] Training network for lizard fold 3...\n",
      "Epoch 1/20\n",
      "71/71 [==============================] - 4s 49ms/step - loss: 0.6220 - accuracy: 0.6655\n",
      "Epoch 2/20\n",
      "71/71 [==============================] - 3s 48ms/step - loss: 0.4857 - accuracy: 0.7573\n",
      "Epoch 3/20\n",
      "71/71 [==============================] - 4s 49ms/step - loss: 0.3494 - accuracy: 0.8576\n",
      "Epoch 4/20\n",
      "71/71 [==============================] - 4s 49ms/step - loss: 0.4052 - accuracy: 0.8203\n",
      "Epoch 5/20\n",
      "71/71 [==============================] - 4s 51ms/step - loss: 0.4254 - accuracy: 0.8070\n",
      "Epoch 6/20\n",
      "71/71 [==============================] - 3s 48ms/step - loss: 0.2637 - accuracy: 0.8997\n",
      "Epoch 7/20\n",
      "71/71 [==============================] - 3s 47ms/step - loss: 0.1910 - accuracy: 0.9281\n",
      "Epoch 8/20\n",
      "71/71 [==============================] - 3s 47ms/step - loss: 0.1208 - accuracy: 0.9614\n",
      "Epoch 9/20\n",
      "71/71 [==============================] - 3s 47ms/step - loss: 0.1049 - accuracy: 0.9636\n",
      "Epoch 10/20\n",
      "71/71 [==============================] - 3s 47ms/step - loss: 0.0759 - accuracy: 0.9752\n",
      "Epoch 11/20\n",
      "71/71 [==============================] - 3s 49ms/step - loss: 0.0576 - accuracy: 0.9845\n",
      "Epoch 12/20\n",
      "71/71 [==============================] - 3s 48ms/step - loss: 0.0389 - accuracy: 0.9902\n",
      "Epoch 13/20\n",
      "71/71 [==============================] - 3s 47ms/step - loss: 0.0242 - accuracy: 0.9951\n",
      "Epoch 14/20\n",
      "71/71 [==============================] - 3s 47ms/step - loss: 0.0824 - accuracy: 0.9694\n",
      "Epoch 15/20\n",
      "71/71 [==============================] - 3s 48ms/step - loss: 0.0505 - accuracy: 0.9814\n",
      "Epoch 16/20\n",
      "71/71 [==============================] - 3s 48ms/step - loss: 0.0340 - accuracy: 0.9885\n",
      "Epoch 17/20\n",
      "71/71 [==============================] - 3s 47ms/step - loss: 0.1481 - accuracy: 0.9450\n",
      "Epoch 18/20\n",
      "71/71 [==============================] - 3s 49ms/step - loss: 0.0509 - accuracy: 0.9836\n",
      "Epoch 19/20\n",
      "71/71 [==============================] - 3s 47ms/step - loss: 0.0292 - accuracy: 0.9911\n",
      "Epoch 20/20\n",
      "71/71 [==============================] - 3s 48ms/step - loss: 0.0245 - accuracy: 0.9947\n",
      "[INFO] Saving Model for lizard fold 3 ...\n",
      "36/36 [==============================] - 1s 10ms/step\n"
     ]
    },
    {
     "name": "stderr",
     "output_type": "stream",
     "text": [
      "C:\\Users\\rudra\\AppData\\Local\\Temp\\ipykernel_6820\\3249705492.py:34: UserWarning: FigureCanvasAgg is non-interactive, and thus cannot be shown\n",
      "  plt.show()\n"
     ]
    },
    {
     "name": "stdout",
     "output_type": "stream",
     "text": [
      "1/1 [==============================] - 0s 78ms/step\n"
     ]
    },
    {
     "name": "stderr",
     "output_type": "stream",
     "text": [
      "C:\\Users\\rudra\\AppData\\Local\\Temp\\ipykernel_6820\\1767733992.py:15: RuntimeWarning: invalid value encountered in divide\n",
      "  channel_image /= channel_image.std()\n",
      "C:\\Users\\rudra\\AppData\\Local\\Temp\\ipykernel_6820\\1767733992.py:18: RuntimeWarning: invalid value encountered in cast\n",
      "  channel_image = np.clip(channel_image, 0, 255).astype('uint8')\n"
     ]
    },
    {
     "name": "stdout",
     "output_type": "stream",
     "text": [
      "[INFO] Loading images ...\n",
      "[INFO] Processing lobster ...\n",
      "[INFO] Processing rest ...\n",
      "[INFO] image extract completed\n",
      "total train samples: \n",
      "3434\n",
      "[INFO] Training network for lobster fold 1...\n",
      "Epoch 1/20\n",
      "71/71 [==============================] - 5s 49ms/step - loss: 0.4539 - accuracy: 0.7931\n",
      "Epoch 2/20\n",
      "71/71 [==============================] - 4s 50ms/step - loss: 0.2872 - accuracy: 0.8875\n",
      "Epoch 3/20\n",
      "71/71 [==============================] - 3s 48ms/step - loss: 0.1869 - accuracy: 0.9304\n",
      "Epoch 4/20\n",
      "71/71 [==============================] - 3s 49ms/step - loss: 0.1300 - accuracy: 0.9521\n",
      "Epoch 5/20\n",
      "71/71 [==============================] - 3s 48ms/step - loss: 0.1091 - accuracy: 0.9632\n",
      "Epoch 6/20\n",
      "71/71 [==============================] - 3s 47ms/step - loss: 0.0758 - accuracy: 0.9734\n",
      "Epoch 7/20\n",
      "71/71 [==============================] - 3s 48ms/step - loss: 0.0474 - accuracy: 0.9854\n",
      "Epoch 8/20\n",
      "71/71 [==============================] - 3s 49ms/step - loss: 0.0666 - accuracy: 0.9774\n",
      "Epoch 9/20\n",
      "71/71 [==============================] - 4s 51ms/step - loss: 0.0517 - accuracy: 0.9836\n",
      "Epoch 10/20\n",
      "71/71 [==============================] - 4s 50ms/step - loss: 0.0552 - accuracy: 0.9801\n",
      "Epoch 11/20\n",
      "71/71 [==============================] - 3s 49ms/step - loss: 0.0370 - accuracy: 0.9880\n",
      "Epoch 12/20\n",
      "71/71 [==============================] - 4s 50ms/step - loss: 0.0399 - accuracy: 0.9845\n",
      "Epoch 13/20\n",
      "71/71 [==============================] - 3s 49ms/step - loss: 0.0252 - accuracy: 0.9920\n",
      "Epoch 14/20\n",
      "71/71 [==============================] - 3s 48ms/step - loss: 0.0367 - accuracy: 0.9889\n",
      "Epoch 15/20\n",
      "71/71 [==============================] - 3s 47ms/step - loss: 0.0295 - accuracy: 0.9885\n",
      "Epoch 16/20\n",
      "71/71 [==============================] - 3s 48ms/step - loss: 0.0170 - accuracy: 0.9942\n",
      "Epoch 17/20\n",
      "71/71 [==============================] - 3s 49ms/step - loss: 0.0108 - accuracy: 0.9965\n",
      "Epoch 18/20\n",
      "71/71 [==============================] - 3s 48ms/step - loss: 0.0106 - accuracy: 0.9973\n",
      "Epoch 19/20\n",
      "71/71 [==============================] - 3s 48ms/step - loss: 0.0077 - accuracy: 0.9978\n",
      "Epoch 20/20\n",
      "71/71 [==============================] - 3s 48ms/step - loss: 0.0029 - accuracy: 1.0000\n",
      "[INFO] Saving Model for lobster fold 1 ...\n",
      "36/36 [==============================] - 1s 11ms/step\n"
     ]
    },
    {
     "name": "stderr",
     "output_type": "stream",
     "text": [
      "C:\\Users\\rudra\\AppData\\Local\\Temp\\ipykernel_6820\\3249705492.py:34: UserWarning: FigureCanvasAgg is non-interactive, and thus cannot be shown\n",
      "  plt.show()\n"
     ]
    },
    {
     "name": "stdout",
     "output_type": "stream",
     "text": [
      "1/1 [==============================] - 0s 78ms/step\n",
      "[INFO] Training network for lobster fold 2...\n",
      "Epoch 1/20\n",
      "71/71 [==============================] - 5s 49ms/step - loss: 0.4646 - accuracy: 0.7879\n",
      "Epoch 2/20\n",
      "71/71 [==============================] - 3s 48ms/step - loss: 0.3249 - accuracy: 0.8684\n",
      "Epoch 3/20\n",
      "71/71 [==============================] - 3s 49ms/step - loss: 0.2674 - accuracy: 0.8923\n",
      "Epoch 4/20\n",
      "71/71 [==============================] - 3s 49ms/step - loss: 0.1625 - accuracy: 0.9411\n",
      "Epoch 5/20\n",
      "71/71 [==============================] - 3s 49ms/step - loss: 0.1095 - accuracy: 0.9637\n",
      "Epoch 6/20\n",
      "71/71 [==============================] - 3s 47ms/step - loss: 0.0892 - accuracy: 0.9703\n",
      "Epoch 7/20\n",
      "71/71 [==============================] - 3s 47ms/step - loss: 0.0509 - accuracy: 0.9858\n",
      "Epoch 8/20\n",
      "71/71 [==============================] - 3s 47ms/step - loss: 0.0474 - accuracy: 0.9845\n",
      "Epoch 9/20\n",
      "71/71 [==============================] - 3s 47ms/step - loss: 0.0556 - accuracy: 0.9809\n",
      "Epoch 10/20\n",
      "71/71 [==============================] - 3s 47ms/step - loss: 0.0301 - accuracy: 0.9907\n",
      "Epoch 11/20\n",
      "71/71 [==============================] - 3s 47ms/step - loss: 0.0306 - accuracy: 0.9898\n",
      "Epoch 12/20\n",
      "71/71 [==============================] - 3s 47ms/step - loss: 0.0181 - accuracy: 0.9956\n",
      "Epoch 13/20\n",
      "71/71 [==============================] - 3s 47ms/step - loss: 0.0148 - accuracy: 0.9960\n",
      "Epoch 14/20\n",
      "71/71 [==============================] - 3s 47ms/step - loss: 0.0295 - accuracy: 0.9898\n",
      "Epoch 15/20\n",
      "71/71 [==============================] - 3s 47ms/step - loss: 0.0446 - accuracy: 0.9823\n",
      "Epoch 16/20\n",
      "71/71 [==============================] - 3s 47ms/step - loss: 0.0178 - accuracy: 0.9965\n",
      "Epoch 17/20\n",
      "71/71 [==============================] - 3s 47ms/step - loss: 0.0375 - accuracy: 0.9849\n",
      "Epoch 18/20\n",
      "71/71 [==============================] - 3s 47ms/step - loss: 0.0381 - accuracy: 0.9854\n",
      "Epoch 19/20\n",
      "71/71 [==============================] - 3s 47ms/step - loss: 0.0216 - accuracy: 0.9934\n",
      "Epoch 20/20\n",
      "71/71 [==============================] - 3s 47ms/step - loss: 0.0205 - accuracy: 0.9920\n",
      "[INFO] Saving Model for lobster fold 2 ...\n",
      "36/36 [==============================] - 0s 10ms/step\n"
     ]
    },
    {
     "name": "stderr",
     "output_type": "stream",
     "text": [
      "C:\\Users\\rudra\\AppData\\Local\\Temp\\ipykernel_6820\\3249705492.py:34: UserWarning: FigureCanvasAgg is non-interactive, and thus cannot be shown\n",
      "  plt.show()\n"
     ]
    },
    {
     "name": "stdout",
     "output_type": "stream",
     "text": [
      "1/1 [==============================] - 0s 98ms/step\n"
     ]
    },
    {
     "name": "stderr",
     "output_type": "stream",
     "text": [
      "C:\\Users\\rudra\\AppData\\Local\\Temp\\ipykernel_6820\\1767733992.py:15: RuntimeWarning: invalid value encountered in divide\n",
      "  channel_image /= channel_image.std()\n",
      "C:\\Users\\rudra\\AppData\\Local\\Temp\\ipykernel_6820\\1767733992.py:18: RuntimeWarning: invalid value encountered in cast\n",
      "  channel_image = np.clip(channel_image, 0, 255).astype('uint8')\n"
     ]
    },
    {
     "name": "stdout",
     "output_type": "stream",
     "text": [
      "[INFO] Training network for lobster fold 3...\n",
      "Epoch 1/20\n",
      "71/71 [==============================] - 4s 49ms/step - loss: 0.4425 - accuracy: 0.7993\n",
      "Epoch 2/20\n",
      "71/71 [==============================] - 4s 51ms/step - loss: 0.2674 - accuracy: 0.8986\n",
      "Epoch 3/20\n",
      "71/71 [==============================] - 3s 49ms/step - loss: 0.1965 - accuracy: 0.9234\n",
      "Epoch 4/20\n",
      "71/71 [==============================] - 3s 49ms/step - loss: 0.1427 - accuracy: 0.9402\n",
      "Epoch 5/20\n",
      "71/71 [==============================] - 3s 49ms/step - loss: 0.0735 - accuracy: 0.9761\n",
      "Epoch 6/20\n",
      "71/71 [==============================] - 3s 48ms/step - loss: 0.0753 - accuracy: 0.9752\n",
      "Epoch 7/20\n",
      "71/71 [==============================] - 4s 49ms/step - loss: 0.0477 - accuracy: 0.9845\n",
      "Epoch 8/20\n",
      "71/71 [==============================] - 3s 48ms/step - loss: 0.0314 - accuracy: 0.9898\n",
      "Epoch 9/20\n",
      "71/71 [==============================] - 3s 47ms/step - loss: 0.0345 - accuracy: 0.9876\n",
      "Epoch 10/20\n",
      "71/71 [==============================] - 3s 47ms/step - loss: 0.0698 - accuracy: 0.9774\n",
      "Epoch 11/20\n",
      "71/71 [==============================] - 4s 50ms/step - loss: 0.0477 - accuracy: 0.9858\n",
      "Epoch 12/20\n",
      "71/71 [==============================] - 3s 48ms/step - loss: 0.0192 - accuracy: 0.9947\n",
      "Epoch 13/20\n",
      "71/71 [==============================] - 3s 47ms/step - loss: 0.0188 - accuracy: 0.9934\n",
      "Epoch 14/20\n",
      "71/71 [==============================] - 3s 47ms/step - loss: 0.0247 - accuracy: 0.9920\n",
      "Epoch 15/20\n",
      "71/71 [==============================] - 3s 47ms/step - loss: 0.0198 - accuracy: 0.9947\n",
      "Epoch 16/20\n",
      "71/71 [==============================] - 3s 47ms/step - loss: 0.0111 - accuracy: 0.9973\n",
      "Epoch 17/20\n",
      "71/71 [==============================] - 3s 48ms/step - loss: 0.0144 - accuracy: 0.9969\n",
      "Epoch 18/20\n",
      "71/71 [==============================] - 3s 49ms/step - loss: 0.0093 - accuracy: 0.9987\n",
      "Epoch 19/20\n",
      "71/71 [==============================] - 3s 47ms/step - loss: 0.0170 - accuracy: 0.9956\n",
      "Epoch 20/20\n",
      "71/71 [==============================] - 3s 48ms/step - loss: 0.0277 - accuracy: 0.9889\n",
      "[INFO] Saving Model for lobster fold 3 ...\n",
      "36/36 [==============================] - 0s 10ms/step\n"
     ]
    },
    {
     "name": "stderr",
     "output_type": "stream",
     "text": [
      "C:\\Users\\rudra\\AppData\\Local\\Temp\\ipykernel_6820\\3249705492.py:34: UserWarning: FigureCanvasAgg is non-interactive, and thus cannot be shown\n",
      "  plt.show()\n"
     ]
    },
    {
     "name": "stdout",
     "output_type": "stream",
     "text": [
      "1/1 [==============================] - 0s 78ms/step\n",
      "[INFO] Loading images ...\n",
      "[INFO] Processing mosquito ...\n",
      "[INFO] Processing rest ...\n",
      "[INFO] image extract completed\n",
      "total train samples: \n",
      "3424\n",
      "[INFO] Training network for mosquito fold 1...\n",
      "Epoch 1/20\n",
      "71/71 [==============================] - 5s 48ms/step - loss: 0.2889 - accuracy: 0.8816\n",
      "Epoch 2/20\n",
      "71/71 [==============================] - 3s 49ms/step - loss: 0.1647 - accuracy: 0.9382\n",
      "Epoch 3/20\n",
      "71/71 [==============================] - 3s 48ms/step - loss: 0.1408 - accuracy: 0.9471\n",
      "Epoch 4/20\n",
      "71/71 [==============================] - 3s 48ms/step - loss: 0.1318 - accuracy: 0.9564\n",
      "Epoch 5/20\n",
      "71/71 [==============================] - 3s 48ms/step - loss: 0.0770 - accuracy: 0.9738\n",
      "Epoch 6/20\n",
      "71/71 [==============================] - 4s 52ms/step - loss: 0.0572 - accuracy: 0.9818\n",
      "Epoch 7/20\n",
      "71/71 [==============================] - 3s 47ms/step - loss: 0.0648 - accuracy: 0.9773\n",
      "Epoch 8/20\n",
      "71/71 [==============================] - 3s 47ms/step - loss: 0.0498 - accuracy: 0.9867\n",
      "Epoch 9/20\n",
      "71/71 [==============================] - 3s 48ms/step - loss: 0.0421 - accuracy: 0.9813\n",
      "Epoch 10/20\n",
      "71/71 [==============================] - 3s 48ms/step - loss: 0.0322 - accuracy: 0.9893\n",
      "Epoch 11/20\n",
      "71/71 [==============================] - 3s 49ms/step - loss: 0.0318 - accuracy: 0.9889\n",
      "Epoch 12/20\n",
      "71/71 [==============================] - 3s 49ms/step - loss: 0.0206 - accuracy: 0.9916\n",
      "Epoch 13/20\n",
      "71/71 [==============================] - 3s 48ms/step - loss: 0.0349 - accuracy: 0.9880\n",
      "Epoch 14/20\n",
      "71/71 [==============================] - 3s 49ms/step - loss: 0.0260 - accuracy: 0.9916\n",
      "Epoch 15/20\n",
      "71/71 [==============================] - 3s 47ms/step - loss: 0.0140 - accuracy: 0.9964\n",
      "Epoch 16/20\n",
      "71/71 [==============================] - 3s 49ms/step - loss: 0.0073 - accuracy: 0.9987\n",
      "Epoch 17/20\n",
      "71/71 [==============================] - 3s 48ms/step - loss: 0.0059 - accuracy: 0.9991\n",
      "Epoch 18/20\n",
      "71/71 [==============================] - 4s 54ms/step - loss: 0.0043 - accuracy: 0.9991\n",
      "Epoch 19/20\n",
      "71/71 [==============================] - 4s 50ms/step - loss: 0.0104 - accuracy: 0.9960\n",
      "Epoch 20/20\n",
      "71/71 [==============================] - 4s 55ms/step - loss: 0.0346 - accuracy: 0.9862\n",
      "[INFO] Saving Model for mosquito fold 1 ...\n",
      "36/36 [==============================] - 1s 11ms/step\n"
     ]
    },
    {
     "name": "stderr",
     "output_type": "stream",
     "text": [
      "C:\\Users\\rudra\\AppData\\Local\\Temp\\ipykernel_6820\\3249705492.py:34: UserWarning: FigureCanvasAgg is non-interactive, and thus cannot be shown\n",
      "  plt.show()\n"
     ]
    },
    {
     "name": "stdout",
     "output_type": "stream",
     "text": [
      "1/1 [==============================] - 0s 97ms/step\n"
     ]
    },
    {
     "name": "stderr",
     "output_type": "stream",
     "text": [
      "C:\\Users\\rudra\\AppData\\Local\\Temp\\ipykernel_6820\\1767733992.py:15: RuntimeWarning: invalid value encountered in divide\n",
      "  channel_image /= channel_image.std()\n",
      "C:\\Users\\rudra\\AppData\\Local\\Temp\\ipykernel_6820\\1767733992.py:18: RuntimeWarning: invalid value encountered in cast\n",
      "  channel_image = np.clip(channel_image, 0, 255).astype('uint8')\n"
     ]
    },
    {
     "name": "stdout",
     "output_type": "stream",
     "text": [
      "[INFO] Training network for mosquito fold 2...\n",
      "Epoch 1/20\n",
      "71/71 [==============================] - 5s 50ms/step - loss: 0.3028 - accuracy: 0.8680\n",
      "Epoch 2/20\n",
      "71/71 [==============================] - 3s 50ms/step - loss: 0.1931 - accuracy: 0.9285\n",
      "Epoch 3/20\n",
      "71/71 [==============================] - 3s 49ms/step - loss: 0.1486 - accuracy: 0.9467\n",
      "Epoch 4/20\n",
      "71/71 [==============================] - 3s 49ms/step - loss: 0.1074 - accuracy: 0.9600\n",
      "Epoch 5/20\n",
      "71/71 [==============================] - 3s 48ms/step - loss: 0.0848 - accuracy: 0.9676\n",
      "Epoch 6/20\n",
      "71/71 [==============================] - 3s 48ms/step - loss: 0.0737 - accuracy: 0.9751\n",
      "Epoch 7/20\n",
      "71/71 [==============================] - 3s 48ms/step - loss: 0.0606 - accuracy: 0.9805\n",
      "Epoch 8/20\n",
      "71/71 [==============================] - 3s 49ms/step - loss: 0.0623 - accuracy: 0.9765\n",
      "Epoch 9/20\n",
      "71/71 [==============================] - 3s 48ms/step - loss: 0.0574 - accuracy: 0.9796\n",
      "Epoch 10/20\n",
      "71/71 [==============================] - 3s 49ms/step - loss: 0.0275 - accuracy: 0.9924\n",
      "Epoch 11/20\n",
      "71/71 [==============================] - 3s 48ms/step - loss: 0.0487 - accuracy: 0.9827\n",
      "Epoch 12/20\n",
      "71/71 [==============================] - 3s 49ms/step - loss: 0.0480 - accuracy: 0.9809\n",
      "Epoch 13/20\n",
      "71/71 [==============================] - 3s 49ms/step - loss: 0.0314 - accuracy: 0.9920\n",
      "Epoch 14/20\n",
      "71/71 [==============================] - 3s 49ms/step - loss: 0.0385 - accuracy: 0.9831\n",
      "Epoch 15/20\n",
      "71/71 [==============================] - 3s 48ms/step - loss: 0.0262 - accuracy: 0.9924\n",
      "Epoch 16/20\n",
      "71/71 [==============================] - 4s 50ms/step - loss: 0.0126 - accuracy: 0.9969\n",
      "Epoch 17/20\n",
      "71/71 [==============================] - 3s 49ms/step - loss: 0.0218 - accuracy: 0.9960\n",
      "Epoch 18/20\n",
      "71/71 [==============================] - 3s 48ms/step - loss: 0.0075 - accuracy: 0.9982\n",
      "Epoch 19/20\n",
      "71/71 [==============================] - 3s 47ms/step - loss: 0.0030 - accuracy: 1.0000\n",
      "Epoch 20/20\n",
      "71/71 [==============================] - 3s 48ms/step - loss: 0.0026 - accuracy: 1.0000\n",
      "[INFO] Saving Model for mosquito fold 2 ...\n",
      "36/36 [==============================] - 0s 10ms/step\n"
     ]
    },
    {
     "name": "stderr",
     "output_type": "stream",
     "text": [
      "C:\\Users\\rudra\\AppData\\Local\\Temp\\ipykernel_6820\\3249705492.py:34: UserWarning: FigureCanvasAgg is non-interactive, and thus cannot be shown\n",
      "  plt.show()\n"
     ]
    },
    {
     "name": "stdout",
     "output_type": "stream",
     "text": [
      "1/1 [==============================] - 0s 91ms/step\n"
     ]
    },
    {
     "name": "stderr",
     "output_type": "stream",
     "text": [
      "C:\\Users\\rudra\\AppData\\Local\\Temp\\ipykernel_6820\\1767733992.py:15: RuntimeWarning: invalid value encountered in divide\n",
      "  channel_image /= channel_image.std()\n",
      "C:\\Users\\rudra\\AppData\\Local\\Temp\\ipykernel_6820\\1767733992.py:18: RuntimeWarning: invalid value encountered in cast\n",
      "  channel_image = np.clip(channel_image, 0, 255).astype('uint8')\n"
     ]
    },
    {
     "name": "stdout",
     "output_type": "stream",
     "text": [
      "[INFO] Training network for mosquito fold 3...\n",
      "Epoch 1/20\n",
      "71/71 [==============================] - 5s 51ms/step - loss: 0.3024 - accuracy: 0.8737\n",
      "Epoch 2/20\n",
      "71/71 [==============================] - 3s 50ms/step - loss: 0.1862 - accuracy: 0.9276\n",
      "Epoch 3/20\n",
      "71/71 [==============================] - 3s 49ms/step - loss: 0.1693 - accuracy: 0.9405\n",
      "Epoch 4/20\n",
      "71/71 [==============================] - 3s 49ms/step - loss: 0.1134 - accuracy: 0.9636\n",
      "Epoch 5/20\n",
      "71/71 [==============================] - 4s 50ms/step - loss: 0.1003 - accuracy: 0.9653\n",
      "Epoch 6/20\n",
      "71/71 [==============================] - 3s 48ms/step - loss: 0.0773 - accuracy: 0.9725\n",
      "Epoch 7/20\n",
      "71/71 [==============================] - 3s 49ms/step - loss: 0.1026 - accuracy: 0.9649\n",
      "Epoch 8/20\n",
      "71/71 [==============================] - 3s 47ms/step - loss: 0.0832 - accuracy: 0.9685\n",
      "Epoch 9/20\n",
      "71/71 [==============================] - 3s 47ms/step - loss: 0.0520 - accuracy: 0.9818\n",
      "Epoch 10/20\n",
      "71/71 [==============================] - 3s 48ms/step - loss: 0.1128 - accuracy: 0.9627\n",
      "Epoch 11/20\n",
      "71/71 [==============================] - 3s 47ms/step - loss: 0.0625 - accuracy: 0.9769\n",
      "Epoch 12/20\n",
      "71/71 [==============================] - 3s 48ms/step - loss: 0.0597 - accuracy: 0.9818\n",
      "Epoch 13/20\n",
      "71/71 [==============================] - 3s 47ms/step - loss: 0.0321 - accuracy: 0.9902\n",
      "Epoch 14/20\n",
      "71/71 [==============================] - 3s 47ms/step - loss: 0.0205 - accuracy: 0.9951\n",
      "Epoch 15/20\n",
      "71/71 [==============================] - 3s 47ms/step - loss: 0.0382 - accuracy: 0.9862\n",
      "Epoch 16/20\n",
      "71/71 [==============================] - 3s 47ms/step - loss: 0.0246 - accuracy: 0.9942\n",
      "Epoch 17/20\n",
      "71/71 [==============================] - 3s 48ms/step - loss: 0.0144 - accuracy: 0.9964\n",
      "Epoch 18/20\n",
      "71/71 [==============================] - 3s 47ms/step - loss: 0.0084 - accuracy: 0.9978\n",
      "Epoch 19/20\n",
      "71/71 [==============================] - 3s 47ms/step - loss: 0.0035 - accuracy: 1.0000\n",
      "Epoch 20/20\n",
      "71/71 [==============================] - 3s 47ms/step - loss: 0.0102 - accuracy: 0.9956\n",
      "[INFO] Saving Model for mosquito fold 3 ...\n",
      "36/36 [==============================] - 0s 10ms/step\n"
     ]
    },
    {
     "name": "stderr",
     "output_type": "stream",
     "text": [
      "C:\\Users\\rudra\\AppData\\Local\\Temp\\ipykernel_6820\\3249705492.py:34: UserWarning: FigureCanvasAgg is non-interactive, and thus cannot be shown\n",
      "  plt.show()\n"
     ]
    },
    {
     "name": "stdout",
     "output_type": "stream",
     "text": [
      "1/1 [==============================] - 0s 76ms/step\n"
     ]
    },
    {
     "name": "stderr",
     "output_type": "stream",
     "text": [
      "C:\\Users\\rudra\\AppData\\Local\\Temp\\ipykernel_6820\\1767733992.py:15: RuntimeWarning: invalid value encountered in divide\n",
      "  channel_image /= channel_image.std()\n",
      "C:\\Users\\rudra\\AppData\\Local\\Temp\\ipykernel_6820\\1767733992.py:18: RuntimeWarning: invalid value encountered in cast\n",
      "  channel_image = np.clip(channel_image, 0, 255).astype('uint8')\n"
     ]
    },
    {
     "name": "stdout",
     "output_type": "stream",
     "text": [
      "[INFO] Loading images ...\n",
      "[INFO] Processing moth ...\n",
      "[INFO] Processing rest ...\n",
      "[INFO] image extract completed\n",
      "total train samples: \n",
      "3426\n",
      "[INFO] Training network for moth fold 1...\n",
      "Epoch 1/20\n",
      "71/71 [==============================] - 5s 48ms/step - loss: 0.5822 - accuracy: 0.7029\n",
      "Epoch 2/20\n",
      "71/71 [==============================] - 3s 48ms/step - loss: 0.4337 - accuracy: 0.7984\n",
      "Epoch 3/20\n",
      "71/71 [==============================] - 3s 49ms/step - loss: 0.3444 - accuracy: 0.8575\n",
      "Epoch 4/20\n",
      "71/71 [==============================] - 3s 47ms/step - loss: 0.2085 - accuracy: 0.9174\n",
      "Epoch 5/20\n",
      "71/71 [==============================] - 3s 48ms/step - loss: 0.1242 - accuracy: 0.9547\n",
      "Epoch 6/20\n",
      "71/71 [==============================] - 3s 48ms/step - loss: 0.1394 - accuracy: 0.9458\n",
      "Epoch 7/20\n",
      "71/71 [==============================] - 3s 47ms/step - loss: 0.0966 - accuracy: 0.9636\n",
      "Epoch 8/20\n",
      "71/71 [==============================] - 3s 49ms/step - loss: 0.0665 - accuracy: 0.9778\n",
      "Epoch 9/20\n",
      "71/71 [==============================] - 3s 47ms/step - loss: 0.0350 - accuracy: 0.9920\n",
      "Epoch 10/20\n",
      "71/71 [==============================] - 3s 48ms/step - loss: 0.0206 - accuracy: 0.9973\n",
      "Epoch 11/20\n",
      "71/71 [==============================] - 4s 49ms/step - loss: 0.0249 - accuracy: 0.9947\n",
      "Epoch 12/20\n",
      "71/71 [==============================] - 3s 48ms/step - loss: 0.0540 - accuracy: 0.9813\n",
      "Epoch 13/20\n",
      "71/71 [==============================] - 3s 48ms/step - loss: 0.0494 - accuracy: 0.9840\n",
      "Epoch 14/20\n",
      "71/71 [==============================] - 3s 48ms/step - loss: 0.0593 - accuracy: 0.9774\n",
      "Epoch 15/20\n",
      "71/71 [==============================] - 3s 47ms/step - loss: 0.0362 - accuracy: 0.9898\n",
      "Epoch 16/20\n",
      "71/71 [==============================] - 3s 47ms/step - loss: 0.0318 - accuracy: 0.9893\n",
      "Epoch 17/20\n",
      "71/71 [==============================] - 3s 47ms/step - loss: 0.0260 - accuracy: 0.9938\n",
      "Epoch 18/20\n",
      "71/71 [==============================] - 3s 47ms/step - loss: 0.0388 - accuracy: 0.9885\n",
      "Epoch 19/20\n",
      "71/71 [==============================] - 3s 48ms/step - loss: 0.0389 - accuracy: 0.9862\n",
      "Epoch 20/20\n",
      "71/71 [==============================] - 3s 48ms/step - loss: 0.0185 - accuracy: 0.9942\n",
      "[INFO] Saving Model for moth fold 1 ...\n",
      "36/36 [==============================] - 0s 10ms/step\n"
     ]
    },
    {
     "name": "stderr",
     "output_type": "stream",
     "text": [
      "C:\\Users\\rudra\\AppData\\Local\\Temp\\ipykernel_6820\\3249705492.py:34: UserWarning: FigureCanvasAgg is non-interactive, and thus cannot be shown\n",
      "  plt.show()\n"
     ]
    },
    {
     "name": "stdout",
     "output_type": "stream",
     "text": [
      "1/1 [==============================] - 0s 78ms/step\n"
     ]
    },
    {
     "name": "stderr",
     "output_type": "stream",
     "text": [
      "C:\\Users\\rudra\\AppData\\Local\\Temp\\ipykernel_6820\\1767733992.py:15: RuntimeWarning: invalid value encountered in divide\n",
      "  channel_image /= channel_image.std()\n",
      "C:\\Users\\rudra\\AppData\\Local\\Temp\\ipykernel_6820\\1767733992.py:18: RuntimeWarning: invalid value encountered in cast\n",
      "  channel_image = np.clip(channel_image, 0, 255).astype('uint8')\n"
     ]
    },
    {
     "name": "stdout",
     "output_type": "stream",
     "text": [
      "[INFO] Training network for moth fold 2...\n",
      "Epoch 1/20\n",
      "71/71 [==============================] - 4s 49ms/step - loss: 0.5677 - accuracy: 0.7113\n",
      "Epoch 2/20\n",
      "71/71 [==============================] - 3s 49ms/step - loss: 0.3913 - accuracy: 0.8242\n",
      "Epoch 3/20\n",
      "71/71 [==============================] - 3s 49ms/step - loss: 0.2777 - accuracy: 0.8863\n",
      "Epoch 4/20\n",
      "71/71 [==============================] - 3s 48ms/step - loss: 0.2027 - accuracy: 0.9245\n",
      "Epoch 5/20\n",
      "71/71 [==============================] - 3s 49ms/step - loss: 0.1148 - accuracy: 0.9547\n",
      "Epoch 6/20\n",
      "71/71 [==============================] - 3s 48ms/step - loss: 0.0869 - accuracy: 0.9689\n",
      "Epoch 7/20\n",
      "71/71 [==============================] - 3s 48ms/step - loss: 0.0793 - accuracy: 0.9751\n",
      "Epoch 8/20\n",
      "71/71 [==============================] - 3s 48ms/step - loss: 0.0436 - accuracy: 0.9876\n",
      "Epoch 9/20\n",
      "71/71 [==============================] - 3s 49ms/step - loss: 0.0465 - accuracy: 0.9836\n",
      "Epoch 10/20\n",
      "71/71 [==============================] - 3s 48ms/step - loss: 0.0635 - accuracy: 0.9778\n",
      "Epoch 11/20\n",
      "71/71 [==============================] - 3s 47ms/step - loss: 0.0409 - accuracy: 0.9880\n",
      "Epoch 12/20\n",
      "71/71 [==============================] - 3s 47ms/step - loss: 0.0401 - accuracy: 0.9853\n",
      "Epoch 13/20\n",
      "71/71 [==============================] - 3s 47ms/step - loss: 0.0314 - accuracy: 0.9925\n",
      "Epoch 14/20\n",
      "71/71 [==============================] - 3s 47ms/step - loss: 0.0532 - accuracy: 0.9840\n",
      "Epoch 15/20\n",
      "71/71 [==============================] - 3s 47ms/step - loss: 0.0397 - accuracy: 0.9902\n",
      "Epoch 16/20\n",
      "71/71 [==============================] - 3s 47ms/step - loss: 0.0303 - accuracy: 0.9902\n",
      "Epoch 17/20\n",
      "71/71 [==============================] - 3s 47ms/step - loss: 0.0218 - accuracy: 0.9938\n",
      "Epoch 18/20\n",
      "71/71 [==============================] - 3s 47ms/step - loss: 0.0267 - accuracy: 0.9916\n",
      "Epoch 19/20\n",
      "71/71 [==============================] - 4s 53ms/step - loss: 0.0178 - accuracy: 0.9938\n",
      "Epoch 20/20\n",
      "71/71 [==============================] - 4s 55ms/step - loss: 0.0114 - accuracy: 0.9973\n",
      "[INFO] Saving Model for moth fold 2 ...\n",
      "36/36 [==============================] - 0s 11ms/step\n"
     ]
    },
    {
     "name": "stderr",
     "output_type": "stream",
     "text": [
      "C:\\Users\\rudra\\AppData\\Local\\Temp\\ipykernel_6820\\3249705492.py:34: UserWarning: FigureCanvasAgg is non-interactive, and thus cannot be shown\n",
      "  plt.show()\n"
     ]
    },
    {
     "name": "stdout",
     "output_type": "stream",
     "text": [
      "1/1 [==============================] - 0s 74ms/step\n"
     ]
    },
    {
     "name": "stderr",
     "output_type": "stream",
     "text": [
      "C:\\Users\\rudra\\AppData\\Local\\Temp\\ipykernel_6820\\1767733992.py:15: RuntimeWarning: invalid value encountered in divide\n",
      "  channel_image /= channel_image.std()\n",
      "C:\\Users\\rudra\\AppData\\Local\\Temp\\ipykernel_6820\\1767733992.py:18: RuntimeWarning: invalid value encountered in cast\n",
      "  channel_image = np.clip(channel_image, 0, 255).astype('uint8')\n"
     ]
    },
    {
     "name": "stdout",
     "output_type": "stream",
     "text": [
      "[INFO] Training network for moth fold 3...\n",
      "Epoch 1/20\n",
      "71/71 [==============================] - 4s 48ms/step - loss: 0.5800 - accuracy: 0.7020\n",
      "Epoch 2/20\n",
      "71/71 [==============================] - 3s 47ms/step - loss: 0.4283 - accuracy: 0.7931\n",
      "Epoch 3/20\n",
      "71/71 [==============================] - 3s 47ms/step - loss: 0.3130 - accuracy: 0.8641\n",
      "Epoch 4/20\n",
      "71/71 [==============================] - 3s 47ms/step - loss: 0.2611 - accuracy: 0.8948\n",
      "Epoch 5/20\n",
      "71/71 [==============================] - 3s 47ms/step - loss: 0.1917 - accuracy: 0.9321\n",
      "Epoch 6/20\n",
      "71/71 [==============================] - 3s 47ms/step - loss: 0.1147 - accuracy: 0.9627\n",
      "Epoch 7/20\n",
      "71/71 [==============================] - 3s 47ms/step - loss: 0.0674 - accuracy: 0.9778\n",
      "Epoch 8/20\n",
      "71/71 [==============================] - 3s 47ms/step - loss: 0.0790 - accuracy: 0.9707\n",
      "Epoch 9/20\n",
      "71/71 [==============================] - 3s 47ms/step - loss: 0.0537 - accuracy: 0.9840\n",
      "Epoch 10/20\n",
      "71/71 [==============================] - 3s 47ms/step - loss: 0.0495 - accuracy: 0.9813\n",
      "Epoch 11/20\n",
      "71/71 [==============================] - 3s 47ms/step - loss: 0.0313 - accuracy: 0.9907\n",
      "Epoch 12/20\n",
      "71/71 [==============================] - 3s 47ms/step - loss: 0.0192 - accuracy: 0.9960\n",
      "Epoch 13/20\n",
      "71/71 [==============================] - 3s 47ms/step - loss: 0.0101 - accuracy: 0.9991\n",
      "Epoch 14/20\n",
      "71/71 [==============================] - 3s 47ms/step - loss: 0.0239 - accuracy: 0.9916\n",
      "Epoch 15/20\n",
      "71/71 [==============================] - 3s 47ms/step - loss: 0.0322 - accuracy: 0.9893\n",
      "Epoch 16/20\n",
      "71/71 [==============================] - 3s 47ms/step - loss: 0.0669 - accuracy: 0.9769\n",
      "Epoch 17/20\n",
      "71/71 [==============================] - 3s 47ms/step - loss: 0.0441 - accuracy: 0.9831\n",
      "Epoch 18/20\n",
      "71/71 [==============================] - 3s 47ms/step - loss: 0.0173 - accuracy: 0.9978\n",
      "Epoch 19/20\n",
      "71/71 [==============================] - 3s 47ms/step - loss: 0.0126 - accuracy: 0.9964\n",
      "Epoch 20/20\n",
      "71/71 [==============================] - 3s 47ms/step - loss: 0.0075 - accuracy: 0.9991\n",
      "[INFO] Saving Model for moth fold 3 ...\n",
      "36/36 [==============================] - 1s 10ms/step\n"
     ]
    },
    {
     "name": "stderr",
     "output_type": "stream",
     "text": [
      "C:\\Users\\rudra\\AppData\\Local\\Temp\\ipykernel_6820\\3249705492.py:34: UserWarning: FigureCanvasAgg is non-interactive, and thus cannot be shown\n",
      "  plt.show()\n"
     ]
    },
    {
     "name": "stdout",
     "output_type": "stream",
     "text": [
      "1/1 [==============================] - 0s 78ms/step\n"
     ]
    },
    {
     "name": "stderr",
     "output_type": "stream",
     "text": [
      "C:\\Users\\rudra\\AppData\\Local\\Temp\\ipykernel_6820\\1767733992.py:15: RuntimeWarning: invalid value encountered in divide\n",
      "  channel_image /= channel_image.std()\n",
      "C:\\Users\\rudra\\AppData\\Local\\Temp\\ipykernel_6820\\1767733992.py:18: RuntimeWarning: invalid value encountered in cast\n",
      "  channel_image = np.clip(channel_image, 0, 255).astype('uint8')\n"
     ]
    },
    {
     "name": "stdout",
     "output_type": "stream",
     "text": [
      "[INFO] Loading images ...\n",
      "[INFO] Processing mouse ...\n",
      "[INFO] Processing rest ...\n",
      "[INFO] image extract completed\n",
      "total train samples: \n",
      "3426\n",
      "[INFO] Training network for mouse fold 1...\n",
      "Epoch 1/20\n",
      "71/71 [==============================] - 5s 49ms/step - loss: 0.4282 - accuracy: 0.8068\n",
      "Epoch 2/20\n",
      "71/71 [==============================] - 3s 48ms/step - loss: 0.2838 - accuracy: 0.8797\n",
      "Epoch 3/20\n",
      "71/71 [==============================] - 3s 47ms/step - loss: 0.2195 - accuracy: 0.9187\n",
      "Epoch 4/20\n",
      "71/71 [==============================] - 3s 47ms/step - loss: 0.1626 - accuracy: 0.9374\n",
      "Epoch 5/20\n",
      "71/71 [==============================] - 3s 47ms/step - loss: 0.1240 - accuracy: 0.9596\n",
      "Epoch 6/20\n",
      "71/71 [==============================] - 3s 47ms/step - loss: 0.1081 - accuracy: 0.9605\n",
      "Epoch 7/20\n",
      "71/71 [==============================] - 3s 47ms/step - loss: 0.1355 - accuracy: 0.9480\n",
      "Epoch 8/20\n",
      "71/71 [==============================] - 3s 47ms/step - loss: 0.0711 - accuracy: 0.9774\n",
      "Epoch 9/20\n",
      "71/71 [==============================] - 3s 47ms/step - loss: 0.0613 - accuracy: 0.9822\n",
      "Epoch 10/20\n",
      "71/71 [==============================] - 3s 47ms/step - loss: 0.0449 - accuracy: 0.9876\n",
      "Epoch 11/20\n",
      "71/71 [==============================] - 3s 47ms/step - loss: 0.0416 - accuracy: 0.9871\n",
      "Epoch 12/20\n",
      "71/71 [==============================] - 3s 48ms/step - loss: 0.0396 - accuracy: 0.9871\n",
      "Epoch 13/20\n",
      "71/71 [==============================] - 4s 49ms/step - loss: 0.0336 - accuracy: 0.9911\n",
      "Epoch 14/20\n",
      "71/71 [==============================] - 3s 48ms/step - loss: 0.0315 - accuracy: 0.9911\n",
      "Epoch 15/20\n",
      "71/71 [==============================] - 3s 48ms/step - loss: 0.0299 - accuracy: 0.9902\n",
      "Epoch 16/20\n",
      "71/71 [==============================] - 3s 47ms/step - loss: 0.0417 - accuracy: 0.9876\n",
      "Epoch 17/20\n",
      "71/71 [==============================] - 3s 47ms/step - loss: 0.0302 - accuracy: 0.9898\n",
      "Epoch 18/20\n",
      "71/71 [==============================] - 3s 47ms/step - loss: 0.0157 - accuracy: 0.9964\n",
      "Epoch 19/20\n",
      "71/71 [==============================] - 3s 47ms/step - loss: 0.0299 - accuracy: 0.9902\n",
      "Epoch 20/20\n",
      "71/71 [==============================] - 3s 47ms/step - loss: 0.0189 - accuracy: 0.9938\n",
      "[INFO] Saving Model for mouse fold 1 ...\n",
      "36/36 [==============================] - 1s 11ms/step\n"
     ]
    },
    {
     "name": "stderr",
     "output_type": "stream",
     "text": [
      "C:\\Users\\rudra\\AppData\\Local\\Temp\\ipykernel_6820\\3249705492.py:34: UserWarning: FigureCanvasAgg is non-interactive, and thus cannot be shown\n",
      "  plt.show()\n"
     ]
    },
    {
     "name": "stdout",
     "output_type": "stream",
     "text": [
      "1/1 [==============================] - 0s 74ms/step\n"
     ]
    },
    {
     "name": "stderr",
     "output_type": "stream",
     "text": [
      "C:\\Users\\rudra\\AppData\\Local\\Temp\\ipykernel_6820\\1767733992.py:15: RuntimeWarning: invalid value encountered in divide\n",
      "  channel_image /= channel_image.std()\n",
      "C:\\Users\\rudra\\AppData\\Local\\Temp\\ipykernel_6820\\1767733992.py:18: RuntimeWarning: invalid value encountered in cast\n",
      "  channel_image = np.clip(channel_image, 0, 255).astype('uint8')\n"
     ]
    },
    {
     "name": "stdout",
     "output_type": "stream",
     "text": [
      "[INFO] Training network for mouse fold 2...\n",
      "Epoch 1/20\n",
      "71/71 [==============================] - 4s 48ms/step - loss: 0.4389 - accuracy: 0.7949\n",
      "Epoch 2/20\n",
      "71/71 [==============================] - 3s 48ms/step - loss: 0.2791 - accuracy: 0.8850\n",
      "Epoch 3/20\n",
      "71/71 [==============================] - 3s 47ms/step - loss: 0.2012 - accuracy: 0.9307\n",
      "Epoch 4/20\n",
      "71/71 [==============================] - 3s 47ms/step - loss: 0.1576 - accuracy: 0.9423\n",
      "Epoch 5/20\n",
      "71/71 [==============================] - 3s 47ms/step - loss: 0.1414 - accuracy: 0.9472\n",
      "Epoch 6/20\n",
      "71/71 [==============================] - 3s 47ms/step - loss: 0.0782 - accuracy: 0.9769\n",
      "Epoch 7/20\n",
      "71/71 [==============================] - 3s 47ms/step - loss: 0.0661 - accuracy: 0.9791\n",
      "Epoch 8/20\n",
      "71/71 [==============================] - 3s 47ms/step - loss: 0.0664 - accuracy: 0.9800\n",
      "Epoch 9/20\n",
      "71/71 [==============================] - 3s 47ms/step - loss: 0.0454 - accuracy: 0.9862\n",
      "Epoch 10/20\n",
      "71/71 [==============================] - 3s 47ms/step - loss: 0.0283 - accuracy: 0.9933\n",
      "Epoch 11/20\n",
      "71/71 [==============================] - 3s 47ms/step - loss: 0.0352 - accuracy: 0.9862\n",
      "Epoch 12/20\n",
      "71/71 [==============================] - 3s 47ms/step - loss: 0.0439 - accuracy: 0.9845\n",
      "Epoch 13/20\n",
      "71/71 [==============================] - 3s 47ms/step - loss: 0.0298 - accuracy: 0.9916\n",
      "Epoch 14/20\n",
      "71/71 [==============================] - 3s 47ms/step - loss: 0.0222 - accuracy: 0.9925\n",
      "Epoch 15/20\n",
      "71/71 [==============================] - 3s 47ms/step - loss: 0.0114 - accuracy: 0.9987\n",
      "Epoch 16/20\n",
      "71/71 [==============================] - 3s 47ms/step - loss: 0.0221 - accuracy: 0.9925\n",
      "Epoch 17/20\n",
      "71/71 [==============================] - 3s 47ms/step - loss: 0.0300 - accuracy: 0.9893\n",
      "Epoch 18/20\n",
      "71/71 [==============================] - 3s 47ms/step - loss: 0.0518 - accuracy: 0.9818\n",
      "Epoch 19/20\n",
      "71/71 [==============================] - 3s 47ms/step - loss: 0.0353 - accuracy: 0.9889\n",
      "Epoch 20/20\n",
      "71/71 [==============================] - 3s 47ms/step - loss: 0.0092 - accuracy: 0.9978\n",
      "[INFO] Saving Model for mouse fold 2 ...\n",
      "36/36 [==============================] - 0s 10ms/step\n"
     ]
    },
    {
     "name": "stderr",
     "output_type": "stream",
     "text": [
      "C:\\Users\\rudra\\AppData\\Local\\Temp\\ipykernel_6820\\3249705492.py:34: UserWarning: FigureCanvasAgg is non-interactive, and thus cannot be shown\n",
      "  plt.show()\n"
     ]
    },
    {
     "name": "stdout",
     "output_type": "stream",
     "text": [
      "1/1 [==============================] - 0s 63ms/step\n",
      "[INFO] Training network for mouse fold 3...\n",
      "Epoch 1/20\n",
      "71/71 [==============================] - 4s 49ms/step - loss: 0.4611 - accuracy: 0.7698\n",
      "Epoch 2/20\n",
      "71/71 [==============================] - 3s 48ms/step - loss: 0.3122 - accuracy: 0.8650\n",
      "Epoch 3/20\n",
      "71/71 [==============================] - 3s 47ms/step - loss: 0.2258 - accuracy: 0.9201\n",
      "Epoch 4/20\n",
      "71/71 [==============================] - 3s 47ms/step - loss: 0.2020 - accuracy: 0.9232\n",
      "Epoch 5/20\n",
      "71/71 [==============================] - 3s 48ms/step - loss: 0.1467 - accuracy: 0.9503\n",
      "Epoch 6/20\n",
      "71/71 [==============================] - 3s 48ms/step - loss: 0.1009 - accuracy: 0.9694\n",
      "Epoch 7/20\n",
      "71/71 [==============================] - 4s 52ms/step - loss: 0.0871 - accuracy: 0.9702\n",
      "Epoch 8/20\n",
      "71/71 [==============================] - 3s 47ms/step - loss: 0.0777 - accuracy: 0.9720\n",
      "Epoch 9/20\n",
      "71/71 [==============================] - 3s 47ms/step - loss: 0.0822 - accuracy: 0.9707\n",
      "Epoch 10/20\n",
      "71/71 [==============================] - 3s 47ms/step - loss: 0.0498 - accuracy: 0.9840\n",
      "Epoch 11/20\n",
      "71/71 [==============================] - 3s 47ms/step - loss: 0.0498 - accuracy: 0.9845\n",
      "Epoch 12/20\n",
      "71/71 [==============================] - 3s 47ms/step - loss: 0.0447 - accuracy: 0.9889\n",
      "Epoch 13/20\n",
      "71/71 [==============================] - 3s 47ms/step - loss: 0.0329 - accuracy: 0.9889\n",
      "Epoch 14/20\n",
      "71/71 [==============================] - 3s 47ms/step - loss: 0.0301 - accuracy: 0.9911\n",
      "Epoch 15/20\n",
      "71/71 [==============================] - 3s 47ms/step - loss: 0.0135 - accuracy: 0.9982\n",
      "Epoch 16/20\n",
      "71/71 [==============================] - 4s 51ms/step - loss: 0.0226 - accuracy: 0.9925\n",
      "Epoch 17/20\n",
      "71/71 [==============================] - 3s 47ms/step - loss: 0.0294 - accuracy: 0.9925\n",
      "Epoch 18/20\n",
      "71/71 [==============================] - 3s 47ms/step - loss: 0.0353 - accuracy: 0.9885\n",
      "Epoch 19/20\n",
      "71/71 [==============================] - 3s 47ms/step - loss: 0.0608 - accuracy: 0.9813\n",
      "Epoch 20/20\n",
      "71/71 [==============================] - 3s 47ms/step - loss: 0.0333 - accuracy: 0.9898\n",
      "[INFO] Saving Model for mouse fold 3 ...\n",
      "36/36 [==============================] - 1s 11ms/step\n"
     ]
    },
    {
     "name": "stderr",
     "output_type": "stream",
     "text": [
      "C:\\Users\\rudra\\AppData\\Local\\Temp\\ipykernel_6820\\3249705492.py:34: UserWarning: FigureCanvasAgg is non-interactive, and thus cannot be shown\n",
      "  plt.show()\n"
     ]
    },
    {
     "name": "stdout",
     "output_type": "stream",
     "text": [
      "1/1 [==============================] - 0s 84ms/step\n"
     ]
    },
    {
     "name": "stderr",
     "output_type": "stream",
     "text": [
      "C:\\Users\\rudra\\AppData\\Local\\Temp\\ipykernel_6820\\1767733992.py:15: RuntimeWarning: invalid value encountered in divide\n",
      "  channel_image /= channel_image.std()\n",
      "C:\\Users\\rudra\\AppData\\Local\\Temp\\ipykernel_6820\\1767733992.py:18: RuntimeWarning: invalid value encountered in cast\n",
      "  channel_image = np.clip(channel_image, 0, 255).astype('uint8')\n"
     ]
    },
    {
     "name": "stdout",
     "output_type": "stream",
     "text": [
      "[INFO] Loading images ...\n",
      "[INFO] Processing octopus ...\n",
      "[INFO] Processing rest ...\n",
      "[INFO] image extract completed\n",
      "total train samples: \n",
      "3418\n",
      "[INFO] Training network for octopus fold 1...\n",
      "Epoch 1/20\n",
      "71/71 [==============================] - 4s 48ms/step - loss: 0.5386 - accuracy: 0.7306\n",
      "Epoch 2/20\n",
      "71/71 [==============================] - 3s 48ms/step - loss: 0.3627 - accuracy: 0.8522\n",
      "Epoch 3/20\n",
      "71/71 [==============================] - 3s 47ms/step - loss: 0.2576 - accuracy: 0.8989\n",
      "Epoch 4/20\n",
      "71/71 [==============================] - 3s 47ms/step - loss: 0.2238 - accuracy: 0.9167\n",
      "Epoch 5/20\n",
      "71/71 [==============================] - 4s 51ms/step - loss: 0.1636 - accuracy: 0.9417\n",
      "Epoch 6/20\n",
      "71/71 [==============================] - 3s 47ms/step - loss: 0.1199 - accuracy: 0.9586\n",
      "Epoch 7/20\n",
      "71/71 [==============================] - 3s 47ms/step - loss: 0.1478 - accuracy: 0.9439\n",
      "Epoch 8/20\n",
      "71/71 [==============================] - 3s 47ms/step - loss: 0.1060 - accuracy: 0.9653\n",
      "Epoch 9/20\n",
      "71/71 [==============================] - 3s 47ms/step - loss: 0.1173 - accuracy: 0.9573\n",
      "Epoch 10/20\n",
      "71/71 [==============================] - 3s 47ms/step - loss: 0.0956 - accuracy: 0.9715\n",
      "Epoch 11/20\n",
      "71/71 [==============================] - 3s 47ms/step - loss: 0.0435 - accuracy: 0.9866\n",
      "Epoch 12/20\n",
      "71/71 [==============================] - 3s 47ms/step - loss: 0.0508 - accuracy: 0.9817\n",
      "Epoch 13/20\n",
      "71/71 [==============================] - 3s 47ms/step - loss: 0.0257 - accuracy: 0.9938\n",
      "Epoch 14/20\n",
      "71/71 [==============================] - 3s 47ms/step - loss: 0.0179 - accuracy: 0.9955\n",
      "Epoch 15/20\n",
      "71/71 [==============================] - 3s 47ms/step - loss: 0.0215 - accuracy: 0.9929\n",
      "Epoch 16/20\n",
      "71/71 [==============================] - 3s 47ms/step - loss: 0.0274 - accuracy: 0.9911\n",
      "Epoch 17/20\n",
      "71/71 [==============================] - 3s 47ms/step - loss: 0.0328 - accuracy: 0.9902\n",
      "Epoch 18/20\n",
      "71/71 [==============================] - 3s 47ms/step - loss: 0.0552 - accuracy: 0.9817\n",
      "Epoch 19/20\n",
      "71/71 [==============================] - 3s 47ms/step - loss: 0.0961 - accuracy: 0.9635\n",
      "Epoch 20/20\n",
      "71/71 [==============================] - 3s 47ms/step - loss: 0.0639 - accuracy: 0.9795\n",
      "[INFO] Saving Model for octopus fold 1 ...\n",
      "36/36 [==============================] - 0s 11ms/step\n"
     ]
    },
    {
     "name": "stderr",
     "output_type": "stream",
     "text": [
      "C:\\Users\\rudra\\AppData\\Local\\Temp\\ipykernel_6820\\3249705492.py:34: UserWarning: FigureCanvasAgg is non-interactive, and thus cannot be shown\n",
      "  plt.show()\n"
     ]
    },
    {
     "name": "stdout",
     "output_type": "stream",
     "text": [
      "1/1 [==============================] - 0s 51ms/step\n"
     ]
    },
    {
     "name": "stderr",
     "output_type": "stream",
     "text": [
      "C:\\Users\\rudra\\AppData\\Local\\Temp\\ipykernel_6820\\1767733992.py:15: RuntimeWarning: invalid value encountered in divide\n",
      "  channel_image /= channel_image.std()\n",
      "C:\\Users\\rudra\\AppData\\Local\\Temp\\ipykernel_6820\\1767733992.py:18: RuntimeWarning: invalid value encountered in cast\n",
      "  channel_image = np.clip(channel_image, 0, 255).astype('uint8')\n"
     ]
    },
    {
     "name": "stdout",
     "output_type": "stream",
     "text": [
      "[INFO] Training network for octopus fold 2...\n",
      "Epoch 1/20\n",
      "71/71 [==============================] - 4s 49ms/step - loss: 0.5168 - accuracy: 0.7518\n",
      "Epoch 2/20\n",
      "71/71 [==============================] - 3s 48ms/step - loss: 0.3498 - accuracy: 0.8496\n",
      "Epoch 3/20\n",
      "71/71 [==============================] - 3s 47ms/step - loss: 0.2837 - accuracy: 0.8843\n",
      "Epoch 4/20\n",
      "71/71 [==============================] - 3s 48ms/step - loss: 0.2119 - accuracy: 0.9172\n",
      "Epoch 5/20\n",
      "71/71 [==============================] - 3s 48ms/step - loss: 0.1556 - accuracy: 0.9470\n",
      "Epoch 6/20\n",
      "71/71 [==============================] - 3s 48ms/step - loss: 0.0962 - accuracy: 0.9702\n",
      "Epoch 7/20\n",
      "71/71 [==============================] - 3s 48ms/step - loss: 0.0599 - accuracy: 0.9862\n",
      "Epoch 8/20\n",
      "71/71 [==============================] - 3s 48ms/step - loss: 0.0714 - accuracy: 0.9733\n",
      "Epoch 9/20\n",
      "71/71 [==============================] - 3s 47ms/step - loss: 0.0585 - accuracy: 0.9809\n",
      "Epoch 10/20\n",
      "71/71 [==============================] - 3s 48ms/step - loss: 0.0358 - accuracy: 0.9929\n",
      "Epoch 11/20\n",
      "71/71 [==============================] - 3s 48ms/step - loss: 0.0367 - accuracy: 0.9871\n",
      "Epoch 12/20\n",
      "71/71 [==============================] - 3s 49ms/step - loss: 0.0529 - accuracy: 0.9813\n",
      "Epoch 13/20\n",
      "71/71 [==============================] - 3s 48ms/step - loss: 0.0642 - accuracy: 0.9795\n",
      "Epoch 14/20\n",
      "71/71 [==============================] - 3s 47ms/step - loss: 0.0865 - accuracy: 0.9680\n",
      "Epoch 15/20\n",
      "71/71 [==============================] - 3s 47ms/step - loss: 0.0300 - accuracy: 0.9929\n",
      "Epoch 16/20\n",
      "71/71 [==============================] - 3s 47ms/step - loss: 0.0432 - accuracy: 0.9858\n",
      "Epoch 17/20\n",
      "71/71 [==============================] - 3s 47ms/step - loss: 0.0230 - accuracy: 0.9933\n",
      "Epoch 18/20\n",
      "71/71 [==============================] - 3s 47ms/step - loss: 0.0505 - accuracy: 0.9822\n",
      "Epoch 19/20\n",
      "71/71 [==============================] - 3s 47ms/step - loss: 0.0173 - accuracy: 0.9969\n",
      "Epoch 20/20\n",
      "71/71 [==============================] - 3s 47ms/step - loss: 0.0147 - accuracy: 0.9960\n",
      "[INFO] Saving Model for octopus fold 2 ...\n",
      "36/36 [==============================] - 1s 13ms/step\n"
     ]
    },
    {
     "name": "stderr",
     "output_type": "stream",
     "text": [
      "C:\\Users\\rudra\\AppData\\Local\\Temp\\ipykernel_6820\\3249705492.py:34: UserWarning: FigureCanvasAgg is non-interactive, and thus cannot be shown\n",
      "  plt.show()\n"
     ]
    },
    {
     "name": "stdout",
     "output_type": "stream",
     "text": [
      "1/1 [==============================] - 0s 47ms/step\n"
     ]
    },
    {
     "name": "stderr",
     "output_type": "stream",
     "text": [
      "C:\\Users\\rudra\\AppData\\Local\\Temp\\ipykernel_6820\\1767733992.py:15: RuntimeWarning: invalid value encountered in divide\n",
      "  channel_image /= channel_image.std()\n",
      "C:\\Users\\rudra\\AppData\\Local\\Temp\\ipykernel_6820\\1767733992.py:18: RuntimeWarning: invalid value encountered in cast\n",
      "  channel_image = np.clip(channel_image, 0, 255).astype('uint8')\n"
     ]
    },
    {
     "name": "stdout",
     "output_type": "stream",
     "text": [
      "[INFO] Training network for octopus fold 3...\n",
      "Epoch 1/20\n",
      "71/71 [==============================] - 5s 50ms/step - loss: 0.5116 - accuracy: 0.7540\n",
      "Epoch 2/20\n",
      "71/71 [==============================] - 3s 48ms/step - loss: 0.3487 - accuracy: 0.8487\n",
      "Epoch 3/20\n",
      "71/71 [==============================] - 3s 47ms/step - loss: 0.2936 - accuracy: 0.8794\n",
      "Epoch 4/20\n",
      "71/71 [==============================] - 3s 47ms/step - loss: 0.1921 - accuracy: 0.9252\n",
      "Epoch 5/20\n",
      "71/71 [==============================] - 3s 47ms/step - loss: 0.1529 - accuracy: 0.9381\n",
      "Epoch 6/20\n",
      "71/71 [==============================] - 3s 47ms/step - loss: 0.0975 - accuracy: 0.9648\n",
      "Epoch 7/20\n",
      "71/71 [==============================] - 3s 47ms/step - loss: 0.0798 - accuracy: 0.9729\n",
      "Epoch 8/20\n",
      "71/71 [==============================] - 3s 47ms/step - loss: 0.0755 - accuracy: 0.9751\n",
      "Epoch 9/20\n",
      "71/71 [==============================] - 3s 47ms/step - loss: 0.0813 - accuracy: 0.9697\n",
      "Epoch 10/20\n",
      "71/71 [==============================] - 4s 51ms/step - loss: 0.0601 - accuracy: 0.9813\n",
      "Epoch 11/20\n",
      "71/71 [==============================] - 3s 47ms/step - loss: 0.0253 - accuracy: 0.9942\n",
      "Epoch 12/20\n",
      "71/71 [==============================] - 3s 47ms/step - loss: 0.0521 - accuracy: 0.9826\n",
      "Epoch 13/20\n",
      "71/71 [==============================] - 3s 47ms/step - loss: 0.0368 - accuracy: 0.9862\n",
      "Epoch 14/20\n",
      "71/71 [==============================] - 3s 47ms/step - loss: 0.0545 - accuracy: 0.9800\n",
      "Epoch 15/20\n",
      "71/71 [==============================] - 3s 47ms/step - loss: 0.0237 - accuracy: 0.9933\n",
      "Epoch 16/20\n",
      "71/71 [==============================] - 3s 47ms/step - loss: 0.0190 - accuracy: 0.9947\n",
      "Epoch 17/20\n",
      "71/71 [==============================] - 3s 47ms/step - loss: 0.0225 - accuracy: 0.9942\n",
      "Epoch 18/20\n",
      "71/71 [==============================] - 3s 47ms/step - loss: 0.0339 - accuracy: 0.9880\n",
      "Epoch 19/20\n",
      "71/71 [==============================] - 3s 47ms/step - loss: 0.0222 - accuracy: 0.9929\n",
      "Epoch 20/20\n",
      "71/71 [==============================] - 3s 47ms/step - loss: 0.0080 - accuracy: 0.9982\n",
      "[INFO] Saving Model for octopus fold 3 ...\n",
      "36/36 [==============================] - 0s 10ms/step\n"
     ]
    },
    {
     "name": "stderr",
     "output_type": "stream",
     "text": [
      "C:\\Users\\rudra\\AppData\\Local\\Temp\\ipykernel_6820\\3249705492.py:34: UserWarning: FigureCanvasAgg is non-interactive, and thus cannot be shown\n",
      "  plt.show()\n"
     ]
    },
    {
     "name": "stdout",
     "output_type": "stream",
     "text": [
      "1/1 [==============================] - 0s 78ms/step\n"
     ]
    },
    {
     "name": "stderr",
     "output_type": "stream",
     "text": [
      "C:\\Users\\rudra\\AppData\\Local\\Temp\\ipykernel_6820\\1767733992.py:15: RuntimeWarning: invalid value encountered in divide\n",
      "  channel_image /= channel_image.std()\n",
      "C:\\Users\\rudra\\AppData\\Local\\Temp\\ipykernel_6820\\1767733992.py:18: RuntimeWarning: invalid value encountered in cast\n",
      "  channel_image = np.clip(channel_image, 0, 255).astype('uint8')\n"
     ]
    },
    {
     "name": "stdout",
     "output_type": "stream",
     "text": [
      "[INFO] Loading images ...\n",
      "[INFO] Processing okapi ...\n",
      "[INFO] Processing rest ...\n",
      "[INFO] image extract completed\n",
      "total train samples: \n",
      "3416\n",
      "[INFO] Training network for okapi fold 1...\n",
      "Epoch 1/20\n",
      "71/71 [==============================] - 5s 48ms/step - loss: 0.4147 - accuracy: 0.8151\n",
      "Epoch 2/20\n",
      "71/71 [==============================] - 3s 48ms/step - loss: 0.2547 - accuracy: 0.8935\n",
      "Epoch 3/20\n",
      "71/71 [==============================] - 3s 47ms/step - loss: 0.1714 - accuracy: 0.9323\n",
      "Epoch 4/20\n",
      "71/71 [==============================] - 3s 47ms/step - loss: 0.1334 - accuracy: 0.9550\n",
      "Epoch 5/20\n",
      "71/71 [==============================] - 3s 49ms/step - loss: 0.0791 - accuracy: 0.9737\n",
      "Epoch 6/20\n",
      "71/71 [==============================] - 3s 48ms/step - loss: 0.0820 - accuracy: 0.9706\n",
      "Epoch 7/20\n",
      "71/71 [==============================] - 3s 47ms/step - loss: 0.0651 - accuracy: 0.9808\n",
      "Epoch 8/20\n",
      "71/71 [==============================] - 3s 47ms/step - loss: 0.0303 - accuracy: 0.9911\n",
      "Epoch 9/20\n",
      "71/71 [==============================] - 3s 48ms/step - loss: 0.0235 - accuracy: 0.9942\n",
      "Epoch 10/20\n",
      "71/71 [==============================] - 3s 47ms/step - loss: 0.0213 - accuracy: 0.9942\n",
      "Epoch 11/20\n",
      "71/71 [==============================] - 3s 47ms/step - loss: 0.0356 - accuracy: 0.9884\n",
      "Epoch 12/20\n",
      "71/71 [==============================] - 3s 48ms/step - loss: 0.0269 - accuracy: 0.9920\n",
      "Epoch 13/20\n",
      "71/71 [==============================] - 3s 47ms/step - loss: 0.0143 - accuracy: 0.9969\n",
      "Epoch 14/20\n",
      "71/71 [==============================] - 3s 48ms/step - loss: 0.0105 - accuracy: 0.9978\n",
      "Epoch 15/20\n",
      "71/71 [==============================] - 3s 48ms/step - loss: 0.0561 - accuracy: 0.9764\n",
      "Epoch 16/20\n",
      "71/71 [==============================] - 3s 49ms/step - loss: 0.0275 - accuracy: 0.9911\n",
      "Epoch 17/20\n",
      "71/71 [==============================] - 3s 48ms/step - loss: 0.0324 - accuracy: 0.9893\n",
      "Epoch 18/20\n",
      "71/71 [==============================] - 3s 47ms/step - loss: 0.0231 - accuracy: 0.9947\n",
      "Epoch 19/20\n",
      "71/71 [==============================] - 3s 47ms/step - loss: 0.0087 - accuracy: 0.9987\n",
      "Epoch 20/20\n",
      "71/71 [==============================] - 3s 47ms/step - loss: 0.0056 - accuracy: 0.9991\n",
      "[INFO] Saving Model for okapi fold 1 ...\n",
      "36/36 [==============================] - 0s 10ms/step\n"
     ]
    },
    {
     "name": "stderr",
     "output_type": "stream",
     "text": [
      "C:\\Users\\rudra\\AppData\\Local\\Temp\\ipykernel_6820\\3249705492.py:34: UserWarning: FigureCanvasAgg is non-interactive, and thus cannot be shown\n",
      "  plt.show()\n"
     ]
    },
    {
     "name": "stdout",
     "output_type": "stream",
     "text": [
      "1/1 [==============================] - 0s 78ms/step\n",
      "[INFO] Training network for okapi fold 2...\n",
      "Epoch 1/20\n",
      "71/71 [==============================] - 5s 49ms/step - loss: 0.4204 - accuracy: 0.8103\n",
      "Epoch 2/20\n",
      "71/71 [==============================] - 3s 48ms/step - loss: 0.2579 - accuracy: 0.8949\n",
      "Epoch 3/20\n",
      "71/71 [==============================] - 3s 47ms/step - loss: 0.2396 - accuracy: 0.9002\n",
      "Epoch 4/20\n",
      "71/71 [==============================] - 3s 47ms/step - loss: 0.1668 - accuracy: 0.9350\n",
      "Epoch 5/20\n",
      "71/71 [==============================] - 3s 47ms/step - loss: 0.1240 - accuracy: 0.9563\n",
      "Epoch 6/20\n",
      "71/71 [==============================] - 3s 47ms/step - loss: 0.0817 - accuracy: 0.9706\n",
      "Epoch 7/20\n",
      "71/71 [==============================] - 3s 47ms/step - loss: 0.0506 - accuracy: 0.9844\n",
      "Epoch 8/20\n",
      "71/71 [==============================] - 3s 47ms/step - loss: 0.0219 - accuracy: 0.9969\n",
      "Epoch 9/20\n",
      "71/71 [==============================] - 3s 47ms/step - loss: 0.0202 - accuracy: 0.9938\n",
      "Epoch 10/20\n",
      "71/71 [==============================] - 3s 47ms/step - loss: 0.0384 - accuracy: 0.9898\n",
      "Epoch 11/20\n",
      "71/71 [==============================] - 3s 47ms/step - loss: 0.0433 - accuracy: 0.9871\n",
      "Epoch 12/20\n",
      "71/71 [==============================] - 3s 47ms/step - loss: 0.0211 - accuracy: 0.9951\n",
      "Epoch 13/20\n",
      "71/71 [==============================] - 3s 47ms/step - loss: 0.0317 - accuracy: 0.9915\n",
      "Epoch 14/20\n",
      "71/71 [==============================] - 3s 47ms/step - loss: 0.0253 - accuracy: 0.9915\n",
      "Epoch 15/20\n",
      "71/71 [==============================] - 4s 50ms/step - loss: 0.0153 - accuracy: 0.9964\n",
      "Epoch 16/20\n",
      "71/71 [==============================] - 3s 49ms/step - loss: 0.0089 - accuracy: 0.9987\n",
      "Epoch 17/20\n",
      "71/71 [==============================] - 3s 47ms/step - loss: 0.0172 - accuracy: 0.9924\n",
      "Epoch 18/20\n",
      "71/71 [==============================] - 3s 47ms/step - loss: 0.0329 - accuracy: 0.9875\n",
      "Epoch 19/20\n",
      "71/71 [==============================] - 3s 47ms/step - loss: 0.0142 - accuracy: 0.9960\n",
      "Epoch 20/20\n",
      "71/71 [==============================] - 3s 47ms/step - loss: 0.0142 - accuracy: 0.9964\n",
      "[INFO] Saving Model for okapi fold 2 ...\n",
      "36/36 [==============================] - 0s 10ms/step\n"
     ]
    },
    {
     "name": "stderr",
     "output_type": "stream",
     "text": [
      "C:\\Users\\rudra\\AppData\\Local\\Temp\\ipykernel_6820\\3249705492.py:34: UserWarning: FigureCanvasAgg is non-interactive, and thus cannot be shown\n",
      "  plt.show()\n"
     ]
    },
    {
     "name": "stdout",
     "output_type": "stream",
     "text": [
      "1/1 [==============================] - 0s 63ms/step\n",
      "[INFO] Training network for okapi fold 3...\n",
      "Epoch 1/20\n",
      "71/71 [==============================] - 4s 48ms/step - loss: 0.4047 - accuracy: 0.8173\n",
      "Epoch 2/20\n",
      "71/71 [==============================] - 3s 48ms/step - loss: 0.2361 - accuracy: 0.9056\n",
      "Epoch 3/20\n",
      "71/71 [==============================] - 3s 47ms/step - loss: 0.1929 - accuracy: 0.9319\n",
      "Epoch 4/20\n",
      "71/71 [==============================] - 3s 47ms/step - loss: 0.1016 - accuracy: 0.9666\n",
      "Epoch 5/20\n",
      "71/71 [==============================] - 3s 47ms/step - loss: 0.0918 - accuracy: 0.9684\n",
      "Epoch 6/20\n",
      "71/71 [==============================] - 3s 47ms/step - loss: 0.0547 - accuracy: 0.9831\n",
      "Epoch 7/20\n",
      "71/71 [==============================] - 3s 47ms/step - loss: 0.0267 - accuracy: 0.9938\n",
      "Epoch 8/20\n",
      "71/71 [==============================] - 3s 47ms/step - loss: 0.0546 - accuracy: 0.9835\n",
      "Epoch 9/20\n",
      "71/71 [==============================] - 3s 47ms/step - loss: 0.0378 - accuracy: 0.9915\n",
      "Epoch 10/20\n",
      "71/71 [==============================] - 3s 47ms/step - loss: 0.0155 - accuracy: 0.9955\n",
      "Epoch 11/20\n",
      "71/71 [==============================] - 3s 47ms/step - loss: 0.0144 - accuracy: 0.9969\n",
      "Epoch 12/20\n",
      "71/71 [==============================] - 3s 47ms/step - loss: 0.0628 - accuracy: 0.9764\n",
      "Epoch 13/20\n",
      "71/71 [==============================] - 3s 47ms/step - loss: 0.0310 - accuracy: 0.9911\n",
      "Epoch 14/20\n",
      "71/71 [==============================] - 3s 47ms/step - loss: 0.0295 - accuracy: 0.9902\n",
      "Epoch 15/20\n",
      "71/71 [==============================] - 3s 48ms/step - loss: 0.0175 - accuracy: 0.9964\n",
      "Epoch 16/20\n",
      "71/71 [==============================] - 3s 47ms/step - loss: 0.0170 - accuracy: 0.9938\n",
      "Epoch 17/20\n",
      "71/71 [==============================] - 3s 47ms/step - loss: 0.0204 - accuracy: 0.9911\n",
      "Epoch 18/20\n",
      "71/71 [==============================] - 3s 49ms/step - loss: 0.0156 - accuracy: 0.9938\n",
      "Epoch 19/20\n",
      "71/71 [==============================] - 3s 48ms/step - loss: 0.0660 - accuracy: 0.9755\n",
      "Epoch 20/20\n",
      "71/71 [==============================] - 3s 47ms/step - loss: 0.0180 - accuracy: 0.9942\n",
      "[INFO] Saving Model for okapi fold 3 ...\n",
      "36/36 [==============================] - 0s 10ms/step\n"
     ]
    },
    {
     "name": "stderr",
     "output_type": "stream",
     "text": [
      "C:\\Users\\rudra\\AppData\\Local\\Temp\\ipykernel_6820\\3249705492.py:34: UserWarning: FigureCanvasAgg is non-interactive, and thus cannot be shown\n",
      "  plt.show()\n"
     ]
    },
    {
     "name": "stdout",
     "output_type": "stream",
     "text": [
      "1/1 [==============================] - 0s 93ms/step\n",
      "[INFO] Loading images ...\n",
      "[INFO] Processing orangutan ...\n",
      "[INFO] Processing rest ...\n",
      "[INFO] image extract completed\n",
      "total train samples: \n",
      "3428\n",
      "[INFO] Training network for orangutan fold 1...\n",
      "Epoch 1/20\n",
      "71/71 [==============================] - 4s 49ms/step - loss: 0.3617 - accuracy: 0.8407\n",
      "Epoch 2/20\n",
      "71/71 [==============================] - 3s 48ms/step - loss: 0.1856 - accuracy: 0.9316\n",
      "Epoch 3/20\n",
      "71/71 [==============================] - 4s 50ms/step - loss: 0.1605 - accuracy: 0.9396\n",
      "Epoch 4/20\n",
      "71/71 [==============================] - 3s 49ms/step - loss: 0.0829 - accuracy: 0.9707\n",
      "Epoch 5/20\n",
      "71/71 [==============================] - 3s 49ms/step - loss: 0.0675 - accuracy: 0.9738\n",
      "Epoch 6/20\n",
      "71/71 [==============================] - 3s 49ms/step - loss: 0.0520 - accuracy: 0.9880\n",
      "Epoch 7/20\n",
      "71/71 [==============================] - 3s 48ms/step - loss: 0.0470 - accuracy: 0.9836\n",
      "Epoch 8/20\n",
      "71/71 [==============================] - 3s 48ms/step - loss: 0.0467 - accuracy: 0.9822\n",
      "Epoch 9/20\n",
      "71/71 [==============================] - 3s 47ms/step - loss: 0.0261 - accuracy: 0.9916\n",
      "Epoch 10/20\n",
      "71/71 [==============================] - 3s 47ms/step - loss: 0.0260 - accuracy: 0.9916\n",
      "Epoch 11/20\n",
      "71/71 [==============================] - 3s 49ms/step - loss: 0.0334 - accuracy: 0.9836\n",
      "Epoch 12/20\n",
      "71/71 [==============================] - 3s 47ms/step - loss: 0.0506 - accuracy: 0.9831\n",
      "Epoch 13/20\n",
      "71/71 [==============================] - 3s 49ms/step - loss: 0.0141 - accuracy: 0.9960\n",
      "Epoch 14/20\n",
      "71/71 [==============================] - 3s 47ms/step - loss: 0.0069 - accuracy: 0.9996\n",
      "Epoch 15/20\n",
      "71/71 [==============================] - 3s 48ms/step - loss: 0.0165 - accuracy: 0.9942\n",
      "Epoch 16/20\n",
      "71/71 [==============================] - 3s 48ms/step - loss: 0.0054 - accuracy: 0.9987\n",
      "Epoch 17/20\n",
      "71/71 [==============================] - 3s 47ms/step - loss: 0.0095 - accuracy: 0.9973\n",
      "Epoch 18/20\n",
      "71/71 [==============================] - 3s 48ms/step - loss: 0.0792 - accuracy: 0.9751\n",
      "Epoch 19/20\n",
      "71/71 [==============================] - 3s 48ms/step - loss: 0.0242 - accuracy: 0.9925\n",
      "Epoch 20/20\n",
      "71/71 [==============================] - 3s 47ms/step - loss: 0.0147 - accuracy: 0.9951\n",
      "[INFO] Saving Model for orangutan fold 1 ...\n",
      "36/36 [==============================] - 0s 10ms/step\n"
     ]
    },
    {
     "name": "stderr",
     "output_type": "stream",
     "text": [
      "C:\\Users\\rudra\\AppData\\Local\\Temp\\ipykernel_6820\\3249705492.py:34: UserWarning: FigureCanvasAgg is non-interactive, and thus cannot be shown\n",
      "  plt.show()\n"
     ]
    },
    {
     "name": "stdout",
     "output_type": "stream",
     "text": [
      "1/1 [==============================] - 0s 79ms/step\n"
     ]
    },
    {
     "name": "stderr",
     "output_type": "stream",
     "text": [
      "C:\\Users\\rudra\\AppData\\Local\\Temp\\ipykernel_6820\\1767733992.py:15: RuntimeWarning: invalid value encountered in divide\n",
      "  channel_image /= channel_image.std()\n",
      "C:\\Users\\rudra\\AppData\\Local\\Temp\\ipykernel_6820\\1767733992.py:18: RuntimeWarning: invalid value encountered in cast\n",
      "  channel_image = np.clip(channel_image, 0, 255).astype('uint8')\n"
     ]
    },
    {
     "name": "stdout",
     "output_type": "stream",
     "text": [
      "[INFO] Training network for orangutan fold 2...\n",
      "Epoch 1/20\n",
      "71/71 [==============================] - 4s 49ms/step - loss: 0.3427 - accuracy: 0.8578\n",
      "Epoch 2/20\n",
      "71/71 [==============================] - 3s 49ms/step - loss: 0.1998 - accuracy: 0.9268\n",
      "Epoch 3/20\n",
      "71/71 [==============================] - 3s 48ms/step - loss: 0.1579 - accuracy: 0.9365\n",
      "Epoch 4/20\n",
      "71/71 [==============================] - 3s 49ms/step - loss: 0.1190 - accuracy: 0.9534\n",
      "Epoch 5/20\n",
      "71/71 [==============================] - 3s 48ms/step - loss: 0.0686 - accuracy: 0.9778\n",
      "Epoch 6/20\n",
      "71/71 [==============================] - 3s 48ms/step - loss: 0.0668 - accuracy: 0.9760\n",
      "Epoch 7/20\n",
      "71/71 [==============================] - 3s 48ms/step - loss: 0.0701 - accuracy: 0.9738\n",
      "Epoch 8/20\n",
      "71/71 [==============================] - 3s 48ms/step - loss: 0.0626 - accuracy: 0.9783\n",
      "Epoch 9/20\n",
      "71/71 [==============================] - 3s 48ms/step - loss: 0.0336 - accuracy: 0.9885\n",
      "Epoch 10/20\n",
      "71/71 [==============================] - 3s 48ms/step - loss: 0.0283 - accuracy: 0.9925\n",
      "Epoch 11/20\n",
      "71/71 [==============================] - 3s 48ms/step - loss: 0.0181 - accuracy: 0.9947\n",
      "Epoch 12/20\n",
      "71/71 [==============================] - 3s 48ms/step - loss: 0.0284 - accuracy: 0.9902\n",
      "Epoch 13/20\n",
      "71/71 [==============================] - 3s 48ms/step - loss: 0.0816 - accuracy: 0.9707\n",
      "Epoch 14/20\n",
      "71/71 [==============================] - 3s 47ms/step - loss: 0.0313 - accuracy: 0.9876\n",
      "Epoch 15/20\n",
      "71/71 [==============================] - 3s 48ms/step - loss: 0.0192 - accuracy: 0.9933\n",
      "Epoch 16/20\n",
      "71/71 [==============================] - 3s 48ms/step - loss: 0.0108 - accuracy: 0.9973\n",
      "Epoch 17/20\n",
      "71/71 [==============================] - 3s 48ms/step - loss: 0.0102 - accuracy: 0.9982\n",
      "Epoch 18/20\n",
      "71/71 [==============================] - 3s 48ms/step - loss: 0.0055 - accuracy: 0.9991\n",
      "Epoch 19/20\n",
      "71/71 [==============================] - 3s 48ms/step - loss: 0.0120 - accuracy: 0.9964\n",
      "Epoch 20/20\n",
      "71/71 [==============================] - 3s 47ms/step - loss: 0.0099 - accuracy: 0.9973\n",
      "[INFO] Saving Model for orangutan fold 2 ...\n",
      "36/36 [==============================] - 1s 10ms/step\n"
     ]
    },
    {
     "name": "stderr",
     "output_type": "stream",
     "text": [
      "C:\\Users\\rudra\\AppData\\Local\\Temp\\ipykernel_6820\\3249705492.py:34: UserWarning: FigureCanvasAgg is non-interactive, and thus cannot be shown\n",
      "  plt.show()\n"
     ]
    },
    {
     "name": "stdout",
     "output_type": "stream",
     "text": [
      "1/1 [==============================] - 0s 78ms/step\n"
     ]
    },
    {
     "name": "stderr",
     "output_type": "stream",
     "text": [
      "C:\\Users\\rudra\\AppData\\Local\\Temp\\ipykernel_6820\\1767733992.py:15: RuntimeWarning: invalid value encountered in divide\n",
      "  channel_image /= channel_image.std()\n",
      "C:\\Users\\rudra\\AppData\\Local\\Temp\\ipykernel_6820\\1767733992.py:18: RuntimeWarning: invalid value encountered in cast\n",
      "  channel_image = np.clip(channel_image, 0, 255).astype('uint8')\n"
     ]
    },
    {
     "name": "stdout",
     "output_type": "stream",
     "text": [
      "[INFO] Training network for orangutan fold 3...\n",
      "Epoch 1/20\n",
      "71/71 [==============================] - 4s 49ms/step - loss: 0.3635 - accuracy: 0.8429\n",
      "Epoch 2/20\n",
      "71/71 [==============================] - 3s 49ms/step - loss: 0.2189 - accuracy: 0.9157\n",
      "Epoch 3/20\n",
      "71/71 [==============================] - 3s 48ms/step - loss: 0.1640 - accuracy: 0.9401\n",
      "Epoch 4/20\n",
      "71/71 [==============================] - 3s 47ms/step - loss: 0.1624 - accuracy: 0.9352\n",
      "Epoch 5/20\n",
      "71/71 [==============================] - 3s 47ms/step - loss: 0.0956 - accuracy: 0.9685\n",
      "Epoch 6/20\n",
      "71/71 [==============================] - 3s 48ms/step - loss: 0.0616 - accuracy: 0.9823\n",
      "Epoch 7/20\n",
      "71/71 [==============================] - 3s 48ms/step - loss: 0.0368 - accuracy: 0.9898\n",
      "Epoch 8/20\n",
      "71/71 [==============================] - 3s 48ms/step - loss: 0.0657 - accuracy: 0.9747\n",
      "Epoch 9/20\n",
      "71/71 [==============================] - 3s 48ms/step - loss: 0.0354 - accuracy: 0.9889\n",
      "Epoch 10/20\n",
      "71/71 [==============================] - 3s 48ms/step - loss: 0.0313 - accuracy: 0.9907\n",
      "Epoch 11/20\n",
      "71/71 [==============================] - 3s 48ms/step - loss: 0.0256 - accuracy: 0.9929\n",
      "Epoch 12/20\n",
      "71/71 [==============================] - 4s 51ms/step - loss: 0.0142 - accuracy: 0.9965\n",
      "Epoch 13/20\n",
      "71/71 [==============================] - 3s 49ms/step - loss: 0.0428 - accuracy: 0.9840\n",
      "Epoch 14/20\n",
      "71/71 [==============================] - 3s 48ms/step - loss: 0.0328 - accuracy: 0.9907\n",
      "Epoch 15/20\n",
      "71/71 [==============================] - 3s 49ms/step - loss: 0.0269 - accuracy: 0.9911\n",
      "Epoch 16/20\n",
      "71/71 [==============================] - 3s 49ms/step - loss: 0.0194 - accuracy: 0.9951\n",
      "Epoch 17/20\n",
      "71/71 [==============================] - 3s 47ms/step - loss: 0.0177 - accuracy: 0.9960\n",
      "Epoch 18/20\n",
      "71/71 [==============================] - 3s 47ms/step - loss: 0.0095 - accuracy: 0.9973\n",
      "Epoch 19/20\n",
      "71/71 [==============================] - 3s 48ms/step - loss: 0.0144 - accuracy: 0.9951\n",
      "Epoch 20/20\n",
      "71/71 [==============================] - 3s 47ms/step - loss: 0.0227 - accuracy: 0.9933\n",
      "[INFO] Saving Model for orangutan fold 3 ...\n",
      "36/36 [==============================] - 0s 10ms/step\n"
     ]
    },
    {
     "name": "stderr",
     "output_type": "stream",
     "text": [
      "C:\\Users\\rudra\\AppData\\Local\\Temp\\ipykernel_6820\\3249705492.py:34: UserWarning: FigureCanvasAgg is non-interactive, and thus cannot be shown\n",
      "  plt.show()\n"
     ]
    },
    {
     "name": "stdout",
     "output_type": "stream",
     "text": [
      "1/1 [==============================] - 0s 94ms/step\n"
     ]
    },
    {
     "name": "stderr",
     "output_type": "stream",
     "text": [
      "C:\\Users\\rudra\\AppData\\Local\\Temp\\ipykernel_6820\\1767733992.py:15: RuntimeWarning: invalid value encountered in divide\n",
      "  channel_image /= channel_image.std()\n",
      "C:\\Users\\rudra\\AppData\\Local\\Temp\\ipykernel_6820\\1767733992.py:18: RuntimeWarning: invalid value encountered in cast\n",
      "  channel_image = np.clip(channel_image, 0, 255).astype('uint8')\n"
     ]
    },
    {
     "name": "stdout",
     "output_type": "stream",
     "text": [
      "[INFO] Loading images ...\n",
      "[INFO] Processing otter ...\n",
      "[INFO] Processing rest ...\n",
      "[INFO] image extract completed\n",
      "total train samples: \n",
      "3426\n",
      "[INFO] Training network for otter fold 1...\n",
      "Epoch 1/20\n",
      "71/71 [==============================] - 5s 48ms/step - loss: 0.5170 - accuracy: 0.7482\n",
      "Epoch 2/20\n",
      "71/71 [==============================] - 3s 48ms/step - loss: 0.3671 - accuracy: 0.8406\n",
      "Epoch 3/20\n",
      "71/71 [==============================] - 3s 48ms/step - loss: 0.3074 - accuracy: 0.8708\n",
      "Epoch 4/20\n",
      "71/71 [==============================] - 3s 48ms/step - loss: 0.2242 - accuracy: 0.9165\n",
      "Epoch 5/20\n",
      "71/71 [==============================] - 3s 49ms/step - loss: 0.1403 - accuracy: 0.9476\n",
      "Epoch 6/20\n",
      "71/71 [==============================] - 3s 49ms/step - loss: 0.0879 - accuracy: 0.9734\n",
      "Epoch 7/20\n",
      "71/71 [==============================] - 3s 48ms/step - loss: 0.0806 - accuracy: 0.9747\n",
      "Epoch 8/20\n",
      "71/71 [==============================] - 3s 48ms/step - loss: 0.0566 - accuracy: 0.9831\n",
      "Epoch 9/20\n",
      "71/71 [==============================] - 3s 49ms/step - loss: 0.0529 - accuracy: 0.9805\n",
      "Epoch 10/20\n",
      "71/71 [==============================] - 3s 47ms/step - loss: 0.0390 - accuracy: 0.9885\n",
      "Epoch 11/20\n",
      "71/71 [==============================] - 3s 48ms/step - loss: 0.0430 - accuracy: 0.9880\n",
      "Epoch 12/20\n",
      "71/71 [==============================] - 3s 48ms/step - loss: 0.0235 - accuracy: 0.9929\n",
      "Epoch 13/20\n",
      "71/71 [==============================] - 3s 48ms/step - loss: 0.0410 - accuracy: 0.9845\n",
      "Epoch 14/20\n",
      "71/71 [==============================] - 3s 49ms/step - loss: 0.0621 - accuracy: 0.9765\n",
      "Epoch 15/20\n",
      "71/71 [==============================] - 3s 48ms/step - loss: 0.0312 - accuracy: 0.9902\n",
      "Epoch 16/20\n",
      "71/71 [==============================] - 3s 48ms/step - loss: 0.0337 - accuracy: 0.9885\n",
      "Epoch 17/20\n",
      "71/71 [==============================] - 3s 48ms/step - loss: 0.0178 - accuracy: 0.9938\n",
      "Epoch 18/20\n",
      "71/71 [==============================] - 3s 47ms/step - loss: 0.0177 - accuracy: 0.9951\n",
      "Epoch 19/20\n",
      "71/71 [==============================] - 3s 48ms/step - loss: 0.0081 - accuracy: 0.9991\n",
      "Epoch 20/20\n",
      "71/71 [==============================] - 3s 48ms/step - loss: 0.0164 - accuracy: 0.9947\n",
      "[INFO] Saving Model for otter fold 1 ...\n",
      "36/36 [==============================] - 1s 11ms/step\n"
     ]
    },
    {
     "name": "stderr",
     "output_type": "stream",
     "text": [
      "C:\\Users\\rudra\\AppData\\Local\\Temp\\ipykernel_6820\\3249705492.py:34: UserWarning: FigureCanvasAgg is non-interactive, and thus cannot be shown\n",
      "  plt.show()\n"
     ]
    },
    {
     "name": "stdout",
     "output_type": "stream",
     "text": [
      "1/1 [==============================] - 0s 94ms/step\n",
      "[INFO] Training network for otter fold 2...\n",
      "Epoch 1/20\n",
      "71/71 [==============================] - 4s 48ms/step - loss: 0.5010 - accuracy: 0.7548\n",
      "Epoch 2/20\n",
      "71/71 [==============================] - 3s 49ms/step - loss: 0.3224 - accuracy: 0.8712\n",
      "Epoch 3/20\n",
      "71/71 [==============================] - 3s 48ms/step - loss: 0.2336 - accuracy: 0.9054\n",
      "Epoch 4/20\n",
      "71/71 [==============================] - 3s 47ms/step - loss: 0.1734 - accuracy: 0.9338\n",
      "Epoch 5/20\n",
      "71/71 [==============================] - 3s 47ms/step - loss: 0.1655 - accuracy: 0.9369\n",
      "Epoch 6/20\n",
      "71/71 [==============================] - 3s 47ms/step - loss: 0.1195 - accuracy: 0.9583\n",
      "Epoch 7/20\n",
      "71/71 [==============================] - 3s 47ms/step - loss: 0.0581 - accuracy: 0.9818\n",
      "Epoch 8/20\n",
      "71/71 [==============================] - 3s 47ms/step - loss: 0.0528 - accuracy: 0.9813\n",
      "Epoch 9/20\n",
      "71/71 [==============================] - 3s 47ms/step - loss: 0.0467 - accuracy: 0.9836\n",
      "Epoch 10/20\n",
      "71/71 [==============================] - 3s 47ms/step - loss: 0.0353 - accuracy: 0.9885\n",
      "Epoch 11/20\n",
      "71/71 [==============================] - 3s 47ms/step - loss: 0.0221 - accuracy: 0.9951\n",
      "Epoch 12/20\n",
      "71/71 [==============================] - 3s 48ms/step - loss: 0.0195 - accuracy: 0.9947\n",
      "Epoch 13/20\n",
      "71/71 [==============================] - 3s 49ms/step - loss: 0.0228 - accuracy: 0.9929\n",
      "Epoch 14/20\n",
      "71/71 [==============================] - 3s 47ms/step - loss: 0.0345 - accuracy: 0.9871\n",
      "Epoch 15/20\n",
      "71/71 [==============================] - 3s 47ms/step - loss: 0.0409 - accuracy: 0.9849\n",
      "Epoch 16/20\n",
      "71/71 [==============================] - 3s 47ms/step - loss: 0.0294 - accuracy: 0.9871\n",
      "Epoch 17/20\n",
      "71/71 [==============================] - 3s 47ms/step - loss: 0.0188 - accuracy: 0.9929\n",
      "Epoch 18/20\n",
      "71/71 [==============================] - 3s 47ms/step - loss: 0.0198 - accuracy: 0.9938\n",
      "Epoch 19/20\n",
      "71/71 [==============================] - 3s 48ms/step - loss: 0.0206 - accuracy: 0.9920\n",
      "Epoch 20/20\n",
      "71/71 [==============================] - 3s 47ms/step - loss: 0.0229 - accuracy: 0.9920\n",
      "[INFO] Saving Model for otter fold 2 ...\n",
      "36/36 [==============================] - 1s 10ms/step\n"
     ]
    },
    {
     "name": "stderr",
     "output_type": "stream",
     "text": [
      "C:\\Users\\rudra\\AppData\\Local\\Temp\\ipykernel_6820\\3249705492.py:34: UserWarning: FigureCanvasAgg is non-interactive, and thus cannot be shown\n",
      "  plt.show()\n"
     ]
    },
    {
     "name": "stdout",
     "output_type": "stream",
     "text": [
      "1/1 [==============================] - 0s 84ms/step\n",
      "[INFO] Training network for otter fold 3...\n",
      "Epoch 1/20\n",
      "71/71 [==============================] - 4s 49ms/step - loss: 0.5196 - accuracy: 0.7478\n",
      "Epoch 2/20\n",
      "71/71 [==============================] - 3s 48ms/step - loss: 0.3608 - accuracy: 0.8446\n",
      "Epoch 3/20\n",
      "71/71 [==============================] - 3s 48ms/step - loss: 0.2689 - accuracy: 0.8956\n",
      "Epoch 4/20\n",
      "71/71 [==============================] - 3s 48ms/step - loss: 0.1956 - accuracy: 0.9263\n",
      "Epoch 5/20\n",
      "71/71 [==============================] - 4s 49ms/step - loss: 0.1361 - accuracy: 0.9494\n",
      "Epoch 6/20\n",
      "71/71 [==============================] - 3s 49ms/step - loss: 0.1027 - accuracy: 0.9645\n",
      "Epoch 7/20\n",
      "71/71 [==============================] - 4s 50ms/step - loss: 0.0777 - accuracy: 0.9694\n",
      "Epoch 8/20\n",
      "71/71 [==============================] - 4s 50ms/step - loss: 0.0851 - accuracy: 0.9698\n",
      "Epoch 9/20\n",
      "71/71 [==============================] - 3s 48ms/step - loss: 0.0499 - accuracy: 0.9858\n",
      "Epoch 10/20\n",
      "71/71 [==============================] - 3s 48ms/step - loss: 0.0304 - accuracy: 0.9916\n",
      "Epoch 11/20\n",
      "71/71 [==============================] - 3s 49ms/step - loss: 0.0453 - accuracy: 0.9853\n",
      "Epoch 12/20\n",
      "71/71 [==============================] - 3s 48ms/step - loss: 0.0745 - accuracy: 0.9711\n",
      "Epoch 13/20\n",
      "71/71 [==============================] - 3s 48ms/step - loss: 0.0459 - accuracy: 0.9836\n",
      "Epoch 14/20\n",
      "71/71 [==============================] - 3s 48ms/step - loss: 0.0500 - accuracy: 0.9831\n",
      "Epoch 15/20\n",
      "71/71 [==============================] - 3s 48ms/step - loss: 0.0176 - accuracy: 0.9951\n",
      "Epoch 16/20\n",
      "71/71 [==============================] - 3s 48ms/step - loss: 0.0170 - accuracy: 0.9947\n",
      "Epoch 17/20\n",
      "71/71 [==============================] - 3s 48ms/step - loss: 0.0099 - accuracy: 0.9973\n",
      "Epoch 18/20\n",
      "71/71 [==============================] - 3s 47ms/step - loss: 0.0052 - accuracy: 0.9996\n",
      "Epoch 19/20\n",
      "71/71 [==============================] - 3s 47ms/step - loss: 0.0076 - accuracy: 0.9982\n",
      "Epoch 20/20\n",
      "71/71 [==============================] - 3s 47ms/step - loss: 0.0112 - accuracy: 0.9973\n",
      "[INFO] Saving Model for otter fold 3 ...\n",
      "36/36 [==============================] - 1s 10ms/step\n"
     ]
    },
    {
     "name": "stderr",
     "output_type": "stream",
     "text": [
      "C:\\Users\\rudra\\AppData\\Local\\Temp\\ipykernel_6820\\3249705492.py:34: UserWarning: FigureCanvasAgg is non-interactive, and thus cannot be shown\n",
      "  plt.show()\n"
     ]
    },
    {
     "name": "stdout",
     "output_type": "stream",
     "text": [
      "1/1 [==============================] - 0s 94ms/step\n"
     ]
    },
    {
     "name": "stderr",
     "output_type": "stream",
     "text": [
      "C:\\Users\\rudra\\AppData\\Local\\Temp\\ipykernel_6820\\1767733992.py:15: RuntimeWarning: invalid value encountered in divide\n",
      "  channel_image /= channel_image.std()\n",
      "C:\\Users\\rudra\\AppData\\Local\\Temp\\ipykernel_6820\\1767733992.py:18: RuntimeWarning: invalid value encountered in cast\n",
      "  channel_image = np.clip(channel_image, 0, 255).astype('uint8')\n"
     ]
    },
    {
     "name": "stdout",
     "output_type": "stream",
     "text": [
      "[INFO] Loading images ...\n",
      "[INFO] Processing owl ...\n",
      "[INFO] Processing rest ...\n",
      "[INFO] image extract completed\n",
      "total train samples: \n",
      "3426\n",
      "[INFO] Training network for owl fold 1...\n",
      "Epoch 1/20\n",
      "71/71 [==============================] - 5s 48ms/step - loss: 0.5922 - accuracy: 0.7033\n",
      "Epoch 2/20\n",
      "71/71 [==============================] - 3s 48ms/step - loss: 0.4220 - accuracy: 0.8077\n",
      "Epoch 3/20\n",
      "71/71 [==============================] - 3s 47ms/step - loss: 0.3353 - accuracy: 0.8544\n",
      "Epoch 4/20\n",
      "71/71 [==============================] - 3s 47ms/step - loss: 0.2478 - accuracy: 0.8939\n",
      "Epoch 5/20\n",
      "71/71 [==============================] - 3s 47ms/step - loss: 0.1588 - accuracy: 0.9427\n",
      "Epoch 6/20\n",
      "71/71 [==============================] - 3s 47ms/step - loss: 0.0952 - accuracy: 0.9636\n",
      "Epoch 7/20\n",
      "71/71 [==============================] - 3s 47ms/step - loss: 0.0987 - accuracy: 0.9609\n",
      "Epoch 8/20\n",
      "71/71 [==============================] - 3s 47ms/step - loss: 0.0998 - accuracy: 0.9636\n",
      "Epoch 9/20\n",
      "71/71 [==============================] - 3s 47ms/step - loss: 0.0465 - accuracy: 0.9867\n",
      "Epoch 10/20\n",
      "71/71 [==============================] - 3s 47ms/step - loss: 0.0428 - accuracy: 0.9871\n",
      "Epoch 11/20\n",
      "71/71 [==============================] - 3s 47ms/step - loss: 0.0570 - accuracy: 0.9796\n",
      "Epoch 12/20\n",
      "71/71 [==============================] - 3s 47ms/step - loss: 0.0424 - accuracy: 0.9871\n",
      "Epoch 13/20\n",
      "71/71 [==============================] - 3s 47ms/step - loss: 0.0375 - accuracy: 0.9885\n",
      "Epoch 14/20\n",
      "71/71 [==============================] - 3s 47ms/step - loss: 0.0552 - accuracy: 0.9818\n",
      "Epoch 15/20\n",
      "71/71 [==============================] - 3s 47ms/step - loss: 0.0409 - accuracy: 0.9849\n",
      "Epoch 16/20\n",
      "71/71 [==============================] - 3s 47ms/step - loss: 0.0209 - accuracy: 0.9942\n",
      "Epoch 17/20\n",
      "71/71 [==============================] - 3s 47ms/step - loss: 0.0152 - accuracy: 0.9956\n",
      "Epoch 18/20\n",
      "71/71 [==============================] - 3s 47ms/step - loss: 0.0099 - accuracy: 0.9973\n",
      "Epoch 19/20\n",
      "71/71 [==============================] - 3s 47ms/step - loss: 0.0336 - accuracy: 0.9880\n",
      "Epoch 20/20\n",
      "71/71 [==============================] - 3s 47ms/step - loss: 0.0496 - accuracy: 0.9840\n",
      "[INFO] Saving Model for owl fold 1 ...\n",
      "36/36 [==============================] - 0s 10ms/step\n"
     ]
    },
    {
     "name": "stderr",
     "output_type": "stream",
     "text": [
      "C:\\Users\\rudra\\AppData\\Local\\Temp\\ipykernel_6820\\3249705492.py:34: UserWarning: FigureCanvasAgg is non-interactive, and thus cannot be shown\n",
      "  plt.show()\n"
     ]
    },
    {
     "name": "stdout",
     "output_type": "stream",
     "text": [
      "1/1 [==============================] - 0s 94ms/step\n"
     ]
    },
    {
     "name": "stderr",
     "output_type": "stream",
     "text": [
      "C:\\Users\\rudra\\AppData\\Local\\Temp\\ipykernel_6820\\1767733992.py:15: RuntimeWarning: invalid value encountered in divide\n",
      "  channel_image /= channel_image.std()\n",
      "C:\\Users\\rudra\\AppData\\Local\\Temp\\ipykernel_6820\\1767733992.py:18: RuntimeWarning: invalid value encountered in cast\n",
      "  channel_image = np.clip(channel_image, 0, 255).astype('uint8')\n"
     ]
    },
    {
     "name": "stdout",
     "output_type": "stream",
     "text": [
      "[INFO] Training network for owl fold 2...\n",
      "Epoch 1/20\n",
      "71/71 [==============================] - 5s 50ms/step - loss: 0.5801 - accuracy: 0.6963\n",
      "Epoch 2/20\n",
      "71/71 [==============================] - 3s 48ms/step - loss: 0.4324 - accuracy: 0.7935\n",
      "Epoch 3/20\n",
      "71/71 [==============================] - 3s 48ms/step - loss: 0.3266 - accuracy: 0.8570\n",
      "Epoch 4/20\n",
      "71/71 [==============================] - 3s 47ms/step - loss: 0.2391 - accuracy: 0.9103\n",
      "Epoch 5/20\n",
      "71/71 [==============================] - 3s 48ms/step - loss: 0.1760 - accuracy: 0.9356\n",
      "Epoch 6/20\n",
      "71/71 [==============================] - 3s 48ms/step - loss: 0.1143 - accuracy: 0.9623\n",
      "Epoch 7/20\n",
      "71/71 [==============================] - 3s 48ms/step - loss: 0.0765 - accuracy: 0.9756\n",
      "Epoch 8/20\n",
      "71/71 [==============================] - 3s 48ms/step - loss: 0.0703 - accuracy: 0.9729\n",
      "Epoch 9/20\n",
      "71/71 [==============================] - 3s 48ms/step - loss: 0.0422 - accuracy: 0.9885\n",
      "Epoch 10/20\n",
      "71/71 [==============================] - 3s 47ms/step - loss: 0.0474 - accuracy: 0.9862\n",
      "Epoch 11/20\n",
      "71/71 [==============================] - 3s 47ms/step - loss: 0.0339 - accuracy: 0.9880\n",
      "Epoch 12/20\n",
      "71/71 [==============================] - 3s 47ms/step - loss: 0.0564 - accuracy: 0.9800\n",
      "Epoch 13/20\n",
      "71/71 [==============================] - 3s 48ms/step - loss: 0.0322 - accuracy: 0.9929\n",
      "Epoch 14/20\n",
      "71/71 [==============================] - 3s 48ms/step - loss: 0.0169 - accuracy: 0.9982\n",
      "Epoch 15/20\n",
      "71/71 [==============================] - 3s 48ms/step - loss: 0.0251 - accuracy: 0.9947\n",
      "Epoch 16/20\n",
      "71/71 [==============================] - 3s 48ms/step - loss: 0.0196 - accuracy: 0.9942\n",
      "Epoch 17/20\n",
      "71/71 [==============================] - 3s 47ms/step - loss: 0.1121 - accuracy: 0.9600\n",
      "Epoch 18/20\n",
      "71/71 [==============================] - 3s 48ms/step - loss: 0.0579 - accuracy: 0.9805\n",
      "Epoch 19/20\n",
      "71/71 [==============================] - 3s 48ms/step - loss: 0.0445 - accuracy: 0.9845\n",
      "Epoch 20/20\n",
      "71/71 [==============================] - 3s 47ms/step - loss: 0.0191 - accuracy: 0.9951\n",
      "[INFO] Saving Model for owl fold 2 ...\n",
      "36/36 [==============================] - 0s 11ms/step\n"
     ]
    },
    {
     "name": "stderr",
     "output_type": "stream",
     "text": [
      "C:\\Users\\rudra\\AppData\\Local\\Temp\\ipykernel_6820\\3249705492.py:34: UserWarning: FigureCanvasAgg is non-interactive, and thus cannot be shown\n",
      "  plt.show()\n"
     ]
    },
    {
     "name": "stdout",
     "output_type": "stream",
     "text": [
      "1/1 [==============================] - 0s 71ms/step\n"
     ]
    },
    {
     "name": "stderr",
     "output_type": "stream",
     "text": [
      "C:\\Users\\rudra\\AppData\\Local\\Temp\\ipykernel_6820\\1767733992.py:15: RuntimeWarning: invalid value encountered in divide\n",
      "  channel_image /= channel_image.std()\n",
      "C:\\Users\\rudra\\AppData\\Local\\Temp\\ipykernel_6820\\1767733992.py:18: RuntimeWarning: invalid value encountered in cast\n",
      "  channel_image = np.clip(channel_image, 0, 255).astype('uint8')\n"
     ]
    },
    {
     "name": "stdout",
     "output_type": "stream",
     "text": [
      "[INFO] Training network for owl fold 3...\n",
      "Epoch 1/20\n",
      "71/71 [==============================] - 4s 48ms/step - loss: 0.5597 - accuracy: 0.7196\n",
      "Epoch 2/20\n",
      "71/71 [==============================] - 3s 48ms/step - loss: 0.4031 - accuracy: 0.8197\n",
      "Epoch 3/20\n",
      "71/71 [==============================] - 3s 47ms/step - loss: 0.3327 - accuracy: 0.8615\n",
      "Epoch 4/20\n",
      "71/71 [==============================] - 3s 47ms/step - loss: 0.2511 - accuracy: 0.8983\n",
      "Epoch 5/20\n",
      "71/71 [==============================] - 3s 47ms/step - loss: 0.1924 - accuracy: 0.9276\n",
      "Epoch 6/20\n",
      "71/71 [==============================] - 3s 47ms/step - loss: 0.1687 - accuracy: 0.9347\n",
      "Epoch 7/20\n",
      "71/71 [==============================] - 3s 47ms/step - loss: 0.1068 - accuracy: 0.9654\n",
      "Epoch 8/20\n",
      "71/71 [==============================] - 3s 47ms/step - loss: 0.0619 - accuracy: 0.9774\n",
      "Epoch 9/20\n",
      "71/71 [==============================] - 3s 47ms/step - loss: 0.0657 - accuracy: 0.9778\n",
      "Epoch 10/20\n",
      "71/71 [==============================] - 3s 47ms/step - loss: 0.0483 - accuracy: 0.9845\n",
      "Epoch 11/20\n",
      "71/71 [==============================] - 3s 47ms/step - loss: 0.0251 - accuracy: 0.9933\n",
      "Epoch 12/20\n",
      "71/71 [==============================] - 3s 47ms/step - loss: 0.0326 - accuracy: 0.9911\n",
      "Epoch 13/20\n",
      "71/71 [==============================] - 3s 47ms/step - loss: 0.0239 - accuracy: 0.9933\n",
      "Epoch 14/20\n",
      "71/71 [==============================] - 3s 47ms/step - loss: 0.0288 - accuracy: 0.9911\n",
      "Epoch 15/20\n",
      "71/71 [==============================] - 3s 47ms/step - loss: 0.0157 - accuracy: 0.9973\n",
      "Epoch 16/20\n",
      "71/71 [==============================] - 3s 47ms/step - loss: 0.0241 - accuracy: 0.9938\n",
      "Epoch 17/20\n",
      "71/71 [==============================] - 3s 47ms/step - loss: 0.0511 - accuracy: 0.9805\n",
      "Epoch 18/20\n",
      "71/71 [==============================] - 3s 47ms/step - loss: 0.0295 - accuracy: 0.9907\n",
      "Epoch 19/20\n",
      "71/71 [==============================] - 3s 47ms/step - loss: 0.0284 - accuracy: 0.9898\n",
      "Epoch 20/20\n",
      "71/71 [==============================] - 3s 47ms/step - loss: 0.0636 - accuracy: 0.9800\n",
      "[INFO] Saving Model for owl fold 3 ...\n",
      "36/36 [==============================] - 0s 10ms/step\n"
     ]
    },
    {
     "name": "stderr",
     "output_type": "stream",
     "text": [
      "C:\\Users\\rudra\\AppData\\Local\\Temp\\ipykernel_6820\\3249705492.py:34: UserWarning: FigureCanvasAgg is non-interactive, and thus cannot be shown\n",
      "  plt.show()\n"
     ]
    },
    {
     "name": "stdout",
     "output_type": "stream",
     "text": [
      "1/1 [==============================] - 0s 63ms/step\n"
     ]
    },
    {
     "name": "stderr",
     "output_type": "stream",
     "text": [
      "C:\\Users\\rudra\\AppData\\Local\\Temp\\ipykernel_6820\\1767733992.py:15: RuntimeWarning: invalid value encountered in divide\n",
      "  channel_image /= channel_image.std()\n",
      "C:\\Users\\rudra\\AppData\\Local\\Temp\\ipykernel_6820\\1767733992.py:18: RuntimeWarning: invalid value encountered in cast\n",
      "  channel_image = np.clip(channel_image, 0, 255).astype('uint8')\n"
     ]
    },
    {
     "name": "stdout",
     "output_type": "stream",
     "text": [
      "[INFO] Loading images ...\n",
      "[INFO] Processing ox ...\n",
      "[INFO] Processing rest ...\n",
      "[INFO] image extract completed\n",
      "total train samples: \n",
      "3431\n",
      "[INFO] Training network for ox fold 1...\n",
      "Epoch 1/20\n",
      "71/71 [==============================] - 4s 48ms/step - loss: 0.5553 - accuracy: 0.7148\n",
      "Epoch 2/20\n",
      "71/71 [==============================] - 3s 47ms/step - loss: 0.4155 - accuracy: 0.8115\n",
      "Epoch 3/20\n",
      "71/71 [==============================] - 3s 47ms/step - loss: 0.2930 - accuracy: 0.8860\n",
      "Epoch 4/20\n",
      "71/71 [==============================] - 3s 47ms/step - loss: 0.2074 - accuracy: 0.9220\n",
      "Epoch 5/20\n",
      "71/71 [==============================] - 3s 46ms/step - loss: 0.1359 - accuracy: 0.9486\n",
      "Epoch 6/20\n",
      "71/71 [==============================] - 3s 47ms/step - loss: 0.0968 - accuracy: 0.9654\n",
      "Epoch 7/20\n",
      "71/71 [==============================] - 3s 47ms/step - loss: 0.0705 - accuracy: 0.9792\n",
      "Epoch 8/20\n",
      "71/71 [==============================] - 3s 46ms/step - loss: 0.0482 - accuracy: 0.9849\n",
      "Epoch 9/20\n",
      "71/71 [==============================] - 3s 47ms/step - loss: 0.0329 - accuracy: 0.9911\n",
      "Epoch 10/20\n",
      "71/71 [==============================] - 3s 46ms/step - loss: 0.0475 - accuracy: 0.9831\n",
      "Epoch 11/20\n",
      "71/71 [==============================] - 3s 46ms/step - loss: 0.0310 - accuracy: 0.9889\n",
      "Epoch 12/20\n",
      "71/71 [==============================] - 3s 47ms/step - loss: 0.0549 - accuracy: 0.9823\n",
      "Epoch 13/20\n",
      "71/71 [==============================] - 3s 47ms/step - loss: 0.0268 - accuracy: 0.9920\n",
      "Epoch 14/20\n",
      "71/71 [==============================] - 3s 47ms/step - loss: 0.0201 - accuracy: 0.9933\n",
      "Epoch 15/20\n",
      "71/71 [==============================] - 3s 47ms/step - loss: 0.0135 - accuracy: 0.9973\n",
      "Epoch 16/20\n",
      "71/71 [==============================] - 3s 47ms/step - loss: 0.0099 - accuracy: 0.9978\n",
      "Epoch 17/20\n",
      "71/71 [==============================] - 3s 47ms/step - loss: 0.0042 - accuracy: 1.0000\n",
      "Epoch 18/20\n",
      "71/71 [==============================] - 3s 47ms/step - loss: 0.0272 - accuracy: 0.9907\n",
      "Epoch 19/20\n",
      "71/71 [==============================] - 3s 47ms/step - loss: 0.0424 - accuracy: 0.9840\n",
      "Epoch 20/20\n",
      "71/71 [==============================] - 3s 47ms/step - loss: 0.0278 - accuracy: 0.9920\n",
      "[INFO] Saving Model for ox fold 1 ...\n",
      "36/36 [==============================] - 1s 10ms/step\n"
     ]
    },
    {
     "name": "stderr",
     "output_type": "stream",
     "text": [
      "C:\\Users\\rudra\\AppData\\Local\\Temp\\ipykernel_6820\\3249705492.py:34: UserWarning: FigureCanvasAgg is non-interactive, and thus cannot be shown\n",
      "  plt.show()\n"
     ]
    },
    {
     "name": "stdout",
     "output_type": "stream",
     "text": [
      "1/1 [==============================] - 0s 76ms/step\n"
     ]
    },
    {
     "name": "stderr",
     "output_type": "stream",
     "text": [
      "C:\\Users\\rudra\\AppData\\Local\\Temp\\ipykernel_6820\\1767733992.py:15: RuntimeWarning: invalid value encountered in divide\n",
      "  channel_image /= channel_image.std()\n",
      "C:\\Users\\rudra\\AppData\\Local\\Temp\\ipykernel_6820\\1767733992.py:18: RuntimeWarning: invalid value encountered in cast\n",
      "  channel_image = np.clip(channel_image, 0, 255).astype('uint8')\n"
     ]
    },
    {
     "name": "stdout",
     "output_type": "stream",
     "text": [
      "[INFO] Training network for ox fold 2...\n",
      "Epoch 1/20\n",
      "71/71 [==============================] - 4s 48ms/step - loss: 0.5651 - accuracy: 0.7174\n",
      "Epoch 2/20\n",
      "71/71 [==============================] - 3s 47ms/step - loss: 0.3902 - accuracy: 0.8319\n",
      "Epoch 3/20\n",
      "71/71 [==============================] - 3s 47ms/step - loss: 0.2968 - accuracy: 0.8710\n",
      "Epoch 4/20\n",
      "71/71 [==============================] - 3s 47ms/step - loss: 0.2174 - accuracy: 0.9131\n",
      "Epoch 5/20\n",
      "71/71 [==============================] - 3s 47ms/step - loss: 0.1366 - accuracy: 0.9574\n",
      "Epoch 6/20\n",
      "71/71 [==============================] - 3s 47ms/step - loss: 0.1467 - accuracy: 0.9428\n",
      "Epoch 7/20\n",
      "71/71 [==============================] - 3s 47ms/step - loss: 0.0829 - accuracy: 0.9716\n",
      "Epoch 8/20\n",
      "71/71 [==============================] - 3s 47ms/step - loss: 0.0697 - accuracy: 0.9765\n",
      "Epoch 9/20\n",
      "71/71 [==============================] - 3s 47ms/step - loss: 0.0385 - accuracy: 0.9894\n",
      "Epoch 10/20\n",
      "71/71 [==============================] - 3s 47ms/step - loss: 0.0393 - accuracy: 0.9867\n",
      "Epoch 11/20\n",
      "71/71 [==============================] - 3s 46ms/step - loss: 0.0363 - accuracy: 0.9885\n",
      "Epoch 12/20\n",
      "71/71 [==============================] - 3s 46ms/step - loss: 0.0222 - accuracy: 0.9929\n",
      "Epoch 13/20\n",
      "71/71 [==============================] - 3s 47ms/step - loss: 0.0296 - accuracy: 0.9911\n",
      "Epoch 14/20\n",
      "71/71 [==============================] - 3s 46ms/step - loss: 0.0223 - accuracy: 0.9960\n",
      "Epoch 15/20\n",
      "71/71 [==============================] - 3s 47ms/step - loss: 0.0147 - accuracy: 0.9960\n",
      "Epoch 16/20\n",
      "71/71 [==============================] - 3s 47ms/step - loss: 0.0149 - accuracy: 0.9956\n",
      "Epoch 17/20\n",
      "71/71 [==============================] - 3s 47ms/step - loss: 0.0142 - accuracy: 0.9965\n",
      "Epoch 18/20\n",
      "71/71 [==============================] - 3s 47ms/step - loss: 0.0227 - accuracy: 0.9898\n",
      "Epoch 19/20\n",
      "71/71 [==============================] - 3s 47ms/step - loss: 0.0173 - accuracy: 0.9956\n",
      "Epoch 20/20\n",
      "71/71 [==============================] - 3s 47ms/step - loss: 0.0287 - accuracy: 0.9911\n",
      "[INFO] Saving Model for ox fold 2 ...\n",
      "36/36 [==============================] - 0s 10ms/step\n"
     ]
    },
    {
     "name": "stderr",
     "output_type": "stream",
     "text": [
      "C:\\Users\\rudra\\AppData\\Local\\Temp\\ipykernel_6820\\3249705492.py:34: UserWarning: FigureCanvasAgg is non-interactive, and thus cannot be shown\n",
      "  plt.show()\n"
     ]
    },
    {
     "name": "stdout",
     "output_type": "stream",
     "text": [
      "1/1 [==============================] - 0s 94ms/step\n",
      "[INFO] Training network for ox fold 3...\n",
      "Epoch 1/20\n",
      "71/71 [==============================] - 4s 49ms/step - loss: 0.5475 - accuracy: 0.7293\n",
      "Epoch 2/20\n",
      "71/71 [==============================] - 3s 48ms/step - loss: 0.4128 - accuracy: 0.8196\n",
      "Epoch 3/20\n",
      "71/71 [==============================] - 3s 48ms/step - loss: 0.3267 - accuracy: 0.8639\n",
      "Epoch 4/20\n",
      "71/71 [==============================] - 3s 48ms/step - loss: 0.2217 - accuracy: 0.9162\n",
      "Epoch 5/20\n",
      "71/71 [==============================] - 3s 48ms/step - loss: 0.1754 - accuracy: 0.9348\n",
      "Epoch 6/20\n",
      "71/71 [==============================] - 3s 48ms/step - loss: 0.1028 - accuracy: 0.9632\n",
      "Epoch 7/20\n",
      "71/71 [==============================] - 3s 48ms/step - loss: 0.0594 - accuracy: 0.9840\n",
      "Epoch 8/20\n",
      "71/71 [==============================] - 3s 48ms/step - loss: 0.0348 - accuracy: 0.9920\n",
      "Epoch 9/20\n",
      "71/71 [==============================] - 3s 48ms/step - loss: 0.1058 - accuracy: 0.9654\n",
      "Epoch 10/20\n",
      "71/71 [==============================] - 3s 48ms/step - loss: 0.0665 - accuracy: 0.9765\n",
      "Epoch 11/20\n",
      "71/71 [==============================] - 3s 47ms/step - loss: 0.0438 - accuracy: 0.9863\n",
      "Epoch 12/20\n",
      "71/71 [==============================] - 3s 48ms/step - loss: 0.0457 - accuracy: 0.9840\n",
      "Epoch 13/20\n",
      "71/71 [==============================] - 3s 47ms/step - loss: 0.0214 - accuracy: 0.9942\n",
      "Epoch 14/20\n",
      "71/71 [==============================] - 3s 47ms/step - loss: 0.0105 - accuracy: 0.9987\n",
      "Epoch 15/20\n",
      "71/71 [==============================] - 3s 49ms/step - loss: 0.0071 - accuracy: 0.9991\n",
      "Epoch 16/20\n",
      "71/71 [==============================] - 4s 51ms/step - loss: 0.0058 - accuracy: 0.9996\n",
      "Epoch 17/20\n",
      "71/71 [==============================] - 3s 47ms/step - loss: 0.0054 - accuracy: 0.9996\n",
      "Epoch 18/20\n",
      "71/71 [==============================] - 3s 47ms/step - loss: 0.0065 - accuracy: 0.9991\n",
      "Epoch 19/20\n",
      "71/71 [==============================] - 3s 48ms/step - loss: 0.0151 - accuracy: 0.9956\n",
      "Epoch 20/20\n",
      "71/71 [==============================] - 3s 47ms/step - loss: 0.0283 - accuracy: 0.9916\n",
      "[INFO] Saving Model for ox fold 3 ...\n",
      "36/36 [==============================] - 0s 10ms/step\n"
     ]
    },
    {
     "name": "stderr",
     "output_type": "stream",
     "text": [
      "C:\\Users\\rudra\\AppData\\Local\\Temp\\ipykernel_6820\\3249705492.py:34: UserWarning: FigureCanvasAgg is non-interactive, and thus cannot be shown\n",
      "  plt.show()\n"
     ]
    },
    {
     "name": "stdout",
     "output_type": "stream",
     "text": [
      "1/1 [==============================] - 0s 72ms/step\n"
     ]
    },
    {
     "name": "stderr",
     "output_type": "stream",
     "text": [
      "C:\\Users\\rudra\\AppData\\Local\\Temp\\ipykernel_6820\\1767733992.py:15: RuntimeWarning: invalid value encountered in divide\n",
      "  channel_image /= channel_image.std()\n",
      "C:\\Users\\rudra\\AppData\\Local\\Temp\\ipykernel_6820\\1767733992.py:18: RuntimeWarning: invalid value encountered in cast\n",
      "  channel_image = np.clip(channel_image, 0, 255).astype('uint8')\n"
     ]
    },
    {
     "name": "stdout",
     "output_type": "stream",
     "text": [
      "[INFO] Loading images ...\n",
      "[INFO] Processing oyster ...\n",
      "[INFO] Processing rest ...\n",
      "[INFO] image extract completed\n",
      "total train samples: \n",
      "3438\n",
      "[INFO] Training network for oyster fold 1...\n",
      "Epoch 1/20\n",
      "71/71 [==============================] - 4s 48ms/step - loss: 0.4158 - accuracy: 0.8116\n",
      "Epoch 2/20\n",
      "71/71 [==============================] - 4s 48ms/step - loss: 0.2036 - accuracy: 0.9235\n",
      "Epoch 3/20\n",
      "71/71 [==============================] - 3s 47ms/step - loss: 0.1227 - accuracy: 0.9566\n",
      "Epoch 4/20\n",
      "71/71 [==============================] - 3s 48ms/step - loss: 0.1278 - accuracy: 0.9504\n",
      "Epoch 5/20\n",
      "71/71 [==============================] - 3s 48ms/step - loss: 0.0883 - accuracy: 0.9655\n",
      "Epoch 6/20\n",
      "71/71 [==============================] - 3s 48ms/step - loss: 0.0672 - accuracy: 0.9748\n",
      "Epoch 7/20\n",
      "71/71 [==============================] - 3s 48ms/step - loss: 0.0588 - accuracy: 0.9788\n",
      "Epoch 8/20\n",
      "71/71 [==============================] - 3s 48ms/step - loss: 0.0516 - accuracy: 0.9823\n",
      "Epoch 9/20\n",
      "71/71 [==============================] - 3s 48ms/step - loss: 0.0258 - accuracy: 0.9925\n",
      "Epoch 10/20\n",
      "71/71 [==============================] - 3s 48ms/step - loss: 0.0294 - accuracy: 0.9898\n",
      "Epoch 11/20\n",
      "71/71 [==============================] - 3s 48ms/step - loss: 0.0278 - accuracy: 0.9920\n",
      "Epoch 12/20\n",
      "71/71 [==============================] - 3s 47ms/step - loss: 0.0186 - accuracy: 0.9951\n",
      "Epoch 13/20\n",
      "71/71 [==============================] - 3s 47ms/step - loss: 0.0128 - accuracy: 0.9965\n",
      "Epoch 14/20\n",
      "71/71 [==============================] - 3s 48ms/step - loss: 0.0231 - accuracy: 0.9916\n",
      "Epoch 15/20\n",
      "71/71 [==============================] - 3s 48ms/step - loss: 0.0306 - accuracy: 0.9894\n",
      "Epoch 16/20\n",
      "71/71 [==============================] - 3s 48ms/step - loss: 0.0316 - accuracy: 0.9903\n",
      "Epoch 17/20\n",
      "71/71 [==============================] - 3s 48ms/step - loss: 0.0329 - accuracy: 0.9867\n",
      "Epoch 18/20\n",
      "71/71 [==============================] - 3s 48ms/step - loss: 0.0254 - accuracy: 0.9889\n",
      "Epoch 19/20\n",
      "71/71 [==============================] - 3s 48ms/step - loss: 0.0270 - accuracy: 0.9894\n",
      "Epoch 20/20\n",
      "71/71 [==============================] - 3s 47ms/step - loss: 0.0231 - accuracy: 0.9916\n",
      "[INFO] Saving Model for oyster fold 1 ...\n",
      "36/36 [==============================] - 1s 10ms/step\n"
     ]
    },
    {
     "name": "stderr",
     "output_type": "stream",
     "text": [
      "C:\\Users\\rudra\\AppData\\Local\\Temp\\ipykernel_6820\\3249705492.py:34: UserWarning: FigureCanvasAgg is non-interactive, and thus cannot be shown\n",
      "  plt.show()\n"
     ]
    },
    {
     "name": "stdout",
     "output_type": "stream",
     "text": [
      "1/1 [==============================] - 0s 62ms/step\n"
     ]
    },
    {
     "name": "stderr",
     "output_type": "stream",
     "text": [
      "C:\\Users\\rudra\\AppData\\Local\\Temp\\ipykernel_6820\\1767733992.py:15: RuntimeWarning: invalid value encountered in divide\n",
      "  channel_image /= channel_image.std()\n",
      "C:\\Users\\rudra\\AppData\\Local\\Temp\\ipykernel_6820\\1767733992.py:18: RuntimeWarning: invalid value encountered in cast\n",
      "  channel_image = np.clip(channel_image, 0, 255).astype('uint8')\n"
     ]
    },
    {
     "name": "stdout",
     "output_type": "stream",
     "text": [
      "[INFO] Training network for oyster fold 2...\n",
      "Epoch 1/20\n",
      "71/71 [==============================] - 4s 48ms/step - loss: 0.3923 - accuracy: 0.8248\n",
      "Epoch 2/20\n",
      "71/71 [==============================] - 3s 48ms/step - loss: 0.2103 - accuracy: 0.9230\n",
      "Epoch 3/20\n",
      "71/71 [==============================] - 3s 48ms/step - loss: 0.1283 - accuracy: 0.9518\n",
      "Epoch 4/20\n",
      "71/71 [==============================] - 3s 48ms/step - loss: 0.1324 - accuracy: 0.9451\n",
      "Epoch 5/20\n",
      "71/71 [==============================] - 3s 47ms/step - loss: 0.0841 - accuracy: 0.9717\n",
      "Epoch 6/20\n",
      "71/71 [==============================] - 3s 48ms/step - loss: 0.0596 - accuracy: 0.9761\n",
      "Epoch 7/20\n",
      "71/71 [==============================] - 3s 48ms/step - loss: 0.0625 - accuracy: 0.9774\n",
      "Epoch 8/20\n",
      "71/71 [==============================] - 3s 47ms/step - loss: 0.0352 - accuracy: 0.9876\n",
      "Epoch 9/20\n",
      "71/71 [==============================] - 3s 48ms/step - loss: 0.0303 - accuracy: 0.9912\n",
      "Epoch 10/20\n",
      "71/71 [==============================] - 3s 47ms/step - loss: 0.0296 - accuracy: 0.9903\n",
      "Epoch 11/20\n",
      "71/71 [==============================] - 3s 47ms/step - loss: 0.0162 - accuracy: 0.9956\n",
      "Epoch 12/20\n",
      "71/71 [==============================] - 3s 48ms/step - loss: 0.0200 - accuracy: 0.9925\n",
      "Epoch 13/20\n",
      "71/71 [==============================] - 3s 47ms/step - loss: 0.0841 - accuracy: 0.9664\n",
      "Epoch 14/20\n",
      "71/71 [==============================] - 3s 47ms/step - loss: 0.0505 - accuracy: 0.9841\n",
      "Epoch 15/20\n",
      "71/71 [==============================] - 3s 47ms/step - loss: 0.0372 - accuracy: 0.9872\n",
      "Epoch 16/20\n",
      "71/71 [==============================] - 3s 48ms/step - loss: 0.0193 - accuracy: 0.9929\n",
      "Epoch 17/20\n",
      "71/71 [==============================] - 4s 51ms/step - loss: 0.0119 - accuracy: 0.9969\n",
      "Epoch 18/20\n",
      "71/71 [==============================] - 3s 48ms/step - loss: 0.0081 - accuracy: 0.9973\n",
      "Epoch 19/20\n",
      "71/71 [==============================] - 3s 48ms/step - loss: 0.0152 - accuracy: 0.9951\n",
      "Epoch 20/20\n",
      "71/71 [==============================] - 3s 48ms/step - loss: 0.0152 - accuracy: 0.9956\n",
      "[INFO] Saving Model for oyster fold 2 ...\n",
      "36/36 [==============================] - 0s 10ms/step\n"
     ]
    },
    {
     "name": "stderr",
     "output_type": "stream",
     "text": [
      "C:\\Users\\rudra\\AppData\\Local\\Temp\\ipykernel_6820\\3249705492.py:34: UserWarning: FigureCanvasAgg is non-interactive, and thus cannot be shown\n",
      "  plt.show()\n"
     ]
    },
    {
     "name": "stdout",
     "output_type": "stream",
     "text": [
      "1/1 [==============================] - 0s 79ms/step\n"
     ]
    },
    {
     "name": "stderr",
     "output_type": "stream",
     "text": [
      "C:\\Users\\rudra\\AppData\\Local\\Temp\\ipykernel_6820\\1767733992.py:15: RuntimeWarning: invalid value encountered in divide\n",
      "  channel_image /= channel_image.std()\n",
      "C:\\Users\\rudra\\AppData\\Local\\Temp\\ipykernel_6820\\1767733992.py:18: RuntimeWarning: invalid value encountered in cast\n",
      "  channel_image = np.clip(channel_image, 0, 255).astype('uint8')\n"
     ]
    },
    {
     "name": "stdout",
     "output_type": "stream",
     "text": [
      "[INFO] Training network for oyster fold 3...\n",
      "Epoch 1/20\n",
      "71/71 [==============================] - 4s 48ms/step - loss: 0.4137 - accuracy: 0.8006\n",
      "Epoch 2/20\n",
      "71/71 [==============================] - 3s 48ms/step - loss: 0.2137 - accuracy: 0.9133\n",
      "Epoch 3/20\n",
      "71/71 [==============================] - 3s 47ms/step - loss: 0.1064 - accuracy: 0.9633\n",
      "Epoch 4/20\n",
      "71/71 [==============================] - 3s 48ms/step - loss: 0.0998 - accuracy: 0.9611\n",
      "Epoch 5/20\n",
      "71/71 [==============================] - 3s 47ms/step - loss: 0.0769 - accuracy: 0.9735\n",
      "Epoch 6/20\n",
      "71/71 [==============================] - 3s 46ms/step - loss: 0.0476 - accuracy: 0.9850\n",
      "Epoch 7/20\n",
      "71/71 [==============================] - 3s 46ms/step - loss: 0.0419 - accuracy: 0.9858\n",
      "Epoch 8/20\n",
      "71/71 [==============================] - 3s 47ms/step - loss: 0.0565 - accuracy: 0.9765\n",
      "Epoch 9/20\n",
      "71/71 [==============================] - 3s 47ms/step - loss: 0.0262 - accuracy: 0.9920\n",
      "Epoch 10/20\n",
      "71/71 [==============================] - 3s 47ms/step - loss: 0.0244 - accuracy: 0.9916\n",
      "Epoch 11/20\n",
      "71/71 [==============================] - 3s 47ms/step - loss: 0.0139 - accuracy: 0.9965\n",
      "Epoch 12/20\n",
      "71/71 [==============================] - 3s 47ms/step - loss: 0.0201 - accuracy: 0.9929\n",
      "Epoch 13/20\n",
      "71/71 [==============================] - 3s 46ms/step - loss: 0.0458 - accuracy: 0.9836\n",
      "Epoch 14/20\n",
      "71/71 [==============================] - 3s 46ms/step - loss: 0.0356 - accuracy: 0.9876\n",
      "Epoch 15/20\n",
      "71/71 [==============================] - 3s 47ms/step - loss: 0.0208 - accuracy: 0.9907\n",
      "Epoch 16/20\n",
      "71/71 [==============================] - 3s 47ms/step - loss: 0.0145 - accuracy: 0.9965\n",
      "Epoch 17/20\n",
      "71/71 [==============================] - 3s 47ms/step - loss: 0.0109 - accuracy: 0.9960\n",
      "Epoch 18/20\n",
      "71/71 [==============================] - 3s 47ms/step - loss: 0.0062 - accuracy: 0.9991\n",
      "Epoch 19/20\n",
      "71/71 [==============================] - 3s 47ms/step - loss: 0.0143 - accuracy: 0.9956\n",
      "Epoch 20/20\n",
      "71/71 [==============================] - 3s 47ms/step - loss: 0.0101 - accuracy: 0.9965\n",
      "[INFO] Saving Model for oyster fold 3 ...\n",
      "36/36 [==============================] - 0s 10ms/step\n"
     ]
    },
    {
     "name": "stderr",
     "output_type": "stream",
     "text": [
      "C:\\Users\\rudra\\AppData\\Local\\Temp\\ipykernel_6820\\3249705492.py:34: UserWarning: FigureCanvasAgg is non-interactive, and thus cannot be shown\n",
      "  plt.show()\n"
     ]
    },
    {
     "name": "stdout",
     "output_type": "stream",
     "text": [
      "1/1 [==============================] - 0s 85ms/step\n"
     ]
    },
    {
     "name": "stderr",
     "output_type": "stream",
     "text": [
      "C:\\Users\\rudra\\AppData\\Local\\Temp\\ipykernel_6820\\1767733992.py:15: RuntimeWarning: invalid value encountered in divide\n",
      "  channel_image /= channel_image.std()\n",
      "C:\\Users\\rudra\\AppData\\Local\\Temp\\ipykernel_6820\\1767733992.py:18: RuntimeWarning: invalid value encountered in cast\n",
      "  channel_image = np.clip(channel_image, 0, 255).astype('uint8')\n"
     ]
    },
    {
     "name": "stdout",
     "output_type": "stream",
     "text": [
      "[INFO] Loading images ...\n",
      "[INFO] Processing panda ...\n",
      "[INFO] Processing rest ...\n",
      "[INFO] image extract completed\n",
      "total train samples: \n",
      "3441\n",
      "[INFO] Training network for panda fold 1...\n",
      "Epoch 1/20\n",
      "71/71 [==============================] - 5s 47ms/step - loss: 0.3676 - accuracy: 0.8341\n",
      "Epoch 2/20\n",
      "71/71 [==============================] - 3s 47ms/step - loss: 0.2061 - accuracy: 0.9187\n",
      "Epoch 3/20\n",
      "71/71 [==============================] - 3s 47ms/step - loss: 0.1097 - accuracy: 0.9624\n",
      "Epoch 4/20\n",
      "71/71 [==============================] - 3s 47ms/step - loss: 0.0825 - accuracy: 0.9739\n",
      "Epoch 5/20\n",
      "71/71 [==============================] - 3s 47ms/step - loss: 0.0434 - accuracy: 0.9903\n",
      "Epoch 6/20\n",
      "71/71 [==============================] - 3s 47ms/step - loss: 0.0505 - accuracy: 0.9841\n",
      "Epoch 7/20\n",
      "71/71 [==============================] - 3s 47ms/step - loss: 0.0369 - accuracy: 0.9898\n",
      "Epoch 8/20\n",
      "71/71 [==============================] - 3s 48ms/step - loss: 0.0417 - accuracy: 0.9885\n",
      "Epoch 9/20\n",
      "71/71 [==============================] - 3s 48ms/step - loss: 0.0144 - accuracy: 0.9969\n",
      "Epoch 10/20\n",
      "71/71 [==============================] - 3s 47ms/step - loss: 0.0083 - accuracy: 0.9991\n",
      "Epoch 11/20\n",
      "71/71 [==============================] - 3s 47ms/step - loss: 0.0216 - accuracy: 0.9929\n",
      "Epoch 12/20\n",
      "71/71 [==============================] - 3s 47ms/step - loss: 0.0451 - accuracy: 0.9845\n",
      "Epoch 13/20\n",
      "71/71 [==============================] - 3s 47ms/step - loss: 0.0139 - accuracy: 0.9965\n",
      "Epoch 14/20\n",
      "71/71 [==============================] - 3s 47ms/step - loss: 0.0391 - accuracy: 0.9832\n",
      "Epoch 15/20\n",
      "71/71 [==============================] - 3s 47ms/step - loss: 0.0142 - accuracy: 0.9969\n",
      "Epoch 16/20\n",
      "71/71 [==============================] - 3s 47ms/step - loss: 0.0060 - accuracy: 0.9991\n",
      "Epoch 17/20\n",
      "71/71 [==============================] - 3s 47ms/step - loss: 0.0055 - accuracy: 0.9991\n",
      "Epoch 18/20\n",
      "71/71 [==============================] - 3s 47ms/step - loss: 0.0081 - accuracy: 0.9982\n",
      "Epoch 19/20\n",
      "71/71 [==============================] - 3s 47ms/step - loss: 0.0177 - accuracy: 0.9943\n",
      "Epoch 20/20\n",
      "71/71 [==============================] - 3s 47ms/step - loss: 0.0259 - accuracy: 0.9912\n",
      "[INFO] Saving Model for panda fold 1 ...\n",
      "36/36 [==============================] - 0s 10ms/step\n"
     ]
    },
    {
     "name": "stderr",
     "output_type": "stream",
     "text": [
      "C:\\Users\\rudra\\AppData\\Local\\Temp\\ipykernel_6820\\3249705492.py:34: UserWarning: FigureCanvasAgg is non-interactive, and thus cannot be shown\n",
      "  plt.show()\n"
     ]
    },
    {
     "name": "stdout",
     "output_type": "stream",
     "text": [
      "1/1 [==============================] - 0s 71ms/step\n"
     ]
    },
    {
     "name": "stderr",
     "output_type": "stream",
     "text": [
      "C:\\Users\\rudra\\AppData\\Local\\Temp\\ipykernel_6820\\1767733992.py:15: RuntimeWarning: invalid value encountered in divide\n",
      "  channel_image /= channel_image.std()\n",
      "C:\\Users\\rudra\\AppData\\Local\\Temp\\ipykernel_6820\\1767733992.py:18: RuntimeWarning: invalid value encountered in cast\n",
      "  channel_image = np.clip(channel_image, 0, 255).astype('uint8')\n"
     ]
    },
    {
     "name": "stdout",
     "output_type": "stream",
     "text": [
      "[INFO] Training network for panda fold 2...\n",
      "Epoch 1/20\n",
      "71/71 [==============================] - 4s 49ms/step - loss: 0.3557 - accuracy: 0.8385\n",
      "Epoch 2/20\n",
      "71/71 [==============================] - 3s 48ms/step - loss: 0.1800 - accuracy: 0.9328\n",
      "Epoch 3/20\n",
      "71/71 [==============================] - 3s 48ms/step - loss: 0.1087 - accuracy: 0.9571\n",
      "Epoch 4/20\n",
      "71/71 [==============================] - 3s 48ms/step - loss: 0.0841 - accuracy: 0.9721\n",
      "Epoch 5/20\n",
      "71/71 [==============================] - 3s 48ms/step - loss: 0.0731 - accuracy: 0.9730\n",
      "Epoch 6/20\n",
      "71/71 [==============================] - 3s 48ms/step - loss: 0.0518 - accuracy: 0.9828\n",
      "Epoch 7/20\n",
      "71/71 [==============================] - 3s 48ms/step - loss: 0.0437 - accuracy: 0.9828\n",
      "Epoch 8/20\n",
      "71/71 [==============================] - 3s 48ms/step - loss: 0.0259 - accuracy: 0.9925\n",
      "Epoch 9/20\n",
      "71/71 [==============================] - 3s 48ms/step - loss: 0.0228 - accuracy: 0.9938\n",
      "Epoch 10/20\n",
      "71/71 [==============================] - 3s 48ms/step - loss: 0.0198 - accuracy: 0.9929\n",
      "Epoch 11/20\n",
      "71/71 [==============================] - 3s 48ms/step - loss: 0.0122 - accuracy: 0.9991\n",
      "Epoch 12/20\n",
      "71/71 [==============================] - 3s 48ms/step - loss: 0.0053 - accuracy: 0.9987\n",
      "Epoch 13/20\n",
      "71/71 [==============================] - 3s 48ms/step - loss: 0.0139 - accuracy: 0.9956\n",
      "Epoch 14/20\n",
      "71/71 [==============================] - 3s 48ms/step - loss: 0.0283 - accuracy: 0.9894\n",
      "Epoch 15/20\n",
      "71/71 [==============================] - 3s 48ms/step - loss: 0.0136 - accuracy: 0.9947\n",
      "Epoch 16/20\n",
      "71/71 [==============================] - 3s 48ms/step - loss: 0.0137 - accuracy: 0.9951\n",
      "Epoch 17/20\n",
      "71/71 [==============================] - 3s 48ms/step - loss: 0.0317 - accuracy: 0.9898\n",
      "Epoch 18/20\n",
      "71/71 [==============================] - 3s 48ms/step - loss: 0.0234 - accuracy: 0.9907\n",
      "Epoch 19/20\n",
      "71/71 [==============================] - 3s 48ms/step - loss: 0.0132 - accuracy: 0.9969\n",
      "Epoch 20/20\n",
      "71/71 [==============================] - 3s 48ms/step - loss: 0.0186 - accuracy: 0.9943\n",
      "[INFO] Saving Model for panda fold 2 ...\n",
      "36/36 [==============================] - 0s 11ms/step\n"
     ]
    },
    {
     "name": "stderr",
     "output_type": "stream",
     "text": [
      "C:\\Users\\rudra\\AppData\\Local\\Temp\\ipykernel_6820\\3249705492.py:34: UserWarning: FigureCanvasAgg is non-interactive, and thus cannot be shown\n",
      "  plt.show()\n"
     ]
    },
    {
     "name": "stdout",
     "output_type": "stream",
     "text": [
      "1/1 [==============================] - 0s 94ms/step\n"
     ]
    },
    {
     "name": "stderr",
     "output_type": "stream",
     "text": [
      "C:\\Users\\rudra\\AppData\\Local\\Temp\\ipykernel_6820\\1767733992.py:15: RuntimeWarning: invalid value encountered in divide\n",
      "  channel_image /= channel_image.std()\n",
      "C:\\Users\\rudra\\AppData\\Local\\Temp\\ipykernel_6820\\1767733992.py:18: RuntimeWarning: invalid value encountered in cast\n",
      "  channel_image = np.clip(channel_image, 0, 255).astype('uint8')\n"
     ]
    },
    {
     "name": "stdout",
     "output_type": "stream",
     "text": [
      "[INFO] Training network for panda fold 3...\n",
      "Epoch 1/20\n",
      "71/71 [==============================] - 5s 50ms/step - loss: 0.3272 - accuracy: 0.8539\n",
      "Epoch 2/20\n",
      "71/71 [==============================] - 3s 48ms/step - loss: 0.1686 - accuracy: 0.9319\n",
      "Epoch 3/20\n",
      "71/71 [==============================] - 3s 48ms/step - loss: 0.1077 - accuracy: 0.9602\n",
      "Epoch 4/20\n",
      "71/71 [==============================] - 3s 48ms/step - loss: 0.0949 - accuracy: 0.9677\n",
      "Epoch 5/20\n",
      "71/71 [==============================] - 3s 48ms/step - loss: 0.0502 - accuracy: 0.9859\n",
      "Epoch 6/20\n",
      "71/71 [==============================] - 3s 48ms/step - loss: 0.0496 - accuracy: 0.9832\n",
      "Epoch 7/20\n",
      "71/71 [==============================] - 3s 48ms/step - loss: 0.0267 - accuracy: 0.9943\n",
      "Epoch 8/20\n",
      "71/71 [==============================] - 3s 48ms/step - loss: 0.0366 - accuracy: 0.9863\n",
      "Epoch 9/20\n",
      "71/71 [==============================] - 3s 48ms/step - loss: 0.0262 - accuracy: 0.9938\n",
      "Epoch 10/20\n",
      "71/71 [==============================] - 3s 48ms/step - loss: 0.0374 - accuracy: 0.9872\n",
      "Epoch 11/20\n",
      "71/71 [==============================] - 3s 47ms/step - loss: 0.0175 - accuracy: 0.9947\n",
      "Epoch 12/20\n",
      "71/71 [==============================] - 3s 47ms/step - loss: 0.0107 - accuracy: 0.9982\n",
      "Epoch 13/20\n",
      "71/71 [==============================] - 3s 48ms/step - loss: 0.0119 - accuracy: 0.9969\n",
      "Epoch 14/20\n",
      "71/71 [==============================] - 3s 48ms/step - loss: 0.0092 - accuracy: 0.9978\n",
      "Epoch 15/20\n",
      "71/71 [==============================] - 3s 47ms/step - loss: 0.0116 - accuracy: 0.9965\n",
      "Epoch 16/20\n",
      "71/71 [==============================] - 3s 48ms/step - loss: 0.0145 - accuracy: 0.9960\n",
      "Epoch 17/20\n",
      "71/71 [==============================] - 3s 47ms/step - loss: 0.0102 - accuracy: 0.9973\n",
      "Epoch 18/20\n",
      "71/71 [==============================] - 3s 47ms/step - loss: 0.0260 - accuracy: 0.9938\n",
      "Epoch 19/20\n",
      "71/71 [==============================] - 3s 48ms/step - loss: 0.0223 - accuracy: 0.9943\n",
      "Epoch 20/20\n",
      "71/71 [==============================] - 3s 48ms/step - loss: 0.0202 - accuracy: 0.9916\n",
      "[INFO] Saving Model for panda fold 3 ...\n",
      "36/36 [==============================] - 0s 10ms/step\n"
     ]
    },
    {
     "name": "stderr",
     "output_type": "stream",
     "text": [
      "C:\\Users\\rudra\\AppData\\Local\\Temp\\ipykernel_6820\\3249705492.py:34: UserWarning: FigureCanvasAgg is non-interactive, and thus cannot be shown\n",
      "  plt.show()\n"
     ]
    },
    {
     "name": "stdout",
     "output_type": "stream",
     "text": [
      "1/1 [==============================] - 0s 66ms/step\n"
     ]
    },
    {
     "name": "stderr",
     "output_type": "stream",
     "text": [
      "C:\\Users\\rudra\\AppData\\Local\\Temp\\ipykernel_6820\\1767733992.py:15: RuntimeWarning: invalid value encountered in divide\n",
      "  channel_image /= channel_image.std()\n",
      "C:\\Users\\rudra\\AppData\\Local\\Temp\\ipykernel_6820\\1767733992.py:18: RuntimeWarning: invalid value encountered in cast\n",
      "  channel_image = np.clip(channel_image, 0, 255).astype('uint8')\n"
     ]
    },
    {
     "name": "stdout",
     "output_type": "stream",
     "text": [
      "[INFO] Loading images ...\n",
      "[INFO] Processing parrot ...\n",
      "[INFO] Processing rest ...\n",
      "[INFO] image extract completed\n",
      "total train samples: \n",
      "3431\n",
      "[INFO] Training network for parrot fold 1...\n",
      "Epoch 1/20\n",
      "71/71 [==============================] - 5s 49ms/step - loss: 0.4250 - accuracy: 0.8165\n",
      "Epoch 2/20\n",
      "71/71 [==============================] - 3s 49ms/step - loss: 0.2081 - accuracy: 0.9206\n",
      "Epoch 3/20\n",
      "71/71 [==============================] - 3s 47ms/step - loss: 0.1567 - accuracy: 0.9463\n",
      "Epoch 4/20\n",
      "71/71 [==============================] - 3s 47ms/step - loss: 0.1067 - accuracy: 0.9650\n",
      "Epoch 5/20\n",
      "71/71 [==============================] - 3s 48ms/step - loss: 0.0820 - accuracy: 0.9716\n",
      "Epoch 6/20\n",
      "71/71 [==============================] - 3s 47ms/step - loss: 0.1393 - accuracy: 0.9486\n",
      "Epoch 7/20\n",
      "71/71 [==============================] - 3s 47ms/step - loss: 0.0720 - accuracy: 0.9778\n",
      "Epoch 8/20\n",
      "71/71 [==============================] - 3s 47ms/step - loss: 0.0592 - accuracy: 0.9831\n",
      "Epoch 9/20\n",
      "71/71 [==============================] - 3s 47ms/step - loss: 0.0322 - accuracy: 0.9911\n",
      "Epoch 10/20\n",
      "71/71 [==============================] - 3s 47ms/step - loss: 0.0293 - accuracy: 0.9902\n",
      "Epoch 11/20\n",
      "71/71 [==============================] - 3s 47ms/step - loss: 0.0150 - accuracy: 0.9960\n",
      "Epoch 12/20\n",
      "71/71 [==============================] - 3s 48ms/step - loss: 0.0250 - accuracy: 0.9933\n",
      "Epoch 13/20\n",
      "71/71 [==============================] - 3s 48ms/step - loss: 0.0227 - accuracy: 0.9920\n",
      "Epoch 14/20\n",
      "71/71 [==============================] - 3s 47ms/step - loss: 0.0184 - accuracy: 0.9951\n",
      "Epoch 15/20\n",
      "71/71 [==============================] - 3s 48ms/step - loss: 0.0354 - accuracy: 0.9902\n",
      "Epoch 16/20\n",
      "71/71 [==============================] - 3s 47ms/step - loss: 0.0179 - accuracy: 0.9951\n",
      "Epoch 17/20\n",
      "71/71 [==============================] - 3s 47ms/step - loss: 0.0137 - accuracy: 0.9960\n",
      "Epoch 18/20\n",
      "71/71 [==============================] - 3s 47ms/step - loss: 0.0183 - accuracy: 0.9942\n",
      "Epoch 19/20\n",
      "71/71 [==============================] - 3s 47ms/step - loss: 0.0234 - accuracy: 0.9925\n",
      "Epoch 20/20\n",
      "71/71 [==============================] - 3s 48ms/step - loss: 0.0145 - accuracy: 0.9951\n",
      "[INFO] Saving Model for parrot fold 1 ...\n",
      "36/36 [==============================] - 0s 11ms/step\n"
     ]
    },
    {
     "name": "stderr",
     "output_type": "stream",
     "text": [
      "C:\\Users\\rudra\\AppData\\Local\\Temp\\ipykernel_6820\\3249705492.py:34: UserWarning: FigureCanvasAgg is non-interactive, and thus cannot be shown\n",
      "  plt.show()\n"
     ]
    },
    {
     "name": "stdout",
     "output_type": "stream",
     "text": [
      "1/1 [==============================] - 0s 80ms/step\n"
     ]
    },
    {
     "name": "stderr",
     "output_type": "stream",
     "text": [
      "C:\\Users\\rudra\\AppData\\Local\\Temp\\ipykernel_6820\\1767733992.py:15: RuntimeWarning: invalid value encountered in divide\n",
      "  channel_image /= channel_image.std()\n",
      "C:\\Users\\rudra\\AppData\\Local\\Temp\\ipykernel_6820\\1767733992.py:18: RuntimeWarning: invalid value encountered in cast\n",
      "  channel_image = np.clip(channel_image, 0, 255).astype('uint8')\n"
     ]
    },
    {
     "name": "stdout",
     "output_type": "stream",
     "text": [
      "[INFO] Training network for parrot fold 2...\n",
      "Epoch 1/20\n",
      "71/71 [==============================] - 4s 49ms/step - loss: 0.4318 - accuracy: 0.8050\n",
      "Epoch 2/20\n",
      "71/71 [==============================] - 3s 48ms/step - loss: 0.2000 - accuracy: 0.9264\n",
      "Epoch 3/20\n",
      "71/71 [==============================] - 3s 48ms/step - loss: 0.1571 - accuracy: 0.9432\n",
      "Epoch 4/20\n",
      "71/71 [==============================] - 3s 48ms/step - loss: 0.1189 - accuracy: 0.9579\n",
      "Epoch 5/20\n",
      "71/71 [==============================] - 3s 48ms/step - loss: 0.0918 - accuracy: 0.9681\n",
      "Epoch 6/20\n",
      "71/71 [==============================] - 3s 48ms/step - loss: 0.0791 - accuracy: 0.9698\n",
      "Epoch 7/20\n",
      "71/71 [==============================] - 3s 48ms/step - loss: 0.0516 - accuracy: 0.9831\n",
      "Epoch 8/20\n",
      "71/71 [==============================] - 3s 48ms/step - loss: 0.0259 - accuracy: 0.9929\n",
      "Epoch 9/20\n",
      "71/71 [==============================] - 3s 47ms/step - loss: 0.0419 - accuracy: 0.9854\n",
      "Epoch 10/20\n",
      "71/71 [==============================] - 3s 47ms/step - loss: 0.0233 - accuracy: 0.9933\n",
      "Epoch 11/20\n",
      "71/71 [==============================] - 3s 47ms/step - loss: 0.0156 - accuracy: 0.9956\n",
      "Epoch 12/20\n",
      "71/71 [==============================] - 3s 47ms/step - loss: 0.0161 - accuracy: 0.9960\n",
      "Epoch 13/20\n",
      "71/71 [==============================] - 3s 47ms/step - loss: 0.0278 - accuracy: 0.9911\n",
      "Epoch 14/20\n",
      "71/71 [==============================] - 3s 49ms/step - loss: 0.0257 - accuracy: 0.9925\n",
      "Epoch 15/20\n",
      "71/71 [==============================] - 4s 50ms/step - loss: 0.0278 - accuracy: 0.9907\n",
      "Epoch 16/20\n",
      "71/71 [==============================] - 3s 48ms/step - loss: 0.0218 - accuracy: 0.9938\n",
      "Epoch 17/20\n",
      "71/71 [==============================] - 3s 49ms/step - loss: 0.0126 - accuracy: 0.9960\n",
      "Epoch 18/20\n",
      "71/71 [==============================] - 3s 49ms/step - loss: 0.0139 - accuracy: 0.9965\n",
      "Epoch 19/20\n",
      "71/71 [==============================] - 3s 49ms/step - loss: 0.0113 - accuracy: 0.9956\n",
      "Epoch 20/20\n",
      "71/71 [==============================] - 3s 49ms/step - loss: 0.0151 - accuracy: 0.9951\n",
      "[INFO] Saving Model for parrot fold 2 ...\n",
      "36/36 [==============================] - 1s 11ms/step\n"
     ]
    },
    {
     "name": "stderr",
     "output_type": "stream",
     "text": [
      "C:\\Users\\rudra\\AppData\\Local\\Temp\\ipykernel_6820\\3249705492.py:34: UserWarning: FigureCanvasAgg is non-interactive, and thus cannot be shown\n",
      "  plt.show()\n"
     ]
    },
    {
     "name": "stdout",
     "output_type": "stream",
     "text": [
      "1/1 [==============================] - 0s 84ms/step\n"
     ]
    },
    {
     "name": "stderr",
     "output_type": "stream",
     "text": [
      "C:\\Users\\rudra\\AppData\\Local\\Temp\\ipykernel_6820\\1767733992.py:15: RuntimeWarning: invalid value encountered in divide\n",
      "  channel_image /= channel_image.std()\n",
      "C:\\Users\\rudra\\AppData\\Local\\Temp\\ipykernel_6820\\1767733992.py:18: RuntimeWarning: invalid value encountered in cast\n",
      "  channel_image = np.clip(channel_image, 0, 255).astype('uint8')\n"
     ]
    },
    {
     "name": "stdout",
     "output_type": "stream",
     "text": [
      "[INFO] Training network for parrot fold 3...\n",
      "Epoch 1/20\n",
      "71/71 [==============================] - 5s 49ms/step - loss: 0.4590 - accuracy: 0.7857\n",
      "Epoch 2/20\n",
      "71/71 [==============================] - 3s 48ms/step - loss: 0.2589 - accuracy: 0.9020\n",
      "Epoch 3/20\n",
      "71/71 [==============================] - 3s 48ms/step - loss: 0.1727 - accuracy: 0.9371\n",
      "Epoch 4/20\n",
      "71/71 [==============================] - 3s 49ms/step - loss: 0.1424 - accuracy: 0.9504\n",
      "Epoch 5/20\n",
      "71/71 [==============================] - 3s 47ms/step - loss: 0.0956 - accuracy: 0.9676\n",
      "Epoch 6/20\n",
      "71/71 [==============================] - 3s 47ms/step - loss: 0.0663 - accuracy: 0.9765\n",
      "Epoch 7/20\n",
      "71/71 [==============================] - 3s 47ms/step - loss: 0.0487 - accuracy: 0.9845\n",
      "Epoch 8/20\n",
      "71/71 [==============================] - 3s 48ms/step - loss: 0.0334 - accuracy: 0.9898\n",
      "Epoch 9/20\n",
      "71/71 [==============================] - 3s 48ms/step - loss: 0.0266 - accuracy: 0.9916\n",
      "Epoch 10/20\n",
      "71/71 [==============================] - 3s 48ms/step - loss: 0.0410 - accuracy: 0.9867\n",
      "Epoch 11/20\n",
      "71/71 [==============================] - 3s 48ms/step - loss: 0.0571 - accuracy: 0.9770\n",
      "Epoch 12/20\n",
      "71/71 [==============================] - 3s 47ms/step - loss: 0.0472 - accuracy: 0.9863\n",
      "Epoch 13/20\n",
      "71/71 [==============================] - 3s 47ms/step - loss: 0.0514 - accuracy: 0.9827\n",
      "Epoch 14/20\n",
      "71/71 [==============================] - 3s 48ms/step - loss: 0.0360 - accuracy: 0.9889\n",
      "Epoch 15/20\n",
      "71/71 [==============================] - 3s 49ms/step - loss: 0.0232 - accuracy: 0.9929\n",
      "Epoch 16/20\n",
      "71/71 [==============================] - 3s 49ms/step - loss: 0.0243 - accuracy: 0.9911\n",
      "Epoch 17/20\n",
      "71/71 [==============================] - 3s 48ms/step - loss: 0.0156 - accuracy: 0.9951\n",
      "Epoch 18/20\n",
      "71/71 [==============================] - 3s 48ms/step - loss: 0.0154 - accuracy: 0.9938\n",
      "Epoch 19/20\n",
      "71/71 [==============================] - 3s 48ms/step - loss: 0.0348 - accuracy: 0.9880\n",
      "Epoch 20/20\n",
      "71/71 [==============================] - 3s 48ms/step - loss: 0.0355 - accuracy: 0.9876\n",
      "[INFO] Saving Model for parrot fold 3 ...\n",
      "36/36 [==============================] - 1s 10ms/step\n"
     ]
    },
    {
     "name": "stderr",
     "output_type": "stream",
     "text": [
      "C:\\Users\\rudra\\AppData\\Local\\Temp\\ipykernel_6820\\3249705492.py:34: UserWarning: FigureCanvasAgg is non-interactive, and thus cannot be shown\n",
      "  plt.show()\n"
     ]
    },
    {
     "name": "stdout",
     "output_type": "stream",
     "text": [
      "1/1 [==============================] - 0s 94ms/step\n"
     ]
    },
    {
     "name": "stderr",
     "output_type": "stream",
     "text": [
      "C:\\Users\\rudra\\AppData\\Local\\Temp\\ipykernel_6820\\1767733992.py:15: RuntimeWarning: invalid value encountered in divide\n",
      "  channel_image /= channel_image.std()\n",
      "C:\\Users\\rudra\\AppData\\Local\\Temp\\ipykernel_6820\\1767733992.py:18: RuntimeWarning: invalid value encountered in cast\n",
      "  channel_image = np.clip(channel_image, 0, 255).astype('uint8')\n"
     ]
    },
    {
     "name": "stdout",
     "output_type": "stream",
     "text": [
      "[INFO] Loading images ...\n",
      "[INFO] Processing pelecaniformes ...\n",
      "[INFO] Processing rest ...\n",
      "[INFO] image extract completed\n",
      "total train samples: \n",
      "3436\n",
      "[INFO] Training network for pelecaniformes fold 1...\n",
      "Epoch 1/20\n",
      "71/71 [==============================] - 5s 49ms/step - loss: 0.5053 - accuracy: 0.7500\n",
      "Epoch 2/20\n",
      "71/71 [==============================] - 3s 48ms/step - loss: 0.3849 - accuracy: 0.8322\n",
      "Epoch 3/20\n",
      "71/71 [==============================] - 3s 48ms/step - loss: 0.3428 - accuracy: 0.8565\n",
      "Epoch 4/20\n",
      "71/71 [==============================] - 3s 48ms/step - loss: 0.2541 - accuracy: 0.8986\n",
      "Epoch 5/20\n",
      "71/71 [==============================] - 3s 48ms/step - loss: 0.1696 - accuracy: 0.9349\n",
      "Epoch 6/20\n",
      "71/71 [==============================] - 3s 48ms/step - loss: 0.1402 - accuracy: 0.9482\n",
      "Epoch 7/20\n",
      "71/71 [==============================] - 3s 48ms/step - loss: 0.0932 - accuracy: 0.9663\n",
      "Epoch 8/20\n",
      "71/71 [==============================] - 3s 48ms/step - loss: 0.0760 - accuracy: 0.9734\n",
      "Epoch 9/20\n",
      "71/71 [==============================] - 3s 48ms/step - loss: 0.0762 - accuracy: 0.9712\n",
      "Epoch 10/20\n",
      "71/71 [==============================] - 3s 48ms/step - loss: 0.0363 - accuracy: 0.9894\n",
      "Epoch 11/20\n",
      "71/71 [==============================] - 3s 48ms/step - loss: 0.0306 - accuracy: 0.9907\n",
      "Epoch 12/20\n",
      "71/71 [==============================] - 3s 48ms/step - loss: 0.0243 - accuracy: 0.9920\n",
      "Epoch 13/20\n",
      "71/71 [==============================] - 3s 48ms/step - loss: 0.0240 - accuracy: 0.9920\n",
      "Epoch 14/20\n",
      "71/71 [==============================] - 3s 48ms/step - loss: 0.0249 - accuracy: 0.9934\n",
      "Epoch 15/20\n",
      "71/71 [==============================] - 3s 48ms/step - loss: 0.0253 - accuracy: 0.9925\n",
      "Epoch 16/20\n",
      "71/71 [==============================] - 3s 48ms/step - loss: 0.0183 - accuracy: 0.9925\n",
      "Epoch 17/20\n",
      "71/71 [==============================] - 3s 48ms/step - loss: 0.0311 - accuracy: 0.9885\n",
      "Epoch 18/20\n",
      "71/71 [==============================] - 3s 48ms/step - loss: 0.0291 - accuracy: 0.9911\n",
      "Epoch 19/20\n",
      "71/71 [==============================] - 3s 48ms/step - loss: 0.0189 - accuracy: 0.9960\n",
      "Epoch 20/20\n",
      "71/71 [==============================] - 3s 48ms/step - loss: 0.0337 - accuracy: 0.9894\n",
      "[INFO] Saving Model for pelecaniformes fold 1 ...\n",
      "36/36 [==============================] - 1s 11ms/step\n"
     ]
    },
    {
     "name": "stderr",
     "output_type": "stream",
     "text": [
      "C:\\Users\\rudra\\AppData\\Local\\Temp\\ipykernel_6820\\3249705492.py:34: UserWarning: FigureCanvasAgg is non-interactive, and thus cannot be shown\n",
      "  plt.show()\n"
     ]
    },
    {
     "name": "stdout",
     "output_type": "stream",
     "text": [
      "1/1 [==============================] - 0s 88ms/step\n"
     ]
    },
    {
     "name": "stderr",
     "output_type": "stream",
     "text": [
      "C:\\Users\\rudra\\AppData\\Local\\Temp\\ipykernel_6820\\1767733992.py:15: RuntimeWarning: invalid value encountered in divide\n",
      "  channel_image /= channel_image.std()\n",
      "C:\\Users\\rudra\\AppData\\Local\\Temp\\ipykernel_6820\\1767733992.py:18: RuntimeWarning: invalid value encountered in cast\n",
      "  channel_image = np.clip(channel_image, 0, 255).astype('uint8')\n"
     ]
    },
    {
     "name": "stdout",
     "output_type": "stream",
     "text": [
      "[INFO] Training network for pelecaniformes fold 2...\n",
      "Epoch 1/20\n",
      "71/71 [==============================] - 4s 49ms/step - loss: 0.5233 - accuracy: 0.7372\n",
      "Epoch 2/20\n",
      "71/71 [==============================] - 3s 48ms/step - loss: 0.3676 - accuracy: 0.8344\n",
      "Epoch 3/20\n",
      "71/71 [==============================] - 3s 48ms/step - loss: 0.2881 - accuracy: 0.8778\n",
      "Epoch 4/20\n",
      "71/71 [==============================] - 3s 48ms/step - loss: 0.2348 - accuracy: 0.9008\n",
      "Epoch 5/20\n",
      "71/71 [==============================] - 3s 48ms/step - loss: 0.1536 - accuracy: 0.9438\n",
      "Epoch 6/20\n",
      "71/71 [==============================] - 3s 48ms/step - loss: 0.1041 - accuracy: 0.9628\n",
      "Epoch 7/20\n",
      "71/71 [==============================] - 3s 48ms/step - loss: 0.1859 - accuracy: 0.9274\n",
      "Epoch 8/20\n",
      "71/71 [==============================] - 3s 48ms/step - loss: 0.1169 - accuracy: 0.9579\n",
      "Epoch 9/20\n",
      "71/71 [==============================] - 3s 48ms/step - loss: 0.0730 - accuracy: 0.9779\n",
      "Epoch 10/20\n",
      "71/71 [==============================] - 3s 48ms/step - loss: 0.0452 - accuracy: 0.9880\n",
      "Epoch 11/20\n",
      "71/71 [==============================] - 3s 48ms/step - loss: 0.0389 - accuracy: 0.9880\n",
      "Epoch 12/20\n",
      "71/71 [==============================] - 3s 48ms/step - loss: 0.0361 - accuracy: 0.9867\n",
      "Epoch 13/20\n",
      "71/71 [==============================] - 3s 48ms/step - loss: 0.0356 - accuracy: 0.9876\n",
      "Epoch 14/20\n",
      "71/71 [==============================] - 3s 48ms/step - loss: 0.0269 - accuracy: 0.9916\n",
      "Epoch 15/20\n",
      "71/71 [==============================] - 3s 48ms/step - loss: 0.0357 - accuracy: 0.9880\n",
      "Epoch 16/20\n",
      "71/71 [==============================] - 3s 48ms/step - loss: 0.0352 - accuracy: 0.9880\n",
      "Epoch 17/20\n",
      "71/71 [==============================] - 3s 48ms/step - loss: 0.0411 - accuracy: 0.9849\n",
      "Epoch 18/20\n",
      "71/71 [==============================] - 3s 48ms/step - loss: 0.0326 - accuracy: 0.9880\n",
      "Epoch 19/20\n",
      "71/71 [==============================] - 3s 48ms/step - loss: 0.0143 - accuracy: 0.9956\n",
      "Epoch 20/20\n",
      "71/71 [==============================] - 3s 48ms/step - loss: 0.0176 - accuracy: 0.9960\n",
      "[INFO] Saving Model for pelecaniformes fold 2 ...\n",
      "36/36 [==============================] - 0s 11ms/step\n"
     ]
    },
    {
     "name": "stderr",
     "output_type": "stream",
     "text": [
      "C:\\Users\\rudra\\AppData\\Local\\Temp\\ipykernel_6820\\3249705492.py:34: UserWarning: FigureCanvasAgg is non-interactive, and thus cannot be shown\n",
      "  plt.show()\n"
     ]
    },
    {
     "name": "stdout",
     "output_type": "stream",
     "text": [
      "1/1 [==============================] - 0s 81ms/step\n",
      "[INFO] Training network for pelecaniformes fold 3...\n",
      "Epoch 1/20\n",
      "71/71 [==============================] - 4s 49ms/step - loss: 0.4996 - accuracy: 0.7720\n",
      "Epoch 2/20\n",
      "71/71 [==============================] - 3s 48ms/step - loss: 0.3376 - accuracy: 0.8521\n",
      "Epoch 3/20\n",
      "71/71 [==============================] - 3s 48ms/step - loss: 0.2742 - accuracy: 0.8818\n",
      "Epoch 4/20\n",
      "71/71 [==============================] - 3s 47ms/step - loss: 0.1972 - accuracy: 0.9243\n",
      "Epoch 5/20\n",
      "71/71 [==============================] - 3s 47ms/step - loss: 0.1427 - accuracy: 0.9491\n",
      "Epoch 6/20\n",
      "71/71 [==============================] - 3s 47ms/step - loss: 0.1036 - accuracy: 0.9708\n",
      "Epoch 7/20\n",
      "71/71 [==============================] - 3s 47ms/step - loss: 0.0734 - accuracy: 0.9765\n",
      "Epoch 8/20\n",
      "71/71 [==============================] - 3s 47ms/step - loss: 0.0407 - accuracy: 0.9876\n",
      "Epoch 9/20\n",
      "71/71 [==============================] - 3s 47ms/step - loss: 0.0311 - accuracy: 0.9920\n",
      "Epoch 10/20\n",
      "71/71 [==============================] - 3s 47ms/step - loss: 0.0370 - accuracy: 0.9898\n",
      "Epoch 11/20\n",
      "71/71 [==============================] - 3s 47ms/step - loss: 0.0534 - accuracy: 0.9814\n",
      "Epoch 12/20\n",
      "71/71 [==============================] - 3s 47ms/step - loss: 0.0365 - accuracy: 0.9880\n",
      "Epoch 13/20\n",
      "71/71 [==============================] - 3s 47ms/step - loss: 0.0322 - accuracy: 0.9889\n",
      "Epoch 14/20\n",
      "71/71 [==============================] - 3s 47ms/step - loss: 0.0310 - accuracy: 0.9911\n",
      "Epoch 15/20\n",
      "71/71 [==============================] - 3s 48ms/step - loss: 0.0114 - accuracy: 0.9982\n",
      "Epoch 16/20\n",
      "71/71 [==============================] - 3s 48ms/step - loss: 0.0096 - accuracy: 0.9973\n",
      "Epoch 17/20\n",
      "71/71 [==============================] - 3s 47ms/step - loss: 0.0112 - accuracy: 0.9965\n",
      "Epoch 18/20\n",
      "71/71 [==============================] - 3s 48ms/step - loss: 0.0108 - accuracy: 0.9978\n",
      "Epoch 19/20\n",
      "71/71 [==============================] - 3s 47ms/step - loss: 0.0119 - accuracy: 0.9969\n",
      "Epoch 20/20\n",
      "71/71 [==============================] - 3s 47ms/step - loss: 0.0374 - accuracy: 0.9894\n",
      "[INFO] Saving Model for pelecaniformes fold 3 ...\n",
      "36/36 [==============================] - 1s 10ms/step\n"
     ]
    },
    {
     "name": "stderr",
     "output_type": "stream",
     "text": [
      "C:\\Users\\rudra\\AppData\\Local\\Temp\\ipykernel_6820\\3249705492.py:34: UserWarning: FigureCanvasAgg is non-interactive, and thus cannot be shown\n",
      "  plt.show()\n"
     ]
    },
    {
     "name": "stdout",
     "output_type": "stream",
     "text": [
      "1/1 [==============================] - 0s 60ms/step\n"
     ]
    },
    {
     "name": "stderr",
     "output_type": "stream",
     "text": [
      "C:\\Users\\rudra\\AppData\\Local\\Temp\\ipykernel_6820\\1767733992.py:15: RuntimeWarning: invalid value encountered in divide\n",
      "  channel_image /= channel_image.std()\n",
      "C:\\Users\\rudra\\AppData\\Local\\Temp\\ipykernel_6820\\1767733992.py:18: RuntimeWarning: invalid value encountered in cast\n",
      "  channel_image = np.clip(channel_image, 0, 255).astype('uint8')\n"
     ]
    },
    {
     "name": "stdout",
     "output_type": "stream",
     "text": [
      "[INFO] Loading images ...\n",
      "[INFO] Processing penguin ...\n",
      "[INFO] Processing rest ...\n",
      "[INFO] image extract completed\n",
      "total train samples: \n",
      "3426\n",
      "[INFO] Training network for penguin fold 1...\n",
      "Epoch 1/20\n",
      "71/71 [==============================] - 4s 48ms/step - loss: 0.3501 - accuracy: 0.8565\n",
      "Epoch 2/20\n",
      "71/71 [==============================] - 3s 48ms/step - loss: 0.2191 - accuracy: 0.9201\n",
      "Epoch 3/20\n",
      "71/71 [==============================] - 3s 47ms/step - loss: 0.1540 - accuracy: 0.9476\n",
      "Epoch 4/20\n",
      "71/71 [==============================] - 3s 48ms/step - loss: 0.1136 - accuracy: 0.9565\n",
      "Epoch 5/20\n",
      "71/71 [==============================] - 3s 48ms/step - loss: 0.1086 - accuracy: 0.9636\n",
      "Epoch 6/20\n",
      "71/71 [==============================] - 3s 48ms/step - loss: 0.0691 - accuracy: 0.9760\n",
      "Epoch 7/20\n",
      "71/71 [==============================] - 3s 48ms/step - loss: 0.0554 - accuracy: 0.9787\n",
      "Epoch 8/20\n",
      "71/71 [==============================] - 3s 48ms/step - loss: 0.0336 - accuracy: 0.9885\n",
      "Epoch 9/20\n",
      "71/71 [==============================] - 3s 48ms/step - loss: 0.0531 - accuracy: 0.9836\n",
      "Epoch 10/20\n",
      "71/71 [==============================] - 3s 47ms/step - loss: 0.0340 - accuracy: 0.9911\n",
      "Epoch 11/20\n",
      "71/71 [==============================] - 3s 47ms/step - loss: 0.0323 - accuracy: 0.9898\n",
      "Epoch 12/20\n",
      "71/71 [==============================] - 3s 48ms/step - loss: 0.0163 - accuracy: 0.9956\n",
      "Epoch 13/20\n",
      "71/71 [==============================] - 3s 48ms/step - loss: 0.0194 - accuracy: 0.9942\n",
      "Epoch 14/20\n",
      "71/71 [==============================] - 3s 48ms/step - loss: 0.0084 - accuracy: 0.9996\n",
      "Epoch 15/20\n",
      "71/71 [==============================] - 3s 47ms/step - loss: 0.0037 - accuracy: 1.0000\n",
      "Epoch 16/20\n",
      "71/71 [==============================] - 3s 48ms/step - loss: 0.0135 - accuracy: 0.9960\n",
      "Epoch 17/20\n",
      "71/71 [==============================] - 3s 47ms/step - loss: 0.0290 - accuracy: 0.9889\n",
      "Epoch 18/20\n",
      "71/71 [==============================] - 3s 47ms/step - loss: 0.0366 - accuracy: 0.9871\n",
      "Epoch 19/20\n",
      "71/71 [==============================] - 3s 47ms/step - loss: 0.0246 - accuracy: 0.9929\n",
      "Epoch 20/20\n",
      "71/71 [==============================] - 3s 47ms/step - loss: 0.0214 - accuracy: 0.9942\n",
      "[INFO] Saving Model for penguin fold 1 ...\n",
      "36/36 [==============================] - 0s 10ms/step\n"
     ]
    },
    {
     "name": "stderr",
     "output_type": "stream",
     "text": [
      "C:\\Users\\rudra\\AppData\\Local\\Temp\\ipykernel_6820\\3249705492.py:34: UserWarning: FigureCanvasAgg is non-interactive, and thus cannot be shown\n",
      "  plt.show()\n"
     ]
    },
    {
     "name": "stdout",
     "output_type": "stream",
     "text": [
      "1/1 [==============================] - 0s 68ms/step\n"
     ]
    },
    {
     "name": "stderr",
     "output_type": "stream",
     "text": [
      "C:\\Users\\rudra\\AppData\\Local\\Temp\\ipykernel_6820\\1767733992.py:15: RuntimeWarning: invalid value encountered in divide\n",
      "  channel_image /= channel_image.std()\n",
      "C:\\Users\\rudra\\AppData\\Local\\Temp\\ipykernel_6820\\1767733992.py:18: RuntimeWarning: invalid value encountered in cast\n",
      "  channel_image = np.clip(channel_image, 0, 255).astype('uint8')\n"
     ]
    },
    {
     "name": "stdout",
     "output_type": "stream",
     "text": [
      "[INFO] Training network for penguin fold 2...\n",
      "Epoch 1/20\n",
      "71/71 [==============================] - 4s 47ms/step - loss: 0.3839 - accuracy: 0.8380\n",
      "Epoch 2/20\n",
      "71/71 [==============================] - 3s 47ms/step - loss: 0.2704 - accuracy: 0.8939\n",
      "Epoch 3/20\n",
      "71/71 [==============================] - 3s 46ms/step - loss: 0.2369 - accuracy: 0.9099\n",
      "Epoch 4/20\n",
      "71/71 [==============================] - 3s 46ms/step - loss: 0.1890 - accuracy: 0.9285\n",
      "Epoch 5/20\n",
      "71/71 [==============================] - 3s 47ms/step - loss: 0.1330 - accuracy: 0.9534\n",
      "Epoch 6/20\n",
      "71/71 [==============================] - 3s 46ms/step - loss: 0.0759 - accuracy: 0.9778\n",
      "Epoch 7/20\n",
      "71/71 [==============================] - 3s 46ms/step - loss: 0.0704 - accuracy: 0.9769\n",
      "Epoch 8/20\n",
      "71/71 [==============================] - 3s 46ms/step - loss: 0.0763 - accuracy: 0.9729\n",
      "Epoch 9/20\n",
      "71/71 [==============================] - 3s 46ms/step - loss: 0.0513 - accuracy: 0.9822\n",
      "Epoch 10/20\n",
      "71/71 [==============================] - 3s 47ms/step - loss: 0.0183 - accuracy: 0.9960\n",
      "Epoch 11/20\n",
      "71/71 [==============================] - 3s 47ms/step - loss: 0.0315 - accuracy: 0.9893\n",
      "Epoch 12/20\n",
      "71/71 [==============================] - 3s 47ms/step - loss: 0.0242 - accuracy: 0.9929\n",
      "Epoch 13/20\n",
      "71/71 [==============================] - 3s 47ms/step - loss: 0.0236 - accuracy: 0.9933\n",
      "Epoch 14/20\n",
      "71/71 [==============================] - 3s 47ms/step - loss: 0.0216 - accuracy: 0.9933\n",
      "Epoch 15/20\n",
      "71/71 [==============================] - 3s 47ms/step - loss: 0.0491 - accuracy: 0.9796\n",
      "Epoch 16/20\n",
      "71/71 [==============================] - 3s 47ms/step - loss: 0.0270 - accuracy: 0.9902\n",
      "Epoch 17/20\n",
      "71/71 [==============================] - 3s 47ms/step - loss: 0.0133 - accuracy: 0.9960\n",
      "Epoch 18/20\n",
      "71/71 [==============================] - 3s 47ms/step - loss: 0.0097 - accuracy: 0.9978\n",
      "Epoch 19/20\n",
      "71/71 [==============================] - 3s 47ms/step - loss: 0.0063 - accuracy: 0.9991\n",
      "Epoch 20/20\n",
      "71/71 [==============================] - 3s 47ms/step - loss: 0.0047 - accuracy: 0.9991\n",
      "[INFO] Saving Model for penguin fold 2 ...\n",
      "36/36 [==============================] - 1s 11ms/step\n"
     ]
    },
    {
     "name": "stderr",
     "output_type": "stream",
     "text": [
      "C:\\Users\\rudra\\AppData\\Local\\Temp\\ipykernel_6820\\3249705492.py:34: UserWarning: FigureCanvasAgg is non-interactive, and thus cannot be shown\n",
      "  plt.show()\n"
     ]
    },
    {
     "name": "stdout",
     "output_type": "stream",
     "text": [
      "1/1 [==============================] - 0s 78ms/step\n"
     ]
    },
    {
     "name": "stderr",
     "output_type": "stream",
     "text": [
      "C:\\Users\\rudra\\AppData\\Local\\Temp\\ipykernel_6820\\1767733992.py:15: RuntimeWarning: invalid value encountered in divide\n",
      "  channel_image /= channel_image.std()\n",
      "C:\\Users\\rudra\\AppData\\Local\\Temp\\ipykernel_6820\\1767733992.py:18: RuntimeWarning: invalid value encountered in cast\n",
      "  channel_image = np.clip(channel_image, 0, 255).astype('uint8')\n"
     ]
    },
    {
     "name": "stdout",
     "output_type": "stream",
     "text": [
      "[INFO] Training network for penguin fold 3...\n",
      "Epoch 1/20\n",
      "71/71 [==============================] - 4s 48ms/step - loss: 0.3751 - accuracy: 0.8398\n",
      "Epoch 2/20\n",
      "71/71 [==============================] - 3s 47ms/step - loss: 0.2355 - accuracy: 0.9076\n",
      "Epoch 3/20\n",
      "71/71 [==============================] - 3s 47ms/step - loss: 0.1498 - accuracy: 0.9454\n",
      "Epoch 4/20\n",
      "71/71 [==============================] - 3s 47ms/step - loss: 0.1111 - accuracy: 0.9587\n",
      "Epoch 5/20\n",
      "71/71 [==============================] - 3s 47ms/step - loss: 0.0771 - accuracy: 0.9742\n",
      "Epoch 6/20\n",
      "71/71 [==============================] - 3s 47ms/step - loss: 0.0664 - accuracy: 0.9787\n",
      "Epoch 7/20\n",
      "71/71 [==============================] - 3s 47ms/step - loss: 0.0519 - accuracy: 0.9818\n",
      "Epoch 8/20\n",
      "71/71 [==============================] - 3s 47ms/step - loss: 0.0557 - accuracy: 0.9827\n",
      "Epoch 9/20\n",
      "71/71 [==============================] - 3s 47ms/step - loss: 0.0581 - accuracy: 0.9840\n",
      "Epoch 10/20\n",
      "71/71 [==============================] - 3s 47ms/step - loss: 0.0312 - accuracy: 0.9893\n",
      "Epoch 11/20\n",
      "71/71 [==============================] - 3s 47ms/step - loss: 0.0216 - accuracy: 0.9933\n",
      "Epoch 12/20\n",
      "71/71 [==============================] - 3s 47ms/step - loss: 0.0166 - accuracy: 0.9956\n",
      "Epoch 13/20\n",
      "71/71 [==============================] - 3s 47ms/step - loss: 0.0424 - accuracy: 0.9871\n",
      "Epoch 14/20\n",
      "71/71 [==============================] - 3s 47ms/step - loss: 0.0563 - accuracy: 0.9765\n",
      "Epoch 15/20\n",
      "71/71 [==============================] - 3s 47ms/step - loss: 0.0349 - accuracy: 0.9889\n",
      "Epoch 16/20\n",
      "71/71 [==============================] - 3s 47ms/step - loss: 0.0361 - accuracy: 0.9889\n",
      "Epoch 17/20\n",
      "71/71 [==============================] - 3s 47ms/step - loss: 0.0171 - accuracy: 0.9951\n",
      "Epoch 18/20\n",
      "71/71 [==============================] - 3s 47ms/step - loss: 0.0199 - accuracy: 0.9947\n",
      "Epoch 19/20\n",
      "71/71 [==============================] - 3s 47ms/step - loss: 0.0162 - accuracy: 0.9929\n",
      "Epoch 20/20\n",
      "71/71 [==============================] - 3s 47ms/step - loss: 0.0091 - accuracy: 0.9973\n",
      "[INFO] Saving Model for penguin fold 3 ...\n",
      "36/36 [==============================] - 1s 10ms/step\n"
     ]
    },
    {
     "name": "stderr",
     "output_type": "stream",
     "text": [
      "C:\\Users\\rudra\\AppData\\Local\\Temp\\ipykernel_6820\\3249705492.py:34: UserWarning: FigureCanvasAgg is non-interactive, and thus cannot be shown\n",
      "  plt.show()\n"
     ]
    },
    {
     "name": "stdout",
     "output_type": "stream",
     "text": [
      "1/1 [==============================] - 0s 90ms/step\n"
     ]
    },
    {
     "name": "stderr",
     "output_type": "stream",
     "text": [
      "C:\\Users\\rudra\\AppData\\Local\\Temp\\ipykernel_6820\\1767733992.py:15: RuntimeWarning: invalid value encountered in divide\n",
      "  channel_image /= channel_image.std()\n",
      "C:\\Users\\rudra\\AppData\\Local\\Temp\\ipykernel_6820\\1767733992.py:18: RuntimeWarning: invalid value encountered in cast\n",
      "  channel_image = np.clip(channel_image, 0, 255).astype('uint8')\n"
     ]
    },
    {
     "name": "stdout",
     "output_type": "stream",
     "text": [
      "[INFO] Loading images ...\n",
      "[INFO] Processing pig ...\n",
      "[INFO] Processing rest ...\n",
      "[INFO] image extract completed\n",
      "total train samples: \n",
      "3435\n",
      "[INFO] Training network for pig fold 1...\n",
      "Epoch 1/20\n",
      "71/71 [==============================] - 4s 48ms/step - loss: 0.4501 - accuracy: 0.7945\n",
      "Epoch 2/20\n",
      "71/71 [==============================] - 3s 47ms/step - loss: 0.3185 - accuracy: 0.8605\n",
      "Epoch 3/20\n",
      "71/71 [==============================] - 3s 47ms/step - loss: 0.2591 - accuracy: 0.9057\n",
      "Epoch 4/20\n",
      "71/71 [==============================] - 3s 47ms/step - loss: 0.1644 - accuracy: 0.9415\n",
      "Epoch 5/20\n",
      "71/71 [==============================] - 3s 47ms/step - loss: 0.1551 - accuracy: 0.9451\n",
      "Epoch 6/20\n",
      "71/71 [==============================] - 3s 47ms/step - loss: 0.0848 - accuracy: 0.9725\n",
      "Epoch 7/20\n",
      "71/71 [==============================] - 3s 47ms/step - loss: 0.0650 - accuracy: 0.9756\n",
      "Epoch 8/20\n",
      "71/71 [==============================] - 3s 47ms/step - loss: 0.0929 - accuracy: 0.9681\n",
      "Epoch 9/20\n",
      "71/71 [==============================] - 3s 47ms/step - loss: 0.0595 - accuracy: 0.9818\n",
      "Epoch 10/20\n",
      "71/71 [==============================] - 3s 47ms/step - loss: 0.0341 - accuracy: 0.9920\n",
      "Epoch 11/20\n",
      "71/71 [==============================] - 3s 47ms/step - loss: 0.0216 - accuracy: 0.9951\n",
      "Epoch 12/20\n",
      "71/71 [==============================] - 3s 47ms/step - loss: 0.0421 - accuracy: 0.9841\n",
      "Epoch 13/20\n",
      "71/71 [==============================] - 3s 47ms/step - loss: 0.0221 - accuracy: 0.9938\n",
      "Epoch 14/20\n",
      "71/71 [==============================] - 3s 47ms/step - loss: 0.0277 - accuracy: 0.9911\n",
      "Epoch 15/20\n",
      "71/71 [==============================] - 3s 47ms/step - loss: 0.0662 - accuracy: 0.9752\n",
      "Epoch 16/20\n",
      "71/71 [==============================] - 3s 46ms/step - loss: 0.0159 - accuracy: 0.9947\n",
      "Epoch 17/20\n",
      "71/71 [==============================] - 3s 47ms/step - loss: 0.0350 - accuracy: 0.9894\n",
      "Epoch 18/20\n",
      "71/71 [==============================] - 3s 46ms/step - loss: 0.0229 - accuracy: 0.9938\n",
      "Epoch 19/20\n",
      "71/71 [==============================] - 3s 46ms/step - loss: 0.0551 - accuracy: 0.9814\n",
      "Epoch 20/20\n",
      "71/71 [==============================] - 3s 47ms/step - loss: 0.0236 - accuracy: 0.9942\n",
      "[INFO] Saving Model for pig fold 1 ...\n",
      "36/36 [==============================] - 0s 11ms/step\n"
     ]
    },
    {
     "name": "stderr",
     "output_type": "stream",
     "text": [
      "C:\\Users\\rudra\\AppData\\Local\\Temp\\ipykernel_6820\\3249705492.py:34: UserWarning: FigureCanvasAgg is non-interactive, and thus cannot be shown\n",
      "  plt.show()\n"
     ]
    },
    {
     "name": "stdout",
     "output_type": "stream",
     "text": [
      "1/1 [==============================] - 0s 78ms/step\n"
     ]
    },
    {
     "name": "stderr",
     "output_type": "stream",
     "text": [
      "C:\\Users\\rudra\\AppData\\Local\\Temp\\ipykernel_6820\\1767733992.py:15: RuntimeWarning: invalid value encountered in divide\n",
      "  channel_image /= channel_image.std()\n",
      "C:\\Users\\rudra\\AppData\\Local\\Temp\\ipykernel_6820\\1767733992.py:18: RuntimeWarning: invalid value encountered in cast\n",
      "  channel_image = np.clip(channel_image, 0, 255).astype('uint8')\n"
     ]
    },
    {
     "name": "stdout",
     "output_type": "stream",
     "text": [
      "[INFO] Training network for pig fold 2...\n",
      "Epoch 1/20\n",
      "71/71 [==============================] - 4s 48ms/step - loss: 0.4374 - accuracy: 0.7980\n",
      "Epoch 2/20\n",
      "71/71 [==============================] - 3s 47ms/step - loss: 0.2811 - accuracy: 0.8919\n",
      "Epoch 3/20\n",
      "71/71 [==============================] - 3s 47ms/step - loss: 0.2477 - accuracy: 0.9017\n",
      "Epoch 4/20\n",
      "71/71 [==============================] - 3s 47ms/step - loss: 0.1593 - accuracy: 0.9384\n",
      "Epoch 5/20\n",
      "71/71 [==============================] - 3s 47ms/step - loss: 0.1129 - accuracy: 0.9637\n",
      "Epoch 6/20\n",
      "71/71 [==============================] - 3s 47ms/step - loss: 0.0891 - accuracy: 0.9694\n",
      "Epoch 7/20\n",
      "71/71 [==============================] - 3s 47ms/step - loss: 0.0634 - accuracy: 0.9787\n",
      "Epoch 8/20\n",
      "71/71 [==============================] - 3s 47ms/step - loss: 0.0652 - accuracy: 0.9765\n",
      "Epoch 9/20\n",
      "71/71 [==============================] - 3s 47ms/step - loss: 0.0443 - accuracy: 0.9876\n",
      "Epoch 10/20\n",
      "71/71 [==============================] - 3s 47ms/step - loss: 0.0332 - accuracy: 0.9911\n",
      "Epoch 11/20\n",
      "71/71 [==============================] - 3s 47ms/step - loss: 0.0567 - accuracy: 0.9818\n",
      "Epoch 12/20\n",
      "71/71 [==============================] - 3s 47ms/step - loss: 0.0215 - accuracy: 0.9947\n",
      "Epoch 13/20\n",
      "71/71 [==============================] - 3s 47ms/step - loss: 0.0131 - accuracy: 0.9973\n",
      "Epoch 14/20\n",
      "71/71 [==============================] - 3s 47ms/step - loss: 0.0286 - accuracy: 0.9916\n",
      "Epoch 15/20\n",
      "71/71 [==============================] - 3s 47ms/step - loss: 0.0274 - accuracy: 0.9925\n",
      "Epoch 16/20\n",
      "71/71 [==============================] - 3s 47ms/step - loss: 0.0155 - accuracy: 0.9942\n",
      "Epoch 17/20\n",
      "71/71 [==============================] - 3s 47ms/step - loss: 0.0108 - accuracy: 0.9982\n",
      "Epoch 18/20\n",
      "71/71 [==============================] - 3s 47ms/step - loss: 0.0054 - accuracy: 0.9996\n",
      "Epoch 19/20\n",
      "71/71 [==============================] - 3s 47ms/step - loss: 0.0338 - accuracy: 0.9894\n",
      "Epoch 20/20\n",
      "71/71 [==============================] - 3s 47ms/step - loss: 0.0354 - accuracy: 0.9876\n",
      "[INFO] Saving Model for pig fold 2 ...\n",
      "36/36 [==============================] - 1s 10ms/step\n"
     ]
    },
    {
     "name": "stderr",
     "output_type": "stream",
     "text": [
      "C:\\Users\\rudra\\AppData\\Local\\Temp\\ipykernel_6820\\3249705492.py:34: UserWarning: FigureCanvasAgg is non-interactive, and thus cannot be shown\n",
      "  plt.show()\n"
     ]
    },
    {
     "name": "stdout",
     "output_type": "stream",
     "text": [
      "1/1 [==============================] - 0s 78ms/step\n"
     ]
    },
    {
     "name": "stderr",
     "output_type": "stream",
     "text": [
      "C:\\Users\\rudra\\AppData\\Local\\Temp\\ipykernel_6820\\1767733992.py:15: RuntimeWarning: invalid value encountered in divide\n",
      "  channel_image /= channel_image.std()\n",
      "C:\\Users\\rudra\\AppData\\Local\\Temp\\ipykernel_6820\\1767733992.py:18: RuntimeWarning: invalid value encountered in cast\n",
      "  channel_image = np.clip(channel_image, 0, 255).astype('uint8')\n"
     ]
    },
    {
     "name": "stdout",
     "output_type": "stream",
     "text": [
      "[INFO] Training network for pig fold 3...\n",
      "Epoch 1/20\n",
      "71/71 [==============================] - 4s 48ms/step - loss: 0.4417 - accuracy: 0.7923\n",
      "Epoch 2/20\n",
      "71/71 [==============================] - 3s 47ms/step - loss: 0.3122 - accuracy: 0.8698\n",
      "Epoch 3/20\n",
      "71/71 [==============================] - 3s 47ms/step - loss: 0.2366 - accuracy: 0.9074\n",
      "Epoch 4/20\n",
      "71/71 [==============================] - 4s 49ms/step - loss: 0.1590 - accuracy: 0.9384\n",
      "Epoch 5/20\n",
      "71/71 [==============================] - 3s 47ms/step - loss: 0.1233 - accuracy: 0.9486\n",
      "Epoch 6/20\n",
      "71/71 [==============================] - 3s 47ms/step - loss: 0.1095 - accuracy: 0.9579\n",
      "Epoch 7/20\n",
      "71/71 [==============================] - 3s 47ms/step - loss: 0.0543 - accuracy: 0.9845\n",
      "Epoch 8/20\n",
      "71/71 [==============================] - 3s 48ms/step - loss: 0.0466 - accuracy: 0.9836\n",
      "Epoch 9/20\n",
      "71/71 [==============================] - 3s 48ms/step - loss: 0.0700 - accuracy: 0.9717\n",
      "Epoch 10/20\n",
      "71/71 [==============================] - 3s 47ms/step - loss: 0.0482 - accuracy: 0.9845\n",
      "Epoch 11/20\n",
      "71/71 [==============================] - 3s 47ms/step - loss: 0.0492 - accuracy: 0.9832\n",
      "Epoch 12/20\n",
      "71/71 [==============================] - 3s 48ms/step - loss: 0.0256 - accuracy: 0.9938\n",
      "Epoch 13/20\n",
      "71/71 [==============================] - 3s 48ms/step - loss: 0.0238 - accuracy: 0.9920\n",
      "Epoch 14/20\n",
      "71/71 [==============================] - 3s 48ms/step - loss: 0.0462 - accuracy: 0.9841\n",
      "Epoch 15/20\n",
      "71/71 [==============================] - 3s 48ms/step - loss: 0.0258 - accuracy: 0.9938\n",
      "Epoch 16/20\n",
      "71/71 [==============================] - 3s 48ms/step - loss: 0.0291 - accuracy: 0.9903\n",
      "Epoch 17/20\n",
      "71/71 [==============================] - 3s 47ms/step - loss: 0.0362 - accuracy: 0.9885\n",
      "Epoch 18/20\n",
      "71/71 [==============================] - 3s 47ms/step - loss: 0.0370 - accuracy: 0.9876\n",
      "Epoch 19/20\n",
      "71/71 [==============================] - 3s 47ms/step - loss: 0.0290 - accuracy: 0.9907\n",
      "Epoch 20/20\n",
      "71/71 [==============================] - 3s 47ms/step - loss: 0.0379 - accuracy: 0.9849\n",
      "[INFO] Saving Model for pig fold 3 ...\n",
      "36/36 [==============================] - 0s 11ms/step\n"
     ]
    },
    {
     "name": "stderr",
     "output_type": "stream",
     "text": [
      "C:\\Users\\rudra\\AppData\\Local\\Temp\\ipykernel_6820\\3249705492.py:34: UserWarning: FigureCanvasAgg is non-interactive, and thus cannot be shown\n",
      "  plt.show()\n"
     ]
    },
    {
     "name": "stdout",
     "output_type": "stream",
     "text": [
      "1/1 [==============================] - 0s 78ms/step\n"
     ]
    },
    {
     "name": "stderr",
     "output_type": "stream",
     "text": [
      "C:\\Users\\rudra\\AppData\\Local\\Temp\\ipykernel_6820\\1767733992.py:15: RuntimeWarning: invalid value encountered in divide\n",
      "  channel_image /= channel_image.std()\n",
      "C:\\Users\\rudra\\AppData\\Local\\Temp\\ipykernel_6820\\1767733992.py:18: RuntimeWarning: invalid value encountered in cast\n",
      "  channel_image = np.clip(channel_image, 0, 255).astype('uint8')\n"
     ]
    },
    {
     "name": "stdout",
     "output_type": "stream",
     "text": [
      "[INFO] Loading images ...\n",
      "[INFO] Processing pigeon ...\n",
      "[INFO] Processing rest ...\n",
      "[INFO] image extract completed\n",
      "total train samples: \n",
      "3427\n",
      "[INFO] Training network for pigeon fold 1...\n",
      "Epoch 1/20\n",
      "71/71 [==============================] - 4s 47ms/step - loss: 0.4544 - accuracy: 0.7777\n",
      "Epoch 2/20\n",
      "71/71 [==============================] - 3s 47ms/step - loss: 0.2931 - accuracy: 0.8850\n",
      "Epoch 3/20\n",
      "71/71 [==============================] - 3s 47ms/step - loss: 0.2208 - accuracy: 0.9174\n",
      "Epoch 4/20\n",
      "71/71 [==============================] - 3s 47ms/step - loss: 0.1617 - accuracy: 0.9401\n",
      "Epoch 5/20\n",
      "71/71 [==============================] - 3s 47ms/step - loss: 0.1141 - accuracy: 0.9627\n",
      "Epoch 6/20\n",
      "71/71 [==============================] - 3s 47ms/step - loss: 0.0841 - accuracy: 0.9725\n",
      "Epoch 7/20\n",
      "71/71 [==============================] - 3s 47ms/step - loss: 0.0573 - accuracy: 0.9818\n",
      "Epoch 8/20\n",
      "71/71 [==============================] - 3s 47ms/step - loss: 0.0911 - accuracy: 0.9676\n",
      "Epoch 9/20\n",
      "71/71 [==============================] - 3s 47ms/step - loss: 0.0691 - accuracy: 0.9760\n",
      "Epoch 10/20\n",
      "71/71 [==============================] - 3s 46ms/step - loss: 0.0384 - accuracy: 0.9871\n",
      "Epoch 11/20\n",
      "71/71 [==============================] - 3s 47ms/step - loss: 0.0378 - accuracy: 0.9871\n",
      "Epoch 12/20\n",
      "71/71 [==============================] - 3s 47ms/step - loss: 0.0327 - accuracy: 0.9893\n",
      "Epoch 13/20\n",
      "71/71 [==============================] - 3s 47ms/step - loss: 0.0809 - accuracy: 0.9711\n",
      "Epoch 14/20\n",
      "71/71 [==============================] - 3s 47ms/step - loss: 0.0383 - accuracy: 0.9889\n",
      "Epoch 15/20\n",
      "71/71 [==============================] - 3s 47ms/step - loss: 0.0192 - accuracy: 0.9942\n",
      "Epoch 16/20\n",
      "71/71 [==============================] - 3s 47ms/step - loss: 0.0134 - accuracy: 0.9960\n",
      "Epoch 17/20\n",
      "71/71 [==============================] - 3s 47ms/step - loss: 0.0150 - accuracy: 0.9964\n",
      "Epoch 18/20\n",
      "71/71 [==============================] - 3s 47ms/step - loss: 0.0087 - accuracy: 0.9982\n",
      "Epoch 19/20\n",
      "71/71 [==============================] - 3s 47ms/step - loss: 0.0066 - accuracy: 0.9982\n",
      "Epoch 20/20\n",
      "71/71 [==============================] - 3s 47ms/step - loss: 0.0059 - accuracy: 0.9982\n",
      "[INFO] Saving Model for pigeon fold 1 ...\n",
      "36/36 [==============================] - 0s 10ms/step\n"
     ]
    },
    {
     "name": "stderr",
     "output_type": "stream",
     "text": [
      "C:\\Users\\rudra\\AppData\\Local\\Temp\\ipykernel_6820\\3249705492.py:34: UserWarning: FigureCanvasAgg is non-interactive, and thus cannot be shown\n",
      "  plt.show()\n"
     ]
    },
    {
     "name": "stdout",
     "output_type": "stream",
     "text": [
      "1/1 [==============================] - 0s 68ms/step\n"
     ]
    },
    {
     "name": "stderr",
     "output_type": "stream",
     "text": [
      "C:\\Users\\rudra\\AppData\\Local\\Temp\\ipykernel_6820\\1767733992.py:15: RuntimeWarning: invalid value encountered in divide\n",
      "  channel_image /= channel_image.std()\n",
      "C:\\Users\\rudra\\AppData\\Local\\Temp\\ipykernel_6820\\1767733992.py:18: RuntimeWarning: invalid value encountered in cast\n",
      "  channel_image = np.clip(channel_image, 0, 255).astype('uint8')\n"
     ]
    },
    {
     "name": "stdout",
     "output_type": "stream",
     "text": [
      "[INFO] Training network for pigeon fold 2...\n",
      "Epoch 1/20\n",
      "71/71 [==============================] - 4s 47ms/step - loss: 0.4628 - accuracy: 0.7839\n",
      "Epoch 2/20\n",
      "71/71 [==============================] - 3s 47ms/step - loss: 0.3117 - accuracy: 0.8651\n",
      "Epoch 3/20\n",
      "71/71 [==============================] - 3s 46ms/step - loss: 0.2337 - accuracy: 0.9099\n",
      "Epoch 4/20\n",
      "71/71 [==============================] - 3s 46ms/step - loss: 0.1592 - accuracy: 0.9454\n",
      "Epoch 5/20\n",
      "71/71 [==============================] - 3s 46ms/step - loss: 0.1238 - accuracy: 0.9583\n",
      "Epoch 6/20\n",
      "71/71 [==============================] - 3s 46ms/step - loss: 0.1339 - accuracy: 0.9525\n",
      "Epoch 7/20\n",
      "71/71 [==============================] - 3s 46ms/step - loss: 0.1052 - accuracy: 0.9614\n",
      "Epoch 8/20\n",
      "71/71 [==============================] - 3s 46ms/step - loss: 0.0444 - accuracy: 0.9889\n",
      "Epoch 9/20\n",
      "71/71 [==============================] - 3s 46ms/step - loss: 0.0286 - accuracy: 0.9920\n",
      "Epoch 10/20\n",
      "71/71 [==============================] - 3s 46ms/step - loss: 0.0234 - accuracy: 0.9938\n",
      "Epoch 11/20\n",
      "71/71 [==============================] - 3s 46ms/step - loss: 0.0213 - accuracy: 0.9933\n",
      "Epoch 12/20\n",
      "71/71 [==============================] - 3s 46ms/step - loss: 0.0150 - accuracy: 0.9960\n",
      "Epoch 13/20\n",
      "71/71 [==============================] - 3s 46ms/step - loss: 0.0275 - accuracy: 0.9898\n",
      "Epoch 14/20\n",
      "71/71 [==============================] - 3s 46ms/step - loss: 0.0273 - accuracy: 0.9893\n",
      "Epoch 15/20\n",
      "71/71 [==============================] - 3s 46ms/step - loss: 0.0455 - accuracy: 0.9831\n",
      "Epoch 16/20\n",
      "71/71 [==============================] - 3s 46ms/step - loss: 0.0352 - accuracy: 0.9880\n",
      "Epoch 17/20\n",
      "71/71 [==============================] - 3s 47ms/step - loss: 0.0271 - accuracy: 0.9929\n",
      "Epoch 18/20\n",
      "71/71 [==============================] - 3s 47ms/step - loss: 0.0294 - accuracy: 0.9902\n",
      "Epoch 19/20\n",
      "71/71 [==============================] - 3s 47ms/step - loss: 0.0181 - accuracy: 0.9942\n",
      "Epoch 20/20\n",
      "71/71 [==============================] - 3s 47ms/step - loss: 0.0369 - accuracy: 0.9876\n",
      "[INFO] Saving Model for pigeon fold 2 ...\n",
      "36/36 [==============================] - 1s 11ms/step\n"
     ]
    },
    {
     "name": "stderr",
     "output_type": "stream",
     "text": [
      "C:\\Users\\rudra\\AppData\\Local\\Temp\\ipykernel_6820\\3249705492.py:34: UserWarning: FigureCanvasAgg is non-interactive, and thus cannot be shown\n",
      "  plt.show()\n"
     ]
    },
    {
     "name": "stdout",
     "output_type": "stream",
     "text": [
      "1/1 [==============================] - 0s 83ms/step\n"
     ]
    },
    {
     "name": "stderr",
     "output_type": "stream",
     "text": [
      "C:\\Users\\rudra\\AppData\\Local\\Temp\\ipykernel_6820\\1767733992.py:15: RuntimeWarning: invalid value encountered in divide\n",
      "  channel_image /= channel_image.std()\n",
      "C:\\Users\\rudra\\AppData\\Local\\Temp\\ipykernel_6820\\1767733992.py:18: RuntimeWarning: invalid value encountered in cast\n",
      "  channel_image = np.clip(channel_image, 0, 255).astype('uint8')\n"
     ]
    },
    {
     "name": "stdout",
     "output_type": "stream",
     "text": [
      "[INFO] Training network for pigeon fold 3...\n",
      "Epoch 1/20\n",
      "71/71 [==============================] - 4s 48ms/step - loss: 0.4426 - accuracy: 0.7870\n",
      "Epoch 2/20\n",
      "71/71 [==============================] - 3s 47ms/step - loss: 0.3346 - accuracy: 0.8549\n",
      "Epoch 3/20\n",
      "71/71 [==============================] - 3s 47ms/step - loss: 0.2349 - accuracy: 0.9059\n",
      "Epoch 4/20\n",
      "71/71 [==============================] - 3s 47ms/step - loss: 0.1731 - accuracy: 0.9361\n",
      "Epoch 5/20\n",
      "71/71 [==============================] - 3s 47ms/step - loss: 0.1494 - accuracy: 0.9396\n",
      "Epoch 6/20\n",
      "71/71 [==============================] - 3s 47ms/step - loss: 0.0920 - accuracy: 0.9676\n",
      "Epoch 7/20\n",
      "71/71 [==============================] - 3s 47ms/step - loss: 0.0723 - accuracy: 0.9734\n",
      "Epoch 8/20\n",
      "71/71 [==============================] - 3s 47ms/step - loss: 0.0694 - accuracy: 0.9760\n",
      "Epoch 9/20\n",
      "71/71 [==============================] - 3s 47ms/step - loss: 0.0531 - accuracy: 0.9791\n",
      "Epoch 10/20\n",
      "71/71 [==============================] - 3s 47ms/step - loss: 0.0263 - accuracy: 0.9929\n",
      "Epoch 11/20\n",
      "71/71 [==============================] - 3s 47ms/step - loss: 0.0326 - accuracy: 0.9893\n",
      "Epoch 12/20\n",
      "71/71 [==============================] - 3s 47ms/step - loss: 0.0334 - accuracy: 0.9885\n",
      "Epoch 13/20\n",
      "71/71 [==============================] - 3s 47ms/step - loss: 0.0270 - accuracy: 0.9916\n",
      "Epoch 14/20\n",
      "71/71 [==============================] - 3s 47ms/step - loss: 0.0215 - accuracy: 0.9942\n",
      "Epoch 15/20\n",
      "71/71 [==============================] - 3s 47ms/step - loss: 0.0179 - accuracy: 0.9960\n",
      "Epoch 16/20\n",
      "71/71 [==============================] - 3s 47ms/step - loss: 0.0501 - accuracy: 0.9822\n",
      "Epoch 17/20\n",
      "71/71 [==============================] - 3s 47ms/step - loss: 0.0523 - accuracy: 0.9809\n",
      "Epoch 18/20\n",
      "71/71 [==============================] - 3s 47ms/step - loss: 0.0479 - accuracy: 0.9831\n",
      "Epoch 19/20\n",
      "71/71 [==============================] - 3s 47ms/step - loss: 0.0335 - accuracy: 0.9871\n",
      "Epoch 20/20\n",
      "71/71 [==============================] - 3s 47ms/step - loss: 0.0190 - accuracy: 0.9942\n",
      "[INFO] Saving Model for pigeon fold 3 ...\n",
      "36/36 [==============================] - 0s 10ms/step\n"
     ]
    },
    {
     "name": "stderr",
     "output_type": "stream",
     "text": [
      "C:\\Users\\rudra\\AppData\\Local\\Temp\\ipykernel_6820\\3249705492.py:34: UserWarning: FigureCanvasAgg is non-interactive, and thus cannot be shown\n",
      "  plt.show()\n"
     ]
    },
    {
     "name": "stdout",
     "output_type": "stream",
     "text": [
      "1/1 [==============================] - 0s 75ms/step\n"
     ]
    },
    {
     "name": "stderr",
     "output_type": "stream",
     "text": [
      "C:\\Users\\rudra\\AppData\\Local\\Temp\\ipykernel_6820\\1767733992.py:15: RuntimeWarning: invalid value encountered in divide\n",
      "  channel_image /= channel_image.std()\n",
      "C:\\Users\\rudra\\AppData\\Local\\Temp\\ipykernel_6820\\1767733992.py:18: RuntimeWarning: invalid value encountered in cast\n",
      "  channel_image = np.clip(channel_image, 0, 255).astype('uint8')\n"
     ]
    },
    {
     "name": "stdout",
     "output_type": "stream",
     "text": [
      "[INFO] Loading images ...\n",
      "[INFO] Processing porcupine ...\n",
      "[INFO] Processing rest ...\n",
      "[INFO] image extract completed\n",
      "total train samples: \n",
      "3418\n",
      "[INFO] Training network for porcupine fold 1...\n",
      "Epoch 1/20\n",
      "71/71 [==============================] - 5s 48ms/step - loss: 0.4467 - accuracy: 0.7896\n",
      "Epoch 2/20\n",
      "71/71 [==============================] - 3s 48ms/step - loss: 0.2698 - accuracy: 0.8967\n",
      "Epoch 3/20\n",
      "71/71 [==============================] - 3s 47ms/step - loss: 0.1917 - accuracy: 0.9319\n",
      "Epoch 4/20\n",
      "71/71 [==============================] - 3s 47ms/step - loss: 0.1673 - accuracy: 0.9359\n",
      "Epoch 5/20\n",
      "71/71 [==============================] - 3s 47ms/step - loss: 0.0985 - accuracy: 0.9679\n",
      "Epoch 6/20\n",
      "71/71 [==============================] - 3s 47ms/step - loss: 0.0600 - accuracy: 0.9791\n",
      "Epoch 7/20\n",
      "71/71 [==============================] - 3s 47ms/step - loss: 0.0663 - accuracy: 0.9768\n",
      "Epoch 8/20\n",
      "71/71 [==============================] - 3s 47ms/step - loss: 0.0897 - accuracy: 0.9666\n",
      "Epoch 9/20\n",
      "71/71 [==============================] - 3s 48ms/step - loss: 0.0431 - accuracy: 0.9866\n",
      "Epoch 10/20\n",
      "71/71 [==============================] - 3s 47ms/step - loss: 0.0534 - accuracy: 0.9800\n",
      "Epoch 11/20\n",
      "71/71 [==============================] - 3s 48ms/step - loss: 0.0670 - accuracy: 0.9786\n",
      "Epoch 12/20\n",
      "71/71 [==============================] - 3s 48ms/step - loss: 0.0275 - accuracy: 0.9929\n",
      "Epoch 13/20\n",
      "71/71 [==============================] - 3s 48ms/step - loss: 0.0313 - accuracy: 0.9898\n",
      "Epoch 14/20\n",
      "71/71 [==============================] - 3s 48ms/step - loss: 0.0256 - accuracy: 0.9915\n",
      "Epoch 15/20\n",
      "71/71 [==============================] - 3s 48ms/step - loss: 0.0173 - accuracy: 0.9938\n",
      "Epoch 16/20\n",
      "71/71 [==============================] - 3s 48ms/step - loss: 0.0202 - accuracy: 0.9915\n",
      "Epoch 17/20\n",
      "71/71 [==============================] - 3s 48ms/step - loss: 0.0071 - accuracy: 0.9987\n",
      "Epoch 18/20\n",
      "71/71 [==============================] - 3s 48ms/step - loss: 0.0101 - accuracy: 0.9978\n",
      "Epoch 19/20\n",
      "71/71 [==============================] - 3s 48ms/step - loss: 0.0395 - accuracy: 0.9889\n",
      "Epoch 20/20\n",
      "71/71 [==============================] - 3s 48ms/step - loss: 0.0229 - accuracy: 0.9915\n",
      "[INFO] Saving Model for porcupine fold 1 ...\n",
      "36/36 [==============================] - 1s 11ms/step\n"
     ]
    },
    {
     "name": "stderr",
     "output_type": "stream",
     "text": [
      "C:\\Users\\rudra\\AppData\\Local\\Temp\\ipykernel_6820\\3249705492.py:34: UserWarning: FigureCanvasAgg is non-interactive, and thus cannot be shown\n",
      "  plt.show()\n"
     ]
    },
    {
     "name": "stdout",
     "output_type": "stream",
     "text": [
      "1/1 [==============================] - 0s 84ms/step\n"
     ]
    },
    {
     "name": "stderr",
     "output_type": "stream",
     "text": [
      "C:\\Users\\rudra\\AppData\\Local\\Temp\\ipykernel_6820\\1767733992.py:15: RuntimeWarning: invalid value encountered in divide\n",
      "  channel_image /= channel_image.std()\n",
      "C:\\Users\\rudra\\AppData\\Local\\Temp\\ipykernel_6820\\1767733992.py:18: RuntimeWarning: invalid value encountered in cast\n",
      "  channel_image = np.clip(channel_image, 0, 255).astype('uint8')\n"
     ]
    },
    {
     "name": "stdout",
     "output_type": "stream",
     "text": [
      "[INFO] Training network for porcupine fold 2...\n",
      "Epoch 1/20\n",
      "71/71 [==============================] - 5s 49ms/step - loss: 0.4667 - accuracy: 0.7887\n",
      "Epoch 2/20\n",
      "71/71 [==============================] - 3s 48ms/step - loss: 0.3552 - accuracy: 0.8438\n",
      "Epoch 3/20\n",
      "71/71 [==============================] - 3s 48ms/step - loss: 0.2279 - accuracy: 0.9061\n",
      "Epoch 4/20\n",
      "71/71 [==============================] - 3s 48ms/step - loss: 0.1842 - accuracy: 0.9292\n",
      "Epoch 5/20\n",
      "71/71 [==============================] - 3s 48ms/step - loss: 0.1183 - accuracy: 0.9533\n",
      "Epoch 6/20\n",
      "71/71 [==============================] - 3s 48ms/step - loss: 0.0848 - accuracy: 0.9684\n",
      "Epoch 7/20\n",
      "71/71 [==============================] - 3s 48ms/step - loss: 0.0864 - accuracy: 0.9737\n",
      "Epoch 8/20\n",
      "71/71 [==============================] - 3s 48ms/step - loss: 0.0575 - accuracy: 0.9826\n",
      "Epoch 9/20\n",
      "71/71 [==============================] - 3s 48ms/step - loss: 0.0308 - accuracy: 0.9907\n",
      "Epoch 10/20\n",
      "71/71 [==============================] - 3s 48ms/step - loss: 0.0258 - accuracy: 0.9938\n",
      "Epoch 11/20\n",
      "71/71 [==============================] - 3s 48ms/step - loss: 0.0473 - accuracy: 0.9813\n",
      "Epoch 12/20\n",
      "71/71 [==============================] - 3s 48ms/step - loss: 0.0839 - accuracy: 0.9693\n",
      "Epoch 13/20\n",
      "71/71 [==============================] - 3s 48ms/step - loss: 0.0687 - accuracy: 0.9786\n",
      "Epoch 14/20\n",
      "71/71 [==============================] - 3s 48ms/step - loss: 0.0356 - accuracy: 0.9889\n",
      "Epoch 15/20\n",
      "71/71 [==============================] - 3s 48ms/step - loss: 0.0342 - accuracy: 0.9884\n",
      "Epoch 16/20\n",
      "71/71 [==============================] - 3s 48ms/step - loss: 0.0445 - accuracy: 0.9880\n",
      "Epoch 17/20\n",
      "71/71 [==============================] - 3s 48ms/step - loss: 0.0233 - accuracy: 0.9955\n",
      "Epoch 18/20\n",
      "71/71 [==============================] - 3s 48ms/step - loss: 0.0141 - accuracy: 0.9969\n",
      "Epoch 19/20\n",
      "71/71 [==============================] - 3s 48ms/step - loss: 0.0068 - accuracy: 0.9996\n",
      "Epoch 20/20\n",
      "71/71 [==============================] - 3s 48ms/step - loss: 0.0054 - accuracy: 0.9987\n",
      "[INFO] Saving Model for porcupine fold 2 ...\n",
      "36/36 [==============================] - 1s 10ms/step\n"
     ]
    },
    {
     "name": "stderr",
     "output_type": "stream",
     "text": [
      "C:\\Users\\rudra\\AppData\\Local\\Temp\\ipykernel_6820\\3249705492.py:34: UserWarning: FigureCanvasAgg is non-interactive, and thus cannot be shown\n",
      "  plt.show()\n"
     ]
    },
    {
     "name": "stdout",
     "output_type": "stream",
     "text": [
      "1/1 [==============================] - 0s 94ms/step\n"
     ]
    },
    {
     "name": "stderr",
     "output_type": "stream",
     "text": [
      "C:\\Users\\rudra\\AppData\\Local\\Temp\\ipykernel_6820\\1767733992.py:15: RuntimeWarning: invalid value encountered in divide\n",
      "  channel_image /= channel_image.std()\n",
      "C:\\Users\\rudra\\AppData\\Local\\Temp\\ipykernel_6820\\1767733992.py:18: RuntimeWarning: invalid value encountered in cast\n",
      "  channel_image = np.clip(channel_image, 0, 255).astype('uint8')\n"
     ]
    },
    {
     "name": "stdout",
     "output_type": "stream",
     "text": [
      "[INFO] Training network for porcupine fold 3...\n",
      "Epoch 1/20\n",
      "71/71 [==============================] - 4s 49ms/step - loss: 0.4459 - accuracy: 0.7901\n",
      "Epoch 2/20\n",
      "71/71 [==============================] - 3s 48ms/step - loss: 0.2680 - accuracy: 0.8812\n",
      "Epoch 3/20\n",
      "71/71 [==============================] - 3s 48ms/step - loss: 0.1986 - accuracy: 0.9243\n",
      "Epoch 4/20\n",
      "71/71 [==============================] - 3s 48ms/step - loss: 0.1104 - accuracy: 0.9644\n",
      "Epoch 5/20\n",
      "71/71 [==============================] - 3s 47ms/step - loss: 0.0696 - accuracy: 0.9755\n",
      "Epoch 6/20\n",
      "71/71 [==============================] - 3s 47ms/step - loss: 0.0598 - accuracy: 0.9800\n",
      "Epoch 7/20\n",
      "71/71 [==============================] - 3s 48ms/step - loss: 0.1058 - accuracy: 0.9653\n",
      "Epoch 8/20\n",
      "71/71 [==============================] - 3s 48ms/step - loss: 0.0339 - accuracy: 0.9898\n",
      "Epoch 9/20\n",
      "71/71 [==============================] - 3s 48ms/step - loss: 0.0248 - accuracy: 0.9942\n",
      "Epoch 10/20\n",
      "71/71 [==============================] - 3s 48ms/step - loss: 0.0485 - accuracy: 0.9826\n",
      "Epoch 11/20\n",
      "71/71 [==============================] - 3s 48ms/step - loss: 0.0192 - accuracy: 0.9960\n",
      "Epoch 12/20\n",
      "71/71 [==============================] - 3s 48ms/step - loss: 0.0101 - accuracy: 0.9987\n",
      "Epoch 13/20\n",
      "71/71 [==============================] - 3s 48ms/step - loss: 0.0080 - accuracy: 0.9991\n",
      "Epoch 14/20\n",
      "71/71 [==============================] - 3s 48ms/step - loss: 0.0089 - accuracy: 0.9978\n",
      "Epoch 15/20\n",
      "71/71 [==============================] - 3s 48ms/step - loss: 0.0200 - accuracy: 0.9951\n",
      "Epoch 16/20\n",
      "71/71 [==============================] - 3s 48ms/step - loss: 0.0405 - accuracy: 0.9840\n",
      "Epoch 17/20\n",
      "71/71 [==============================] - 3s 48ms/step - loss: 0.0217 - accuracy: 0.9933\n",
      "Epoch 18/20\n",
      "71/71 [==============================] - 3s 48ms/step - loss: 0.0180 - accuracy: 0.9947\n",
      "Epoch 19/20\n",
      "71/71 [==============================] - 3s 48ms/step - loss: 0.0099 - accuracy: 0.9969\n",
      "Epoch 20/20\n",
      "71/71 [==============================] - 3s 48ms/step - loss: 0.0530 - accuracy: 0.9809\n",
      "[INFO] Saving Model for porcupine fold 3 ...\n",
      "36/36 [==============================] - 1s 10ms/step\n"
     ]
    },
    {
     "name": "stderr",
     "output_type": "stream",
     "text": [
      "C:\\Users\\rudra\\AppData\\Local\\Temp\\ipykernel_6820\\3249705492.py:34: UserWarning: FigureCanvasAgg is non-interactive, and thus cannot be shown\n",
      "  plt.show()\n"
     ]
    },
    {
     "name": "stdout",
     "output_type": "stream",
     "text": [
      "1/1 [==============================] - 0s 78ms/step\n"
     ]
    },
    {
     "name": "stderr",
     "output_type": "stream",
     "text": [
      "C:\\Users\\rudra\\AppData\\Local\\Temp\\ipykernel_6820\\1767733992.py:15: RuntimeWarning: invalid value encountered in divide\n",
      "  channel_image /= channel_image.std()\n",
      "C:\\Users\\rudra\\AppData\\Local\\Temp\\ipykernel_6820\\1767733992.py:18: RuntimeWarning: invalid value encountered in cast\n",
      "  channel_image = np.clip(channel_image, 0, 255).astype('uint8')\n"
     ]
    },
    {
     "name": "stdout",
     "output_type": "stream",
     "text": [
      "[INFO] Loading images ...\n",
      "[INFO] Processing possum ...\n",
      "[INFO] Processing rest ...\n",
      "[INFO] image extract completed\n",
      "total train samples: \n",
      "3413\n",
      "[INFO] Training network for possum fold 1...\n",
      "Epoch 1/20\n",
      "71/71 [==============================] - 4s 48ms/step - loss: 0.5224 - accuracy: 0.7504\n",
      "Epoch 2/20\n",
      "71/71 [==============================] - 3s 48ms/step - loss: 0.3711 - accuracy: 0.8422\n",
      "Epoch 3/20\n",
      "71/71 [==============================] - 3s 47ms/step - loss: 0.2765 - accuracy: 0.8850\n",
      "Epoch 4/20\n",
      "71/71 [==============================] - 3s 47ms/step - loss: 0.1973 - accuracy: 0.9273\n",
      "Epoch 5/20\n",
      "71/71 [==============================] - 3s 47ms/step - loss: 0.1613 - accuracy: 0.9398\n",
      "Epoch 6/20\n",
      "71/71 [==============================] - 3s 47ms/step - loss: 0.0919 - accuracy: 0.9706\n",
      "Epoch 7/20\n",
      "71/71 [==============================] - 3s 47ms/step - loss: 0.0788 - accuracy: 0.9737\n",
      "Epoch 8/20\n",
      "71/71 [==============================] - 3s 47ms/step - loss: 0.0567 - accuracy: 0.9835\n",
      "Epoch 9/20\n",
      "71/71 [==============================] - 3s 47ms/step - loss: 0.1120 - accuracy: 0.9594\n",
      "Epoch 10/20\n",
      "71/71 [==============================] - 3s 47ms/step - loss: 0.0710 - accuracy: 0.9755\n",
      "Epoch 11/20\n",
      "71/71 [==============================] - 3s 47ms/step - loss: 0.0410 - accuracy: 0.9897\n",
      "Epoch 12/20\n",
      "71/71 [==============================] - 3s 47ms/step - loss: 0.0799 - accuracy: 0.9737\n",
      "Epoch 13/20\n",
      "71/71 [==============================] - 3s 47ms/step - loss: 0.0260 - accuracy: 0.9942\n",
      "Epoch 14/20\n",
      "71/71 [==============================] - 3s 47ms/step - loss: 0.0187 - accuracy: 0.9955\n",
      "Epoch 15/20\n",
      "71/71 [==============================] - 3s 47ms/step - loss: 0.0122 - accuracy: 0.9982\n",
      "Epoch 16/20\n",
      "71/71 [==============================] - 3s 47ms/step - loss: 0.0331 - accuracy: 0.9875\n",
      "Epoch 17/20\n",
      "71/71 [==============================] - 3s 47ms/step - loss: 0.0292 - accuracy: 0.9911\n",
      "Epoch 18/20\n",
      "71/71 [==============================] - 3s 47ms/step - loss: 0.0189 - accuracy: 0.9973\n",
      "Epoch 19/20\n",
      "71/71 [==============================] - 3s 47ms/step - loss: 0.0489 - accuracy: 0.9795\n",
      "Epoch 20/20\n",
      "71/71 [==============================] - 3s 47ms/step - loss: 0.0585 - accuracy: 0.9786\n",
      "[INFO] Saving Model for possum fold 1 ...\n",
      "36/36 [==============================] - 0s 10ms/step\n"
     ]
    },
    {
     "name": "stderr",
     "output_type": "stream",
     "text": [
      "C:\\Users\\rudra\\AppData\\Local\\Temp\\ipykernel_6820\\3249705492.py:34: UserWarning: FigureCanvasAgg is non-interactive, and thus cannot be shown\n",
      "  plt.show()\n"
     ]
    },
    {
     "name": "stdout",
     "output_type": "stream",
     "text": [
      "1/1 [==============================] - 0s 72ms/step\n"
     ]
    },
    {
     "name": "stderr",
     "output_type": "stream",
     "text": [
      "C:\\Users\\rudra\\AppData\\Local\\Temp\\ipykernel_6820\\1767733992.py:15: RuntimeWarning: invalid value encountered in divide\n",
      "  channel_image /= channel_image.std()\n",
      "C:\\Users\\rudra\\AppData\\Local\\Temp\\ipykernel_6820\\1767733992.py:18: RuntimeWarning: invalid value encountered in cast\n",
      "  channel_image = np.clip(channel_image, 0, 255).astype('uint8')\n"
     ]
    },
    {
     "name": "stdout",
     "output_type": "stream",
     "text": [
      "[INFO] Training network for possum fold 2...\n",
      "Epoch 1/20\n",
      "71/71 [==============================] - 4s 48ms/step - loss: 0.5371 - accuracy: 0.7218\n",
      "Epoch 2/20\n",
      "71/71 [==============================] - 3s 48ms/step - loss: 0.3884 - accuracy: 0.8288\n",
      "Epoch 3/20\n",
      "71/71 [==============================] - 3s 48ms/step - loss: 0.2680 - accuracy: 0.8903\n",
      "Epoch 4/20\n",
      "71/71 [==============================] - 3s 47ms/step - loss: 0.2871 - accuracy: 0.8841\n",
      "Epoch 5/20\n",
      "71/71 [==============================] - 3s 47ms/step - loss: 0.1923 - accuracy: 0.9273\n",
      "Epoch 6/20\n",
      "71/71 [==============================] - 3s 47ms/step - loss: 0.1431 - accuracy: 0.9429\n",
      "Epoch 7/20\n",
      "71/71 [==============================] - 3s 47ms/step - loss: 0.1168 - accuracy: 0.9608\n",
      "Epoch 8/20\n",
      "71/71 [==============================] - 3s 47ms/step - loss: 0.0869 - accuracy: 0.9728\n",
      "Epoch 9/20\n",
      "71/71 [==============================] - 3s 47ms/step - loss: 0.0602 - accuracy: 0.9804\n",
      "Epoch 10/20\n",
      "71/71 [==============================] - 3s 47ms/step - loss: 0.0338 - accuracy: 0.9893\n",
      "Epoch 11/20\n",
      "71/71 [==============================] - 3s 47ms/step - loss: 0.0364 - accuracy: 0.9880\n",
      "Epoch 12/20\n",
      "71/71 [==============================] - 3s 47ms/step - loss: 0.0773 - accuracy: 0.9710\n",
      "Epoch 13/20\n",
      "71/71 [==============================] - 3s 47ms/step - loss: 0.0455 - accuracy: 0.9871\n",
      "Epoch 14/20\n",
      "71/71 [==============================] - 3s 47ms/step - loss: 0.1332 - accuracy: 0.9492\n",
      "Epoch 15/20\n",
      "71/71 [==============================] - 3s 47ms/step - loss: 0.0893 - accuracy: 0.9679\n",
      "Epoch 16/20\n",
      "71/71 [==============================] - 3s 47ms/step - loss: 0.0479 - accuracy: 0.9844\n",
      "Epoch 17/20\n",
      "71/71 [==============================] - 3s 47ms/step - loss: 0.0221 - accuracy: 0.9947\n",
      "Epoch 18/20\n",
      "71/71 [==============================] - 3s 47ms/step - loss: 0.0155 - accuracy: 0.9969\n",
      "Epoch 19/20\n",
      "71/71 [==============================] - 3s 47ms/step - loss: 0.0186 - accuracy: 0.9938\n",
      "Epoch 20/20\n",
      "71/71 [==============================] - 3s 47ms/step - loss: 0.0197 - accuracy: 0.9933\n",
      "[INFO] Saving Model for possum fold 2 ...\n",
      "36/36 [==============================] - 1s 11ms/step\n"
     ]
    },
    {
     "name": "stderr",
     "output_type": "stream",
     "text": [
      "C:\\Users\\rudra\\AppData\\Local\\Temp\\ipykernel_6820\\3249705492.py:34: UserWarning: FigureCanvasAgg is non-interactive, and thus cannot be shown\n",
      "  plt.show()\n"
     ]
    },
    {
     "name": "stdout",
     "output_type": "stream",
     "text": [
      "1/1 [==============================] - 0s 94ms/step\n"
     ]
    },
    {
     "name": "stderr",
     "output_type": "stream",
     "text": [
      "C:\\Users\\rudra\\AppData\\Local\\Temp\\ipykernel_6820\\1767733992.py:15: RuntimeWarning: invalid value encountered in divide\n",
      "  channel_image /= channel_image.std()\n",
      "C:\\Users\\rudra\\AppData\\Local\\Temp\\ipykernel_6820\\1767733992.py:18: RuntimeWarning: invalid value encountered in cast\n",
      "  channel_image = np.clip(channel_image, 0, 255).astype('uint8')\n"
     ]
    },
    {
     "name": "stdout",
     "output_type": "stream",
     "text": [
      "[INFO] Training network for possum fold 3...\n",
      "Epoch 1/20\n",
      "71/71 [==============================] - 4s 48ms/step - loss: 0.5227 - accuracy: 0.7491\n",
      "Epoch 2/20\n",
      "71/71 [==============================] - 3s 47ms/step - loss: 0.3756 - accuracy: 0.8418\n",
      "Epoch 3/20\n",
      "71/71 [==============================] - 3s 47ms/step - loss: 0.2986 - accuracy: 0.8721\n",
      "Epoch 4/20\n",
      "71/71 [==============================] - 3s 47ms/step - loss: 0.2138 - accuracy: 0.9171\n",
      "Epoch 5/20\n",
      "71/71 [==============================] - 3s 47ms/step - loss: 0.1502 - accuracy: 0.9421\n",
      "Epoch 6/20\n",
      "71/71 [==============================] - 3s 47ms/step - loss: 0.1880 - accuracy: 0.9256\n",
      "Epoch 7/20\n",
      "71/71 [==============================] - 3s 48ms/step - loss: 0.0896 - accuracy: 0.9719\n",
      "Epoch 8/20\n",
      "71/71 [==============================] - 3s 48ms/step - loss: 0.0804 - accuracy: 0.9791\n",
      "Epoch 9/20\n",
      "71/71 [==============================] - 3s 47ms/step - loss: 0.0586 - accuracy: 0.9826\n",
      "Epoch 10/20\n",
      "71/71 [==============================] - 3s 47ms/step - loss: 0.0531 - accuracy: 0.9840\n",
      "Epoch 11/20\n",
      "71/71 [==============================] - 3s 47ms/step - loss: 0.0387 - accuracy: 0.9866\n",
      "Epoch 12/20\n",
      "71/71 [==============================] - 3s 47ms/step - loss: 0.0173 - accuracy: 0.9969\n",
      "Epoch 13/20\n",
      "71/71 [==============================] - 3s 47ms/step - loss: 0.0264 - accuracy: 0.9898\n",
      "Epoch 14/20\n",
      "71/71 [==============================] - 3s 47ms/step - loss: 0.0161 - accuracy: 0.9964\n",
      "Epoch 15/20\n",
      "71/71 [==============================] - 3s 47ms/step - loss: 0.0204 - accuracy: 0.9947\n",
      "Epoch 16/20\n",
      "71/71 [==============================] - 3s 47ms/step - loss: 0.0326 - accuracy: 0.9893\n",
      "Epoch 17/20\n",
      "71/71 [==============================] - 3s 47ms/step - loss: 0.0286 - accuracy: 0.9924\n",
      "Epoch 18/20\n",
      "71/71 [==============================] - 3s 47ms/step - loss: 0.0940 - accuracy: 0.9635\n",
      "Epoch 19/20\n",
      "71/71 [==============================] - 3s 47ms/step - loss: 0.0640 - accuracy: 0.9764\n",
      "Epoch 20/20\n",
      "71/71 [==============================] - 3s 47ms/step - loss: 0.0581 - accuracy: 0.9786\n",
      "[INFO] Saving Model for possum fold 3 ...\n",
      "36/36 [==============================] - 0s 10ms/step\n"
     ]
    },
    {
     "name": "stderr",
     "output_type": "stream",
     "text": [
      "C:\\Users\\rudra\\AppData\\Local\\Temp\\ipykernel_6820\\3249705492.py:34: UserWarning: FigureCanvasAgg is non-interactive, and thus cannot be shown\n",
      "  plt.show()\n"
     ]
    },
    {
     "name": "stdout",
     "output_type": "stream",
     "text": [
      "1/1 [==============================] - 0s 88ms/step\n"
     ]
    },
    {
     "name": "stderr",
     "output_type": "stream",
     "text": [
      "C:\\Users\\rudra\\AppData\\Local\\Temp\\ipykernel_6820\\1767733992.py:15: RuntimeWarning: invalid value encountered in divide\n",
      "  channel_image /= channel_image.std()\n",
      "C:\\Users\\rudra\\AppData\\Local\\Temp\\ipykernel_6820\\1767733992.py:18: RuntimeWarning: invalid value encountered in cast\n",
      "  channel_image = np.clip(channel_image, 0, 255).astype('uint8')\n"
     ]
    },
    {
     "name": "stdout",
     "output_type": "stream",
     "text": [
      "[INFO] Loading images ...\n",
      "[INFO] Processing raccoon ...\n",
      "[INFO] Processing rest ...\n",
      "[INFO] image extract completed\n",
      "total train samples: \n",
      "3448\n",
      "[INFO] Training network for raccoon fold 1...\n",
      "Epoch 1/20\n",
      "71/71 [==============================] - 5s 48ms/step - loss: 0.5434 - accuracy: 0.7328\n",
      "Epoch 2/20\n",
      "71/71 [==============================] - 4s 47ms/step - loss: 0.3752 - accuracy: 0.8350\n",
      "Epoch 3/20\n",
      "71/71 [==============================] - 3s 47ms/step - loss: 0.2786 - accuracy: 0.8813\n",
      "Epoch 4/20\n",
      "71/71 [==============================] - 3s 48ms/step - loss: 0.1694 - accuracy: 0.9369\n",
      "Epoch 5/20\n",
      "71/71 [==============================] - 3s 47ms/step - loss: 0.1905 - accuracy: 0.9241\n",
      "Epoch 6/20\n",
      "71/71 [==============================] - 3s 47ms/step - loss: 0.0940 - accuracy: 0.9682\n",
      "Epoch 7/20\n",
      "71/71 [==============================] - 3s 47ms/step - loss: 0.0584 - accuracy: 0.9810\n",
      "Epoch 8/20\n",
      "71/71 [==============================] - 3s 47ms/step - loss: 0.0606 - accuracy: 0.9793\n",
      "Epoch 9/20\n",
      "71/71 [==============================] - 3s 47ms/step - loss: 0.0373 - accuracy: 0.9868\n",
      "Epoch 10/20\n",
      "71/71 [==============================] - 3s 47ms/step - loss: 0.0274 - accuracy: 0.9912\n",
      "Epoch 11/20\n",
      "71/71 [==============================] - 3s 47ms/step - loss: 0.0454 - accuracy: 0.9859\n",
      "Epoch 12/20\n",
      "71/71 [==============================] - 3s 48ms/step - loss: 0.0669 - accuracy: 0.9775\n",
      "Epoch 13/20\n",
      "71/71 [==============================] - 3s 48ms/step - loss: 0.0297 - accuracy: 0.9912\n",
      "Epoch 14/20\n",
      "71/71 [==============================] - 3s 47ms/step - loss: 0.0142 - accuracy: 0.9982\n",
      "Epoch 15/20\n",
      "71/71 [==============================] - 3s 47ms/step - loss: 0.0275 - accuracy: 0.9898\n",
      "Epoch 16/20\n",
      "71/71 [==============================] - 4s 52ms/step - loss: 0.0172 - accuracy: 0.9960\n",
      "Epoch 17/20\n",
      "71/71 [==============================] - 3s 47ms/step - loss: 0.0096 - accuracy: 0.9978\n",
      "Epoch 18/20\n",
      "71/71 [==============================] - 3s 47ms/step - loss: 0.0199 - accuracy: 0.9943\n",
      "Epoch 19/20\n",
      "71/71 [==============================] - 3s 47ms/step - loss: 0.0281 - accuracy: 0.9907\n",
      "Epoch 20/20\n",
      "71/71 [==============================] - 3s 47ms/step - loss: 0.0151 - accuracy: 0.9960\n",
      "[INFO] Saving Model for raccoon fold 1 ...\n",
      "36/36 [==============================] - 0s 10ms/step\n"
     ]
    },
    {
     "name": "stderr",
     "output_type": "stream",
     "text": [
      "C:\\Users\\rudra\\AppData\\Local\\Temp\\ipykernel_6820\\3249705492.py:34: UserWarning: FigureCanvasAgg is non-interactive, and thus cannot be shown\n",
      "  plt.show()\n"
     ]
    },
    {
     "name": "stdout",
     "output_type": "stream",
     "text": [
      "1/1 [==============================] - 0s 47ms/step\n",
      "[INFO] Training network for raccoon fold 2...\n",
      "Epoch 1/20\n",
      "71/71 [==============================] - 4s 48ms/step - loss: 0.4578 - accuracy: 0.7927\n",
      "Epoch 2/20\n",
      "71/71 [==============================] - 4s 47ms/step - loss: 0.2856 - accuracy: 0.8871\n",
      "Epoch 3/20\n",
      "71/71 [==============================] - 3s 47ms/step - loss: 0.2122 - accuracy: 0.9285\n",
      "Epoch 4/20\n",
      "71/71 [==============================] - 3s 47ms/step - loss: 0.1713 - accuracy: 0.9374\n",
      "Epoch 5/20\n",
      "71/71 [==============================] - 3s 47ms/step - loss: 0.0983 - accuracy: 0.9660\n",
      "Epoch 6/20\n",
      "71/71 [==============================] - 3s 47ms/step - loss: 0.0860 - accuracy: 0.9696\n",
      "Epoch 7/20\n",
      "71/71 [==============================] - 3s 47ms/step - loss: 0.0610 - accuracy: 0.9801\n",
      "Epoch 8/20\n",
      "71/71 [==============================] - 3s 47ms/step - loss: 0.0431 - accuracy: 0.9872\n",
      "Epoch 9/20\n",
      "71/71 [==============================] - 3s 47ms/step - loss: 0.0456 - accuracy: 0.9863\n",
      "Epoch 10/20\n",
      "71/71 [==============================] - 3s 47ms/step - loss: 0.0355 - accuracy: 0.9876\n",
      "Epoch 11/20\n",
      "71/71 [==============================] - 3s 47ms/step - loss: 0.0368 - accuracy: 0.9872\n",
      "Epoch 12/20\n",
      "71/71 [==============================] - 3s 47ms/step - loss: 0.0222 - accuracy: 0.9934\n",
      "Epoch 13/20\n",
      "71/71 [==============================] - 3s 47ms/step - loss: 0.0169 - accuracy: 0.9943\n",
      "Epoch 14/20\n",
      "71/71 [==============================] - 3s 47ms/step - loss: 0.0180 - accuracy: 0.9929\n",
      "Epoch 15/20\n",
      "71/71 [==============================] - 3s 47ms/step - loss: 0.0154 - accuracy: 0.9956\n",
      "Epoch 16/20\n",
      "71/71 [==============================] - 3s 47ms/step - loss: 0.0202 - accuracy: 0.9943\n",
      "Epoch 17/20\n",
      "71/71 [==============================] - 3s 47ms/step - loss: 0.0346 - accuracy: 0.9890\n",
      "Epoch 18/20\n",
      "71/71 [==============================] - 3s 47ms/step - loss: 0.0371 - accuracy: 0.9841\n",
      "Epoch 19/20\n",
      "71/71 [==============================] - 3s 47ms/step - loss: 0.0199 - accuracy: 0.9951\n",
      "Epoch 20/20\n",
      "71/71 [==============================] - 3s 47ms/step - loss: 0.0239 - accuracy: 0.9916\n",
      "[INFO] Saving Model for raccoon fold 2 ...\n",
      "36/36 [==============================] - 0s 10ms/step\n"
     ]
    },
    {
     "name": "stderr",
     "output_type": "stream",
     "text": [
      "C:\\Users\\rudra\\AppData\\Local\\Temp\\ipykernel_6820\\3249705492.py:34: UserWarning: FigureCanvasAgg is non-interactive, and thus cannot be shown\n",
      "  plt.show()\n"
     ]
    },
    {
     "name": "stdout",
     "output_type": "stream",
     "text": [
      "1/1 [==============================] - 0s 63ms/step\n"
     ]
    },
    {
     "name": "stderr",
     "output_type": "stream",
     "text": [
      "C:\\Users\\rudra\\AppData\\Local\\Temp\\ipykernel_6820\\1767733992.py:15: RuntimeWarning: invalid value encountered in divide\n",
      "  channel_image /= channel_image.std()\n",
      "C:\\Users\\rudra\\AppData\\Local\\Temp\\ipykernel_6820\\1767733992.py:18: RuntimeWarning: invalid value encountered in cast\n",
      "  channel_image = np.clip(channel_image, 0, 255).astype('uint8')\n"
     ]
    },
    {
     "name": "stdout",
     "output_type": "stream",
     "text": [
      "[INFO] Training network for raccoon fold 3...\n",
      "Epoch 1/20\n",
      "71/71 [==============================] - 4s 48ms/step - loss: 0.5227 - accuracy: 0.7522\n",
      "Epoch 2/20\n",
      "71/71 [==============================] - 3s 47ms/step - loss: 0.3145 - accuracy: 0.8730\n",
      "Epoch 3/20\n",
      "71/71 [==============================] - 3s 47ms/step - loss: 0.2069 - accuracy: 0.9246\n",
      "Epoch 4/20\n",
      "71/71 [==============================] - 3s 47ms/step - loss: 0.1432 - accuracy: 0.9422\n",
      "Epoch 5/20\n",
      "71/71 [==============================] - 3s 47ms/step - loss: 0.1482 - accuracy: 0.9497\n",
      "Epoch 6/20\n",
      "71/71 [==============================] - 3s 47ms/step - loss: 0.0866 - accuracy: 0.9696\n",
      "Epoch 7/20\n",
      "71/71 [==============================] - 3s 47ms/step - loss: 0.0614 - accuracy: 0.9793\n",
      "Epoch 8/20\n",
      "71/71 [==============================] - 3s 47ms/step - loss: 0.0622 - accuracy: 0.9801\n",
      "Epoch 9/20\n",
      "71/71 [==============================] - 3s 47ms/step - loss: 0.0551 - accuracy: 0.9828\n",
      "Epoch 10/20\n",
      "71/71 [==============================] - 3s 47ms/step - loss: 0.0353 - accuracy: 0.9876\n",
      "Epoch 11/20\n",
      "71/71 [==============================] - 3s 47ms/step - loss: 0.0248 - accuracy: 0.9921\n",
      "Epoch 12/20\n",
      "71/71 [==============================] - 3s 47ms/step - loss: 0.0396 - accuracy: 0.9876\n",
      "Epoch 13/20\n",
      "71/71 [==============================] - 3s 47ms/step - loss: 0.0221 - accuracy: 0.9925\n",
      "Epoch 14/20\n",
      "71/71 [==============================] - 3s 47ms/step - loss: 0.0119 - accuracy: 0.9978\n",
      "Epoch 15/20\n",
      "71/71 [==============================] - 3s 46ms/step - loss: 0.0142 - accuracy: 0.9956\n",
      "Epoch 16/20\n",
      "71/71 [==============================] - 3s 47ms/step - loss: 0.0125 - accuracy: 0.9965\n",
      "Epoch 17/20\n",
      "71/71 [==============================] - 3s 47ms/step - loss: 0.0279 - accuracy: 0.9929\n",
      "Epoch 18/20\n",
      "71/71 [==============================] - 3s 47ms/step - loss: 0.0097 - accuracy: 0.9974\n",
      "Epoch 19/20\n",
      "71/71 [==============================] - 3s 47ms/step - loss: 0.0101 - accuracy: 0.9978\n",
      "Epoch 20/20\n",
      "71/71 [==============================] - 3s 47ms/step - loss: 0.0580 - accuracy: 0.9810\n",
      "[INFO] Saving Model for raccoon fold 3 ...\n",
      "36/36 [==============================] - 1s 10ms/step\n"
     ]
    },
    {
     "name": "stderr",
     "output_type": "stream",
     "text": [
      "C:\\Users\\rudra\\AppData\\Local\\Temp\\ipykernel_6820\\3249705492.py:34: UserWarning: FigureCanvasAgg is non-interactive, and thus cannot be shown\n",
      "  plt.show()\n"
     ]
    },
    {
     "name": "stdout",
     "output_type": "stream",
     "text": [
      "1/1 [==============================] - 0s 47ms/step\n"
     ]
    },
    {
     "name": "stderr",
     "output_type": "stream",
     "text": [
      "C:\\Users\\rudra\\AppData\\Local\\Temp\\ipykernel_6820\\1767733992.py:15: RuntimeWarning: invalid value encountered in divide\n",
      "  channel_image /= channel_image.std()\n",
      "C:\\Users\\rudra\\AppData\\Local\\Temp\\ipykernel_6820\\1767733992.py:18: RuntimeWarning: invalid value encountered in cast\n",
      "  channel_image = np.clip(channel_image, 0, 255).astype('uint8')\n"
     ]
    },
    {
     "name": "stdout",
     "output_type": "stream",
     "text": [
      "[INFO] Loading images ...\n",
      "[INFO] Processing rat ...\n",
      "[INFO] Processing rest ...\n",
      "[INFO] image extract completed\n",
      "total train samples: \n",
      "3417\n",
      "[INFO] Training network for rat fold 1...\n",
      "Epoch 1/20\n",
      "71/71 [==============================] - 5s 48ms/step - loss: 0.4192 - accuracy: 0.8160\n",
      "Epoch 2/20\n",
      "71/71 [==============================] - 3s 48ms/step - loss: 0.2918 - accuracy: 0.8900\n",
      "Epoch 3/20\n",
      "71/71 [==============================] - 3s 47ms/step - loss: 0.2374 - accuracy: 0.9163\n",
      "Epoch 4/20\n",
      "71/71 [==============================] - 3s 47ms/step - loss: 0.1580 - accuracy: 0.9417\n",
      "Epoch 5/20\n",
      "71/71 [==============================] - 3s 47ms/step - loss: 0.1304 - accuracy: 0.9555\n",
      "Epoch 6/20\n",
      "71/71 [==============================] - 3s 47ms/step - loss: 0.0895 - accuracy: 0.9706\n",
      "Epoch 7/20\n",
      "71/71 [==============================] - 3s 47ms/step - loss: 0.0877 - accuracy: 0.9697\n",
      "Epoch 8/20\n",
      "71/71 [==============================] - 3s 47ms/step - loss: 0.0632 - accuracy: 0.9800\n",
      "Epoch 9/20\n",
      "71/71 [==============================] - 3s 47ms/step - loss: 0.0735 - accuracy: 0.9728\n",
      "Epoch 10/20\n",
      "71/71 [==============================] - 3s 47ms/step - loss: 0.0466 - accuracy: 0.9871\n",
      "Epoch 11/20\n",
      "71/71 [==============================] - 3s 47ms/step - loss: 0.0321 - accuracy: 0.9893\n",
      "Epoch 12/20\n",
      "71/71 [==============================] - 3s 47ms/step - loss: 0.0218 - accuracy: 0.9942\n",
      "Epoch 13/20\n",
      "71/71 [==============================] - 3s 47ms/step - loss: 0.0266 - accuracy: 0.9911\n",
      "Epoch 14/20\n",
      "71/71 [==============================] - 3s 47ms/step - loss: 0.0579 - accuracy: 0.9786\n",
      "Epoch 15/20\n",
      "71/71 [==============================] - 3s 47ms/step - loss: 0.0392 - accuracy: 0.9840\n",
      "Epoch 16/20\n",
      "71/71 [==============================] - 3s 47ms/step - loss: 0.0133 - accuracy: 0.9973\n",
      "Epoch 17/20\n",
      "71/71 [==============================] - 3s 47ms/step - loss: 0.0105 - accuracy: 0.9969\n",
      "Epoch 18/20\n",
      "71/71 [==============================] - 3s 47ms/step - loss: 0.0078 - accuracy: 0.9982\n",
      "Epoch 19/20\n",
      "71/71 [==============================] - 3s 47ms/step - loss: 0.0231 - accuracy: 0.9929\n",
      "Epoch 20/20\n",
      "71/71 [==============================] - 3s 47ms/step - loss: 0.0370 - accuracy: 0.9898\n",
      "[INFO] Saving Model for rat fold 1 ...\n",
      "36/36 [==============================] - 0s 10ms/step\n"
     ]
    },
    {
     "name": "stderr",
     "output_type": "stream",
     "text": [
      "C:\\Users\\rudra\\AppData\\Local\\Temp\\ipykernel_6820\\3249705492.py:34: UserWarning: FigureCanvasAgg is non-interactive, and thus cannot be shown\n",
      "  plt.show()\n"
     ]
    },
    {
     "name": "stdout",
     "output_type": "stream",
     "text": [
      "1/1 [==============================] - 0s 74ms/step\n"
     ]
    },
    {
     "name": "stderr",
     "output_type": "stream",
     "text": [
      "C:\\Users\\rudra\\AppData\\Local\\Temp\\ipykernel_6820\\1767733992.py:15: RuntimeWarning: invalid value encountered in divide\n",
      "  channel_image /= channel_image.std()\n",
      "C:\\Users\\rudra\\AppData\\Local\\Temp\\ipykernel_6820\\1767733992.py:18: RuntimeWarning: invalid value encountered in cast\n",
      "  channel_image = np.clip(channel_image, 0, 255).astype('uint8')\n"
     ]
    },
    {
     "name": "stdout",
     "output_type": "stream",
     "text": [
      "[INFO] Training network for rat fold 2...\n",
      "Epoch 1/20\n",
      "71/71 [==============================] - 4s 48ms/step - loss: 0.4451 - accuracy: 0.7905\n",
      "Epoch 2/20\n",
      "71/71 [==============================] - 3s 47ms/step - loss: 0.3093 - accuracy: 0.8807\n",
      "Epoch 3/20\n",
      "71/71 [==============================] - 3s 47ms/step - loss: 0.2548 - accuracy: 0.9043\n",
      "Epoch 4/20\n",
      "71/71 [==============================] - 3s 47ms/step - loss: 0.1744 - accuracy: 0.9292\n",
      "Epoch 5/20\n",
      "71/71 [==============================] - 3s 47ms/step - loss: 0.1262 - accuracy: 0.9590\n",
      "Epoch 6/20\n",
      "71/71 [==============================] - 3s 47ms/step - loss: 0.1419 - accuracy: 0.9497\n",
      "Epoch 7/20\n",
      "71/71 [==============================] - 3s 47ms/step - loss: 0.1028 - accuracy: 0.9697\n",
      "Epoch 8/20\n",
      "71/71 [==============================] - 3s 47ms/step - loss: 0.1174 - accuracy: 0.9617\n",
      "Epoch 9/20\n",
      "71/71 [==============================] - 3s 47ms/step - loss: 0.0621 - accuracy: 0.9777\n",
      "Epoch 10/20\n",
      "71/71 [==============================] - 3s 47ms/step - loss: 0.0449 - accuracy: 0.9893\n",
      "Epoch 11/20\n",
      "71/71 [==============================] - 3s 47ms/step - loss: 0.0417 - accuracy: 0.9871\n",
      "Epoch 12/20\n",
      "71/71 [==============================] - 3s 47ms/step - loss: 0.0474 - accuracy: 0.9862\n",
      "Epoch 13/20\n",
      "71/71 [==============================] - 3s 47ms/step - loss: 0.0484 - accuracy: 0.9853\n",
      "Epoch 14/20\n",
      "71/71 [==============================] - 3s 47ms/step - loss: 0.0369 - accuracy: 0.9880\n",
      "Epoch 15/20\n",
      "71/71 [==============================] - 3s 47ms/step - loss: 0.0210 - accuracy: 0.9955\n",
      "Epoch 16/20\n",
      "71/71 [==============================] - 3s 47ms/step - loss: 0.0213 - accuracy: 0.9938\n",
      "Epoch 17/20\n",
      "71/71 [==============================] - 3s 47ms/step - loss: 0.0169 - accuracy: 0.9955\n",
      "Epoch 18/20\n",
      "71/71 [==============================] - 3s 47ms/step - loss: 0.0927 - accuracy: 0.9662\n",
      "Epoch 19/20\n",
      "71/71 [==============================] - 3s 47ms/step - loss: 0.0423 - accuracy: 0.9898\n",
      "Epoch 20/20\n",
      "71/71 [==============================] - 3s 47ms/step - loss: 0.0140 - accuracy: 0.9982\n",
      "[INFO] Saving Model for rat fold 2 ...\n",
      "36/36 [==============================] - 0s 10ms/step\n"
     ]
    },
    {
     "name": "stderr",
     "output_type": "stream",
     "text": [
      "C:\\Users\\rudra\\AppData\\Local\\Temp\\ipykernel_6820\\3249705492.py:34: UserWarning: FigureCanvasAgg is non-interactive, and thus cannot be shown\n",
      "  plt.show()\n"
     ]
    },
    {
     "name": "stdout",
     "output_type": "stream",
     "text": [
      "1/1 [==============================] - 0s 78ms/step\n"
     ]
    },
    {
     "name": "stderr",
     "output_type": "stream",
     "text": [
      "C:\\Users\\rudra\\AppData\\Local\\Temp\\ipykernel_6820\\1767733992.py:15: RuntimeWarning: invalid value encountered in divide\n",
      "  channel_image /= channel_image.std()\n",
      "C:\\Users\\rudra\\AppData\\Local\\Temp\\ipykernel_6820\\1767733992.py:18: RuntimeWarning: invalid value encountered in cast\n",
      "  channel_image = np.clip(channel_image, 0, 255).astype('uint8')\n"
     ]
    },
    {
     "name": "stdout",
     "output_type": "stream",
     "text": [
      "[INFO] Training network for rat fold 3...\n",
      "Epoch 1/20\n",
      "71/71 [==============================] - 4s 48ms/step - loss: 0.4312 - accuracy: 0.7962\n",
      "Epoch 2/20\n",
      "71/71 [==============================] - 3s 48ms/step - loss: 0.3236 - accuracy: 0.8762\n",
      "Epoch 3/20\n",
      "71/71 [==============================] - 3s 47ms/step - loss: 0.2633 - accuracy: 0.8945\n",
      "Epoch 4/20\n",
      "71/71 [==============================] - 3s 47ms/step - loss: 0.2152 - accuracy: 0.9136\n",
      "Epoch 5/20\n",
      "71/71 [==============================] - 3s 47ms/step - loss: 0.1530 - accuracy: 0.9430\n",
      "Epoch 6/20\n",
      "71/71 [==============================] - 3s 47ms/step - loss: 0.2431 - accuracy: 0.9025\n",
      "Epoch 7/20\n",
      "71/71 [==============================] - 3s 47ms/step - loss: 0.1174 - accuracy: 0.9635\n",
      "Epoch 8/20\n",
      "71/71 [==============================] - 3s 47ms/step - loss: 0.0919 - accuracy: 0.9679\n",
      "Epoch 9/20\n",
      "71/71 [==============================] - 3s 47ms/step - loss: 0.0682 - accuracy: 0.9764\n",
      "Epoch 10/20\n",
      "71/71 [==============================] - 3s 47ms/step - loss: 0.0722 - accuracy: 0.9742\n",
      "Epoch 11/20\n",
      "71/71 [==============================] - 3s 47ms/step - loss: 0.0352 - accuracy: 0.9898\n",
      "Epoch 12/20\n",
      "71/71 [==============================] - 3s 47ms/step - loss: 0.0498 - accuracy: 0.9813\n",
      "Epoch 13/20\n",
      "71/71 [==============================] - 3s 47ms/step - loss: 0.0438 - accuracy: 0.9853\n",
      "Epoch 14/20\n",
      "71/71 [==============================] - 3s 47ms/step - loss: 0.0373 - accuracy: 0.9902\n",
      "Epoch 15/20\n",
      "71/71 [==============================] - 3s 47ms/step - loss: 0.0201 - accuracy: 0.9942\n",
      "Epoch 16/20\n",
      "71/71 [==============================] - 3s 47ms/step - loss: 0.0571 - accuracy: 0.9768\n",
      "Epoch 17/20\n",
      "71/71 [==============================] - 3s 47ms/step - loss: 0.0264 - accuracy: 0.9947\n",
      "Epoch 18/20\n",
      "71/71 [==============================] - 3s 47ms/step - loss: 0.0228 - accuracy: 0.9942\n",
      "Epoch 19/20\n",
      "71/71 [==============================] - 3s 47ms/step - loss: 0.0249 - accuracy: 0.9915\n",
      "Epoch 20/20\n",
      "71/71 [==============================] - 3s 47ms/step - loss: 0.0228 - accuracy: 0.9951\n",
      "[INFO] Saving Model for rat fold 3 ...\n",
      "36/36 [==============================] - 0s 10ms/step\n"
     ]
    },
    {
     "name": "stderr",
     "output_type": "stream",
     "text": [
      "C:\\Users\\rudra\\AppData\\Local\\Temp\\ipykernel_6820\\3249705492.py:34: UserWarning: FigureCanvasAgg is non-interactive, and thus cannot be shown\n",
      "  plt.show()\n"
     ]
    },
    {
     "name": "stdout",
     "output_type": "stream",
     "text": [
      "1/1 [==============================] - 0s 63ms/step\n"
     ]
    },
    {
     "name": "stderr",
     "output_type": "stream",
     "text": [
      "C:\\Users\\rudra\\AppData\\Local\\Temp\\ipykernel_6820\\1767733992.py:15: RuntimeWarning: invalid value encountered in divide\n",
      "  channel_image /= channel_image.std()\n",
      "C:\\Users\\rudra\\AppData\\Local\\Temp\\ipykernel_6820\\1767733992.py:18: RuntimeWarning: invalid value encountered in cast\n",
      "  channel_image = np.clip(channel_image, 0, 255).astype('uint8')\n"
     ]
    },
    {
     "name": "stdout",
     "output_type": "stream",
     "text": [
      "[INFO] Loading images ...\n",
      "[INFO] Processing reindeer ...\n",
      "[INFO] Processing rest ...\n",
      "[INFO] image extract completed\n",
      "total train samples: \n",
      "3435\n",
      "[INFO] Training network for reindeer fold 1...\n",
      "Epoch 1/20\n",
      "71/71 [==============================] - 4s 48ms/step - loss: 0.5052 - accuracy: 0.7544\n",
      "Epoch 2/20\n",
      "71/71 [==============================] - 3s 47ms/step - loss: 0.3236 - accuracy: 0.8667\n",
      "Epoch 3/20\n",
      "71/71 [==============================] - 3s 47ms/step - loss: 0.2402 - accuracy: 0.9105\n",
      "Epoch 4/20\n",
      "71/71 [==============================] - 3s 47ms/step - loss: 0.1599 - accuracy: 0.9402\n",
      "Epoch 5/20\n",
      "71/71 [==============================] - 3s 47ms/step - loss: 0.1363 - accuracy: 0.9539\n",
      "Epoch 6/20\n",
      "71/71 [==============================] - 3s 47ms/step - loss: 0.0729 - accuracy: 0.9756\n",
      "Epoch 7/20\n",
      "71/71 [==============================] - 3s 47ms/step - loss: 0.0747 - accuracy: 0.9770\n",
      "Epoch 8/20\n",
      "71/71 [==============================] - 3s 47ms/step - loss: 0.0467 - accuracy: 0.9885\n",
      "Epoch 9/20\n",
      "71/71 [==============================] - 3s 47ms/step - loss: 0.0492 - accuracy: 0.9832\n",
      "Epoch 10/20\n",
      "71/71 [==============================] - 3s 47ms/step - loss: 0.0416 - accuracy: 0.9832\n",
      "Epoch 11/20\n",
      "71/71 [==============================] - 3s 47ms/step - loss: 0.0308 - accuracy: 0.9925\n",
      "Epoch 12/20\n",
      "71/71 [==============================] - 3s 47ms/step - loss: 0.0450 - accuracy: 0.9872\n",
      "Epoch 13/20\n",
      "71/71 [==============================] - 3s 47ms/step - loss: 0.0327 - accuracy: 0.9911\n",
      "Epoch 14/20\n",
      "71/71 [==============================] - 3s 47ms/step - loss: 0.0206 - accuracy: 0.9947\n",
      "Epoch 15/20\n",
      "71/71 [==============================] - 3s 47ms/step - loss: 0.0200 - accuracy: 0.9947\n",
      "Epoch 16/20\n",
      "71/71 [==============================] - 3s 47ms/step - loss: 0.0227 - accuracy: 0.9916\n",
      "Epoch 17/20\n",
      "71/71 [==============================] - 3s 47ms/step - loss: 0.0148 - accuracy: 0.9960\n",
      "Epoch 18/20\n",
      "71/71 [==============================] - 3s 47ms/step - loss: 0.0131 - accuracy: 0.9973\n",
      "Epoch 19/20\n",
      "71/71 [==============================] - 3s 47ms/step - loss: 0.0242 - accuracy: 0.9925\n",
      "Epoch 20/20\n",
      "71/71 [==============================] - 3s 47ms/step - loss: 0.0187 - accuracy: 0.9911\n",
      "[INFO] Saving Model for reindeer fold 1 ...\n",
      "36/36 [==============================] - 0s 10ms/step\n"
     ]
    },
    {
     "name": "stderr",
     "output_type": "stream",
     "text": [
      "C:\\Users\\rudra\\AppData\\Local\\Temp\\ipykernel_6820\\3249705492.py:34: UserWarning: FigureCanvasAgg is non-interactive, and thus cannot be shown\n",
      "  plt.show()\n"
     ]
    },
    {
     "name": "stdout",
     "output_type": "stream",
     "text": [
      "1/1 [==============================] - 0s 55ms/step\n"
     ]
    },
    {
     "name": "stderr",
     "output_type": "stream",
     "text": [
      "C:\\Users\\rudra\\AppData\\Local\\Temp\\ipykernel_6820\\1767733992.py:15: RuntimeWarning: invalid value encountered in divide\n",
      "  channel_image /= channel_image.std()\n",
      "C:\\Users\\rudra\\AppData\\Local\\Temp\\ipykernel_6820\\1767733992.py:18: RuntimeWarning: invalid value encountered in cast\n",
      "  channel_image = np.clip(channel_image, 0, 255).astype('uint8')\n"
     ]
    },
    {
     "name": "stdout",
     "output_type": "stream",
     "text": [
      "[INFO] Training network for reindeer fold 2...\n",
      "Epoch 1/20\n",
      "71/71 [==============================] - 4s 48ms/step - loss: 0.4950 - accuracy: 0.7632\n",
      "Epoch 2/20\n",
      "71/71 [==============================] - 3s 47ms/step - loss: 0.3178 - accuracy: 0.8729\n",
      "Epoch 3/20\n",
      "71/71 [==============================] - 3s 47ms/step - loss: 0.2915 - accuracy: 0.8849\n",
      "Epoch 4/20\n",
      "71/71 [==============================] - 3s 47ms/step - loss: 0.1698 - accuracy: 0.9371\n",
      "Epoch 5/20\n",
      "71/71 [==============================] - 3s 47ms/step - loss: 0.1587 - accuracy: 0.9429\n",
      "Epoch 6/20\n",
      "71/71 [==============================] - 3s 48ms/step - loss: 0.0945 - accuracy: 0.9686\n",
      "Epoch 7/20\n",
      "71/71 [==============================] - 3s 47ms/step - loss: 0.0605 - accuracy: 0.9792\n",
      "Epoch 8/20\n",
      "71/71 [==============================] - 3s 47ms/step - loss: 0.0509 - accuracy: 0.9867\n",
      "Epoch 9/20\n",
      "71/71 [==============================] - 3s 47ms/step - loss: 0.0428 - accuracy: 0.9885\n",
      "Epoch 10/20\n",
      "71/71 [==============================] - 3s 47ms/step - loss: 0.0438 - accuracy: 0.9854\n",
      "Epoch 11/20\n",
      "71/71 [==============================] - 3s 48ms/step - loss: 0.0271 - accuracy: 0.9903\n",
      "Epoch 12/20\n",
      "71/71 [==============================] - 3s 48ms/step - loss: 0.0326 - accuracy: 0.9903\n",
      "Epoch 13/20\n",
      "71/71 [==============================] - 3s 48ms/step - loss: 0.0219 - accuracy: 0.9942\n",
      "Epoch 14/20\n",
      "71/71 [==============================] - 3s 48ms/step - loss: 0.0185 - accuracy: 0.9947\n",
      "Epoch 15/20\n",
      "71/71 [==============================] - 3s 47ms/step - loss: 0.0171 - accuracy: 0.9956\n",
      "Epoch 16/20\n",
      "71/71 [==============================] - 3s 47ms/step - loss: 0.0222 - accuracy: 0.9938\n",
      "Epoch 17/20\n",
      "71/71 [==============================] - 3s 48ms/step - loss: 0.0150 - accuracy: 0.9960\n",
      "Epoch 18/20\n",
      "71/71 [==============================] - 3s 47ms/step - loss: 0.0171 - accuracy: 0.9942\n",
      "Epoch 19/20\n",
      "71/71 [==============================] - 3s 48ms/step - loss: 0.0103 - accuracy: 0.9982\n",
      "Epoch 20/20\n",
      "71/71 [==============================] - 3s 48ms/step - loss: 0.0194 - accuracy: 0.9942\n",
      "[INFO] Saving Model for reindeer fold 2 ...\n",
      "36/36 [==============================] - 0s 10ms/step\n"
     ]
    },
    {
     "name": "stderr",
     "output_type": "stream",
     "text": [
      "C:\\Users\\rudra\\AppData\\Local\\Temp\\ipykernel_6820\\3249705492.py:34: UserWarning: FigureCanvasAgg is non-interactive, and thus cannot be shown\n",
      "  plt.show()\n"
     ]
    },
    {
     "name": "stdout",
     "output_type": "stream",
     "text": [
      "1/1 [==============================] - 0s 80ms/step\n",
      "[INFO] Training network for reindeer fold 3...\n",
      "Epoch 1/20\n",
      "71/71 [==============================] - 4s 48ms/step - loss: 0.4983 - accuracy: 0.7641\n",
      "Epoch 2/20\n",
      "71/71 [==============================] - 3s 47ms/step - loss: 0.3341 - accuracy: 0.8636\n",
      "Epoch 3/20\n",
      "71/71 [==============================] - 3s 47ms/step - loss: 0.2632 - accuracy: 0.8990\n",
      "Epoch 4/20\n",
      "71/71 [==============================] - 3s 47ms/step - loss: 0.1861 - accuracy: 0.9300\n",
      "Epoch 5/20\n",
      "71/71 [==============================] - 3s 47ms/step - loss: 0.1309 - accuracy: 0.9526\n",
      "Epoch 6/20\n",
      "71/71 [==============================] - 3s 47ms/step - loss: 0.1201 - accuracy: 0.9593\n",
      "Epoch 7/20\n",
      "71/71 [==============================] - 3s 47ms/step - loss: 0.0782 - accuracy: 0.9752\n",
      "Epoch 8/20\n",
      "71/71 [==============================] - 3s 47ms/step - loss: 0.0474 - accuracy: 0.9867\n",
      "Epoch 9/20\n",
      "71/71 [==============================] - 3s 47ms/step - loss: 0.0606 - accuracy: 0.9787\n",
      "Epoch 10/20\n",
      "71/71 [==============================] - 3s 47ms/step - loss: 0.0511 - accuracy: 0.9854\n",
      "Epoch 11/20\n",
      "71/71 [==============================] - 3s 47ms/step - loss: 0.0359 - accuracy: 0.9880\n",
      "Epoch 12/20\n",
      "71/71 [==============================] - 3s 47ms/step - loss: 0.0340 - accuracy: 0.9889\n",
      "Epoch 13/20\n",
      "71/71 [==============================] - 3s 47ms/step - loss: 0.0108 - accuracy: 0.9982\n",
      "Epoch 14/20\n",
      "71/71 [==============================] - 3s 47ms/step - loss: 0.0104 - accuracy: 0.9978\n",
      "Epoch 15/20\n",
      "71/71 [==============================] - 3s 47ms/step - loss: 0.0211 - accuracy: 0.9960\n",
      "Epoch 16/20\n",
      "71/71 [==============================] - 3s 47ms/step - loss: 0.0394 - accuracy: 0.9872\n",
      "Epoch 17/20\n",
      "71/71 [==============================] - 3s 47ms/step - loss: 0.0447 - accuracy: 0.9849\n",
      "Epoch 18/20\n",
      "71/71 [==============================] - 3s 47ms/step - loss: 0.0296 - accuracy: 0.9894\n",
      "Epoch 19/20\n",
      "71/71 [==============================] - 3s 47ms/step - loss: 0.0250 - accuracy: 0.9925\n",
      "Epoch 20/20\n",
      "71/71 [==============================] - 3s 47ms/step - loss: 0.0316 - accuracy: 0.9889\n",
      "[INFO] Saving Model for reindeer fold 3 ...\n",
      "36/36 [==============================] - 0s 10ms/step\n"
     ]
    },
    {
     "name": "stderr",
     "output_type": "stream",
     "text": [
      "C:\\Users\\rudra\\AppData\\Local\\Temp\\ipykernel_6820\\3249705492.py:34: UserWarning: FigureCanvasAgg is non-interactive, and thus cannot be shown\n",
      "  plt.show()\n"
     ]
    },
    {
     "name": "stdout",
     "output_type": "stream",
     "text": [
      "1/1 [==============================] - 0s 67ms/step\n"
     ]
    },
    {
     "name": "stderr",
     "output_type": "stream",
     "text": [
      "C:\\Users\\rudra\\AppData\\Local\\Temp\\ipykernel_6820\\1767733992.py:15: RuntimeWarning: invalid value encountered in divide\n",
      "  channel_image /= channel_image.std()\n",
      "C:\\Users\\rudra\\AppData\\Local\\Temp\\ipykernel_6820\\1767733992.py:18: RuntimeWarning: invalid value encountered in cast\n",
      "  channel_image = np.clip(channel_image, 0, 255).astype('uint8')\n"
     ]
    },
    {
     "name": "stdout",
     "output_type": "stream",
     "text": [
      "[INFO] Loading images ...\n",
      "[INFO] Processing rest ...\n",
      "[INFO] Processing rhinoceros ...\n",
      "[INFO] image extract completed\n",
      "total train samples: \n",
      "3423\n",
      "[INFO] Training network for rhinoceros fold 1...\n",
      "Epoch 1/20\n",
      "71/71 [==============================] - 5s 48ms/step - loss: 0.5565 - accuracy: 0.7302\n",
      "Epoch 2/20\n",
      "71/71 [==============================] - 3s 47ms/step - loss: 0.4491 - accuracy: 0.7844\n",
      "Epoch 3/20\n",
      "71/71 [==============================] - 3s 47ms/step - loss: 0.3547 - accuracy: 0.8422\n",
      "Epoch 4/20\n",
      "71/71 [==============================] - 3s 47ms/step - loss: 0.3057 - accuracy: 0.8760\n",
      "Epoch 5/20\n",
      "71/71 [==============================] - 3s 47ms/step - loss: 0.2112 - accuracy: 0.9173\n",
      "Epoch 6/20\n",
      "71/71 [==============================] - 3s 47ms/step - loss: 0.1268 - accuracy: 0.9564\n",
      "Epoch 7/20\n",
      "71/71 [==============================] - 3s 47ms/step - loss: 0.1171 - accuracy: 0.9604\n",
      "Epoch 8/20\n",
      "71/71 [==============================] - 3s 47ms/step - loss: 0.1248 - accuracy: 0.9560\n",
      "Epoch 9/20\n",
      "71/71 [==============================] - 3s 47ms/step - loss: 0.0854 - accuracy: 0.9729\n",
      "Epoch 10/20\n",
      "71/71 [==============================] - 3s 47ms/step - loss: 0.0510 - accuracy: 0.9858\n",
      "Epoch 11/20\n",
      "71/71 [==============================] - 3s 47ms/step - loss: 0.0474 - accuracy: 0.9849\n",
      "Epoch 12/20\n",
      "71/71 [==============================] - 3s 47ms/step - loss: 0.0309 - accuracy: 0.9920\n",
      "Epoch 13/20\n",
      "71/71 [==============================] - 3s 47ms/step - loss: 0.0236 - accuracy: 0.9920\n",
      "Epoch 14/20\n",
      "71/71 [==============================] - 3s 47ms/step - loss: 0.0423 - accuracy: 0.9876\n",
      "Epoch 15/20\n",
      "71/71 [==============================] - 3s 47ms/step - loss: 0.0313 - accuracy: 0.9893\n",
      "Epoch 16/20\n",
      "71/71 [==============================] - 3s 47ms/step - loss: 0.0156 - accuracy: 0.9960\n",
      "Epoch 17/20\n",
      "71/71 [==============================] - 3s 47ms/step - loss: 0.0118 - accuracy: 0.9978\n",
      "Epoch 18/20\n",
      "71/71 [==============================] - 3s 47ms/step - loss: 0.0337 - accuracy: 0.9876\n",
      "Epoch 19/20\n",
      "71/71 [==============================] - 3s 47ms/step - loss: 0.0237 - accuracy: 0.9929\n",
      "Epoch 20/20\n",
      "71/71 [==============================] - 3s 47ms/step - loss: 0.0640 - accuracy: 0.9756\n",
      "[INFO] Saving Model for rhinoceros fold 1 ...\n",
      "36/36 [==============================] - 0s 10ms/step\n"
     ]
    },
    {
     "name": "stderr",
     "output_type": "stream",
     "text": [
      "C:\\Users\\rudra\\AppData\\Local\\Temp\\ipykernel_6820\\3249705492.py:34: UserWarning: FigureCanvasAgg is non-interactive, and thus cannot be shown\n",
      "  plt.show()\n"
     ]
    },
    {
     "name": "stdout",
     "output_type": "stream",
     "text": [
      "1/1 [==============================] - 0s 86ms/step\n"
     ]
    },
    {
     "name": "stderr",
     "output_type": "stream",
     "text": [
      "C:\\Users\\rudra\\AppData\\Local\\Temp\\ipykernel_6820\\1767733992.py:15: RuntimeWarning: invalid value encountered in divide\n",
      "  channel_image /= channel_image.std()\n",
      "C:\\Users\\rudra\\AppData\\Local\\Temp\\ipykernel_6820\\1767733992.py:18: RuntimeWarning: invalid value encountered in cast\n",
      "  channel_image = np.clip(channel_image, 0, 255).astype('uint8')\n"
     ]
    },
    {
     "name": "stdout",
     "output_type": "stream",
     "text": [
      "[INFO] Training network for rhinoceros fold 2...\n",
      "Epoch 1/20\n",
      "71/71 [==============================] - 4s 48ms/step - loss: 0.5331 - accuracy: 0.7421\n",
      "Epoch 2/20\n",
      "71/71 [==============================] - 3s 47ms/step - loss: 0.4001 - accuracy: 0.8178\n",
      "Epoch 3/20\n",
      "71/71 [==============================] - 3s 47ms/step - loss: 0.2894 - accuracy: 0.8858\n",
      "Epoch 4/20\n",
      "71/71 [==============================] - 3s 47ms/step - loss: 0.2024 - accuracy: 0.9262\n",
      "Epoch 5/20\n",
      "71/71 [==============================] - 3s 47ms/step - loss: 0.1532 - accuracy: 0.9453\n",
      "Epoch 6/20\n",
      "71/71 [==============================] - 3s 47ms/step - loss: 0.1127 - accuracy: 0.9649\n",
      "Epoch 7/20\n",
      "71/71 [==============================] - 3s 47ms/step - loss: 0.0588 - accuracy: 0.9827\n",
      "Epoch 8/20\n",
      "71/71 [==============================] - 3s 47ms/step - loss: 0.0510 - accuracy: 0.9831\n",
      "Epoch 9/20\n",
      "71/71 [==============================] - 3s 47ms/step - loss: 0.0615 - accuracy: 0.9818\n",
      "Epoch 10/20\n",
      "71/71 [==============================] - 3s 47ms/step - loss: 0.0332 - accuracy: 0.9880\n",
      "Epoch 11/20\n",
      "71/71 [==============================] - 3s 47ms/step - loss: 0.0148 - accuracy: 0.9978\n",
      "Epoch 12/20\n",
      "71/71 [==============================] - 3s 47ms/step - loss: 0.0168 - accuracy: 0.9956\n",
      "Epoch 13/20\n",
      "71/71 [==============================] - 3s 47ms/step - loss: 0.0184 - accuracy: 0.9942\n",
      "Epoch 14/20\n",
      "71/71 [==============================] - 3s 47ms/step - loss: 0.0272 - accuracy: 0.9920\n",
      "Epoch 15/20\n",
      "71/71 [==============================] - 3s 47ms/step - loss: 0.0513 - accuracy: 0.9809\n",
      "Epoch 16/20\n",
      "71/71 [==============================] - 3s 47ms/step - loss: 0.0415 - accuracy: 0.9862\n",
      "Epoch 17/20\n",
      "71/71 [==============================] - 3s 47ms/step - loss: 0.0211 - accuracy: 0.9929\n",
      "Epoch 18/20\n",
      "71/71 [==============================] - 3s 47ms/step - loss: 0.0195 - accuracy: 0.9942\n",
      "Epoch 19/20\n",
      "71/71 [==============================] - 3s 47ms/step - loss: 0.0169 - accuracy: 0.9951\n",
      "Epoch 20/20\n",
      "71/71 [==============================] - 3s 47ms/step - loss: 0.0221 - accuracy: 0.9929\n",
      "[INFO] Saving Model for rhinoceros fold 2 ...\n",
      "36/36 [==============================] - 1s 11ms/step\n"
     ]
    },
    {
     "name": "stderr",
     "output_type": "stream",
     "text": [
      "C:\\Users\\rudra\\AppData\\Local\\Temp\\ipykernel_6820\\3249705492.py:34: UserWarning: FigureCanvasAgg is non-interactive, and thus cannot be shown\n",
      "  plt.show()\n"
     ]
    },
    {
     "name": "stdout",
     "output_type": "stream",
     "text": [
      "1/1 [==============================] - 0s 78ms/step\n"
     ]
    },
    {
     "name": "stderr",
     "output_type": "stream",
     "text": [
      "C:\\Users\\rudra\\AppData\\Local\\Temp\\ipykernel_6820\\1767733992.py:15: RuntimeWarning: invalid value encountered in divide\n",
      "  channel_image /= channel_image.std()\n",
      "C:\\Users\\rudra\\AppData\\Local\\Temp\\ipykernel_6820\\1767733992.py:18: RuntimeWarning: invalid value encountered in cast\n",
      "  channel_image = np.clip(channel_image, 0, 255).astype('uint8')\n"
     ]
    },
    {
     "name": "stdout",
     "output_type": "stream",
     "text": [
      "[INFO] Training network for rhinoceros fold 3...\n",
      "Epoch 1/20\n",
      "71/71 [==============================] - 4s 48ms/step - loss: 0.5369 - accuracy: 0.7408\n",
      "Epoch 2/20\n",
      "71/71 [==============================] - 3s 48ms/step - loss: 0.3654 - accuracy: 0.8391\n",
      "Epoch 3/20\n",
      "71/71 [==============================] - 3s 47ms/step - loss: 0.2963 - accuracy: 0.8791\n",
      "Epoch 4/20\n",
      "71/71 [==============================] - 3s 47ms/step - loss: 0.2512 - accuracy: 0.8947\n",
      "Epoch 5/20\n",
      "71/71 [==============================] - 3s 47ms/step - loss: 0.2061 - accuracy: 0.9204\n",
      "Epoch 6/20\n",
      "71/71 [==============================] - 3s 47ms/step - loss: 0.1067 - accuracy: 0.9604\n",
      "Epoch 7/20\n",
      "71/71 [==============================] - 3s 47ms/step - loss: 0.1083 - accuracy: 0.9618\n",
      "Epoch 8/20\n",
      "71/71 [==============================] - 3s 47ms/step - loss: 0.0495 - accuracy: 0.9871\n",
      "Epoch 9/20\n",
      "71/71 [==============================] - 3s 47ms/step - loss: 0.0705 - accuracy: 0.9769\n",
      "Epoch 10/20\n",
      "71/71 [==============================] - 3s 47ms/step - loss: 0.0391 - accuracy: 0.9893\n",
      "Epoch 11/20\n",
      "71/71 [==============================] - 3s 47ms/step - loss: 0.0443 - accuracy: 0.9867\n",
      "Epoch 12/20\n",
      "71/71 [==============================] - 3s 47ms/step - loss: 0.0171 - accuracy: 0.9973\n",
      "Epoch 13/20\n",
      "71/71 [==============================] - 3s 47ms/step - loss: 0.0167 - accuracy: 0.9947\n",
      "Epoch 14/20\n",
      "71/71 [==============================] - 3s 47ms/step - loss: 0.0220 - accuracy: 0.9942\n",
      "Epoch 15/20\n",
      "71/71 [==============================] - 3s 47ms/step - loss: 0.0188 - accuracy: 0.9956\n",
      "Epoch 16/20\n",
      "71/71 [==============================] - 3s 47ms/step - loss: 0.0098 - accuracy: 0.9973\n",
      "Epoch 17/20\n",
      "71/71 [==============================] - 3s 47ms/step - loss: 0.0374 - accuracy: 0.9867\n",
      "Epoch 18/20\n",
      "71/71 [==============================] - 3s 47ms/step - loss: 0.0305 - accuracy: 0.9898\n",
      "Epoch 19/20\n",
      "71/71 [==============================] - 3s 47ms/step - loss: 0.0196 - accuracy: 0.9951\n",
      "Epoch 20/20\n",
      "71/71 [==============================] - 3s 47ms/step - loss: 0.0180 - accuracy: 0.9947\n",
      "[INFO] Saving Model for rhinoceros fold 3 ...\n",
      "36/36 [==============================] - 1s 10ms/step\n"
     ]
    },
    {
     "name": "stderr",
     "output_type": "stream",
     "text": [
      "C:\\Users\\rudra\\AppData\\Local\\Temp\\ipykernel_6820\\3249705492.py:34: UserWarning: FigureCanvasAgg is non-interactive, and thus cannot be shown\n",
      "  plt.show()\n"
     ]
    },
    {
     "name": "stdout",
     "output_type": "stream",
     "text": [
      "1/1 [==============================] - 0s 83ms/step\n"
     ]
    },
    {
     "name": "stderr",
     "output_type": "stream",
     "text": [
      "C:\\Users\\rudra\\AppData\\Local\\Temp\\ipykernel_6820\\1767733992.py:15: RuntimeWarning: invalid value encountered in divide\n",
      "  channel_image /= channel_image.std()\n",
      "C:\\Users\\rudra\\AppData\\Local\\Temp\\ipykernel_6820\\1767733992.py:18: RuntimeWarning: invalid value encountered in cast\n",
      "  channel_image = np.clip(channel_image, 0, 255).astype('uint8')\n"
     ]
    },
    {
     "name": "stdout",
     "output_type": "stream",
     "text": [
      "[INFO] Loading images ...\n",
      "[INFO] Processing rest ...\n",
      "[INFO] Processing sandpiper ...\n",
      "[INFO] image extract completed\n",
      "total train samples: \n",
      "3426\n",
      "[INFO] Training network for sandpiper fold 1...\n",
      "Epoch 1/20\n",
      "71/71 [==============================] - 5s 48ms/step - loss: 0.4249 - accuracy: 0.8037\n",
      "Epoch 2/20\n",
      "71/71 [==============================] - 3s 47ms/step - loss: 0.2912 - accuracy: 0.8752\n",
      "Epoch 3/20\n",
      "71/71 [==============================] - 3s 47ms/step - loss: 0.2180 - accuracy: 0.9165\n",
      "Epoch 4/20\n",
      "71/71 [==============================] - 3s 47ms/step - loss: 0.1736 - accuracy: 0.9307\n",
      "Epoch 5/20\n",
      "71/71 [==============================] - 3s 47ms/step - loss: 0.1218 - accuracy: 0.9520\n",
      "Epoch 6/20\n",
      "71/71 [==============================] - 3s 47ms/step - loss: 0.0987 - accuracy: 0.9676\n",
      "Epoch 7/20\n",
      "71/71 [==============================] - 3s 47ms/step - loss: 0.0826 - accuracy: 0.9725\n",
      "Epoch 8/20\n",
      "71/71 [==============================] - 3s 47ms/step - loss: 0.0764 - accuracy: 0.9756\n",
      "Epoch 9/20\n",
      "71/71 [==============================] - 3s 47ms/step - loss: 0.0373 - accuracy: 0.9898\n",
      "Epoch 10/20\n",
      "71/71 [==============================] - 3s 47ms/step - loss: 0.0464 - accuracy: 0.9862\n",
      "Epoch 11/20\n",
      "71/71 [==============================] - 3s 47ms/step - loss: 0.0294 - accuracy: 0.9902\n",
      "Epoch 12/20\n",
      "71/71 [==============================] - 3s 47ms/step - loss: 0.0406 - accuracy: 0.9871\n",
      "Epoch 13/20\n",
      "71/71 [==============================] - 3s 47ms/step - loss: 0.1059 - accuracy: 0.9591\n",
      "Epoch 14/20\n",
      "71/71 [==============================] - 3s 47ms/step - loss: 0.0769 - accuracy: 0.9742\n",
      "Epoch 15/20\n",
      "71/71 [==============================] - 3s 47ms/step - loss: 0.0342 - accuracy: 0.9902\n",
      "Epoch 16/20\n",
      "71/71 [==============================] - 3s 47ms/step - loss: 0.0215 - accuracy: 0.9916\n",
      "Epoch 17/20\n",
      "71/71 [==============================] - 3s 47ms/step - loss: 0.0168 - accuracy: 0.9956\n",
      "Epoch 18/20\n",
      "71/71 [==============================] - 3s 47ms/step - loss: 0.0311 - accuracy: 0.9902\n",
      "Epoch 19/20\n",
      "71/71 [==============================] - 3s 47ms/step - loss: 0.0263 - accuracy: 0.9916\n",
      "Epoch 20/20\n",
      "71/71 [==============================] - 3s 47ms/step - loss: 0.0137 - accuracy: 0.9956\n",
      "[INFO] Saving Model for sandpiper fold 1 ...\n",
      "36/36 [==============================] - 0s 10ms/step\n"
     ]
    },
    {
     "name": "stderr",
     "output_type": "stream",
     "text": [
      "C:\\Users\\rudra\\AppData\\Local\\Temp\\ipykernel_6820\\3249705492.py:34: UserWarning: FigureCanvasAgg is non-interactive, and thus cannot be shown\n",
      "  plt.show()\n"
     ]
    },
    {
     "name": "stdout",
     "output_type": "stream",
     "text": [
      "1/1 [==============================] - 0s 74ms/step\n"
     ]
    },
    {
     "name": "stderr",
     "output_type": "stream",
     "text": [
      "C:\\Users\\rudra\\AppData\\Local\\Temp\\ipykernel_6820\\1767733992.py:15: RuntimeWarning: invalid value encountered in divide\n",
      "  channel_image /= channel_image.std()\n",
      "C:\\Users\\rudra\\AppData\\Local\\Temp\\ipykernel_6820\\1767733992.py:18: RuntimeWarning: invalid value encountered in cast\n",
      "  channel_image = np.clip(channel_image, 0, 255).astype('uint8')\n"
     ]
    },
    {
     "name": "stdout",
     "output_type": "stream",
     "text": [
      "[INFO] Training network for sandpiper fold 2...\n",
      "Epoch 1/20\n",
      "71/71 [==============================] - 4s 49ms/step - loss: 0.4149 - accuracy: 0.8094\n",
      "Epoch 2/20\n",
      "71/71 [==============================] - 3s 48ms/step - loss: 0.3090 - accuracy: 0.8677\n",
      "Epoch 3/20\n",
      "71/71 [==============================] - 3s 47ms/step - loss: 0.2412 - accuracy: 0.9014\n",
      "Epoch 4/20\n",
      "71/71 [==============================] - 3s 47ms/step - loss: 0.1869 - accuracy: 0.9281\n",
      "Epoch 5/20\n",
      "71/71 [==============================] - 3s 47ms/step - loss: 0.1414 - accuracy: 0.9503\n",
      "Epoch 6/20\n",
      "71/71 [==============================] - 3s 47ms/step - loss: 0.1634 - accuracy: 0.9347\n",
      "Epoch 7/20\n",
      "71/71 [==============================] - 3s 47ms/step - loss: 0.1287 - accuracy: 0.9480\n",
      "Epoch 8/20\n",
      "71/71 [==============================] - 3s 48ms/step - loss: 0.0857 - accuracy: 0.9702\n",
      "Epoch 9/20\n",
      "71/71 [==============================] - 3s 47ms/step - loss: 0.0498 - accuracy: 0.9853\n",
      "Epoch 10/20\n",
      "71/71 [==============================] - 3s 47ms/step - loss: 0.0459 - accuracy: 0.9853\n",
      "Epoch 11/20\n",
      "71/71 [==============================] - 3s 47ms/step - loss: 0.0482 - accuracy: 0.9809\n",
      "Epoch 12/20\n",
      "71/71 [==============================] - 3s 47ms/step - loss: 0.0444 - accuracy: 0.9827\n",
      "Epoch 13/20\n",
      "71/71 [==============================] - 3s 47ms/step - loss: 0.0368 - accuracy: 0.9902\n",
      "Epoch 14/20\n",
      "71/71 [==============================] - 3s 47ms/step - loss: 0.0486 - accuracy: 0.9831\n",
      "Epoch 15/20\n",
      "71/71 [==============================] - 3s 47ms/step - loss: 0.0501 - accuracy: 0.9831\n",
      "Epoch 16/20\n",
      "71/71 [==============================] - 3s 47ms/step - loss: 0.0456 - accuracy: 0.9867\n",
      "Epoch 17/20\n",
      "71/71 [==============================] - 3s 47ms/step - loss: 0.0554 - accuracy: 0.9813\n",
      "Epoch 18/20\n",
      "71/71 [==============================] - 3s 47ms/step - loss: 0.0254 - accuracy: 0.9916\n",
      "Epoch 19/20\n",
      "71/71 [==============================] - 3s 47ms/step - loss: 0.0196 - accuracy: 0.9956\n",
      "Epoch 20/20\n",
      "71/71 [==============================] - 3s 47ms/step - loss: 0.0185 - accuracy: 0.9947\n",
      "[INFO] Saving Model for sandpiper fold 2 ...\n",
      "36/36 [==============================] - 1s 10ms/step\n"
     ]
    },
    {
     "name": "stderr",
     "output_type": "stream",
     "text": [
      "C:\\Users\\rudra\\AppData\\Local\\Temp\\ipykernel_6820\\3249705492.py:34: UserWarning: FigureCanvasAgg is non-interactive, and thus cannot be shown\n",
      "  plt.show()\n"
     ]
    },
    {
     "name": "stdout",
     "output_type": "stream",
     "text": [
      "1/1 [==============================] - 0s 68ms/step\n",
      "[INFO] Training network for sandpiper fold 3...\n",
      "Epoch 1/20\n",
      "71/71 [==============================] - 4s 48ms/step - loss: 0.4094 - accuracy: 0.8151\n",
      "Epoch 2/20\n",
      "71/71 [==============================] - 3s 47ms/step - loss: 0.2858 - accuracy: 0.8814\n",
      "Epoch 3/20\n",
      "71/71 [==============================] - 3s 47ms/step - loss: 0.2371 - accuracy: 0.9014\n",
      "Epoch 4/20\n",
      "71/71 [==============================] - 3s 47ms/step - loss: 0.2145 - accuracy: 0.9179\n",
      "Epoch 5/20\n",
      "71/71 [==============================] - 3s 47ms/step - loss: 0.1615 - accuracy: 0.9383\n",
      "Epoch 6/20\n",
      "71/71 [==============================] - 3s 47ms/step - loss: 0.1158 - accuracy: 0.9560\n",
      "Epoch 7/20\n",
      "71/71 [==============================] - 3s 47ms/step - loss: 0.0766 - accuracy: 0.9765\n",
      "Epoch 8/20\n",
      "71/71 [==============================] - 3s 47ms/step - loss: 0.0648 - accuracy: 0.9791\n",
      "Epoch 9/20\n",
      "71/71 [==============================] - 3s 47ms/step - loss: 0.0442 - accuracy: 0.9858\n",
      "Epoch 10/20\n",
      "71/71 [==============================] - 3s 47ms/step - loss: 0.0505 - accuracy: 0.9849\n",
      "Epoch 11/20\n",
      "71/71 [==============================] - 3s 47ms/step - loss: 0.0407 - accuracy: 0.9867\n",
      "Epoch 12/20\n",
      "71/71 [==============================] - 3s 47ms/step - loss: 0.0403 - accuracy: 0.9849\n",
      "Epoch 13/20\n",
      "71/71 [==============================] - 3s 47ms/step - loss: 0.0431 - accuracy: 0.9853\n",
      "Epoch 14/20\n",
      "71/71 [==============================] - 3s 48ms/step - loss: 0.0346 - accuracy: 0.9880\n",
      "Epoch 15/20\n",
      "71/71 [==============================] - 3s 47ms/step - loss: 0.0322 - accuracy: 0.9880\n",
      "Epoch 16/20\n",
      "71/71 [==============================] - 3s 47ms/step - loss: 0.0238 - accuracy: 0.9925\n",
      "Epoch 17/20\n",
      "71/71 [==============================] - 3s 47ms/step - loss: 0.0295 - accuracy: 0.9907\n",
      "Epoch 18/20\n",
      "71/71 [==============================] - 3s 47ms/step - loss: 0.0417 - accuracy: 0.9853\n",
      "Epoch 19/20\n",
      "71/71 [==============================] - 3s 47ms/step - loss: 0.0236 - accuracy: 0.9916\n",
      "Epoch 20/20\n",
      "71/71 [==============================] - 3s 47ms/step - loss: 0.0188 - accuracy: 0.9933\n",
      "[INFO] Saving Model for sandpiper fold 3 ...\n",
      "36/36 [==============================] - 0s 10ms/step\n"
     ]
    },
    {
     "name": "stderr",
     "output_type": "stream",
     "text": [
      "C:\\Users\\rudra\\AppData\\Local\\Temp\\ipykernel_6820\\3249705492.py:34: UserWarning: FigureCanvasAgg is non-interactive, and thus cannot be shown\n",
      "  plt.show()\n"
     ]
    },
    {
     "name": "stdout",
     "output_type": "stream",
     "text": [
      "1/1 [==============================] - 0s 78ms/step\n"
     ]
    },
    {
     "name": "stderr",
     "output_type": "stream",
     "text": [
      "C:\\Users\\rudra\\AppData\\Local\\Temp\\ipykernel_6820\\1767733992.py:15: RuntimeWarning: invalid value encountered in divide\n",
      "  channel_image /= channel_image.std()\n",
      "C:\\Users\\rudra\\AppData\\Local\\Temp\\ipykernel_6820\\1767733992.py:18: RuntimeWarning: invalid value encountered in cast\n",
      "  channel_image = np.clip(channel_image, 0, 255).astype('uint8')\n"
     ]
    },
    {
     "name": "stdout",
     "output_type": "stream",
     "text": [
      "[INFO] Loading images ...\n",
      "[INFO] Processing rest ...\n",
      "[INFO] Processing seahorse ...\n",
      "[INFO] image extract completed\n",
      "total train samples: \n",
      "3436\n",
      "[INFO] Training network for seahorse fold 1...\n",
      "Epoch 1/20\n",
      "71/71 [==============================] - 4s 48ms/step - loss: 0.5011 - accuracy: 0.7667\n",
      "Epoch 2/20\n",
      "71/71 [==============================] - 3s 48ms/step - loss: 0.3465 - accuracy: 0.8552\n",
      "Epoch 3/20\n",
      "71/71 [==============================] - 3s 47ms/step - loss: 0.2271 - accuracy: 0.9150\n",
      "Epoch 4/20\n",
      "71/71 [==============================] - 3s 47ms/step - loss: 0.1840 - accuracy: 0.9322\n",
      "Epoch 5/20\n",
      "71/71 [==============================] - 3s 47ms/step - loss: 0.1323 - accuracy: 0.9562\n",
      "Epoch 6/20\n",
      "71/71 [==============================] - 3s 47ms/step - loss: 0.0878 - accuracy: 0.9708\n",
      "Epoch 7/20\n",
      "71/71 [==============================] - 3s 47ms/step - loss: 0.0617 - accuracy: 0.9814\n",
      "Epoch 8/20\n",
      "71/71 [==============================] - 3s 47ms/step - loss: 0.0532 - accuracy: 0.9845\n",
      "Epoch 9/20\n",
      "71/71 [==============================] - 3s 47ms/step - loss: 0.0492 - accuracy: 0.9836\n",
      "Epoch 10/20\n",
      "71/71 [==============================] - 3s 47ms/step - loss: 0.0449 - accuracy: 0.9867\n",
      "Epoch 11/20\n",
      "71/71 [==============================] - 3s 47ms/step - loss: 0.0378 - accuracy: 0.9876\n",
      "Epoch 12/20\n",
      "71/71 [==============================] - 3s 47ms/step - loss: 0.0512 - accuracy: 0.9832\n",
      "Epoch 13/20\n",
      "71/71 [==============================] - 3s 47ms/step - loss: 0.0483 - accuracy: 0.9818\n",
      "Epoch 14/20\n",
      "71/71 [==============================] - 3s 47ms/step - loss: 0.0558 - accuracy: 0.9827\n",
      "Epoch 15/20\n",
      "71/71 [==============================] - 3s 48ms/step - loss: 0.0390 - accuracy: 0.9872\n",
      "Epoch 16/20\n",
      "71/71 [==============================] - 3s 47ms/step - loss: 0.0246 - accuracy: 0.9929\n",
      "Epoch 17/20\n",
      "71/71 [==============================] - 3s 47ms/step - loss: 0.0133 - accuracy: 0.9965\n",
      "Epoch 18/20\n",
      "71/71 [==============================] - 3s 48ms/step - loss: 0.0102 - accuracy: 0.9973\n",
      "Epoch 19/20\n",
      "71/71 [==============================] - 3s 47ms/step - loss: 0.0094 - accuracy: 0.9978\n",
      "Epoch 20/20\n",
      "71/71 [==============================] - 3s 47ms/step - loss: 0.0187 - accuracy: 0.9969\n",
      "[INFO] Saving Model for seahorse fold 1 ...\n",
      "36/36 [==============================] - 0s 10ms/step\n"
     ]
    },
    {
     "name": "stderr",
     "output_type": "stream",
     "text": [
      "C:\\Users\\rudra\\AppData\\Local\\Temp\\ipykernel_6820\\3249705492.py:34: UserWarning: FigureCanvasAgg is non-interactive, and thus cannot be shown\n",
      "  plt.show()\n"
     ]
    },
    {
     "name": "stdout",
     "output_type": "stream",
     "text": [
      "1/1 [==============================] - 0s 68ms/step\n"
     ]
    },
    {
     "name": "stderr",
     "output_type": "stream",
     "text": [
      "C:\\Users\\rudra\\AppData\\Local\\Temp\\ipykernel_6820\\1767733992.py:15: RuntimeWarning: invalid value encountered in divide\n",
      "  channel_image /= channel_image.std()\n",
      "C:\\Users\\rudra\\AppData\\Local\\Temp\\ipykernel_6820\\1767733992.py:18: RuntimeWarning: invalid value encountered in cast\n",
      "  channel_image = np.clip(channel_image, 0, 255).astype('uint8')\n"
     ]
    },
    {
     "name": "stdout",
     "output_type": "stream",
     "text": [
      "[INFO] Training network for seahorse fold 2...\n",
      "Epoch 1/20\n",
      "71/71 [==============================] - 4s 48ms/step - loss: 0.5051 - accuracy: 0.7588\n",
      "Epoch 2/20\n",
      "71/71 [==============================] - 3s 47ms/step - loss: 0.3471 - accuracy: 0.8583\n",
      "Epoch 3/20\n",
      "71/71 [==============================] - 3s 47ms/step - loss: 0.2528 - accuracy: 0.9026\n",
      "Epoch 4/20\n",
      "71/71 [==============================] - 3s 47ms/step - loss: 0.2464 - accuracy: 0.8977\n",
      "Epoch 5/20\n",
      "71/71 [==============================] - 3s 47ms/step - loss: 0.1538 - accuracy: 0.9438\n",
      "Epoch 6/20\n",
      "71/71 [==============================] - 3s 47ms/step - loss: 0.1149 - accuracy: 0.9659\n",
      "Epoch 7/20\n",
      "71/71 [==============================] - 3s 47ms/step - loss: 0.0808 - accuracy: 0.9739\n",
      "Epoch 8/20\n",
      "71/71 [==============================] - 3s 47ms/step - loss: 0.0623 - accuracy: 0.9823\n",
      "Epoch 9/20\n",
      "71/71 [==============================] - 3s 47ms/step - loss: 0.0710 - accuracy: 0.9761\n",
      "Epoch 10/20\n",
      "71/71 [==============================] - 3s 47ms/step - loss: 0.0474 - accuracy: 0.9858\n",
      "Epoch 11/20\n",
      "71/71 [==============================] - 3s 47ms/step - loss: 0.0517 - accuracy: 0.9819\n",
      "Epoch 12/20\n",
      "71/71 [==============================] - 3s 47ms/step - loss: 0.1395 - accuracy: 0.9513\n",
      "Epoch 13/20\n",
      "71/71 [==============================] - 3s 47ms/step - loss: 0.0411 - accuracy: 0.9858\n",
      "Epoch 14/20\n",
      "71/71 [==============================] - 3s 48ms/step - loss: 0.0252 - accuracy: 0.9929\n",
      "Epoch 15/20\n",
      "71/71 [==============================] - 3s 49ms/step - loss: 0.0490 - accuracy: 0.9841\n",
      "Epoch 16/20\n",
      "71/71 [==============================] - 3s 49ms/step - loss: 0.0255 - accuracy: 0.9907\n",
      "Epoch 17/20\n",
      "71/71 [==============================] - 3s 49ms/step - loss: 0.0144 - accuracy: 0.9969\n",
      "Epoch 18/20\n",
      "71/71 [==============================] - 3s 49ms/step - loss: 0.0152 - accuracy: 0.9956\n",
      "Epoch 19/20\n",
      "71/71 [==============================] - 3s 48ms/step - loss: 0.0229 - accuracy: 0.9925\n",
      "Epoch 20/20\n",
      "71/71 [==============================] - 3s 49ms/step - loss: 0.0167 - accuracy: 0.9951\n",
      "[INFO] Saving Model for seahorse fold 2 ...\n",
      "36/36 [==============================] - 1s 10ms/step\n"
     ]
    },
    {
     "name": "stderr",
     "output_type": "stream",
     "text": [
      "C:\\Users\\rudra\\AppData\\Local\\Temp\\ipykernel_6820\\3249705492.py:34: UserWarning: FigureCanvasAgg is non-interactive, and thus cannot be shown\n",
      "  plt.show()\n"
     ]
    },
    {
     "name": "stdout",
     "output_type": "stream",
     "text": [
      "1/1 [==============================] - 0s 78ms/step\n",
      "[INFO] Training network for seahorse fold 3...\n",
      "Epoch 1/20\n",
      "71/71 [==============================] - 5s 50ms/step - loss: 0.5149 - accuracy: 0.7575\n",
      "Epoch 2/20\n",
      "71/71 [==============================] - 4s 50ms/step - loss: 0.3743 - accuracy: 0.8371\n",
      "Epoch 3/20\n",
      "71/71 [==============================] - 3s 49ms/step - loss: 0.3380 - accuracy: 0.8676\n",
      "Epoch 4/20\n",
      "71/71 [==============================] - 3s 49ms/step - loss: 0.2456 - accuracy: 0.9031\n",
      "Epoch 5/20\n",
      "71/71 [==============================] - 3s 49ms/step - loss: 0.1869 - accuracy: 0.9314\n",
      "Epoch 6/20\n",
      "71/71 [==============================] - 3s 47ms/step - loss: 0.1396 - accuracy: 0.9495\n",
      "Epoch 7/20\n",
      "71/71 [==============================] - 3s 47ms/step - loss: 0.1439 - accuracy: 0.9460\n",
      "Epoch 8/20\n",
      "71/71 [==============================] - 3s 47ms/step - loss: 0.0935 - accuracy: 0.9677\n",
      "Epoch 9/20\n",
      "71/71 [==============================] - 3s 47ms/step - loss: 0.0881 - accuracy: 0.9690\n",
      "Epoch 10/20\n",
      "71/71 [==============================] - 3s 47ms/step - loss: 0.0298 - accuracy: 0.9951\n",
      "Epoch 11/20\n",
      "71/71 [==============================] - 3s 47ms/step - loss: 0.0390 - accuracy: 0.9863\n",
      "Epoch 12/20\n",
      "71/71 [==============================] - 3s 47ms/step - loss: 0.0348 - accuracy: 0.9885\n",
      "Epoch 13/20\n",
      "71/71 [==============================] - 3s 47ms/step - loss: 0.0247 - accuracy: 0.9938\n",
      "Epoch 14/20\n",
      "71/71 [==============================] - 3s 47ms/step - loss: 0.0474 - accuracy: 0.9819\n",
      "Epoch 15/20\n",
      "71/71 [==============================] - 3s 47ms/step - loss: 0.0379 - accuracy: 0.9872\n",
      "Epoch 16/20\n",
      "71/71 [==============================] - 3s 47ms/step - loss: 0.0706 - accuracy: 0.9743\n",
      "Epoch 17/20\n",
      "71/71 [==============================] - 3s 47ms/step - loss: 0.0398 - accuracy: 0.9880\n",
      "Epoch 18/20\n",
      "71/71 [==============================] - 3s 47ms/step - loss: 0.0272 - accuracy: 0.9916\n",
      "Epoch 19/20\n",
      "71/71 [==============================] - 3s 47ms/step - loss: 0.0171 - accuracy: 0.9951\n",
      "Epoch 20/20\n",
      "71/71 [==============================] - 3s 47ms/step - loss: 0.0128 - accuracy: 0.9978\n",
      "[INFO] Saving Model for seahorse fold 3 ...\n",
      "36/36 [==============================] - 1s 10ms/step\n"
     ]
    },
    {
     "name": "stderr",
     "output_type": "stream",
     "text": [
      "C:\\Users\\rudra\\AppData\\Local\\Temp\\ipykernel_6820\\3249705492.py:34: UserWarning: FigureCanvasAgg is non-interactive, and thus cannot be shown\n",
      "  plt.show()\n"
     ]
    },
    {
     "name": "stdout",
     "output_type": "stream",
     "text": [
      "1/1 [==============================] - 0s 73ms/step\n",
      "[INFO] Loading images ...\n",
      "[INFO] Processing rest ...\n",
      "[INFO] Processing seal ...\n",
      "[INFO] image extract completed\n",
      "total train samples: \n",
      "3415\n",
      "[INFO] Training network for seal fold 1...\n",
      "Epoch 1/20\n",
      "71/71 [==============================] - 5s 49ms/step - loss: 0.5297 - accuracy: 0.7478\n",
      "Epoch 2/20\n",
      "71/71 [==============================] - 3s 48ms/step - loss: 0.3921 - accuracy: 0.8307\n",
      "Epoch 3/20\n",
      "71/71 [==============================] - 3s 48ms/step - loss: 0.3154 - accuracy: 0.8712\n",
      "Epoch 4/20\n",
      "71/71 [==============================] - 3s 47ms/step - loss: 0.2633 - accuracy: 0.8881\n",
      "Epoch 5/20\n",
      "71/71 [==============================] - 3s 48ms/step - loss: 0.2099 - accuracy: 0.9153\n",
      "Epoch 6/20\n",
      "71/71 [==============================] - 3s 48ms/step - loss: 0.1403 - accuracy: 0.9545\n",
      "Epoch 7/20\n",
      "71/71 [==============================] - 3s 48ms/step - loss: 0.1206 - accuracy: 0.9590\n",
      "Epoch 8/20\n",
      "71/71 [==============================] - 3s 48ms/step - loss: 0.1439 - accuracy: 0.9439\n",
      "Epoch 9/20\n",
      "71/71 [==============================] - 3s 48ms/step - loss: 0.1290 - accuracy: 0.9554\n",
      "Epoch 10/20\n",
      "71/71 [==============================] - 3s 47ms/step - loss: 0.1159 - accuracy: 0.9608\n",
      "Epoch 11/20\n",
      "71/71 [==============================] - 3s 47ms/step - loss: 0.1036 - accuracy: 0.9635\n",
      "Epoch 12/20\n",
      "71/71 [==============================] - 3s 47ms/step - loss: 0.0629 - accuracy: 0.9808\n",
      "Epoch 13/20\n",
      "71/71 [==============================] - 3s 47ms/step - loss: 0.0399 - accuracy: 0.9871\n",
      "Epoch 14/20\n",
      "71/71 [==============================] - 3s 47ms/step - loss: 0.0650 - accuracy: 0.9764\n",
      "Epoch 15/20\n",
      "71/71 [==============================] - 3s 47ms/step - loss: 0.0356 - accuracy: 0.9884\n",
      "Epoch 16/20\n",
      "71/71 [==============================] - 3s 47ms/step - loss: 0.0585 - accuracy: 0.9795\n",
      "Epoch 17/20\n",
      "71/71 [==============================] - 3s 47ms/step - loss: 0.0410 - accuracy: 0.9889\n",
      "Epoch 18/20\n",
      "71/71 [==============================] - 3s 47ms/step - loss: 0.0843 - accuracy: 0.9728\n",
      "Epoch 19/20\n",
      "71/71 [==============================] - 3s 47ms/step - loss: 0.0317 - accuracy: 0.9902\n",
      "Epoch 20/20\n",
      "71/71 [==============================] - 3s 47ms/step - loss: 0.0257 - accuracy: 0.9898\n",
      "[INFO] Saving Model for seal fold 1 ...\n",
      "36/36 [==============================] - 0s 10ms/step\n"
     ]
    },
    {
     "name": "stderr",
     "output_type": "stream",
     "text": [
      "C:\\Users\\rudra\\AppData\\Local\\Temp\\ipykernel_6820\\3249705492.py:34: UserWarning: FigureCanvasAgg is non-interactive, and thus cannot be shown\n",
      "  plt.show()\n"
     ]
    },
    {
     "name": "stdout",
     "output_type": "stream",
     "text": [
      "1/1 [==============================] - 0s 94ms/step\n"
     ]
    },
    {
     "name": "stderr",
     "output_type": "stream",
     "text": [
      "C:\\Users\\rudra\\AppData\\Local\\Temp\\ipykernel_6820\\1767733992.py:15: RuntimeWarning: invalid value encountered in divide\n",
      "  channel_image /= channel_image.std()\n",
      "C:\\Users\\rudra\\AppData\\Local\\Temp\\ipykernel_6820\\1767733992.py:18: RuntimeWarning: invalid value encountered in cast\n",
      "  channel_image = np.clip(channel_image, 0, 255).astype('uint8')\n"
     ]
    },
    {
     "name": "stdout",
     "output_type": "stream",
     "text": [
      "[INFO] Training network for seal fold 2...\n",
      "Epoch 1/20\n",
      "71/71 [==============================] - 5s 48ms/step - loss: 0.4575 - accuracy: 0.7812\n",
      "Epoch 2/20\n",
      "71/71 [==============================] - 3s 48ms/step - loss: 0.3623 - accuracy: 0.8365\n",
      "Epoch 3/20\n",
      "71/71 [==============================] - 3s 47ms/step - loss: 0.3081 - accuracy: 0.8566\n",
      "Epoch 4/20\n",
      "71/71 [==============================] - 3s 47ms/step - loss: 0.2104 - accuracy: 0.9154\n",
      "Epoch 5/20\n",
      "71/71 [==============================] - 3s 47ms/step - loss: 0.1947 - accuracy: 0.9238\n",
      "Epoch 6/20\n",
      "71/71 [==============================] - 3s 47ms/step - loss: 0.2180 - accuracy: 0.9114\n",
      "Epoch 7/20\n",
      "71/71 [==============================] - 3s 47ms/step - loss: 0.1101 - accuracy: 0.9666\n",
      "Epoch 8/20\n",
      "71/71 [==============================] - 3s 47ms/step - loss: 0.0689 - accuracy: 0.9773\n",
      "Epoch 9/20\n",
      "71/71 [==============================] - 3s 47ms/step - loss: 0.0932 - accuracy: 0.9670\n",
      "Epoch 10/20\n",
      "71/71 [==============================] - 3s 47ms/step - loss: 0.0498 - accuracy: 0.9817\n",
      "Epoch 11/20\n",
      "71/71 [==============================] - 3s 47ms/step - loss: 0.0280 - accuracy: 0.9933\n",
      "Epoch 12/20\n",
      "71/71 [==============================] - 3s 47ms/step - loss: 0.0244 - accuracy: 0.9924\n",
      "Epoch 13/20\n",
      "71/71 [==============================] - 3s 47ms/step - loss: 0.0700 - accuracy: 0.9728\n",
      "Epoch 14/20\n",
      "71/71 [==============================] - 3s 47ms/step - loss: 0.0569 - accuracy: 0.9791\n",
      "Epoch 15/20\n",
      "71/71 [==============================] - 3s 47ms/step - loss: 0.0278 - accuracy: 0.9929\n",
      "Epoch 16/20\n",
      "71/71 [==============================] - 3s 47ms/step - loss: 0.0294 - accuracy: 0.9902\n",
      "Epoch 17/20\n",
      "71/71 [==============================] - 3s 47ms/step - loss: 0.0206 - accuracy: 0.9942\n",
      "Epoch 18/20\n",
      "71/71 [==============================] - 3s 47ms/step - loss: 0.0482 - accuracy: 0.9831\n",
      "Epoch 19/20\n",
      "71/71 [==============================] - 3s 47ms/step - loss: 0.0203 - accuracy: 0.9955\n",
      "Epoch 20/20\n",
      "71/71 [==============================] - 3s 47ms/step - loss: 0.0199 - accuracy: 0.9929\n",
      "[INFO] Saving Model for seal fold 2 ...\n",
      "36/36 [==============================] - 0s 10ms/step\n"
     ]
    },
    {
     "name": "stderr",
     "output_type": "stream",
     "text": [
      "C:\\Users\\rudra\\AppData\\Local\\Temp\\ipykernel_6820\\3249705492.py:34: UserWarning: FigureCanvasAgg is non-interactive, and thus cannot be shown\n",
      "  plt.show()\n"
     ]
    },
    {
     "name": "stdout",
     "output_type": "stream",
     "text": [
      "1/1 [==============================] - 0s 78ms/step\n"
     ]
    },
    {
     "name": "stderr",
     "output_type": "stream",
     "text": [
      "C:\\Users\\rudra\\AppData\\Local\\Temp\\ipykernel_6820\\1767733992.py:15: RuntimeWarning: invalid value encountered in divide\n",
      "  channel_image /= channel_image.std()\n",
      "C:\\Users\\rudra\\AppData\\Local\\Temp\\ipykernel_6820\\1767733992.py:18: RuntimeWarning: invalid value encountered in cast\n",
      "  channel_image = np.clip(channel_image, 0, 255).astype('uint8')\n"
     ]
    },
    {
     "name": "stdout",
     "output_type": "stream",
     "text": [
      "[INFO] Training network for seal fold 3...\n",
      "Epoch 1/20\n",
      "71/71 [==============================] - 4s 48ms/step - loss: 0.4511 - accuracy: 0.7865\n",
      "Epoch 2/20\n",
      "71/71 [==============================] - 3s 47ms/step - loss: 0.3120 - accuracy: 0.8664\n",
      "Epoch 3/20\n",
      "71/71 [==============================] - 3s 47ms/step - loss: 0.2271 - accuracy: 0.9145\n",
      "Epoch 4/20\n",
      "71/71 [==============================] - 3s 47ms/step - loss: 0.2735 - accuracy: 0.8931\n",
      "Epoch 5/20\n",
      "71/71 [==============================] - 3s 47ms/step - loss: 0.2100 - accuracy: 0.9220\n",
      "Epoch 6/20\n",
      "71/71 [==============================] - 3s 47ms/step - loss: 0.1461 - accuracy: 0.9483\n",
      "Epoch 7/20\n",
      "71/71 [==============================] - 3s 47ms/step - loss: 0.1301 - accuracy: 0.9537\n",
      "Epoch 8/20\n",
      "71/71 [==============================] - 3s 47ms/step - loss: 0.0892 - accuracy: 0.9724\n",
      "Epoch 9/20\n",
      "71/71 [==============================] - 3s 47ms/step - loss: 0.0437 - accuracy: 0.9915\n",
      "Epoch 10/20\n",
      "71/71 [==============================] - 3s 47ms/step - loss: 0.0438 - accuracy: 0.9880\n",
      "Epoch 11/20\n",
      "71/71 [==============================] - 3s 47ms/step - loss: 0.0232 - accuracy: 0.9960\n",
      "Epoch 12/20\n",
      "71/71 [==============================] - 3s 47ms/step - loss: 0.0331 - accuracy: 0.9880\n",
      "Epoch 13/20\n",
      "71/71 [==============================] - 3s 47ms/step - loss: 0.0649 - accuracy: 0.9768\n",
      "Epoch 14/20\n",
      "71/71 [==============================] - 3s 47ms/step - loss: 0.0804 - accuracy: 0.9719\n",
      "Epoch 15/20\n",
      "71/71 [==============================] - 3s 47ms/step - loss: 0.0490 - accuracy: 0.9844\n",
      "Epoch 16/20\n",
      "71/71 [==============================] - 3s 47ms/step - loss: 0.0317 - accuracy: 0.9915\n",
      "Epoch 17/20\n",
      "71/71 [==============================] - 3s 47ms/step - loss: 0.0617 - accuracy: 0.9751\n",
      "Epoch 18/20\n",
      "71/71 [==============================] - 3s 47ms/step - loss: 0.0221 - accuracy: 0.9951\n",
      "Epoch 19/20\n",
      "71/71 [==============================] - 3s 47ms/step - loss: 0.0191 - accuracy: 0.9947\n",
      "Epoch 20/20\n",
      "71/71 [==============================] - 3s 47ms/step - loss: 0.0212 - accuracy: 0.9924\n",
      "[INFO] Saving Model for seal fold 3 ...\n",
      "36/36 [==============================] - 0s 10ms/step\n"
     ]
    },
    {
     "name": "stderr",
     "output_type": "stream",
     "text": [
      "C:\\Users\\rudra\\AppData\\Local\\Temp\\ipykernel_6820\\3249705492.py:34: UserWarning: FigureCanvasAgg is non-interactive, and thus cannot be shown\n",
      "  plt.show()\n"
     ]
    },
    {
     "name": "stdout",
     "output_type": "stream",
     "text": [
      "1/1 [==============================] - 0s 62ms/step\n"
     ]
    },
    {
     "name": "stderr",
     "output_type": "stream",
     "text": [
      "C:\\Users\\rudra\\AppData\\Local\\Temp\\ipykernel_6820\\1767733992.py:15: RuntimeWarning: invalid value encountered in divide\n",
      "  channel_image /= channel_image.std()\n",
      "C:\\Users\\rudra\\AppData\\Local\\Temp\\ipykernel_6820\\1767733992.py:18: RuntimeWarning: invalid value encountered in cast\n",
      "  channel_image = np.clip(channel_image, 0, 255).astype('uint8')\n"
     ]
    },
    {
     "name": "stdout",
     "output_type": "stream",
     "text": [
      "[INFO] Loading images ...\n",
      "[INFO] Processing rest ...\n",
      "[INFO] Processing shark ...\n",
      "[INFO] image extract completed\n",
      "total train samples: \n",
      "3415\n",
      "[INFO] Training network for shark fold 1...\n",
      "Epoch 1/20\n",
      "71/71 [==============================] - 5s 48ms/step - loss: 0.2496 - accuracy: 0.9010\n",
      "Epoch 2/20\n",
      "71/71 [==============================] - 3s 47ms/step - loss: 0.2174 - accuracy: 0.9091\n",
      "Epoch 3/20\n",
      "71/71 [==============================] - 3s 47ms/step - loss: 0.1559 - accuracy: 0.9398\n",
      "Epoch 4/20\n",
      "71/71 [==============================] - 3s 47ms/step - loss: 0.1120 - accuracy: 0.9603\n",
      "Epoch 5/20\n",
      "71/71 [==============================] - 3s 47ms/step - loss: 0.1424 - accuracy: 0.9430\n",
      "Epoch 6/20\n",
      "71/71 [==============================] - 3s 47ms/step - loss: 0.0996 - accuracy: 0.9701\n",
      "Epoch 7/20\n",
      "71/71 [==============================] - 3s 47ms/step - loss: 0.0805 - accuracy: 0.9773\n",
      "Epoch 8/20\n",
      "71/71 [==============================] - 3s 47ms/step - loss: 0.0532 - accuracy: 0.9848\n",
      "Epoch 9/20\n",
      "71/71 [==============================] - 3s 47ms/step - loss: 0.0374 - accuracy: 0.9911\n",
      "Epoch 10/20\n",
      "71/71 [==============================] - 3s 47ms/step - loss: 0.0584 - accuracy: 0.9799\n",
      "Epoch 11/20\n",
      "71/71 [==============================] - 3s 47ms/step - loss: 0.0311 - accuracy: 0.9933\n",
      "Epoch 12/20\n",
      "71/71 [==============================] - 3s 47ms/step - loss: 0.0388 - accuracy: 0.9893\n",
      "Epoch 13/20\n",
      "71/71 [==============================] - 3s 46ms/step - loss: 0.0521 - accuracy: 0.9844\n",
      "Epoch 14/20\n",
      "71/71 [==============================] - 3s 47ms/step - loss: 0.0183 - accuracy: 0.9960\n",
      "Epoch 15/20\n",
      "71/71 [==============================] - 3s 46ms/step - loss: 0.0250 - accuracy: 0.9933\n",
      "Epoch 16/20\n",
      "71/71 [==============================] - 3s 47ms/step - loss: 0.0440 - accuracy: 0.9857\n",
      "Epoch 17/20\n",
      "71/71 [==============================] - 3s 47ms/step - loss: 0.0226 - accuracy: 0.9933\n",
      "Epoch 18/20\n",
      "71/71 [==============================] - 3s 47ms/step - loss: 0.0160 - accuracy: 0.9938\n",
      "Epoch 19/20\n",
      "71/71 [==============================] - 3s 47ms/step - loss: 0.0170 - accuracy: 0.9960\n",
      "Epoch 20/20\n",
      "71/71 [==============================] - 3s 47ms/step - loss: 0.0225 - accuracy: 0.9938\n",
      "[INFO] Saving Model for shark fold 1 ...\n",
      "36/36 [==============================] - 1s 10ms/step\n"
     ]
    },
    {
     "name": "stderr",
     "output_type": "stream",
     "text": [
      "C:\\Users\\rudra\\AppData\\Local\\Temp\\ipykernel_6820\\3249705492.py:34: UserWarning: FigureCanvasAgg is non-interactive, and thus cannot be shown\n",
      "  plt.show()\n"
     ]
    },
    {
     "name": "stdout",
     "output_type": "stream",
     "text": [
      "1/1 [==============================] - 0s 47ms/step\n"
     ]
    },
    {
     "name": "stderr",
     "output_type": "stream",
     "text": [
      "C:\\Users\\rudra\\AppData\\Local\\Temp\\ipykernel_6820\\1767733992.py:15: RuntimeWarning: invalid value encountered in divide\n",
      "  channel_image /= channel_image.std()\n",
      "C:\\Users\\rudra\\AppData\\Local\\Temp\\ipykernel_6820\\1767733992.py:18: RuntimeWarning: invalid value encountered in cast\n",
      "  channel_image = np.clip(channel_image, 0, 255).astype('uint8')\n"
     ]
    },
    {
     "name": "stdout",
     "output_type": "stream",
     "text": [
      "[INFO] Training network for shark fold 2...\n",
      "Epoch 1/20\n",
      "71/71 [==============================] - 4s 48ms/step - loss: 0.2396 - accuracy: 0.9085\n",
      "Epoch 2/20\n",
      "71/71 [==============================] - 3s 48ms/step - loss: 0.1990 - accuracy: 0.9220\n",
      "Epoch 3/20\n",
      "71/71 [==============================] - 3s 48ms/step - loss: 0.1608 - accuracy: 0.9412\n",
      "Epoch 4/20\n",
      "71/71 [==============================] - 3s 49ms/step - loss: 0.1658 - accuracy: 0.9416\n",
      "Epoch 5/20\n",
      "71/71 [==============================] - 3s 48ms/step - loss: 0.1229 - accuracy: 0.9572\n",
      "Epoch 6/20\n",
      "71/71 [==============================] - 3s 47ms/step - loss: 0.0964 - accuracy: 0.9661\n",
      "Epoch 7/20\n",
      "71/71 [==============================] - 3s 47ms/step - loss: 0.0947 - accuracy: 0.9679\n",
      "Epoch 8/20\n",
      "71/71 [==============================] - 3s 48ms/step - loss: 0.1077 - accuracy: 0.9612\n",
      "Epoch 9/20\n",
      "71/71 [==============================] - 3s 48ms/step - loss: 0.0621 - accuracy: 0.9768\n",
      "Epoch 10/20\n",
      "71/71 [==============================] - 3s 47ms/step - loss: 0.0512 - accuracy: 0.9840\n",
      "Epoch 11/20\n",
      "71/71 [==============================] - 3s 47ms/step - loss: 0.0377 - accuracy: 0.9889\n",
      "Epoch 12/20\n",
      "71/71 [==============================] - 3s 48ms/step - loss: 0.0732 - accuracy: 0.9773\n",
      "Epoch 13/20\n",
      "71/71 [==============================] - 3s 47ms/step - loss: 0.0323 - accuracy: 0.9911\n",
      "Epoch 14/20\n",
      "71/71 [==============================] - 3s 47ms/step - loss: 0.0178 - accuracy: 0.9951\n",
      "Epoch 15/20\n",
      "71/71 [==============================] - 3s 47ms/step - loss: 0.0137 - accuracy: 0.9969\n",
      "Epoch 16/20\n",
      "71/71 [==============================] - 3s 48ms/step - loss: 0.0243 - accuracy: 0.9911\n",
      "Epoch 17/20\n",
      "71/71 [==============================] - 3s 47ms/step - loss: 0.0260 - accuracy: 0.9915\n",
      "Epoch 18/20\n",
      "71/71 [==============================] - 3s 47ms/step - loss: 0.0160 - accuracy: 0.9951\n",
      "Epoch 19/20\n",
      "71/71 [==============================] - 3s 48ms/step - loss: 0.0102 - accuracy: 0.9969\n",
      "Epoch 20/20\n",
      "71/71 [==============================] - 3s 47ms/step - loss: 0.0381 - accuracy: 0.9857\n",
      "[INFO] Saving Model for shark fold 2 ...\n",
      "36/36 [==============================] - 0s 10ms/step\n"
     ]
    },
    {
     "name": "stderr",
     "output_type": "stream",
     "text": [
      "C:\\Users\\rudra\\AppData\\Local\\Temp\\ipykernel_6820\\3249705492.py:34: UserWarning: FigureCanvasAgg is non-interactive, and thus cannot be shown\n",
      "  plt.show()\n"
     ]
    },
    {
     "name": "stdout",
     "output_type": "stream",
     "text": [
      "1/1 [==============================] - 0s 80ms/step\n"
     ]
    },
    {
     "name": "stderr",
     "output_type": "stream",
     "text": [
      "C:\\Users\\rudra\\AppData\\Local\\Temp\\ipykernel_6820\\1767733992.py:15: RuntimeWarning: invalid value encountered in divide\n",
      "  channel_image /= channel_image.std()\n",
      "C:\\Users\\rudra\\AppData\\Local\\Temp\\ipykernel_6820\\1767733992.py:18: RuntimeWarning: invalid value encountered in cast\n",
      "  channel_image = np.clip(channel_image, 0, 255).astype('uint8')\n"
     ]
    },
    {
     "name": "stdout",
     "output_type": "stream",
     "text": [
      "[INFO] Training network for shark fold 3...\n",
      "Epoch 1/20\n",
      "71/71 [==============================] - 4s 49ms/step - loss: 0.2611 - accuracy: 0.8939\n",
      "Epoch 2/20\n",
      "71/71 [==============================] - 4s 53ms/step - loss: 0.1999 - accuracy: 0.9207\n",
      "Epoch 3/20\n",
      "71/71 [==============================] - 3s 48ms/step - loss: 0.1543 - accuracy: 0.9492\n",
      "Epoch 4/20\n",
      "71/71 [==============================] - 3s 47ms/step - loss: 0.1597 - accuracy: 0.9403\n",
      "Epoch 5/20\n",
      "71/71 [==============================] - 3s 48ms/step - loss: 0.1155 - accuracy: 0.9635\n",
      "Epoch 6/20\n",
      "71/71 [==============================] - 3s 47ms/step - loss: 0.0867 - accuracy: 0.9715\n",
      "Epoch 7/20\n",
      "71/71 [==============================] - 3s 48ms/step - loss: 0.0808 - accuracy: 0.9724\n",
      "Epoch 8/20\n",
      "71/71 [==============================] - 3s 47ms/step - loss: 0.0627 - accuracy: 0.9786\n",
      "Epoch 9/20\n",
      "71/71 [==============================] - 3s 47ms/step - loss: 0.0892 - accuracy: 0.9684\n",
      "Epoch 10/20\n",
      "71/71 [==============================] - 3s 47ms/step - loss: 0.0801 - accuracy: 0.9764\n",
      "Epoch 11/20\n",
      "71/71 [==============================] - 3s 47ms/step - loss: 0.0604 - accuracy: 0.9813\n",
      "Epoch 12/20\n",
      "71/71 [==============================] - 3s 47ms/step - loss: 0.0640 - accuracy: 0.9791\n",
      "Epoch 13/20\n",
      "71/71 [==============================] - 3s 47ms/step - loss: 0.0444 - accuracy: 0.9862\n",
      "Epoch 14/20\n",
      "71/71 [==============================] - 3s 47ms/step - loss: 0.0465 - accuracy: 0.9866\n",
      "Epoch 15/20\n",
      "71/71 [==============================] - 3s 47ms/step - loss: 0.0326 - accuracy: 0.9880\n",
      "Epoch 16/20\n",
      "71/71 [==============================] - 3s 47ms/step - loss: 0.0197 - accuracy: 0.9955\n",
      "Epoch 17/20\n",
      "71/71 [==============================] - 3s 47ms/step - loss: 0.0089 - accuracy: 0.9982\n",
      "Epoch 18/20\n",
      "71/71 [==============================] - 3s 47ms/step - loss: 0.0124 - accuracy: 0.9978\n",
      "Epoch 19/20\n",
      "71/71 [==============================] - 3s 47ms/step - loss: 0.0096 - accuracy: 0.9982\n",
      "Epoch 20/20\n",
      "71/71 [==============================] - 3s 47ms/step - loss: 0.0067 - accuracy: 0.9982\n",
      "[INFO] Saving Model for shark fold 3 ...\n",
      "36/36 [==============================] - 0s 11ms/step\n"
     ]
    },
    {
     "name": "stderr",
     "output_type": "stream",
     "text": [
      "C:\\Users\\rudra\\AppData\\Local\\Temp\\ipykernel_6820\\3249705492.py:34: UserWarning: FigureCanvasAgg is non-interactive, and thus cannot be shown\n",
      "  plt.show()\n"
     ]
    },
    {
     "name": "stdout",
     "output_type": "stream",
     "text": [
      "1/1 [==============================] - 0s 78ms/step\n",
      "[INFO] Loading images ...\n",
      "[INFO] Processing rest ...\n",
      "[INFO] Processing sheep ...\n",
      "[INFO] image extract completed\n",
      "total train samples: \n",
      "3429\n",
      "[INFO] Training network for sheep fold 1...\n",
      "Epoch 1/20\n",
      "71/71 [==============================] - 5s 48ms/step - loss: 0.4893 - accuracy: 0.7720\n",
      "Epoch 2/20\n",
      "71/71 [==============================] - 3s 47ms/step - loss: 0.3310 - accuracy: 0.8594\n",
      "Epoch 3/20\n",
      "71/71 [==============================] - 3s 47ms/step - loss: 0.2507 - accuracy: 0.9002\n",
      "Epoch 4/20\n",
      "71/71 [==============================] - 3s 47ms/step - loss: 0.2003 - accuracy: 0.9228\n",
      "Epoch 5/20\n",
      "71/71 [==============================] - 3s 48ms/step - loss: 0.1248 - accuracy: 0.9561\n",
      "Epoch 6/20\n",
      "71/71 [==============================] - 3s 47ms/step - loss: 0.0790 - accuracy: 0.9707\n",
      "Epoch 7/20\n",
      "71/71 [==============================] - 3s 47ms/step - loss: 0.0806 - accuracy: 0.9707\n",
      "Epoch 8/20\n",
      "71/71 [==============================] - 3s 47ms/step - loss: 0.0794 - accuracy: 0.9716\n",
      "Epoch 9/20\n",
      "71/71 [==============================] - 3s 47ms/step - loss: 0.0267 - accuracy: 0.9933\n",
      "Epoch 10/20\n",
      "71/71 [==============================] - 3s 47ms/step - loss: 0.0386 - accuracy: 0.9880\n",
      "Epoch 11/20\n",
      "71/71 [==============================] - 3s 48ms/step - loss: 0.0342 - accuracy: 0.9898\n",
      "Epoch 12/20\n",
      "71/71 [==============================] - 3s 47ms/step - loss: 0.0359 - accuracy: 0.9907\n",
      "Epoch 13/20\n",
      "71/71 [==============================] - 3s 47ms/step - loss: 0.0176 - accuracy: 0.9938\n",
      "Epoch 14/20\n",
      "71/71 [==============================] - 3s 47ms/step - loss: 0.0401 - accuracy: 0.9889\n",
      "Epoch 15/20\n",
      "71/71 [==============================] - 3s 47ms/step - loss: 0.0486 - accuracy: 0.9796\n",
      "Epoch 16/20\n",
      "71/71 [==============================] - 3s 47ms/step - loss: 0.0276 - accuracy: 0.9885\n",
      "Epoch 17/20\n",
      "71/71 [==============================] - 3s 47ms/step - loss: 0.0088 - accuracy: 0.9991\n",
      "Epoch 18/20\n",
      "71/71 [==============================] - 3s 47ms/step - loss: 0.0065 - accuracy: 0.9982\n",
      "Epoch 19/20\n",
      "71/71 [==============================] - 3s 47ms/step - loss: 0.0350 - accuracy: 0.9898\n",
      "Epoch 20/20\n",
      "71/71 [==============================] - 3s 48ms/step - loss: 0.0385 - accuracy: 0.9871\n",
      "[INFO] Saving Model for sheep fold 1 ...\n",
      "36/36 [==============================] - 0s 10ms/step\n"
     ]
    },
    {
     "name": "stderr",
     "output_type": "stream",
     "text": [
      "C:\\Users\\rudra\\AppData\\Local\\Temp\\ipykernel_6820\\3249705492.py:34: UserWarning: FigureCanvasAgg is non-interactive, and thus cannot be shown\n",
      "  plt.show()\n"
     ]
    },
    {
     "name": "stdout",
     "output_type": "stream",
     "text": [
      "1/1 [==============================] - 0s 78ms/step\n"
     ]
    },
    {
     "name": "stderr",
     "output_type": "stream",
     "text": [
      "C:\\Users\\rudra\\AppData\\Local\\Temp\\ipykernel_6820\\1767733992.py:15: RuntimeWarning: invalid value encountered in divide\n",
      "  channel_image /= channel_image.std()\n",
      "C:\\Users\\rudra\\AppData\\Local\\Temp\\ipykernel_6820\\1767733992.py:18: RuntimeWarning: invalid value encountered in cast\n",
      "  channel_image = np.clip(channel_image, 0, 255).astype('uint8')\n"
     ]
    },
    {
     "name": "stdout",
     "output_type": "stream",
     "text": [
      "[INFO] Training network for sheep fold 2...\n",
      "Epoch 1/20\n",
      "71/71 [==============================] - 4s 48ms/step - loss: 0.5067 - accuracy: 0.7509\n",
      "Epoch 2/20\n",
      "71/71 [==============================] - 3s 47ms/step - loss: 0.3596 - accuracy: 0.8425\n",
      "Epoch 3/20\n",
      "71/71 [==============================] - 3s 47ms/step - loss: 0.2838 - accuracy: 0.8784\n",
      "Epoch 4/20\n",
      "71/71 [==============================] - 3s 47ms/step - loss: 0.2026 - accuracy: 0.9246\n",
      "Epoch 5/20\n",
      "71/71 [==============================] - 3s 47ms/step - loss: 0.1670 - accuracy: 0.9388\n",
      "Epoch 6/20\n",
      "71/71 [==============================] - 3s 47ms/step - loss: 0.1304 - accuracy: 0.9530\n",
      "Epoch 7/20\n",
      "71/71 [==============================] - 3s 47ms/step - loss: 0.0908 - accuracy: 0.9676\n",
      "Epoch 8/20\n",
      "71/71 [==============================] - 3s 47ms/step - loss: 0.0666 - accuracy: 0.9769\n",
      "Epoch 9/20\n",
      "71/71 [==============================] - 3s 47ms/step - loss: 0.0429 - accuracy: 0.9867\n",
      "Epoch 10/20\n",
      "71/71 [==============================] - 3s 47ms/step - loss: 0.0409 - accuracy: 0.9854\n",
      "Epoch 11/20\n",
      "71/71 [==============================] - 3s 47ms/step - loss: 0.0310 - accuracy: 0.9916\n",
      "Epoch 12/20\n",
      "71/71 [==============================] - 3s 47ms/step - loss: 0.0429 - accuracy: 0.9854\n",
      "Epoch 13/20\n",
      "71/71 [==============================] - 3s 47ms/step - loss: 0.0342 - accuracy: 0.9867\n",
      "Epoch 14/20\n",
      "71/71 [==============================] - 3s 47ms/step - loss: 0.0183 - accuracy: 0.9933\n",
      "Epoch 15/20\n",
      "71/71 [==============================] - 3s 47ms/step - loss: 0.0225 - accuracy: 0.9938\n",
      "Epoch 16/20\n",
      "71/71 [==============================] - 3s 47ms/step - loss: 0.0248 - accuracy: 0.9920\n",
      "Epoch 17/20\n",
      "71/71 [==============================] - 3s 47ms/step - loss: 0.0257 - accuracy: 0.9920\n",
      "Epoch 18/20\n",
      "71/71 [==============================] - 3s 47ms/step - loss: 0.0386 - accuracy: 0.9871\n",
      "Epoch 19/20\n",
      "71/71 [==============================] - 3s 47ms/step - loss: 0.0533 - accuracy: 0.9827\n",
      "Epoch 20/20\n",
      "71/71 [==============================] - 3s 47ms/step - loss: 0.0280 - accuracy: 0.9907\n",
      "[INFO] Saving Model for sheep fold 2 ...\n",
      "36/36 [==============================] - 0s 10ms/step\n"
     ]
    },
    {
     "name": "stderr",
     "output_type": "stream",
     "text": [
      "C:\\Users\\rudra\\AppData\\Local\\Temp\\ipykernel_6820\\3249705492.py:34: UserWarning: FigureCanvasAgg is non-interactive, and thus cannot be shown\n",
      "  plt.show()\n"
     ]
    },
    {
     "name": "stdout",
     "output_type": "stream",
     "text": [
      "1/1 [==============================] - 0s 54ms/step\n"
     ]
    },
    {
     "name": "stderr",
     "output_type": "stream",
     "text": [
      "C:\\Users\\rudra\\AppData\\Local\\Temp\\ipykernel_6820\\1767733992.py:15: RuntimeWarning: invalid value encountered in divide\n",
      "  channel_image /= channel_image.std()\n",
      "C:\\Users\\rudra\\AppData\\Local\\Temp\\ipykernel_6820\\1767733992.py:18: RuntimeWarning: invalid value encountered in cast\n",
      "  channel_image = np.clip(channel_image, 0, 255).astype('uint8')\n"
     ]
    },
    {
     "name": "stdout",
     "output_type": "stream",
     "text": [
      "[INFO] Training network for sheep fold 3...\n",
      "Epoch 1/20\n",
      "71/71 [==============================] - 4s 48ms/step - loss: 0.5253 - accuracy: 0.7416\n",
      "Epoch 2/20\n",
      "71/71 [==============================] - 3s 48ms/step - loss: 0.3774 - accuracy: 0.8310\n",
      "Epoch 3/20\n",
      "71/71 [==============================] - 3s 47ms/step - loss: 0.2918 - accuracy: 0.8776\n",
      "Epoch 4/20\n",
      "71/71 [==============================] - 3s 47ms/step - loss: 0.2297 - accuracy: 0.9077\n",
      "Epoch 5/20\n",
      "71/71 [==============================] - 3s 47ms/step - loss: 0.2500 - accuracy: 0.8993\n",
      "Epoch 6/20\n",
      "71/71 [==============================] - 3s 47ms/step - loss: 0.1614 - accuracy: 0.9379\n",
      "Epoch 7/20\n",
      "71/71 [==============================] - 3s 47ms/step - loss: 0.0901 - accuracy: 0.9685\n",
      "Epoch 8/20\n",
      "71/71 [==============================] - 3s 47ms/step - loss: 0.0554 - accuracy: 0.9805\n",
      "Epoch 9/20\n",
      "71/71 [==============================] - 3s 47ms/step - loss: 0.0563 - accuracy: 0.9827\n",
      "Epoch 10/20\n",
      "71/71 [==============================] - 3s 47ms/step - loss: 0.0616 - accuracy: 0.9809\n",
      "Epoch 11/20\n",
      "71/71 [==============================] - 3s 47ms/step - loss: 0.0386 - accuracy: 0.9898\n",
      "Epoch 12/20\n",
      "71/71 [==============================] - 3s 47ms/step - loss: 0.0438 - accuracy: 0.9854\n",
      "Epoch 13/20\n",
      "71/71 [==============================] - 3s 47ms/step - loss: 0.0253 - accuracy: 0.9920\n",
      "Epoch 14/20\n",
      "71/71 [==============================] - 3s 47ms/step - loss: 0.0196 - accuracy: 0.9942\n",
      "Epoch 15/20\n",
      "71/71 [==============================] - 3s 47ms/step - loss: 0.0223 - accuracy: 0.9938\n",
      "Epoch 16/20\n",
      "71/71 [==============================] - 3s 47ms/step - loss: 0.0234 - accuracy: 0.9920\n",
      "Epoch 17/20\n",
      "71/71 [==============================] - 3s 47ms/step - loss: 0.0501 - accuracy: 0.9840\n",
      "Epoch 18/20\n",
      "71/71 [==============================] - 3s 47ms/step - loss: 0.0213 - accuracy: 0.9942\n",
      "Epoch 19/20\n",
      "71/71 [==============================] - 3s 47ms/step - loss: 0.0241 - accuracy: 0.9907\n",
      "Epoch 20/20\n",
      "71/71 [==============================] - 3s 47ms/step - loss: 0.0184 - accuracy: 0.9942\n",
      "[INFO] Saving Model for sheep fold 3 ...\n",
      "36/36 [==============================] - 0s 10ms/step\n"
     ]
    },
    {
     "name": "stderr",
     "output_type": "stream",
     "text": [
      "C:\\Users\\rudra\\AppData\\Local\\Temp\\ipykernel_6820\\3249705492.py:34: UserWarning: FigureCanvasAgg is non-interactive, and thus cannot be shown\n",
      "  plt.show()\n"
     ]
    },
    {
     "name": "stdout",
     "output_type": "stream",
     "text": [
      "1/1 [==============================] - 0s 63ms/step\n"
     ]
    },
    {
     "name": "stderr",
     "output_type": "stream",
     "text": [
      "C:\\Users\\rudra\\AppData\\Local\\Temp\\ipykernel_6820\\1767733992.py:15: RuntimeWarning: invalid value encountered in divide\n",
      "  channel_image /= channel_image.std()\n",
      "C:\\Users\\rudra\\AppData\\Local\\Temp\\ipykernel_6820\\1767733992.py:18: RuntimeWarning: invalid value encountered in cast\n",
      "  channel_image = np.clip(channel_image, 0, 255).astype('uint8')\n"
     ]
    },
    {
     "name": "stdout",
     "output_type": "stream",
     "text": [
      "[INFO] Loading images ...\n",
      "[INFO] Processing rest ...\n",
      "[INFO] Processing snake ...\n",
      "[INFO] image extract completed\n",
      "total train samples: \n",
      "3411\n",
      "[INFO] Training network for snake fold 1...\n",
      "Epoch 1/20\n",
      "71/71 [==============================] - 5s 48ms/step - loss: 0.5681 - accuracy: 0.7060\n",
      "Epoch 2/20\n",
      "71/71 [==============================] - 4s 48ms/step - loss: 0.4802 - accuracy: 0.7810\n",
      "Epoch 3/20\n",
      "71/71 [==============================] - 3s 47ms/step - loss: 0.3531 - accuracy: 0.8537\n",
      "Epoch 4/20\n",
      "71/71 [==============================] - 3s 47ms/step - loss: 0.2781 - accuracy: 0.8938\n",
      "Epoch 5/20\n",
      "71/71 [==============================] - 3s 47ms/step - loss: 0.2164 - accuracy: 0.9153\n",
      "Epoch 6/20\n",
      "71/71 [==============================] - 3s 47ms/step - loss: 0.1471 - accuracy: 0.9492\n",
      "Epoch 7/20\n",
      "71/71 [==============================] - 3s 47ms/step - loss: 0.1401 - accuracy: 0.9487\n",
      "Epoch 8/20\n",
      "71/71 [==============================] - 3s 47ms/step - loss: 0.0925 - accuracy: 0.9701\n",
      "Epoch 9/20\n",
      "71/71 [==============================] - 3s 47ms/step - loss: 0.0722 - accuracy: 0.9773\n",
      "Epoch 10/20\n",
      "71/71 [==============================] - 3s 47ms/step - loss: 0.0784 - accuracy: 0.9746\n",
      "Epoch 11/20\n",
      "71/71 [==============================] - 3s 47ms/step - loss: 0.0495 - accuracy: 0.9871\n",
      "Epoch 12/20\n",
      "71/71 [==============================] - 3s 47ms/step - loss: 0.0459 - accuracy: 0.9875\n",
      "Epoch 13/20\n",
      "71/71 [==============================] - 3s 47ms/step - loss: 0.0500 - accuracy: 0.9835\n",
      "Epoch 14/20\n",
      "71/71 [==============================] - 3s 47ms/step - loss: 0.1436 - accuracy: 0.9483\n",
      "Epoch 15/20\n",
      "71/71 [==============================] - 3s 47ms/step - loss: 0.0575 - accuracy: 0.9822\n",
      "Epoch 16/20\n",
      "71/71 [==============================] - 3s 47ms/step - loss: 0.0320 - accuracy: 0.9946\n",
      "Epoch 17/20\n",
      "71/71 [==============================] - 3s 48ms/step - loss: 0.0301 - accuracy: 0.9897\n",
      "Epoch 18/20\n",
      "71/71 [==============================] - 3s 47ms/step - loss: 0.0379 - accuracy: 0.9866\n",
      "Epoch 19/20\n",
      "71/71 [==============================] - 3s 47ms/step - loss: 0.0243 - accuracy: 0.9911\n",
      "Epoch 20/20\n",
      "71/71 [==============================] - 3s 47ms/step - loss: 0.0155 - accuracy: 0.9969\n",
      "[INFO] Saving Model for snake fold 1 ...\n",
      "36/36 [==============================] - 0s 10ms/step\n"
     ]
    },
    {
     "name": "stderr",
     "output_type": "stream",
     "text": [
      "C:\\Users\\rudra\\AppData\\Local\\Temp\\ipykernel_6820\\3249705492.py:34: UserWarning: FigureCanvasAgg is non-interactive, and thus cannot be shown\n",
      "  plt.show()\n"
     ]
    },
    {
     "name": "stdout",
     "output_type": "stream",
     "text": [
      "1/1 [==============================] - 0s 72ms/step\n"
     ]
    },
    {
     "name": "stderr",
     "output_type": "stream",
     "text": [
      "C:\\Users\\rudra\\AppData\\Local\\Temp\\ipykernel_6820\\1767733992.py:15: RuntimeWarning: invalid value encountered in divide\n",
      "  channel_image /= channel_image.std()\n",
      "C:\\Users\\rudra\\AppData\\Local\\Temp\\ipykernel_6820\\1767733992.py:18: RuntimeWarning: invalid value encountered in cast\n",
      "  channel_image = np.clip(channel_image, 0, 255).astype('uint8')\n"
     ]
    },
    {
     "name": "stdout",
     "output_type": "stream",
     "text": [
      "[INFO] Training network for snake fold 2...\n",
      "Epoch 1/20\n",
      "71/71 [==============================] - 4s 48ms/step - loss: 0.5685 - accuracy: 0.7077\n",
      "Epoch 2/20\n",
      "71/71 [==============================] - 3s 47ms/step - loss: 0.3989 - accuracy: 0.8198\n",
      "Epoch 3/20\n",
      "71/71 [==============================] - 3s 47ms/step - loss: 0.3036 - accuracy: 0.8760\n",
      "Epoch 4/20\n",
      "71/71 [==============================] - 3s 47ms/step - loss: 0.2447 - accuracy: 0.9005\n",
      "Epoch 5/20\n",
      "71/71 [==============================] - 3s 47ms/step - loss: 0.2110 - accuracy: 0.9148\n",
      "Epoch 6/20\n",
      "71/71 [==============================] - 3s 47ms/step - loss: 0.1093 - accuracy: 0.9639\n",
      "Epoch 7/20\n",
      "71/71 [==============================] - 3s 47ms/step - loss: 0.0713 - accuracy: 0.9773\n",
      "Epoch 8/20\n",
      "71/71 [==============================] - 3s 47ms/step - loss: 0.0622 - accuracy: 0.9804\n",
      "Epoch 9/20\n",
      "71/71 [==============================] - 3s 47ms/step - loss: 0.0652 - accuracy: 0.9781\n",
      "Epoch 10/20\n",
      "71/71 [==============================] - 3s 48ms/step - loss: 0.0504 - accuracy: 0.9835\n",
      "Epoch 11/20\n",
      "71/71 [==============================] - 3s 48ms/step - loss: 0.0403 - accuracy: 0.9866\n",
      "Epoch 12/20\n",
      "71/71 [==============================] - 3s 47ms/step - loss: 0.0366 - accuracy: 0.9897\n",
      "Epoch 13/20\n",
      "71/71 [==============================] - 3s 47ms/step - loss: 0.0203 - accuracy: 0.9951\n",
      "Epoch 14/20\n",
      "71/71 [==============================] - 3s 47ms/step - loss: 0.0140 - accuracy: 0.9969\n",
      "Epoch 15/20\n",
      "71/71 [==============================] - 3s 47ms/step - loss: 0.0205 - accuracy: 0.9951\n",
      "Epoch 16/20\n",
      "71/71 [==============================] - 3s 48ms/step - loss: 0.0648 - accuracy: 0.9790\n",
      "Epoch 17/20\n",
      "71/71 [==============================] - 3s 47ms/step - loss: 0.0921 - accuracy: 0.9683\n",
      "Epoch 18/20\n",
      "71/71 [==============================] - 3s 47ms/step - loss: 0.0350 - accuracy: 0.9911\n",
      "Epoch 19/20\n",
      "71/71 [==============================] - 3s 47ms/step - loss: 0.0169 - accuracy: 0.9964\n",
      "Epoch 20/20\n",
      "71/71 [==============================] - 3s 47ms/step - loss: 0.0110 - accuracy: 0.9987\n",
      "[INFO] Saving Model for snake fold 2 ...\n",
      "36/36 [==============================] - 1s 11ms/step\n"
     ]
    },
    {
     "name": "stderr",
     "output_type": "stream",
     "text": [
      "C:\\Users\\rudra\\AppData\\Local\\Temp\\ipykernel_6820\\3249705492.py:34: UserWarning: FigureCanvasAgg is non-interactive, and thus cannot be shown\n",
      "  plt.show()\n"
     ]
    },
    {
     "name": "stdout",
     "output_type": "stream",
     "text": [
      "1/1 [==============================] - 0s 85ms/step\n"
     ]
    },
    {
     "name": "stderr",
     "output_type": "stream",
     "text": [
      "C:\\Users\\rudra\\AppData\\Local\\Temp\\ipykernel_6820\\1767733992.py:15: RuntimeWarning: invalid value encountered in divide\n",
      "  channel_image /= channel_image.std()\n",
      "C:\\Users\\rudra\\AppData\\Local\\Temp\\ipykernel_6820\\1767733992.py:18: RuntimeWarning: invalid value encountered in cast\n",
      "  channel_image = np.clip(channel_image, 0, 255).astype('uint8')\n"
     ]
    },
    {
     "name": "stdout",
     "output_type": "stream",
     "text": [
      "[INFO] Training network for snake fold 3...\n",
      "Epoch 1/20\n",
      "71/71 [==============================] - 4s 48ms/step - loss: 0.5699 - accuracy: 0.7130\n",
      "Epoch 2/20\n",
      "71/71 [==============================] - 3s 48ms/step - loss: 0.4476 - accuracy: 0.7841\n",
      "Epoch 3/20\n",
      "71/71 [==============================] - 3s 47ms/step - loss: 0.3891 - accuracy: 0.8332\n",
      "Epoch 4/20\n",
      "71/71 [==============================] - 3s 47ms/step - loss: 0.2880 - accuracy: 0.8805\n",
      "Epoch 5/20\n",
      "71/71 [==============================] - 3s 47ms/step - loss: 0.2384 - accuracy: 0.9041\n",
      "Epoch 6/20\n",
      "71/71 [==============================] - 3s 47ms/step - loss: 0.1660 - accuracy: 0.9384\n",
      "Epoch 7/20\n",
      "71/71 [==============================] - 3s 47ms/step - loss: 0.1218 - accuracy: 0.9590\n",
      "Epoch 8/20\n",
      "71/71 [==============================] - 3s 47ms/step - loss: 0.1093 - accuracy: 0.9581\n",
      "Epoch 9/20\n",
      "71/71 [==============================] - 3s 47ms/step - loss: 0.0892 - accuracy: 0.9688\n",
      "Epoch 10/20\n",
      "71/71 [==============================] - 3s 48ms/step - loss: 0.0603 - accuracy: 0.9817\n",
      "Epoch 11/20\n",
      "71/71 [==============================] - 3s 48ms/step - loss: 0.0501 - accuracy: 0.9844\n",
      "Epoch 12/20\n",
      "71/71 [==============================] - 3s 47ms/step - loss: 0.0695 - accuracy: 0.9777\n",
      "Epoch 13/20\n",
      "71/71 [==============================] - 3s 47ms/step - loss: 0.0524 - accuracy: 0.9844\n",
      "Epoch 14/20\n",
      "71/71 [==============================] - 3s 47ms/step - loss: 0.0301 - accuracy: 0.9929\n",
      "Epoch 15/20\n",
      "71/71 [==============================] - 3s 47ms/step - loss: 0.1225 - accuracy: 0.9527\n",
      "Epoch 16/20\n",
      "71/71 [==============================] - 3s 47ms/step - loss: 0.0739 - accuracy: 0.9768\n",
      "Epoch 17/20\n",
      "71/71 [==============================] - 3s 47ms/step - loss: 0.0373 - accuracy: 0.9911\n",
      "Epoch 18/20\n",
      "71/71 [==============================] - 3s 47ms/step - loss: 0.0318 - accuracy: 0.9920\n",
      "Epoch 19/20\n",
      "71/71 [==============================] - 3s 47ms/step - loss: 0.0278 - accuracy: 0.9933\n",
      "Epoch 20/20\n",
      "71/71 [==============================] - 3s 47ms/step - loss: 0.0189 - accuracy: 0.9955\n",
      "[INFO] Saving Model for snake fold 3 ...\n",
      "36/36 [==============================] - 0s 11ms/step\n"
     ]
    },
    {
     "name": "stderr",
     "output_type": "stream",
     "text": [
      "C:\\Users\\rudra\\AppData\\Local\\Temp\\ipykernel_6820\\3249705492.py:34: UserWarning: FigureCanvasAgg is non-interactive, and thus cannot be shown\n",
      "  plt.show()\n"
     ]
    },
    {
     "name": "stdout",
     "output_type": "stream",
     "text": [
      "1/1 [==============================] - 0s 74ms/step\n"
     ]
    },
    {
     "name": "stderr",
     "output_type": "stream",
     "text": [
      "C:\\Users\\rudra\\AppData\\Local\\Temp\\ipykernel_6820\\1767733992.py:15: RuntimeWarning: invalid value encountered in divide\n",
      "  channel_image /= channel_image.std()\n",
      "C:\\Users\\rudra\\AppData\\Local\\Temp\\ipykernel_6820\\1767733992.py:18: RuntimeWarning: invalid value encountered in cast\n",
      "  channel_image = np.clip(channel_image, 0, 255).astype('uint8')\n"
     ]
    },
    {
     "name": "stdout",
     "output_type": "stream",
     "text": [
      "[INFO] Loading images ...\n",
      "[INFO] Processing rest ...\n",
      "[INFO] Processing sparrow ...\n",
      "[INFO] image extract completed\n",
      "total train samples: \n",
      "3426\n",
      "[INFO] Training network for sparrow fold 1...\n",
      "Epoch 1/20\n",
      "71/71 [==============================] - 5s 49ms/step - loss: 0.5136 - accuracy: 0.7447\n",
      "Epoch 2/20\n",
      "71/71 [==============================] - 3s 48ms/step - loss: 0.3205 - accuracy: 0.8686\n",
      "Epoch 3/20\n",
      "71/71 [==============================] - 3s 48ms/step - loss: 0.2308 - accuracy: 0.9072\n",
      "Epoch 4/20\n",
      "71/71 [==============================] - 3s 47ms/step - loss: 0.1541 - accuracy: 0.9392\n",
      "Epoch 5/20\n",
      "71/71 [==============================] - 3s 47ms/step - loss: 0.1264 - accuracy: 0.9489\n",
      "Epoch 6/20\n",
      "71/71 [==============================] - 3s 47ms/step - loss: 0.0605 - accuracy: 0.9818\n",
      "Epoch 7/20\n",
      "71/71 [==============================] - 3s 47ms/step - loss: 0.0706 - accuracy: 0.9769\n",
      "Epoch 8/20\n",
      "71/71 [==============================] - 3s 47ms/step - loss: 0.0585 - accuracy: 0.9774\n",
      "Epoch 9/20\n",
      "71/71 [==============================] - 3s 48ms/step - loss: 0.0512 - accuracy: 0.9831\n",
      "Epoch 10/20\n",
      "71/71 [==============================] - 3s 48ms/step - loss: 0.0653 - accuracy: 0.9756\n",
      "Epoch 11/20\n",
      "71/71 [==============================] - 3s 48ms/step - loss: 0.0383 - accuracy: 0.9889\n",
      "Epoch 12/20\n",
      "71/71 [==============================] - 3s 48ms/step - loss: 0.0262 - accuracy: 0.9929\n",
      "Epoch 13/20\n",
      "71/71 [==============================] - 3s 48ms/step - loss: 0.0141 - accuracy: 0.9969\n",
      "Epoch 14/20\n",
      "71/71 [==============================] - 3s 47ms/step - loss: 0.0208 - accuracy: 0.9933\n",
      "Epoch 15/20\n",
      "71/71 [==============================] - 3s 47ms/step - loss: 0.0240 - accuracy: 0.9942\n",
      "Epoch 16/20\n",
      "71/71 [==============================] - 3s 48ms/step - loss: 0.0087 - accuracy: 0.9973\n",
      "Epoch 17/20\n",
      "71/71 [==============================] - 3s 48ms/step - loss: 0.0051 - accuracy: 0.9991\n",
      "Epoch 18/20\n",
      "71/71 [==============================] - 3s 49ms/step - loss: 0.0053 - accuracy: 0.9991\n",
      "Epoch 19/20\n",
      "71/71 [==============================] - 3s 48ms/step - loss: 0.0107 - accuracy: 0.9964\n",
      "Epoch 20/20\n",
      "71/71 [==============================] - 3s 47ms/step - loss: 0.0411 - accuracy: 0.9862\n",
      "[INFO] Saving Model for sparrow fold 1 ...\n",
      "36/36 [==============================] - 0s 11ms/step\n"
     ]
    },
    {
     "name": "stderr",
     "output_type": "stream",
     "text": [
      "C:\\Users\\rudra\\AppData\\Local\\Temp\\ipykernel_6820\\3249705492.py:34: UserWarning: FigureCanvasAgg is non-interactive, and thus cannot be shown\n",
      "  plt.show()\n"
     ]
    },
    {
     "name": "stdout",
     "output_type": "stream",
     "text": [
      "1/1 [==============================] - 0s 75ms/step\n"
     ]
    },
    {
     "name": "stderr",
     "output_type": "stream",
     "text": [
      "C:\\Users\\rudra\\AppData\\Local\\Temp\\ipykernel_6820\\1767733992.py:15: RuntimeWarning: invalid value encountered in divide\n",
      "  channel_image /= channel_image.std()\n",
      "C:\\Users\\rudra\\AppData\\Local\\Temp\\ipykernel_6820\\1767733992.py:18: RuntimeWarning: invalid value encountered in cast\n",
      "  channel_image = np.clip(channel_image, 0, 255).astype('uint8')\n"
     ]
    },
    {
     "name": "stdout",
     "output_type": "stream",
     "text": [
      "[INFO] Training network for sparrow fold 2...\n",
      "Epoch 1/20\n",
      "71/71 [==============================] - 4s 48ms/step - loss: 0.5466 - accuracy: 0.7346\n",
      "Epoch 2/20\n",
      "71/71 [==============================] - 3s 48ms/step - loss: 0.3631 - accuracy: 0.8472\n",
      "Epoch 3/20\n",
      "71/71 [==============================] - 3s 47ms/step - loss: 0.2587 - accuracy: 0.8925\n",
      "Epoch 4/20\n",
      "71/71 [==============================] - 3s 47ms/step - loss: 0.1735 - accuracy: 0.9303\n",
      "Epoch 5/20\n",
      "71/71 [==============================] - 3s 47ms/step - loss: 0.1397 - accuracy: 0.9489\n",
      "Epoch 6/20\n",
      "71/71 [==============================] - 3s 46ms/step - loss: 0.1191 - accuracy: 0.9556\n",
      "Epoch 7/20\n",
      "71/71 [==============================] - 3s 47ms/step - loss: 0.0593 - accuracy: 0.9836\n",
      "Epoch 8/20\n",
      "71/71 [==============================] - 3s 47ms/step - loss: 0.0463 - accuracy: 0.9862\n",
      "Epoch 9/20\n",
      "71/71 [==============================] - 3s 47ms/step - loss: 0.0664 - accuracy: 0.9778\n",
      "Epoch 10/20\n",
      "71/71 [==============================] - 3s 47ms/step - loss: 0.0438 - accuracy: 0.9880\n",
      "Epoch 11/20\n",
      "71/71 [==============================] - 3s 47ms/step - loss: 0.0377 - accuracy: 0.9867\n",
      "Epoch 12/20\n",
      "71/71 [==============================] - 3s 47ms/step - loss: 0.0263 - accuracy: 0.9911\n",
      "Epoch 13/20\n",
      "71/71 [==============================] - 3s 47ms/step - loss: 0.0342 - accuracy: 0.9862\n",
      "Epoch 14/20\n",
      "71/71 [==============================] - 3s 47ms/step - loss: 0.0295 - accuracy: 0.9911\n",
      "Epoch 15/20\n",
      "71/71 [==============================] - 3s 47ms/step - loss: 0.0354 - accuracy: 0.9867\n",
      "Epoch 16/20\n",
      "71/71 [==============================] - 3s 47ms/step - loss: 0.1448 - accuracy: 0.9516\n",
      "Epoch 17/20\n",
      "71/71 [==============================] - 3s 47ms/step - loss: 0.0779 - accuracy: 0.9729\n",
      "Epoch 18/20\n",
      "71/71 [==============================] - 3s 47ms/step - loss: 0.0538 - accuracy: 0.9796\n",
      "Epoch 19/20\n",
      "71/71 [==============================] - 3s 47ms/step - loss: 0.0233 - accuracy: 0.9942\n",
      "Epoch 20/20\n",
      "71/71 [==============================] - 3s 47ms/step - loss: 0.0219 - accuracy: 0.9933\n",
      "[INFO] Saving Model for sparrow fold 2 ...\n",
      "36/36 [==============================] - 0s 10ms/step\n"
     ]
    },
    {
     "name": "stderr",
     "output_type": "stream",
     "text": [
      "C:\\Users\\rudra\\AppData\\Local\\Temp\\ipykernel_6820\\3249705492.py:34: UserWarning: FigureCanvasAgg is non-interactive, and thus cannot be shown\n",
      "  plt.show()\n"
     ]
    },
    {
     "name": "stdout",
     "output_type": "stream",
     "text": [
      "1/1 [==============================] - 0s 83ms/step\n"
     ]
    },
    {
     "name": "stderr",
     "output_type": "stream",
     "text": [
      "C:\\Users\\rudra\\AppData\\Local\\Temp\\ipykernel_6820\\1767733992.py:15: RuntimeWarning: invalid value encountered in divide\n",
      "  channel_image /= channel_image.std()\n",
      "C:\\Users\\rudra\\AppData\\Local\\Temp\\ipykernel_6820\\1767733992.py:18: RuntimeWarning: invalid value encountered in cast\n",
      "  channel_image = np.clip(channel_image, 0, 255).astype('uint8')\n"
     ]
    },
    {
     "name": "stdout",
     "output_type": "stream",
     "text": [
      "[INFO] Training network for sparrow fold 3...\n",
      "Epoch 1/20\n",
      "71/71 [==============================] - 4s 49ms/step - loss: 0.5209 - accuracy: 0.7667\n",
      "Epoch 2/20\n",
      "71/71 [==============================] - 3s 48ms/step - loss: 0.3802 - accuracy: 0.8379\n",
      "Epoch 3/20\n",
      "71/71 [==============================] - 3s 48ms/step - loss: 0.2906 - accuracy: 0.8806\n",
      "Epoch 4/20\n",
      "71/71 [==============================] - 3s 48ms/step - loss: 0.1864 - accuracy: 0.9290\n",
      "Epoch 5/20\n",
      "71/71 [==============================] - 3s 47ms/step - loss: 0.1525 - accuracy: 0.9458\n",
      "Epoch 6/20\n",
      "71/71 [==============================] - 3s 47ms/step - loss: 0.1657 - accuracy: 0.9409\n",
      "Epoch 7/20\n",
      "71/71 [==============================] - 3s 47ms/step - loss: 0.1234 - accuracy: 0.9569\n",
      "Epoch 8/20\n",
      "71/71 [==============================] - 3s 48ms/step - loss: 0.0884 - accuracy: 0.9689\n",
      "Epoch 9/20\n",
      "71/71 [==============================] - 3s 48ms/step - loss: 0.0763 - accuracy: 0.9751\n",
      "Epoch 10/20\n",
      "71/71 [==============================] - 3s 48ms/step - loss: 0.0878 - accuracy: 0.9707\n",
      "Epoch 11/20\n",
      "71/71 [==============================] - 3s 47ms/step - loss: 0.0447 - accuracy: 0.9862\n",
      "Epoch 12/20\n",
      "71/71 [==============================] - 4s 49ms/step - loss: 0.0460 - accuracy: 0.9862\n",
      "Epoch 13/20\n",
      "71/71 [==============================] - 4s 52ms/step - loss: 0.0403 - accuracy: 0.9876\n",
      "Epoch 14/20\n",
      "71/71 [==============================] - 4s 50ms/step - loss: 0.0515 - accuracy: 0.9818\n",
      "Epoch 15/20\n",
      "71/71 [==============================] - 4s 49ms/step - loss: 0.0382 - accuracy: 0.9880\n",
      "Epoch 16/20\n",
      "71/71 [==============================] - 4s 51ms/step - loss: 0.0346 - accuracy: 0.9911\n",
      "Epoch 17/20\n",
      "71/71 [==============================] - 4s 52ms/step - loss: 0.0346 - accuracy: 0.9889\n",
      "Epoch 18/20\n",
      "71/71 [==============================] - 4s 50ms/step - loss: 0.0145 - accuracy: 0.9969\n",
      "Epoch 19/20\n",
      "71/71 [==============================] - 4s 50ms/step - loss: 0.0490 - accuracy: 0.9827\n",
      "Epoch 20/20\n",
      "71/71 [==============================] - 4s 50ms/step - loss: 0.0461 - accuracy: 0.9809\n",
      "[INFO] Saving Model for sparrow fold 3 ...\n",
      "36/36 [==============================] - 1s 11ms/step\n"
     ]
    },
    {
     "name": "stderr",
     "output_type": "stream",
     "text": [
      "C:\\Users\\rudra\\AppData\\Local\\Temp\\ipykernel_6820\\3249705492.py:34: UserWarning: FigureCanvasAgg is non-interactive, and thus cannot be shown\n",
      "  plt.show()\n"
     ]
    },
    {
     "name": "stdout",
     "output_type": "stream",
     "text": [
      "1/1 [==============================] - 0s 94ms/step\n"
     ]
    },
    {
     "name": "stderr",
     "output_type": "stream",
     "text": [
      "C:\\Users\\rudra\\AppData\\Local\\Temp\\ipykernel_6820\\1767733992.py:15: RuntimeWarning: invalid value encountered in divide\n",
      "  channel_image /= channel_image.std()\n",
      "C:\\Users\\rudra\\AppData\\Local\\Temp\\ipykernel_6820\\1767733992.py:18: RuntimeWarning: invalid value encountered in cast\n",
      "  channel_image = np.clip(channel_image, 0, 255).astype('uint8')\n"
     ]
    },
    {
     "name": "stdout",
     "output_type": "stream",
     "text": [
      "[INFO] Loading images ...\n",
      "[INFO] Processing rest ...\n",
      "[INFO] Processing squid ...\n",
      "[INFO] image extract completed\n",
      "total train samples: \n",
      "3419\n",
      "[INFO] Training network for squid fold 1...\n",
      "Epoch 1/20\n",
      "71/71 [==============================] - 5s 49ms/step - loss: 0.4130 - accuracy: 0.8134\n",
      "Epoch 2/20\n",
      "71/71 [==============================] - 4s 53ms/step - loss: 0.3112 - accuracy: 0.8763\n",
      "Epoch 3/20\n",
      "71/71 [==============================] - 4s 50ms/step - loss: 0.2481 - accuracy: 0.9065\n",
      "Epoch 4/20\n",
      "71/71 [==============================] - 3s 48ms/step - loss: 0.1909 - accuracy: 0.9332\n",
      "Epoch 5/20\n",
      "71/71 [==============================] - 4s 52ms/step - loss: 0.1337 - accuracy: 0.9542\n",
      "Epoch 6/20\n",
      "71/71 [==============================] - 3s 47ms/step - loss: 0.1318 - accuracy: 0.9546\n",
      "Epoch 7/20\n",
      "71/71 [==============================] - 3s 47ms/step - loss: 0.0855 - accuracy: 0.9693\n",
      "Epoch 8/20\n",
      "71/71 [==============================] - 3s 47ms/step - loss: 0.0827 - accuracy: 0.9706\n",
      "Epoch 9/20\n",
      "71/71 [==============================] - 3s 47ms/step - loss: 0.0872 - accuracy: 0.9724\n",
      "Epoch 10/20\n",
      "71/71 [==============================] - 3s 47ms/step - loss: 0.0657 - accuracy: 0.9769\n",
      "Epoch 11/20\n",
      "71/71 [==============================] - 3s 47ms/step - loss: 0.0549 - accuracy: 0.9822\n",
      "Epoch 12/20\n",
      "71/71 [==============================] - 3s 47ms/step - loss: 0.0206 - accuracy: 0.9955\n",
      "Epoch 13/20\n",
      "71/71 [==============================] - 3s 47ms/step - loss: 0.0205 - accuracy: 0.9955\n",
      "Epoch 14/20\n",
      "71/71 [==============================] - 3s 49ms/step - loss: 0.0109 - accuracy: 0.9973\n",
      "Epoch 15/20\n",
      "71/71 [==============================] - 3s 48ms/step - loss: 0.0547 - accuracy: 0.9809\n",
      "Epoch 16/20\n",
      "71/71 [==============================] - 3s 49ms/step - loss: 0.0474 - accuracy: 0.9826\n",
      "Epoch 17/20\n",
      "71/71 [==============================] - 4s 53ms/step - loss: 0.0274 - accuracy: 0.9929\n",
      "Epoch 18/20\n",
      "71/71 [==============================] - 3s 48ms/step - loss: 0.0151 - accuracy: 0.9978\n",
      "Epoch 19/20\n",
      "71/71 [==============================] - 3s 49ms/step - loss: 0.0084 - accuracy: 0.9987\n",
      "Epoch 20/20\n",
      "71/71 [==============================] - 4s 52ms/step - loss: 0.0117 - accuracy: 0.9969\n",
      "[INFO] Saving Model for squid fold 1 ...\n",
      "36/36 [==============================] - 1s 10ms/step\n"
     ]
    },
    {
     "name": "stderr",
     "output_type": "stream",
     "text": [
      "C:\\Users\\rudra\\AppData\\Local\\Temp\\ipykernel_6820\\3249705492.py:34: UserWarning: FigureCanvasAgg is non-interactive, and thus cannot be shown\n",
      "  plt.show()\n"
     ]
    },
    {
     "name": "stdout",
     "output_type": "stream",
     "text": [
      "1/1 [==============================] - 0s 109ms/step\n"
     ]
    },
    {
     "name": "stderr",
     "output_type": "stream",
     "text": [
      "C:\\Users\\rudra\\AppData\\Local\\Temp\\ipykernel_6820\\1767733992.py:15: RuntimeWarning: invalid value encountered in divide\n",
      "  channel_image /= channel_image.std()\n",
      "C:\\Users\\rudra\\AppData\\Local\\Temp\\ipykernel_6820\\1767733992.py:18: RuntimeWarning: invalid value encountered in cast\n",
      "  channel_image = np.clip(channel_image, 0, 255).astype('uint8')\n"
     ]
    },
    {
     "name": "stdout",
     "output_type": "stream",
     "text": [
      "[INFO] Training network for squid fold 2...\n",
      "Epoch 1/20\n",
      "71/71 [==============================] - 5s 50ms/step - loss: 0.4316 - accuracy: 0.8072\n",
      "Epoch 2/20\n",
      "71/71 [==============================] - 4s 50ms/step - loss: 0.3393 - accuracy: 0.8598\n",
      "Epoch 3/20\n",
      "71/71 [==============================] - 3s 48ms/step - loss: 0.2384 - accuracy: 0.9083\n",
      "Epoch 4/20\n",
      "71/71 [==============================] - 3s 48ms/step - loss: 0.2062 - accuracy: 0.9163\n",
      "Epoch 5/20\n",
      "71/71 [==============================] - 3s 48ms/step - loss: 0.1577 - accuracy: 0.9457\n",
      "Epoch 6/20\n",
      "71/71 [==============================] - 3s 47ms/step - loss: 0.1060 - accuracy: 0.9635\n",
      "Epoch 7/20\n",
      "71/71 [==============================] - 3s 47ms/step - loss: 0.0749 - accuracy: 0.9746\n",
      "Epoch 8/20\n",
      "71/71 [==============================] - 3s 47ms/step - loss: 0.0800 - accuracy: 0.9711\n",
      "Epoch 9/20\n",
      "71/71 [==============================] - 3s 47ms/step - loss: 0.0651 - accuracy: 0.9755\n",
      "Epoch 10/20\n",
      "71/71 [==============================] - 3s 47ms/step - loss: 0.0686 - accuracy: 0.9769\n",
      "Epoch 11/20\n",
      "71/71 [==============================] - 3s 47ms/step - loss: 0.0536 - accuracy: 0.9809\n",
      "Epoch 12/20\n",
      "71/71 [==============================] - 3s 48ms/step - loss: 0.0456 - accuracy: 0.9826\n",
      "Epoch 13/20\n",
      "71/71 [==============================] - 3s 47ms/step - loss: 0.0568 - accuracy: 0.9804\n",
      "Epoch 14/20\n",
      "71/71 [==============================] - 3s 48ms/step - loss: 0.0476 - accuracy: 0.9840\n",
      "Epoch 15/20\n",
      "71/71 [==============================] - 3s 48ms/step - loss: 0.0294 - accuracy: 0.9911\n",
      "Epoch 16/20\n",
      "71/71 [==============================] - 3s 47ms/step - loss: 0.0923 - accuracy: 0.9684\n",
      "Epoch 17/20\n",
      "71/71 [==============================] - 3s 48ms/step - loss: 0.0283 - accuracy: 0.9902\n",
      "Epoch 18/20\n",
      "71/71 [==============================] - 3s 48ms/step - loss: 0.0209 - accuracy: 0.9947\n",
      "Epoch 19/20\n",
      "71/71 [==============================] - 3s 49ms/step - loss: 0.0121 - accuracy: 0.9973\n",
      "Epoch 20/20\n",
      "71/71 [==============================] - 3s 49ms/step - loss: 0.0105 - accuracy: 0.9973\n",
      "[INFO] Saving Model for squid fold 2 ...\n",
      "36/36 [==============================] - 1s 11ms/step\n"
     ]
    },
    {
     "name": "stderr",
     "output_type": "stream",
     "text": [
      "C:\\Users\\rudra\\AppData\\Local\\Temp\\ipykernel_6820\\3249705492.py:34: UserWarning: FigureCanvasAgg is non-interactive, and thus cannot be shown\n",
      "  plt.show()\n"
     ]
    },
    {
     "name": "stdout",
     "output_type": "stream",
     "text": [
      "1/1 [==============================] - 0s 62ms/step\n"
     ]
    },
    {
     "name": "stderr",
     "output_type": "stream",
     "text": [
      "C:\\Users\\rudra\\AppData\\Local\\Temp\\ipykernel_6820\\1767733992.py:15: RuntimeWarning: invalid value encountered in divide\n",
      "  channel_image /= channel_image.std()\n",
      "C:\\Users\\rudra\\AppData\\Local\\Temp\\ipykernel_6820\\1767733992.py:18: RuntimeWarning: invalid value encountered in cast\n",
      "  channel_image = np.clip(channel_image, 0, 255).astype('uint8')\n"
     ]
    },
    {
     "name": "stdout",
     "output_type": "stream",
     "text": [
      "[INFO] Training network for squid fold 3...\n",
      "Epoch 1/20\n",
      "71/71 [==============================] - 4s 49ms/step - loss: 0.4528 - accuracy: 0.8015\n",
      "Epoch 2/20\n",
      "71/71 [==============================] - 4s 52ms/step - loss: 0.3208 - accuracy: 0.8728\n",
      "Epoch 3/20\n",
      "71/71 [==============================] - 4s 51ms/step - loss: 0.2446 - accuracy: 0.9026\n",
      "Epoch 4/20\n",
      "71/71 [==============================] - 4s 52ms/step - loss: 0.2691 - accuracy: 0.8959\n",
      "Epoch 5/20\n",
      "71/71 [==============================] - 3s 48ms/step - loss: 0.2178 - accuracy: 0.9177\n",
      "Epoch 6/20\n",
      "71/71 [==============================] - 3s 48ms/step - loss: 0.1485 - accuracy: 0.9462\n",
      "Epoch 7/20\n",
      "71/71 [==============================] - 3s 49ms/step - loss: 0.1064 - accuracy: 0.9653\n",
      "Epoch 8/20\n",
      "71/71 [==============================] - 3s 48ms/step - loss: 0.0806 - accuracy: 0.9724\n",
      "Epoch 9/20\n",
      "71/71 [==============================] - 3s 49ms/step - loss: 0.0631 - accuracy: 0.9800\n",
      "Epoch 10/20\n",
      "71/71 [==============================] - 3s 48ms/step - loss: 0.1343 - accuracy: 0.9577\n",
      "Epoch 11/20\n",
      "71/71 [==============================] - 3s 48ms/step - loss: 0.0638 - accuracy: 0.9791\n",
      "Epoch 12/20\n",
      "71/71 [==============================] - 3s 48ms/step - loss: 0.0386 - accuracy: 0.9862\n",
      "Epoch 13/20\n",
      "71/71 [==============================] - 3s 48ms/step - loss: 0.0453 - accuracy: 0.9858\n",
      "Epoch 14/20\n",
      "71/71 [==============================] - 3s 48ms/step - loss: 0.0543 - accuracy: 0.9800\n",
      "Epoch 15/20\n",
      "71/71 [==============================] - 3s 48ms/step - loss: 0.0270 - accuracy: 0.9933\n",
      "Epoch 16/20\n",
      "71/71 [==============================] - 3s 48ms/step - loss: 0.0334 - accuracy: 0.9884\n",
      "Epoch 17/20\n",
      "71/71 [==============================] - 3s 48ms/step - loss: 0.0286 - accuracy: 0.9898\n",
      "Epoch 18/20\n",
      "71/71 [==============================] - 4s 51ms/step - loss: 0.0139 - accuracy: 0.9960\n",
      "Epoch 19/20\n",
      "71/71 [==============================] - 3s 48ms/step - loss: 0.0158 - accuracy: 0.9951\n",
      "Epoch 20/20\n",
      "71/71 [==============================] - 3s 49ms/step - loss: 0.0101 - accuracy: 0.9982\n",
      "[INFO] Saving Model for squid fold 3 ...\n",
      "36/36 [==============================] - 1s 11ms/step\n"
     ]
    },
    {
     "name": "stderr",
     "output_type": "stream",
     "text": [
      "C:\\Users\\rudra\\AppData\\Local\\Temp\\ipykernel_6820\\3249705492.py:34: UserWarning: FigureCanvasAgg is non-interactive, and thus cannot be shown\n",
      "  plt.show()\n"
     ]
    },
    {
     "name": "stdout",
     "output_type": "stream",
     "text": [
      "1/1 [==============================] - 0s 76ms/step\n"
     ]
    },
    {
     "name": "stderr",
     "output_type": "stream",
     "text": [
      "C:\\Users\\rudra\\AppData\\Local\\Temp\\ipykernel_6820\\1767733992.py:15: RuntimeWarning: invalid value encountered in divide\n",
      "  channel_image /= channel_image.std()\n",
      "C:\\Users\\rudra\\AppData\\Local\\Temp\\ipykernel_6820\\1767733992.py:18: RuntimeWarning: invalid value encountered in cast\n",
      "  channel_image = np.clip(channel_image, 0, 255).astype('uint8')\n"
     ]
    },
    {
     "name": "stdout",
     "output_type": "stream",
     "text": [
      "[INFO] Loading images ...\n",
      "[INFO] Processing rest ...\n",
      "[INFO] Processing squirrel ...\n",
      "[INFO] image extract completed\n",
      "total train samples: \n",
      "3437\n",
      "[INFO] Training network for squirrel fold 1...\n",
      "Epoch 1/20\n",
      "71/71 [==============================] - 5s 49ms/step - loss: 0.5538 - accuracy: 0.7346\n",
      "Epoch 2/20\n",
      "71/71 [==============================] - 3s 48ms/step - loss: 0.3825 - accuracy: 0.8384\n",
      "Epoch 3/20\n",
      "71/71 [==============================] - 3s 48ms/step - loss: 0.2903 - accuracy: 0.8853\n",
      "Epoch 4/20\n",
      "71/71 [==============================] - 3s 48ms/step - loss: 0.2227 - accuracy: 0.9150\n",
      "Epoch 5/20\n",
      "71/71 [==============================] - 3s 48ms/step - loss: 0.1312 - accuracy: 0.9575\n",
      "Epoch 6/20\n",
      "71/71 [==============================] - 4s 50ms/step - loss: 0.1051 - accuracy: 0.9619\n",
      "Epoch 7/20\n",
      "71/71 [==============================] - 3s 48ms/step - loss: 0.0970 - accuracy: 0.9655\n",
      "Epoch 8/20\n",
      "71/71 [==============================] - 3s 48ms/step - loss: 0.0535 - accuracy: 0.9836\n",
      "Epoch 9/20\n",
      "71/71 [==============================] - 3s 48ms/step - loss: 0.0421 - accuracy: 0.9894\n",
      "Epoch 10/20\n",
      "71/71 [==============================] - 3s 48ms/step - loss: 0.0286 - accuracy: 0.9916\n",
      "Epoch 11/20\n",
      "71/71 [==============================] - 3s 48ms/step - loss: 0.0282 - accuracy: 0.9925\n",
      "Epoch 12/20\n",
      "71/71 [==============================] - 3s 49ms/step - loss: 0.0191 - accuracy: 0.9965\n",
      "Epoch 13/20\n",
      "71/71 [==============================] - 3s 48ms/step - loss: 0.0513 - accuracy: 0.9832\n",
      "Epoch 14/20\n",
      "71/71 [==============================] - 3s 47ms/step - loss: 0.0399 - accuracy: 0.9876\n",
      "Epoch 15/20\n",
      "71/71 [==============================] - 3s 48ms/step - loss: 0.0276 - accuracy: 0.9929\n",
      "Epoch 16/20\n",
      "71/71 [==============================] - 3s 48ms/step - loss: 0.0216 - accuracy: 0.9938\n",
      "Epoch 17/20\n",
      "71/71 [==============================] - 3s 49ms/step - loss: 0.0277 - accuracy: 0.9898\n",
      "Epoch 18/20\n",
      "71/71 [==============================] - 3s 48ms/step - loss: 0.0255 - accuracy: 0.9938\n",
      "Epoch 19/20\n",
      "71/71 [==============================] - 3s 48ms/step - loss: 0.0299 - accuracy: 0.9885\n",
      "Epoch 20/20\n",
      "71/71 [==============================] - 3s 48ms/step - loss: 0.0264 - accuracy: 0.9907\n",
      "[INFO] Saving Model for squirrel fold 1 ...\n",
      "36/36 [==============================] - 1s 11ms/step\n"
     ]
    },
    {
     "name": "stderr",
     "output_type": "stream",
     "text": [
      "C:\\Users\\rudra\\AppData\\Local\\Temp\\ipykernel_6820\\3249705492.py:34: UserWarning: FigureCanvasAgg is non-interactive, and thus cannot be shown\n",
      "  plt.show()\n"
     ]
    },
    {
     "name": "stdout",
     "output_type": "stream",
     "text": [
      "1/1 [==============================] - 0s 100ms/step\n"
     ]
    },
    {
     "name": "stderr",
     "output_type": "stream",
     "text": [
      "C:\\Users\\rudra\\AppData\\Local\\Temp\\ipykernel_6820\\1767733992.py:15: RuntimeWarning: invalid value encountered in divide\n",
      "  channel_image /= channel_image.std()\n",
      "C:\\Users\\rudra\\AppData\\Local\\Temp\\ipykernel_6820\\1767733992.py:18: RuntimeWarning: invalid value encountered in cast\n",
      "  channel_image = np.clip(channel_image, 0, 255).astype('uint8')\n"
     ]
    },
    {
     "name": "stdout",
     "output_type": "stream",
     "text": [
      "[INFO] Training network for squirrel fold 2...\n",
      "Epoch 1/20\n",
      "71/71 [==============================] - 5s 50ms/step - loss: 0.5407 - accuracy: 0.7289\n",
      "Epoch 2/20\n",
      "71/71 [==============================] - 3s 48ms/step - loss: 0.3932 - accuracy: 0.8260\n",
      "Epoch 3/20\n",
      "71/71 [==============================] - 3s 47ms/step - loss: 0.2983 - accuracy: 0.8681\n",
      "Epoch 4/20\n",
      "71/71 [==============================] - 3s 47ms/step - loss: 0.2187 - accuracy: 0.9225\n",
      "Epoch 5/20\n",
      "71/71 [==============================] - 3s 48ms/step - loss: 0.1449 - accuracy: 0.9473\n",
      "Epoch 6/20\n",
      "71/71 [==============================] - 3s 47ms/step - loss: 0.0935 - accuracy: 0.9703\n",
      "Epoch 7/20\n",
      "71/71 [==============================] - 3s 47ms/step - loss: 0.0880 - accuracy: 0.9717\n",
      "Epoch 8/20\n",
      "71/71 [==============================] - 3s 48ms/step - loss: 0.0547 - accuracy: 0.9814\n",
      "Epoch 9/20\n",
      "71/71 [==============================] - 3s 48ms/step - loss: 0.0298 - accuracy: 0.9947\n",
      "Epoch 10/20\n",
      "71/71 [==============================] - 3s 47ms/step - loss: 0.0260 - accuracy: 0.9925\n",
      "Epoch 11/20\n",
      "71/71 [==============================] - 3s 47ms/step - loss: 0.0670 - accuracy: 0.9748\n",
      "Epoch 12/20\n",
      "71/71 [==============================] - 3s 48ms/step - loss: 0.0579 - accuracy: 0.9796\n",
      "Epoch 13/20\n",
      "71/71 [==============================] - 3s 48ms/step - loss: 0.0230 - accuracy: 0.9938\n",
      "Epoch 14/20\n",
      "71/71 [==============================] - 3s 48ms/step - loss: 0.0326 - accuracy: 0.9898\n",
      "Epoch 15/20\n",
      "71/71 [==============================] - 3s 48ms/step - loss: 0.0227 - accuracy: 0.9929\n",
      "Epoch 16/20\n",
      "71/71 [==============================] - 3s 47ms/step - loss: 0.0337 - accuracy: 0.9876\n",
      "Epoch 17/20\n",
      "71/71 [==============================] - 3s 48ms/step - loss: 0.0477 - accuracy: 0.9823\n",
      "Epoch 18/20\n",
      "71/71 [==============================] - 3s 47ms/step - loss: 0.0227 - accuracy: 0.9925\n",
      "Epoch 19/20\n",
      "71/71 [==============================] - 3s 48ms/step - loss: 0.0183 - accuracy: 0.9938\n",
      "Epoch 20/20\n",
      "71/71 [==============================] - 3s 48ms/step - loss: 0.0228 - accuracy: 0.9907\n",
      "[INFO] Saving Model for squirrel fold 2 ...\n",
      "36/36 [==============================] - 1s 10ms/step\n"
     ]
    },
    {
     "name": "stderr",
     "output_type": "stream",
     "text": [
      "C:\\Users\\rudra\\AppData\\Local\\Temp\\ipykernel_6820\\3249705492.py:34: UserWarning: FigureCanvasAgg is non-interactive, and thus cannot be shown\n",
      "  plt.show()\n"
     ]
    },
    {
     "name": "stdout",
     "output_type": "stream",
     "text": [
      "1/1 [==============================] - 0s 79ms/step\n"
     ]
    },
    {
     "name": "stderr",
     "output_type": "stream",
     "text": [
      "C:\\Users\\rudra\\AppData\\Local\\Temp\\ipykernel_6820\\1767733992.py:15: RuntimeWarning: invalid value encountered in divide\n",
      "  channel_image /= channel_image.std()\n",
      "C:\\Users\\rudra\\AppData\\Local\\Temp\\ipykernel_6820\\1767733992.py:18: RuntimeWarning: invalid value encountered in cast\n",
      "  channel_image = np.clip(channel_image, 0, 255).astype('uint8')\n"
     ]
    },
    {
     "name": "stdout",
     "output_type": "stream",
     "text": [
      "[INFO] Training network for squirrel fold 3...\n",
      "Epoch 1/20\n",
      "71/71 [==============================] - 4s 49ms/step - loss: 0.5053 - accuracy: 0.7623\n",
      "Epoch 2/20\n",
      "71/71 [==============================] - 4s 50ms/step - loss: 0.4040 - accuracy: 0.8208\n",
      "Epoch 3/20\n",
      "71/71 [==============================] - 3s 49ms/step - loss: 0.2950 - accuracy: 0.8752\n",
      "Epoch 4/20\n",
      "71/71 [==============================] - 3s 48ms/step - loss: 0.1828 - accuracy: 0.9327\n",
      "Epoch 5/20\n",
      "71/71 [==============================] - 3s 49ms/step - loss: 0.1436 - accuracy: 0.9487\n",
      "Epoch 6/20\n",
      "71/71 [==============================] - 3s 48ms/step - loss: 0.0998 - accuracy: 0.9633\n",
      "Epoch 7/20\n",
      "71/71 [==============================] - 3s 48ms/step - loss: 0.0590 - accuracy: 0.9805\n",
      "Epoch 8/20\n",
      "71/71 [==============================] - 3s 48ms/step - loss: 0.0443 - accuracy: 0.9876\n",
      "Epoch 9/20\n",
      "71/71 [==============================] - 3s 48ms/step - loss: 0.0430 - accuracy: 0.9881\n",
      "Epoch 10/20\n",
      "71/71 [==============================] - 3s 49ms/step - loss: 0.0380 - accuracy: 0.9889\n",
      "Epoch 11/20\n",
      "71/71 [==============================] - 3s 48ms/step - loss: 0.0249 - accuracy: 0.9929\n",
      "Epoch 12/20\n",
      "71/71 [==============================] - 3s 49ms/step - loss: 0.0435 - accuracy: 0.9850\n",
      "Epoch 13/20\n",
      "71/71 [==============================] - 3s 48ms/step - loss: 0.0196 - accuracy: 0.9947\n",
      "Epoch 14/20\n",
      "71/71 [==============================] - 3s 48ms/step - loss: 0.0163 - accuracy: 0.9969\n",
      "Epoch 15/20\n",
      "71/71 [==============================] - 3s 48ms/step - loss: 0.0384 - accuracy: 0.9854\n",
      "Epoch 16/20\n",
      "71/71 [==============================] - 3s 48ms/step - loss: 0.0331 - accuracy: 0.9907\n",
      "Epoch 17/20\n",
      "71/71 [==============================] - 3s 48ms/step - loss: 0.0392 - accuracy: 0.9872\n",
      "Epoch 18/20\n",
      "71/71 [==============================] - 3s 48ms/step - loss: 0.0185 - accuracy: 0.9938\n",
      "Epoch 19/20\n",
      "71/71 [==============================] - 3s 48ms/step - loss: 0.0177 - accuracy: 0.9929\n",
      "Epoch 20/20\n",
      "71/71 [==============================] - 3s 48ms/step - loss: 0.0286 - accuracy: 0.9907\n",
      "[INFO] Saving Model for squirrel fold 3 ...\n",
      "36/36 [==============================] - 1s 11ms/step\n"
     ]
    },
    {
     "name": "stderr",
     "output_type": "stream",
     "text": [
      "C:\\Users\\rudra\\AppData\\Local\\Temp\\ipykernel_6820\\3249705492.py:34: UserWarning: FigureCanvasAgg is non-interactive, and thus cannot be shown\n",
      "  plt.show()\n"
     ]
    },
    {
     "name": "stdout",
     "output_type": "stream",
     "text": [
      "1/1 [==============================] - 0s 65ms/step\n"
     ]
    },
    {
     "name": "stderr",
     "output_type": "stream",
     "text": [
      "C:\\Users\\rudra\\AppData\\Local\\Temp\\ipykernel_6820\\1767733992.py:15: RuntimeWarning: invalid value encountered in divide\n",
      "  channel_image /= channel_image.std()\n",
      "C:\\Users\\rudra\\AppData\\Local\\Temp\\ipykernel_6820\\1767733992.py:18: RuntimeWarning: invalid value encountered in cast\n",
      "  channel_image = np.clip(channel_image, 0, 255).astype('uint8')\n"
     ]
    },
    {
     "name": "stdout",
     "output_type": "stream",
     "text": [
      "[INFO] Loading images ...\n",
      "[INFO] Processing rest ...\n",
      "[INFO] Processing starfish ...\n",
      "[INFO] image extract completed\n",
      "total train samples: \n",
      "3437\n",
      "[INFO] Training network for starfish fold 1...\n",
      "Epoch 1/20\n",
      "71/71 [==============================] - 5s 49ms/step - loss: 0.5447 - accuracy: 0.7262\n",
      "Epoch 2/20\n",
      "71/71 [==============================] - 3s 48ms/step - loss: 0.3803 - accuracy: 0.8349\n",
      "Epoch 3/20\n",
      "71/71 [==============================] - 3s 48ms/step - loss: 0.2985 - accuracy: 0.8752\n",
      "Epoch 4/20\n",
      "71/71 [==============================] - 3s 48ms/step - loss: 0.2714 - accuracy: 0.8853\n",
      "Epoch 5/20\n",
      "71/71 [==============================] - 3s 49ms/step - loss: 0.1537 - accuracy: 0.9429\n",
      "Epoch 6/20\n",
      "71/71 [==============================] - 3s 48ms/step - loss: 0.0996 - accuracy: 0.9650\n",
      "Epoch 7/20\n",
      "71/71 [==============================] - 3s 48ms/step - loss: 0.0770 - accuracy: 0.9761\n",
      "Epoch 8/20\n",
      "71/71 [==============================] - 3s 48ms/step - loss: 0.0579 - accuracy: 0.9819\n",
      "Epoch 9/20\n",
      "71/71 [==============================] - 3s 49ms/step - loss: 0.0469 - accuracy: 0.9836\n",
      "Epoch 10/20\n",
      "71/71 [==============================] - 4s 49ms/step - loss: 0.0639 - accuracy: 0.9779\n",
      "Epoch 11/20\n",
      "71/71 [==============================] - 3s 48ms/step - loss: 0.0645 - accuracy: 0.9774\n",
      "Epoch 12/20\n",
      "71/71 [==============================] - 3s 48ms/step - loss: 0.0509 - accuracy: 0.9792\n",
      "Epoch 13/20\n",
      "71/71 [==============================] - 3s 48ms/step - loss: 0.0250 - accuracy: 0.9938\n",
      "Epoch 14/20\n",
      "71/71 [==============================] - 3s 48ms/step - loss: 0.0192 - accuracy: 0.9960\n",
      "Epoch 15/20\n",
      "71/71 [==============================] - 3s 48ms/step - loss: 0.0202 - accuracy: 0.9934\n",
      "Epoch 16/20\n",
      "71/71 [==============================] - 4s 50ms/step - loss: 0.0214 - accuracy: 0.9907\n",
      "Epoch 17/20\n",
      "71/71 [==============================] - 3s 49ms/step - loss: 0.0209 - accuracy: 0.9947\n",
      "Epoch 18/20\n",
      "71/71 [==============================] - 3s 49ms/step - loss: 0.0156 - accuracy: 0.9956\n",
      "Epoch 19/20\n",
      "71/71 [==============================] - 3s 48ms/step - loss: 0.0118 - accuracy: 0.9969\n",
      "Epoch 20/20\n",
      "71/71 [==============================] - 3s 48ms/step - loss: 0.0145 - accuracy: 0.9969\n",
      "[INFO] Saving Model for starfish fold 1 ...\n",
      "36/36 [==============================] - 1s 11ms/step\n"
     ]
    },
    {
     "name": "stderr",
     "output_type": "stream",
     "text": [
      "C:\\Users\\rudra\\AppData\\Local\\Temp\\ipykernel_6820\\3249705492.py:34: UserWarning: FigureCanvasAgg is non-interactive, and thus cannot be shown\n",
      "  plt.show()\n"
     ]
    },
    {
     "name": "stdout",
     "output_type": "stream",
     "text": [
      "1/1 [==============================] - 0s 80ms/step\n"
     ]
    },
    {
     "name": "stderr",
     "output_type": "stream",
     "text": [
      "C:\\Users\\rudra\\AppData\\Local\\Temp\\ipykernel_6820\\1767733992.py:15: RuntimeWarning: invalid value encountered in divide\n",
      "  channel_image /= channel_image.std()\n",
      "C:\\Users\\rudra\\AppData\\Local\\Temp\\ipykernel_6820\\1767733992.py:18: RuntimeWarning: invalid value encountered in cast\n",
      "  channel_image = np.clip(channel_image, 0, 255).astype('uint8')\n"
     ]
    },
    {
     "name": "stdout",
     "output_type": "stream",
     "text": [
      "[INFO] Training network for starfish fold 2...\n",
      "Epoch 1/20\n",
      "71/71 [==============================] - 4s 49ms/step - loss: 0.5425 - accuracy: 0.7271\n",
      "Epoch 2/20\n",
      "71/71 [==============================] - 3s 48ms/step - loss: 0.4148 - accuracy: 0.8176\n",
      "Epoch 3/20\n",
      "71/71 [==============================] - 3s 48ms/step - loss: 0.3224 - accuracy: 0.8614\n",
      "Epoch 4/20\n",
      "71/71 [==============================] - 3s 48ms/step - loss: 0.2295 - accuracy: 0.9093\n",
      "Epoch 5/20\n",
      "71/71 [==============================] - 3s 48ms/step - loss: 0.1560 - accuracy: 0.9469\n",
      "Epoch 6/20\n",
      "71/71 [==============================] - 3s 48ms/step - loss: 0.1092 - accuracy: 0.9588\n",
      "Epoch 7/20\n",
      "71/71 [==============================] - 3s 48ms/step - loss: 0.1052 - accuracy: 0.9624\n",
      "Epoch 8/20\n",
      "71/71 [==============================] - 3s 48ms/step - loss: 0.0778 - accuracy: 0.9730\n",
      "Epoch 9/20\n",
      "71/71 [==============================] - 3s 48ms/step - loss: 0.0482 - accuracy: 0.9845\n",
      "Epoch 10/20\n",
      "71/71 [==============================] - 3s 48ms/step - loss: 0.0397 - accuracy: 0.9876\n",
      "Epoch 11/20\n",
      "71/71 [==============================] - 3s 48ms/step - loss: 0.0344 - accuracy: 0.9885\n",
      "Epoch 12/20\n",
      "71/71 [==============================] - 3s 48ms/step - loss: 0.0341 - accuracy: 0.9903\n",
      "Epoch 13/20\n",
      "71/71 [==============================] - 3s 48ms/step - loss: 0.0375 - accuracy: 0.9854\n",
      "Epoch 14/20\n",
      "71/71 [==============================] - 3s 49ms/step - loss: 0.0418 - accuracy: 0.9858\n",
      "Epoch 15/20\n",
      "71/71 [==============================] - 3s 48ms/step - loss: 0.0453 - accuracy: 0.9819\n",
      "Epoch 16/20\n",
      "71/71 [==============================] - 3s 48ms/step - loss: 0.0216 - accuracy: 0.9938\n",
      "Epoch 17/20\n",
      "71/71 [==============================] - 4s 52ms/step - loss: 0.0197 - accuracy: 0.9934\n",
      "Epoch 18/20\n",
      "71/71 [==============================] - 4s 50ms/step - loss: 0.0230 - accuracy: 0.9907\n",
      "Epoch 19/20\n",
      "71/71 [==============================] - 4s 51ms/step - loss: 0.0168 - accuracy: 0.9960\n",
      "Epoch 20/20\n",
      "71/71 [==============================] - 4s 51ms/step - loss: 0.0103 - accuracy: 0.9982\n",
      "[INFO] Saving Model for starfish fold 2 ...\n",
      "36/36 [==============================] - 1s 10ms/step\n"
     ]
    },
    {
     "name": "stderr",
     "output_type": "stream",
     "text": [
      "C:\\Users\\rudra\\AppData\\Local\\Temp\\ipykernel_6820\\3249705492.py:34: UserWarning: FigureCanvasAgg is non-interactive, and thus cannot be shown\n",
      "  plt.show()\n"
     ]
    },
    {
     "name": "stdout",
     "output_type": "stream",
     "text": [
      "1/1 [==============================] - 0s 86ms/step\n"
     ]
    },
    {
     "name": "stderr",
     "output_type": "stream",
     "text": [
      "C:\\Users\\rudra\\AppData\\Local\\Temp\\ipykernel_6820\\1767733992.py:15: RuntimeWarning: invalid value encountered in divide\n",
      "  channel_image /= channel_image.std()\n",
      "C:\\Users\\rudra\\AppData\\Local\\Temp\\ipykernel_6820\\1767733992.py:18: RuntimeWarning: invalid value encountered in cast\n",
      "  channel_image = np.clip(channel_image, 0, 255).astype('uint8')\n"
     ]
    },
    {
     "name": "stdout",
     "output_type": "stream",
     "text": [
      "[INFO] Training network for starfish fold 3...\n",
      "Epoch 1/20\n",
      "71/71 [==============================] - 4s 49ms/step - loss: 0.5697 - accuracy: 0.7135\n",
      "Epoch 2/20\n",
      "71/71 [==============================] - 3s 49ms/step - loss: 0.3763 - accuracy: 0.8288\n",
      "Epoch 3/20\n",
      "71/71 [==============================] - 3s 49ms/step - loss: 0.2951 - accuracy: 0.8823\n",
      "Epoch 4/20\n",
      "71/71 [==============================] - 3s 48ms/step - loss: 0.2135 - accuracy: 0.9181\n",
      "Epoch 5/20\n",
      "71/71 [==============================] - 4s 49ms/step - loss: 0.1475 - accuracy: 0.9473\n",
      "Epoch 6/20\n",
      "71/71 [==============================] - 3s 49ms/step - loss: 0.0874 - accuracy: 0.9704\n",
      "Epoch 7/20\n",
      "71/71 [==============================] - 4s 49ms/step - loss: 0.0725 - accuracy: 0.9770\n",
      "Epoch 8/20\n",
      "71/71 [==============================] - 3s 49ms/step - loss: 0.0771 - accuracy: 0.9739\n",
      "Epoch 9/20\n",
      "71/71 [==============================] - 3s 48ms/step - loss: 0.0666 - accuracy: 0.9783\n",
      "Epoch 10/20\n",
      "71/71 [==============================] - 3s 49ms/step - loss: 0.0513 - accuracy: 0.9805\n",
      "Epoch 11/20\n",
      "71/71 [==============================] - 3s 48ms/step - loss: 0.1138 - accuracy: 0.9584\n",
      "Epoch 12/20\n",
      "71/71 [==============================] - 3s 48ms/step - loss: 0.0725 - accuracy: 0.9708\n",
      "Epoch 13/20\n",
      "71/71 [==============================] - 3s 49ms/step - loss: 0.0345 - accuracy: 0.9907\n",
      "Epoch 14/20\n",
      "71/71 [==============================] - 3s 48ms/step - loss: 0.0346 - accuracy: 0.9885\n",
      "Epoch 15/20\n",
      "71/71 [==============================] - 3s 48ms/step - loss: 0.0250 - accuracy: 0.9916\n",
      "Epoch 16/20\n",
      "71/71 [==============================] - 3s 48ms/step - loss: 0.0311 - accuracy: 0.9912\n",
      "Epoch 17/20\n",
      "71/71 [==============================] - 3s 48ms/step - loss: 0.0126 - accuracy: 0.9973\n",
      "Epoch 18/20\n",
      "71/71 [==============================] - 3s 48ms/step - loss: 0.0170 - accuracy: 0.9947\n",
      "Epoch 19/20\n",
      "71/71 [==============================] - 4s 50ms/step - loss: 0.0239 - accuracy: 0.9916\n",
      "Epoch 20/20\n",
      "71/71 [==============================] - 4s 49ms/step - loss: 0.0350 - accuracy: 0.9898\n",
      "[INFO] Saving Model for starfish fold 3 ...\n",
      "36/36 [==============================] - 0s 10ms/step\n"
     ]
    },
    {
     "name": "stderr",
     "output_type": "stream",
     "text": [
      "C:\\Users\\rudra\\AppData\\Local\\Temp\\ipykernel_6820\\3249705492.py:34: UserWarning: FigureCanvasAgg is non-interactive, and thus cannot be shown\n",
      "  plt.show()\n"
     ]
    },
    {
     "name": "stdout",
     "output_type": "stream",
     "text": [
      "1/1 [==============================] - 0s 94ms/step\n",
      "[INFO] Loading images ...\n",
      "[INFO] Processing rest ...\n",
      "[INFO] Processing swan ...\n",
      "[INFO] image extract completed\n",
      "total train samples: \n",
      "3432\n",
      "[INFO] Training network for swan fold 1...\n",
      "Epoch 1/20\n",
      "71/71 [==============================] - 5s 49ms/step - loss: 0.4746 - accuracy: 0.7724\n",
      "Epoch 2/20\n",
      "71/71 [==============================] - 3s 48ms/step - loss: 0.3012 - accuracy: 0.8759\n",
      "Epoch 3/20\n",
      "71/71 [==============================] - 3s 48ms/step - loss: 0.2107 - accuracy: 0.9171\n",
      "Epoch 4/20\n",
      "71/71 [==============================] - 3s 48ms/step - loss: 0.1554 - accuracy: 0.9446\n",
      "Epoch 5/20\n",
      "71/71 [==============================] - 3s 48ms/step - loss: 0.1314 - accuracy: 0.9543\n",
      "Epoch 6/20\n",
      "71/71 [==============================] - 3s 48ms/step - loss: 0.1005 - accuracy: 0.9716\n",
      "Epoch 7/20\n",
      "71/71 [==============================] - 3s 48ms/step - loss: 0.0681 - accuracy: 0.9792\n",
      "Epoch 8/20\n",
      "71/71 [==============================] - 3s 48ms/step - loss: 0.0497 - accuracy: 0.9845\n",
      "Epoch 9/20\n",
      "71/71 [==============================] - 3s 48ms/step - loss: 0.0407 - accuracy: 0.9876\n",
      "Epoch 10/20\n",
      "71/71 [==============================] - 3s 48ms/step - loss: 0.0404 - accuracy: 0.9894\n",
      "Epoch 11/20\n",
      "71/71 [==============================] - 3s 48ms/step - loss: 0.0344 - accuracy: 0.9894\n",
      "Epoch 12/20\n",
      "71/71 [==============================] - 3s 48ms/step - loss: 0.0453 - accuracy: 0.9845\n",
      "Epoch 13/20\n",
      "71/71 [==============================] - 3s 48ms/step - loss: 0.0473 - accuracy: 0.9849\n",
      "Epoch 14/20\n",
      "71/71 [==============================] - 3s 49ms/step - loss: 0.0429 - accuracy: 0.9827\n",
      "Epoch 15/20\n",
      "71/71 [==============================] - 3s 48ms/step - loss: 0.0220 - accuracy: 0.9938\n",
      "Epoch 16/20\n",
      "71/71 [==============================] - 3s 48ms/step - loss: 0.0167 - accuracy: 0.9956\n",
      "Epoch 17/20\n",
      "71/71 [==============================] - 3s 48ms/step - loss: 0.0209 - accuracy: 0.9925\n",
      "Epoch 18/20\n",
      "71/71 [==============================] - 3s 48ms/step - loss: 0.0218 - accuracy: 0.9925\n",
      "Epoch 19/20\n",
      "71/71 [==============================] - 3s 48ms/step - loss: 0.0143 - accuracy: 0.9973\n",
      "Epoch 20/20\n",
      "71/71 [==============================] - 3s 48ms/step - loss: 0.0191 - accuracy: 0.9938\n",
      "[INFO] Saving Model for swan fold 1 ...\n",
      "36/36 [==============================] - 1s 11ms/step\n"
     ]
    },
    {
     "name": "stderr",
     "output_type": "stream",
     "text": [
      "C:\\Users\\rudra\\AppData\\Local\\Temp\\ipykernel_6820\\3249705492.py:34: UserWarning: FigureCanvasAgg is non-interactive, and thus cannot be shown\n",
      "  plt.show()\n"
     ]
    },
    {
     "name": "stdout",
     "output_type": "stream",
     "text": [
      "1/1 [==============================] - 0s 80ms/step\n"
     ]
    },
    {
     "name": "stderr",
     "output_type": "stream",
     "text": [
      "C:\\Users\\rudra\\AppData\\Local\\Temp\\ipykernel_6820\\1767733992.py:15: RuntimeWarning: invalid value encountered in divide\n",
      "  channel_image /= channel_image.std()\n",
      "C:\\Users\\rudra\\AppData\\Local\\Temp\\ipykernel_6820\\1767733992.py:18: RuntimeWarning: invalid value encountered in cast\n",
      "  channel_image = np.clip(channel_image, 0, 255).astype('uint8')\n"
     ]
    },
    {
     "name": "stdout",
     "output_type": "stream",
     "text": [
      "[INFO] Training network for swan fold 2...\n",
      "Epoch 1/20\n",
      "71/71 [==============================] - 4s 49ms/step - loss: 0.4324 - accuracy: 0.8019\n",
      "Epoch 2/20\n",
      "71/71 [==============================] - 3s 48ms/step - loss: 0.3166 - accuracy: 0.8670\n",
      "Epoch 3/20\n",
      "71/71 [==============================] - 3s 47ms/step - loss: 0.2094 - accuracy: 0.9242\n",
      "Epoch 4/20\n",
      "71/71 [==============================] - 3s 48ms/step - loss: 0.1586 - accuracy: 0.9375\n",
      "Epoch 5/20\n",
      "71/71 [==============================] - 3s 48ms/step - loss: 0.1243 - accuracy: 0.9552\n",
      "Epoch 6/20\n",
      "71/71 [==============================] - 3s 47ms/step - loss: 0.0837 - accuracy: 0.9721\n",
      "Epoch 7/20\n",
      "71/71 [==============================] - 3s 47ms/step - loss: 0.0777 - accuracy: 0.9690\n",
      "Epoch 8/20\n",
      "71/71 [==============================] - 3s 47ms/step - loss: 0.0602 - accuracy: 0.9805\n",
      "Epoch 9/20\n",
      "71/71 [==============================] - 3s 48ms/step - loss: 0.0589 - accuracy: 0.9770\n",
      "Epoch 10/20\n",
      "71/71 [==============================] - 4s 50ms/step - loss: 0.0578 - accuracy: 0.9814\n",
      "Epoch 11/20\n",
      "71/71 [==============================] - 3s 48ms/step - loss: 0.0395 - accuracy: 0.9858\n",
      "Epoch 12/20\n",
      "71/71 [==============================] - 3s 49ms/step - loss: 0.0472 - accuracy: 0.9863\n",
      "Epoch 13/20\n",
      "71/71 [==============================] - 3s 48ms/step - loss: 0.0241 - accuracy: 0.9929\n",
      "Epoch 14/20\n",
      "71/71 [==============================] - 3s 48ms/step - loss: 0.0297 - accuracy: 0.9911\n",
      "Epoch 15/20\n",
      "71/71 [==============================] - 3s 47ms/step - loss: 0.0157 - accuracy: 0.9956\n",
      "Epoch 16/20\n",
      "71/71 [==============================] - 3s 48ms/step - loss: 0.0165 - accuracy: 0.9951\n",
      "Epoch 17/20\n",
      "71/71 [==============================] - 3s 48ms/step - loss: 0.0281 - accuracy: 0.9898\n",
      "Epoch 18/20\n",
      "71/71 [==============================] - 3s 47ms/step - loss: 0.0453 - accuracy: 0.9845\n",
      "Epoch 19/20\n",
      "71/71 [==============================] - 3s 48ms/step - loss: 0.0362 - accuracy: 0.9867\n",
      "Epoch 20/20\n",
      "71/71 [==============================] - 3s 48ms/step - loss: 0.0211 - accuracy: 0.9929\n",
      "[INFO] Saving Model for swan fold 2 ...\n",
      "36/36 [==============================] - 0s 11ms/step\n"
     ]
    },
    {
     "name": "stderr",
     "output_type": "stream",
     "text": [
      "C:\\Users\\rudra\\AppData\\Local\\Temp\\ipykernel_6820\\3249705492.py:34: UserWarning: FigureCanvasAgg is non-interactive, and thus cannot be shown\n",
      "  plt.show()\n"
     ]
    },
    {
     "name": "stdout",
     "output_type": "stream",
     "text": [
      "1/1 [==============================] - 0s 80ms/step\n"
     ]
    },
    {
     "name": "stderr",
     "output_type": "stream",
     "text": [
      "C:\\Users\\rudra\\AppData\\Local\\Temp\\ipykernel_6820\\1767733992.py:15: RuntimeWarning: invalid value encountered in divide\n",
      "  channel_image /= channel_image.std()\n",
      "C:\\Users\\rudra\\AppData\\Local\\Temp\\ipykernel_6820\\1767733992.py:18: RuntimeWarning: invalid value encountered in cast\n",
      "  channel_image = np.clip(channel_image, 0, 255).astype('uint8')\n"
     ]
    },
    {
     "name": "stdout",
     "output_type": "stream",
     "text": [
      "[INFO] Training network for swan fold 3...\n",
      "Epoch 1/20\n",
      "71/71 [==============================] - 4s 48ms/step - loss: 0.4114 - accuracy: 0.8165\n",
      "Epoch 2/20\n",
      "71/71 [==============================] - 3s 48ms/step - loss: 0.2616 - accuracy: 0.8967\n",
      "Epoch 3/20\n",
      "71/71 [==============================] - 3s 47ms/step - loss: 0.1869 - accuracy: 0.9344\n",
      "Epoch 4/20\n",
      "71/71 [==============================] - 3s 47ms/step - loss: 0.1316 - accuracy: 0.9570\n",
      "Epoch 5/20\n",
      "71/71 [==============================] - 3s 47ms/step - loss: 0.1239 - accuracy: 0.9548\n",
      "Epoch 6/20\n",
      "71/71 [==============================] - 3s 47ms/step - loss: 0.1049 - accuracy: 0.9592\n",
      "Epoch 7/20\n",
      "71/71 [==============================] - 3s 47ms/step - loss: 0.0628 - accuracy: 0.9783\n",
      "Epoch 8/20\n",
      "71/71 [==============================] - 3s 47ms/step - loss: 0.0567 - accuracy: 0.9778\n",
      "Epoch 9/20\n",
      "71/71 [==============================] - 3s 48ms/step - loss: 0.0459 - accuracy: 0.9849\n",
      "Epoch 10/20\n",
      "71/71 [==============================] - 3s 48ms/step - loss: 0.0297 - accuracy: 0.9938\n",
      "Epoch 11/20\n",
      "71/71 [==============================] - 3s 48ms/step - loss: 0.0352 - accuracy: 0.9885\n",
      "Epoch 12/20\n",
      "71/71 [==============================] - 4s 53ms/step - loss: 0.0287 - accuracy: 0.9898\n",
      "Epoch 13/20\n",
      "71/71 [==============================] - 3s 48ms/step - loss: 0.0289 - accuracy: 0.9902\n",
      "Epoch 14/20\n",
      "71/71 [==============================] - 3s 47ms/step - loss: 0.0400 - accuracy: 0.9858\n",
      "Epoch 15/20\n",
      "71/71 [==============================] - 4s 49ms/step - loss: 0.0186 - accuracy: 0.9956\n",
      "Epoch 16/20\n",
      "71/71 [==============================] - 3s 48ms/step - loss: 0.0293 - accuracy: 0.9902\n",
      "Epoch 17/20\n",
      "71/71 [==============================] - 3s 48ms/step - loss: 0.0371 - accuracy: 0.9871\n",
      "Epoch 18/20\n",
      "71/71 [==============================] - 3s 49ms/step - loss: 0.0199 - accuracy: 0.9938\n",
      "Epoch 19/20\n",
      "71/71 [==============================] - 3s 48ms/step - loss: 0.0090 - accuracy: 0.9978\n",
      "Epoch 20/20\n",
      "71/71 [==============================] - 4s 49ms/step - loss: 0.0092 - accuracy: 0.9973\n",
      "[INFO] Saving Model for swan fold 3 ...\n",
      "36/36 [==============================] - 1s 11ms/step\n"
     ]
    },
    {
     "name": "stderr",
     "output_type": "stream",
     "text": [
      "C:\\Users\\rudra\\AppData\\Local\\Temp\\ipykernel_6820\\3249705492.py:34: UserWarning: FigureCanvasAgg is non-interactive, and thus cannot be shown\n",
      "  plt.show()\n"
     ]
    },
    {
     "name": "stdout",
     "output_type": "stream",
     "text": [
      "1/1 [==============================] - 0s 72ms/step\n"
     ]
    },
    {
     "name": "stderr",
     "output_type": "stream",
     "text": [
      "C:\\Users\\rudra\\AppData\\Local\\Temp\\ipykernel_6820\\1767733992.py:15: RuntimeWarning: invalid value encountered in divide\n",
      "  channel_image /= channel_image.std()\n",
      "C:\\Users\\rudra\\AppData\\Local\\Temp\\ipykernel_6820\\1767733992.py:18: RuntimeWarning: invalid value encountered in cast\n",
      "  channel_image = np.clip(channel_image, 0, 255).astype('uint8')\n"
     ]
    },
    {
     "name": "stdout",
     "output_type": "stream",
     "text": [
      "[INFO] Loading images ...\n",
      "[INFO] Processing rest ...\n",
      "[INFO] Processing tiger ...\n",
      "[INFO] image extract completed\n",
      "total train samples: \n",
      "3442\n",
      "[INFO] Training network for tiger fold 1...\n",
      "Epoch 1/20\n",
      "71/71 [==============================] - 5s 49ms/step - loss: 0.4496 - accuracy: 0.7931\n",
      "Epoch 2/20\n",
      "71/71 [==============================] - 3s 48ms/step - loss: 0.2953 - accuracy: 0.8709\n",
      "Epoch 3/20\n",
      "71/71 [==============================] - 3s 48ms/step - loss: 0.2183 - accuracy: 0.9191\n",
      "Epoch 4/20\n",
      "71/71 [==============================] - 3s 48ms/step - loss: 0.1348 - accuracy: 0.9553\n",
      "Epoch 5/20\n",
      "71/71 [==============================] - 3s 48ms/step - loss: 0.1069 - accuracy: 0.9624\n",
      "Epoch 6/20\n",
      "71/71 [==============================] - 3s 48ms/step - loss: 0.0762 - accuracy: 0.9766\n",
      "Epoch 7/20\n",
      "71/71 [==============================] - 3s 48ms/step - loss: 0.0432 - accuracy: 0.9894\n",
      "Epoch 8/20\n",
      "71/71 [==============================] - 3s 48ms/step - loss: 0.0419 - accuracy: 0.9867\n",
      "Epoch 9/20\n",
      "71/71 [==============================] - 4s 50ms/step - loss: 0.0435 - accuracy: 0.9867\n",
      "Epoch 10/20\n",
      "71/71 [==============================] - 3s 48ms/step - loss: 0.0391 - accuracy: 0.9867\n",
      "Epoch 11/20\n",
      "71/71 [==============================] - 3s 48ms/step - loss: 0.0356 - accuracy: 0.9881\n",
      "Epoch 12/20\n",
      "71/71 [==============================] - 3s 48ms/step - loss: 0.0327 - accuracy: 0.9912\n",
      "Epoch 13/20\n",
      "71/71 [==============================] - 3s 48ms/step - loss: 0.0322 - accuracy: 0.9889\n",
      "Epoch 14/20\n",
      "71/71 [==============================] - 3s 48ms/step - loss: 0.0155 - accuracy: 0.9965\n",
      "Epoch 15/20\n",
      "71/71 [==============================] - 3s 48ms/step - loss: 0.0116 - accuracy: 0.9965\n",
      "Epoch 16/20\n",
      "71/71 [==============================] - 3s 48ms/step - loss: 0.0081 - accuracy: 0.9982\n",
      "Epoch 17/20\n",
      "71/71 [==============================] - 3s 48ms/step - loss: 0.0208 - accuracy: 0.9903\n",
      "Epoch 18/20\n",
      "71/71 [==============================] - 3s 48ms/step - loss: 0.0109 - accuracy: 0.9960\n",
      "Epoch 19/20\n",
      "71/71 [==============================] - 3s 48ms/step - loss: 0.0277 - accuracy: 0.9912\n",
      "Epoch 20/20\n",
      "71/71 [==============================] - 3s 48ms/step - loss: 0.0347 - accuracy: 0.9881\n",
      "[INFO] Saving Model for tiger fold 1 ...\n",
      "36/36 [==============================] - 1s 10ms/step\n"
     ]
    },
    {
     "name": "stderr",
     "output_type": "stream",
     "text": [
      "C:\\Users\\rudra\\AppData\\Local\\Temp\\ipykernel_6820\\3249705492.py:34: UserWarning: FigureCanvasAgg is non-interactive, and thus cannot be shown\n",
      "  plt.show()\n"
     ]
    },
    {
     "name": "stdout",
     "output_type": "stream",
     "text": [
      "1/1 [==============================] - 0s 98ms/step\n",
      "[INFO] Training network for tiger fold 2...\n",
      "Epoch 1/20\n",
      "71/71 [==============================] - 4s 50ms/step - loss: 0.4411 - accuracy: 0.8072\n",
      "Epoch 2/20\n",
      "71/71 [==============================] - 3s 48ms/step - loss: 0.2258 - accuracy: 0.9147\n",
      "Epoch 3/20\n",
      "71/71 [==============================] - 3s 48ms/step - loss: 0.1418 - accuracy: 0.9496\n",
      "Epoch 4/20\n",
      "71/71 [==============================] - 3s 48ms/step - loss: 0.1015 - accuracy: 0.9655\n",
      "Epoch 5/20\n",
      "71/71 [==============================] - 3s 48ms/step - loss: 0.0813 - accuracy: 0.9717\n",
      "Epoch 6/20\n",
      "71/71 [==============================] - 3s 48ms/step - loss: 0.0585 - accuracy: 0.9783\n",
      "Epoch 7/20\n",
      "71/71 [==============================] - 3s 48ms/step - loss: 0.0431 - accuracy: 0.9854\n",
      "Epoch 8/20\n",
      "71/71 [==============================] - 3s 48ms/step - loss: 0.0419 - accuracy: 0.9885\n",
      "Epoch 9/20\n",
      "71/71 [==============================] - 3s 48ms/step - loss: 0.0503 - accuracy: 0.9850\n",
      "Epoch 10/20\n",
      "71/71 [==============================] - 3s 48ms/step - loss: 0.0359 - accuracy: 0.9903\n",
      "Epoch 11/20\n",
      "71/71 [==============================] - 3s 48ms/step - loss: 0.0377 - accuracy: 0.9890\n",
      "Epoch 12/20\n",
      "71/71 [==============================] - 3s 48ms/step - loss: 0.0307 - accuracy: 0.9912\n",
      "Epoch 13/20\n",
      "71/71 [==============================] - 3s 48ms/step - loss: 0.0165 - accuracy: 0.9956\n",
      "Epoch 14/20\n",
      "71/71 [==============================] - 3s 48ms/step - loss: 0.0134 - accuracy: 0.9978\n",
      "Epoch 15/20\n",
      "71/71 [==============================] - 3s 48ms/step - loss: 0.0147 - accuracy: 0.9947\n",
      "Epoch 16/20\n",
      "71/71 [==============================] - 3s 48ms/step - loss: 0.0220 - accuracy: 0.9929\n",
      "Epoch 17/20\n",
      "71/71 [==============================] - 3s 48ms/step - loss: 0.0185 - accuracy: 0.9934\n",
      "Epoch 18/20\n",
      "71/71 [==============================] - 3s 48ms/step - loss: 0.0078 - accuracy: 0.9987\n",
      "Epoch 19/20\n",
      "71/71 [==============================] - 3s 48ms/step - loss: 0.0128 - accuracy: 0.9960\n",
      "Epoch 20/20\n",
      "71/71 [==============================] - 3s 48ms/step - loss: 0.0288 - accuracy: 0.9894\n",
      "[INFO] Saving Model for tiger fold 2 ...\n",
      "36/36 [==============================] - 1s 10ms/step\n"
     ]
    },
    {
     "name": "stderr",
     "output_type": "stream",
     "text": [
      "C:\\Users\\rudra\\AppData\\Local\\Temp\\ipykernel_6820\\3249705492.py:34: UserWarning: FigureCanvasAgg is non-interactive, and thus cannot be shown\n",
      "  plt.show()\n"
     ]
    },
    {
     "name": "stdout",
     "output_type": "stream",
     "text": [
      "1/1 [==============================] - 0s 107ms/step\n"
     ]
    },
    {
     "name": "stderr",
     "output_type": "stream",
     "text": [
      "C:\\Users\\rudra\\AppData\\Local\\Temp\\ipykernel_6820\\1767733992.py:15: RuntimeWarning: invalid value encountered in divide\n",
      "  channel_image /= channel_image.std()\n",
      "C:\\Users\\rudra\\AppData\\Local\\Temp\\ipykernel_6820\\1767733992.py:18: RuntimeWarning: invalid value encountered in cast\n",
      "  channel_image = np.clip(channel_image, 0, 255).astype('uint8')\n"
     ]
    },
    {
     "name": "stdout",
     "output_type": "stream",
     "text": [
      "[INFO] Training network for tiger fold 3...\n",
      "Epoch 1/20\n",
      "71/71 [==============================] - 4s 48ms/step - loss: 0.4480 - accuracy: 0.7892\n",
      "Epoch 2/20\n",
      "71/71 [==============================] - 3s 48ms/step - loss: 0.2839 - accuracy: 0.8856\n",
      "Epoch 3/20\n",
      "71/71 [==============================] - 3s 48ms/step - loss: 0.1691 - accuracy: 0.9306\n",
      "Epoch 4/20\n",
      "71/71 [==============================] - 3s 48ms/step - loss: 0.1133 - accuracy: 0.9585\n",
      "Epoch 5/20\n",
      "71/71 [==============================] - 3s 48ms/step - loss: 0.0773 - accuracy: 0.9726\n",
      "Epoch 6/20\n",
      "71/71 [==============================] - 3s 48ms/step - loss: 0.0634 - accuracy: 0.9792\n",
      "Epoch 7/20\n",
      "71/71 [==============================] - 3s 48ms/step - loss: 0.0608 - accuracy: 0.9810\n",
      "Epoch 8/20\n",
      "71/71 [==============================] - 3s 49ms/step - loss: 0.1331 - accuracy: 0.9461\n",
      "Epoch 9/20\n",
      "71/71 [==============================] - 3s 49ms/step - loss: 0.0545 - accuracy: 0.9841\n",
      "Epoch 10/20\n",
      "71/71 [==============================] - 3s 48ms/step - loss: 0.0320 - accuracy: 0.9898\n",
      "Epoch 11/20\n",
      "71/71 [==============================] - 3s 48ms/step - loss: 0.0283 - accuracy: 0.9903\n",
      "Epoch 12/20\n",
      "71/71 [==============================] - 3s 48ms/step - loss: 0.0158 - accuracy: 0.9965\n",
      "Epoch 13/20\n",
      "71/71 [==============================] - 3s 48ms/step - loss: 0.0234 - accuracy: 0.9925\n",
      "Epoch 14/20\n",
      "71/71 [==============================] - 3s 48ms/step - loss: 0.0320 - accuracy: 0.9885\n",
      "Epoch 15/20\n",
      "71/71 [==============================] - 3s 48ms/step - loss: 0.0167 - accuracy: 0.9951\n",
      "Epoch 16/20\n",
      "71/71 [==============================] - 3s 48ms/step - loss: 0.0222 - accuracy: 0.9925\n",
      "Epoch 17/20\n",
      "71/71 [==============================] - 3s 48ms/step - loss: 0.0409 - accuracy: 0.9881\n",
      "Epoch 18/20\n",
      "71/71 [==============================] - 3s 48ms/step - loss: 0.0405 - accuracy: 0.9845\n",
      "Epoch 19/20\n",
      "71/71 [==============================] - 3s 48ms/step - loss: 0.0128 - accuracy: 0.9956\n",
      "Epoch 20/20\n",
      "71/71 [==============================] - 3s 48ms/step - loss: 0.0068 - accuracy: 0.9982\n",
      "[INFO] Saving Model for tiger fold 3 ...\n",
      "36/36 [==============================] - 0s 10ms/step\n"
     ]
    },
    {
     "name": "stderr",
     "output_type": "stream",
     "text": [
      "C:\\Users\\rudra\\AppData\\Local\\Temp\\ipykernel_6820\\3249705492.py:34: UserWarning: FigureCanvasAgg is non-interactive, and thus cannot be shown\n",
      "  plt.show()\n"
     ]
    },
    {
     "name": "stdout",
     "output_type": "stream",
     "text": [
      "1/1 [==============================] - 0s 90ms/step\n",
      "[INFO] Loading images ...\n",
      "[INFO] Processing rest ...\n",
      "[INFO] Processing turkey ...\n",
      "[INFO] image extract completed\n",
      "total train samples: \n",
      "3431\n",
      "[INFO] Training network for turkey fold 1...\n",
      "Epoch 1/20\n",
      "71/71 [==============================] - 5s 49ms/step - loss: 0.5038 - accuracy: 0.7474\n",
      "Epoch 2/20\n",
      "71/71 [==============================] - 3s 48ms/step - loss: 0.3160 - accuracy: 0.8665\n",
      "Epoch 3/20\n",
      "71/71 [==============================] - 3s 48ms/step - loss: 0.2239 - accuracy: 0.9104\n",
      "Epoch 4/20\n",
      "71/71 [==============================] - 3s 48ms/step - loss: 0.1458 - accuracy: 0.9468\n",
      "Epoch 5/20\n",
      "71/71 [==============================] - 3s 48ms/step - loss: 0.0813 - accuracy: 0.9716\n",
      "Epoch 6/20\n",
      "71/71 [==============================] - 3s 48ms/step - loss: 0.0799 - accuracy: 0.9765\n",
      "Epoch 7/20\n",
      "71/71 [==============================] - 3s 48ms/step - loss: 0.0421 - accuracy: 0.9894\n",
      "Epoch 8/20\n",
      "71/71 [==============================] - 3s 48ms/step - loss: 0.0573 - accuracy: 0.9840\n",
      "Epoch 9/20\n",
      "71/71 [==============================] - 3s 48ms/step - loss: 0.0451 - accuracy: 0.9818\n",
      "Epoch 10/20\n",
      "71/71 [==============================] - 3s 48ms/step - loss: 0.0449 - accuracy: 0.9845\n",
      "Epoch 11/20\n",
      "71/71 [==============================] - 3s 48ms/step - loss: 0.0292 - accuracy: 0.9911\n",
      "Epoch 12/20\n",
      "71/71 [==============================] - 3s 48ms/step - loss: 0.0242 - accuracy: 0.9933\n",
      "Epoch 13/20\n",
      "71/71 [==============================] - 3s 49ms/step - loss: 0.0155 - accuracy: 0.9956\n",
      "Epoch 14/20\n",
      "71/71 [==============================] - 3s 48ms/step - loss: 0.0187 - accuracy: 0.9947\n",
      "Epoch 15/20\n",
      "71/71 [==============================] - 3s 48ms/step - loss: 0.0186 - accuracy: 0.9947\n",
      "Epoch 16/20\n",
      "71/71 [==============================] - 3s 48ms/step - loss: 0.0323 - accuracy: 0.9885\n",
      "Epoch 17/20\n",
      "71/71 [==============================] - 3s 48ms/step - loss: 0.0591 - accuracy: 0.9787\n",
      "Epoch 18/20\n",
      "71/71 [==============================] - 3s 48ms/step - loss: 0.0116 - accuracy: 0.9965\n",
      "Epoch 19/20\n",
      "71/71 [==============================] - 3s 48ms/step - loss: 0.0085 - accuracy: 0.9973\n",
      "Epoch 20/20\n",
      "71/71 [==============================] - 3s 48ms/step - loss: 0.0049 - accuracy: 0.9996\n",
      "[INFO] Saving Model for turkey fold 1 ...\n",
      "36/36 [==============================] - 1s 10ms/step\n"
     ]
    },
    {
     "name": "stderr",
     "output_type": "stream",
     "text": [
      "C:\\Users\\rudra\\AppData\\Local\\Temp\\ipykernel_6820\\3249705492.py:34: UserWarning: FigureCanvasAgg is non-interactive, and thus cannot be shown\n",
      "  plt.show()\n"
     ]
    },
    {
     "name": "stdout",
     "output_type": "stream",
     "text": [
      "1/1 [==============================] - 0s 84ms/step\n"
     ]
    },
    {
     "name": "stderr",
     "output_type": "stream",
     "text": [
      "C:\\Users\\rudra\\AppData\\Local\\Temp\\ipykernel_6820\\1767733992.py:15: RuntimeWarning: invalid value encountered in divide\n",
      "  channel_image /= channel_image.std()\n",
      "C:\\Users\\rudra\\AppData\\Local\\Temp\\ipykernel_6820\\1767733992.py:18: RuntimeWarning: invalid value encountered in cast\n",
      "  channel_image = np.clip(channel_image, 0, 255).astype('uint8')\n"
     ]
    },
    {
     "name": "stdout",
     "output_type": "stream",
     "text": [
      "[INFO] Training network for turkey fold 2...\n",
      "Epoch 1/20\n",
      "71/71 [==============================] - 4s 48ms/step - loss: 0.4787 - accuracy: 0.7733\n",
      "Epoch 2/20\n",
      "71/71 [==============================] - 3s 48ms/step - loss: 0.2834 - accuracy: 0.8860\n",
      "Epoch 3/20\n",
      "71/71 [==============================] - 3s 47ms/step - loss: 0.2112 - accuracy: 0.9131\n",
      "Epoch 4/20\n",
      "71/71 [==============================] - 3s 47ms/step - loss: 0.2024 - accuracy: 0.9197\n",
      "Epoch 5/20\n",
      "71/71 [==============================] - 3s 47ms/step - loss: 0.1369 - accuracy: 0.9543\n",
      "Epoch 6/20\n",
      "71/71 [==============================] - 3s 47ms/step - loss: 0.0893 - accuracy: 0.9685\n",
      "Epoch 7/20\n",
      "71/71 [==============================] - 3s 47ms/step - loss: 0.0531 - accuracy: 0.9845\n",
      "Epoch 8/20\n",
      "71/71 [==============================] - 3s 47ms/step - loss: 0.0466 - accuracy: 0.9840\n",
      "Epoch 9/20\n",
      "71/71 [==============================] - 3s 47ms/step - loss: 0.0280 - accuracy: 0.9929\n",
      "Epoch 10/20\n",
      "71/71 [==============================] - 3s 47ms/step - loss: 0.0547 - accuracy: 0.9823\n",
      "Epoch 11/20\n",
      "71/71 [==============================] - 3s 47ms/step - loss: 0.0259 - accuracy: 0.9933\n",
      "Epoch 12/20\n",
      "71/71 [==============================] - 3s 47ms/step - loss: 0.0425 - accuracy: 0.9871\n",
      "Epoch 13/20\n",
      "71/71 [==============================] - 3s 47ms/step - loss: 0.0179 - accuracy: 0.9942\n",
      "Epoch 14/20\n",
      "71/71 [==============================] - 3s 47ms/step - loss: 0.0098 - accuracy: 0.9991\n",
      "Epoch 15/20\n",
      "71/71 [==============================] - 3s 47ms/step - loss: 0.0040 - accuracy: 0.9996\n",
      "Epoch 16/20\n",
      "71/71 [==============================] - 3s 47ms/step - loss: 0.0025 - accuracy: 1.0000\n",
      "Epoch 17/20\n",
      "71/71 [==============================] - 3s 47ms/step - loss: 0.0034 - accuracy: 0.9996\n",
      "Epoch 18/20\n",
      "71/71 [==============================] - 3s 48ms/step - loss: 0.0071 - accuracy: 0.9982\n",
      "Epoch 19/20\n",
      "71/71 [==============================] - 3s 47ms/step - loss: 0.0066 - accuracy: 0.9987\n",
      "Epoch 20/20\n",
      "71/71 [==============================] - 3s 47ms/step - loss: 0.0076 - accuracy: 0.9987\n",
      "[INFO] Saving Model for turkey fold 2 ...\n",
      "36/36 [==============================] - 1s 10ms/step\n"
     ]
    },
    {
     "name": "stderr",
     "output_type": "stream",
     "text": [
      "C:\\Users\\rudra\\AppData\\Local\\Temp\\ipykernel_6820\\3249705492.py:34: UserWarning: FigureCanvasAgg is non-interactive, and thus cannot be shown\n",
      "  plt.show()\n"
     ]
    },
    {
     "name": "stdout",
     "output_type": "stream",
     "text": [
      "1/1 [==============================] - 0s 86ms/step\n"
     ]
    },
    {
     "name": "stderr",
     "output_type": "stream",
     "text": [
      "C:\\Users\\rudra\\AppData\\Local\\Temp\\ipykernel_6820\\1767733992.py:15: RuntimeWarning: invalid value encountered in divide\n",
      "  channel_image /= channel_image.std()\n",
      "C:\\Users\\rudra\\AppData\\Local\\Temp\\ipykernel_6820\\1767733992.py:18: RuntimeWarning: invalid value encountered in cast\n",
      "  channel_image = np.clip(channel_image, 0, 255).astype('uint8')\n"
     ]
    },
    {
     "name": "stdout",
     "output_type": "stream",
     "text": [
      "[INFO] Training network for turkey fold 3...\n",
      "Epoch 1/20\n",
      "71/71 [==============================] - 5s 50ms/step - loss: 0.4929 - accuracy: 0.7628\n",
      "Epoch 2/20\n",
      "71/71 [==============================] - 3s 48ms/step - loss: 0.3600 - accuracy: 0.8431\n",
      "Epoch 3/20\n",
      "71/71 [==============================] - 3s 48ms/step - loss: 0.2467 - accuracy: 0.9025\n",
      "Epoch 4/20\n",
      "71/71 [==============================] - 3s 48ms/step - loss: 0.1629 - accuracy: 0.9415\n",
      "Epoch 5/20\n",
      "71/71 [==============================] - 3s 47ms/step - loss: 0.1021 - accuracy: 0.9659\n",
      "Epoch 6/20\n",
      "71/71 [==============================] - 3s 48ms/step - loss: 0.0760 - accuracy: 0.9747\n",
      "Epoch 7/20\n",
      "71/71 [==============================] - 3s 48ms/step - loss: 0.0598 - accuracy: 0.9792\n",
      "Epoch 8/20\n",
      "71/71 [==============================] - 3s 48ms/step - loss: 0.0326 - accuracy: 0.9920\n",
      "Epoch 9/20\n",
      "71/71 [==============================] - 3s 48ms/step - loss: 0.0141 - accuracy: 0.9973\n",
      "Epoch 10/20\n",
      "71/71 [==============================] - 3s 47ms/step - loss: 0.0252 - accuracy: 0.9934\n",
      "Epoch 11/20\n",
      "71/71 [==============================] - 3s 48ms/step - loss: 0.0289 - accuracy: 0.9911\n",
      "Epoch 12/20\n",
      "71/71 [==============================] - 3s 47ms/step - loss: 0.0432 - accuracy: 0.9871\n",
      "Epoch 13/20\n",
      "71/71 [==============================] - 3s 47ms/step - loss: 0.0579 - accuracy: 0.9761\n",
      "Epoch 14/20\n",
      "71/71 [==============================] - 3s 47ms/step - loss: 0.0357 - accuracy: 0.9858\n",
      "Epoch 15/20\n",
      "71/71 [==============================] - 3s 47ms/step - loss: 0.0306 - accuracy: 0.9929\n",
      "Epoch 16/20\n",
      "71/71 [==============================] - 3s 47ms/step - loss: 0.0098 - accuracy: 0.9969\n",
      "Epoch 17/20\n",
      "71/71 [==============================] - 3s 47ms/step - loss: 0.0082 - accuracy: 0.9987\n",
      "Epoch 18/20\n",
      "71/71 [==============================] - 3s 48ms/step - loss: 0.0124 - accuracy: 0.9973\n",
      "Epoch 19/20\n",
      "71/71 [==============================] - 3s 48ms/step - loss: 0.0258 - accuracy: 0.9898\n",
      "Epoch 20/20\n",
      "71/71 [==============================] - 3s 47ms/step - loss: 0.0168 - accuracy: 0.9969\n",
      "[INFO] Saving Model for turkey fold 3 ...\n",
      "36/36 [==============================] - 0s 10ms/step\n"
     ]
    },
    {
     "name": "stderr",
     "output_type": "stream",
     "text": [
      "C:\\Users\\rudra\\AppData\\Local\\Temp\\ipykernel_6820\\3249705492.py:34: UserWarning: FigureCanvasAgg is non-interactive, and thus cannot be shown\n",
      "  plt.show()\n"
     ]
    },
    {
     "name": "stdout",
     "output_type": "stream",
     "text": [
      "1/1 [==============================] - 0s 80ms/step\n"
     ]
    },
    {
     "name": "stderr",
     "output_type": "stream",
     "text": [
      "C:\\Users\\rudra\\AppData\\Local\\Temp\\ipykernel_6820\\1767733992.py:15: RuntimeWarning: invalid value encountered in divide\n",
      "  channel_image /= channel_image.std()\n",
      "C:\\Users\\rudra\\AppData\\Local\\Temp\\ipykernel_6820\\1767733992.py:18: RuntimeWarning: invalid value encountered in cast\n",
      "  channel_image = np.clip(channel_image, 0, 255).astype('uint8')\n"
     ]
    },
    {
     "name": "stdout",
     "output_type": "stream",
     "text": [
      "[INFO] Loading images ...\n",
      "[INFO] Processing rest ...\n",
      "[INFO] Processing turtle ...\n",
      "[INFO] image extract completed\n",
      "total train samples: \n",
      "3435\n",
      "[INFO] Training network for turtle fold 1...\n",
      "Epoch 1/20\n",
      "71/71 [==============================] - 5s 48ms/step - loss: 0.4522 - accuracy: 0.7975\n",
      "Epoch 2/20\n",
      "71/71 [==============================] - 3s 48ms/step - loss: 0.3299 - accuracy: 0.8574\n",
      "Epoch 3/20\n",
      "71/71 [==============================] - 3s 47ms/step - loss: 0.2798 - accuracy: 0.8862\n",
      "Epoch 4/20\n",
      "71/71 [==============================] - 3s 47ms/step - loss: 0.2185 - accuracy: 0.9194\n",
      "Epoch 5/20\n",
      "71/71 [==============================] - 3s 47ms/step - loss: 0.1742 - accuracy: 0.9389\n",
      "Epoch 6/20\n",
      "71/71 [==============================] - 3s 47ms/step - loss: 0.1002 - accuracy: 0.9681\n",
      "Epoch 7/20\n",
      "71/71 [==============================] - 3s 47ms/step - loss: 0.0665 - accuracy: 0.9783\n",
      "Epoch 8/20\n",
      "71/71 [==============================] - 3s 47ms/step - loss: 0.1225 - accuracy: 0.9531\n",
      "Epoch 9/20\n",
      "71/71 [==============================] - 3s 48ms/step - loss: 0.0854 - accuracy: 0.9712\n",
      "Epoch 10/20\n",
      "71/71 [==============================] - 3s 48ms/step - loss: 0.0563 - accuracy: 0.9827\n",
      "Epoch 11/20\n",
      "71/71 [==============================] - 3s 48ms/step - loss: 0.0345 - accuracy: 0.9889\n",
      "Epoch 12/20\n",
      "71/71 [==============================] - 3s 48ms/step - loss: 0.0307 - accuracy: 0.9916\n",
      "Epoch 13/20\n",
      "71/71 [==============================] - 3s 47ms/step - loss: 0.0453 - accuracy: 0.9849\n",
      "Epoch 14/20\n",
      "71/71 [==============================] - 3s 47ms/step - loss: 0.0558 - accuracy: 0.9810\n",
      "Epoch 15/20\n",
      "71/71 [==============================] - 3s 48ms/step - loss: 0.0288 - accuracy: 0.9916\n",
      "Epoch 16/20\n",
      "71/71 [==============================] - 3s 47ms/step - loss: 0.0185 - accuracy: 0.9969\n",
      "Epoch 17/20\n",
      "71/71 [==============================] - 3s 47ms/step - loss: 0.0160 - accuracy: 0.9947\n",
      "Epoch 18/20\n",
      "71/71 [==============================] - 3s 47ms/step - loss: 0.0307 - accuracy: 0.9903\n",
      "Epoch 19/20\n",
      "71/71 [==============================] - 3s 47ms/step - loss: 0.0225 - accuracy: 0.9942\n",
      "Epoch 20/20\n",
      "71/71 [==============================] - 3s 47ms/step - loss: 0.0150 - accuracy: 0.9969\n",
      "[INFO] Saving Model for turtle fold 1 ...\n",
      "36/36 [==============================] - 0s 11ms/step\n"
     ]
    },
    {
     "name": "stderr",
     "output_type": "stream",
     "text": [
      "C:\\Users\\rudra\\AppData\\Local\\Temp\\ipykernel_6820\\3249705492.py:34: UserWarning: FigureCanvasAgg is non-interactive, and thus cannot be shown\n",
      "  plt.show()\n"
     ]
    },
    {
     "name": "stdout",
     "output_type": "stream",
     "text": [
      "1/1 [==============================] - 0s 90ms/step\n",
      "[INFO] Training network for turtle fold 2...\n",
      "Epoch 1/20\n",
      "71/71 [==============================] - 4s 48ms/step - loss: 0.4525 - accuracy: 0.7896\n",
      "Epoch 2/20\n",
      "71/71 [==============================] - 3s 47ms/step - loss: 0.3328 - accuracy: 0.8614\n",
      "Epoch 3/20\n",
      "71/71 [==============================] - 3s 47ms/step - loss: 0.2675 - accuracy: 0.8964\n",
      "Epoch 4/20\n",
      "71/71 [==============================] - 3s 47ms/step - loss: 0.2069 - accuracy: 0.9300\n",
      "Epoch 5/20\n",
      "71/71 [==============================] - 3s 47ms/step - loss: 0.1640 - accuracy: 0.9371\n",
      "Epoch 6/20\n",
      "71/71 [==============================] - 3s 47ms/step - loss: 0.1141 - accuracy: 0.9619\n",
      "Epoch 7/20\n",
      "71/71 [==============================] - 3s 47ms/step - loss: 0.0812 - accuracy: 0.9774\n",
      "Epoch 8/20\n",
      "71/71 [==============================] - 3s 48ms/step - loss: 0.1346 - accuracy: 0.9513\n",
      "Epoch 9/20\n",
      "71/71 [==============================] - 3s 47ms/step - loss: 0.0862 - accuracy: 0.9663\n",
      "Epoch 10/20\n",
      "71/71 [==============================] - 3s 47ms/step - loss: 0.0860 - accuracy: 0.9752\n",
      "Epoch 11/20\n",
      "71/71 [==============================] - 3s 47ms/step - loss: 0.0396 - accuracy: 0.9898\n",
      "Epoch 12/20\n",
      "71/71 [==============================] - 3s 47ms/step - loss: 0.0397 - accuracy: 0.9867\n",
      "Epoch 13/20\n",
      "71/71 [==============================] - 3s 48ms/step - loss: 0.0465 - accuracy: 0.9854\n",
      "Epoch 14/20\n",
      "71/71 [==============================] - 3s 47ms/step - loss: 0.0329 - accuracy: 0.9925\n",
      "Epoch 15/20\n",
      "71/71 [==============================] - 3s 47ms/step - loss: 0.0226 - accuracy: 0.9951\n",
      "Epoch 16/20\n",
      "71/71 [==============================] - 3s 47ms/step - loss: 0.0113 - accuracy: 0.9987\n",
      "Epoch 17/20\n",
      "71/71 [==============================] - 3s 48ms/step - loss: 0.0098 - accuracy: 0.9991\n",
      "Epoch 18/20\n",
      "71/71 [==============================] - 3s 47ms/step - loss: 0.0275 - accuracy: 0.9920\n",
      "Epoch 19/20\n",
      "71/71 [==============================] - 3s 47ms/step - loss: 0.0373 - accuracy: 0.9872\n",
      "Epoch 20/20\n",
      "71/71 [==============================] - 3s 47ms/step - loss: 0.0244 - accuracy: 0.9929\n",
      "[INFO] Saving Model for turtle fold 2 ...\n",
      "36/36 [==============================] - 1s 10ms/step\n"
     ]
    },
    {
     "name": "stderr",
     "output_type": "stream",
     "text": [
      "C:\\Users\\rudra\\AppData\\Local\\Temp\\ipykernel_6820\\3249705492.py:34: UserWarning: FigureCanvasAgg is non-interactive, and thus cannot be shown\n",
      "  plt.show()\n"
     ]
    },
    {
     "name": "stdout",
     "output_type": "stream",
     "text": [
      "1/1 [==============================] - 0s 87ms/step\n"
     ]
    },
    {
     "name": "stderr",
     "output_type": "stream",
     "text": [
      "C:\\Users\\rudra\\AppData\\Local\\Temp\\ipykernel_6820\\1767733992.py:15: RuntimeWarning: invalid value encountered in divide\n",
      "  channel_image /= channel_image.std()\n",
      "C:\\Users\\rudra\\AppData\\Local\\Temp\\ipykernel_6820\\1767733992.py:18: RuntimeWarning: invalid value encountered in cast\n",
      "  channel_image = np.clip(channel_image, 0, 255).astype('uint8')\n"
     ]
    },
    {
     "name": "stdout",
     "output_type": "stream",
     "text": [
      "[INFO] Training network for turtle fold 3...\n",
      "Epoch 1/20\n",
      "71/71 [==============================] - 4s 48ms/step - loss: 0.4602 - accuracy: 0.7949\n",
      "Epoch 2/20\n",
      "71/71 [==============================] - 3s 47ms/step - loss: 0.3154 - accuracy: 0.8751\n",
      "Epoch 3/20\n",
      "71/71 [==============================] - 3s 47ms/step - loss: 0.2841 - accuracy: 0.8835\n",
      "Epoch 4/20\n",
      "71/71 [==============================] - 3s 47ms/step - loss: 0.1776 - accuracy: 0.9353\n",
      "Epoch 5/20\n",
      "71/71 [==============================] - 3s 47ms/step - loss: 0.1663 - accuracy: 0.9389\n",
      "Epoch 6/20\n",
      "71/71 [==============================] - 3s 48ms/step - loss: 0.1473 - accuracy: 0.9513\n",
      "Epoch 7/20\n",
      "71/71 [==============================] - 3s 47ms/step - loss: 0.1333 - accuracy: 0.9522\n",
      "Epoch 8/20\n",
      "71/71 [==============================] - 3s 47ms/step - loss: 0.0802 - accuracy: 0.9730\n",
      "Epoch 9/20\n",
      "71/71 [==============================] - 3s 47ms/step - loss: 0.0661 - accuracy: 0.9801\n",
      "Epoch 10/20\n",
      "71/71 [==============================] - 3s 47ms/step - loss: 0.0486 - accuracy: 0.9823\n",
      "Epoch 11/20\n",
      "71/71 [==============================] - 3s 47ms/step - loss: 0.0442 - accuracy: 0.9867\n",
      "Epoch 12/20\n",
      "71/71 [==============================] - 3s 48ms/step - loss: 0.0441 - accuracy: 0.9876\n",
      "Epoch 13/20\n",
      "71/71 [==============================] - 3s 47ms/step - loss: 0.0262 - accuracy: 0.9911\n",
      "Epoch 14/20\n",
      "71/71 [==============================] - 3s 47ms/step - loss: 0.0284 - accuracy: 0.9920\n",
      "Epoch 15/20\n",
      "71/71 [==============================] - 3s 47ms/step - loss: 0.0425 - accuracy: 0.9836\n",
      "Epoch 16/20\n",
      "71/71 [==============================] - 3s 47ms/step - loss: 0.0260 - accuracy: 0.9929\n",
      "Epoch 17/20\n",
      "71/71 [==============================] - 3s 48ms/step - loss: 0.0245 - accuracy: 0.9920\n",
      "Epoch 18/20\n",
      "71/71 [==============================] - 3s 47ms/step - loss: 0.0386 - accuracy: 0.9889\n",
      "Epoch 19/20\n",
      "71/71 [==============================] - 3s 48ms/step - loss: 0.0391 - accuracy: 0.9863\n",
      "Epoch 20/20\n",
      "71/71 [==============================] - 3s 47ms/step - loss: 0.0277 - accuracy: 0.9916\n",
      "[INFO] Saving Model for turtle fold 3 ...\n",
      "36/36 [==============================] - 0s 10ms/step\n"
     ]
    },
    {
     "name": "stderr",
     "output_type": "stream",
     "text": [
      "C:\\Users\\rudra\\AppData\\Local\\Temp\\ipykernel_6820\\3249705492.py:34: UserWarning: FigureCanvasAgg is non-interactive, and thus cannot be shown\n",
      "  plt.show()\n"
     ]
    },
    {
     "name": "stdout",
     "output_type": "stream",
     "text": [
      "1/1 [==============================] - 0s 90ms/step\n",
      "[INFO] Loading images ...\n",
      "[INFO] Processing rest ...\n",
      "[INFO] Processing whale ...\n",
      "[INFO] image extract completed\n",
      "total train samples: \n",
      "3417\n",
      "[INFO] Training network for whale fold 1...\n",
      "Epoch 1/20\n",
      "71/71 [==============================] - 5s 48ms/step - loss: 0.3066 - accuracy: 0.8741\n",
      "Epoch 2/20\n",
      "71/71 [==============================] - 3s 48ms/step - loss: 0.2227 - accuracy: 0.9141\n",
      "Epoch 3/20\n",
      "71/71 [==============================] - 3s 47ms/step - loss: 0.2288 - accuracy: 0.9101\n",
      "Epoch 4/20\n",
      "71/71 [==============================] - 3s 47ms/step - loss: 0.1371 - accuracy: 0.9537\n",
      "Epoch 5/20\n",
      "71/71 [==============================] - 3s 47ms/step - loss: 0.1318 - accuracy: 0.9564\n",
      "Epoch 6/20\n",
      "71/71 [==============================] - 3s 47ms/step - loss: 0.0810 - accuracy: 0.9733\n",
      "Epoch 7/20\n",
      "71/71 [==============================] - 3s 47ms/step - loss: 0.1074 - accuracy: 0.9590\n",
      "Epoch 8/20\n",
      "71/71 [==============================] - 3s 47ms/step - loss: 0.0745 - accuracy: 0.9742\n",
      "Epoch 9/20\n",
      "71/71 [==============================] - 3s 47ms/step - loss: 0.0476 - accuracy: 0.9862\n",
      "Epoch 10/20\n",
      "71/71 [==============================] - 3s 47ms/step - loss: 0.0472 - accuracy: 0.9858\n",
      "Epoch 11/20\n",
      "71/71 [==============================] - 3s 47ms/step - loss: 0.0520 - accuracy: 0.9835\n",
      "Epoch 12/20\n",
      "71/71 [==============================] - 3s 47ms/step - loss: 0.0916 - accuracy: 0.9702\n",
      "Epoch 13/20\n",
      "71/71 [==============================] - 3s 47ms/step - loss: 0.0476 - accuracy: 0.9849\n",
      "Epoch 14/20\n",
      "71/71 [==============================] - 3s 47ms/step - loss: 0.0184 - accuracy: 0.9947\n",
      "Epoch 15/20\n",
      "71/71 [==============================] - 3s 47ms/step - loss: 0.0168 - accuracy: 0.9933\n",
      "Epoch 16/20\n",
      "71/71 [==============================] - 3s 47ms/step - loss: 0.0110 - accuracy: 0.9978\n",
      "Epoch 17/20\n",
      "71/71 [==============================] - 3s 47ms/step - loss: 0.0112 - accuracy: 0.9960\n",
      "Epoch 18/20\n",
      "71/71 [==============================] - 3s 47ms/step - loss: 0.0467 - accuracy: 0.9831\n",
      "Epoch 19/20\n",
      "71/71 [==============================] - 3s 47ms/step - loss: 0.0317 - accuracy: 0.9871\n",
      "Epoch 20/20\n",
      "71/71 [==============================] - 3s 47ms/step - loss: 0.0283 - accuracy: 0.9911\n",
      "[INFO] Saving Model for whale fold 1 ...\n",
      "36/36 [==============================] - 0s 10ms/step\n"
     ]
    },
    {
     "name": "stderr",
     "output_type": "stream",
     "text": [
      "C:\\Users\\rudra\\AppData\\Local\\Temp\\ipykernel_6820\\3249705492.py:34: UserWarning: FigureCanvasAgg is non-interactive, and thus cannot be shown\n",
      "  plt.show()\n"
     ]
    },
    {
     "name": "stdout",
     "output_type": "stream",
     "text": [
      "1/1 [==============================] - 0s 90ms/step\n"
     ]
    },
    {
     "name": "stderr",
     "output_type": "stream",
     "text": [
      "C:\\Users\\rudra\\AppData\\Local\\Temp\\ipykernel_6820\\1767733992.py:15: RuntimeWarning: invalid value encountered in divide\n",
      "  channel_image /= channel_image.std()\n",
      "C:\\Users\\rudra\\AppData\\Local\\Temp\\ipykernel_6820\\1767733992.py:18: RuntimeWarning: invalid value encountered in cast\n",
      "  channel_image = np.clip(channel_image, 0, 255).astype('uint8')\n"
     ]
    },
    {
     "name": "stdout",
     "output_type": "stream",
     "text": [
      "[INFO] Training network for whale fold 2...\n",
      "Epoch 1/20\n",
      "71/71 [==============================] - 5s 52ms/step - loss: 0.3096 - accuracy: 0.8715\n",
      "Epoch 2/20\n",
      "71/71 [==============================] - 3s 48ms/step - loss: 0.2184 - accuracy: 0.9141\n",
      "Epoch 3/20\n",
      "71/71 [==============================] - 3s 47ms/step - loss: 0.1984 - accuracy: 0.9207\n",
      "Epoch 4/20\n",
      "71/71 [==============================] - 3s 47ms/step - loss: 0.2219 - accuracy: 0.9159\n",
      "Epoch 5/20\n",
      "71/71 [==============================] - 3s 47ms/step - loss: 0.1739 - accuracy: 0.9328\n",
      "Epoch 6/20\n",
      "71/71 [==============================] - 3s 47ms/step - loss: 0.1358 - accuracy: 0.9497\n",
      "Epoch 7/20\n",
      "71/71 [==============================] - 3s 47ms/step - loss: 0.1123 - accuracy: 0.9617\n",
      "Epoch 8/20\n",
      "71/71 [==============================] - 3s 47ms/step - loss: 0.0873 - accuracy: 0.9737\n",
      "Epoch 9/20\n",
      "71/71 [==============================] - 3s 47ms/step - loss: 0.0744 - accuracy: 0.9742\n",
      "Epoch 10/20\n",
      "71/71 [==============================] - 3s 47ms/step - loss: 0.0498 - accuracy: 0.9853\n",
      "Epoch 11/20\n",
      "71/71 [==============================] - 3s 47ms/step - loss: 0.0324 - accuracy: 0.9893\n",
      "Epoch 12/20\n",
      "71/71 [==============================] - 3s 47ms/step - loss: 0.0335 - accuracy: 0.9875\n",
      "Epoch 13/20\n",
      "71/71 [==============================] - 3s 47ms/step - loss: 0.0427 - accuracy: 0.9849\n",
      "Epoch 14/20\n",
      "71/71 [==============================] - 3s 47ms/step - loss: 0.0402 - accuracy: 0.9858\n",
      "Epoch 15/20\n",
      "71/71 [==============================] - 3s 47ms/step - loss: 0.0354 - accuracy: 0.9902\n",
      "Epoch 16/20\n",
      "71/71 [==============================] - 3s 47ms/step - loss: 0.0375 - accuracy: 0.9889\n",
      "Epoch 17/20\n",
      "71/71 [==============================] - 3s 47ms/step - loss: 0.0396 - accuracy: 0.9875\n",
      "Epoch 18/20\n",
      "71/71 [==============================] - 3s 47ms/step - loss: 0.0390 - accuracy: 0.9902\n",
      "Epoch 19/20\n",
      "71/71 [==============================] - 3s 47ms/step - loss: 0.0240 - accuracy: 0.9915\n",
      "Epoch 20/20\n",
      "71/71 [==============================] - 3s 47ms/step - loss: 0.0103 - accuracy: 0.9973\n",
      "[INFO] Saving Model for whale fold 2 ...\n",
      "36/36 [==============================] - 1s 10ms/step\n"
     ]
    },
    {
     "name": "stderr",
     "output_type": "stream",
     "text": [
      "C:\\Users\\rudra\\AppData\\Local\\Temp\\ipykernel_6820\\3249705492.py:34: UserWarning: FigureCanvasAgg is non-interactive, and thus cannot be shown\n",
      "  plt.show()\n"
     ]
    },
    {
     "name": "stdout",
     "output_type": "stream",
     "text": [
      "1/1 [==============================] - 0s 86ms/step\n",
      "[INFO] Training network for whale fold 3...\n",
      "Epoch 1/20\n",
      "71/71 [==============================] - 4s 48ms/step - loss: 0.3410 - accuracy: 0.8649\n",
      "Epoch 2/20\n",
      "71/71 [==============================] - 3s 48ms/step - loss: 0.2314 - accuracy: 0.9136\n",
      "Epoch 3/20\n",
      "71/71 [==============================] - 3s 49ms/step - loss: 0.2028 - accuracy: 0.9234\n",
      "Epoch 4/20\n",
      "71/71 [==============================] - 3s 47ms/step - loss: 0.1673 - accuracy: 0.9452\n",
      "Epoch 5/20\n",
      "71/71 [==============================] - 3s 47ms/step - loss: 0.1192 - accuracy: 0.9635\n",
      "Epoch 6/20\n",
      "71/71 [==============================] - 3s 47ms/step - loss: 0.1410 - accuracy: 0.9546\n",
      "Epoch 7/20\n",
      "71/71 [==============================] - 3s 47ms/step - loss: 0.1311 - accuracy: 0.9510\n",
      "Epoch 8/20\n",
      "71/71 [==============================] - 3s 47ms/step - loss: 0.1057 - accuracy: 0.9630\n",
      "Epoch 9/20\n",
      "71/71 [==============================] - 3s 47ms/step - loss: 0.0529 - accuracy: 0.9844\n",
      "Epoch 10/20\n",
      "71/71 [==============================] - 3s 47ms/step - loss: 0.0418 - accuracy: 0.9889\n",
      "Epoch 11/20\n",
      "71/71 [==============================] - 3s 47ms/step - loss: 0.0343 - accuracy: 0.9889\n",
      "Epoch 12/20\n",
      "71/71 [==============================] - 3s 47ms/step - loss: 0.0527 - accuracy: 0.9826\n",
      "Epoch 13/20\n",
      "71/71 [==============================] - 3s 47ms/step - loss: 0.0299 - accuracy: 0.9924\n",
      "Epoch 14/20\n",
      "71/71 [==============================] - 3s 47ms/step - loss: 0.0578 - accuracy: 0.9844\n",
      "Epoch 15/20\n",
      "71/71 [==============================] - 3s 47ms/step - loss: 0.0882 - accuracy: 0.9737\n",
      "Epoch 16/20\n",
      "71/71 [==============================] - 3s 47ms/step - loss: 0.0527 - accuracy: 0.9844\n",
      "Epoch 17/20\n",
      "71/71 [==============================] - 3s 47ms/step - loss: 0.0666 - accuracy: 0.9782\n",
      "Epoch 18/20\n",
      "71/71 [==============================] - 3s 47ms/step - loss: 0.0471 - accuracy: 0.9817\n",
      "Epoch 19/20\n",
      "71/71 [==============================] - 3s 47ms/step - loss: 0.0253 - accuracy: 0.9929\n",
      "Epoch 20/20\n",
      "71/71 [==============================] - 3s 47ms/step - loss: 0.0206 - accuracy: 0.9947\n",
      "[INFO] Saving Model for whale fold 3 ...\n",
      "36/36 [==============================] - 1s 10ms/step\n"
     ]
    },
    {
     "name": "stderr",
     "output_type": "stream",
     "text": [
      "C:\\Users\\rudra\\AppData\\Local\\Temp\\ipykernel_6820\\3249705492.py:34: UserWarning: FigureCanvasAgg is non-interactive, and thus cannot be shown\n",
      "  plt.show()\n"
     ]
    },
    {
     "name": "stdout",
     "output_type": "stream",
     "text": [
      "1/1 [==============================] - 0s 65ms/step\n"
     ]
    },
    {
     "name": "stderr",
     "output_type": "stream",
     "text": [
      "C:\\Users\\rudra\\AppData\\Local\\Temp\\ipykernel_6820\\1767733992.py:15: RuntimeWarning: invalid value encountered in divide\n",
      "  channel_image /= channel_image.std()\n",
      "C:\\Users\\rudra\\AppData\\Local\\Temp\\ipykernel_6820\\1767733992.py:18: RuntimeWarning: invalid value encountered in cast\n",
      "  channel_image = np.clip(channel_image, 0, 255).astype('uint8')\n"
     ]
    },
    {
     "name": "stdout",
     "output_type": "stream",
     "text": [
      "[INFO] Loading images ...\n",
      "[INFO] Processing rest ...\n",
      "[INFO] Processing wolf ...\n",
      "[INFO] image extract completed\n",
      "total train samples: \n",
      "3411\n",
      "[INFO] Training network for wolf fold 1...\n",
      "Epoch 1/20\n",
      "71/71 [==============================] - 5s 48ms/step - loss: 0.4463 - accuracy: 0.7940\n",
      "Epoch 2/20\n",
      "71/71 [==============================] - 3s 48ms/step - loss: 0.3666 - accuracy: 0.8412\n",
      "Epoch 3/20\n",
      "71/71 [==============================] - 3s 48ms/step - loss: 0.2485 - accuracy: 0.9041\n",
      "Epoch 4/20\n",
      "71/71 [==============================] - 4s 50ms/step - loss: 0.1835 - accuracy: 0.9358\n",
      "Epoch 5/20\n",
      "71/71 [==============================] - 4s 49ms/step - loss: 0.1270 - accuracy: 0.9545\n",
      "Epoch 6/20\n",
      "71/71 [==============================] - 4s 50ms/step - loss: 0.1180 - accuracy: 0.9550\n",
      "Epoch 7/20\n",
      "71/71 [==============================] - 4s 49ms/step - loss: 0.0638 - accuracy: 0.9817\n",
      "Epoch 8/20\n",
      "71/71 [==============================] - 3s 47ms/step - loss: 0.0767 - accuracy: 0.9737\n",
      "Epoch 9/20\n",
      "71/71 [==============================] - 3s 47ms/step - loss: 0.0764 - accuracy: 0.9719\n",
      "Epoch 10/20\n",
      "71/71 [==============================] - 3s 47ms/step - loss: 0.0411 - accuracy: 0.9862\n",
      "Epoch 11/20\n",
      "71/71 [==============================] - 3s 47ms/step - loss: 0.0457 - accuracy: 0.9839\n",
      "Epoch 12/20\n",
      "71/71 [==============================] - 3s 47ms/step - loss: 0.0519 - accuracy: 0.9795\n",
      "Epoch 13/20\n",
      "71/71 [==============================] - 3s 47ms/step - loss: 0.0334 - accuracy: 0.9902\n",
      "Epoch 14/20\n",
      "71/71 [==============================] - 3s 47ms/step - loss: 0.0381 - accuracy: 0.9857\n",
      "Epoch 15/20\n",
      "71/71 [==============================] - 3s 47ms/step - loss: 0.0347 - accuracy: 0.9875\n",
      "Epoch 16/20\n",
      "71/71 [==============================] - 3s 47ms/step - loss: 0.0316 - accuracy: 0.9902\n",
      "Epoch 17/20\n",
      "71/71 [==============================] - 3s 47ms/step - loss: 0.0194 - accuracy: 0.9942\n",
      "Epoch 18/20\n",
      "71/71 [==============================] - 3s 47ms/step - loss: 0.0271 - accuracy: 0.9897\n",
      "Epoch 19/20\n",
      "71/71 [==============================] - 3s 47ms/step - loss: 0.0219 - accuracy: 0.9938\n",
      "Epoch 20/20\n",
      "71/71 [==============================] - 3s 47ms/step - loss: 0.0138 - accuracy: 0.9969\n",
      "[INFO] Saving Model for wolf fold 1 ...\n",
      "36/36 [==============================] - 1s 10ms/step\n"
     ]
    },
    {
     "name": "stderr",
     "output_type": "stream",
     "text": [
      "C:\\Users\\rudra\\AppData\\Local\\Temp\\ipykernel_6820\\3249705492.py:34: UserWarning: FigureCanvasAgg is non-interactive, and thus cannot be shown\n",
      "  plt.show()\n"
     ]
    },
    {
     "name": "stdout",
     "output_type": "stream",
     "text": [
      "1/1 [==============================] - 0s 70ms/step\n"
     ]
    },
    {
     "name": "stderr",
     "output_type": "stream",
     "text": [
      "C:\\Users\\rudra\\AppData\\Local\\Temp\\ipykernel_6820\\1767733992.py:15: RuntimeWarning: invalid value encountered in divide\n",
      "  channel_image /= channel_image.std()\n",
      "C:\\Users\\rudra\\AppData\\Local\\Temp\\ipykernel_6820\\1767733992.py:18: RuntimeWarning: invalid value encountered in cast\n",
      "  channel_image = np.clip(channel_image, 0, 255).astype('uint8')\n"
     ]
    },
    {
     "name": "stdout",
     "output_type": "stream",
     "text": [
      "[INFO] Training network for wolf fold 2...\n",
      "Epoch 1/20\n",
      "71/71 [==============================] - 4s 49ms/step - loss: 0.4349 - accuracy: 0.7958\n",
      "Epoch 2/20\n",
      "71/71 [==============================] - 3s 48ms/step - loss: 0.2940 - accuracy: 0.8778\n",
      "Epoch 3/20\n",
      "71/71 [==============================] - 3s 48ms/step - loss: 0.2524 - accuracy: 0.8934\n",
      "Epoch 4/20\n",
      "71/71 [==============================] - 3s 48ms/step - loss: 0.1600 - accuracy: 0.9438\n",
      "Epoch 5/20\n",
      "71/71 [==============================] - 3s 48ms/step - loss: 0.1431 - accuracy: 0.9532\n",
      "Epoch 6/20\n",
      "71/71 [==============================] - 3s 48ms/step - loss: 0.0746 - accuracy: 0.9759\n",
      "Epoch 7/20\n",
      "71/71 [==============================] - 3s 48ms/step - loss: 0.1177 - accuracy: 0.9567\n",
      "Epoch 8/20\n",
      "71/71 [==============================] - 3s 48ms/step - loss: 0.0550 - accuracy: 0.9831\n",
      "Epoch 9/20\n",
      "71/71 [==============================] - 3s 48ms/step - loss: 0.0450 - accuracy: 0.9835\n",
      "Epoch 10/20\n",
      "71/71 [==============================] - 3s 48ms/step - loss: 0.0428 - accuracy: 0.9862\n",
      "Epoch 11/20\n",
      "71/71 [==============================] - 3s 48ms/step - loss: 0.0249 - accuracy: 0.9938\n",
      "Epoch 12/20\n",
      "71/71 [==============================] - 3s 48ms/step - loss: 0.0265 - accuracy: 0.9929\n",
      "Epoch 13/20\n",
      "71/71 [==============================] - 3s 48ms/step - loss: 0.0170 - accuracy: 0.9960\n",
      "Epoch 14/20\n",
      "71/71 [==============================] - 3s 48ms/step - loss: 0.0193 - accuracy: 0.9938\n",
      "Epoch 15/20\n",
      "71/71 [==============================] - 3s 48ms/step - loss: 0.0069 - accuracy: 0.9996\n",
      "Epoch 16/20\n",
      "71/71 [==============================] - 3s 48ms/step - loss: 0.0083 - accuracy: 0.9982\n",
      "Epoch 17/20\n",
      "71/71 [==============================] - 3s 48ms/step - loss: 0.1723 - accuracy: 0.9358\n",
      "Epoch 18/20\n",
      "71/71 [==============================] - 3s 47ms/step - loss: 0.1126 - accuracy: 0.9594\n",
      "Epoch 19/20\n",
      "71/71 [==============================] - 3s 48ms/step - loss: 0.0551 - accuracy: 0.9813\n",
      "Epoch 20/20\n",
      "71/71 [==============================] - 3s 48ms/step - loss: 0.0848 - accuracy: 0.9715\n",
      "[INFO] Saving Model for wolf fold 2 ...\n",
      "36/36 [==============================] - 0s 11ms/step\n"
     ]
    },
    {
     "name": "stderr",
     "output_type": "stream",
     "text": [
      "C:\\Users\\rudra\\AppData\\Local\\Temp\\ipykernel_6820\\3249705492.py:34: UserWarning: FigureCanvasAgg is non-interactive, and thus cannot be shown\n",
      "  plt.show()\n"
     ]
    },
    {
     "name": "stdout",
     "output_type": "stream",
     "text": [
      "1/1 [==============================] - 0s 61ms/step\n"
     ]
    },
    {
     "name": "stderr",
     "output_type": "stream",
     "text": [
      "C:\\Users\\rudra\\AppData\\Local\\Temp\\ipykernel_6820\\1767733992.py:15: RuntimeWarning: invalid value encountered in divide\n",
      "  channel_image /= channel_image.std()\n",
      "C:\\Users\\rudra\\AppData\\Local\\Temp\\ipykernel_6820\\1767733992.py:18: RuntimeWarning: invalid value encountered in cast\n",
      "  channel_image = np.clip(channel_image, 0, 255).astype('uint8')\n"
     ]
    },
    {
     "name": "stdout",
     "output_type": "stream",
     "text": [
      "[INFO] Training network for wolf fold 3...\n",
      "Epoch 1/20\n",
      "71/71 [==============================] - 4s 48ms/step - loss: 0.4618 - accuracy: 0.7949\n",
      "Epoch 2/20\n",
      "71/71 [==============================] - 3s 48ms/step - loss: 0.3294 - accuracy: 0.8608\n",
      "Epoch 3/20\n",
      "71/71 [==============================] - 3s 47ms/step - loss: 0.3071 - accuracy: 0.8778\n",
      "Epoch 4/20\n",
      "71/71 [==============================] - 3s 47ms/step - loss: 0.1921 - accuracy: 0.9175\n",
      "Epoch 5/20\n",
      "71/71 [==============================] - 3s 47ms/step - loss: 0.1626 - accuracy: 0.9371\n",
      "Epoch 6/20\n",
      "71/71 [==============================] - 3s 47ms/step - loss: 0.1472 - accuracy: 0.9425\n",
      "Epoch 7/20\n",
      "71/71 [==============================] - 3s 47ms/step - loss: 0.1010 - accuracy: 0.9634\n",
      "Epoch 8/20\n",
      "71/71 [==============================] - 3s 47ms/step - loss: 0.1895 - accuracy: 0.9246\n",
      "Epoch 9/20\n",
      "71/71 [==============================] - 3s 47ms/step - loss: 0.1011 - accuracy: 0.9621\n",
      "Epoch 10/20\n",
      "71/71 [==============================] - 3s 47ms/step - loss: 0.0547 - accuracy: 0.9848\n",
      "Epoch 11/20\n",
      "71/71 [==============================] - 3s 47ms/step - loss: 0.0433 - accuracy: 0.9875\n",
      "Epoch 12/20\n",
      "71/71 [==============================] - 3s 47ms/step - loss: 0.0295 - accuracy: 0.9942\n",
      "Epoch 13/20\n",
      "71/71 [==============================] - 3s 47ms/step - loss: 0.0365 - accuracy: 0.9866\n",
      "Epoch 14/20\n",
      "71/71 [==============================] - 3s 47ms/step - loss: 0.0243 - accuracy: 0.9942\n",
      "Epoch 15/20\n",
      "71/71 [==============================] - 3s 47ms/step - loss: 0.0177 - accuracy: 0.9955\n",
      "Epoch 16/20\n",
      "71/71 [==============================] - 3s 47ms/step - loss: 0.0205 - accuracy: 0.9942\n",
      "Epoch 17/20\n",
      "71/71 [==============================] - 3s 47ms/step - loss: 0.0380 - accuracy: 0.9875\n",
      "Epoch 18/20\n",
      "71/71 [==============================] - 3s 47ms/step - loss: 0.0332 - accuracy: 0.9866\n",
      "Epoch 19/20\n",
      "71/71 [==============================] - 3s 48ms/step - loss: 0.0331 - accuracy: 0.9911\n",
      "Epoch 20/20\n",
      "71/71 [==============================] - 3s 47ms/step - loss: 0.0155 - accuracy: 0.9960\n",
      "[INFO] Saving Model for wolf fold 3 ...\n",
      "36/36 [==============================] - 1s 10ms/step\n"
     ]
    },
    {
     "name": "stderr",
     "output_type": "stream",
     "text": [
      "C:\\Users\\rudra\\AppData\\Local\\Temp\\ipykernel_6820\\3249705492.py:34: UserWarning: FigureCanvasAgg is non-interactive, and thus cannot be shown\n",
      "  plt.show()\n"
     ]
    },
    {
     "name": "stdout",
     "output_type": "stream",
     "text": [
      "1/1 [==============================] - 0s 67ms/step\n"
     ]
    },
    {
     "name": "stderr",
     "output_type": "stream",
     "text": [
      "C:\\Users\\rudra\\AppData\\Local\\Temp\\ipykernel_6820\\1767733992.py:15: RuntimeWarning: invalid value encountered in divide\n",
      "  channel_image /= channel_image.std()\n",
      "C:\\Users\\rudra\\AppData\\Local\\Temp\\ipykernel_6820\\1767733992.py:18: RuntimeWarning: invalid value encountered in cast\n",
      "  channel_image = np.clip(channel_image, 0, 255).astype('uint8')\n"
     ]
    },
    {
     "name": "stdout",
     "output_type": "stream",
     "text": [
      "[INFO] Loading images ...\n",
      "[INFO] Processing rest ...\n",
      "[INFO] Processing wombat ...\n",
      "[INFO] image extract completed\n",
      "total train samples: \n",
      "3425\n",
      "[INFO] Training network for wombat fold 1...\n",
      "Epoch 1/20\n",
      "71/71 [==============================] - 4s 48ms/step - loss: 0.4008 - accuracy: 0.8288\n",
      "Epoch 2/20\n",
      "71/71 [==============================] - 3s 48ms/step - loss: 0.2824 - accuracy: 0.8934\n",
      "Epoch 3/20\n",
      "71/71 [==============================] - 3s 47ms/step - loss: 0.2091 - accuracy: 0.9227\n",
      "Epoch 4/20\n",
      "71/71 [==============================] - 3s 47ms/step - loss: 0.1350 - accuracy: 0.9516\n",
      "Epoch 5/20\n",
      "71/71 [==============================] - 3s 47ms/step - loss: 0.1205 - accuracy: 0.9489\n",
      "Epoch 6/20\n",
      "71/71 [==============================] - 3s 47ms/step - loss: 0.0989 - accuracy: 0.9676\n",
      "Epoch 7/20\n",
      "71/71 [==============================] - 3s 47ms/step - loss: 0.0630 - accuracy: 0.9796\n",
      "Epoch 8/20\n",
      "71/71 [==============================] - 3s 47ms/step - loss: 0.0399 - accuracy: 0.9898\n",
      "Epoch 9/20\n",
      "71/71 [==============================] - 3s 47ms/step - loss: 0.0280 - accuracy: 0.9920\n",
      "Epoch 10/20\n",
      "71/71 [==============================] - 3s 47ms/step - loss: 0.0214 - accuracy: 0.9947\n",
      "Epoch 11/20\n",
      "71/71 [==============================] - 3s 48ms/step - loss: 0.0322 - accuracy: 0.9907\n",
      "Epoch 12/20\n",
      "71/71 [==============================] - 3s 47ms/step - loss: 0.0405 - accuracy: 0.9845\n",
      "Epoch 13/20\n",
      "71/71 [==============================] - 3s 47ms/step - loss: 0.0353 - accuracy: 0.9884\n",
      "Epoch 14/20\n",
      "71/71 [==============================] - 3s 47ms/step - loss: 0.0487 - accuracy: 0.9867\n",
      "Epoch 15/20\n",
      "71/71 [==============================] - 3s 47ms/step - loss: 0.0244 - accuracy: 0.9920\n",
      "Epoch 16/20\n",
      "71/71 [==============================] - 3s 47ms/step - loss: 0.0330 - accuracy: 0.9867\n",
      "Epoch 17/20\n",
      "71/71 [==============================] - 3s 47ms/step - loss: 0.0525 - accuracy: 0.9809\n",
      "Epoch 18/20\n",
      "71/71 [==============================] - 3s 47ms/step - loss: 0.0221 - accuracy: 0.9916\n",
      "Epoch 19/20\n",
      "71/71 [==============================] - 3s 47ms/step - loss: 0.0259 - accuracy: 0.9907\n",
      "Epoch 20/20\n",
      "71/71 [==============================] - 3s 48ms/step - loss: 0.0079 - accuracy: 0.9991\n",
      "[INFO] Saving Model for wombat fold 1 ...\n",
      "36/36 [==============================] - 0s 10ms/step\n"
     ]
    },
    {
     "name": "stderr",
     "output_type": "stream",
     "text": [
      "C:\\Users\\rudra\\AppData\\Local\\Temp\\ipykernel_6820\\3249705492.py:34: UserWarning: FigureCanvasAgg is non-interactive, and thus cannot be shown\n",
      "  plt.show()\n"
     ]
    },
    {
     "name": "stdout",
     "output_type": "stream",
     "text": [
      "1/1 [==============================] - 0s 83ms/step\n",
      "[INFO] Training network for wombat fold 2...\n",
      "Epoch 1/20\n",
      "71/71 [==============================] - 4s 50ms/step - loss: 0.3985 - accuracy: 0.8257\n",
      "Epoch 2/20\n",
      "71/71 [==============================] - 3s 48ms/step - loss: 0.2748 - accuracy: 0.8849\n",
      "Epoch 3/20\n",
      "71/71 [==============================] - 3s 48ms/step - loss: 0.2507 - accuracy: 0.8987\n",
      "Epoch 4/20\n",
      "71/71 [==============================] - 3s 48ms/step - loss: 0.1741 - accuracy: 0.9343\n",
      "Epoch 5/20\n",
      "71/71 [==============================] - 3s 48ms/step - loss: 0.1151 - accuracy: 0.9538\n",
      "Epoch 6/20\n",
      "71/71 [==============================] - 3s 48ms/step - loss: 0.0962 - accuracy: 0.9658\n",
      "Epoch 7/20\n",
      "71/71 [==============================] - 3s 48ms/step - loss: 0.0670 - accuracy: 0.9778\n",
      "Epoch 8/20\n",
      "71/71 [==============================] - 3s 48ms/step - loss: 0.0452 - accuracy: 0.9853\n",
      "Epoch 9/20\n",
      "71/71 [==============================] - 3s 48ms/step - loss: 0.0410 - accuracy: 0.9871\n",
      "Epoch 10/20\n",
      "71/71 [==============================] - 3s 48ms/step - loss: 0.0228 - accuracy: 0.9942\n",
      "Epoch 11/20\n",
      "71/71 [==============================] - 3s 48ms/step - loss: 0.0399 - accuracy: 0.9862\n",
      "Epoch 12/20\n",
      "71/71 [==============================] - 3s 48ms/step - loss: 0.0494 - accuracy: 0.9800\n",
      "Epoch 13/20\n",
      "71/71 [==============================] - 3s 48ms/step - loss: 0.0465 - accuracy: 0.9840\n",
      "Epoch 14/20\n",
      "71/71 [==============================] - 3s 48ms/step - loss: 0.0434 - accuracy: 0.9862\n",
      "Epoch 15/20\n",
      "71/71 [==============================] - 3s 48ms/step - loss: 0.0476 - accuracy: 0.9805\n",
      "Epoch 16/20\n",
      "71/71 [==============================] - 3s 48ms/step - loss: 0.0505 - accuracy: 0.9818\n",
      "Epoch 17/20\n",
      "71/71 [==============================] - 3s 48ms/step - loss: 0.0209 - accuracy: 0.9942\n",
      "Epoch 18/20\n",
      "71/71 [==============================] - 3s 48ms/step - loss: 0.0353 - accuracy: 0.9867\n",
      "Epoch 19/20\n",
      "71/71 [==============================] - 3s 48ms/step - loss: 0.0280 - accuracy: 0.9889\n",
      "Epoch 20/20\n",
      "71/71 [==============================] - 3s 48ms/step - loss: 0.0209 - accuracy: 0.9924\n",
      "[INFO] Saving Model for wombat fold 2 ...\n",
      "36/36 [==============================] - 0s 10ms/step\n"
     ]
    },
    {
     "name": "stderr",
     "output_type": "stream",
     "text": [
      "C:\\Users\\rudra\\AppData\\Local\\Temp\\ipykernel_6820\\3249705492.py:34: UserWarning: FigureCanvasAgg is non-interactive, and thus cannot be shown\n",
      "  plt.show()\n"
     ]
    },
    {
     "name": "stdout",
     "output_type": "stream",
     "text": [
      "1/1 [==============================] - 0s 44ms/step\n"
     ]
    },
    {
     "name": "stderr",
     "output_type": "stream",
     "text": [
      "C:\\Users\\rudra\\AppData\\Local\\Temp\\ipykernel_6820\\1767733992.py:15: RuntimeWarning: invalid value encountered in divide\n",
      "  channel_image /= channel_image.std()\n",
      "C:\\Users\\rudra\\AppData\\Local\\Temp\\ipykernel_6820\\1767733992.py:18: RuntimeWarning: invalid value encountered in cast\n",
      "  channel_image = np.clip(channel_image, 0, 255).astype('uint8')\n"
     ]
    },
    {
     "name": "stdout",
     "output_type": "stream",
     "text": [
      "[INFO] Training network for wombat fold 3...\n",
      "Epoch 1/20\n",
      "71/71 [==============================] - 4s 49ms/step - loss: 0.4381 - accuracy: 0.7984\n",
      "Epoch 2/20\n",
      "71/71 [==============================] - 4s 51ms/step - loss: 0.3120 - accuracy: 0.8646\n",
      "Epoch 3/20\n",
      "71/71 [==============================] - 4s 51ms/step - loss: 0.2359 - accuracy: 0.9010\n",
      "Epoch 4/20\n",
      "71/71 [==============================] - 4s 50ms/step - loss: 0.1717 - accuracy: 0.9347\n",
      "Epoch 5/20\n",
      "71/71 [==============================] - 4s 51ms/step - loss: 0.1325 - accuracy: 0.9489\n",
      "Epoch 6/20\n",
      "71/71 [==============================] - 4s 50ms/step - loss: 0.1287 - accuracy: 0.9556\n",
      "Epoch 7/20\n",
      "71/71 [==============================] - 3s 48ms/step - loss: 0.0894 - accuracy: 0.9680\n",
      "Epoch 8/20\n",
      "71/71 [==============================] - 3s 47ms/step - loss: 0.0585 - accuracy: 0.9769\n",
      "Epoch 9/20\n",
      "71/71 [==============================] - 3s 47ms/step - loss: 0.0743 - accuracy: 0.9760\n",
      "Epoch 10/20\n",
      "71/71 [==============================] - 3s 47ms/step - loss: 0.0353 - accuracy: 0.9880\n",
      "Epoch 11/20\n",
      "71/71 [==============================] - 3s 49ms/step - loss: 0.0288 - accuracy: 0.9911\n",
      "Epoch 12/20\n",
      "71/71 [==============================] - 3s 48ms/step - loss: 0.0330 - accuracy: 0.9880\n",
      "Epoch 13/20\n",
      "71/71 [==============================] - 3s 49ms/step - loss: 0.0194 - accuracy: 0.9956\n",
      "Epoch 14/20\n",
      "71/71 [==============================] - 4s 50ms/step - loss: 0.0138 - accuracy: 0.9969\n",
      "Epoch 15/20\n",
      "71/71 [==============================] - 3s 48ms/step - loss: 0.0135 - accuracy: 0.9978\n",
      "Epoch 16/20\n",
      "71/71 [==============================] - 3s 48ms/step - loss: 0.0078 - accuracy: 0.9991\n",
      "Epoch 17/20\n",
      "71/71 [==============================] - 3s 48ms/step - loss: 0.0055 - accuracy: 0.9996\n",
      "Epoch 18/20\n",
      "71/71 [==============================] - 3s 48ms/step - loss: 0.0056 - accuracy: 0.9991\n",
      "Epoch 19/20\n",
      "71/71 [==============================] - 3s 48ms/step - loss: 0.0213 - accuracy: 0.9920\n",
      "Epoch 20/20\n",
      "71/71 [==============================] - 3s 48ms/step - loss: 0.0645 - accuracy: 0.9774\n",
      "[INFO] Saving Model for wombat fold 3 ...\n",
      "36/36 [==============================] - 1s 10ms/step\n"
     ]
    },
    {
     "name": "stderr",
     "output_type": "stream",
     "text": [
      "C:\\Users\\rudra\\AppData\\Local\\Temp\\ipykernel_6820\\3249705492.py:34: UserWarning: FigureCanvasAgg is non-interactive, and thus cannot be shown\n",
      "  plt.show()\n"
     ]
    },
    {
     "name": "stdout",
     "output_type": "stream",
     "text": [
      "1/1 [==============================] - 0s 80ms/step\n",
      "[INFO] Loading images ...\n",
      "[INFO] Processing rest ...\n",
      "[INFO] Processing woodpecker ...\n",
      "[INFO] image extract completed\n",
      "total train samples: \n",
      "3431\n",
      "[INFO] Training network for woodpecker fold 1...\n",
      "Epoch 1/20\n",
      "71/71 [==============================] - 5s 48ms/step - loss: 0.5105 - accuracy: 0.7394\n",
      "Epoch 2/20\n",
      "71/71 [==============================] - 3s 48ms/step - loss: 0.3128 - accuracy: 0.8710\n",
      "Epoch 3/20\n",
      "71/71 [==============================] - 3s 47ms/step - loss: 0.1746 - accuracy: 0.9353\n",
      "Epoch 4/20\n",
      "71/71 [==============================] - 3s 47ms/step - loss: 0.1148 - accuracy: 0.9548\n",
      "Epoch 5/20\n",
      "71/71 [==============================] - 3s 47ms/step - loss: 0.0758 - accuracy: 0.9725\n",
      "Epoch 6/20\n",
      "71/71 [==============================] - 3s 47ms/step - loss: 0.0398 - accuracy: 0.9925\n",
      "Epoch 7/20\n",
      "71/71 [==============================] - 3s 47ms/step - loss: 0.0416 - accuracy: 0.9871\n",
      "Epoch 8/20\n",
      "71/71 [==============================] - 3s 47ms/step - loss: 0.0357 - accuracy: 0.9902\n",
      "Epoch 9/20\n",
      "71/71 [==============================] - 3s 47ms/step - loss: 0.0448 - accuracy: 0.9854\n",
      "Epoch 10/20\n",
      "71/71 [==============================] - 3s 47ms/step - loss: 0.0283 - accuracy: 0.9916\n",
      "Epoch 11/20\n",
      "71/71 [==============================] - 3s 47ms/step - loss: 0.0238 - accuracy: 0.9920\n",
      "Epoch 12/20\n",
      "71/71 [==============================] - 3s 47ms/step - loss: 0.0631 - accuracy: 0.9769\n",
      "Epoch 13/20\n",
      "71/71 [==============================] - 3s 47ms/step - loss: 0.0236 - accuracy: 0.9920\n",
      "Epoch 14/20\n",
      "71/71 [==============================] - 3s 47ms/step - loss: 0.0172 - accuracy: 0.9942\n",
      "Epoch 15/20\n",
      "71/71 [==============================] - 3s 47ms/step - loss: 0.0186 - accuracy: 0.9938\n",
      "Epoch 16/20\n",
      "71/71 [==============================] - 3s 47ms/step - loss: 0.0076 - accuracy: 0.9987\n",
      "Epoch 17/20\n",
      "71/71 [==============================] - 3s 47ms/step - loss: 0.0037 - accuracy: 1.0000\n",
      "Epoch 18/20\n",
      "71/71 [==============================] - 3s 48ms/step - loss: 0.0028 - accuracy: 0.9996\n",
      "Epoch 19/20\n",
      "71/71 [==============================] - 3s 47ms/step - loss: 0.0021 - accuracy: 1.0000\n",
      "Epoch 20/20\n",
      "71/71 [==============================] - 3s 47ms/step - loss: 0.0020 - accuracy: 1.0000\n",
      "[INFO] Saving Model for woodpecker fold 1 ...\n",
      "36/36 [==============================] - 1s 10ms/step\n"
     ]
    },
    {
     "name": "stderr",
     "output_type": "stream",
     "text": [
      "C:\\Users\\rudra\\AppData\\Local\\Temp\\ipykernel_6820\\3249705492.py:34: UserWarning: FigureCanvasAgg is non-interactive, and thus cannot be shown\n",
      "  plt.show()\n"
     ]
    },
    {
     "name": "stdout",
     "output_type": "stream",
     "text": [
      "1/1 [==============================] - 0s 84ms/step\n"
     ]
    },
    {
     "name": "stderr",
     "output_type": "stream",
     "text": [
      "C:\\Users\\rudra\\AppData\\Local\\Temp\\ipykernel_6820\\1767733992.py:15: RuntimeWarning: invalid value encountered in divide\n",
      "  channel_image /= channel_image.std()\n",
      "C:\\Users\\rudra\\AppData\\Local\\Temp\\ipykernel_6820\\1767733992.py:18: RuntimeWarning: invalid value encountered in cast\n",
      "  channel_image = np.clip(channel_image, 0, 255).astype('uint8')\n"
     ]
    },
    {
     "name": "stdout",
     "output_type": "stream",
     "text": [
      "[INFO] Training network for woodpecker fold 2...\n",
      "Epoch 1/20\n",
      "71/71 [==============================] - 4s 48ms/step - loss: 0.5462 - accuracy: 0.7157\n",
      "Epoch 2/20\n",
      "71/71 [==============================] - 3s 48ms/step - loss: 0.3730 - accuracy: 0.8359\n",
      "Epoch 3/20\n",
      "71/71 [==============================] - 3s 47ms/step - loss: 0.2245 - accuracy: 0.9144\n",
      "Epoch 4/20\n",
      "71/71 [==============================] - 3s 47ms/step - loss: 0.1512 - accuracy: 0.9397\n",
      "Epoch 5/20\n",
      "71/71 [==============================] - 3s 47ms/step - loss: 0.1081 - accuracy: 0.9645\n",
      "Epoch 6/20\n",
      "71/71 [==============================] - 3s 47ms/step - loss: 0.0794 - accuracy: 0.9752\n",
      "Epoch 7/20\n",
      "71/71 [==============================] - 3s 47ms/step - loss: 0.0686 - accuracy: 0.9765\n",
      "Epoch 8/20\n",
      "71/71 [==============================] - 3s 48ms/step - loss: 0.0344 - accuracy: 0.9920\n",
      "Epoch 9/20\n",
      "71/71 [==============================] - 3s 48ms/step - loss: 0.0913 - accuracy: 0.9690\n",
      "Epoch 10/20\n",
      "71/71 [==============================] - 3s 47ms/step - loss: 0.0371 - accuracy: 0.9871\n",
      "Epoch 11/20\n",
      "71/71 [==============================] - 3s 47ms/step - loss: 0.0237 - accuracy: 0.9933\n",
      "Epoch 12/20\n",
      "71/71 [==============================] - 3s 47ms/step - loss: 0.0281 - accuracy: 0.9920\n",
      "Epoch 13/20\n",
      "71/71 [==============================] - 3s 47ms/step - loss: 0.0396 - accuracy: 0.9854\n",
      "Epoch 14/20\n",
      "71/71 [==============================] - 3s 48ms/step - loss: 0.0482 - accuracy: 0.9827\n",
      "Epoch 15/20\n",
      "71/71 [==============================] - 3s 48ms/step - loss: 0.0281 - accuracy: 0.9916\n",
      "Epoch 16/20\n",
      "71/71 [==============================] - 3s 48ms/step - loss: 0.0250 - accuracy: 0.9907\n",
      "Epoch 17/20\n",
      "71/71 [==============================] - 3s 49ms/step - loss: 0.0131 - accuracy: 0.9969\n",
      "Epoch 18/20\n",
      "71/71 [==============================] - 4s 49ms/step - loss: 0.0437 - accuracy: 0.9867\n",
      "Epoch 19/20\n",
      "71/71 [==============================] - 4s 49ms/step - loss: 0.0287 - accuracy: 0.9885\n",
      "Epoch 20/20\n",
      "71/71 [==============================] - 3s 49ms/step - loss: 0.0159 - accuracy: 0.9951\n",
      "[INFO] Saving Model for woodpecker fold 2 ...\n",
      "36/36 [==============================] - 1s 11ms/step\n"
     ]
    },
    {
     "name": "stderr",
     "output_type": "stream",
     "text": [
      "C:\\Users\\rudra\\AppData\\Local\\Temp\\ipykernel_6820\\3249705492.py:34: UserWarning: FigureCanvasAgg is non-interactive, and thus cannot be shown\n",
      "  plt.show()\n"
     ]
    },
    {
     "name": "stdout",
     "output_type": "stream",
     "text": [
      "1/1 [==============================] - 0s 56ms/step\n",
      "[INFO] Training network for woodpecker fold 3...\n",
      "Epoch 1/20\n",
      "71/71 [==============================] - 5s 50ms/step - loss: 0.5301 - accuracy: 0.7333\n",
      "Epoch 2/20\n",
      "71/71 [==============================] - 3s 48ms/step - loss: 0.3106 - accuracy: 0.8746\n",
      "Epoch 3/20\n",
      "71/71 [==============================] - 3s 49ms/step - loss: 0.2036 - accuracy: 0.9220\n",
      "Epoch 4/20\n",
      "71/71 [==============================] - 3s 48ms/step - loss: 0.1109 - accuracy: 0.9619\n",
      "Epoch 5/20\n",
      "71/71 [==============================] - 3s 48ms/step - loss: 0.0634 - accuracy: 0.9818\n",
      "Epoch 6/20\n",
      "71/71 [==============================] - 3s 48ms/step - loss: 0.0659 - accuracy: 0.9787\n",
      "Epoch 7/20\n",
      "71/71 [==============================] - 3s 48ms/step - loss: 0.0640 - accuracy: 0.9832\n",
      "Epoch 8/20\n",
      "71/71 [==============================] - 3s 48ms/step - loss: 0.0380 - accuracy: 0.9885\n",
      "Epoch 9/20\n",
      "71/71 [==============================] - 3s 48ms/step - loss: 0.0192 - accuracy: 0.9969\n",
      "Epoch 10/20\n",
      "71/71 [==============================] - 3s 48ms/step - loss: 0.0182 - accuracy: 0.9965\n",
      "Epoch 11/20\n",
      "71/71 [==============================] - 3s 48ms/step - loss: 0.0280 - accuracy: 0.9920\n",
      "Epoch 12/20\n",
      "71/71 [==============================] - 3s 48ms/step - loss: 0.0266 - accuracy: 0.9920\n",
      "Epoch 13/20\n",
      "71/71 [==============================] - 3s 48ms/step - loss: 0.0345 - accuracy: 0.9876\n",
      "Epoch 14/20\n",
      "71/71 [==============================] - 3s 48ms/step - loss: 0.0191 - accuracy: 0.9947\n",
      "Epoch 15/20\n",
      "71/71 [==============================] - 3s 48ms/step - loss: 0.0114 - accuracy: 0.9969\n",
      "Epoch 16/20\n",
      "71/71 [==============================] - 3s 48ms/step - loss: 0.0083 - accuracy: 0.9987\n",
      "Epoch 17/20\n",
      "71/71 [==============================] - 3s 48ms/step - loss: 0.0091 - accuracy: 0.9978\n",
      "Epoch 18/20\n",
      "71/71 [==============================] - 3s 48ms/step - loss: 0.0159 - accuracy: 0.9960\n",
      "Epoch 19/20\n",
      "71/71 [==============================] - 3s 48ms/step - loss: 0.0186 - accuracy: 0.9920\n",
      "Epoch 20/20\n",
      "71/71 [==============================] - 4s 54ms/step - loss: 0.0324 - accuracy: 0.9894\n",
      "[INFO] Saving Model for woodpecker fold 3 ...\n",
      "36/36 [==============================] - 1s 11ms/step\n"
     ]
    },
    {
     "name": "stderr",
     "output_type": "stream",
     "text": [
      "C:\\Users\\rudra\\AppData\\Local\\Temp\\ipykernel_6820\\3249705492.py:34: UserWarning: FigureCanvasAgg is non-interactive, and thus cannot be shown\n",
      "  plt.show()\n"
     ]
    },
    {
     "name": "stdout",
     "output_type": "stream",
     "text": [
      "1/1 [==============================] - 0s 94ms/step\n"
     ]
    },
    {
     "name": "stderr",
     "output_type": "stream",
     "text": [
      "C:\\Users\\rudra\\AppData\\Local\\Temp\\ipykernel_6820\\1767733992.py:15: RuntimeWarning: invalid value encountered in divide\n",
      "  channel_image /= channel_image.std()\n",
      "C:\\Users\\rudra\\AppData\\Local\\Temp\\ipykernel_6820\\1767733992.py:18: RuntimeWarning: invalid value encountered in cast\n",
      "  channel_image = np.clip(channel_image, 0, 255).astype('uint8')\n"
     ]
    },
    {
     "name": "stdout",
     "output_type": "stream",
     "text": [
      "[INFO] Loading images ...\n",
      "[INFO] Processing rest ...\n",
      "[INFO] Processing zebra ...\n",
      "[INFO] image extract completed\n",
      "total train samples: \n",
      "3437\n",
      "[INFO] Training network for zebra fold 1...\n",
      "Epoch 1/20\n",
      "71/71 [==============================] - 5s 48ms/step - loss: 0.3464 - accuracy: 0.8464\n",
      "Epoch 2/20\n",
      "71/71 [==============================] - 3s 48ms/step - loss: 0.1553 - accuracy: 0.9495\n",
      "Epoch 3/20\n",
      "71/71 [==============================] - 3s 48ms/step - loss: 0.0936 - accuracy: 0.9677\n",
      "Epoch 4/20\n",
      "71/71 [==============================] - 3s 48ms/step - loss: 0.0634 - accuracy: 0.9805\n",
      "Epoch 5/20\n",
      "71/71 [==============================] - 3s 48ms/step - loss: 0.0639 - accuracy: 0.9792\n",
      "Epoch 6/20\n",
      "71/71 [==============================] - 3s 48ms/step - loss: 0.0424 - accuracy: 0.9894\n",
      "Epoch 7/20\n",
      "71/71 [==============================] - 3s 48ms/step - loss: 0.0411 - accuracy: 0.9858\n",
      "Epoch 8/20\n",
      "71/71 [==============================] - 3s 48ms/step - loss: 0.0347 - accuracy: 0.9872\n",
      "Epoch 9/20\n",
      "71/71 [==============================] - 3s 48ms/step - loss: 0.0234 - accuracy: 0.9920\n",
      "Epoch 10/20\n",
      "71/71 [==============================] - 3s 48ms/step - loss: 0.0122 - accuracy: 0.9956\n",
      "Epoch 11/20\n",
      "71/71 [==============================] - 3s 48ms/step - loss: 0.0133 - accuracy: 0.9969\n",
      "Epoch 12/20\n",
      "71/71 [==============================] - 3s 48ms/step - loss: 0.0078 - accuracy: 0.9969\n",
      "Epoch 13/20\n",
      "71/71 [==============================] - 3s 48ms/step - loss: 0.0562 - accuracy: 0.9823\n",
      "Epoch 14/20\n",
      "71/71 [==============================] - 3s 48ms/step - loss: 0.0236 - accuracy: 0.9925\n",
      "Epoch 15/20\n",
      "71/71 [==============================] - 3s 48ms/step - loss: 0.0142 - accuracy: 0.9960\n",
      "Epoch 16/20\n",
      "71/71 [==============================] - 3s 48ms/step - loss: 0.0123 - accuracy: 0.9951\n",
      "Epoch 17/20\n",
      "71/71 [==============================] - 3s 47ms/step - loss: 0.0262 - accuracy: 0.9929\n",
      "Epoch 18/20\n",
      "71/71 [==============================] - 3s 48ms/step - loss: 0.0068 - accuracy: 0.9982\n",
      "Epoch 19/20\n",
      "71/71 [==============================] - 3s 47ms/step - loss: 0.0210 - accuracy: 0.9925\n",
      "Epoch 20/20\n",
      "71/71 [==============================] - 3s 48ms/step - loss: 0.0126 - accuracy: 0.9947\n",
      "[INFO] Saving Model for zebra fold 1 ...\n",
      "36/36 [==============================] - 0s 10ms/step\n"
     ]
    },
    {
     "name": "stderr",
     "output_type": "stream",
     "text": [
      "C:\\Users\\rudra\\AppData\\Local\\Temp\\ipykernel_6820\\3249705492.py:34: UserWarning: FigureCanvasAgg is non-interactive, and thus cannot be shown\n",
      "  plt.show()\n"
     ]
    },
    {
     "name": "stdout",
     "output_type": "stream",
     "text": [
      "1/1 [==============================] - 0s 78ms/step\n"
     ]
    },
    {
     "name": "stderr",
     "output_type": "stream",
     "text": [
      "C:\\Users\\rudra\\AppData\\Local\\Temp\\ipykernel_6820\\1767733992.py:15: RuntimeWarning: invalid value encountered in divide\n",
      "  channel_image /= channel_image.std()\n",
      "C:\\Users\\rudra\\AppData\\Local\\Temp\\ipykernel_6820\\1767733992.py:18: RuntimeWarning: invalid value encountered in cast\n",
      "  channel_image = np.clip(channel_image, 0, 255).astype('uint8')\n"
     ]
    },
    {
     "name": "stdout",
     "output_type": "stream",
     "text": [
      "[INFO] Training network for zebra fold 2...\n",
      "Epoch 1/20\n",
      "71/71 [==============================] - 4s 49ms/step - loss: 0.3363 - accuracy: 0.8477\n",
      "Epoch 2/20\n",
      "71/71 [==============================] - 3s 47ms/step - loss: 0.1968 - accuracy: 0.9283\n",
      "Epoch 3/20\n",
      "71/71 [==============================] - 3s 47ms/step - loss: 0.1431 - accuracy: 0.9438\n",
      "Epoch 4/20\n",
      "71/71 [==============================] - 3s 47ms/step - loss: 0.0933 - accuracy: 0.9681\n",
      "Epoch 5/20\n",
      "71/71 [==============================] - 3s 47ms/step - loss: 0.0562 - accuracy: 0.9805\n",
      "Epoch 6/20\n",
      "71/71 [==============================] - 3s 47ms/step - loss: 0.0275 - accuracy: 0.9925\n",
      "Epoch 7/20\n",
      "71/71 [==============================] - 3s 47ms/step - loss: 0.0183 - accuracy: 0.9947\n",
      "Epoch 8/20\n",
      "71/71 [==============================] - 3s 47ms/step - loss: 0.0246 - accuracy: 0.9920\n",
      "Epoch 9/20\n",
      "71/71 [==============================] - 3s 47ms/step - loss: 0.0245 - accuracy: 0.9951\n",
      "Epoch 10/20\n",
      "71/71 [==============================] - 3s 47ms/step - loss: 0.0457 - accuracy: 0.9867\n",
      "Epoch 11/20\n",
      "71/71 [==============================] - 3s 47ms/step - loss: 0.0395 - accuracy: 0.9863\n",
      "Epoch 12/20\n",
      "71/71 [==============================] - 3s 47ms/step - loss: 0.0468 - accuracy: 0.9880\n",
      "Epoch 13/20\n",
      "71/71 [==============================] - 3s 47ms/step - loss: 0.0248 - accuracy: 0.9916\n",
      "Epoch 14/20\n",
      "71/71 [==============================] - 3s 47ms/step - loss: 0.0215 - accuracy: 0.9934\n",
      "Epoch 15/20\n",
      "71/71 [==============================] - 3s 47ms/step - loss: 0.0112 - accuracy: 0.9960\n",
      "Epoch 16/20\n",
      "71/71 [==============================] - 3s 48ms/step - loss: 0.0274 - accuracy: 0.9916\n",
      "Epoch 17/20\n",
      "71/71 [==============================] - 3s 47ms/step - loss: 0.0104 - accuracy: 0.9982\n",
      "Epoch 18/20\n",
      "71/71 [==============================] - 3s 47ms/step - loss: 0.0067 - accuracy: 0.9987\n",
      "Epoch 19/20\n",
      "71/71 [==============================] - 3s 47ms/step - loss: 0.0073 - accuracy: 0.9982\n",
      "Epoch 20/20\n",
      "71/71 [==============================] - 3s 47ms/step - loss: 0.0049 - accuracy: 0.9987\n",
      "[INFO] Saving Model for zebra fold 2 ...\n",
      "36/36 [==============================] - 0s 10ms/step\n"
     ]
    },
    {
     "name": "stderr",
     "output_type": "stream",
     "text": [
      "C:\\Users\\rudra\\AppData\\Local\\Temp\\ipykernel_6820\\3249705492.py:34: UserWarning: FigureCanvasAgg is non-interactive, and thus cannot be shown\n",
      "  plt.show()\n"
     ]
    },
    {
     "name": "stdout",
     "output_type": "stream",
     "text": [
      "1/1 [==============================] - 0s 78ms/step\n"
     ]
    },
    {
     "name": "stderr",
     "output_type": "stream",
     "text": [
      "C:\\Users\\rudra\\AppData\\Local\\Temp\\ipykernel_6820\\1767733992.py:15: RuntimeWarning: invalid value encountered in divide\n",
      "  channel_image /= channel_image.std()\n",
      "C:\\Users\\rudra\\AppData\\Local\\Temp\\ipykernel_6820\\1767733992.py:18: RuntimeWarning: invalid value encountered in cast\n",
      "  channel_image = np.clip(channel_image, 0, 255).astype('uint8')\n"
     ]
    },
    {
     "name": "stdout",
     "output_type": "stream",
     "text": [
      "[INFO] Training network for zebra fold 3...\n",
      "Epoch 1/20\n",
      "71/71 [==============================] - 4s 48ms/step - loss: 0.3128 - accuracy: 0.8666\n",
      "Epoch 2/20\n",
      "71/71 [==============================] - 3s 48ms/step - loss: 0.1591 - accuracy: 0.9398\n",
      "Epoch 3/20\n",
      "71/71 [==============================] - 3s 47ms/step - loss: 0.1097 - accuracy: 0.9642\n",
      "Epoch 4/20\n",
      "71/71 [==============================] - 3s 48ms/step - loss: 0.1067 - accuracy: 0.9646\n",
      "Epoch 5/20\n",
      "71/71 [==============================] - 3s 47ms/step - loss: 0.0633 - accuracy: 0.9792\n",
      "Epoch 6/20\n",
      "71/71 [==============================] - 3s 47ms/step - loss: 0.0483 - accuracy: 0.9819\n",
      "Epoch 7/20\n",
      "71/71 [==============================] - 3s 47ms/step - loss: 0.0307 - accuracy: 0.9912\n",
      "Epoch 8/20\n",
      "71/71 [==============================] - 3s 48ms/step - loss: 0.0284 - accuracy: 0.9920\n",
      "Epoch 9/20\n",
      "71/71 [==============================] - 3s 48ms/step - loss: 0.0206 - accuracy: 0.9956\n",
      "Epoch 10/20\n",
      "71/71 [==============================] - 3s 48ms/step - loss: 0.0475 - accuracy: 0.9854\n",
      "Epoch 11/20\n",
      "71/71 [==============================] - 3s 48ms/step - loss: 0.0211 - accuracy: 0.9951\n",
      "Epoch 12/20\n",
      "71/71 [==============================] - 3s 48ms/step - loss: 0.0154 - accuracy: 0.9947\n",
      "Epoch 13/20\n",
      "71/71 [==============================] - 3s 47ms/step - loss: 0.0270 - accuracy: 0.9898\n",
      "Epoch 14/20\n",
      "71/71 [==============================] - 3s 48ms/step - loss: 0.0111 - accuracy: 0.9965\n",
      "Epoch 15/20\n",
      "71/71 [==============================] - 3s 48ms/step - loss: 0.0181 - accuracy: 0.9960\n",
      "Epoch 16/20\n",
      "71/71 [==============================] - 3s 48ms/step - loss: 0.0123 - accuracy: 0.9956\n",
      "Epoch 17/20\n",
      "71/71 [==============================] - 3s 48ms/step - loss: 0.0099 - accuracy: 0.9978\n",
      "Epoch 18/20\n",
      "71/71 [==============================] - 3s 48ms/step - loss: 0.0128 - accuracy: 0.9973\n",
      "Epoch 19/20\n",
      "71/71 [==============================] - 3s 48ms/step - loss: 0.0220 - accuracy: 0.9929\n",
      "Epoch 20/20\n",
      "71/71 [==============================] - 3s 48ms/step - loss: 0.0157 - accuracy: 0.9965\n",
      "[INFO] Saving Model for zebra fold 3 ...\n",
      "36/36 [==============================] - 0s 10ms/step\n"
     ]
    },
    {
     "name": "stderr",
     "output_type": "stream",
     "text": [
      "C:\\Users\\rudra\\AppData\\Local\\Temp\\ipykernel_6820\\3249705492.py:34: UserWarning: FigureCanvasAgg is non-interactive, and thus cannot be shown\n",
      "  plt.show()\n"
     ]
    },
    {
     "name": "stdout",
     "output_type": "stream",
     "text": [
      "1/1 [==============================] - 0s 81ms/step\n"
     ]
    }
   ],
   "source": [
    "classification = {f\"Animal - Fold\":[], \n",
    "                  f\"Accuracy (animal, rest)\": [], \n",
    "                  f\"Precision (animal, rest)\": [],\n",
    "                    f\"Recall (animal, rest)\": [],\n",
    "                    f\"F-1 Score (animal, rest)\": []}\n",
    "for animal in animals:\n",
    "    image_list, label_list = [] , []\n",
    "    save_path = f'C:\\\\Users\\\\rudra\\\\OneDrive\\\\Desktop\\\\animals\\\\OvR3\\\\{animal}'\n",
    "    train_path = f\"C:\\\\Users\\\\rudra\\\\OneDrive\\\\Desktop\\\\animals\\\\OvR3\\\\{animal}\"\n",
    "    try:\n",
    "        print(\"[INFO] Loading images ...\")\n",
    "        image_folder_list = listdir(train_path)\n",
    "        for image_folder in image_folder_list:\n",
    "            print(f\"[INFO] Processing {image_folder} ...\")\n",
    "            images_list = listdir(f\"{train_path}/{image_folder}/\")\n",
    "            for samples in images_list[:]:\n",
    "                image_directory = f\"{train_path}/{image_folder}/{samples}\"\n",
    "                if image_directory.endswith(\".jpg\")==True or image_directory.endswith(\".JPG\")==True or image_directory.endswith(\".jpeg\")==True:\n",
    "                    # img = load_img(image_directory,target_size=(128,128))\n",
    "                    # x = img_to_array(img,data_format = channels_last)  \n",
    "                    image_list.append(img_to_array(load_img(image_directory,target_size=(128,128))))\n",
    "                    label_list.append(image_folder)\n",
    "    \n",
    "        print(\"[INFO] image extract completed\")  \n",
    "        print(\"total train samples: \")\n",
    "        print(len(image_list))\n",
    "    except Exception as e:\n",
    "        print(f\"Error : {e}\")\n",
    "    X = np.array(image_list) / 225\n",
    "    y = np.array(label_list)\n",
    "    image_list, label_list = [] , []\n",
    "    Y = labelencoder.fit_transform(y)\n",
    "    labels = [\n",
    "        f'{animal}',\n",
    "        'rest' \n",
    "        ]\n",
    "    cv = KFold(n_splits = 3, shuffle=True, random_state=42)\n",
    "    fold_no = 1\n",
    "    acc_per_fold = []\n",
    "    loss_per_fold = []\n",
    "    EPOCHS =20\n",
    "    BATCH_SIZE = 32\n",
    "    gc.collect()\n",
    "    for train,test in cv.split(X,Y):\n",
    "        model = create_model()\n",
    "        print(f\"[INFO] Training network for {animal} fold {fold_no}...\")\n",
    "        history = model.fit(X[train],Y[train], batch_size=BATCH_SIZE,\n",
    "                                      steps_per_epoch=len(X[train]) // BATCH_SIZE,\n",
    "                                      epochs=EPOCHS, \n",
    "                                      verbose=1)\n",
    "        gc.collect()\n",
    "        print(f\"[INFO] Saving Model for {animal} fold {fold_no} ...\")\n",
    "        model.save(f\"{save_path}/model_{animal}-fold\"+str(fold_no)+\".h5\")\n",
    "        scores = model.evaluate(X[test],Y[test],verbose=0)\n",
    "        acc_per_fold.append(scores[1]*100)\n",
    "        loss_per_fold.append(scores[0])\n",
    "        y_probs = model.predict(X[test])\n",
    "        # Get predicted labels\n",
    "        yhat_probs = (y_probs > 0.5) \n",
    "        y_trues = Y[test]\n",
    "        # Accuracy \n",
    "        accuracy = accuracy_score(y_trues, yhat_probs) \n",
    "        # Precision \n",
    "        precision = precision_score(y_trues, yhat_probs) \n",
    "        # Recall \n",
    "        recall = recall_score(y_trues, yhat_probs) \n",
    "        # F1-Score \n",
    "        f1 = f1_score(y_trues, yhat_probs)\n",
    "        classification[\"Animal - Fold\"].append(f'{animal} - {fold_no}')\n",
    "        classification[\"Accuracy (animal, rest)\"].append(accuracy)\n",
    "        classification[\"Precision (animal, rest)\"].append(precision)\n",
    "        classification[\"Recall (animal, rest)\"].append(recall)\n",
    "        classification[\"F-1 Score (animal, rest)\"].append(f1)\n",
    "        gc.collect()\n",
    "        fold_no = fold_no+1\n",
    "df = pd.DataFrame(classification)\n",
    "df.to_csv(\"Classification_report_of_all_OvR_classes.csv\")"
   ]
  }
 ],
 "metadata": {
  "kernelspec": {
   "display_name": "Python 3 (ipykernel)",
   "language": "python",
   "name": "python3"
  },
  "language_info": {
   "codemirror_mode": {
    "name": "ipython",
    "version": 3
   },
   "file_extension": ".py",
   "mimetype": "text/x-python",
   "name": "python",
   "nbconvert_exporter": "python",
   "pygments_lexer": "ipython3",
   "version": "3.10.11"
  }
 },
 "nbformat": 4,
 "nbformat_minor": 5
}
