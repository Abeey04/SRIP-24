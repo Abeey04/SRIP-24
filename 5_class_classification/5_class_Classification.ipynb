{
 "cells": [
  {
   "cell_type": "code",
   "execution_count": 1,
   "id": "461696ab-a33c-4acf-b947-f70202b6a915",
   "metadata": {},
   "outputs": [],
   "source": [
    "import numpy as np\n",
    "import matplotlib.pyplot as plt\n",
    "import matplotlib.style as ms\n",
    "import librosa\n",
    "import librosa.display\n",
    "import IPython.display\n",
    "import os\n",
    "import cv2\n",
    "from os import listdir\n",
    "\n",
    "from sklearn.preprocessing import LabelEncoder\n",
    "from keras.models import Sequential\n",
    "from keras.layers import Conv2D, MaxPooling2D, Activation, Flatten, Dropout, Dense, BatchNormalization\n",
    "from keras import backend as K\n",
    "from keras.models import load_model\n",
    "from keras.models import Model\n",
    "from keras.utils import img_to_array, load_img\n",
    "from keras.utils import to_categorical\n",
    "import numpy as np\n",
    "import tensorflow as tf\n",
    "\n",
    "\n",
    "from sklearn.preprocessing import LabelBinarizer\n",
    "from sklearn.preprocessing import LabelEncoder\n",
    "from sklearn.preprocessing import OneHotEncoder\n",
    "from sklearn.model_selection import cross_val_score\n",
    "from sklearn.model_selection import KFold\n",
    "from sklearn.model_selection import train_test_split\n",
    "from sklearn.metrics import confusion_matrix, accuracy_score, precision_score, recall_score, f1_score, roc_curve, auc \n",
    "\n",
    "import matplotlib\n",
    "import gc\n",
    "matplotlib.use('Agg') # No pictures displayed \n",
    "import pandas as pd"
   ]
  },
  {
   "cell_type": "code",
   "execution_count": 2,
   "id": "16516b42-6cde-4644-8327-8aac7435812a",
   "metadata": {},
   "outputs": [],
   "source": [
    "train_path = r\"C:\\Users\\rudra\\OneDrive\\Desktop\\animals\\5_Class\"\n",
    "save_path = r\"C:\\Users\\rudra\\OneDrive\\Desktop\\animals\\5_Class\"\n",
    "classes = listdir(train_path)"
   ]
  },
  {
   "cell_type": "code",
   "execution_count": 3,
   "id": "a9f3163b-1f34-42c8-9a16-20f9a3ce6d65",
   "metadata": {},
   "outputs": [],
   "source": [
    "image_list, label_list = [] , []"
   ]
  },
  {
   "cell_type": "code",
   "execution_count": 4,
   "id": "ed4543ac-f405-48a6-a103-64cf19e79391",
   "metadata": {},
   "outputs": [
    {
     "name": "stdout",
     "output_type": "stream",
     "text": [
      "[INFO] Loading images ...\n",
      "[INFO] Processing Aerial ...\n",
      "[INFO] Processing Aquatic ...\n",
      "[INFO] Processing Arboreal ...\n",
      "[INFO] Processing Burrowing ...\n",
      "[INFO] Processing Terrestrial ...\n",
      "[INFO] image extract completed\n",
      "total train samples: \n",
      "5399\n"
     ]
    }
   ],
   "source": [
    "try:\n",
    "        print(\"[INFO] Loading images ...\")\n",
    "        image_folder_list = listdir(train_path)\n",
    "        for image_folder in image_folder_list:\n",
    "            print(f\"[INFO] Processing {image_folder} ...\")\n",
    "            images_list = listdir(f\"{train_path}/{image_folder}/\")\n",
    "            for samples in images_list[:]:\n",
    "                image_directory = f\"{train_path}/{image_folder}/{samples}\"\n",
    "                if image_directory.endswith(\".jpg\")==True or image_directory.endswith(\".JPG\")==True or image_directory.endswith(\".jpeg\")==True:  \n",
    "                    image_list.append(img_to_array(load_img(image_directory,target_size=(128,128))))\n",
    "                    label_list.append(image_folder)\n",
    "    \n",
    "        print(\"[INFO] image extract completed\")  \n",
    "        print(\"total train samples: \")\n",
    "        print(len(image_list))\n",
    "except Exception as e:\n",
    "    print(f\"Error : {e}\")"
   ]
  },
  {
   "cell_type": "code",
   "execution_count": 5,
   "id": "8681c0ba-8e31-4861-bc50-05e15b75ee86",
   "metadata": {},
   "outputs": [],
   "source": [
    "# # Convert features (X) and labels (y) to Numpy arrays\n",
    "X = np.array(image_list)/255\n",
    "y = np.array(label_list)\n",
    "image_list, label_list = [] , []"
   ]
  },
  {
   "cell_type": "code",
   "execution_count": 6,
   "id": "4b1e05c5-f386-4c90-a1b4-ed57ccf86885",
   "metadata": {},
   "outputs": [],
   "source": [
    "le = LabelEncoder()\n",
    "Y = to_categorical(le.fit_transform(y))"
   ]
  },
  {
   "cell_type": "code",
   "execution_count": 7,
   "id": "bb646eab-c0d3-452a-9772-110e7fe63c28",
   "metadata": {},
   "outputs": [
    {
     "name": "stdout",
     "output_type": "stream",
     "text": [
      "Total number of classes:  5\n"
     ]
    }
   ],
   "source": [
    "n_classes = len(le.classes_)\n",
    "print(\"Total number of classes: \", n_classes)"
   ]
  },
  {
   "cell_type": "code",
   "execution_count": 8,
   "id": "487c42da-b0bd-459e-925b-6e66cf6ee484",
   "metadata": {},
   "outputs": [
    {
     "name": "stdout",
     "output_type": "stream",
     "text": [
      "['Aerial', 'Aquatic', 'Arboreal', 'Burrowing', 'Terrestrial']\n"
     ]
    }
   ],
   "source": [
    "labels = classes\n",
    "print(labels)"
   ]
  },
  {
   "cell_type": "code",
   "execution_count": 9,
   "id": "9c557ca6-96bd-4633-a693-b42c34c79230",
   "metadata": {},
   "outputs": [],
   "source": [
    "def create_model():\n",
    "    num_rows = 128\n",
    "    num_columns = 128\n",
    "    num_channels = 3\n",
    "    inputShape = (num_rows, num_columns, num_channels)\n",
    "    chanDim = -1\n",
    "    LR = 1e-3\n",
    "    BATCH_SIZE = 32\n",
    "    if K.image_data_format() == \"channels_first\":\n",
    "        inputShape = (num_rows, num_columns, num_channels)\n",
    "        chanDim = 1\n",
    "\n",
    "    model = Sequential()\n",
    "    model.add(Conv2D(32, kernel_size=(3, 3), activation='relu', input_shape=inputShape))\n",
    "    model.add(BatchNormalization(axis=chanDim))\n",
    "    model.add(MaxPooling2D(pool_size=(2, 2)))\n",
    "    model.add(Dropout(0.25))\n",
    "    model.add(Conv2D(64, kernel_size=(3, 3), activation='relu'))\n",
    "    model.add(BatchNormalization(axis=chanDim))\n",
    "    model.add(MaxPooling2D(pool_size=(2, 2)))\n",
    "    model.add(Dropout(0.25))\n",
    "    model.add(Conv2D(128, kernel_size=(3, 3), activation='relu'))\n",
    "    model.add(BatchNormalization(axis=chanDim))\n",
    "    model.add(MaxPooling2D(pool_size=(2, 2)))\n",
    "    model.add(Dropout(0.25))\n",
    "    model.add(Flatten())\n",
    "    model.add(Dense(128, activation='relu'))\n",
    "    model.add(Dense(64, activation='relu'))\n",
    "    model.add(BatchNormalization())\n",
    "    model.add(Dense(len(classes), activation='softmax'))\n",
    "    model.compile(loss = 'categorical_crossentropy', optimizer = 'adam',metrics=[\"accuracy\"])\n",
    "    \n",
    "    return model"
   ]
  },
  {
   "cell_type": "code",
   "execution_count": 10,
   "id": "bab2d63a-a0ef-4475-8135-983f2e9ac29c",
   "metadata": {},
   "outputs": [],
   "source": [
    "from sklearn.metrics import classification_report, precision_recall_fscore_support, confusion_matrix\n",
    "\n",
    "def compute_confusion_matrix(y_true, y_pred,normalize=False):\n",
    "    # Compute confusion matrix\n",
    "    cm = confusion_matrix(y_true, y_pred)\n",
    "    if normalize:\n",
    "        cm = cm.astype('float') / cm.sum(axis=1)[:, np.newaxis]\n",
    "    return cm"
   ]
  },
  {
   "cell_type": "code",
   "execution_count": 11,
   "id": "c1414168-dd09-41f0-9980-3eb93c48440a",
   "metadata": {},
   "outputs": [],
   "source": [
    "def plot_confusion_matrix(cm,\n",
    "                          classes, \n",
    "                          normalized=False, \n",
    "                          title=None, \n",
    "                          cmap=plt.cm.Blues,\n",
    "                          size=(10,10)):\n",
    "    fig, ax = plt.subplots(figsize=size)\n",
    "    im = ax.imshow(cm, interpolation='nearest', cmap=cmap)\n",
    "    ax.figure.colorbar(im, ax=ax)\n",
    "\n",
    "    # We want to show all ticks...\n",
    "    ax.set(xticks=np.arange(cm.shape[1]),\n",
    "           yticks=np.arange(cm.shape[0]),\n",
    "           # ... and label them with the respective list entries\n",
    "           xticklabels=classes, yticklabels=classes,\n",
    "           title=title,\n",
    "           ylabel='True label',\n",
    "           xlabel='Predicted label')\n",
    "\n",
    "    # Rotate the tick labels and set their alignment.\n",
    "    plt.setp(ax.get_xticklabels(), rotation=45, ha=\"right\",\n",
    "             rotation_mode=\"anchor\")\n",
    "\n",
    "    # Loop over data dimensions and create text annotations.\n",
    "    fmt = '.2f' if normalized else 'd'\n",
    "    thresh = cm.max() / 2.\n",
    "    for i in range(cm.shape[0]):\n",
    "        for j in range(cm.shape[1]):\n",
    "            ax.text(j, i, format(cm[i, j], fmt),\n",
    "                    ha=\"center\", va=\"center\",\n",
    "                    color=\"white\" if cm[i, j] > thresh else \"black\")\n",
    "\n",
    "    fig.tight_layout()\n",
    "    plt.show()"
   ]
  },
  {
   "cell_type": "code",
   "execution_count": 12,
   "id": "97464e47-a747-464a-b279-e2730d7d1982",
   "metadata": {},
   "outputs": [],
   "source": [
    "def acc_per_class(np_probs_array):    \n",
    "    accs = []\n",
    "    for idx in range(0, np_probs_array.shape[0]):\n",
    "        correct = np_probs_array[idx][idx].astype(int)\n",
    "        total = np_probs_array[idx].sum().astype(int)\n",
    "        acc = (correct / total) * 100\n",
    "        accs.append(acc)\n",
    "    return accs"
   ]
  },
  {
   "cell_type": "code",
   "execution_count": 13,
   "id": "8acdc265-833a-4f13-89b9-8255d225a905",
   "metadata": {},
   "outputs": [],
   "source": [
    "def visualize_conv_layers(model, img):\n",
    "    layer_outputs = [layer.output for layer in model.layers if isinstance(layer, Conv2D)]\n",
    "    activation_model = Model(inputs=model.input, outputs=layer_outputs)\n",
    "    activations = activation_model.predict(np.expand_dims(img, axis=0))\n",
    "    layer = 1\n",
    "    for layer_activation in activations:\n",
    "        n_features = layer_activation.shape[-1]\n",
    "        size = layer_activation.shape[1]\n",
    "        n_cols = n_features // 16\n",
    "        display_grid = np.zeros((size * n_cols, 16 * size))\n",
    "        for col in range(n_cols):\n",
    "            for row in range(16):\n",
    "                channel_image = layer_activation[0, :, :, col * 16 + row]\n",
    "                channel_image -= channel_image.mean()\n",
    "                channel_image /= channel_image.std()\n",
    "                channel_image *= 64\n",
    "                channel_image += 128\n",
    "                channel_image = np.clip(channel_image, 0, 255).astype('uint8')\n",
    "                display_grid[col * size : (col + 1) * size, row * size : (row + 1) * size] = channel_image\n",
    "        scale = 1. / size\n",
    "        plt.figure(figsize=(scale * display_grid.shape[1], scale * display_grid.shape[0]))\n",
    "        plt.title(f'Conv Layer {layer}')\n",
    "        plt.grid(False)\n",
    "        plt.imshow(display_grid, aspect='auto', cmap='viridis')\n",
    "        layer = layer + 1 "
   ]
  },
  {
   "cell_type": "code",
   "execution_count": 17,
   "id": "6365425d-e1c0-41ba-9bb5-9f176dfe2cc4",
   "metadata": {},
   "outputs": [
    {
     "name": "stdout",
     "output_type": "stream",
     "text": [
      "[INFO] Training network fold 1...\n",
      "Epoch 1/20\n",
      "112/112 [==============================] - 7s 50ms/step - loss: 1.4624 - accuracy: 0.3954\n",
      "Epoch 2/20\n",
      "112/112 [==============================] - 5s 49ms/step - loss: 1.3660 - accuracy: 0.4424\n",
      "Epoch 3/20\n",
      "112/112 [==============================] - 5s 48ms/step - loss: 1.2643 - accuracy: 0.4900\n",
      "Epoch 4/20\n",
      "112/112 [==============================] - 5s 48ms/step - loss: 1.1883 - accuracy: 0.5200\n",
      "Epoch 5/20\n",
      "112/112 [==============================] - 5s 48ms/step - loss: 1.0458 - accuracy: 0.5997\n",
      "Epoch 6/20\n",
      "112/112 [==============================] - 5s 48ms/step - loss: 0.8485 - accuracy: 0.6801\n",
      "Epoch 7/20\n",
      "112/112 [==============================] - 5s 49ms/step - loss: 0.6369 - accuracy: 0.7710\n",
      "Epoch 8/20\n",
      "112/112 [==============================] - 5s 49ms/step - loss: 0.4753 - accuracy: 0.8315\n",
      "Epoch 9/20\n",
      "112/112 [==============================] - 5s 49ms/step - loss: 0.3083 - accuracy: 0.9008\n",
      "Epoch 10/20\n",
      "112/112 [==============================] - 5s 48ms/step - loss: 0.4030 - accuracy: 0.8638\n",
      "Epoch 11/20\n",
      "112/112 [==============================] - 5s 49ms/step - loss: 0.2186 - accuracy: 0.9338\n",
      "Epoch 12/20\n",
      "112/112 [==============================] - 5s 48ms/step - loss: 0.1120 - accuracy: 0.9697\n",
      "Epoch 13/20\n",
      "112/112 [==============================] - 5s 48ms/step - loss: 0.0909 - accuracy: 0.9748\n",
      "Epoch 14/20\n",
      "112/112 [==============================] - 5s 48ms/step - loss: 0.0669 - accuracy: 0.9832\n",
      "Epoch 15/20\n",
      "112/112 [==============================] - 5s 48ms/step - loss: 0.0569 - accuracy: 0.9846\n",
      "Epoch 16/20\n",
      "112/112 [==============================] - 5s 49ms/step - loss: 0.0297 - accuracy: 0.9947\n",
      "Epoch 17/20\n",
      "112/112 [==============================] - 5s 48ms/step - loss: 0.0529 - accuracy: 0.9851\n",
      "Epoch 18/20\n",
      "112/112 [==============================] - 5s 49ms/step - loss: 0.0509 - accuracy: 0.9849\n",
      "Epoch 19/20\n",
      "112/112 [==============================] - 5s 48ms/step - loss: 0.0451 - accuracy: 0.9885\n",
      "Epoch 20/20\n",
      "112/112 [==============================] - 5s 49ms/step - loss: 0.0540 - accuracy: 0.9849\n",
      "[INFO] Saving Model fold 1 ...\n",
      "57/57 [==============================] - 1s 12ms/step\n"
     ]
    },
    {
     "name": "stderr",
     "output_type": "stream",
     "text": [
      "C:\\Users\\rudra\\AppData\\Local\\Temp\\ipykernel_2824\\3249705492.py:34: UserWarning: FigureCanvasAgg is non-interactive, and thus cannot be shown\n",
      "  plt.show()\n"
     ]
    },
    {
     "name": "stdout",
     "output_type": "stream",
     "text": [
      "              precision    recall  f1-score   support\n",
      "\n",
      "      Aerial       0.68      0.54      0.60       358\n",
      "     Aquatic       0.75      0.65      0.70       334\n",
      "    Arboreal       0.52      0.48      0.50       291\n",
      "   Burrowing       0.39      0.54      0.45       254\n",
      " Terrestrial       0.64      0.68      0.66       563\n",
      "\n",
      "    accuracy                           0.59      1800\n",
      "   macro avg       0.59      0.58      0.58      1800\n",
      "weighted avg       0.61      0.59      0.60      1800\n",
      "\n",
      "[INFO] Training network fold 2...\n",
      "Epoch 1/20\n",
      "112/112 [==============================] - 7s 50ms/step - loss: 1.4945 - accuracy: 0.3730\n",
      "Epoch 2/20\n",
      "112/112 [==============================] - 6s 50ms/step - loss: 1.4017 - accuracy: 0.4177\n",
      "Epoch 3/20\n",
      "112/112 [==============================] - 6s 49ms/step - loss: 1.2627 - accuracy: 0.4912\n",
      "Epoch 4/20\n",
      "112/112 [==============================] - 6s 50ms/step - loss: 1.1306 - accuracy: 0.5618\n",
      "Epoch 5/20\n",
      "112/112 [==============================] - 6s 49ms/step - loss: 0.9808 - accuracy: 0.6140\n",
      "Epoch 6/20\n",
      "112/112 [==============================] - 6s 50ms/step - loss: 0.8145 - accuracy: 0.6964\n",
      "Epoch 7/20\n",
      "112/112 [==============================] - 6s 50ms/step - loss: 0.6496 - accuracy: 0.7710\n",
      "Epoch 8/20\n",
      "112/112 [==============================] - 6s 49ms/step - loss: 0.4710 - accuracy: 0.8419\n",
      "Epoch 9/20\n",
      "112/112 [==============================] - 5s 49ms/step - loss: 0.3155 - accuracy: 0.8909\n",
      "Epoch 10/20\n",
      "112/112 [==============================] - 6s 49ms/step - loss: 0.2684 - accuracy: 0.9103\n",
      "Epoch 11/20\n",
      "112/112 [==============================] - 6s 50ms/step - loss: 0.1712 - accuracy: 0.9439\n",
      "Epoch 12/20\n",
      "112/112 [==============================] - 6s 50ms/step - loss: 0.1202 - accuracy: 0.9624\n",
      "Epoch 13/20\n",
      "112/112 [==============================] - 6s 50ms/step - loss: 0.1041 - accuracy: 0.9700\n",
      "Epoch 14/20\n",
      "112/112 [==============================] - 6s 50ms/step - loss: 0.0940 - accuracy: 0.9745\n",
      "Epoch 15/20\n",
      "112/112 [==============================] - 6s 49ms/step - loss: 0.0967 - accuracy: 0.9678\n",
      "Epoch 16/20\n",
      "112/112 [==============================] - 6s 50ms/step - loss: 0.1131 - accuracy: 0.9627\n",
      "Epoch 17/20\n",
      "112/112 [==============================] - 6s 50ms/step - loss: 0.0702 - accuracy: 0.9773\n",
      "Epoch 18/20\n",
      "112/112 [==============================] - 6s 49ms/step - loss: 0.0563 - accuracy: 0.9823\n",
      "Epoch 19/20\n",
      "112/112 [==============================] - 5s 49ms/step - loss: 0.0456 - accuracy: 0.9871\n",
      "Epoch 20/20\n",
      "112/112 [==============================] - 6s 50ms/step - loss: 0.0394 - accuracy: 0.9882\n",
      "[INFO] Saving Model fold 2 ...\n",
      "57/57 [==============================] - 1s 12ms/step\n"
     ]
    },
    {
     "name": "stderr",
     "output_type": "stream",
     "text": [
      "C:\\Users\\rudra\\AppData\\Local\\Temp\\ipykernel_2824\\3249705492.py:34: UserWarning: FigureCanvasAgg is non-interactive, and thus cannot be shown\n",
      "  plt.show()\n"
     ]
    },
    {
     "name": "stdout",
     "output_type": "stream",
     "text": [
      "              precision    recall  f1-score   support\n",
      "\n",
      "      Aerial       0.53      0.57      0.55       315\n",
      "     Aquatic       0.59      0.62      0.61       364\n",
      "    Arboreal       0.55      0.42      0.48       303\n",
      "   Burrowing       0.48      0.52      0.50       257\n",
      " Terrestrial       0.65      0.67      0.66       561\n",
      "\n",
      "    accuracy                           0.58      1800\n",
      "   macro avg       0.56      0.56      0.56      1800\n",
      "weighted avg       0.58      0.58      0.58      1800\n",
      "\n",
      "[INFO] Training network fold 3...\n",
      "Epoch 1/20\n",
      "112/112 [==============================] - 6s 49ms/step - loss: 1.4725 - accuracy: 0.3898\n",
      "Epoch 2/20\n",
      "112/112 [==============================] - 6s 49ms/step - loss: 1.2940 - accuracy: 0.4709\n",
      "Epoch 3/20\n",
      "112/112 [==============================] - 5s 49ms/step - loss: 1.2078 - accuracy: 0.5221\n",
      "Epoch 4/20\n",
      "112/112 [==============================] - 5s 49ms/step - loss: 1.1099 - accuracy: 0.5667\n",
      "Epoch 5/20\n",
      "112/112 [==============================] - 6s 49ms/step - loss: 0.9709 - accuracy: 0.6351\n",
      "Epoch 6/20\n",
      "112/112 [==============================] - 6s 49ms/step - loss: 0.7702 - accuracy: 0.7021\n",
      "Epoch 7/20\n",
      "112/112 [==============================] - 5s 49ms/step - loss: 0.5971 - accuracy: 0.7873\n",
      "Epoch 8/20\n",
      "112/112 [==============================] - 6s 50ms/step - loss: 0.3612 - accuracy: 0.8795\n",
      "Epoch 9/20\n",
      "112/112 [==============================] - 6s 50ms/step - loss: 0.2609 - accuracy: 0.9204\n",
      "Epoch 10/20\n",
      "112/112 [==============================] - 6s 49ms/step - loss: 0.1671 - accuracy: 0.9465\n",
      "Epoch 11/20\n",
      "112/112 [==============================] - 6s 50ms/step - loss: 0.1140 - accuracy: 0.9686\n",
      "Epoch 12/20\n",
      "112/112 [==============================] - 6s 49ms/step - loss: 0.1038 - accuracy: 0.9686\n",
      "Epoch 13/20\n",
      "112/112 [==============================] - 5s 49ms/step - loss: 0.1197 - accuracy: 0.9619\n",
      "Epoch 14/20\n",
      "112/112 [==============================] - 5s 49ms/step - loss: 0.1015 - accuracy: 0.9689\n",
      "Epoch 15/20\n",
      "112/112 [==============================] - 6s 49ms/step - loss: 0.0639 - accuracy: 0.9823\n",
      "Epoch 16/20\n",
      "112/112 [==============================] - 6s 49ms/step - loss: 0.0375 - accuracy: 0.9916\n",
      "Epoch 17/20\n",
      "112/112 [==============================] - 6s 50ms/step - loss: 0.0581 - accuracy: 0.9815\n",
      "Epoch 18/20\n",
      "112/112 [==============================] - 6s 49ms/step - loss: 0.0470 - accuracy: 0.9879\n",
      "Epoch 19/20\n",
      "112/112 [==============================] - 6s 50ms/step - loss: 0.0579 - accuracy: 0.9823\n",
      "Epoch 20/20\n",
      "112/112 [==============================] - 6s 49ms/step - loss: 0.0656 - accuracy: 0.9790\n",
      "[INFO] Saving Model fold 3 ...\n",
      "57/57 [==============================] - 1s 12ms/step\n"
     ]
    },
    {
     "name": "stderr",
     "output_type": "stream",
     "text": [
      "C:\\Users\\rudra\\AppData\\Local\\Temp\\ipykernel_2824\\3249705492.py:34: UserWarning: FigureCanvasAgg is non-interactive, and thus cannot be shown\n",
      "  plt.show()\n"
     ]
    },
    {
     "name": "stdout",
     "output_type": "stream",
     "text": [
      "              precision    recall  f1-score   support\n",
      "\n",
      "      Aerial       0.68      0.38      0.49       347\n",
      "     Aquatic       0.54      0.60      0.57       322\n",
      "    Arboreal       0.53      0.45      0.49       306\n",
      "   Burrowing       0.47      0.59      0.52       268\n",
      " Terrestrial       0.60      0.71      0.65       556\n",
      "\n",
      "    accuracy                           0.57      1799\n",
      "   macro avg       0.57      0.55      0.54      1799\n",
      "weighted avg       0.58      0.57      0.56      1799\n",
      "\n"
     ]
    }
   ],
   "source": [
    "classification = {f\"Fold\":[], \n",
    "                  f\"Accuracy\": [], \n",
    "                  f\"Precision\": [],\n",
    "                    f\"Recall\": [],\n",
    "                    f\"F-1 Score\": []}\n",
    "cv = KFold(n_splits = 3, shuffle=True, random_state=42)\n",
    "fold_no = 1\n",
    "acc_per_fold = []\n",
    "loss_per_fold = []\n",
    "EPOCHS =20\n",
    "BATCH_SIZE = 32\n",
    "gc.collect()\n",
    "for train,test in cv.split(X,Y):\n",
    "    model = create_model()\n",
    "    print(f\"[INFO] Training network fold {fold_no}...\")\n",
    "    history = model.fit(X[train],Y[train], batch_size=BATCH_SIZE,\n",
    "                                  steps_per_epoch=len(X[train]) // BATCH_SIZE,\n",
    "                                  epochs=EPOCHS, \n",
    "                                  verbose=1)\n",
    "    gc.collect()\n",
    "    print(f\"[INFO] Saving Model fold {fold_no} ...\")\n",
    "    model.save(f\"{save_path}/model_5_class_fold\"+str(fold_no)+\".h5\")\n",
    "    scores = model.evaluate(X[test],Y[test],verbose=0)\n",
    "    acc_per_fold.append(scores[1]*100)\n",
    "    loss_per_fold.append(scores[0])\n",
    "    y_probs = model.predict(X[test])\n",
    "    # Get predicted labels\n",
    "    # yhat_probs = list(map(lambda x: 0 if (x<0.5) else 1,y_probs))\n",
    "    yhat_probs = np.argmax(y_probs, axis=1)\n",
    "    y_trues = y_trues = np.argmax(Y[test], axis=1)\n",
    "    cm = confusion_matrix(y_trues, yhat_probs)\n",
    "    plt.axis('off') # no axis\n",
    "    # pylab.axes([0., 0., 1., 1.], frameon=False, xticks=[], yticks=[]) # Remove the white edge\n",
    "    plot_confusion_matrix(cm,\n",
    "                              labels, \n",
    "                              normalized=False, \n",
    "                              title=f\"Model Performance of 5_class fold: {fold_no}\", \n",
    "                              cmap=plt.cm.Blues,\n",
    "                              size=(12,12))\n",
    "    plt.savefig(f'{save_path}/Model Performance of 5_class fold {fold_no}.jpg', bbox_inches=None, pad_inches=0)\n",
    "    matplotlib.pyplot.close()\n",
    "    gc.collect()\n",
    "    # Accuracy \n",
    "    accuracy = accuracy_score(y_trues, yhat_probs) \n",
    "    # Precision \n",
    "    precision = precision_score(y_trues, yhat_probs,average=None) \n",
    "    # Recall \n",
    "    recall = recall_score(y_trues, yhat_probs,average=None) \n",
    "    # F1-Score \n",
    "    f1 = f1_score(y_trues, yhat_probs,average=None)\n",
    "    classification[\"Fold\"].append(f'fold - {fold_no}')\n",
    "    classification[\"Accuracy\"].append(accuracy)\n",
    "    classification[\"Precision\"].append(precision)\n",
    "    classification[\"Recall\"].append(recall)\n",
    "    classification[\"F-1 Score\"].append(f1)\n",
    "    accuracies = acc_per_class(cm)\n",
    "    pd.DataFrame({\n",
    "        'CLASS': labels,\n",
    "        'ACCURACY': accuracies\n",
    "    }).sort_values(by=\"ACCURACY\", ascending=False)\n",
    "    re = classification_report(y_trues, yhat_probs, labels=[0,1,2,3,4], target_names=labels)\n",
    "    print(re)\n",
    "    fold_no = fold_no+1"
   ]
  },
  {
   "cell_type": "code",
   "execution_count": 18,
   "id": "ac1144b2-371e-49e3-8d3c-2930f3c3afdb",
   "metadata": {},
   "outputs": [],
   "source": [
    "df = pd.DataFrame(classification)\n",
    "df.to_csv(\"Classification_report_of_5_class_classification.csv\")"
   ]
  },
  {
   "cell_type": "code",
   "execution_count": 19,
   "id": "297b5afb-de31-48cb-8b45-8d14bd08df8d",
   "metadata": {},
   "outputs": [
    {
     "data": {
      "text/plain": [
       "[59.50000286102295, 57.833331823349, 56.531405448913574]"
      ]
     },
     "execution_count": 19,
     "metadata": {},
     "output_type": "execute_result"
    }
   ],
   "source": [
    "acc_per_fold"
   ]
  },
  {
   "cell_type": "code",
   "execution_count": 20,
   "id": "3a817f3f-57c0-4a5f-89de-9f74256920e1",
   "metadata": {},
   "outputs": [
    {
     "data": {
      "text/plain": [
       "[1.9017354249954224, 1.7930946350097656, 2.206712007522583]"
      ]
     },
     "execution_count": 20,
     "metadata": {},
     "output_type": "execute_result"
    }
   ],
   "source": [
    "loss_per_fold"
   ]
  },
  {
   "cell_type": "code",
   "execution_count": null,
   "id": "e95c4eb2-dbf3-4ff2-8860-18c7f67f5a8c",
   "metadata": {},
   "outputs": [],
   "source": []
  }
 ],
 "metadata": {
  "kernelspec": {
   "display_name": "Python 3 (ipykernel)",
   "language": "python",
   "name": "python3"
  },
  "language_info": {
   "codemirror_mode": {
    "name": "ipython",
    "version": 3
   },
   "file_extension": ".py",
   "mimetype": "text/x-python",
   "name": "python",
   "nbconvert_exporter": "python",
   "pygments_lexer": "ipython3",
   "version": "3.10.11"
  }
 },
 "nbformat": 4,
 "nbformat_minor": 5
}
