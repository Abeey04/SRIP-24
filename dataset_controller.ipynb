{
 "cells": [
  {
   "cell_type": "markdown",
   "id": "d7d8f64b-c001-44c5-be2c-ebd43fd9c7e4",
   "metadata": {},
   "source": [
    "### Importing Libraries"
   ]
  },
  {
   "cell_type": "code",
   "execution_count": 3,
   "id": "04166394-fbfc-4283-8d94-7f45318e99c6",
   "metadata": {},
   "outputs": [],
   "source": [
    "import os \n",
    "from os import listdir \n",
    "import shutil\n",
    "import numpy as np\n",
    "from keras.preprocessing.image import ImageDataGenerator\n",
    "from keras.utils import img_to_array, load_img"
   ]
  },
  {
   "cell_type": "markdown",
   "id": "aa64f2ef-57d7-4f0f-b125-3fd6a8a8d8aa",
   "metadata": {},
   "source": [
    "## Organizing Dataset for One vs Rest Classification"
   ]
  },
  {
   "cell_type": "markdown",
   "id": "464c754a-51dc-4579-84ca-e1e79ea452aa",
   "metadata": {},
   "source": [
    "### Defining Paths\n",
    "#### Here, I have already downloaded the dataset from the link provided. Hence, defining the paths to file stored on my system."
   ]
  },
  {
   "cell_type": "code",
   "execution_count": 2,
   "id": "e1aa4ee9-c3cc-4518-a941-d3907a8b42a5",
   "metadata": {},
   "outputs": [],
   "source": [
    "path = r\"C:\\Users\\rudra\\OneDrive\\Desktop\\animals\\animals\"\n",
    "save = r\"C:\\Users\\rudra\\OneDrive\\Desktop\\animals\\OvR3\""
   ]
  },
  {
   "cell_type": "markdown",
   "id": "c40e895b-0963-4a2a-9079-2eb408a6b781",
   "metadata": {},
   "source": [
    "#### listing the 90 classes provided from the dataset"
   ]
  },
  {
   "cell_type": "code",
   "execution_count": 3,
   "id": "e6020628-1ccf-4def-bf64-0f2d04602f94",
   "metadata": {},
   "outputs": [
    {
     "name": "stdout",
     "output_type": "stream",
     "text": [
      "['antelope', 'badger', 'bat', 'bear', 'bee', 'beetle', 'bison', 'boar', 'butterfly', 'cat', 'caterpillar', 'chimpanzee', 'cockroach', 'cow', 'coyote', 'crab', 'crow', 'deer', 'dog', 'dolphin', 'donkey', 'dragonfly', 'duck', 'eagle', 'elephant', 'flamingo', 'fly', 'fox', 'goat', 'goldfish', 'goose', 'gorilla', 'grasshopper', 'hamster', 'hare', 'hedgehog', 'hippopotamus', 'hornbill', 'horse', 'hummingbird', 'hyena', 'jellyfish', 'kangaroo', 'koala', 'ladybugs', 'leopard', 'lion', 'lizard', 'lobster', 'mosquito', 'moth', 'mouse', 'octopus', 'okapi', 'orangutan', 'otter', 'owl', 'ox', 'oyster', 'panda', 'parrot', 'pelecaniformes', 'penguin', 'pig', 'pigeon', 'porcupine', 'possum', 'raccoon', 'rat', 'reindeer', 'rhinoceros', 'sandpiper', 'seahorse', 'seal', 'shark', 'sheep', 'snake', 'sparrow', 'squid', 'squirrel', 'starfish', 'swan', 'tiger', 'turkey', 'turtle', 'whale', 'wolf', 'wombat', 'woodpecker', 'zebra']\n",
      "number of classes: 90\n"
     ]
    }
   ],
   "source": [
    "animals = listdir(path)\n",
    "print(animals)\n",
    "print(\"number of classes:\",len(animals))"
   ]
  },
  {
   "cell_type": "markdown",
   "id": "b04561bc-c20d-4aaa-a3b2-c1b4feff4d7b",
   "metadata": {},
   "source": [
    "### Initializing preprocessing using Keras\n",
    "#### The augmented samples were generated with the help of ImageDataGenerator provided by keras.preprocessing library"
   ]
  },
  {
   "cell_type": "code",
   "execution_count": 5,
   "id": "df10c6ee-6769-4cfd-909d-f67dca9e4f00",
   "metadata": {},
   "outputs": [],
   "source": [
    "datagen = ImageDataGenerator(\n",
    "        rotation_range=40,\n",
    "        zoom_range=0.2,\n",
    "        horizontal_flip=True,\n",
    "        fill_mode='nearest') "
   ]
  },
  {
   "cell_type": "markdown",
   "id": "daa24899-4f09-4237-ae23-2ac99c0e93ac",
   "metadata": {},
   "source": [
    "### Loading the images and Augmenting the samples of required Class\n",
    "The task required Image Augmentation like Rotation, Zoom and Horizontal_flip due to the reason of sample scarcity which leads to class imbalance in the Primary class of One vs Rest classification. If performed OvR classification without image augmentation the sample ratio in the Primary class and the Other(rest) class would not be a viable training dataset. For example, if considering OvR classification on the class 'antelope', the class 'antelope' would contain 60 image samples originally, where as the 'rest' class would contain about 5340 image samples which ultimately would create an class imbalance. \n",
    "\n",
    "Hence, to solve the problem of class imbalance, I augmented the samples of Primary class 30 times. i.e For every sample we create 30 different augmented sample, this artificially increases the samples approximately to 1800. At the same time, we select 20 samples from each remaining class so that we have somewhat equal amount of training samples in both the 'Primary' and 'rest' class."
   ]
  },
  {
   "cell_type": "code",
   "execution_count": 7,
   "id": "26af0bc5-952b-4878-a2df-d245e60dc123",
   "metadata": {},
   "outputs": [],
   "source": [
    "print(\"[INFO] Loading images ...\")\n",
    "rest = \"rest\"\n",
    "for animal in animals:\n",
    "    os.makedirs(os.path.join(save, animal, animal))\n",
    "    os.makedirs(os.path.join(save, animal, rest))\n",
    "    image_folder_list = animals\n",
    "    print(f\"[INFO] Processing {animal} ...\")\n",
    "    for image_folder in image_folder_list:\n",
    "            image_list = listdir(f\"{path}/{image_folder}/\")\n",
    "            if image_folder == animal:\n",
    "                for samples in image_list[:]:\n",
    "                    image_directory = f\"{path}/{image_folder}/{samples}\"\n",
    "                    if (image_directory.endswith(\".JPG\")==True or image_directory.endswith(\".jpg\")==True):\n",
    "                        source = image_directory\n",
    "                        target = f\"{save}/{image_folder}/{image_folder}\"\n",
    "                        img = load_img(image_directory)\n",
    "                        x = img_to_array(img)  \n",
    "                        x = np.expand_dims(x, axis=0)  \n",
    "                        i = 0\n",
    "                        # generate new augmented images \n",
    "                        for batch in datagen.flow(x, batch_size = 1, \n",
    "                                          save_to_dir =target, save_format ='jpeg'):\n",
    "                            i += 1\n",
    "                            if i >= 30: \n",
    "                                break\n",
    "            elif image_folder != animal:\n",
    "                for samples in image_list[:20]:\n",
    "                    image_directory = f\"{path}/{image_folder}/{samples}\"\n",
    "                    if (image_directory.endswith(\".JPG\")==True or image_directory.endswith(\".jpg\")==True):\n",
    "                        source = image_directory\n",
    "                        target = f\"{save}/{animal}/{rest}/{samples}\"\n",
    "                        shutil.copyfile(source, target)                "
   ]
  },
  {
   "cell_type": "markdown",
   "id": "9383d462-8f4a-4ce1-a591-2657ca2c9c4d",
   "metadata": {},
   "source": [
    "## Organizing Dataset for 5-Class Classification"
   ]
  },
  {
   "cell_type": "markdown",
   "id": "9ec93dd3-2e2e-4a05-8242-b8044055759b",
   "metadata": {},
   "source": [
    "### Defining Paths"
   ]
  },
  {
   "cell_type": "code",
   "execution_count": 4,
   "id": "6d12a313-1de3-440b-908b-0ade63f2963c",
   "metadata": {},
   "outputs": [],
   "source": [
    "path = r\"C:\\Users\\rudra\\OneDrive\\Desktop\\animals\\animals\"\n",
    "save = r\"C:\\Users\\rudra\\OneDrive\\Desktop\\animals\\5_Class\""
   ]
  },
  {
   "cell_type": "markdown",
   "id": "96da9d8a-19be-4f69-9453-c3ad1625f3bb",
   "metadata": {},
   "source": [
    "### Defining Classification Schema for condensing and organizing 90 different classes into 5 classes\n",
    "Here, the 90 different animals were classified into 5 classes, where each class reflecting a different ecological niche like Terrestrial, Aquatic, Aerial, Arboreal and Burrowing.\n"
   ]
  },
  {
   "cell_type": "code",
   "execution_count": 5,
   "id": "d630b368-fbd9-46ee-a9c5-c4800ac3ece4",
   "metadata": {},
   "outputs": [],
   "source": [
    "Terrestrial  = ['antelope','bear', 'cat', 'cow','deer', 'dog', 'bison', 'boar', 'cockroach', 'donkey', 'elephant', 'goat'\n",
    "               , 'hippopotamus', 'horse', 'hyena', 'kangaroo', 'leopard', 'lion', 'okapi', 'ox', 'penguin'\n",
    "               , 'pig', 'reindeer', 'rhinoceros', 'sheep', 'tiger', 'wolf', 'zebra']\n",
    "\n",
    "Aquatic = ['dolphin', 'crab', 'goldfish','duck', 'jellyfish', 'lobster', 'octopus', 'otter',\n",
    "           'oyster', 'seahorse', 'seal', 'shark', 'squid', 'starfish', 'swan','whale', 'turtle']\n",
    "\n",
    "Aerial  = ['crow', 'eagle', 'flamingo', 'fly','goose','hornbill', 'hummingbird', 'mosquito',\n",
    "           'moth', 'owl', 'parrot', 'pelecaniformes', 'pigeon','sandpiper', 'sparrow', 'turkey', 'woodpecker']\n",
    "\n",
    "Arboreal = ['bat', 'chimpanzee','bee', 'beetle','butterfly','caterpillar', 'dragonfly', \n",
    "            'gorilla', 'grasshopper','koala', 'ladybugs', 'orangutan', 'panda', 'squirrel','lizard']\n",
    "\n",
    "Burrowing = ['badger', 'coyote', 'fox', 'hamster', 'hare', 'hedgehog', 'mouse','porcupine',\n",
    "             'possum', 'raccoon', 'rat', 'wombat', 'snake']\n",
    "\n",
    "classes = [Terrestrial, Aquatic, Aerial, Arboreal, Burrowing]\n",
    "class_name = ['Terrestrial', 'Aquatic', 'Aerial', 'Arboreal', 'Burrowing']"
   ]
  },
  {
   "cell_type": "code",
   "execution_count": 6,
   "id": "a16e1043-ed1e-4e4a-a53c-6375420b424c",
   "metadata": {},
   "outputs": [
    {
     "name": "stdout",
     "output_type": "stream",
     "text": [
      "[INFO] Loading images ...\n",
      "[INFO] Processing Terrestrial ...\n",
      "[INFO] Processing Aquatic ...\n",
      "[INFO] Processing Aerial ...\n",
      "[INFO] Processing Arboreal ...\n",
      "[INFO] Processing Burrowing ...\n"
     ]
    }
   ],
   "source": [
    "print(\"[INFO] Loading images ...\")\n",
    "i=0\n",
    "for Class in classes:\n",
    "    os.makedirs(os.path.join(save, f\"{class_name[i]}\"))\n",
    "    image_folder_list = listdir(path)\n",
    "    print(f\"[INFO] Processing {class_name[i]} ...\")\n",
    "    for image_folder in image_folder_list:\n",
    "        image_list = listdir(f\"{path}/{image_folder}/\")\n",
    "        if image_folder in Class:\n",
    "            for samples in image_list[:]:\n",
    "                image_directory = f\"{path}/{image_folder}/{samples}\"\n",
    "                if (image_directory.endswith(\".JPG\")==True or image_directory.endswith(\".jpg\")==True or image_directory.endswith(\".jpeg\")==True):\n",
    "                    source = image_directory\n",
    "                    target = f\"{save}/{class_name[i]}/{samples}\"\n",
    "                    shutil.copyfile(source, target)\n",
    "    i = i+1"
   ]
  }
 ],
 "metadata": {
  "kernelspec": {
   "display_name": "Python 3 (ipykernel)",
   "language": "python",
   "name": "python3"
  },
  "language_info": {
   "codemirror_mode": {
    "name": "ipython",
    "version": 3
   },
   "file_extension": ".py",
   "mimetype": "text/x-python",
   "name": "python",
   "nbconvert_exporter": "python",
   "pygments_lexer": "ipython3",
   "version": "3.10.11"
  }
 },
 "nbformat": 4,
 "nbformat_minor": 5
}
